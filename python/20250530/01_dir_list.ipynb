{
 "cells": [
  {
   "cell_type": "markdown",
   "id": "2e704fb4",
   "metadata": {},
   "source": [
    "### 특정 경로에 있는 파일의 목록을 확인\n",
    "1. 일반적으로 경로를 설정하고 파일의 이름을 지정하는 방법\n",
    "    - 상대경로\n",
    "    - 절대경로\n",
    "2. 특정 경로에 존재하는 파일의 목록을 확인해서 read_xxx함수를 이용\n",
    "    - os 라이브러리를 이용하는 방법 \n",
    "    - glob 라이브러리를 이용하는 방법\n",
    "3. 파일을 목록이 정상적으로 불러와진다면 반복문을 이용하여 여러개의 파일을 로드 "
   ]
  },
  {
   "cell_type": "code",
   "execution_count": null,
   "id": "e3fdf554",
   "metadata": {},
   "outputs": [],
   "source": [
    "import os\n",
    "from glob import glob\n",
    "import pandas as pd"
   ]
  },
  {
   "cell_type": "code",
   "execution_count": null,
   "id": "52618465",
   "metadata": {},
   "outputs": [],
   "source": [
    "# os 라이브러리 이용해서 특정 경로에 존재하는 파일의 목록 \n",
    "# dir -> 현재 경로의 파일의 목록을 불러오는 명령어 \n",
    "# list -> 1차원 리스트 데이터\n",
    "# csv 폴더에 존재하는 파일의 목록 확인 \n",
    "os.listdir(\"../../csv/\")"
   ]
  },
  {
   "cell_type": "code",
   "execution_count": null,
   "id": "ccfda33f",
   "metadata": {},
   "outputs": [],
   "source": [
    "# csv 폴더 안에 2017 폴더의 파일 목록 확인 \n",
    "os.listdir(\"../../csv/2017\")"
   ]
  },
  {
   "cell_type": "code",
   "execution_count": null,
   "id": "e4f8535f",
   "metadata": {},
   "outputs": [],
   "source": [
    "pd.read_csv('../../csv/2017/201701_expense_list.csv').info()"
   ]
  },
  {
   "cell_type": "code",
   "execution_count": null,
   "id": "d82ce40f",
   "metadata": {},
   "outputs": [],
   "source": [
    "pd.read_csv(\"../../csv/2017/201702_expense_list.csv\").info()"
   ]
  },
  {
   "cell_type": "code",
   "execution_count": null,
   "id": "6671c53f",
   "metadata": {},
   "outputs": [],
   "source": [
    "file_list = os.listdir(\"../../csv/2018\")\n",
    "\n",
    "for file in file_list:\n",
    "    # file변수 -> file_list 원소(파일명)가 하나씩 대입\n",
    "    print(\"../../csv/2018/\"+file)\n"
   ]
  },
  {
   "cell_type": "code",
   "execution_count": 20,
   "id": "5b245ec8",
   "metadata": {},
   "outputs": [],
   "source": [
    "# 함수화 하기위해 코드 수정 \n",
    "# 경로를 변수에 저장(함수에서 매개변수)\n",
    "file_path = \"../../csv/2017/\"\n",
    "\n",
    "file_list = os.listdir(file_path)\n",
    "\n",
    "# file_list를 오름차순 정렬 변경\n",
    "file_list.sort()\n",
    "\n",
    "# 비어있는 데이터프레임을 생성 -> \n",
    "    # 반복문에서 로드가 되는 데이터프레임을 빈 데이터프레임 누적 결합\n",
    "result = pd.DataFrame()\n",
    "\n",
    "for file in file_list:\n",
    "    # print(file_path + file)\n",
    "    df = pd.read_csv(file_path + file)\n",
    "    # df를 어딘가에(result) 결합(단순 행 결합) -> concat()\n",
    "    result = pd.concat( [result, df] )\n",
    "    # 반복 횟수 1회 \n",
    "        # file -> 201701.csv\n",
    "        # df -> 201701 데이터프레임\n",
    "        # result -> 빈 데이터프레임임\n",
    "        # result ->  빈 데이터프레임과 201701데이터프레임이 행 결합 -> result에 대입\n",
    "        # result -> 201701 데이터프레임\n",
    "    # 반복 횟수 2회\n",
    "        # file -> 201702.csv\n",
    "        # df -> 201701데이터가 삭제되고 201702데이터프레임 대입\n",
    "        # result -> 201701데이터가 존재하는 데이터프레임\n",
    "        # 201701데이터와 201702데이터를 단순한 행 결합 -> result에 대입 \n",
    "        # result -> 201701과 201702 데이터를 가진 데이터프레임\n"
   ]
  },
  {
   "cell_type": "code",
   "execution_count": 21,
   "id": "a4c7af6f",
   "metadata": {},
   "outputs": [
    {
     "data": {
      "text/html": [
       "<div>\n",
       "<style scoped>\n",
       "    .dataframe tbody tr th:only-of-type {\n",
       "        vertical-align: middle;\n",
       "    }\n",
       "\n",
       "    .dataframe tbody tr th {\n",
       "        vertical-align: top;\n",
       "    }\n",
       "\n",
       "    .dataframe thead th {\n",
       "        text-align: right;\n",
       "    }\n",
       "</style>\n",
       "<table border=\"1\" class=\"dataframe\">\n",
       "  <thead>\n",
       "    <tr style=\"text-align: right;\">\n",
       "      <th></th>\n",
       "      <th>nid</th>\n",
       "      <th>title</th>\n",
       "      <th>url</th>\n",
       "      <th>dept_nm_lvl_1</th>\n",
       "      <th>dept_nm_lvl_2</th>\n",
       "      <th>dept_nm_lvl_3</th>\n",
       "      <th>dept_nm_lvl_4</th>\n",
       "      <th>dept_nm_lvl_5</th>\n",
       "      <th>exec_yr</th>\n",
       "      <th>exec_month</th>\n",
       "      <th>expense_budget</th>\n",
       "      <th>expense_execution</th>\n",
       "      <th>category</th>\n",
       "      <th>dept_nm_full</th>\n",
       "      <th>exec_dt</th>\n",
       "      <th>exec_loc</th>\n",
       "      <th>exec_purpose</th>\n",
       "      <th>target_nm</th>\n",
       "      <th>payment_method</th>\n",
       "      <th>exec_amount</th>\n",
       "    </tr>\n",
       "  </thead>\n",
       "  <tbody>\n",
       "    <tr>\n",
       "      <th>0</th>\n",
       "      <td>11430252</td>\n",
       "      <td>2017년 1월 장애인복지정책과 업무추진비 집행내역</td>\n",
       "      <td>http://opengov.seoul.go.kr/public/11430252</td>\n",
       "      <td>서울시본청</td>\n",
       "      <td>복지본부</td>\n",
       "      <td>장애인복지정책과</td>\n",
       "      <td>NaN</td>\n",
       "      <td>NaN</td>\n",
       "      <td>2017</td>\n",
       "      <td>1</td>\n",
       "      <td>NaN</td>\n",
       "      <td>NaN</td>\n",
       "      <td>NaN</td>\n",
       "      <td>복지본부 장애인복지정책과</td>\n",
       "      <td>2017-01-26 13:10</td>\n",
       "      <td>동해일식 (중구 무교동)</td>\n",
       "      <td>기본소득과 장애인복지 논의간담회</td>\n",
       "      <td>장애인복지정책팀장 외 2명</td>\n",
       "      <td>카드</td>\n",
       "      <td>76000</td>\n",
       "    </tr>\n",
       "  </tbody>\n",
       "</table>\n",
       "</div>"
      ],
      "text/plain": [
       "        nid                         title  \\\n",
       "0  11430252  2017년 1월 장애인복지정책과 업무추진비 집행내역   \n",
       "\n",
       "                                          url dept_nm_lvl_1 dept_nm_lvl_2  \\\n",
       "0  http://opengov.seoul.go.kr/public/11430252         서울시본청          복지본부   \n",
       "\n",
       "  dept_nm_lvl_3 dept_nm_lvl_4 dept_nm_lvl_5  exec_yr  exec_month  \\\n",
       "0      장애인복지정책과           NaN           NaN     2017           1   \n",
       "\n",
       "   expense_budget  expense_execution category   dept_nm_full  \\\n",
       "0             NaN                NaN      NaN  복지본부 장애인복지정책과   \n",
       "\n",
       "            exec_dt       exec_loc       exec_purpose       target_nm  \\\n",
       "0  2017-01-26 13:10  동해일식 (중구 무교동)  기본소득과 장애인복지 논의간담회  장애인복지정책팀장 외 2명   \n",
       "\n",
       "  payment_method  exec_amount  \n",
       "0             카드        76000  "
      ]
     },
     "execution_count": 21,
     "metadata": {},
     "output_type": "execute_result"
    }
   ],
   "source": [
    "result.head(1)"
   ]
  },
  {
   "cell_type": "code",
   "execution_count": 22,
   "id": "897dc9b3",
   "metadata": {},
   "outputs": [
    {
     "data": {
      "text/html": [
       "<div>\n",
       "<style scoped>\n",
       "    .dataframe tbody tr th:only-of-type {\n",
       "        vertical-align: middle;\n",
       "    }\n",
       "\n",
       "    .dataframe tbody tr th {\n",
       "        vertical-align: top;\n",
       "    }\n",
       "\n",
       "    .dataframe thead th {\n",
       "        text-align: right;\n",
       "    }\n",
       "</style>\n",
       "<table border=\"1\" class=\"dataframe\">\n",
       "  <thead>\n",
       "    <tr style=\"text-align: right;\">\n",
       "      <th></th>\n",
       "      <th>nid</th>\n",
       "      <th>title</th>\n",
       "      <th>url</th>\n",
       "      <th>dept_nm_lvl_1</th>\n",
       "      <th>dept_nm_lvl_2</th>\n",
       "      <th>dept_nm_lvl_3</th>\n",
       "      <th>dept_nm_lvl_4</th>\n",
       "      <th>dept_nm_lvl_5</th>\n",
       "      <th>exec_yr</th>\n",
       "      <th>exec_month</th>\n",
       "      <th>expense_budget</th>\n",
       "      <th>expense_execution</th>\n",
       "      <th>category</th>\n",
       "      <th>dept_nm_full</th>\n",
       "      <th>exec_dt</th>\n",
       "      <th>exec_loc</th>\n",
       "      <th>exec_purpose</th>\n",
       "      <th>target_nm</th>\n",
       "      <th>payment_method</th>\n",
       "      <th>exec_amount</th>\n",
       "    </tr>\n",
       "  </thead>\n",
       "  <tbody>\n",
       "    <tr>\n",
       "      <th>7285</th>\n",
       "      <td>14292506</td>\n",
       "      <td>2017년 12월 사업소_은평병원_원무과 업무추진비 내역</td>\n",
       "      <td>http://opengov.seoul.go.kr/public/14292506</td>\n",
       "      <td>사업소</td>\n",
       "      <td>은평병원</td>\n",
       "      <td>원무과</td>\n",
       "      <td>NaN</td>\n",
       "      <td>NaN</td>\n",
       "      <td>2017</td>\n",
       "      <td>12</td>\n",
       "      <td>NaN</td>\n",
       "      <td>NaN</td>\n",
       "      <td>NaN</td>\n",
       "      <td>원무과</td>\n",
       "      <td>2017-12-06 18:00</td>\n",
       "      <td>스타벅스(응암동 96-1)</td>\n",
       "      <td>전문의 및 전공의 격려 다과회</td>\n",
       "      <td>병원장 외 11명</td>\n",
       "      <td>카드</td>\n",
       "      <td>440000</td>\n",
       "    </tr>\n",
       "  </tbody>\n",
       "</table>\n",
       "</div>"
      ],
      "text/plain": [
       "           nid                            title  \\\n",
       "7285  14292506  2017년 12월 사업소_은평병원_원무과 업무추진비 내역   \n",
       "\n",
       "                                             url dept_nm_lvl_1 dept_nm_lvl_2  \\\n",
       "7285  http://opengov.seoul.go.kr/public/14292506           사업소          은평병원   \n",
       "\n",
       "     dept_nm_lvl_3 dept_nm_lvl_4 dept_nm_lvl_5  exec_yr  exec_month  \\\n",
       "7285           원무과           NaN           NaN     2017          12   \n",
       "\n",
       "      expense_budget  expense_execution category dept_nm_full  \\\n",
       "7285             NaN                NaN      NaN          원무과   \n",
       "\n",
       "               exec_dt        exec_loc      exec_purpose  target_nm  \\\n",
       "7285  2017-12-06 18:00  스타벅스(응암동 96-1)  전문의 및 전공의 격려 다과회  병원장 외 11명   \n",
       "\n",
       "     payment_method  exec_amount  \n",
       "7285             카드       440000  "
      ]
     },
     "execution_count": 22,
     "metadata": {},
     "output_type": "execute_result"
    }
   ],
   "source": [
    "result.tail(1)"
   ]
  },
  {
   "cell_type": "code",
   "execution_count": 25,
   "id": "7320319e",
   "metadata": {},
   "outputs": [],
   "source": [
    "# 2018폴더의 파일들을 모두 결합하여 하나의 데이터프레임 생성\n",
    "# result_2018\n",
    "\n",
    "file_path = \"../../csv/2018/\"\n",
    "file_list = os.listdir(file_path)\n",
    "file_list.sort()\n",
    "\n",
    "# 빈 데이터프레임 생성\n",
    "result_2018 = pd.DataFrame()\n",
    "\n",
    "for file in file_list:\n",
    "    df = pd.read_csv(file_path + file)\n",
    "    result_2018 = pd.concat( [result_2018, df] )\n"
   ]
  },
  {
   "cell_type": "code",
   "execution_count": null,
   "id": "4b395cdc",
   "metadata": {},
   "outputs": [],
   "source": [
    "result_2018.info()"
   ]
  },
  {
   "cell_type": "code",
   "execution_count": 27,
   "id": "5d53650a",
   "metadata": {},
   "outputs": [],
   "source": [
    "# 2019년도 2020년도까지 데이프레임 결합\n",
    "\n",
    "file_path = \"../../csv/2019/\"\n",
    "file_list = os.listdir(file_path)\n",
    "file_list.sort()\n",
    "result_2019 = pd.DataFrame()\n",
    "\n",
    "for file in file_list:\n",
    "    # 2019폴더에는 파일의 확장자가 json -> read_json()\n",
    "    df = pd.read_json(file_path + file)\n",
    "    result_2019 = pd.concat( [result_2019, df] )"
   ]
  },
  {
   "cell_type": "code",
   "execution_count": null,
   "id": "260bc71b",
   "metadata": {},
   "outputs": [],
   "source": [
    "result_2019.info()"
   ]
  },
  {
   "cell_type": "code",
   "execution_count": 29,
   "id": "8b6230b8",
   "metadata": {},
   "outputs": [],
   "source": [
    "file_path = \"../../csv/2020/\"\n",
    "file_list = os.listdir(file_path)\n",
    "file_list.sort()\n",
    "\n",
    "result_2020 = pd.DataFrame()\n",
    "\n",
    "for file in file_list:\n",
    "    # file들이 xlsx 확장자\n",
    "    df = pd.read_excel(file_path + file)\n",
    "    result_2020 = pd.concat( [result_2020, df] )"
   ]
  },
  {
   "cell_type": "code",
   "execution_count": null,
   "id": "ab7bea03",
   "metadata": {},
   "outputs": [],
   "source": [
    "result_2020.info()"
   ]
  },
  {
   "cell_type": "code",
   "execution_count": 31,
   "id": "d4a17bd1",
   "metadata": {},
   "outputs": [],
   "source": [
    "file_path = \"../../csv/2021/\"\n",
    "file_list = os.listdir(file_path)\n",
    "file_list.sort()"
   ]
  },
  {
   "cell_type": "code",
   "execution_count": null,
   "id": "1489b770",
   "metadata": {},
   "outputs": [],
   "source": [
    "file_list"
   ]
  },
  {
   "cell_type": "code",
   "execution_count": null,
   "id": "9af3e725",
   "metadata": {},
   "outputs": [],
   "source": [
    "file_tail = 'csv'\n",
    "new_list = []\n",
    "\n",
    "for file in file_list:\n",
    "    # 조건 -> 확장자가 file_tail과 같다면\n",
    "    # 확장자를 확인하는 방법 -> 문자열에서 마지막의 문자와 같은가?\n",
    "    # file의 타입 -> str\n",
    "    if file.endswith(file_tail):\n",
    "        # new_list에 file 추가 \n",
    "        new_list.append(file)\n",
    "\n",
    "new_list "
   ]
  },
  {
   "cell_type": "code",
   "execution_count": null,
   "id": "ff418649",
   "metadata": {},
   "outputs": [],
   "source": [
    "file_tail = 'json'\n",
    "new_list = []\n",
    "\n",
    "for file in file_list:\n",
    "    # 조건 -> 확장자가 file_tail과 같다면\n",
    "    # 확장자를 확인하는 방법 -> 문자열에서 마지막의 문자와 같은가?\n",
    "    # file의 타입 -> str\n",
    "    # split()함수를 이용하여 확장자를 확인 \n",
    "    # \"a.csv\" -> split('.') -> ['a', 'csv']\n",
    "    # \"a.b.csv\" -> split('.') -> ['a', 'b', 'csv']\n",
    "    # 두 경우 모두 확장자는 리스트의 마지막에 존재\n",
    "    # 인덱스는 -1 사용\n",
    "    if file.split('.')[-1] == file_tail:\n",
    "        # new_list에 file 추가 \n",
    "        new_list.append(file)\n",
    "\n",
    "new_list "
   ]
  },
  {
   "cell_type": "code",
   "execution_count": 36,
   "id": "d96e08c1",
   "metadata": {},
   "outputs": [
    {
     "data": {
      "text/plain": [
       "['202101_expense_list.xlsx',\n",
       " '202102_expense_list.xlsx',\n",
       " '202103_expense_list.xlsx',\n",
       " '202104_expense_list.xlsx',\n",
       " '202105_expense_list.xlsx',\n",
       " '202106_expense_list.xlsx',\n",
       " '202107_expense_list.xlsx',\n",
       " '202108_expense_list.xlsx',\n",
       " '202109_expense_list.xlsx',\n",
       " '202110_expense_list.xlsx',\n",
       " '202111_expense_list.xlsx',\n",
       " '202112_expense_list.xlsx']"
      ]
     },
     "execution_count": 36,
     "metadata": {},
     "output_type": "execute_result"
    }
   ],
   "source": [
    "# file_list에서 특정 확장자를 제외하고 제거(remove())\n",
    "\n",
    "file_tail = 'xlsx'\n",
    "# file_list 복사본 생성\n",
    "file_list2 = file_list.copy()\n",
    "\n",
    "for file in file_list:\n",
    "    if not(file.endswith(file_tail)):\n",
    "        file_list2.remove(file)\n",
    "\n",
    "\n",
    "file_list2\n"
   ]
  },
  {
   "cell_type": "code",
   "execution_count": 41,
   "id": "b77681e2",
   "metadata": {},
   "outputs": [],
   "source": [
    "# 특정 경로에 존재하는 데이터 파일을 로드하여 하나의 데이터프레임으로 생성해주는 함수\n",
    "# 매개변수 3개 -> 파일의 경로, 파일의 확장자, 인코딩엔진( 기본값 : utf-8 )\n",
    "def dir_data_df(file_path, file_tail, engine = 'utf-8'):\n",
    "        # file_path에 마지막이 '/'없으면 문제가 발생 -> '/' 추가\n",
    "        # file_path = file_path + '/'\n",
    "        file_path += '/'\n",
    "        # file_path를 기준으로 파일의 목록을 생성 \n",
    "        file_list = os.listdir(file_path)\n",
    "        file_list.sort()\n",
    "        result = pd.DataFrame()\n",
    "        # file_tail에 맞는 파일들을 추출 \n",
    "        new_list = []\n",
    "        for file in file_list:\n",
    "                if file.endswith(file_tail):\n",
    "                        new_list.append(file)\n",
    "        # new_list를 이용하여 파일을 로드하고 result 누적 행 결합\n",
    "        for file2 in new_list:\n",
    "                # file_tail에 따라서 read_함수를 변경 \n",
    "                if file_tail == 'csv':\n",
    "                        df = pd.read_csv(file_path + file2, encoding=engine)\n",
    "                elif file_tail == 'json':\n",
    "                        df = pd.read_json(file_path + file2, encoding=engine)\n",
    "                elif file_tail == 'xml':\n",
    "                        df = pd.read_xml(file_path + file2, encoding=engine)\n",
    "                # elif (file_tail == 'xlsx') | (file_tail == 'xls'):\n",
    "                elif file_tail in ['xlsx', 'xls']:\n",
    "                        df = pd.read_excel(file_path + file2)\n",
    "                else:\n",
    "                        print(\"파일의 확장자 입력이 잘못되었습니다.(csv, json, xml, excel 사용가능)\")\n",
    "                        return \"\"\n",
    "                # result에 누적 행 결합\n",
    "                result = pd.concat( [result, df] )\n",
    "        # result에서 인덱스를 초기화하고 기존의 인덱스는 제거 \n",
    "        result.reset_index(drop=True, inplace=True)\n",
    "        return result\n"
   ]
  },
  {
   "cell_type": "code",
   "execution_count": 42,
   "id": "b7744cf5",
   "metadata": {},
   "outputs": [
    {
     "name": "stdout",
     "output_type": "stream",
     "text": [
      "<class 'pandas.core.frame.DataFrame'>\n",
      "RangeIndex: 70132 entries, 0 to 70131\n",
      "Data columns (total 20 columns):\n",
      " #   Column             Non-Null Count  Dtype  \n",
      "---  ------             --------------  -----  \n",
      " 0   nid                70132 non-null  int64  \n",
      " 1   title              70132 non-null  object \n",
      " 2   url                70132 non-null  object \n",
      " 3   dept_nm_lvl_1      70132 non-null  object \n",
      " 4   dept_nm_lvl_2      70074 non-null  object \n",
      " 5   dept_nm_lvl_3      61262 non-null  object \n",
      " 6   dept_nm_lvl_4      17939 non-null  object \n",
      " 7   dept_nm_lvl_5      3474 non-null   object \n",
      " 8   exec_yr            70132 non-null  int64  \n",
      " 9   exec_month         70132 non-null  int64  \n",
      " 10  expense_budget     3108 non-null   float64\n",
      " 11  expense_execution  2805 non-null   float64\n",
      " 12  category           1259 non-null   object \n",
      " 13  dept_nm_full       70053 non-null  object \n",
      " 14  exec_dt            70132 non-null  object \n",
      " 15  exec_loc           69360 non-null  object \n",
      " 16  exec_purpose       70110 non-null  object \n",
      " 17  target_nm          69597 non-null  object \n",
      " 18  payment_method     69929 non-null  object \n",
      " 19  exec_amount        70132 non-null  int64  \n",
      "dtypes: float64(2), int64(4), object(14)\n",
      "memory usage: 10.7+ MB\n"
     ]
    }
   ],
   "source": [
    "dir_data_df(\"../../csv/2017\", 'csv').info()"
   ]
  },
  {
   "cell_type": "code",
   "execution_count": null,
   "id": "35708ed7",
   "metadata": {},
   "outputs": [],
   "source": []
  }
 ],
 "metadata": {
  "kernelspec": {
   "display_name": "Python 3",
   "language": "python",
   "name": "python3"
  },
  "language_info": {
   "codemirror_mode": {
    "name": "ipython",
    "version": 3
   },
   "file_extension": ".py",
   "mimetype": "text/x-python",
   "name": "python",
   "nbconvert_exporter": "python",
   "pygments_lexer": "ipython3",
   "version": "3.11.1"
  }
 },
 "nbformat": 4,
 "nbformat_minor": 5
}
