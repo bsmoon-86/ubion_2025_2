{
 "cells": [
  {
   "cell_type": "code",
   "execution_count": null,
   "id": "e6ad4fee",
   "metadata": {},
   "outputs": [],
   "source": [
    "# pykrx 설치 \n",
    "# !pip install pykrx"
   ]
  },
  {
   "cell_type": "code",
   "execution_count": 1,
   "id": "9ed6428a",
   "metadata": {},
   "outputs": [],
   "source": [
    "# 라이브러리 로드 \n",
    "from pykrx import stock"
   ]
  },
  {
   "cell_type": "code",
   "execution_count": 2,
   "id": "2b2c3b15",
   "metadata": {},
   "outputs": [],
   "source": [
    "df = stock.get_market_ohlcv_by_date(\"20200101\", \"20250622\", \"005930\")"
   ]
  },
  {
   "cell_type": "code",
   "execution_count": 6,
   "id": "d4e8dfdd",
   "metadata": {},
   "outputs": [],
   "source": [
    "df.reset_index(inplace=True)"
   ]
  },
  {
   "cell_type": "code",
   "execution_count": 7,
   "id": "f7ef774f",
   "metadata": {},
   "outputs": [
    {
     "data": {
      "text/html": [
       "<div>\n",
       "<style scoped>\n",
       "    .dataframe tbody tr th:only-of-type {\n",
       "        vertical-align: middle;\n",
       "    }\n",
       "\n",
       "    .dataframe tbody tr th {\n",
       "        vertical-align: top;\n",
       "    }\n",
       "\n",
       "    .dataframe thead th {\n",
       "        text-align: right;\n",
       "    }\n",
       "</style>\n",
       "<table border=\"1\" class=\"dataframe\">\n",
       "  <thead>\n",
       "    <tr style=\"text-align: right;\">\n",
       "      <th></th>\n",
       "      <th>날짜</th>\n",
       "      <th>시가</th>\n",
       "      <th>고가</th>\n",
       "      <th>저가</th>\n",
       "      <th>종가</th>\n",
       "      <th>거래량</th>\n",
       "      <th>등락률</th>\n",
       "    </tr>\n",
       "  </thead>\n",
       "  <tbody>\n",
       "    <tr>\n",
       "      <th>0</th>\n",
       "      <td>2020-01-02</td>\n",
       "      <td>55500</td>\n",
       "      <td>56000</td>\n",
       "      <td>55000</td>\n",
       "      <td>55200</td>\n",
       "      <td>12993228</td>\n",
       "      <td>-1.075269</td>\n",
       "    </tr>\n",
       "  </tbody>\n",
       "</table>\n",
       "</div>"
      ],
      "text/plain": [
       "          날짜     시가     고가     저가     종가       거래량       등락률\n",
       "0 2020-01-02  55500  56000  55000  55200  12993228 -1.075269"
      ]
     },
     "execution_count": 7,
     "metadata": {},
     "output_type": "execute_result"
    }
   ],
   "source": [
    "df.head(1)"
   ]
  },
  {
   "cell_type": "code",
   "execution_count": 11,
   "id": "055551ee",
   "metadata": {},
   "outputs": [],
   "source": [
    "df.rename(\n",
    "    columns={\n",
    "        '날짜' : 'Date', \n",
    "        '시가' : 'Open', \n",
    "        '고가' : 'High', \n",
    "        '저가' : 'Low', \n",
    "        '종가' : 'Close', \n",
    "        '거래량' : 'Volume', \n",
    "        '등락률' : 'Rate'\n",
    "    }, inplace=True\n",
    ")"
   ]
  },
  {
   "cell_type": "code",
   "execution_count": 21,
   "id": "96dad6b3",
   "metadata": {},
   "outputs": [
    {
     "data": {
      "text/html": [
       "<div>\n",
       "<style scoped>\n",
       "    .dataframe tbody tr th:only-of-type {\n",
       "        vertical-align: middle;\n",
       "    }\n",
       "\n",
       "    .dataframe tbody tr th {\n",
       "        vertical-align: top;\n",
       "    }\n",
       "\n",
       "    .dataframe thead th {\n",
       "        text-align: right;\n",
       "    }\n",
       "</style>\n",
       "<table border=\"1\" class=\"dataframe\">\n",
       "  <thead>\n",
       "    <tr style=\"text-align: right;\">\n",
       "      <th></th>\n",
       "      <th>시가</th>\n",
       "      <th>고가</th>\n",
       "      <th>저가</th>\n",
       "      <th>종가</th>\n",
       "      <th>거래량</th>\n",
       "      <th>등락률</th>\n",
       "    </tr>\n",
       "    <tr>\n",
       "      <th>날짜</th>\n",
       "      <th></th>\n",
       "      <th></th>\n",
       "      <th></th>\n",
       "      <th></th>\n",
       "      <th></th>\n",
       "      <th></th>\n",
       "    </tr>\n",
       "  </thead>\n",
       "  <tbody>\n",
       "    <tr>\n",
       "      <th>2020-01-02</th>\n",
       "      <td>55500</td>\n",
       "      <td>56000</td>\n",
       "      <td>55000</td>\n",
       "      <td>55200</td>\n",
       "      <td>12993228</td>\n",
       "      <td>-1.075269</td>\n",
       "    </tr>\n",
       "    <tr>\n",
       "      <th>2020-01-03</th>\n",
       "      <td>56000</td>\n",
       "      <td>56600</td>\n",
       "      <td>54900</td>\n",
       "      <td>55500</td>\n",
       "      <td>15422255</td>\n",
       "      <td>0.543478</td>\n",
       "    </tr>\n",
       "    <tr>\n",
       "      <th>2020-01-06</th>\n",
       "      <td>54900</td>\n",
       "      <td>55600</td>\n",
       "      <td>54600</td>\n",
       "      <td>55500</td>\n",
       "      <td>10278951</td>\n",
       "      <td>0.000000</td>\n",
       "    </tr>\n",
       "    <tr>\n",
       "      <th>2020-01-07</th>\n",
       "      <td>55700</td>\n",
       "      <td>56400</td>\n",
       "      <td>55600</td>\n",
       "      <td>55800</td>\n",
       "      <td>10009778</td>\n",
       "      <td>0.540541</td>\n",
       "    </tr>\n",
       "    <tr>\n",
       "      <th>2020-01-08</th>\n",
       "      <td>56200</td>\n",
       "      <td>57400</td>\n",
       "      <td>55900</td>\n",
       "      <td>56800</td>\n",
       "      <td>23501171</td>\n",
       "      <td>1.792115</td>\n",
       "    </tr>\n",
       "    <tr>\n",
       "      <th>...</th>\n",
       "      <td>...</td>\n",
       "      <td>...</td>\n",
       "      <td>...</td>\n",
       "      <td>...</td>\n",
       "      <td>...</td>\n",
       "      <td>...</td>\n",
       "    </tr>\n",
       "    <tr>\n",
       "      <th>2025-06-17</th>\n",
       "      <td>57800</td>\n",
       "      <td>59800</td>\n",
       "      <td>57400</td>\n",
       "      <td>58100</td>\n",
       "      <td>28637003</td>\n",
       "      <td>1.573427</td>\n",
       "    </tr>\n",
       "    <tr>\n",
       "      <th>2025-06-18</th>\n",
       "      <td>58000</td>\n",
       "      <td>59800</td>\n",
       "      <td>57900</td>\n",
       "      <td>59800</td>\n",
       "      <td>17620705</td>\n",
       "      <td>2.925990</td>\n",
       "    </tr>\n",
       "    <tr>\n",
       "      <th>2025-06-19</th>\n",
       "      <td>60500</td>\n",
       "      <td>60600</td>\n",
       "      <td>59000</td>\n",
       "      <td>59200</td>\n",
       "      <td>16876278</td>\n",
       "      <td>-1.003344</td>\n",
       "    </tr>\n",
       "    <tr>\n",
       "      <th>2025-06-20</th>\n",
       "      <td>59400</td>\n",
       "      <td>59800</td>\n",
       "      <td>59100</td>\n",
       "      <td>59500</td>\n",
       "      <td>18072251</td>\n",
       "      <td>0.506757</td>\n",
       "    </tr>\n",
       "    <tr>\n",
       "      <th>2025-06-23</th>\n",
       "      <td>58400</td>\n",
       "      <td>58500</td>\n",
       "      <td>57600</td>\n",
       "      <td>57900</td>\n",
       "      <td>5264522</td>\n",
       "      <td>-2.689076</td>\n",
       "    </tr>\n",
       "  </tbody>\n",
       "</table>\n",
       "<p>1344 rows × 6 columns</p>\n",
       "</div>"
      ],
      "text/plain": [
       "               시가     고가     저가     종가       거래량       등락률\n",
       "날짜                                                        \n",
       "2020-01-02  55500  56000  55000  55200  12993228 -1.075269\n",
       "2020-01-03  56000  56600  54900  55500  15422255  0.543478\n",
       "2020-01-06  54900  55600  54600  55500  10278951  0.000000\n",
       "2020-01-07  55700  56400  55600  55800  10009778  0.540541\n",
       "2020-01-08  56200  57400  55900  56800  23501171  1.792115\n",
       "...           ...    ...    ...    ...       ...       ...\n",
       "2025-06-17  57800  59800  57400  58100  28637003  1.573427\n",
       "2025-06-18  58000  59800  57900  59800  17620705  2.925990\n",
       "2025-06-19  60500  60600  59000  59200  16876278 -1.003344\n",
       "2025-06-20  59400  59800  59100  59500  18072251  0.506757\n",
       "2025-06-23  58400  58500  57600  57900   5264522 -2.689076\n",
       "\n",
       "[1344 rows x 6 columns]"
      ]
     },
     "execution_count": 21,
     "metadata": {},
     "output_type": "execute_result"
    }
   ],
   "source": [
    "stock.get_market_ohlcv_by_date('20200101', '20250623', '005930')"
   ]
  },
  {
   "cell_type": "code",
   "execution_count": null,
   "id": "5f13b394",
   "metadata": {},
   "outputs": [],
   "source": [
    "# 종목의 이름으로 종목의 코드를 불러오는 함수 존재 \n",
    "stock.get_market_ticker_list(market='KOSPI')"
   ]
  },
  {
   "cell_type": "code",
   "execution_count": 3,
   "id": "a3d6d4c8",
   "metadata": {},
   "outputs": [
    {
     "data": {
      "text/plain": [
       "'삼성전자'"
      ]
     },
     "execution_count": 3,
     "metadata": {},
     "output_type": "execute_result"
    }
   ],
   "source": [
    "stock.get_market_ticker_name('005930')"
   ]
  },
  {
   "cell_type": "code",
   "execution_count": 4,
   "id": "f3e3a157",
   "metadata": {},
   "outputs": [],
   "source": [
    "def name_to_code(_name, _market = 'KOSPI'):\n",
    "    codes = stock.get_market_ticker_list(market = _market)\n",
    "    for code in codes:\n",
    "        # 해당 코드를 _name과 비교 \n",
    "        if stock.get_market_ticker_name(code) == _name:\n",
    "            return code\n",
    "    print('종목 이름에 맞는 코드가 존재하지 않는다.')\n",
    "    return \"\""
   ]
  },
  {
   "cell_type": "code",
   "execution_count": 5,
   "id": "d5c92169",
   "metadata": {},
   "outputs": [
    {
     "data": {
      "text/plain": [
       "'000660'"
      ]
     },
     "execution_count": 5,
     "metadata": {},
     "output_type": "execute_result"
    }
   ],
   "source": [
    "name_to_code('SK하이닉스')"
   ]
  },
  {
   "cell_type": "code",
   "execution_count": 6,
   "id": "d8436843",
   "metadata": {},
   "outputs": [],
   "source": [
    "from datetime import datetime"
   ]
  },
  {
   "cell_type": "code",
   "execution_count": 19,
   "id": "8a3806e2",
   "metadata": {},
   "outputs": [],
   "source": [
    "# load_data 함수 생성 \n",
    "def load_data(\n",
    "        _ticker, \n",
    "        _start = '2010-01-01', \n",
    "        _end = datetime.now()\n",
    "):\n",
    "    _start = datetime.strptime(_start, '%Y-%m-%d').strftime('%Y%m%d')\n",
    "    if type(_end) == str:\n",
    "        _end = datetime.strptime(_end, '%Y-%m-%d').strftime('%Y%m%d')\n",
    "    else:\n",
    "        _end = _end.strftime('%Y%m%d')\n",
    "\n",
    "    result = stock.get_market_ohlcv_by_date(_start, _end, _ticker)\n",
    "    # result의 길이가 0이라면 -> 종목의 이름이라 생각한다. \n",
    "    if len(result):\n",
    "        return result\n",
    "    else:\n",
    "        _code = name_to_code(_ticker)\n",
    "        if _code == \"\":\n",
    "            _code = name_to_code(_ticker, 'KOSDAQ')\n",
    "        result = stock.get_market_ohlcv_by_date(_start, _end, _code)\n",
    "        return result\n"
   ]
  },
  {
   "cell_type": "code",
   "execution_count": 21,
   "id": "0ccfb925",
   "metadata": {},
   "outputs": [
    {
     "name": "stdout",
     "output_type": "stream",
     "text": [
      "종목 이름에 맞는 코드가 존재하지 않는다.\n"
     ]
    },
    {
     "data": {
      "text/html": [
       "<div>\n",
       "<style scoped>\n",
       "    .dataframe tbody tr th:only-of-type {\n",
       "        vertical-align: middle;\n",
       "    }\n",
       "\n",
       "    .dataframe tbody tr th {\n",
       "        vertical-align: top;\n",
       "    }\n",
       "\n",
       "    .dataframe thead th {\n",
       "        text-align: right;\n",
       "    }\n",
       "</style>\n",
       "<table border=\"1\" class=\"dataframe\">\n",
       "  <thead>\n",
       "    <tr style=\"text-align: right;\">\n",
       "      <th></th>\n",
       "      <th>시가</th>\n",
       "      <th>고가</th>\n",
       "      <th>저가</th>\n",
       "      <th>종가</th>\n",
       "      <th>거래량</th>\n",
       "      <th>등락률</th>\n",
       "    </tr>\n",
       "    <tr>\n",
       "      <th>날짜</th>\n",
       "      <th></th>\n",
       "      <th></th>\n",
       "      <th></th>\n",
       "      <th></th>\n",
       "      <th></th>\n",
       "      <th></th>\n",
       "    </tr>\n",
       "  </thead>\n",
       "  <tbody>\n",
       "    <tr>\n",
       "      <th>2014-12-12</th>\n",
       "      <td>3500</td>\n",
       "      <td>3619</td>\n",
       "      <td>2978</td>\n",
       "      <td>2994</td>\n",
       "      <td>9195235</td>\n",
       "      <td>NaN</td>\n",
       "    </tr>\n",
       "    <tr>\n",
       "      <th>2014-12-15</th>\n",
       "      <td>3034</td>\n",
       "      <td>3354</td>\n",
       "      <td>2936</td>\n",
       "      <td>3160</td>\n",
       "      <td>3246249</td>\n",
       "      <td>5.544422</td>\n",
       "    </tr>\n",
       "    <tr>\n",
       "      <th>2014-12-16</th>\n",
       "      <td>3159</td>\n",
       "      <td>3257</td>\n",
       "      <td>2909</td>\n",
       "      <td>2965</td>\n",
       "      <td>1259428</td>\n",
       "      <td>-6.170886</td>\n",
       "    </tr>\n",
       "    <tr>\n",
       "      <th>2014-12-17</th>\n",
       "      <td>2957</td>\n",
       "      <td>3041</td>\n",
       "      <td>2922</td>\n",
       "      <td>2924</td>\n",
       "      <td>632065</td>\n",
       "      <td>-1.382799</td>\n",
       "    </tr>\n",
       "    <tr>\n",
       "      <th>2014-12-18</th>\n",
       "      <td>2922</td>\n",
       "      <td>3166</td>\n",
       "      <td>2881</td>\n",
       "      <td>3125</td>\n",
       "      <td>1561977</td>\n",
       "      <td>6.874145</td>\n",
       "    </tr>\n",
       "    <tr>\n",
       "      <th>...</th>\n",
       "      <td>...</td>\n",
       "      <td>...</td>\n",
       "      <td>...</td>\n",
       "      <td>...</td>\n",
       "      <td>...</td>\n",
       "      <td>...</td>\n",
       "    </tr>\n",
       "    <tr>\n",
       "      <th>2025-06-17</th>\n",
       "      <td>405500</td>\n",
       "      <td>410500</td>\n",
       "      <td>396000</td>\n",
       "      <td>397500</td>\n",
       "      <td>281659</td>\n",
       "      <td>-1.972873</td>\n",
       "    </tr>\n",
       "    <tr>\n",
       "      <th>2025-06-18</th>\n",
       "      <td>392000</td>\n",
       "      <td>411500</td>\n",
       "      <td>389500</td>\n",
       "      <td>395000</td>\n",
       "      <td>331986</td>\n",
       "      <td>-0.628931</td>\n",
       "    </tr>\n",
       "    <tr>\n",
       "      <th>2025-06-19</th>\n",
       "      <td>397500</td>\n",
       "      <td>397500</td>\n",
       "      <td>385000</td>\n",
       "      <td>387000</td>\n",
       "      <td>273679</td>\n",
       "      <td>-2.025316</td>\n",
       "    </tr>\n",
       "    <tr>\n",
       "      <th>2025-06-20</th>\n",
       "      <td>390000</td>\n",
       "      <td>400500</td>\n",
       "      <td>384500</td>\n",
       "      <td>390000</td>\n",
       "      <td>451701</td>\n",
       "      <td>0.775194</td>\n",
       "    </tr>\n",
       "    <tr>\n",
       "      <th>2025-06-23</th>\n",
       "      <td>382000</td>\n",
       "      <td>383000</td>\n",
       "      <td>375000</td>\n",
       "      <td>376000</td>\n",
       "      <td>130326</td>\n",
       "      <td>-3.589744</td>\n",
       "    </tr>\n",
       "  </tbody>\n",
       "</table>\n",
       "<p>2583 rows × 6 columns</p>\n",
       "</div>"
      ],
      "text/plain": [
       "                시가      고가      저가      종가      거래량       등락률\n",
       "날짜                                                           \n",
       "2014-12-12    3500    3619    2978    2994  9195235       NaN\n",
       "2014-12-15    3034    3354    2936    3160  3246249  5.544422\n",
       "2014-12-16    3159    3257    2909    2965  1259428 -6.170886\n",
       "2014-12-17    2957    3041    2922    2924   632065 -1.382799\n",
       "2014-12-18    2922    3166    2881    3125  1561977  6.874145\n",
       "...            ...     ...     ...     ...      ...       ...\n",
       "2025-06-17  405500  410500  396000  397500   281659 -1.972873\n",
       "2025-06-18  392000  411500  389500  395000   331986 -0.628931\n",
       "2025-06-19  397500  397500  385000  387000   273679 -2.025316\n",
       "2025-06-20  390000  400500  384500  390000   451701  0.775194\n",
       "2025-06-23  382000  383000  375000  376000   130326 -3.589744\n",
       "\n",
       "[2583 rows x 6 columns]"
      ]
     },
     "execution_count": 21,
     "metadata": {},
     "output_type": "execute_result"
    }
   ],
   "source": [
    "load_data('알테오젠')"
   ]
  },
  {
   "cell_type": "code",
   "execution_count": 11,
   "id": "4019d4e1",
   "metadata": {},
   "outputs": [],
   "source": [
    "# 과연 비어있는 데이터프레임을 if 조건식으로 사용할때 T/F가 되는가?\n",
    "import pandas as pd"
   ]
  },
  {
   "cell_type": "code",
   "execution_count": 12,
   "id": "5c396456",
   "metadata": {},
   "outputs": [],
   "source": [
    "empty_df = pd.DataFrame()"
   ]
  },
  {
   "cell_type": "code",
   "execution_count": 17,
   "id": "6dcf110d",
   "metadata": {},
   "outputs": [],
   "source": [
    "# 비어있는 데이터프레임은 강제로 bool형태로 변경은 불가\n",
    "# bool(empty_df)"
   ]
  },
  {
   "cell_type": "code",
   "execution_count": 16,
   "id": "d62c10fd",
   "metadata": {},
   "outputs": [
    {
     "name": "stdout",
     "output_type": "stream",
     "text": [
      "F\n"
     ]
    }
   ],
   "source": [
    "if len(empty_df) != 0:\n",
    "    print('T')\n",
    "else:\n",
    "    print('F')"
   ]
  }
 ],
 "metadata": {
  "kernelspec": {
   "display_name": "Python 3",
   "language": "python",
   "name": "python3"
  },
  "language_info": {
   "codemirror_mode": {
    "name": "ipython",
    "version": 3
   },
   "file_extension": ".py",
   "mimetype": "text/x-python",
   "name": "python",
   "nbconvert_exporter": "python",
   "pygments_lexer": "ipython3",
   "version": "3.11.1"
  }
 },
 "nbformat": 4,
 "nbformat_minor": 5
}
