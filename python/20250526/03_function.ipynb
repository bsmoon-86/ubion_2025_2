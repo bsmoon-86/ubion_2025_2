{
 "cells": [
  {
   "cell_type": "code",
   "execution_count": 8,
   "id": "452ae7da",
   "metadata": {},
   "outputs": [],
   "source": [
    "# 함수를 생성\n",
    "# 매개변수가 인자의 개수가 가변인 형태 매개변수 1개 \n",
    "# 두번째 매개변수 첫번째 매개변수에 데이터들 중 \n",
    "# 최대값, 최소값, 평균을 보여줄지 지정하는 변수 (기본값은 max)\n",
    "\n",
    "def func_11( _datas, _type = 'max' ):\n",
    "    # _type이 max인 경우 \n",
    "    if _type == 'max':\n",
    "        # _datas에서 가장 큰 값을 저장 \n",
    "        result = _datas[0]\n",
    "        # _datas의 2번째 데이터부터 마지막 데이터까지 result와 비교하여\n",
    "        # 큰 데이터를 result에 대입\n",
    "        for i in range(1, len(_datas), 1):\n",
    "            if result < _datas[i]:\n",
    "                result = _datas[i]\n",
    "    # _type이 min인 경우\n",
    "    elif _type == 'min':\n",
    "        result = _datas[0]\n",
    "        for i in range(1, len(_datas), 1):\n",
    "            if result > _datas[i]:\n",
    "                result = _datas[i]\n",
    "    # _type이 mean인 경우\n",
    "    elif _type == 'mean':\n",
    "        # _datas의 누적합\n",
    "        result = 0\n",
    "        # range()를 이용한 for문\n",
    "        # for i in range(0, len(_datas), 1):\n",
    "        #     result += _datas[i]\n",
    "        for i in _datas:\n",
    "            result += i\n",
    "        # 누적합 / 데이터의 개수\n",
    "        result /= len(_datas)\n",
    "    else:\n",
    "        print('_type 매개변수에는 max, min, mean만 가능합니다.')\n",
    "    \n",
    "    return result"
   ]
  },
  {
   "cell_type": "code",
   "execution_count": 9,
   "id": "d4c08932",
   "metadata": {},
   "outputs": [],
   "source": [
    "# list 안에 내장된 sort()함수를 구현해보자 \n",
    "\n",
    "min([1,2,3,4,5])\n",
    "\n",
    "# min(), max() 그대로 사용 \n",
    "\n",
    "# 매개변수 2개 \n",
    "    # datas : 인자의 개수가 가변인 형태\n",
    "    # ascending :  기본값이 True\n",
    "def custom_sort(*datas, ascending = True):\n",
    "    # datas 타입이? tuple 수정이 불가능\n",
    "    # datas의 타입을 list형태로 변경 \n",
    "    datas = list(datas)\n",
    "    # result datas에 있는 최대값이나 최소값을 대입하는 공간간\n",
    "    result = []\n",
    "    # 반복 실행의 횟수는? -> datas의 길이만큼\n",
    "    for i in range(len(datas)):\n",
    "        # i가 의미하는것은? index 해당 반복문에서는 큰 의미 부여X\n",
    "        # 만약에 ascending이 True이면 \n",
    "        if ascending:\n",
    "            # datas에서 가장 작은 값을 확인\n",
    "            data = func_11(datas, _type='min')\n",
    "        else:\n",
    "            # datas에서 가장 큰 값을 확인\n",
    "            data = func_11(datas, _type='max')\n",
    "        # data를 result에 추가 \n",
    "        result.append(data)\n",
    "        # data를 datas에서 제거 \n",
    "        datas.remove(data)\n",
    "    return result\n"
   ]
  },
  {
   "cell_type": "code",
   "execution_count": 10,
   "id": "bec2c484",
   "metadata": {},
   "outputs": [
    {
     "data": {
      "text/plain": [
       "[1, 2, 3, 4, 5, 7]"
      ]
     },
     "execution_count": 10,
     "metadata": {},
     "output_type": "execute_result"
    }
   ],
   "source": [
    "custom_sort(1,3,2,5,7,4)"
   ]
  },
  {
   "cell_type": "code",
   "execution_count": 11,
   "id": "5500474e",
   "metadata": {},
   "outputs": [
    {
     "data": {
      "text/plain": [
       "[7, 5, 4, 3, 2, 1]"
      ]
     },
     "execution_count": 11,
     "metadata": {},
     "output_type": "execute_result"
    }
   ],
   "source": [
    "custom_sort(1, 3, 2, 5, 7, 4, ascending = False)"
   ]
  },
  {
   "cell_type": "code",
   "execution_count": null,
   "id": "cb3ca01a",
   "metadata": {},
   "outputs": [],
   "source": []
  }
 ],
 "metadata": {
  "kernelspec": {
   "display_name": "Python 3",
   "language": "python",
   "name": "python3"
  },
  "language_info": {
   "codemirror_mode": {
    "name": "ipython",
    "version": 3
   },
   "file_extension": ".py",
   "mimetype": "text/x-python",
   "name": "python",
   "nbconvert_exporter": "python",
   "pygments_lexer": "ipython3",
   "version": "3.11.1"
  }
 },
 "nbformat": 4,
 "nbformat_minor": 5
}
