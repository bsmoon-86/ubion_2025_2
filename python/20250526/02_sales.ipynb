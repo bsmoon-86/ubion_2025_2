{
 "cells": [
  {
   "cell_type": "code",
   "execution_count": null,
   "id": "36d72367",
   "metadata": {},
   "outputs": [],
   "source": [
    "import pandas as pd"
   ]
  },
  {
   "cell_type": "code",
   "execution_count": null,
   "id": "2dd3079a",
   "metadata": {},
   "outputs": [],
   "source": [
    "# csv 폴더에 있는 Sales Records.csv를 로드 \n",
    "sales = pd.read_csv('../../csv/Sales Records.csv')"
   ]
  },
  {
   "cell_type": "code",
   "execution_count": null,
   "id": "fe73b29b",
   "metadata": {},
   "outputs": [],
   "source": [
    "sales.info()"
   ]
  },
  {
   "cell_type": "code",
   "execution_count": null,
   "id": "131d7fdf",
   "metadata": {},
   "outputs": [],
   "source": [
    "sales.describe()"
   ]
  },
  {
   "cell_type": "code",
   "execution_count": null,
   "id": "e5773758",
   "metadata": {},
   "outputs": [],
   "source": [
    "sales.head()"
   ]
  },
  {
   "cell_type": "markdown",
   "id": "6662b19f",
   "metadata": {},
   "source": [
    "1. 'Order ID', 'Total Revenue', 'Total Cost', 'Total Profit', 'Order Priority' 컬럼을 제거 \n",
    "2. 컬럼의 이름을 변경 : [대륙, 국가, 상품종류, 판매채널, 주문일자, 발송일자, 판매개수, 단가, 원가]\n",
    "3. 대륙, 국가 기준으로 오름차순 정렬 \n",
    "4. 파생변수 생성 \n",
    "    - 총단가 = 단가 * 판매개수\n",
    "    - 총원가 = 원가 * 판매개수\n",
    "    - 총이윤 = 총단가 - 총원가"
   ]
  },
  {
   "cell_type": "code",
   "execution_count": null,
   "id": "9a8fba39",
   "metadata": {},
   "outputs": [],
   "source": [
    "df = sales.drop(\n",
    "    [ 'Order ID', \"Total Revenue\", 'Total Cost', 'Total Profit',\n",
    "    'Order Priority' ], \n",
    "    axis= 'columns'\n",
    ")"
   ]
  },
  {
   "cell_type": "code",
   "execution_count": null,
   "id": "d39b3cdb",
   "metadata": {},
   "outputs": [],
   "source": [
    "# 컬럼의 이름을 변경 \n",
    "df.rename(\n",
    "    columns = {\n",
    "        'Region' : '대륙', \n",
    "        'Country' : '국가', \n",
    "        'Item Type' : '상품종류', \n",
    "        'Sales Channel' : '판매채널', \n",
    "        'Order Date' : '주문일자', \n",
    "        'Ship Date' : '발송일자', \n",
    "        'Units Sold' : '판매개수', \n",
    "        'Unit Price' : '단가', \n",
    "        'Unit Cost' : '원가'\n",
    "    }\n",
    ")"
   ]
  },
  {
   "cell_type": "code",
   "execution_count": null,
   "id": "680bcaf9",
   "metadata": {},
   "outputs": [],
   "source": [
    "df.columns = ['대륙', '국가', '상품종류', '판매채널', '주문일자', \n",
    "              '발송일자', '판매개수', '단가', '원가']"
   ]
  },
  {
   "cell_type": "code",
   "execution_count": null,
   "id": "cad55098",
   "metadata": {},
   "outputs": [],
   "source": [
    "# 대륙, 국가를 기준으로 오름차순 정렬 \n",
    "# 오름차순의 기준이 2개\n",
    "# 잘못된 예시\n",
    "# df.sort_values('대륙', inplace=True)\n",
    "# df.sort_values('국가', inplace=True)\n",
    "\n",
    "df.sort_values( ['대륙', '국가'], inplace=True )"
   ]
  },
  {
   "cell_type": "code",
   "execution_count": null,
   "id": "f72b2234",
   "metadata": {},
   "outputs": [],
   "source": [
    "# 총단가 파생변수 생성 \n",
    "df['총단가'] = df['단가'] * df['판매개수']\n",
    "df['총원가'] = df['원가'] * df['판매개수']\n",
    "df['총이윤'] = df['총단가'] - df['총원가']"
   ]
  },
  {
   "cell_type": "code",
   "execution_count": null,
   "id": "7e52d4ca",
   "metadata": {},
   "outputs": [],
   "source": [
    "# 대륙별 총이윤의 합계가 어느 대륙이 가장 높은가?\n",
    "\n",
    "# 그룹화 -> groupby( 그룹화를 할 컬럼명 )\n",
    "group_data = df.groupby( '대륙' )\n",
    "\n",
    "group_data"
   ]
  },
  {
   "cell_type": "code",
   "execution_count": null,
   "id": "2472bb96",
   "metadata": {},
   "outputs": [],
   "source": [
    "# 그룹화 데이터에서 특정 그룹을 선택 \n",
    "group_data.get_group('Asia')"
   ]
  },
  {
   "cell_type": "code",
   "execution_count": null,
   "id": "1441b1e3",
   "metadata": {},
   "outputs": [],
   "source": [
    "# 그룹화 -> 그룹화 연산 \n",
    "group_data.sum()[ ['총이윤'] ]"
   ]
  },
  {
   "cell_type": "code",
   "execution_count": null,
   "id": "39d02841",
   "metadata": {},
   "outputs": [],
   "source": [
    "group_data[ ['총이윤'] ].mean()"
   ]
  },
  {
   "cell_type": "code",
   "execution_count": null,
   "id": "6c6f40bf",
   "metadata": {},
   "outputs": [],
   "source": [
    "df.groupby('대륙')[['총이윤']].mean()"
   ]
  },
  {
   "cell_type": "code",
   "execution_count": null,
   "id": "6e505d05",
   "metadata": {},
   "outputs": [],
   "source": [
    "df[['대륙','총이윤']].groupby('대륙').mean()"
   ]
  },
  {
   "cell_type": "code",
   "execution_count": 34,
   "id": "1d2c0882",
   "metadata": {},
   "outputs": [
    {
     "data": {
      "text/html": [
       "<div>\n",
       "<style scoped>\n",
       "    .dataframe tbody tr th:only-of-type {\n",
       "        vertical-align: middle;\n",
       "    }\n",
       "\n",
       "    .dataframe tbody tr th {\n",
       "        vertical-align: top;\n",
       "    }\n",
       "\n",
       "    .dataframe thead th {\n",
       "        text-align: right;\n",
       "    }\n",
       "</style>\n",
       "<table border=\"1\" class=\"dataframe\">\n",
       "  <thead>\n",
       "    <tr style=\"text-align: right;\">\n",
       "      <th></th>\n",
       "      <th>총이윤</th>\n",
       "    </tr>\n",
       "    <tr>\n",
       "      <th>대륙</th>\n",
       "      <th></th>\n",
       "    </tr>\n",
       "  </thead>\n",
       "  <tbody>\n",
       "    <tr>\n",
       "      <th>Europe</th>\n",
       "      <td>1.027000e+09</td>\n",
       "    </tr>\n",
       "    <tr>\n",
       "      <th>Sub-Saharan Africa</th>\n",
       "      <td>9.996421e+08</td>\n",
       "    </tr>\n",
       "    <tr>\n",
       "      <th>Asia</th>\n",
       "      <td>5.874033e+08</td>\n",
       "    </tr>\n",
       "    <tr>\n",
       "      <th>Middle East and North Africa</th>\n",
       "      <td>5.099239e+08</td>\n",
       "    </tr>\n",
       "    <tr>\n",
       "      <th>Central America and the Caribbean</th>\n",
       "      <td>4.033578e+08</td>\n",
       "    </tr>\n",
       "    <tr>\n",
       "      <th>Australia and Oceania</th>\n",
       "      <td>3.240712e+08</td>\n",
       "    </tr>\n",
       "    <tr>\n",
       "      <th>North America</th>\n",
       "      <td>9.949552e+07</td>\n",
       "    </tr>\n",
       "  </tbody>\n",
       "</table>\n",
       "</div>"
      ],
      "text/plain": [
       "                                            총이윤\n",
       "대륙                                             \n",
       "Europe                             1.027000e+09\n",
       "Sub-Saharan Africa                 9.996421e+08\n",
       "Asia                               5.874033e+08\n",
       "Middle East and North Africa       5.099239e+08\n",
       "Central America and the Caribbean  4.033578e+08\n",
       "Australia and Oceania              3.240712e+08\n",
       "North America                      9.949552e+07"
      ]
     },
     "execution_count": 34,
     "metadata": {},
     "output_type": "execute_result"
    }
   ],
   "source": [
    "group_data[['총이윤']].sum().sort_values('총이윤', ascending=False)"
   ]
  }
 ],
 "metadata": {
  "kernelspec": {
   "display_name": "Python 3",
   "language": "python",
   "name": "python3"
  },
  "language_info": {
   "codemirror_mode": {
    "name": "ipython",
    "version": 3
   },
   "file_extension": ".py",
   "mimetype": "text/x-python",
   "name": "python",
   "nbconvert_exporter": "python",
   "pygments_lexer": "ipython3",
   "version": "3.11.1"
  }
 },
 "nbformat": 4,
 "nbformat_minor": 5
}
