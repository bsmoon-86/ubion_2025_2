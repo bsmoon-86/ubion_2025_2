{
 "cells": [
  {
   "cell_type": "markdown",
   "id": "351077f4",
   "metadata": {},
   "source": [
    "## 상대 모멘텀\n",
    "- 여러개의 종목을 이용하여 투자를 전략\n",
    "    1. 월초부터 월말까지의 수정 종가를 이용하여 수익율 계산\n",
    "    2. 월별 수익율이 높은 n개를 선택 \n",
    "    3. 해당하는 종목들을 매수하여 해장하는 종목의 신호가 없어지면 매도하는 형식으로 수익율 생성"
   ]
  },
  {
   "cell_type": "code",
   "execution_count": 5,
   "id": "29b2cfa5",
   "metadata": {},
   "outputs": [],
   "source": [
    "import pandas as pd \n",
    "import numpy as np \n",
    "import warnings\n",
    "import os \n",
    "from glob import glob\n",
    "from datetime import datetime"
   ]
  },
  {
   "cell_type": "code",
   "execution_count": 3,
   "id": "4abcca4e",
   "metadata": {},
   "outputs": [],
   "source": [
    "# 경고 메시지 출력 필터 \n",
    "warnings.filterwarnings('ignore')"
   ]
  },
  {
   "cell_type": "code",
   "execution_count": 6,
   "id": "fe18234c",
   "metadata": {},
   "outputs": [],
   "source": [
    "# 기준 년월 컬럼과 월별 수익율 컬럼을 생성하는 함수\n",
    "# 매개변수 5개 \n",
    "    # 데이터프레임 : 필수\n",
    "    # ticker : 필수\n",
    "    # 투자의 시작시간 : 2010-01-01 기본값\n",
    "    # 투자의 종료시간 : 현재 시간 기본값\n",
    "    # 기준이 되는 컬럼 : 'Adj Close' 기본값\n",
    "def create_1m_rtn(\n",
    "    _df, \n",
    "    _ticker, \n",
    "    _start = '2010-01-01', \n",
    "    _end = datetime.now(), \n",
    "    _col = 'Adj Close'\n",
    "):\n",
    "    # 복사본 생성 \n",
    "    df = _df.copy()\n",
    "    # 'Date'가 컬럼에 존재하면 인덱스로 변환\n",
    "    if 'Date' in df.columns:\n",
    "        df.set_index('Date', inplace=True)\n",
    "    # 인덱스를 시계열 변환\n",
    "    df.index = pd.to_datetime(df.index)\n",
    "    # 투자의 시작시간과 종료시간으로 인덱스 필터링\n",
    "    # 기준이되는 컬럼으로 컬럼 필터링 \n",
    "    df = df.loc[_start : _end, [_col]]\n",
    "    # 기준년월 컬럼을 생성해서 index에서 년도-월 추출하여 대입\n",
    "    df['STD-YM'] = df.index.strftime('%Y-%m')\n",
    "    # 월별 수익율 컬럼을 생성 \n",
    "    df['1m_rtn'] = 0\n",
    "    # ticker를 컬럼에 대입 \n",
    "    df['CODE'] = _ticker\n",
    "    # 기준년월의 유니크값을 생성\n",
    "    ym_list = df['STD-YM'].unique()\n",
    "    return df, ym_list\n",
    "\n"
   ]
  },
  {
   "cell_type": "code",
   "execution_count": 7,
   "id": "24f2afe3",
   "metadata": {},
   "outputs": [],
   "source": [
    "aapl = pd.read_csv(\"data/AAPL.csv\")"
   ]
  },
  {
   "cell_type": "code",
   "execution_count": 8,
   "id": "7fac7444",
   "metadata": {},
   "outputs": [],
   "source": [
    "aapl_df, ym_list = create_1m_rtn(aapl, 'AAPL')"
   ]
  },
  {
   "cell_type": "code",
   "execution_count": null,
   "id": "f3c49cce",
   "metadata": {},
   "outputs": [],
   "source": [
    "aapl_df"
   ]
  },
  {
   "cell_type": "code",
   "execution_count": null,
   "id": "1351b621",
   "metadata": {},
   "outputs": [],
   "source": [
    "ym_list"
   ]
  },
  {
   "cell_type": "code",
   "execution_count": 16,
   "id": "4a1d5404",
   "metadata": {},
   "outputs": [
    {
     "data": {
      "text/plain": [
       "1.0507885741373026"
      ]
     },
     "execution_count": 16,
     "metadata": {},
     "output_type": "execute_result"
    }
   ],
   "source": [
    "aapl_df.loc[ym_list[1], ].iloc[-1, 0] / \\\n",
    "    aapl_df.loc[ym_list[1], ].iloc[0, 0]"
   ]
  },
  {
   "cell_type": "code",
   "execution_count": null,
   "id": "9fd73af0",
   "metadata": {},
   "outputs": [],
   "source": [
    "# 특정 위치의 파일의 목록을 로드 하는 기능 \n",
    "os.listdir('./data')"
   ]
  },
  {
   "cell_type": "code",
   "execution_count": 24,
   "id": "bb2325a5",
   "metadata": {},
   "outputs": [],
   "source": [
    "files = glob(\"./data/*.csv\")"
   ]
  },
  {
   "cell_type": "markdown",
   "id": "24422172",
   "metadata": {},
   "source": [
    "- 반복문을 이용 \n",
    "1. data 폴더에 있는 파일들을 로드\n",
    "2. create_1m_rtn() 함수에 대입 ( 데이터프레임, 파일명 )\n",
    "    - price_df, ym_list 변수에 대입\n",
    "3. price_df를 새로운 데이터프레임(stock_df)에 단순 행 결합  \n",
    "4. 기준년월의 유니크 값을 이용하여 반복문 생성\n",
    "    - 기준년월의 데이터를 이용하여 인덱스 필터를 하여 월초, 월말의 데이터를 이용해서 월별 수익율 계산\n",
    "    - price_df에 월별 수익율을 대입\n",
    "    - price_df에 월말의 행을 새로운 데이터프레임(month_last_df) 단순 행결합"
   ]
  },
  {
   "cell_type": "code",
   "execution_count": 26,
   "id": "48df5ab1",
   "metadata": {},
   "outputs": [],
   "source": [
    "# 비어있는 데이터프레임 생성 \n",
    "stock_df = pd.DataFrame()\n",
    "month_last_df = pd.DataFrame()\n",
    "\n",
    "# files를 이용해서 반복문을 생성 \n",
    "for file in files:\n",
    "    # file : 특정 경로와 파일명\n",
    "    # print(file)\n",
    "    # 경로 파일명을 나눠준다. \n",
    "    folder, name = os.path.split(file)\n",
    "    # 파일명에서 이름과 확장자로 나눠준다. \n",
    "    head, tail = os.path.splitext(name)\n",
    "    # head는 create_1m_rtn에서 _ticker 매개변수에 넣어줄 인자값\n",
    "\n",
    "    # 데이터프레임 로드 \n",
    "    read_df = pd.read_csv(file)\n",
    "    # 함수 호출 \n",
    "    price_df, ym_list = create_1m_rtn(read_df, head)\n",
    "    # price_df를 stock_df에 단순 행 결합\n",
    "    stock_df = pd.concat([stock_df, price_df], axis=0)\n",
    "\n",
    "    # 두번째 반복문 생성 \n",
    "    # 월별 수익율을 계산하여 대입\n",
    "    for ym in ym_list:\n",
    "        # ym : 기준년월\n",
    "        # 월초의 가격 (매수)\n",
    "        buy = price_df.loc[ym, ].iloc[0, 0]\n",
    "        # 월말의 가격 (매도)\n",
    "        sell = price_df.loc[ym, ].iloc[-1, 0]\n",
    "        # 수익율 생성\n",
    "        rtn = sell / buy\n",
    "        # 수익율 대입 \n",
    "        price_df.loc[ym, '1m_rtn'] = rtn\n",
    "        # 월말의 데이터를 month_last_df에 단순 행 결합 \n",
    "        last_df = price_df.loc[ym, ['CODE', '1m_rtn']].tail(1)\n",
    "        month_last_df = pd.concat(\n",
    "            [month_last_df, last_df], axis=0)\n",
    "            \n",
    "\n"
   ]
  },
  {
   "cell_type": "code",
   "execution_count": 28,
   "id": "7b72a26b",
   "metadata": {},
   "outputs": [
    {
     "data": {
      "text/plain": [
       "array(['AAPL', 'AMZN', 'BND', 'GDX', 'GLD', 'GM', 'MSFT', 'SLV', 'SPY',\n",
       "       'USM'], dtype=object)"
      ]
     },
     "execution_count": 28,
     "metadata": {},
     "output_type": "execute_result"
    }
   ],
   "source": [
    "month_last_df['CODE'].unique()"
   ]
  },
  {
   "cell_type": "code",
   "execution_count": 29,
   "id": "16410f46",
   "metadata": {},
   "outputs": [],
   "source": [
    "# 백업 \n",
    "month_rtn_df = month_last_df.copy()"
   ]
  },
  {
   "cell_type": "code",
   "execution_count": 31,
   "id": "dc69e742",
   "metadata": {},
   "outputs": [],
   "source": [
    "# 인덱스를 리셋 \n",
    "month_rtn_df.reset_index(inplace=True)"
   ]
  },
  {
   "cell_type": "code",
   "execution_count": 34,
   "id": "8697c7e9",
   "metadata": {},
   "outputs": [],
   "source": [
    "# 테이블을 재구조화 \n",
    "month_rtn_df = month_rtn_df.pivot_table(\n",
    "    index = 'Date', \n",
    "    columns = 'CODE', \n",
    "    values = '1m_rtn'\n",
    ")"
   ]
  },
  {
   "cell_type": "code",
   "execution_count": 38,
   "id": "a27679a1",
   "metadata": {},
   "outputs": [
    {
     "data": {
      "text/html": [
       "<div>\n",
       "<style scoped>\n",
       "    .dataframe tbody tr th:only-of-type {\n",
       "        vertical-align: middle;\n",
       "    }\n",
       "\n",
       "    .dataframe tbody tr th {\n",
       "        vertical-align: top;\n",
       "    }\n",
       "\n",
       "    .dataframe thead th {\n",
       "        text-align: right;\n",
       "    }\n",
       "</style>\n",
       "<table border=\"1\" class=\"dataframe\">\n",
       "  <thead>\n",
       "    <tr style=\"text-align: right;\">\n",
       "      <th>CODE</th>\n",
       "      <th>AAPL</th>\n",
       "      <th>AMZN</th>\n",
       "      <th>BND</th>\n",
       "      <th>GDX</th>\n",
       "      <th>GLD</th>\n",
       "      <th>GM</th>\n",
       "      <th>MSFT</th>\n",
       "      <th>SLV</th>\n",
       "      <th>SPY</th>\n",
       "      <th>USM</th>\n",
       "    </tr>\n",
       "    <tr>\n",
       "      <th>Date</th>\n",
       "      <th></th>\n",
       "      <th></th>\n",
       "      <th></th>\n",
       "      <th></th>\n",
       "      <th></th>\n",
       "      <th></th>\n",
       "      <th></th>\n",
       "      <th></th>\n",
       "      <th></th>\n",
       "      <th></th>\n",
       "    </tr>\n",
       "  </thead>\n",
       "  <tbody>\n",
       "    <tr>\n",
       "      <th>2010-01-29</th>\n",
       "      <td>0.897435</td>\n",
       "      <td>0.936595</td>\n",
       "      <td>1.011692</td>\n",
       "      <td>0.85349</td>\n",
       "      <td>0.965027</td>\n",
       "      <td>NaN</td>\n",
       "      <td>0.910501</td>\n",
       "      <td>0.922809</td>\n",
       "      <td>0.947586</td>\n",
       "      <td>0.870922</td>\n",
       "    </tr>\n",
       "  </tbody>\n",
       "</table>\n",
       "</div>"
      ],
      "text/plain": [
       "CODE            AAPL      AMZN       BND      GDX       GLD  GM      MSFT  \\\n",
       "Date                                                                        \n",
       "2010-01-29  0.897435  0.936595  1.011692  0.85349  0.965027 NaN  0.910501   \n",
       "\n",
       "CODE             SLV       SPY       USM  \n",
       "Date                                      \n",
       "2010-01-29  0.922809  0.947586  0.870922  "
      ]
     },
     "execution_count": 38,
     "metadata": {},
     "output_type": "execute_result"
    }
   ],
   "source": [
    "month_rtn_df.head(1)"
   ]
  },
  {
   "cell_type": "code",
   "execution_count": 43,
   "id": "b9fa34b8",
   "metadata": {},
   "outputs": [],
   "source": [
    "# month_rtn_df의 데이터들을 랭크화(열의 값들은 이용)\n",
    "month_rtn_df = month_rtn_df.rank(axis=1, \n",
    "    ascending=False, \n",
    "    pct=True)"
   ]
  },
  {
   "cell_type": "code",
   "execution_count": 45,
   "id": "c3d19619",
   "metadata": {},
   "outputs": [],
   "source": [
    "# 상위의 40% 종목을 선택 \n",
    "# where() 함수를 사용 \n",
    "    # where (조건식, 거짓일때 대입된 데이터)\n",
    "month_rtn_df = \\\n",
    "    month_rtn_df.where( month_rtn_df <= 0.4, 0 )"
   ]
  },
  {
   "cell_type": "code",
   "execution_count": 47,
   "id": "a01e5ee8",
   "metadata": {},
   "outputs": [],
   "source": [
    "# 0이 아닌 데이터들은 1로 변환\n",
    "month_rtn_df[month_rtn_df != 0] =1"
   ]
  },
  {
   "cell_type": "code",
   "execution_count": 50,
   "id": "b9079a23",
   "metadata": {},
   "outputs": [
    {
     "data": {
      "text/html": [
       "<div>\n",
       "<style scoped>\n",
       "    .dataframe tbody tr th:only-of-type {\n",
       "        vertical-align: middle;\n",
       "    }\n",
       "\n",
       "    .dataframe tbody tr th {\n",
       "        vertical-align: top;\n",
       "    }\n",
       "\n",
       "    .dataframe thead th {\n",
       "        text-align: right;\n",
       "    }\n",
       "</style>\n",
       "<table border=\"1\" class=\"dataframe\">\n",
       "  <thead>\n",
       "    <tr style=\"text-align: right;\">\n",
       "      <th>CODE</th>\n",
       "      <th>AAPL</th>\n",
       "      <th>AMZN</th>\n",
       "      <th>BND</th>\n",
       "      <th>GDX</th>\n",
       "      <th>GLD</th>\n",
       "      <th>GM</th>\n",
       "      <th>MSFT</th>\n",
       "      <th>SLV</th>\n",
       "      <th>SPY</th>\n",
       "      <th>USM</th>\n",
       "    </tr>\n",
       "    <tr>\n",
       "      <th>Date</th>\n",
       "      <th></th>\n",
       "      <th></th>\n",
       "      <th></th>\n",
       "      <th></th>\n",
       "      <th></th>\n",
       "      <th></th>\n",
       "      <th></th>\n",
       "      <th></th>\n",
       "      <th></th>\n",
       "      <th></th>\n",
       "    </tr>\n",
       "  </thead>\n",
       "  <tbody>\n",
       "    <tr>\n",
       "      <th>2010-01-29</th>\n",
       "      <td>0.0</td>\n",
       "      <td>0.0</td>\n",
       "      <td>1.0</td>\n",
       "      <td>0.0</td>\n",
       "      <td>1.0</td>\n",
       "      <td>0.0</td>\n",
       "      <td>0.0</td>\n",
       "      <td>0.0</td>\n",
       "      <td>1.0</td>\n",
       "      <td>0.0</td>\n",
       "    </tr>\n",
       "  </tbody>\n",
       "</table>\n",
       "</div>"
      ],
      "text/plain": [
       "CODE        AAPL  AMZN  BND  GDX  GLD   GM  MSFT  SLV  SPY  USM\n",
       "Date                                                           \n",
       "2010-01-29   0.0   0.0  1.0  0.0  1.0  0.0   0.0  0.0  1.0  0.0"
      ]
     },
     "execution_count": 50,
     "metadata": {},
     "output_type": "execute_result"
    }
   ],
   "source": [
    "month_rtn_df.head(1)"
   ]
  },
  {
   "cell_type": "code",
   "execution_count": 49,
   "id": "96d3a727",
   "metadata": {},
   "outputs": [],
   "source": [
    "# stock_df의 code의 unique()를 변수에 저장 \n",
    "stock_codes = stock_df['CODE'].unique()"
   ]
  },
  {
   "cell_type": "code",
   "execution_count": 55,
   "id": "3b7c1a11",
   "metadata": {},
   "outputs": [
    {
     "data": {
      "text/plain": [
       "Index(['BND', 'GLD', 'SPY'], dtype='object', name='CODE')"
      ]
     },
     "execution_count": 55,
     "metadata": {},
     "output_type": "execute_result"
    }
   ],
   "source": [
    "flag_col = month_rtn_df.loc['2010-01-29',] == 1\n",
    "month_rtn_df.loc['2010-01-29' , flag_col].index"
   ]
  },
  {
   "cell_type": "code",
   "execution_count": 56,
   "id": "b0884751",
   "metadata": {},
   "outputs": [],
   "source": [
    "# 해당 일자의 구매하려는 종목들을 딕셔너리 생성 \n",
    "sig_dict = dict()\n",
    "\n",
    "for idx in month_rtn_df.index:\n",
    "    # idx : month_rtn_df의 인덱스들 (시계열)\n",
    "    flag_col = month_rtn_df.loc[idx, ] == 1\n",
    "    ticker_list = list(\n",
    "        month_rtn_df.loc[idx, flag_col].index\n",
    "    )\n",
    "    # sig_dict에 추가\n",
    "    sig_dict[idx] = ticker_list"
   ]
  },
  {
   "cell_type": "code",
   "execution_count": null,
   "id": "ea4a4874",
   "metadata": {},
   "outputs": [],
   "source": [
    "sig_dict"
   ]
  },
  {
   "cell_type": "code",
   "execution_count": 58,
   "id": "61a470b2",
   "metadata": {},
   "outputs": [],
   "source": [
    "# stock_df를 재구조화 \n",
    "stock_c_matrix = stock_df.reset_index().pivot_table(\n",
    "    index = 'Date', \n",
    "    columns = 'CODE', \n",
    "    values = stock_df.columns[0]\n",
    ")"
   ]
  },
  {
   "cell_type": "code",
   "execution_count": null,
   "id": "6469d420",
   "metadata": {},
   "outputs": [],
   "source": [
    "stock_c_matrix.head()"
   ]
  },
  {
   "cell_type": "code",
   "execution_count": 60,
   "id": "9f44985e",
   "metadata": {},
   "outputs": [],
   "source": [
    "# 거래내역 컬럼을 추가하는 함수 생성 \n",
    "def create_trade_book(_df):\n",
    "    # 복사본 생성 \n",
    "    df = _df.copy()\n",
    "    # 컬럼의 목록을 list로 생성 \n",
    "    codes = list(df.columns)\n",
    "    for code in codes:\n",
    "        df[f\"p_{code}\"] = \"\"\n",
    "        df[f\"r_{code}\"] = \"\"\n",
    "    return df"
   ]
  },
  {
   "cell_type": "code",
   "execution_count": 61,
   "id": "ded81fef",
   "metadata": {},
   "outputs": [],
   "source": [
    "book = create_trade_book(stock_c_matrix)"
   ]
  },
  {
   "cell_type": "code",
   "execution_count": null,
   "id": "191fadd6",
   "metadata": {},
   "outputs": [],
   "source": [
    "book.head(2)"
   ]
  },
  {
   "cell_type": "code",
   "execution_count": null,
   "id": "130cdcbb",
   "metadata": {},
   "outputs": [],
   "source": [
    "# sig_dict을 이용해서 구매 대기 상태 입력 \n"
   ]
  },
  {
   "cell_type": "code",
   "execution_count": 64,
   "id": "c6f5e66e",
   "metadata": {},
   "outputs": [
    {
     "name": "stdout",
     "output_type": "stream",
     "text": [
      "2010-01-29 00:00:00\n",
      "['BND', 'GLD', 'SPY']\n"
     ]
    }
   ],
   "source": [
    "for i in sig_dict:\n",
    "    print(i)\n",
    "    print(sig_dict[i])\n",
    "    break"
   ]
  },
  {
   "cell_type": "code",
   "execution_count": 67,
   "id": "1fd359ee",
   "metadata": {},
   "outputs": [
    {
     "data": {
      "text/plain": [
       "dict_items([(Timestamp('2010-01-29 00:00:00'), ['BND', 'GLD', 'SPY']), (Timestamp('2010-02-26 00:00:00'), ['AAPL', 'GDX', 'SPY']), (Timestamp('2010-03-31 00:00:00'), ['AAPL', 'AMZN', 'USM']), (Timestamp('2010-04-30 00:00:00'), ['AAPL', 'GDX', 'MSFT']), (Timestamp('2010-05-28 00:00:00'), ['BND', 'GDX', 'GLD']), (Timestamp('2010-06-30 00:00:00'), ['BND', 'GDX', 'GLD']), (Timestamp('2010-07-30 00:00:00'), ['MSFT', 'SPY', 'USM']), (Timestamp('2010-08-31 00:00:00'), ['GDX', 'GLD', 'SLV']), (Timestamp('2010-09-30 00:00:00'), ['AAPL', 'AMZN', 'SLV']), (Timestamp('2010-10-29 00:00:00'), ['AMZN', 'MSFT', 'SLV']), (Timestamp('2010-11-30 00:00:00'), ['AMZN', 'GDX', 'GLD', 'SLV']), (Timestamp('2010-12-31 00:00:00'), ['GM', 'MSFT', 'SLV', 'USM']), (Timestamp('2011-01-31 00:00:00'), ['AAPL', 'BND', 'MSFT', 'SPY']), (Timestamp('2011-02-28 00:00:00'), ['AAPL', 'GDX', 'GLD', 'SLV']), (Timestamp('2011-03-31 00:00:00'), ['AMZN', 'SLV', 'SPY', 'USM']), (Timestamp('2011-04-29 00:00:00'), ['AMZN', 'GDX', 'GLD', 'SLV']), (Timestamp('2011-05-31 00:00:00'), ['AAPL', 'BND', 'GLD', 'USM']), (Timestamp('2011-06-30 00:00:00'), ['AMZN', 'GM', 'MSFT', 'SPY']), (Timestamp('2011-07-29 00:00:00'), ['AAPL', 'AMZN', 'GLD', 'SLV']), (Timestamp('2011-08-31 00:00:00'), ['BND', 'GDX', 'GLD', 'SLV']), (Timestamp('2011-09-30 00:00:00'), ['AAPL', 'AMZN', 'BND', 'MSFT']), (Timestamp('2011-10-31 00:00:00'), ['GM', 'MSFT', 'SLV', 'SPY']), (Timestamp('2011-11-30 00:00:00'), ['GDX', 'GLD', 'SPY', 'USM']), (Timestamp('2011-12-30 00:00:00'), ['AAPL', 'BND', 'MSFT', 'USM']), (Timestamp('2012-01-31 00:00:00'), ['AAPL', 'GM', 'MSFT', 'SLV']), (Timestamp('2012-02-29 00:00:00'), ['AAPL', 'GM', 'MSFT', 'SPY']), (Timestamp('2012-03-30 00:00:00'), ['AAPL', 'AMZN', 'MSFT', 'SPY']), (Timestamp('2012-04-30 00:00:00'), ['AMZN', 'BND', 'GLD', 'MSFT']), (Timestamp('2012-05-31 00:00:00'), ['AAPL', 'BND', 'GM', 'USM']), (Timestamp('2012-06-29 00:00:00'), ['AMZN', 'MSFT', 'SPY', 'USM']), (Timestamp('2012-07-31 00:00:00'), ['AAPL', 'AMZN', 'SLV', 'USM']), (Timestamp('2012-08-31 00:00:00'), ['AAPL', 'GDX', 'GM', 'SLV']), (Timestamp('2012-09-28 00:00:00'), ['GDX', 'GLD', 'GM', 'SLV']), (Timestamp('2012-10-31 00:00:00'), ['BND', 'GDX', 'GM', 'SPY']), (Timestamp('2012-11-30 00:00:00'), ['AMZN', 'BND', 'GM', 'SLV']), (Timestamp('2012-12-31 00:00:00'), ['GM', 'MSFT', 'SPY', 'USM']), (Timestamp('2013-01-31 00:00:00'), ['AMZN', 'SLV', 'SPY', 'USM']), (Timestamp('2013-02-28 00:00:00'), ['AMZN', 'BND', 'MSFT', 'SPY']), (Timestamp('2013-03-28 00:00:00'), ['AAPL', 'GM', 'MSFT', 'SPY']), (Timestamp('2013-04-30 00:00:00'), ['AAPL', 'GM', 'MSFT', 'USM']), (Timestamp('2013-05-31 00:00:00'), ['AMZN', 'GM', 'MSFT', 'USM']), (Timestamp('2013-06-28 00:00:00'), ['AMZN', 'BND', 'SPY', 'USM']), (Timestamp('2013-07-31 00:00:00'), ['AAPL', 'AMZN', 'GDX', 'USM']), (Timestamp('2013-08-30 00:00:00'), ['AAPL', 'GDX', 'GLD', 'SLV']), (Timestamp('2013-09-30 00:00:00'), ['AMZN', 'GM', 'MSFT', 'USM']), (Timestamp('2013-10-31 00:00:00'), ['AAPL', 'AMZN', 'MSFT', 'USM']), (Timestamp('2013-11-29 00:00:00'), ['AAPL', 'AMZN', 'GM', 'MSFT']), (Timestamp('2013-12-31 00:00:00'), ['AAPL', 'GDX', 'GM', 'SPY']), (Timestamp('2014-01-31 00:00:00'), ['GDX', 'GLD', 'MSFT', 'USM']), (Timestamp('2014-02-28 00:00:00'), ['GDX', 'MSFT', 'SLV', 'SPY']), (Timestamp('2014-03-31 00:00:00'), ['AAPL', 'MSFT', 'SPY', 'USM']), (Timestamp('2014-04-30 00:00:00'), ['AAPL', 'BND', 'GDX', 'USM']), (Timestamp('2014-05-30 00:00:00'), ['AAPL', 'MSFT', 'SPY', 'USM']), (Timestamp('2014-06-30 00:00:00'), ['AMZN', 'GDX', 'GLD', 'SLV']), (Timestamp('2014-07-31 00:00:00'), ['AAPL', 'BND', 'GDX', 'MSFT']), (Timestamp('2014-08-29 00:00:00'), ['AAPL', 'AMZN', 'MSFT', 'SPY']), (Timestamp('2014-09-30 00:00:00'), ['AAPL', 'BND', 'MSFT', 'SPY']), (Timestamp('2014-10-31 00:00:00'), ['AAPL', 'MSFT', 'SPY', 'USM']), (Timestamp('2014-11-28 00:00:00'), ['AAPL', 'AMZN', 'GM', 'USM']), (Timestamp('2014-12-31 00:00:00'), ['BND', 'GM', 'SPY', 'USM']), (Timestamp('2015-01-30 00:00:00'), ['AMZN', 'GDX', 'GLD', 'SLV']), (Timestamp('2015-02-27 00:00:00'), ['AAPL', 'GM', 'MSFT', 'USM']), (Timestamp('2015-03-31 00:00:00'), ['BND', 'GLD', 'GM', 'SLV']), (Timestamp('2015-04-30 00:00:00'), ['AMZN', 'GDX', 'MSFT', 'USM']), (Timestamp('2015-05-29 00:00:00'), ['AMZN', 'GM', 'SLV', 'USM']), (Timestamp('2015-06-30 00:00:00'), ['AMZN', 'BND', 'GLD', 'USM']), (Timestamp('2015-07-31 00:00:00'), ['AMZN', 'BND', 'MSFT', 'SPY']), (Timestamp('2015-08-31 00:00:00'), ['BND', 'GDX', 'GLD', 'SLV']), (Timestamp('2015-09-30 00:00:00'), ['AAPL', 'AMZN', 'GM', 'MSFT']), (Timestamp('2015-10-30 00:00:00'), ['AMZN', 'GM', 'MSFT', 'USM']), (Timestamp('2015-11-30 00:00:00'), ['AMZN', 'BND', 'GM', 'MSFT']), (Timestamp('2015-12-31 00:00:00'), ['AMZN', 'BND', 'GLD', 'MSFT']), (Timestamp('2016-01-29 00:00:00'), ['BND', 'GDX', 'GLD', 'SLV']), (Timestamp('2016-02-29 00:00:00'), ['GDX', 'GLD', 'SLV', 'USM']), (Timestamp('2016-03-31 00:00:00'), ['AAPL', 'GDX', 'GM', 'USM']), (Timestamp('2016-04-29 00:00:00'), ['AMZN', 'GDX', 'GLD', 'SLV']), (Timestamp('2016-05-31 00:00:00'), ['AAPL', 'AMZN', 'MSFT', 'SPY']), (Timestamp('2016-06-30 00:00:00'), ['GDX', 'GLD', 'SLV', 'USM']), (Timestamp('2016-07-29 00:00:00'), ['AAPL', 'GDX', 'GM', 'MSFT']), (Timestamp('2016-08-31 00:00:00'), ['AAPL', 'GM', 'MSFT', 'SPY']), (Timestamp('2016-09-30 00:00:00'), ['AAPL', 'AMZN', 'GM', 'SLV']), (Timestamp('2016-10-31 00:00:00'), ['AAPL', 'BND', 'GM', 'MSFT']), (Timestamp('2016-11-30 00:00:00'), ['GM', 'MSFT', 'SPY', 'USM']), (Timestamp('2016-12-30 00:00:00'), ['AAPL', 'MSFT', 'SPY', 'USM']), (Timestamp('2017-01-31 00:00:00'), ['AMZN', 'GDX', 'GLD', 'SLV']), (Timestamp('2017-02-28 00:00:00'), ['AAPL', 'GLD', 'SLV', 'SPY']), (Timestamp('2017-03-31 00:00:00'), ['AAPL', 'AMZN', 'BND', 'MSFT']), (Timestamp('2017-04-28 00:00:00'), ['AMZN', 'GM', 'MSFT', 'USM']), (Timestamp('2017-05-31 00:00:00'), ['AAPL', 'AMZN', 'GDX', 'USM']), (Timestamp('2017-06-30 00:00:00'), ['BND', 'GM', 'MSFT', 'SPY']), (Timestamp('2017-07-31 00:00:00'), ['GDX', 'GLD', 'MSFT', 'SLV']), (Timestamp('2017-08-31 00:00:00'), ['AAPL', 'GDX', 'GM', 'SLV']), (Timestamp('2017-09-29 00:00:00'), ['BND', 'GM', 'MSFT', 'SPY']), (Timestamp('2017-10-31 00:00:00'), ['AAPL', 'AMZN', 'MSFT', 'USM']), (Timestamp('2017-11-30 00:00:00'), ['AAPL', 'AMZN', 'SPY', 'USM']), (Timestamp('2017-12-29 00:00:00'), ['GDX', 'GLD', 'MSFT', 'SLV']), (Timestamp('2018-01-31 00:00:00'), ['AMZN', 'GLD', 'MSFT', 'SPY']), (Timestamp('2018-02-28 00:00:00'), ['AAPL', 'AMZN', 'MSFT', 'USM']), (Timestamp('2018-03-29 00:00:00'), ['BND', 'GDX', 'GLD', 'USM']), (Timestamp('2018-04-30 00:00:00'), ['AMZN', 'GM', 'MSFT', 'SPY']), (Timestamp('2018-05-31 00:00:00'), ['AAPL', 'GM', 'MSFT', 'USM']), (Timestamp('2018-06-29 00:00:00'), ['AMZN', 'BND', 'GDX', 'USM']), (Timestamp('2018-07-31 00:00:00'), ['AAPL', 'AMZN', 'MSFT', 'SPY']), (Timestamp('2018-08-31 00:00:00'), ['AAPL', 'AMZN', 'MSFT', 'USM']), (Timestamp('2018-09-28 00:00:00'), ['GDX', 'MSFT', 'SLV', 'USM']), (Timestamp('2018-10-31 00:00:00'), ['GDX', 'GLD', 'GM', 'USM']), (Timestamp('2018-11-30 00:00:00'), ['AMZN', 'GM', 'MSFT', 'USM']), (Timestamp('2018-12-31 00:00:00'), ['BND', 'GDX', 'GLD', 'SLV']), (Timestamp('2019-01-31 00:00:00'), ['AMZN', 'GM', 'SPY', 'USM']), (Timestamp('2019-02-28 00:00:00'), ['AAPL', 'GM', 'MSFT', 'SPY']), (Timestamp('2019-03-29 00:00:00'), ['AAPL', 'AMZN', 'GDX', 'MSFT']), (Timestamp('2019-04-30 00:00:00'), ['AAPL', 'AMZN', 'MSFT', 'USM']), (Timestamp('2019-05-31 00:00:00'), ['BND', 'GDX', 'GLD', 'SLV']), (Timestamp('2019-06-24 00:00:00'), ['AAPL', 'AMZN', 'GDX', 'MSFT'])])"
      ]
     },
     "execution_count": 67,
     "metadata": {},
     "output_type": "execute_result"
    }
   ],
   "source": [
    "sig_dict.items()"
   ]
  },
  {
   "cell_type": "code",
   "execution_count": 69,
   "id": "de67f4bd",
   "metadata": {},
   "outputs": [
    {
     "name": "stdout",
     "output_type": "stream",
     "text": [
      "2010-01-29 00:00:00\n",
      "['BND', 'GLD', 'SPY']\n"
     ]
    }
   ],
   "source": [
    "for i, j in sig_dict.items():\n",
    "    # i = sig_dict.items()[0]\n",
    "    print(i)\n",
    "    print(j)\n",
    "    break"
   ]
  }
 ],
 "metadata": {
  "kernelspec": {
   "display_name": "Python 3",
   "language": "python",
   "name": "python3"
  },
  "language_info": {
   "codemirror_mode": {
    "name": "ipython",
    "version": 3
   },
   "file_extension": ".py",
   "mimetype": "text/x-python",
   "name": "python",
   "nbconvert_exporter": "python",
   "pygments_lexer": "ipython3",
   "version": "3.11.1"
  }
 },
 "nbformat": 4,
 "nbformat_minor": 5
}
