{
 "cells": [
  {
   "cell_type": "markdown",
   "id": "351077f4",
   "metadata": {},
   "source": [
    "## 상대 모멘텀\n",
    "- 여러개의 종목을 이용하여 투자를 전략\n",
    "    1. 월초부터 월말까지의 수정 종가를 이용하여 수익율 계산\n",
    "    2. 월별 수익율이 높은 n개를 선택 \n",
    "    3. 해당하는 종목들을 매수하여 해장하는 종목의 신호가 없어지면 매도하는 형식으로 수익율 생성"
   ]
  },
  {
   "cell_type": "code",
   "execution_count": null,
   "id": "29b2cfa5",
   "metadata": {},
   "outputs": [],
   "source": [
    "import pandas as pd \n",
    "import numpy as np \n",
    "import warnings\n",
    "import os \n",
    "from glob import glob\n",
    "from datetime import datetime"
   ]
  },
  {
   "cell_type": "code",
   "execution_count": null,
   "id": "4abcca4e",
   "metadata": {},
   "outputs": [],
   "source": [
    "# 경고 메시지 출력 필터 \n",
    "warnings.filterwarnings('ignore')"
   ]
  },
  {
   "cell_type": "code",
   "execution_count": null,
   "id": "fe18234c",
   "metadata": {},
   "outputs": [],
   "source": [
    "# 기준 년월 컬럼과 월별 수익율 컬럼을 생성하는 함수\n",
    "# 매개변수 5개 \n",
    "    # 데이터프레임 : 필수\n",
    "    # ticker : 필수\n",
    "    # 투자의 시작시간 : 2010-01-01 기본값\n",
    "    # 투자의 종료시간 : 현재 시간 기본값\n",
    "    # 기준이 되는 컬럼 : 'Adj Close' 기본값\n",
    "def create_1m_rtn(\n",
    "    _df, \n",
    "    _ticker, \n",
    "    _start = '2010-01-01', \n",
    "    _end = datetime.now(), \n",
    "    _col = 'Adj Close'\n",
    "):\n",
    "    # 복사본 생성 \n",
    "    df = _df.copy()\n",
    "    # 'Date'가 컬럼에 존재하면 인덱스로 변환\n",
    "    if 'Date' in df.columns:\n",
    "        df.set_index('Date', inplace=True)\n",
    "    # 인덱스를 시계열 변환\n",
    "    df.index = pd.to_datetime(df.index)\n",
    "    # 투자의 시작시간과 종료시간으로 인덱스 필터링\n",
    "    # 기준이되는 컬럼으로 컬럼 필터링 \n",
    "    df = df.loc[_start : _end, [_col]]\n",
    "    # 기준년월 컬럼을 생성해서 index에서 년도-월 추출하여 대입\n",
    "    df['STD-YM'] = df.index.strftime('%Y-%m')\n",
    "    # 월별 수익율 컬럼을 생성 \n",
    "    df['1m_rtn'] = 0\n",
    "    # ticker를 컬럼에 대입 \n",
    "    df['CODE'] = _ticker\n",
    "    # 기준년월의 유니크값을 생성\n",
    "    ym_list = df['STD-YM'].unique()\n",
    "    return df, ym_list\n",
    "\n"
   ]
  },
  {
   "cell_type": "code",
   "execution_count": null,
   "id": "24f2afe3",
   "metadata": {},
   "outputs": [],
   "source": [
    "aapl = pd.read_csv(\"data/AAPL.csv\")"
   ]
  },
  {
   "cell_type": "code",
   "execution_count": null,
   "id": "7fac7444",
   "metadata": {},
   "outputs": [],
   "source": [
    "aapl_df, ym_list = create_1m_rtn(aapl, 'AAPL')"
   ]
  },
  {
   "cell_type": "code",
   "execution_count": null,
   "id": "f3c49cce",
   "metadata": {},
   "outputs": [],
   "source": [
    "aapl_df"
   ]
  },
  {
   "cell_type": "code",
   "execution_count": null,
   "id": "1351b621",
   "metadata": {},
   "outputs": [],
   "source": [
    "ym_list"
   ]
  },
  {
   "cell_type": "code",
   "execution_count": null,
   "id": "4a1d5404",
   "metadata": {},
   "outputs": [],
   "source": [
    "aapl_df.loc[ym_list[1], ].iloc[-1, 0] / \\\n",
    "    aapl_df.loc[ym_list[1], ].iloc[0, 0]"
   ]
  },
  {
   "cell_type": "code",
   "execution_count": null,
   "id": "9fd73af0",
   "metadata": {},
   "outputs": [],
   "source": [
    "# 특정 위치의 파일의 목록을 로드 하는 기능 \n",
    "os.listdir('./data')"
   ]
  },
  {
   "cell_type": "code",
   "execution_count": null,
   "id": "bb2325a5",
   "metadata": {},
   "outputs": [],
   "source": [
    "files = glob(\"./data/*.csv\")"
   ]
  },
  {
   "cell_type": "markdown",
   "id": "24422172",
   "metadata": {},
   "source": [
    "- 반복문을 이용 \n",
    "1. data 폴더에 있는 파일들을 로드\n",
    "2. create_1m_rtn() 함수에 대입 ( 데이터프레임, 파일명 )\n",
    "    - price_df, ym_list 변수에 대입\n",
    "3. price_df를 새로운 데이터프레임(stock_df)에 단순 행 결합  \n",
    "4. 기준년월의 유니크 값을 이용하여 반복문 생성\n",
    "    - 기준년월의 데이터를 이용하여 인덱스 필터를 하여 월초, 월말의 데이터를 이용해서 월별 수익율 계산\n",
    "    - price_df에 월별 수익율을 대입\n",
    "    - price_df에 월말의 행을 새로운 데이터프레임(month_last_df) 단순 행결합"
   ]
  },
  {
   "cell_type": "code",
   "execution_count": null,
   "id": "48df5ab1",
   "metadata": {},
   "outputs": [],
   "source": [
    "# 비어있는 데이터프레임 생성 \n",
    "stock_df = pd.DataFrame()\n",
    "month_last_df = pd.DataFrame()\n",
    "\n",
    "# files를 이용해서 반복문을 생성 \n",
    "for file in files:\n",
    "    # file : 특정 경로와 파일명\n",
    "    # print(file)\n",
    "    # 경로 파일명을 나눠준다. \n",
    "    folder, name = os.path.split(file)\n",
    "    # 파일명에서 이름과 확장자로 나눠준다. \n",
    "    head, tail = os.path.splitext(name)\n",
    "    # head는 create_1m_rtn에서 _ticker 매개변수에 넣어줄 인자값\n",
    "\n",
    "    # 데이터프레임 로드 \n",
    "    read_df = pd.read_csv(file)\n",
    "    # 함수 호출 \n",
    "    price_df, ym_list = create_1m_rtn(read_df, head)\n",
    "    # price_df를 stock_df에 단순 행 결합\n",
    "    stock_df = pd.concat([stock_df, price_df], axis=0)\n",
    "\n",
    "    # 두번째 반복문 생성 \n",
    "    # 월별 수익율을 계산하여 대입\n",
    "    for ym in ym_list:\n",
    "        # ym : 기준년월\n",
    "        # 월초의 가격 (매수)\n",
    "        buy = price_df.loc[ym, ].iloc[0, 0]\n",
    "        # 월말의 가격 (매도)\n",
    "        sell = price_df.loc[ym, ].iloc[-1, 0]\n",
    "        # 수익율 생성\n",
    "        rtn = sell / buy\n",
    "        # 수익율 대입 \n",
    "        price_df.loc[ym, '1m_rtn'] = rtn\n",
    "        # 월말의 데이터를 month_last_df에 단순 행 결합 \n",
    "        last_df = price_df.loc[ym, ['CODE', '1m_rtn']].tail(1)\n",
    "        month_last_df = pd.concat(\n",
    "            [month_last_df, last_df], axis=0)\n",
    "            \n",
    "\n"
   ]
  },
  {
   "cell_type": "code",
   "execution_count": null,
   "id": "7b72a26b",
   "metadata": {},
   "outputs": [],
   "source": [
    "month_last_df['CODE'].unique()"
   ]
  },
  {
   "cell_type": "code",
   "execution_count": null,
   "id": "16410f46",
   "metadata": {},
   "outputs": [],
   "source": [
    "# 백업 \n",
    "month_rtn_df = month_last_df.copy()"
   ]
  },
  {
   "cell_type": "code",
   "execution_count": null,
   "id": "dc69e742",
   "metadata": {},
   "outputs": [],
   "source": [
    "# 인덱스를 리셋 \n",
    "month_rtn_df.reset_index(inplace=True)"
   ]
  },
  {
   "cell_type": "code",
   "execution_count": null,
   "id": "8697c7e9",
   "metadata": {},
   "outputs": [],
   "source": [
    "# 테이블을 재구조화 \n",
    "month_rtn_df = month_rtn_df.pivot_table(\n",
    "    index = 'Date', \n",
    "    columns = 'CODE', \n",
    "    values = '1m_rtn'\n",
    ")"
   ]
  },
  {
   "cell_type": "code",
   "execution_count": null,
   "id": "a27679a1",
   "metadata": {},
   "outputs": [],
   "source": [
    "month_rtn_df.head(1)"
   ]
  },
  {
   "cell_type": "code",
   "execution_count": null,
   "id": "b9fa34b8",
   "metadata": {},
   "outputs": [],
   "source": [
    "# month_rtn_df의 데이터들을 랭크화(열의 값들은 이용)\n",
    "month_rtn_df = month_rtn_df.rank(axis=1, \n",
    "    ascending=False, \n",
    "    pct=True)"
   ]
  },
  {
   "cell_type": "code",
   "execution_count": null,
   "id": "c3d19619",
   "metadata": {},
   "outputs": [],
   "source": [
    "# 상위의 40% 종목을 선택 \n",
    "# where() 함수를 사용 \n",
    "    # where (조건식, 거짓일때 대입된 데이터)\n",
    "month_rtn_df = \\\n",
    "    month_rtn_df.where( month_rtn_df <= 0.4, 0 )"
   ]
  },
  {
   "cell_type": "code",
   "execution_count": null,
   "id": "a01e5ee8",
   "metadata": {},
   "outputs": [],
   "source": [
    "# 0이 아닌 데이터들은 1로 변환\n",
    "month_rtn_df[month_rtn_df != 0] =1"
   ]
  },
  {
   "cell_type": "code",
   "execution_count": null,
   "id": "b9079a23",
   "metadata": {},
   "outputs": [],
   "source": [
    "month_rtn_df.head(1)"
   ]
  },
  {
   "cell_type": "code",
   "execution_count": null,
   "id": "96d3a727",
   "metadata": {},
   "outputs": [],
   "source": [
    "# stock_df의 code의 unique()를 변수에 저장 \n",
    "stock_codes = stock_df['CODE'].unique()"
   ]
  },
  {
   "cell_type": "code",
   "execution_count": null,
   "id": "3b7c1a11",
   "metadata": {},
   "outputs": [],
   "source": [
    "flag_col = month_rtn_df.loc['2010-01-29',] == 1\n",
    "month_rtn_df.loc['2010-01-29' , flag_col].index"
   ]
  },
  {
   "cell_type": "code",
   "execution_count": null,
   "id": "b0884751",
   "metadata": {},
   "outputs": [],
   "source": [
    "# 해당 일자의 구매하려는 종목들을 딕셔너리 생성 \n",
    "sig_dict = dict()\n",
    "\n",
    "for idx in month_rtn_df.index:\n",
    "    # idx : month_rtn_df의 인덱스들 (시계열)\n",
    "    flag_col = month_rtn_df.loc[idx, ] == 1\n",
    "    ticker_list = list(\n",
    "        month_rtn_df.loc[idx, flag_col].index\n",
    "    )\n",
    "    # sig_dict에 추가\n",
    "    sig_dict[idx] = ticker_list"
   ]
  },
  {
   "cell_type": "code",
   "execution_count": null,
   "id": "ea4a4874",
   "metadata": {},
   "outputs": [],
   "source": [
    "sig_dict"
   ]
  },
  {
   "cell_type": "code",
   "execution_count": null,
   "id": "61a470b2",
   "metadata": {},
   "outputs": [],
   "source": [
    "# stock_df를 재구조화 \n",
    "stock_c_matrix = stock_df.reset_index().pivot_table(\n",
    "    index = 'Date', \n",
    "    columns = 'CODE', \n",
    "    values = stock_df.columns[0]\n",
    ")"
   ]
  },
  {
   "cell_type": "code",
   "execution_count": null,
   "id": "6469d420",
   "metadata": {},
   "outputs": [],
   "source": [
    "stock_c_matrix.head()"
   ]
  },
  {
   "cell_type": "code",
   "execution_count": null,
   "id": "9f44985e",
   "metadata": {},
   "outputs": [],
   "source": [
    "# 거래내역 컬럼을 추가하는 함수 생성 \n",
    "def create_trade_book(_df):\n",
    "    # 복사본 생성 \n",
    "    df = _df.copy()\n",
    "    # 컬럼의 목록을 list로 생성 \n",
    "    codes = list(df.columns)\n",
    "    for code in codes:\n",
    "        df[f\"p_{code}\"] = \"\"\n",
    "        df[f\"r_{code}\"] = \"\"\n",
    "    return df"
   ]
  },
  {
   "cell_type": "code",
   "execution_count": null,
   "id": "ded81fef",
   "metadata": {},
   "outputs": [],
   "source": [
    "book = create_trade_book(stock_c_matrix)"
   ]
  },
  {
   "cell_type": "code",
   "execution_count": null,
   "id": "191fadd6",
   "metadata": {},
   "outputs": [],
   "source": [
    "book.head(2)"
   ]
  },
  {
   "cell_type": "code",
   "execution_count": null,
   "id": "130cdcbb",
   "metadata": {},
   "outputs": [],
   "source": [
    "# sig_dict을 이용해서 구매 대기 상태 입력 \n"
   ]
  },
  {
   "cell_type": "code",
   "execution_count": null,
   "id": "c6f5e66e",
   "metadata": {},
   "outputs": [],
   "source": [
    "for i in sig_dict:\n",
    "    print(i)\n",
    "    print(sig_dict[i])\n",
    "    break"
   ]
  },
  {
   "cell_type": "code",
   "execution_count": null,
   "id": "1fd359ee",
   "metadata": {},
   "outputs": [],
   "source": [
    "sig_dict.items()"
   ]
  },
  {
   "cell_type": "code",
   "execution_count": null,
   "id": "de67f4bd",
   "metadata": {},
   "outputs": [],
   "source": [
    "for i, j in sig_dict.items():\n",
    "    # i = sig_dict.items()[0]\n",
    "    print(i)\n",
    "    print(j)\n",
    "    break"
   ]
  },
  {
   "cell_type": "code",
   "execution_count": null,
   "id": "c5bfc507",
   "metadata": {},
   "outputs": [],
   "source": [
    "# sig_dict를 이용해서 구매 전 준비내역을 추가 \n",
    "for date, codes in sig_dict.items():\n",
    "    # date : key -> 시계열 데이터 (말일 데이터)\n",
    "    # codes : value -> 종목 리스트 \n",
    "    # codes 반복문 생성 \n",
    "    for code in codes:\n",
    "        # print(code)\n",
    "        # book에서 인덱스가 date인 컬럼이 r_code인 컬럼에 준비 내역을 추가\n",
    "        book.loc[date, f\"p_{code}\"] = f\"ready_{code}\" \n",
    "    # break"
   ]
  },
  {
   "cell_type": "code",
   "execution_count": null,
   "id": "fa571c7c",
   "metadata": {},
   "outputs": [],
   "source": [
    "book['p_GM'].value_counts()"
   ]
  },
  {
   "cell_type": "code",
   "execution_count": null,
   "id": "f5be690c",
   "metadata": {},
   "outputs": [],
   "source": [
    "# 보유 내역을 추가하는 함수 생성 \n",
    "def create_trading(_df, _codes):\n",
    "    buy_phase = False\n",
    "    df = _df.copy()\n",
    "    std_ym = \"\"\n",
    "\n",
    "    # _codes : 종목 리스트 -> 컬럼의 이름\n",
    "    # 종목별로 순회(컬럼)하는 반복문 생성 \n",
    "    for code in _codes: # 10번 반복\n",
    "        # 인덱스를 기준으로 반복문 생성\n",
    "        for idx in df.index:\n",
    "            # 특정 종목의 포지션을 잡는다. \n",
    "            # (전행의 p_code 컬럼이 ready)이고\n",
    "            # (현재 행의 p_code 컬럼이 \"\")\n",
    "            if (df.loc[idx, f\"p_{code}\"] == \"\") & \\\n",
    "                (df.shift().loc[idx, f\"p_{code}\"] == f\"ready_{code}\"):\n",
    "                std_ym = idx.strftime('%Y-%m')\n",
    "                buy_phase = True\n",
    "            # 구매 조건 : (현재 p_code가 \"\")이고 \n",
    "            #            (index의 년도-월과 std_ym 같고)\n",
    "            #            (buy_phase)\n",
    "            if (df.loc[idx, f\"p_{code}\"] == \"\") & \\\n",
    "                (std_ym == idx.strftime('%Y-%m')) & \\\n",
    "                    (buy_phase):\n",
    "                    df.loc[idx, f\"p_{code}\"] = f\"buy_{code}\"\n",
    "            # buy_phase, std_ym 초기화\n",
    "            if df.loc[idx, f\"p_{code}\"] == \"\":\n",
    "                buy_phase = False\n",
    "                std_ym = \"\"\n",
    "    return df\n"
   ]
  },
  {
   "cell_type": "code",
   "execution_count": null,
   "id": "b3815aae",
   "metadata": {},
   "outputs": [],
   "source": [
    "book2 = create_trading(book, stock_codes)"
   ]
  },
  {
   "cell_type": "code",
   "execution_count": null,
   "id": "8ade0da5",
   "metadata": {},
   "outputs": [],
   "source": [
    "book2['p_AMZN'].value_counts()"
   ]
  },
  {
   "cell_type": "code",
   "execution_count": null,
   "id": "0566b03a",
   "metadata": {},
   "outputs": [],
   "source": [
    "for code in stock_codes:\n",
    "    book2[f\"r_{code}\"] = \"\""
   ]
  },
  {
   "cell_type": "code",
   "execution_count": null,
   "id": "606759eb",
   "metadata": {},
   "outputs": [],
   "source": [
    "book2.head(1)"
   ]
  },
  {
   "cell_type": "code",
   "execution_count": null,
   "id": "ac16daaf",
   "metadata": {},
   "outputs": [],
   "source": [
    "# 수익율 계산하는 함수 생성 \n",
    "def multi_return(_df, _codes):\n",
    "    # 복사본 생성 \n",
    "    df = _df.copy()\n",
    "    rtn = 1\n",
    "    # 매수가 dict 형태로 구성 \n",
    "    buy_dict = dict()\n",
    "    # 매도가 dict 형태로 구성\n",
    "    sell_dict = dict()\n",
    "\n",
    "    # index를 기준으로 반복문 생성 -> 날짜별 매수, 매도 확인 \n",
    "    for idx in df.index:\n",
    "        # 종목별로 매수, 매도를 확인 \n",
    "        for code in _codes:\n",
    "            # 매수의 조건 : 2행 전(shift(2))의 p_code가 \"\"\n",
    "            #             1행 전(shift())의 p_code가 'ready_code\"\n",
    "            #             현재 행의 p_code가 'buy_code'\n",
    "            if (df.shift(2).loc[idx, f\"p_{code}\"] == \"\") & \\\n",
    "                (df.shift().loc[idx, f\"p_{code}\"] == f\"ready_{code}\") & \\\n",
    "                    (df.loc[idx, f\"p_{code}\"] == f\"buy_{code}\"):\n",
    "                    # 매수가  -> idx 행에 code 컬럼에 존재\n",
    "                    buy_dict[code] = df.loc[idx, code]\n",
    "                    print(f\"매수일 : {idx}, 매수 종목 : {code}, 매수가 : {df.loc[idx, code]}\")\n",
    "            # 매도의 조건 : 1행 전의 p_code가 buy_code\n",
    "            #              현재 행의 p_code가 \"\"\n",
    "            elif (df.shift().loc[idx, f\"p_{code}\"] == f\"buy_{code}\") & \\\n",
    "                (df.loc[idx, f\"p_{code}\"] == \"\"):\n",
    "                # 매도가 -> idx 행에 code 컬럼에 존재 \n",
    "                sell_dict[code] = df.loc[idx, code]\n",
    "                # 수익율 계산\n",
    "                rtn = sell_dict[code] / buy_dict[code]\n",
    "                df.loc[idx, f\"r_{code}\"] = rtn\n",
    "                print(f\"매도일 : {idx}, 매도 종목 : {code}, 매도가 : {sell_dict[code]}, 수익율 : {rtn}\")\n",
    "            # buy_dict, sell_dict의 code 안에 매수가 매도가 초기화\n",
    "            if df.loc[idx, f\"p_{code}\"] == \"\":\n",
    "                buy_dict[code] = 0\n",
    "                sell_dict[code] = 0\n",
    "    return df\n",
    "\n"
   ]
  },
  {
   "cell_type": "code",
   "execution_count": null,
   "id": "a482d454",
   "metadata": {},
   "outputs": [],
   "source": [
    "rtn_book = multi_return(book2, stock_codes)"
   ]
  },
  {
   "cell_type": "code",
   "execution_count": null,
   "id": "1cd0d728",
   "metadata": {},
   "outputs": [],
   "source": [
    "rtn_book['r_AAPL'].value_counts()"
   ]
  },
  {
   "cell_type": "code",
   "execution_count": null,
   "id": "88cd0b81",
   "metadata": {},
   "outputs": [],
   "source": [
    "# 누적 수익율 계산 \n",
    "def multi_acc_rtn(_df, _codes):\n",
    "    # 복사본 생성 \n",
    "    df = _df.copy()\n",
    "    acc_rtn = 1\n",
    "\n",
    "    # 인덱스를 기준으로 반복문 생성\n",
    "    for idx in df.index:\n",
    "        count = 0\n",
    "        rtn = 0\n",
    "        for code in _codes:\n",
    "            # 수익율이 존재하는가?\n",
    "            if df.loc[idx, f\"r_{code}\"]:\n",
    "                # 존재하는 경우\n",
    "                count += 1\n",
    "                rtn += df.loc[idx, f\"r_{code}\"]\n",
    "        if (rtn != 0) & (count != 0):\n",
    "            acc_rtn *= rtn / count\n",
    "            print(f\"\"\"누적 - \n",
    "            매도일 : {idx}, 매도 종목수 : {count}, \n",
    "            수익율 : {round( rtn / count , 2 )}\"\"\")\n",
    "        df.loc[idx, 'acc_rtn'] = acc_rtn\n",
    "    return df, acc_rtn\n"
   ]
  },
  {
   "cell_type": "code",
   "execution_count": null,
   "id": "531c3250",
   "metadata": {},
   "outputs": [],
   "source": [
    "# if 조건식 \n",
    "    # 조건식의 타입은? bool\n",
    "# if 뒤에 조건식이 타입이 bool이 아니라면? -> 강제로 형태를 bool 변환\n",
    "bool( [1] )"
   ]
  },
  {
   "cell_type": "code",
   "execution_count": 101,
   "id": "cef320d5",
   "metadata": {},
   "outputs": [
    {
     "name": "stdout",
     "output_type": "stream",
     "text": [
      "누적 - \n",
      "            매도일 : 2010-03-01 00:00:00, 매도 종목수 : 2, \n",
      "            수익율 : 1.01\n",
      "누적 - \n",
      "            매도일 : 2010-04-01 00:00:00, 매도 종목수 : 2, \n",
      "            수익율 : 1.06\n",
      "누적 - \n",
      "            매도일 : 2010-05-03 00:00:00, 매도 종목수 : 2, \n",
      "            수익율 : 1.03\n",
      "누적 - \n",
      "            매도일 : 2010-06-01 00:00:00, 매도 종목수 : 2, \n",
      "            수익율 : 1.05\n",
      "누적 - \n",
      "            매도일 : 2010-08-02 00:00:00, 매도 종목수 : 3, \n",
      "            수익율 : 0.98\n",
      "누적 - \n",
      "            매도일 : 2010-09-01 00:00:00, 매도 종목수 : 3, \n",
      "            수익율 : 0.93\n",
      "누적 - \n",
      "            매도일 : 2010-10-01 00:00:00, 매도 종목수 : 2, \n",
      "            수익율 : 1.07\n",
      "누적 - \n",
      "            매도일 : 2010-11-01 00:00:00, 매도 종목수 : 1, \n",
      "            수익율 : 1.08\n",
      "누적 - \n",
      "            매도일 : 2010-12-01 00:00:00, 매도 종목수 : 1, \n",
      "            수익율 : 0.97\n",
      "누적 - \n",
      "            매도일 : 2011-01-03 00:00:00, 매도 종목수 : 3, \n",
      "            수익율 : 1.08\n",
      "누적 - \n",
      "            매도일 : 2011-02-01 00:00:00, 매도 종목수 : 3, \n",
      "            수익율 : 1.15\n",
      "누적 - \n",
      "            매도일 : 2011-03-01 00:00:00, 매도 종목수 : 3, \n",
      "            수익율 : 0.98\n",
      "누적 - \n",
      "            매도일 : 2011-04-01 00:00:00, 매도 종목수 : 3, \n",
      "            수익율 : 0.99\n",
      "누적 - \n",
      "            매도일 : 2011-05-02 00:00:00, 매도 종목수 : 2, \n",
      "            수익율 : 0.98\n",
      "누적 - \n",
      "            매도일 : 2011-06-01 00:00:00, 매도 종목수 : 3, \n",
      "            수익율 : 1.02\n",
      "누적 - \n",
      "            매도일 : 2011-07-01 00:00:00, 매도 종목수 : 4, \n",
      "            수익율 : 0.99\n",
      "누적 - \n",
      "            매도일 : 2011-08-01 00:00:00, 매도 종목수 : 3, \n",
      "            수익율 : 0.98\n",
      "누적 - \n",
      "            매도일 : 2011-09-01 00:00:00, 매도 종목수 : 2, \n",
      "            수익율 : 0.99\n",
      "누적 - \n",
      "            매도일 : 2011-10-03 00:00:00, 매도 종목수 : 3, \n",
      "            수익율 : 0.88\n",
      "누적 - \n",
      "            매도일 : 2011-11-01 00:00:00, 매도 종목수 : 3, \n",
      "            수익율 : 1.02\n",
      "누적 - \n",
      "            매도일 : 2011-12-01 00:00:00, 매도 종목수 : 3, \n",
      "            수익율 : 0.97\n",
      "누적 - \n",
      "            매도일 : 2012-01-03 00:00:00, 매도 종목수 : 3, \n",
      "            수익율 : 0.96\n",
      "누적 - \n",
      "            매도일 : 2012-02-01 00:00:00, 매도 종목수 : 2, \n",
      "            수익율 : 1.05\n",
      "누적 - \n",
      "            매도일 : 2012-03-01 00:00:00, 매도 종목수 : 1, \n",
      "            수익율 : 1.05\n",
      "누적 - \n",
      "            매도일 : 2012-04-02 00:00:00, 매도 종목수 : 1, \n",
      "            수익율 : 1.1\n",
      "누적 - \n",
      "            매도일 : 2012-05-01 00:00:00, 매도 종목수 : 2, \n",
      "            수익율 : 1.22\n",
      "누적 - \n",
      "            매도일 : 2012-06-01 00:00:00, 매도 종목수 : 3, \n",
      "            수익율 : 1.03\n",
      "누적 - \n",
      "            매도일 : 2012-07-02 00:00:00, 매도 종목수 : 3, \n",
      "            수익율 : 0.99\n",
      "누적 - \n",
      "            매도일 : 2012-08-01 00:00:00, 매도 종목수 : 2, \n",
      "            수익율 : 0.99\n",
      "누적 - \n",
      "            매도일 : 2012-09-04 00:00:00, 매도 종목수 : 2, \n",
      "            수익율 : 1.05\n",
      "누적 - \n",
      "            매도일 : 2012-10-01 00:00:00, 매도 종목수 : 1, \n",
      "            수익율 : 1.09\n",
      "누적 - \n",
      "            매도일 : 2012-11-01 00:00:00, 매도 종목수 : 2, \n",
      "            수익율 : 1.07\n",
      "누적 - \n",
      "            매도일 : 2012-12-03 00:00:00, 매도 종목수 : 2, \n",
      "            수익율 : 0.98\n",
      "누적 - \n",
      "            매도일 : 2013-01-02 00:00:00, 매도 종목수 : 3, \n",
      "            수익율 : 0.98\n",
      "누적 - \n",
      "            매도일 : 2013-02-01 00:00:00, 매도 종목수 : 2, \n",
      "            수익율 : 1.17\n",
      "누적 - \n",
      "            매도일 : 2013-03-01 00:00:00, 매도 종목수 : 2, \n",
      "            수익율 : 0.95\n",
      "누적 - \n",
      "            매도일 : 2013-04-01 00:00:00, 매도 종목수 : 2, \n",
      "            수익율 : 0.99\n",
      "누적 - \n",
      "            매도일 : 2013-05-01 00:00:00, 매도 종목수 : 1, \n",
      "            수익율 : 1.09\n",
      "누적 - \n",
      "            매도일 : 2013-06-03 00:00:00, 매도 종목수 : 1, \n",
      "            수익율 : 1.06\n",
      "누적 - \n",
      "            매도일 : 2013-07-01 00:00:00, 매도 종목수 : 2, \n",
      "            수익율 : 1.23\n",
      "누적 - \n",
      "            매도일 : 2013-08-01 00:00:00, 매도 종목수 : 2, \n",
      "            수익율 : 1.03\n",
      "누적 - \n",
      "            매도일 : 2013-09-03 00:00:00, 매도 종목수 : 2, \n",
      "            수익율 : 1.2\n",
      "누적 - \n",
      "            매도일 : 2013-10-01 00:00:00, 매도 종목수 : 4, \n",
      "            수익율 : 0.95\n",
      "누적 - \n",
      "            매도일 : 2013-11-01 00:00:00, 매도 종목수 : 1, \n",
      "            수익율 : 1.04\n",
      "누적 - \n",
      "            매도일 : 2013-12-02 00:00:00, 매도 종목수 : 1, \n",
      "            수익율 : 0.95\n",
      "누적 - \n",
      "            매도일 : 2014-01-02 00:00:00, 매도 종목수 : 2, \n",
      "            수익율 : 1.18\n",
      "누적 - \n",
      "            매도일 : 2014-02-03 00:00:00, 매도 종목수 : 3, \n",
      "            수익율 : 0.94\n",
      "누적 - \n",
      "            매도일 : 2014-03-03 00:00:00, 매도 종목수 : 2, \n",
      "            수익율 : 1.0\n",
      "누적 - \n",
      "            매도일 : 2014-04-01 00:00:00, 매도 종목수 : 2, \n",
      "            수익율 : 1.0\n",
      "누적 - \n",
      "            매도일 : 2014-05-01 00:00:00, 매도 종목수 : 2, \n",
      "            수익율 : 1.06\n",
      "누적 - \n",
      "            매도일 : 2014-06-02 00:00:00, 매도 종목수 : 2, \n",
      "            수익율 : 0.97\n",
      "누적 - \n",
      "            매도일 : 2014-07-01 00:00:00, 매도 종목수 : 4, \n",
      "            수익율 : 1.06\n",
      "누적 - \n",
      "            매도일 : 2014-08-01 00:00:00, 매도 종목수 : 3, \n",
      "            수익율 : 0.95\n",
      "누적 - \n",
      "            매도일 : 2014-09-02 00:00:00, 매도 종목수 : 2, \n",
      "            수익율 : 0.99\n",
      "누적 - \n",
      "            매도일 : 2014-10-01 00:00:00, 매도 종목수 : 1, \n",
      "            수익율 : 0.93\n",
      "누적 - \n",
      "            매도일 : 2014-11-03 00:00:00, 매도 종목수 : 1, \n",
      "            수익율 : 1.0\n",
      "누적 - \n",
      "            매도일 : 2014-12-01 00:00:00, 매도 종목수 : 2, \n",
      "            수익율 : 1.09\n",
      "누적 - \n",
      "            매도일 : 2015-01-02 00:00:00, 매도 종목수 : 2, \n",
      "            수익율 : 1.05\n",
      "누적 - \n",
      "            매도일 : 2015-02-02 00:00:00, 매도 종목수 : 4, \n",
      "            수익율 : 0.99\n",
      "누적 - \n",
      "            매도일 : 2015-03-02 00:00:00, 매도 종목수 : 4, \n",
      "            수익율 : 0.97\n",
      "누적 - \n",
      "            매도일 : 2015-04-01 00:00:00, 매도 종목수 : 3, \n",
      "            수익율 : 0.95\n",
      "누적 - \n",
      "            매도일 : 2015-05-01 00:00:00, 매도 종목수 : 4, \n",
      "            수익율 : 0.97\n",
      "누적 - \n",
      "            매도일 : 2015-06-01 00:00:00, 매도 종목수 : 2, \n",
      "            수익율 : 0.97\n",
      "누적 - \n",
      "            매도일 : 2015-07-01 00:00:00, 매도 종목수 : 2, \n",
      "            수익율 : 0.93\n",
      "누적 - \n",
      "            매도일 : 2015-08-03 00:00:00, 매도 종목수 : 2, \n",
      "            수익율 : 0.97\n",
      "누적 - \n",
      "            매도일 : 2015-09-01 00:00:00, 매도 종목수 : 3, \n",
      "            수익율 : 1.0\n",
      "누적 - \n",
      "            매도일 : 2015-10-01 00:00:00, 매도 종목수 : 4, \n",
      "            수익율 : 0.99\n",
      "누적 - \n",
      "            매도일 : 2015-11-02 00:00:00, 매도 종목수 : 1, \n",
      "            수익율 : 1.11\n",
      "누적 - \n",
      "            매도일 : 2015-12-01 00:00:00, 매도 종목수 : 1, \n",
      "            수익율 : 0.96\n",
      "누적 - \n",
      "            매도일 : 2016-01-04 00:00:00, 매도 종목수 : 1, \n",
      "            수익율 : 1.1\n",
      "누적 - \n",
      "            매도일 : 2016-02-01 00:00:00, 매도 종목수 : 2, \n",
      "            수익율 : 1.17\n",
      "누적 - \n",
      "            매도일 : 2016-03-01 00:00:00, 매도 종목수 : 1, \n",
      "            수익율 : 1.01\n",
      "누적 - \n",
      "            매도일 : 2016-04-01 00:00:00, 매도 종목수 : 2, \n",
      "            수익율 : 1.09\n",
      "누적 - \n",
      "            매도일 : 2016-05-02 00:00:00, 매도 종목수 : 3, \n",
      "            수익율 : 0.98\n",
      "누적 - \n",
      "            매도일 : 2016-06-01 00:00:00, 매도 종목수 : 3, \n",
      "            수익율 : 1.13\n",
      "누적 - \n",
      "            매도일 : 2016-07-01 00:00:00, 매도 종목수 : 4, \n",
      "            수익율 : 1.0\n",
      "누적 - \n",
      "            매도일 : 2016-08-01 00:00:00, 매도 종목수 : 3, \n",
      "            수익율 : 1.02\n",
      "누적 - \n",
      "            매도일 : 2016-09-01 00:00:00, 매도 종목수 : 1, \n",
      "            수익율 : 0.91\n",
      "누적 - \n",
      "            매도일 : 2016-10-03 00:00:00, 매도 종목수 : 2, \n",
      "            수익율 : 1.01\n",
      "누적 - \n",
      "            매도일 : 2016-11-01 00:00:00, 매도 종목수 : 2, \n",
      "            수익율 : 0.96\n",
      "누적 - \n",
      "            매도일 : 2016-12-01 00:00:00, 매도 종목수 : 2, \n",
      "            수익율 : 1.01\n",
      "누적 - \n",
      "            매도일 : 2017-01-03 00:00:00, 매도 종목수 : 1, \n",
      "            수익율 : 1.15\n",
      "누적 - \n",
      "            매도일 : 2017-02-01 00:00:00, 매도 종목수 : 4, \n",
      "            수익율 : 1.09\n",
      "누적 - \n",
      "            매도일 : 2017-03-01 00:00:00, 매도 종목수 : 2, \n",
      "            수익율 : 0.99\n",
      "누적 - \n",
      "            매도일 : 2017-04-03 00:00:00, 매도 종목수 : 3, \n",
      "            수익율 : 1.02\n",
      "누적 - \n",
      "            매도일 : 2017-05-01 00:00:00, 매도 종목수 : 2, \n",
      "            수익율 : 1.03\n",
      "누적 - \n",
      "            매도일 : 2017-06-01 00:00:00, 매도 종목수 : 2, \n",
      "            수익율 : 1.04\n",
      "누적 - \n",
      "            매도일 : 2017-07-03 00:00:00, 매도 종목수 : 4, \n",
      "            수익율 : 0.99\n",
      "누적 - \n",
      "            매도일 : 2017-08-01 00:00:00, 매도 종목수 : 3, \n",
      "            수익율 : 1.0\n",
      "누적 - \n",
      "            매도일 : 2017-09-01 00:00:00, 매도 종목수 : 2, \n",
      "            수익율 : 1.07\n",
      "누적 - \n",
      "            매도일 : 2017-10-02 00:00:00, 매도 종목수 : 3, \n",
      "            수익율 : 0.98\n",
      "누적 - \n",
      "            매도일 : 2017-11-01 00:00:00, 매도 종목수 : 3, \n",
      "            수익율 : 1.07\n",
      "누적 - \n",
      "            매도일 : 2017-12-01 00:00:00, 매도 종목수 : 1, \n",
      "            수익율 : 1.14\n",
      "누적 - \n",
      "            매도일 : 2018-01-02 00:00:00, 매도 종목수 : 4, \n",
      "            수익율 : 1.04\n",
      "누적 - \n",
      "            매도일 : 2018-02-01 00:00:00, 매도 종목수 : 2, \n",
      "            수익율 : 1.0\n",
      "누적 - \n",
      "            매도일 : 2018-03-01 00:00:00, 매도 종목수 : 2, \n",
      "            수익율 : 0.97\n",
      "누적 - \n",
      "            매도일 : 2018-04-02 00:00:00, 매도 종목수 : 3, \n",
      "            수익율 : 0.99\n",
      "누적 - \n",
      "            매도일 : 2018-05-01 00:00:00, 매도 종목수 : 4, \n",
      "            수익율 : 0.96\n",
      "누적 - \n",
      "            매도일 : 2018-06-01 00:00:00, 매도 종목수 : 2, \n",
      "            수익율 : 1.03\n",
      "누적 - \n",
      "            매도일 : 2018-07-02 00:00:00, 매도 종목수 : 3, \n",
      "            수익율 : 1.05\n",
      "누적 - \n",
      "            매도일 : 2018-08-01 00:00:00, 매도 종목수 : 3, \n",
      "            수익율 : 0.97\n",
      "누적 - \n",
      "            매도일 : 2018-09-04 00:00:00, 매도 종목수 : 1, \n",
      "            수익율 : 1.03\n",
      "누적 - \n",
      "            매도일 : 2018-10-01 00:00:00, 매도 종목수 : 2, \n",
      "            수익율 : 1.15\n",
      "누적 - \n",
      "            매도일 : 2018-11-01 00:00:00, 매도 종목수 : 2, \n",
      "            수익율 : 1.01\n",
      "누적 - \n",
      "            매도일 : 2018-12-03 00:00:00, 매도 종목수 : 2, \n",
      "            수익율 : 1.02\n",
      "누적 - \n",
      "            매도일 : 2019-01-02 00:00:00, 매도 종목수 : 4, \n",
      "            수익율 : 0.98\n",
      "누적 - \n",
      "            매도일 : 2019-02-01 00:00:00, 매도 종목수 : 4, \n",
      "            수익율 : 1.03\n",
      "누적 - \n",
      "            매도일 : 2019-03-01 00:00:00, 매도 종목수 : 2, \n",
      "            수익율 : 0.93\n",
      "누적 - \n",
      "            매도일 : 2019-04-01 00:00:00, 매도 종목수 : 2, \n",
      "            수익율 : 1.02\n",
      "누적 - \n",
      "            매도일 : 2019-05-01 00:00:00, 매도 종목수 : 1, \n",
      "            수익율 : 0.93\n",
      "누적 - \n",
      "            매도일 : 2019-06-03 00:00:00, 매도 종목수 : 4, \n",
      "            수익율 : 0.97\n"
     ]
    }
   ],
   "source": [
    "multi_df, acc_rtn = multi_acc_rtn(rtn_book, stock_codes)"
   ]
  },
  {
   "cell_type": "code",
   "execution_count": 96,
   "id": "47a28e85",
   "metadata": {},
   "outputs": [
    {
     "data": {
      "text/plain": [
       "9.25277276147396"
      ]
     },
     "execution_count": 96,
     "metadata": {},
     "output_type": "execute_result"
    }
   ],
   "source": [
    "acc_rtn"
   ]
  }
 ],
 "metadata": {
  "kernelspec": {
   "display_name": "Python 3",
   "language": "python",
   "name": "python3"
  },
  "language_info": {
   "codemirror_mode": {
    "name": "ipython",
    "version": 3
   },
   "file_extension": ".py",
   "mimetype": "text/x-python",
   "name": "python",
   "nbconvert_exporter": "python",
   "pygments_lexer": "ipython3",
   "version": "3.11.1"
  }
 },
 "nbformat": 4,
 "nbformat_minor": 5
}
