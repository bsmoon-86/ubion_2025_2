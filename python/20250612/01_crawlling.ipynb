{
 "cells": [
  {
   "cell_type": "code",
   "execution_count": null,
   "id": "3337601f",
   "metadata": {},
   "outputs": [],
   "source": [
    "import requests\n",
    "from bs4 import BeautifulSoup as bs\n",
    "import pandas as pd"
   ]
  },
  {
   "cell_type": "code",
   "execution_count": null,
   "id": "425d2f6a",
   "metadata": {},
   "outputs": [],
   "source": [
    "res = requests.get(\"http://finance.naver.com\")"
   ]
  },
  {
   "cell_type": "code",
   "execution_count": null,
   "id": "d426cded",
   "metadata": {},
   "outputs": [],
   "source": [
    "soup = bs(res.text, 'html.parser')"
   ]
  },
  {
   "cell_type": "code",
   "execution_count": null,
   "id": "0adc6f91",
   "metadata": {},
   "outputs": [],
   "source": [
    "dfs = pd.read_html(res.text)"
   ]
  },
  {
   "cell_type": "code",
   "execution_count": null,
   "id": "67d32cbb",
   "metadata": {},
   "outputs": [],
   "source": [
    "len(dfs)"
   ]
  },
  {
   "cell_type": "code",
   "execution_count": null,
   "id": "6356c633",
   "metadata": {},
   "outputs": [],
   "source": [
    "!pip install html5lib"
   ]
  },
  {
   "cell_type": "code",
   "execution_count": null,
   "id": "f4f7047f",
   "metadata": {},
   "outputs": [],
   "source": [
    "pd.read_html('http://finance.naver.com', encoding='cp949')"
   ]
  },
  {
   "cell_type": "code",
   "execution_count": 13,
   "id": "d2df93cf",
   "metadata": {},
   "outputs": [],
   "source": [
    "div_data = soup.find(\n",
    "    'div', attrs = {\n",
    "        'class' : 'section_sise_top'\n",
    "    }\n",
    ")"
   ]
  },
  {
   "cell_type": "code",
   "execution_count": 16,
   "id": "f631a63b",
   "metadata": {},
   "outputs": [
    {
     "name": "stderr",
     "output_type": "stream",
     "text": [
      "C:\\Users\\moons\\AppData\\Local\\Temp\\ipykernel_21120\\621143457.py:1: FutureWarning: Passing literal html to 'read_html' is deprecated and will be removed in a future version. To read from a literal string, wrap it in a 'StringIO' object.\n",
      "  pd.read_html(str(div_data))\n"
     ]
    },
    {
     "data": {
      "text/plain": [
       "[                          종목명   현재가      전일대비      등락률\n",
       " 0            KODEX 200선물인버스2X  1617      하락 2   -0.12%\n",
       " 1      삼성 인버스 2X WTI원유 선물 ETN    80      하락 9  -10.11%\n",
       " 2                   이스트아시아홀딩스    65      상승 4   +6.56%\n",
       " 3                   한국ANKOR유전   271     상승 43  +18.86%\n",
       " 4                        일신석재  2850    상승 255   +9.83%\n",
       " 5                       좋은사람들  1415    상승 206  +17.04%\n",
       " 6                        우리기술  2445     상승 90   +3.82%\n",
       " 7   신한 인버스 2X WTI원유 선물 ETN(H)    69      하락 7   -9.21%\n",
       " 8                    PS일렉트로닉스  3920    상승 330   +9.19%\n",
       " 9                       씨엑스아이    71      상승 6   +9.23%\n",
       " 10                         신원  1888    상승 121   +6.85%\n",
       " 11                  KODEX 인버스  3860        보합    0.00%\n",
       " 12                       인디에프  1288    상승 199  +18.27%\n",
       " 13                        아난티  9660  상승 1,870  +24.01%\n",
       " 14                         파루  1612     하락 62   -3.70%,\n",
       "           종목명    현재가      전일대비      등락률\n",
       " 0         아난티   9660  상승 1,870  +24.01%\n",
       " 1        지투파워  11810  상승 2,150  +22.26%\n",
       " 2     두산에너빌리티  53350  상승 2,250   +4.40%\n",
       " 3       대아티아이   5170    상승 480  +10.23%\n",
       " 4        대한전선  16240     하락 90   -0.55%\n",
       " 5       엑스게이트   9190    상승 590   +6.86%\n",
       " 6       한화솔루션  36700  하락 1,550   -4.05%\n",
       " 7        흥구석유  12040  상승 1,030   +9.36%\n",
       " 8        모나용평   5420    상승 630  +13.15%\n",
       " 9        한전기술  80000  상승 8,600  +12.04%\n",
       " 10       한화오션  83700  상승 4,300   +5.42%\n",
       " 11      보성파워텍   3305    상승 125   +3.93%\n",
       " 12      삼성중공업  17760    상승 440   +2.54%\n",
       " 13    LS마린솔루션  31200  상승 1,850   +6.30%\n",
       " 14  HD현대인프라코어  10750    상승 100   +0.94%,\n",
       "           종목명    현재가      전일대비      등락률\n",
       " 0         위니아     69     상승 29  +72.50%\n",
       " 1         아난티   9660  상승 1,870  +24.01%\n",
       " 2        지투파워  11840  상승 2,180  +22.57%\n",
       " 3        상지건설  14600  상승 2,560  +21.26%\n",
       " 4   한국ANKOR유전    271     상승 43  +18.86%\n",
       " 5     엠에프엠코리아     38      상승 6  +18.75%\n",
       " 6        인디에프   1288    상승 199  +18.27%\n",
       " 7       좋은사람들   1415    상승 206  +17.04%\n",
       " 8      중앙에너비스  15590  상승 2,220  +16.60%\n",
       " 9        나인테크   4330    상승 585  +15.62%\n",
       " 10         조비  15240  상승 1,840  +13.73%\n",
       " 11       모나용평   5430    상승 640  +13.36%\n",
       " 12      형지엘리트   2210    상승 247  +12.58%\n",
       " 13       한전기술  79900  상승 8,500  +11.90%\n",
       " 14      지노믹트리  14460  상승 1,450  +11.15%,\n",
       "         종목명    현재가      전일대비      등락률\n",
       " 0       아난티   9660  상승 1,870  +24.01%\n",
       " 1      지투파워  11810  상승 2,150  +22.26%\n",
       " 2    중앙에너비스  15620  상승 2,250  +16.83%\n",
       " 3      모나용평   5420    상승 630  +13.15%\n",
       " 4      한전기술  80000  상승 8,600  +12.04%\n",
       " 5     지노믹트리  14450  상승 1,440  +11.07%\n",
       " 6     케이엔에스  11460  상승 1,110  +10.72%\n",
       " 7     대아티아이   5170    상승 480  +10.23%\n",
       " 8      흥구석유  12040  상승 1,030   +9.36%\n",
       " 9      코아시아   4020    상승 330   +8.94%\n",
       " 10  현대엘리베이터  84700  상승 6,100   +7.76%\n",
       " 11     한국카본  22600  상승 1,550   +7.36%\n",
       " 12      젬백스  63700  상승 4,200   +7.06%\n",
       " 13     한국석유  13090    상승 860   +7.03%\n",
       " 14    엑스게이트   9190    상승 590   +6.86%,\n",
       "                              종목명    현재가       전일대비      등락률\n",
       " 0   하나 S&P 인버스 2X WTI원유 선물 ETN B  14510  하락 -1,750  -10.76%\n",
       " 1   KB S&P 인버스 2X WTI원유 선물 ETN B  14535  하락 -1,730  -10.64%\n",
       " 2      한투 블룸버그인버스2XWTI원유선물 ETN B  14545  하락 -1,705  -10.49%\n",
       " 3    삼성 블룸버그 인버스2X WTI원유선물 ETN B  14515  하락 -1,695  -10.46%\n",
       " 4   메리츠 솔랙티브 -2X WTI원유 선물 ETN(H)  16120  하락 -1,815  -10.12%\n",
       " 5         삼성 인버스 2X WTI원유 선물 ETN     80      하락 -9  -10.11%\n",
       " 6    신한 블룸버그 인버스2X WTI원유선물 ETN B  14510  하락 -1,620  -10.04%\n",
       " 7      미래에셋 인버스 2X 원유선물혼합 ETN(H)  11270  하락 -1,215   -9.73%\n",
       " 8      신한 인버스 2X WTI원유 선물 ETN(H)     69      하락 -7   -9.21%\n",
       " 9                           와이즈넛  17370  하락 -1,730   -9.06%\n",
       " 10                        로킷헬스케어  15600  하락 -1,490   -8.72%\n",
       " 11   N2 인버스 레버리지 WTI원유 선물 ETN(H)     63      하락 -6   -8.70%\n",
       " 12                       제이준코스메틱   8360    하락 -660   -7.32%\n",
       " 13                      오가닉티코스메틱    472     하락 -37   -7.27%\n",
       " 14                            닷밀   3265    하락 -235   -6.71%,\n",
       "           종목명     현재가       전일대비     등락률\n",
       " 0         소룩스    5210    하락 -250  -4.58%\n",
       " 1       한솔케미칼  151000  하락 -7,200  -4.55%\n",
       " 2        실리콘투   59200  하락 -2,600  -4.21%\n",
       " 3       한화솔루션   36700  하락 -1,550  -4.05%\n",
       " 4       메디포스트   11150    하락 -450  -3.88%\n",
       " 5        티씨케이   98100  하락 -3,800  -3.73%\n",
       " 6   넥스트바이오메디컬   46900  하락 -1,800  -3.70%\n",
       " 7        사조산업   64600  하락 -2,400  -3.58%\n",
       " 8         엑시콘   11310    하락 -390  -3.33%\n",
       " 9          엠로   53200  하락 -1,800  -3.27%\n",
       " 10      서진시스템   21100    하락 -700  -3.21%\n",
       " 11   미래에셋벤처투자    6970    하락 -230  -3.19%\n",
       " 12         CJ  151800  하락 -5,000  -3.19%\n",
       " 13       신풍제약   10740    하락 -340  -3.07%\n",
       " 14       노바렉스   17510    하락 -550  -3.05%,\n",
       "           종목명      현재가       전일대비     등락률\n",
       " 0        삼성전자    59500     하락 400  -0.67%\n",
       " 1      SK하이닉스   244000   상승 4,000  +1.67%\n",
       " 2    삼성바이오로직스  1028500  하락 14,500  -1.39%\n",
       " 3    LG에너지솔루션   297500   상승 5,000  +1.71%\n",
       " 4   한화에어로스페이스   917000  상승 12,000  +1.33%\n",
       " 5         현대차   203500   상승 2,500  +1.24%\n",
       " 6        KB금융   106500     하락 700  -0.65%\n",
       " 7       삼성전자우    48850     하락 250  -0.51%\n",
       " 8          기아    98300   상승 1,400  +1.44%\n",
       " 9     HD현대중공업   421000   상승 3,000  +0.72%\n",
       " 10       셀트리온   161000   하락 1,200  -0.74%\n",
       " 11    두산에너빌리티    53500   상승 2,400  +4.70%\n",
       " 12      NAVER   201500     상승 500  +0.25%\n",
       " 13       신한지주    59000     하락 800  -1.34%\n",
       " 14       삼성물산   170700   하락 2,500  -1.44%,\n",
       "           종목명      현재가       전일대비     등락률\n",
       " 0        삼성전자    59500     하락 400  -0.67%\n",
       " 1      SK하이닉스   244000   상승 4,000  +1.67%\n",
       " 2    삼성바이오로직스  1030000  하락 13,000  -1.25%\n",
       " 3    LG에너지솔루션   297500   상승 5,000  +1.71%\n",
       " 4   한화에어로스페이스   914000   상승 9,000  +0.99%\n",
       " 5         현대차   203500   상승 2,500  +1.24%\n",
       " 6        KB금융   106600     하락 600  -0.56%\n",
       " 7          기아    98100   상승 1,200  +1.24%\n",
       " 8     HD현대중공업   421500   상승 3,500  +0.84%\n",
       " 9        셀트리온   161100   하락 1,100  -0.68%\n",
       " 10    두산에너빌리티    53350   상승 2,250  +4.40%\n",
       " 11      NAVER   201500     상승 500  +0.25%\n",
       " 12       신한지주    59100     하락 700  -1.17%\n",
       " 13       삼성물산   170800   하락 2,400  -1.39%\n",
       " 14      현대모비스   286000   하락 2,500  -0.87%]"
      ]
     },
     "execution_count": 16,
     "metadata": {},
     "output_type": "execute_result"
    }
   ],
   "source": [
    "pd.read_html(str(div_data))"
   ]
  },
  {
   "cell_type": "code",
   "execution_count": 17,
   "id": "bc9bfe5a",
   "metadata": {},
   "outputs": [],
   "source": [
    "codes = ['005930', '000270', '005380', '042660', '225570']"
   ]
  },
  {
   "cell_type": "code",
   "execution_count": 18,
   "id": "48c6cce3",
   "metadata": {},
   "outputs": [],
   "source": [
    "code = codes[0]\n",
    "base_url = \"http://finance.naver.com/item/main.naver?code=\"\n",
    "res = requests.get(\n",
    "    base_url + code\n",
    ")"
   ]
  },
  {
   "cell_type": "code",
   "execution_count": 19,
   "id": "2f8e2b70",
   "metadata": {},
   "outputs": [],
   "source": [
    "# 응답 데이터를 문자형으로 받아서 BeautifulSoup class로 파싱\n",
    "soup = bs(res.text, 'html.parser')"
   ]
  },
  {
   "cell_type": "code",
   "execution_count": 21,
   "id": "1043b96f",
   "metadata": {},
   "outputs": [],
   "source": [
    "# 파일의 이름으로 사용할 종목명을 추출 \n",
    "# div 태그 중 class가 h_company 태그를 선택\n",
    "div_data = soup.find(\n",
    "    'div', attrs = {\n",
    "        'class' : 'h_company'\n",
    "    }\n",
    ")"
   ]
  },
  {
   "cell_type": "code",
   "execution_count": 24,
   "id": "348f6440",
   "metadata": {},
   "outputs": [],
   "source": [
    "# div_data에서 h2태그를 선택해서 문자를 추출 \n",
    "company_name = div_data.find('h2').get_text().rstrip()"
   ]
  },
  {
   "cell_type": "code",
   "execution_count": 25,
   "id": "5c947ad0",
   "metadata": {},
   "outputs": [
    {
     "data": {
      "text/plain": [
       "'삼성전자'"
      ]
     },
     "execution_count": 25,
     "metadata": {},
     "output_type": "execute_result"
    }
   ],
   "source": [
    "company_name"
   ]
  },
  {
   "cell_type": "code",
   "execution_count": 26,
   "id": "4b635cbf",
   "metadata": {},
   "outputs": [],
   "source": [
    "# soup에서 div중 class가 invest_trend인 태그를 선택 \n",
    "invest_data = soup.find(\n",
    "    'div', attrs = {\n",
    "        'class' : 'invest_trend'\n",
    "    }\n",
    ")"
   ]
  },
  {
   "cell_type": "code",
   "execution_count": 28,
   "id": "6b6ea6be",
   "metadata": {},
   "outputs": [
    {
     "name": "stderr",
     "output_type": "stream",
     "text": [
      "C:\\Users\\moons\\AppData\\Local\\Temp\\ipykernel_21120\\246570055.py:1: FutureWarning: Passing literal html to 'read_html' is deprecated and will be removed in a future version. To read from a literal string, wrap it in a 'StringIO' object.\n",
      "  dfs = pd.read_html(\n"
     ]
    }
   ],
   "source": [
    "dfs = pd.read_html(\n",
    "    str(invest_data)\n",
    ")"
   ]
  },
  {
   "cell_type": "code",
   "execution_count": 33,
   "id": "3a27145d",
   "metadata": {},
   "outputs": [],
   "source": [
    "# 결측치가 포함된 행을 제거 \n",
    "trade_info = dfs[0].dropna(axis=0).reset_index(drop=True)\n",
    "fori_org = dfs[1].dropna(axis=0).reset_index(drop=True)"
   ]
  },
  {
   "cell_type": "code",
   "execution_count": 34,
   "id": "f8d18162",
   "metadata": {},
   "outputs": [],
   "source": [
    "trade_info.to_csv(f\"data/{company_name}_거래원정보.csv\", index=False)\n",
    "fori_org.to_csv(f\"data/{company_name}_외국인,기관.csv\", index=False)"
   ]
  },
  {
   "cell_type": "code",
   "execution_count": null,
   "id": "eb23594d",
   "metadata": {},
   "outputs": [
    {
     "name": "stderr",
     "output_type": "stream",
     "text": [
      "C:\\Users\\moons\\AppData\\Local\\Temp\\ipykernel_21120\\1416468829.py:26: FutureWarning: Passing literal html to 'read_html' is deprecated and will be removed in a future version. To read from a literal string, wrap it in a 'StringIO' object.\n",
      "  dfs = pd.read_html( str(invest_data) )\n",
      "C:\\Users\\moons\\AppData\\Local\\Temp\\ipykernel_21120\\1416468829.py:26: FutureWarning: Passing literal html to 'read_html' is deprecated and will be removed in a future version. To read from a literal string, wrap it in a 'StringIO' object.\n",
      "  dfs = pd.read_html( str(invest_data) )\n",
      "C:\\Users\\moons\\AppData\\Local\\Temp\\ipykernel_21120\\1416468829.py:26: FutureWarning: Passing literal html to 'read_html' is deprecated and will be removed in a future version. To read from a literal string, wrap it in a 'StringIO' object.\n",
      "  dfs = pd.read_html( str(invest_data) )\n",
      "C:\\Users\\moons\\AppData\\Local\\Temp\\ipykernel_21120\\1416468829.py:26: FutureWarning: Passing literal html to 'read_html' is deprecated and will be removed in a future version. To read from a literal string, wrap it in a 'StringIO' object.\n",
      "  dfs = pd.read_html( str(invest_data) )\n",
      "C:\\Users\\moons\\AppData\\Local\\Temp\\ipykernel_21120\\1416468829.py:26: FutureWarning: Passing literal html to 'read_html' is deprecated and will be removed in a future version. To read from a literal string, wrap it in a 'StringIO' object.\n",
      "  dfs = pd.read_html( str(invest_data) )\n"
     ]
    }
   ],
   "source": [
    "for code in codes:\n",
    "    base_url = \"http://finance.naver.com/item/main.naver?code=\"\n",
    "    res = requests.get(\n",
    "        base_url + code\n",
    "    )\n",
    "    # 응답 데이터를 문자형으로 받아서 BeautifulSoup class로 파싱\n",
    "    soup = bs(res.text, 'html.parser')\n",
    "\n",
    "    # 파일의 이름으로 사용할 종목명을 추출 \n",
    "    # div 태그 중 class가 h_company 태그를 선택\n",
    "    div_data = soup.find(\n",
    "        'div', attrs = {\n",
    "            'class' : 'h_company'\n",
    "        }\n",
    "    )\n",
    "    # div_data에서 h2태그를 선택해서 문자를 추출 \n",
    "    company_name = div_data.find('h2').get_text().rstrip()\n",
    "\n",
    "    # soup에서 div중 class가 invest_trend인 태그를 선택 \n",
    "    invest_data = soup.find(\n",
    "        'div', attrs = {\n",
    "            'class' : 'invest_trend'\n",
    "        }\n",
    "    )\n",
    "\n",
    "    dfs = pd.read_html( str(invest_data) )\n",
    "    # 결측치가 포함된 행을 제거 \n",
    "    trade_info = dfs[0].dropna(axis=0).reset_index(drop=True)\n",
    "    fori_org = dfs[1].dropna(axis=0).reset_index(drop=True)\n",
    "\n",
    "    trade_info.to_csv(f\"data/{company_name}_거래원정보.csv\", index=False)\n",
    "    fori_org.to_csv(f\"data/{company_name}_외국인,기관.csv\", index=False)\n",
    "\n",
    "    "
   ]
  }
 ],
 "metadata": {
  "kernelspec": {
   "display_name": "Python 3",
   "language": "python",
   "name": "python3"
  },
  "language_info": {
   "codemirror_mode": {
    "name": "ipython",
    "version": 3
   },
   "file_extension": ".py",
   "mimetype": "text/x-python",
   "name": "python",
   "nbconvert_exporter": "python",
   "pygments_lexer": "ipython3",
   "version": "3.11.1"
  }
 },
 "nbformat": 4,
 "nbformat_minor": 5
}
