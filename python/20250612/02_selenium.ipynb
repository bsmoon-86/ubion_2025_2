{
 "cells": [
  {
   "cell_type": "markdown",
   "id": "c54b2c23",
   "metadata": {},
   "source": [
    "## selenium 라이브러리 \n",
    "- 웹 어플리케이션을 테스트하기 위한 라이브러리 \n",
    "- python code를 이용해서 웹 브라우져 제어 \n",
    "    - 함수의 형태로 클릭이나, 특정 공간에 값을 입력하는 부분 \n",
    "- 구글 크롬을 이용시 구버전을 이용하게 되면 별도의 소프트웨어 설치 필요"
   ]
  },
  {
   "cell_type": "code",
   "execution_count": null,
   "id": "7049a322",
   "metadata": {},
   "outputs": [],
   "source": [
    "# 라이브러리 설치 \n",
    "# !pip install selenium"
   ]
  },
  {
   "cell_type": "code",
   "execution_count": null,
   "id": "aa84cd59",
   "metadata": {},
   "outputs": [],
   "source": [
    "from selenium import webdriver"
   ]
  },
  {
   "cell_type": "code",
   "execution_count": null,
   "id": "d3e206c1",
   "metadata": {},
   "outputs": [],
   "source": [
    "# webdriver : 웹 브라우져들의 모임\n",
    "driver = webdriver.Chrome()"
   ]
  },
  {
   "cell_type": "code",
   "execution_count": null,
   "id": "ea86372e",
   "metadata": {},
   "outputs": [],
   "source": [
    "# 웹브라우져에 url 주소를 입력하여 요청청\n",
    "driver.get(\"http://www.naver.com\")"
   ]
  },
  {
   "cell_type": "code",
   "execution_count": null,
   "id": "e0843a9e",
   "metadata": {},
   "outputs": [],
   "source": [
    "# 웹브라우져에 html문서를 문자형으로 받아온다. \n",
    "html_data = driver.page_source"
   ]
  },
  {
   "cell_type": "code",
   "execution_count": null,
   "id": "70ddd933",
   "metadata": {},
   "outputs": [],
   "source": [
    "html_data"
   ]
  },
  {
   "cell_type": "code",
   "execution_count": null,
   "id": "4a40bdc3",
   "metadata": {},
   "outputs": [],
   "source": [
    "from bs4 import BeautifulSoup as bs"
   ]
  },
  {
   "cell_type": "code",
   "execution_count": null,
   "id": "d05af051",
   "metadata": {},
   "outputs": [],
   "source": [
    "soup = bs(html_data, 'html.parser')"
   ]
  },
  {
   "cell_type": "code",
   "execution_count": null,
   "id": "5c8290ed",
   "metadata": {},
   "outputs": [],
   "source": [
    "len(\n",
    "    soup.find_all('a')\n",
    ")"
   ]
  },
  {
   "cell_type": "markdown",
   "id": "4bccdf5f",
   "metadata": {},
   "source": [
    "- find_element()\n",
    "    - driver에 있는 태그중 조건에 맞는 첫번째 태그를 선택\n",
    "    - BeautifulSoup에서 find() 함수의 결과와 비슷한 기능\n",
    "    - 결과 값에 find_xx() 함수를 이용 가능 \n",
    "- find_elements()\n",
    "    - driver에 있는 태그중 조건에 맞는 모든 태그를 선택\n",
    "    - BeautifulSoup에서 find_all() 함수의 결과와 비슷한 기능"
   ]
  },
  {
   "cell_type": "code",
   "execution_count": null,
   "id": "a479c487",
   "metadata": {},
   "outputs": [],
   "source": [
    "# html문서 안에서 태그의 속성의 값으로 접근이 수월한 기능\n",
    "from selenium.webdriver.common.by import By\n",
    "# 웹 브라우져에서 특정 이벤트를 발생시키는 기능\n",
    "from selenium.webdriver.common.keys import Keys"
   ]
  },
  {
   "cell_type": "code",
   "execution_count": null,
   "id": "6dd01d11",
   "metadata": {},
   "outputs": [],
   "source": [
    "# html 문서에서 id가 query인 태그를 선택\n",
    "element = driver.find_element( By.ID, 'query' )"
   ]
  },
  {
   "cell_type": "code",
   "execution_count": null,
   "id": "e2fdcecb",
   "metadata": {},
   "outputs": [],
   "source": [
    "# element의 특정 문자를 입력 \n",
    "element.send_keys('커피')"
   ]
  },
  {
   "cell_type": "code",
   "execution_count": null,
   "id": "79caf7b8",
   "metadata": {},
   "outputs": [],
   "source": [
    "# element에 키보드의 특수 이벤트인 ENTER를 입력 \n",
    "element.send_keys( Keys.ENTER )"
   ]
  },
  {
   "cell_type": "code",
   "execution_count": null,
   "id": "4db44821",
   "metadata": {},
   "outputs": [],
   "source": [
    "# class가 lst_total인 태그를 선택 \n",
    "navbar = driver.find_element(By.CLASS_NAME, 'lst_total')"
   ]
  },
  {
   "cell_type": "code",
   "execution_count": null,
   "id": "7d8b6597",
   "metadata": {},
   "outputs": [],
   "source": [
    "# navbar에서 class가 link_tit인 태그를 모두 찾는다\n",
    "links = navbar.find_elements(By.CLASS_NAME, 'link_tit')"
   ]
  },
  {
   "cell_type": "code",
   "execution_count": null,
   "id": "5fdfe19e",
   "metadata": {},
   "outputs": [],
   "source": [
    "links[0].click()"
   ]
  },
  {
   "cell_type": "code",
   "execution_count": null,
   "id": "3f42a7ab",
   "metadata": {},
   "outputs": [],
   "source": [
    "driver.window_handles"
   ]
  },
  {
   "cell_type": "code",
   "execution_count": null,
   "id": "f6a17f6f",
   "metadata": {},
   "outputs": [],
   "source": [
    "soup_test = bs(driver.page_source, 'html.parser')"
   ]
  },
  {
   "cell_type": "code",
   "execution_count": null,
   "id": "ce058613",
   "metadata": {},
   "outputs": [],
   "source": [
    "soup_test.title"
   ]
  },
  {
   "cell_type": "code",
   "execution_count": null,
   "id": "6d49d643",
   "metadata": {},
   "outputs": [],
   "source": [
    "# driver에서 탭을 이동 \n",
    "driver.switch_to.window(\n",
    "    driver.window_handles[1]\n",
    ")"
   ]
  },
  {
   "cell_type": "code",
   "execution_count": null,
   "id": "f6adc5c6",
   "metadata": {},
   "outputs": [],
   "source": [
    "soup = bs(\n",
    "    driver.page_source, 'html.parser'\n",
    ")"
   ]
  },
  {
   "cell_type": "code",
   "execution_count": null,
   "id": "8324a608",
   "metadata": {},
   "outputs": [],
   "source": [
    "soup.title"
   ]
  },
  {
   "cell_type": "markdown",
   "id": "d4947465",
   "metadata": {},
   "source": [
    "1. soup에서 div 태그 중 id가 mw-content-text 인 태그를 선택해서 div_data 변수에 대입 \n",
    "2. div_data에서 p태그를 모두 찾아서 p_list에 대입\n",
    "3. p_list 각각의 원소의 문자를 추출하여 새로운 리스트 p_text에 대입"
   ]
  },
  {
   "cell_type": "code",
   "execution_count": null,
   "id": "8465573b",
   "metadata": {},
   "outputs": [],
   "source": [
    "div_data = soup.find(\n",
    "    'div', attrs={\n",
    "        'id' : 'mw-content-text'\n",
    "    }\n",
    ")"
   ]
  },
  {
   "cell_type": "code",
   "execution_count": null,
   "id": "66c1c033",
   "metadata": {},
   "outputs": [],
   "source": [
    "len(\n",
    "    div_data.find_all('p')\n",
    ")"
   ]
  },
  {
   "cell_type": "code",
   "execution_count": null,
   "id": "175f26bc",
   "metadata": {},
   "outputs": [],
   "source": [
    "p_list = div_data.find_all('p')"
   ]
  },
  {
   "cell_type": "code",
   "execution_count": null,
   "id": "1b3bdfe5",
   "metadata": {},
   "outputs": [],
   "source": [
    "p_list[2].get_text().strip()"
   ]
  },
  {
   "cell_type": "code",
   "execution_count": null,
   "id": "948a5592",
   "metadata": {},
   "outputs": [],
   "source": [
    "for p_data in p_list:\n",
    "    print(p_data.get_text().strip())"
   ]
  },
  {
   "cell_type": "code",
   "execution_count": null,
   "id": "012bb383",
   "metadata": {},
   "outputs": [],
   "source": [
    "p_text = list(\n",
    "    map(\n",
    "        lambda p_data : p_data.get_text().strip(), \n",
    "        p_list\n",
    "    )\n",
    ")"
   ]
  },
  {
   "cell_type": "code",
   "execution_count": null,
   "id": "5dbbffbd",
   "metadata": {},
   "outputs": [],
   "source": [
    "p_text"
   ]
  },
  {
   "cell_type": "markdown",
   "id": "b46624d5",
   "metadata": {},
   "source": [
    "1. driver 생성 \n",
    "2. \"https://finance.yahoo.com/\" 주소로 요청\n",
    "3. id가 'ybar-sbq'인 태그를 선택 \n",
    "4. AAPL 문자열 입력하고 ENTER 이벤트 발생\n",
    "5. CSS_SECLECTOR가 item yf-x2pyjv인 태그 중 두번째를 클릭 \n",
    "6. page_source 불러와서 BeautifulSoup 변환\n",
    "7. driver 종료\n",
    "8. ul태그 중 class가 stream-items yf-1drgw5l인 태그를 선택 \n",
    "9. a태그를 모두 선택 \n",
    "10. a 태그 각각 원소에서 href 속성의 값을 새로운 리스트에 대입 \n",
    "    - 중복 데이터 제거 \n",
    "    - http로 시작하는 주소만 대입\n",
    "11. 8번 과정에서 선택한 tag에서 h3 태그를 모두 선택 \n",
    "12. h3 각각 원소에 텍스트 추출하여 새로운 리스트에 대입"
   ]
  },
  {
   "cell_type": "code",
   "execution_count": null,
   "id": "b3d2debf",
   "metadata": {},
   "outputs": [],
   "source": [
    "from selenium import webdriver\n",
    "from selenium.webdriver.common.by import By\n",
    "from selenium.webdriver.common.keys import Keys\n",
    "from bs4 import BeautifulSoup as bs"
   ]
  },
  {
   "cell_type": "code",
   "execution_count": null,
   "id": "3b644d40",
   "metadata": {},
   "outputs": [],
   "source": [
    "# 웹 브라우져를 오픈\n",
    "driver = webdriver.Chrome()"
   ]
  },
  {
   "cell_type": "code",
   "execution_count": null,
   "id": "a69b8fc8",
   "metadata": {},
   "outputs": [],
   "source": [
    "# 야후파이낸스 접속\n",
    "driver.get(\"https://finance.yahoo.com/\")"
   ]
  },
  {
   "cell_type": "code",
   "execution_count": null,
   "id": "9ef8d5d4",
   "metadata": {},
   "outputs": [],
   "source": [
    "# 상단 검색어창을 선택\n",
    "element = driver.find_element(By.ID, 'ybar-sbq')"
   ]
  },
  {
   "cell_type": "code",
   "execution_count": null,
   "id": "1b188309",
   "metadata": {},
   "outputs": [],
   "source": [
    "# AAPL를 입력\n",
    "element.send_keys('AAPL')"
   ]
  },
  {
   "cell_type": "code",
   "execution_count": null,
   "id": "563b9661",
   "metadata": {},
   "outputs": [],
   "source": [
    "# 검색어창에 키보드의 특수 이벤트 (ENTER) 입력\n",
    "element.send_keys(Keys.ENTER)"
   ]
  },
  {
   "cell_type": "code",
   "execution_count": null,
   "id": "15a12626",
   "metadata": {},
   "outputs": [],
   "source": [
    "# 좌측 사이드바의 메뉴들을 모두 선택\n",
    "elements = driver.find_elements(By.CSS_SELECTOR, '.item.yf-x2pyjv')"
   ]
  },
  {
   "cell_type": "code",
   "execution_count": null,
   "id": "0ebc3c12",
   "metadata": {},
   "outputs": [],
   "source": [
    "len(elements)"
   ]
  },
  {
   "cell_type": "code",
   "execution_count": null,
   "id": "5f1acb95",
   "metadata": {},
   "outputs": [],
   "source": [
    "# 좌측 사이드바 메뉴 중 2번째 메뉴를 클릭 -> news\n",
    "elements[1].click()"
   ]
  },
  {
   "cell_type": "code",
   "execution_count": null,
   "id": "792773ff",
   "metadata": {},
   "outputs": [],
   "source": [
    "soup = bs(driver.page_source, 'html.parser')"
   ]
  },
  {
   "cell_type": "code",
   "execution_count": null,
   "id": "d8088665",
   "metadata": {},
   "outputs": [],
   "source": [
    "# 웹 브라우져 종료\n",
    "driver.close()"
   ]
  },
  {
   "cell_type": "code",
   "execution_count": null,
   "id": "dcf70f55",
   "metadata": {},
   "outputs": [],
   "source": [
    "ul_data = soup.find(\n",
    "    'ul', attrs={\n",
    "        'class' : 'stream-items yf-1drgw5l'\n",
    "    }\n",
    ")"
   ]
  },
  {
   "cell_type": "code",
   "execution_count": null,
   "id": "ab490ecf",
   "metadata": {},
   "outputs": [],
   "source": [
    "a_list = ul_data.find_all('a')"
   ]
  },
  {
   "cell_type": "code",
   "execution_count": null,
   "id": "726520d6",
   "metadata": {},
   "outputs": [],
   "source": [
    "_list = []\n",
    "for i in a_list:\n",
    "    href = i['href']\n",
    "    if (href not in _list) and (href.startswith('https://finance')):\n",
    "        _list.append(href)\n",
    "_list"
   ]
  },
  {
   "cell_type": "code",
   "execution_count": null,
   "id": "de509b7a",
   "metadata": {},
   "outputs": [],
   "source": [
    "# 기사 목록에서 헤드라인은 h3태그에 존재\n",
    "# ul_data에서 h3 태그를 모두 찾는다. \n",
    "h3_list = ul_data.find_all('h3')"
   ]
  },
  {
   "cell_type": "code",
   "execution_count": null,
   "id": "d80d02cf",
   "metadata": {},
   "outputs": [],
   "source": [
    "headline = []\n",
    "for h3_data in h3_list:\n",
    "    headline.append( h3_data.get_text() )"
   ]
  },
  {
   "cell_type": "code",
   "execution_count": null,
   "id": "2ba935f7",
   "metadata": {},
   "outputs": [],
   "source": [
    "headline"
   ]
  },
  {
   "cell_type": "code",
   "execution_count": null,
   "id": "6f475a25",
   "metadata": {},
   "outputs": [],
   "source": [
    "print(len(_list))\n",
    "print(len(headline))"
   ]
  },
  {
   "cell_type": "code",
   "execution_count": null,
   "id": "78f7386e",
   "metadata": {},
   "outputs": [],
   "source": [
    "import pandas as pd"
   ]
  },
  {
   "cell_type": "code",
   "execution_count": null,
   "id": "c3d3ca52",
   "metadata": {},
   "outputs": [],
   "source": [
    "df = pd.DataFrame( \n",
    "    { \n",
    "        'headline': headline, \n",
    "        'url' : _list\n",
    "    } \n",
    ")"
   ]
  },
  {
   "cell_type": "code",
   "execution_count": null,
   "id": "715b8da8",
   "metadata": {},
   "outputs": [],
   "source": [
    "df.to_csv('./data/AAPL_news.csv', index=False)"
   ]
  },
  {
   "cell_type": "code",
   "execution_count": null,
   "id": "dca699e8",
   "metadata": {},
   "outputs": [],
   "source": []
  }
 ],
 "metadata": {
  "kernelspec": {
   "display_name": "Python 3",
   "language": "python",
   "name": "python3"
  },
  "language_info": {
   "codemirror_mode": {
    "name": "ipython",
    "version": 3
   },
   "file_extension": ".py",
   "mimetype": "text/x-python",
   "name": "python",
   "nbconvert_exporter": "python",
   "pygments_lexer": "ipython3",
   "version": "3.11.1"
  }
 },
 "nbformat": 4,
 "nbformat_minor": 5
}
