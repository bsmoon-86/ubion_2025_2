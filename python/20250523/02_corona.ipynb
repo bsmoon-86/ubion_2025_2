{
 "cells": [
  {
   "cell_type": "code",
   "execution_count": null,
   "id": "2234efd8",
   "metadata": {},
   "outputs": [],
   "source": [
    "import pandas as pd"
   ]
  },
  {
   "cell_type": "code",
   "execution_count": null,
   "id": "f08740b3",
   "metadata": {},
   "outputs": [],
   "source": [
    "# corona.csv 파일을 로드 \n",
    "# 상위로 이동 -> 상위로 이동 -> csv 폴더로 이동 -> corona.csv\n",
    "corona = pd.read_csv(\"../../csv/corona.csv\")"
   ]
  },
  {
   "cell_type": "code",
   "execution_count": null,
   "id": "1667a17c",
   "metadata": {},
   "outputs": [],
   "source": [
    "# 데이터프레임의 정보를 확인 \n",
    "corona.info()"
   ]
  },
  {
   "cell_type": "code",
   "execution_count": null,
   "id": "e8dc0f55",
   "metadata": {},
   "outputs": [],
   "source": [
    "# 결측치의 개수를 확인 \n",
    "corona.isna().sum()"
   ]
  },
  {
   "cell_type": "code",
   "execution_count": null,
   "id": "b6d646ce",
   "metadata": {},
   "outputs": [],
   "source": [
    "corona.head()"
   ]
  },
  {
   "cell_type": "code",
   "execution_count": null,
   "id": "a41d4388",
   "metadata": {},
   "outputs": [],
   "source": [
    "corona.tail()"
   ]
  },
  {
   "cell_type": "code",
   "execution_count": null,
   "id": "31c078ad",
   "metadata": {},
   "outputs": [],
   "source": [
    "# 데이터프레임에서 특정 컬럼을 제외 시킨다. \n",
    "# 특정 컬럼을 제외하고 나머지의 컬럼만 선택하여 필터링\n",
    "# 특정 컬럼을 제외(버린다.)\n",
    "# 제거 -> drop\n",
    "# drop() -> axis : 행을 제거할것인가, 열을 제거할것인가\n",
    "# Unnamed: 0 컬럼을 제거 \n",
    "corona.drop( ['Unnamed: 0', 'seq'], axis='columns', inplace=True)"
   ]
  },
  {
   "cell_type": "code",
   "execution_count": null,
   "id": "a8f4e536",
   "metadata": {},
   "outputs": [],
   "source": [
    "corona.columns"
   ]
  },
  {
   "cell_type": "code",
   "execution_count": null,
   "id": "136e3177",
   "metadata": {},
   "outputs": [],
   "source": [
    "# 컬럼의 이름을 변경 \n",
    "# rename() 함수 -> 행이나 열의 이름을 변경하는 함수수\n",
    "corona.rename(\n",
    "    columns = {\n",
    "        'createDt' : '등록일시', \n",
    "        'deathCnt' : '총사망자', \n",
    "        'decideCnt' : '총확진자', \n",
    "        'stateDt' : '기준일', \n",
    "        'stateTime' : '기준시간', \n",
    "        'updateDt' : '수정일시', \n",
    "        'accExamCnt' : '누적의심자', \n",
    "        'accDefRate' : '누적확진율'\n",
    "    }\n",
    ")\n",
    "corona\n"
   ]
  },
  {
   "cell_type": "code",
   "execution_count": null,
   "id": "c6265c1c",
   "metadata": {},
   "outputs": [],
   "source": [
    "# class 안에 있는 columns 변수의 데이터를 변경\n",
    "corona.columns = ['등록일시', '총사망자', '총확진자', '기준일', \n",
    "                  '기준시간', '수정일시', '누적의심자', '누적확진율']"
   ]
  },
  {
   "cell_type": "code",
   "execution_count": null,
   "id": "5252a6cc",
   "metadata": {},
   "outputs": [],
   "source": [
    "corona.head(1)"
   ]
  },
  {
   "cell_type": "code",
   "execution_count": null,
   "id": "9b48d405",
   "metadata": {},
   "outputs": [],
   "source": [
    "# 1차 작업완료 \n",
    "# 백업본 데이터를 생성\n",
    "# df에 corona 데이터를 복사 \n",
    "df = corona.copy()"
   ]
  },
  {
   "cell_type": "code",
   "execution_count": null,
   "id": "d5c7ed5d",
   "metadata": {},
   "outputs": [],
   "source": [
    "# 과연 누적의심자 데이터를 언제부터 수집을 하지 않았는가?\n",
    "# 조건 -> 누적의심자 Series에서 결측치와 같음\n",
    "flag = df['누적의심자'].isna()"
   ]
  },
  {
   "cell_type": "code",
   "execution_count": null,
   "id": "627ee8bb",
   "metadata": {},
   "outputs": [],
   "source": [
    "df.loc[flag, '등록일시']"
   ]
  },
  {
   "cell_type": "code",
   "execution_count": null,
   "id": "34158e53",
   "metadata": {},
   "outputs": [],
   "source": [
    "df.loc[128, '등록일시']"
   ]
  },
  {
   "cell_type": "code",
   "execution_count": null,
   "id": "c5fb80dd",
   "metadata": {},
   "outputs": [],
   "source": [
    "# 누적의심자 데이터를 수집하지 않은 날짜부터 +- 2일의 데이터를 확인\n",
    "df.loc[125:129, ]"
   ]
  },
  {
   "cell_type": "code",
   "execution_count": null,
   "id": "3f7d0a2c",
   "metadata": {},
   "outputs": [],
   "source": [
    "flag2 = df['누적확진율'].isna()\n",
    "\n",
    "df.loc[flag2, ]"
   ]
  },
  {
   "cell_type": "code",
   "execution_count": null,
   "id": "1e375e35",
   "metadata": {},
   "outputs": [],
   "source": [
    "df.iloc[194:199, ]"
   ]
  },
  {
   "cell_type": "code",
   "execution_count": null,
   "id": "1d84b2eb",
   "metadata": {},
   "outputs": [],
   "source": [
    "# 데이터프레임에서 정렬을 변경\n",
    "# 정렬 -> sort\n",
    "# 정렬을 바꾸는 기준 (index, values)\n",
    "# sort_index() -> index의 값을 기준으로 정렬을 변경\n",
    "# sort_values() -> 특정 컬럼의 값들을 기준으로 정렬을 변경 \n",
    "# 등록일시를 기준으로 오름차순 정렬 \n",
    "# 차순정렬 방법 매개변수 ascending = True 로 구성\n",
    "df.sort_values(\n",
    "    ['등록일시'], \n",
    "    inplace=True\n",
    ")"
   ]
  },
  {
   "cell_type": "code",
   "execution_count": null,
   "id": "12214efb",
   "metadata": {},
   "outputs": [],
   "source": [
    "df"
   ]
  },
  {
   "cell_type": "code",
   "execution_count": 38,
   "id": "caf85bb4",
   "metadata": {},
   "outputs": [],
   "source": [
    "# 인덱스를 초기화\n",
    "# 인덱스 -> index\n",
    "# 초기화 -> reset\n",
    "# reset_index()\n",
    "df.reset_index(drop=True, inplace=True)"
   ]
  },
  {
   "cell_type": "code",
   "execution_count": 39,
   "id": "55e147dd",
   "metadata": {},
   "outputs": [
    {
     "data": {
      "text/html": [
       "<div>\n",
       "<style scoped>\n",
       "    .dataframe tbody tr th:only-of-type {\n",
       "        vertical-align: middle;\n",
       "    }\n",
       "\n",
       "    .dataframe tbody tr th {\n",
       "        vertical-align: top;\n",
       "    }\n",
       "\n",
       "    .dataframe thead th {\n",
       "        text-align: right;\n",
       "    }\n",
       "</style>\n",
       "<table border=\"1\" class=\"dataframe\">\n",
       "  <thead>\n",
       "    <tr style=\"text-align: right;\">\n",
       "      <th></th>\n",
       "      <th>등록일시</th>\n",
       "      <th>총사망자</th>\n",
       "      <th>총확진자</th>\n",
       "      <th>기준일</th>\n",
       "      <th>기준시간</th>\n",
       "      <th>수정일시</th>\n",
       "      <th>누적의심자</th>\n",
       "      <th>누적확진율</th>\n",
       "    </tr>\n",
       "  </thead>\n",
       "  <tbody>\n",
       "    <tr>\n",
       "      <th>0</th>\n",
       "      <td>2020-03-10 00:00:00.000</td>\n",
       "      <td>54</td>\n",
       "      <td>7513</td>\n",
       "      <td>20200310</td>\n",
       "      <td>00:00</td>\n",
       "      <td>2021-10-07 10:30:51.51</td>\n",
       "      <td>210144.0</td>\n",
       "      <td>3.919308</td>\n",
       "    </tr>\n",
       "    <tr>\n",
       "      <th>1</th>\n",
       "      <td>2020-03-11 00:00:00.000</td>\n",
       "      <td>60</td>\n",
       "      <td>7755</td>\n",
       "      <td>20200311</td>\n",
       "      <td>00:00</td>\n",
       "      <td>2021-10-07 10:30:51.51</td>\n",
       "      <td>222395.0</td>\n",
       "      <td>3.804175</td>\n",
       "    </tr>\n",
       "    <tr>\n",
       "      <th>2</th>\n",
       "      <td>2020-03-12 00:00:00.000</td>\n",
       "      <td>66</td>\n",
       "      <td>7869</td>\n",
       "      <td>20200312</td>\n",
       "      <td>00:00</td>\n",
       "      <td>2021-10-07 10:30:51.51</td>\n",
       "      <td>234998.0</td>\n",
       "      <td>3.621744</td>\n",
       "    </tr>\n",
       "    <tr>\n",
       "      <th>3</th>\n",
       "      <td>2020-03-13 00:00:00.000</td>\n",
       "      <td>67</td>\n",
       "      <td>7979</td>\n",
       "      <td>20200313</td>\n",
       "      <td>00:00</td>\n",
       "      <td>2021-10-07 10:30:51.51</td>\n",
       "      <td>248647.0</td>\n",
       "      <td>3.458499</td>\n",
       "    </tr>\n",
       "    <tr>\n",
       "      <th>4</th>\n",
       "      <td>2020-03-14 00:00:00.000</td>\n",
       "      <td>72</td>\n",
       "      <td>8086</td>\n",
       "      <td>20200314</td>\n",
       "      <td>00:00</td>\n",
       "      <td>2021-10-07 10:30:51.51</td>\n",
       "      <td>261335.0</td>\n",
       "      <td>3.318000</td>\n",
       "    </tr>\n",
       "    <tr>\n",
       "      <th>...</th>\n",
       "      <td>...</td>\n",
       "      <td>...</td>\n",
       "      <td>...</td>\n",
       "      <td>...</td>\n",
       "      <td>...</td>\n",
       "      <td>...</td>\n",
       "      <td>...</td>\n",
       "      <td>...</td>\n",
       "    </tr>\n",
       "    <tr>\n",
       "      <th>815</th>\n",
       "      <td>2022-06-04 08:56:49.219</td>\n",
       "      <td>24238</td>\n",
       "      <td>18153814</td>\n",
       "      <td>20220604</td>\n",
       "      <td>00:00</td>\n",
       "      <td>2022-06-08 09:11:26.303</td>\n",
       "      <td>NaN</td>\n",
       "      <td>NaN</td>\n",
       "    </tr>\n",
       "    <tr>\n",
       "      <th>816</th>\n",
       "      <td>2022-06-05 08:53:19.426</td>\n",
       "      <td>24258</td>\n",
       "      <td>18163648</td>\n",
       "      <td>20220605</td>\n",
       "      <td>00:00</td>\n",
       "      <td>2022-06-08 09:11:04.758</td>\n",
       "      <td>NaN</td>\n",
       "      <td>NaN</td>\n",
       "    </tr>\n",
       "    <tr>\n",
       "      <th>817</th>\n",
       "      <td>2022-06-06 09:00:06.734</td>\n",
       "      <td>24279</td>\n",
       "      <td>18168670</td>\n",
       "      <td>20220606</td>\n",
       "      <td>00:00</td>\n",
       "      <td>2022-06-08 09:10:50.441</td>\n",
       "      <td>NaN</td>\n",
       "      <td>NaN</td>\n",
       "    </tr>\n",
       "    <tr>\n",
       "      <th>818</th>\n",
       "      <td>2022-06-07 09:09:00.897</td>\n",
       "      <td>24299</td>\n",
       "      <td>18174842</td>\n",
       "      <td>20220607</td>\n",
       "      <td>00:00</td>\n",
       "      <td>2022-06-08 09:10:36.846</td>\n",
       "      <td>NaN</td>\n",
       "      <td>NaN</td>\n",
       "    </tr>\n",
       "    <tr>\n",
       "      <th>819</th>\n",
       "      <td>2022-06-08 09:09:05.982</td>\n",
       "      <td>24305</td>\n",
       "      <td>18188200</td>\n",
       "      <td>20220608</td>\n",
       "      <td>00:00</td>\n",
       "      <td>NaN</td>\n",
       "      <td>NaN</td>\n",
       "      <td>NaN</td>\n",
       "    </tr>\n",
       "  </tbody>\n",
       "</table>\n",
       "<p>820 rows × 8 columns</p>\n",
       "</div>"
      ],
      "text/plain": [
       "                        등록일시   총사망자      총확진자       기준일   기준시간  \\\n",
       "0    2020-03-10 00:00:00.000     54      7513  20200310  00:00   \n",
       "1    2020-03-11 00:00:00.000     60      7755  20200311  00:00   \n",
       "2    2020-03-12 00:00:00.000     66      7869  20200312  00:00   \n",
       "3    2020-03-13 00:00:00.000     67      7979  20200313  00:00   \n",
       "4    2020-03-14 00:00:00.000     72      8086  20200314  00:00   \n",
       "..                       ...    ...       ...       ...    ...   \n",
       "815  2022-06-04 08:56:49.219  24238  18153814  20220604  00:00   \n",
       "816  2022-06-05 08:53:19.426  24258  18163648  20220605  00:00   \n",
       "817  2022-06-06 09:00:06.734  24279  18168670  20220606  00:00   \n",
       "818  2022-06-07 09:09:00.897  24299  18174842  20220607  00:00   \n",
       "819  2022-06-08 09:09:05.982  24305  18188200  20220608  00:00   \n",
       "\n",
       "                        수정일시     누적의심자     누적확진율  \n",
       "0     2021-10-07 10:30:51.51  210144.0  3.919308  \n",
       "1     2021-10-07 10:30:51.51  222395.0  3.804175  \n",
       "2     2021-10-07 10:30:51.51  234998.0  3.621744  \n",
       "3     2021-10-07 10:30:51.51  248647.0  3.458499  \n",
       "4     2021-10-07 10:30:51.51  261335.0  3.318000  \n",
       "..                       ...       ...       ...  \n",
       "815  2022-06-08 09:11:26.303       NaN       NaN  \n",
       "816  2022-06-08 09:11:04.758       NaN       NaN  \n",
       "817  2022-06-08 09:10:50.441       NaN       NaN  \n",
       "818  2022-06-08 09:10:36.846       NaN       NaN  \n",
       "819                      NaN       NaN       NaN  \n",
       "\n",
       "[820 rows x 8 columns]"
      ]
     },
     "execution_count": 39,
     "metadata": {},
     "output_type": "execute_result"
    }
   ],
   "source": [
    "df"
   ]
  },
  {
   "cell_type": "code",
   "execution_count": null,
   "id": "7793cee3",
   "metadata": {},
   "outputs": [
    {
     "data": {
      "text/plain": [
       "6"
      ]
     },
     "execution_count": 42,
     "metadata": {},
     "output_type": "execute_result"
    }
   ],
   "source": [
    "# 일일사망자의 수를 확인 \n",
    "# index 1의 총사망자 - index 0의 총사망자 --> index 1의 일일사망자\n",
    "df.loc[1, '총사망자'] - df.loc[0, '총사망자']\n",
    "df.loc[2, '총사망자'] - df.loc[1, '총사망자']\n",
    "# ....\n",
    "df.loc[819, '총사망자'] - df.loc[818, '총사망자자']"
   ]
  },
  {
   "cell_type": "code",
   "execution_count": null,
   "id": "3b8a6097",
   "metadata": {},
   "outputs": [],
   "source": [
    "datas = [0]\n",
    "for i in range(1, len(df), 1):\n",
    "    data = df.loc[i, '총사망자'] - df.loc[i-1, '총사망자']\n",
    "    datas.append(data)"
   ]
  },
  {
   "cell_type": "code",
   "execution_count": 50,
   "id": "0740dfae",
   "metadata": {},
   "outputs": [
    {
     "data": {
      "text/plain": [
       "819"
      ]
     },
     "execution_count": 50,
     "metadata": {},
     "output_type": "execute_result"
    }
   ],
   "source": [
    "len(datas)"
   ]
  },
  {
   "cell_type": "code",
   "execution_count": null,
   "id": "8a621ee9",
   "metadata": {},
   "outputs": [],
   "source": [
    "df['일일사망자'] = datas"
   ]
  },
  {
   "cell_type": "code",
   "execution_count": 53,
   "id": "391d237e",
   "metadata": {},
   "outputs": [
    {
     "data": {
      "text/html": [
       "<div>\n",
       "<style scoped>\n",
       "    .dataframe tbody tr th:only-of-type {\n",
       "        vertical-align: middle;\n",
       "    }\n",
       "\n",
       "    .dataframe tbody tr th {\n",
       "        vertical-align: top;\n",
       "    }\n",
       "\n",
       "    .dataframe thead th {\n",
       "        text-align: right;\n",
       "    }\n",
       "</style>\n",
       "<table border=\"1\" class=\"dataframe\">\n",
       "  <thead>\n",
       "    <tr style=\"text-align: right;\">\n",
       "      <th></th>\n",
       "      <th>등록일시</th>\n",
       "      <th>총사망자</th>\n",
       "      <th>총확진자</th>\n",
       "      <th>기준일</th>\n",
       "      <th>기준시간</th>\n",
       "      <th>수정일시</th>\n",
       "      <th>누적의심자</th>\n",
       "      <th>누적확진율</th>\n",
       "      <th>일일사망자</th>\n",
       "      <th>일일사망자2</th>\n",
       "    </tr>\n",
       "  </thead>\n",
       "  <tbody>\n",
       "    <tr>\n",
       "      <th>0</th>\n",
       "      <td>2020-03-10 00:00:00.000</td>\n",
       "      <td>54</td>\n",
       "      <td>7513</td>\n",
       "      <td>20200310</td>\n",
       "      <td>00:00</td>\n",
       "      <td>2021-10-07 10:30:51.51</td>\n",
       "      <td>210144.0</td>\n",
       "      <td>3.919308</td>\n",
       "      <td>0</td>\n",
       "      <td>0</td>\n",
       "    </tr>\n",
       "    <tr>\n",
       "      <th>1</th>\n",
       "      <td>2020-03-11 00:00:00.000</td>\n",
       "      <td>60</td>\n",
       "      <td>7755</td>\n",
       "      <td>20200311</td>\n",
       "      <td>00:00</td>\n",
       "      <td>2021-10-07 10:30:51.51</td>\n",
       "      <td>222395.0</td>\n",
       "      <td>3.804175</td>\n",
       "      <td>6</td>\n",
       "      <td>0</td>\n",
       "    </tr>\n",
       "    <tr>\n",
       "      <th>2</th>\n",
       "      <td>2020-03-12 00:00:00.000</td>\n",
       "      <td>66</td>\n",
       "      <td>7869</td>\n",
       "      <td>20200312</td>\n",
       "      <td>00:00</td>\n",
       "      <td>2021-10-07 10:30:51.51</td>\n",
       "      <td>234998.0</td>\n",
       "      <td>3.621744</td>\n",
       "      <td>6</td>\n",
       "      <td>0</td>\n",
       "    </tr>\n",
       "    <tr>\n",
       "      <th>3</th>\n",
       "      <td>2020-03-13 00:00:00.000</td>\n",
       "      <td>67</td>\n",
       "      <td>7979</td>\n",
       "      <td>20200313</td>\n",
       "      <td>00:00</td>\n",
       "      <td>2021-10-07 10:30:51.51</td>\n",
       "      <td>248647.0</td>\n",
       "      <td>3.458499</td>\n",
       "      <td>1</td>\n",
       "      <td>0</td>\n",
       "    </tr>\n",
       "    <tr>\n",
       "      <th>4</th>\n",
       "      <td>2020-03-14 00:00:00.000</td>\n",
       "      <td>72</td>\n",
       "      <td>8086</td>\n",
       "      <td>20200314</td>\n",
       "      <td>00:00</td>\n",
       "      <td>2021-10-07 10:30:51.51</td>\n",
       "      <td>261335.0</td>\n",
       "      <td>3.318000</td>\n",
       "      <td>5</td>\n",
       "      <td>0</td>\n",
       "    </tr>\n",
       "  </tbody>\n",
       "</table>\n",
       "</div>"
      ],
      "text/plain": [
       "                      등록일시  총사망자  총확진자       기준일   기준시간  \\\n",
       "0  2020-03-10 00:00:00.000    54  7513  20200310  00:00   \n",
       "1  2020-03-11 00:00:00.000    60  7755  20200311  00:00   \n",
       "2  2020-03-12 00:00:00.000    66  7869  20200312  00:00   \n",
       "3  2020-03-13 00:00:00.000    67  7979  20200313  00:00   \n",
       "4  2020-03-14 00:00:00.000    72  8086  20200314  00:00   \n",
       "\n",
       "                     수정일시     누적의심자     누적확진율  일일사망자  일일사망자2  \n",
       "0  2021-10-07 10:30:51.51  210144.0  3.919308      0       0  \n",
       "1  2021-10-07 10:30:51.51  222395.0  3.804175      6       0  \n",
       "2  2021-10-07 10:30:51.51  234998.0  3.621744      6       0  \n",
       "3  2021-10-07 10:30:51.51  248647.0  3.458499      1       0  \n",
       "4  2021-10-07 10:30:51.51  261335.0  3.318000      5       0  "
      ]
     },
     "execution_count": 53,
     "metadata": {},
     "output_type": "execute_result"
    }
   ],
   "source": [
    "df.head()"
   ]
  }
 ],
 "metadata": {
  "kernelspec": {
   "display_name": "Python 3",
   "language": "python",
   "name": "python3"
  },
  "language_info": {
   "codemirror_mode": {
    "name": "ipython",
    "version": 3
   },
   "file_extension": ".py",
   "mimetype": "text/x-python",
   "name": "python",
   "nbconvert_exporter": "python",
   "pygments_lexer": "ipython3",
   "version": "3.11.1"
  }
 },
 "nbformat": 4,
 "nbformat_minor": 5
}
