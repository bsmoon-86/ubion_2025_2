{
 "cells": [
  {
   "cell_type": "code",
   "execution_count": 2,
   "id": "54fc27b6",
   "metadata": {},
   "outputs": [],
   "source": [
    "import pandas as pd \n",
    "from datetime import datetime\n",
    "import numpy as np"
   ]
  },
  {
   "cell_type": "code",
   "execution_count": 3,
   "id": "dca6b923",
   "metadata": {},
   "outputs": [],
   "source": [
    "df = pd.read_csv(\"../../csv/AMZN.csv\", index_col=0)"
   ]
  },
  {
   "cell_type": "code",
   "execution_count": 4,
   "id": "24e246c3",
   "metadata": {},
   "outputs": [],
   "source": [
    "# 결측치, 양의 무한대, 음의 무한대를 제거 \n",
    "flag = df.isin( [np.nan, np.inf, -np.inf] ).any(axis=1)\n",
    "df = df.loc[~flag, ]"
   ]
  },
  {
   "cell_type": "code",
   "execution_count": 5,
   "id": "f04101f5",
   "metadata": {},
   "outputs": [],
   "source": [
    "# 인덱스가 Date가 아니라면 Date 컬럼을 인덱스로 변경\n",
    "# 조건식 : 컬럼들 중에 Date가 존재한다면\n",
    "if 'Date' in df.columns:\n",
    "    df.set_index('Date', inplace=True)"
   ]
  },
  {
   "cell_type": "code",
   "execution_count": 6,
   "id": "1a8ae552",
   "metadata": {},
   "outputs": [
    {
     "data": {
      "text/plain": [
       "DatetimeIndex(['1997-05-15', '1997-05-16', '1997-05-19', '1997-05-20',\n",
       "               '1997-05-21', '1997-05-22', '1997-05-23', '1997-05-27',\n",
       "               '1997-05-28', '1997-05-29',\n",
       "               ...\n",
       "               '2019-06-11', '2019-06-12', '2019-06-13', '2019-06-14',\n",
       "               '2019-06-17', '2019-06-18', '2019-06-19', '2019-06-20',\n",
       "               '2019-06-21', '2019-06-24'],\n",
       "              dtype='datetime64[ns]', name='Date', length=5563, freq=None)"
      ]
     },
     "execution_count": 6,
     "metadata": {},
     "output_type": "execute_result"
    }
   ],
   "source": [
    "# index를 시계열데이터로 변경 \n",
    "# pandas에 내장된 to_datetime() 함수 이용\n",
    "pd.to_datetime(df.index)"
   ]
  },
  {
   "cell_type": "code",
   "execution_count": 7,
   "id": "b050ca6a",
   "metadata": {},
   "outputs": [
    {
     "data": {
      "text/plain": [
       "datetime.datetime(1997, 5, 15, 0, 0)"
      ]
     },
     "execution_count": 7,
     "metadata": {},
     "output_type": "execute_result"
    }
   ],
   "source": [
    "# datetime 라이브러리 안에 있는 strptime() 함수 이용\n",
    "datetime.strptime( df.index[0], '%Y-%m-%d' )"
   ]
  },
  {
   "cell_type": "code",
   "execution_count": 8,
   "id": "7d509073",
   "metadata": {},
   "outputs": [],
   "source": [
    "df.index = df.index.map(\n",
    "    lambda x : datetime.strptime(x, '%Y-%m-%d')\n",
    ")"
   ]
  },
  {
   "cell_type": "code",
   "execution_count": 9,
   "id": "1c80f93f",
   "metadata": {},
   "outputs": [],
   "source": [
    "# 투자의 시작 시간과 종료 시간을 통해서 df의 인덱스를 필터링\n",
    "start = '2010-01-01'\n",
    "end = '2015-01-01'\n",
    "t_s = datetime.strptime(start, '%Y-%m-%d')\n",
    "t_e = datetime.strptime(end, '%Y-%m-%d')"
   ]
  },
  {
   "cell_type": "code",
   "execution_count": 10,
   "id": "f7117406",
   "metadata": {},
   "outputs": [
    {
     "data": {
      "text/html": [
       "<div>\n",
       "<style scoped>\n",
       "    .dataframe tbody tr th:only-of-type {\n",
       "        vertical-align: middle;\n",
       "    }\n",
       "\n",
       "    .dataframe tbody tr th {\n",
       "        vertical-align: top;\n",
       "    }\n",
       "\n",
       "    .dataframe thead th {\n",
       "        text-align: right;\n",
       "    }\n",
       "</style>\n",
       "<table border=\"1\" class=\"dataframe\">\n",
       "  <thead>\n",
       "    <tr style=\"text-align: right;\">\n",
       "      <th></th>\n",
       "      <th>Open</th>\n",
       "      <th>High</th>\n",
       "      <th>Low</th>\n",
       "      <th>Close</th>\n",
       "      <th>Adj Close</th>\n",
       "      <th>Volume</th>\n",
       "    </tr>\n",
       "    <tr>\n",
       "      <th>Date</th>\n",
       "      <th></th>\n",
       "      <th></th>\n",
       "      <th></th>\n",
       "      <th></th>\n",
       "      <th></th>\n",
       "      <th></th>\n",
       "    </tr>\n",
       "  </thead>\n",
       "  <tbody>\n",
       "    <tr>\n",
       "      <th>2010-01-04</th>\n",
       "      <td>136.250000</td>\n",
       "      <td>136.610001</td>\n",
       "      <td>133.139999</td>\n",
       "      <td>133.899994</td>\n",
       "      <td>133.899994</td>\n",
       "      <td>7599900</td>\n",
       "    </tr>\n",
       "    <tr>\n",
       "      <th>2010-01-05</th>\n",
       "      <td>133.429993</td>\n",
       "      <td>135.479996</td>\n",
       "      <td>131.809998</td>\n",
       "      <td>134.690002</td>\n",
       "      <td>134.690002</td>\n",
       "      <td>8851900</td>\n",
       "    </tr>\n",
       "    <tr>\n",
       "      <th>2010-01-06</th>\n",
       "      <td>134.600006</td>\n",
       "      <td>134.729996</td>\n",
       "      <td>131.649994</td>\n",
       "      <td>132.250000</td>\n",
       "      <td>132.250000</td>\n",
       "      <td>7178800</td>\n",
       "    </tr>\n",
       "    <tr>\n",
       "      <th>2010-01-07</th>\n",
       "      <td>132.009995</td>\n",
       "      <td>132.320007</td>\n",
       "      <td>128.800003</td>\n",
       "      <td>130.000000</td>\n",
       "      <td>130.000000</td>\n",
       "      <td>11030200</td>\n",
       "    </tr>\n",
       "    <tr>\n",
       "      <th>2010-01-08</th>\n",
       "      <td>130.559998</td>\n",
       "      <td>133.679993</td>\n",
       "      <td>129.029999</td>\n",
       "      <td>133.520004</td>\n",
       "      <td>133.520004</td>\n",
       "      <td>9830500</td>\n",
       "    </tr>\n",
       "    <tr>\n",
       "      <th>...</th>\n",
       "      <td>...</td>\n",
       "      <td>...</td>\n",
       "      <td>...</td>\n",
       "      <td>...</td>\n",
       "      <td>...</td>\n",
       "      <td>...</td>\n",
       "    </tr>\n",
       "    <tr>\n",
       "      <th>2014-12-24</th>\n",
       "      <td>306.380005</td>\n",
       "      <td>307.000000</td>\n",
       "      <td>302.880005</td>\n",
       "      <td>303.029999</td>\n",
       "      <td>303.029999</td>\n",
       "      <td>1513800</td>\n",
       "    </tr>\n",
       "    <tr>\n",
       "      <th>2014-12-26</th>\n",
       "      <td>305.000000</td>\n",
       "      <td>310.779999</td>\n",
       "      <td>303.809998</td>\n",
       "      <td>309.089996</td>\n",
       "      <td>309.089996</td>\n",
       "      <td>2893800</td>\n",
       "    </tr>\n",
       "    <tr>\n",
       "      <th>2014-12-29</th>\n",
       "      <td>307.850006</td>\n",
       "      <td>314.269989</td>\n",
       "      <td>306.579987</td>\n",
       "      <td>312.040009</td>\n",
       "      <td>312.040009</td>\n",
       "      <td>3009000</td>\n",
       "    </tr>\n",
       "    <tr>\n",
       "      <th>2014-12-30</th>\n",
       "      <td>309.910004</td>\n",
       "      <td>313.940002</td>\n",
       "      <td>309.339996</td>\n",
       "      <td>310.299988</td>\n",
       "      <td>310.299988</td>\n",
       "      <td>2093000</td>\n",
       "    </tr>\n",
       "    <tr>\n",
       "      <th>2014-12-31</th>\n",
       "      <td>311.549988</td>\n",
       "      <td>312.980011</td>\n",
       "      <td>310.010010</td>\n",
       "      <td>310.350006</td>\n",
       "      <td>310.350006</td>\n",
       "      <td>2048000</td>\n",
       "    </tr>\n",
       "  </tbody>\n",
       "</table>\n",
       "<p>1258 rows × 6 columns</p>\n",
       "</div>"
      ],
      "text/plain": [
       "                  Open        High         Low       Close   Adj Close  \\\n",
       "Date                                                                     \n",
       "2010-01-04  136.250000  136.610001  133.139999  133.899994  133.899994   \n",
       "2010-01-05  133.429993  135.479996  131.809998  134.690002  134.690002   \n",
       "2010-01-06  134.600006  134.729996  131.649994  132.250000  132.250000   \n",
       "2010-01-07  132.009995  132.320007  128.800003  130.000000  130.000000   \n",
       "2010-01-08  130.559998  133.679993  129.029999  133.520004  133.520004   \n",
       "...                ...         ...         ...         ...         ...   \n",
       "2014-12-24  306.380005  307.000000  302.880005  303.029999  303.029999   \n",
       "2014-12-26  305.000000  310.779999  303.809998  309.089996  309.089996   \n",
       "2014-12-29  307.850006  314.269989  306.579987  312.040009  312.040009   \n",
       "2014-12-30  309.910004  313.940002  309.339996  310.299988  310.299988   \n",
       "2014-12-31  311.549988  312.980011  310.010010  310.350006  310.350006   \n",
       "\n",
       "              Volume  \n",
       "Date                  \n",
       "2010-01-04   7599900  \n",
       "2010-01-05   8851900  \n",
       "2010-01-06   7178800  \n",
       "2010-01-07  11030200  \n",
       "2010-01-08   9830500  \n",
       "...              ...  \n",
       "2014-12-24   1513800  \n",
       "2014-12-26   2893800  \n",
       "2014-12-29   3009000  \n",
       "2014-12-30   2093000  \n",
       "2014-12-31   2048000  \n",
       "\n",
       "[1258 rows x 6 columns]"
      ]
     },
     "execution_count": 10,
     "metadata": {},
     "output_type": "execute_result"
    }
   ],
   "source": [
    "df.loc[t_s : t_e, ]"
   ]
  },
  {
   "cell_type": "code",
   "execution_count": 11,
   "id": "290ce495",
   "metadata": {},
   "outputs": [],
   "source": [
    "price_df = df.loc[start : end, ['Adj Close'] ]"
   ]
  },
  {
   "cell_type": "code",
   "execution_count": 12,
   "id": "6c17f536",
   "metadata": {},
   "outputs": [
    {
     "data": {
      "text/plain": [
       "2.317774607219176"
      ]
     },
     "execution_count": 12,
     "metadata": {},
     "output_type": "execute_result"
    }
   ],
   "source": [
    "# 첫날(구매)의 수정종가, 마지막날(판매)의 수정종가\n",
    "price_df.iloc[-1, 0] / price_df.iloc[0, 0]"
   ]
  },
  {
   "cell_type": "code",
   "execution_count": 13,
   "id": "143d1ed8",
   "metadata": {},
   "outputs": [],
   "source": [
    "price_df['rtn'] = \\\n",
    "    (price_df['Adj Close'].pct_change() + 1).fillna(1)"
   ]
  },
  {
   "cell_type": "code",
   "execution_count": 14,
   "id": "ab00ca8f",
   "metadata": {},
   "outputs": [
    {
     "name": "stderr",
     "output_type": "stream",
     "text": [
      "C:\\Users\\moons\\AppData\\Local\\Temp\\ipykernel_17504\\197219032.py:1: FutureWarning: Series.__getitem__ treating keys as positions is deprecated. In a future version, integer keys will always be treated as labels (consistent with DataFrame behavior). To access a value by position, use `ser.iloc[pos]`\n",
      "  price_df['rtn'].cumprod()[-1]\n"
     ]
    },
    {
     "data": {
      "text/plain": [
       "2.317774607219178"
      ]
     },
     "execution_count": 14,
     "metadata": {},
     "output_type": "execute_result"
    }
   ],
   "source": [
    "price_df['rtn'].cumprod()[-1]"
   ]
  },
  {
   "cell_type": "markdown",
   "id": "03c600ae",
   "metadata": {},
   "source": [
    "### Buy and Hold 함수화\n",
    "- 매개변수의 개수는 4개?\n",
    "    - 데이터프레임(_df) -> 필수\n",
    "    - 투자 시작 시간(매수)(_start) -> '2010-01-01' 기본값 설정\n",
    "    - 투자 종료 시간(매도)(_end) -> 현재 시간 기본값\n",
    "    - 특정 컬럼 선택(_col) -> 'Adj Close' 기본값\n",
    "1. _df의 복사본을 생성 (df 변수 생성) -> 원본 데이터를 유지하기 위해\n",
    "2. 컬럼 중에 Date가 존재한다면 Date컬럼을 인덱스로 변경\n",
    "3. 인덱스를 시계열 데이터로 변경 \n",
    "4. 결측치와 양의 무한대, 음의 무한대 데이터 제거 \n",
    "4. _start와 _end를 기준으로 인덱스 필터링을 하고 _col을 기준으로 컬럼의 필터링을 해준다. (시도하고 문제가 발생한다면 인자값이 잘못되었다 출력하고 함수 종료)\n",
    "5. 일별 수익율(rtn)을 생성하여 pct_change() + 1  데이터를 대입 \n",
    "6. 누적 수익율을 계산하여 새로운 컬럼 (acc_rtn)에 대입  \n",
    "7. 만들어진 데이터프레임과 최종 누적수익율을 되돌려준다. \n"
   ]
  },
  {
   "cell_type": "code",
   "execution_count": 15,
   "id": "d6307b83",
   "metadata": {},
   "outputs": [],
   "source": [
    "def bnh(\n",
    "    _df, \n",
    "    _start = '2010-01-01', \n",
    "    _end = datetime.now(), \n",
    "    _col = 'Adj Close'\n",
    "):\n",
    "    # 데이터프레임의 복사본 생성 \n",
    "    df = _df.copy()\n",
    "    # try:\n",
    "    #     _start = datetime.strptime(_start, '%Y-%m-%d')\n",
    "    #     # 만약에 _end의 타입이 문자라면?\n",
    "    #     if type(_end) == 'str':\n",
    "    #         _end = datetime.strptime(_end, '%Y-%m-%d')\n",
    "    # except:\n",
    "    #     print('시간의 포멧이 맞지 않습니다. (YYYY-mm-dd)')\n",
    "    #     return \"\"\n",
    "    # Date 가 컬럼에 존재하면 Date를 인덱스로 변경 \n",
    "    if 'Date' in df.columns:\n",
    "        df.set_index('Date', inplace = True)\n",
    "    # 인덱스를 시계열 데이터로 변경 \n",
    "    df.index = pd.to_datetime(df.index)\n",
    "    # 결측치와 무한대 값 제거\n",
    "    flag = df.isin([np.nan, np.inf, -np.inf]).any(axis=1)\n",
    "    df = df.loc[~flag, ]\n",
    "    try :\n",
    "        df = df.loc[_start : _end, [_col]]\n",
    "    except Exception as e:\n",
    "        print(e)\n",
    "        print('입력 된 인자값이 잘못되었습니다.')\n",
    "        return \"\"\n",
    "    # 일별 수익율 계산하여 rtn 컬럼에 대입\n",
    "    df['rtn'] = (df[_col].pct_change() + 1).fillna(1)\n",
    "    # 누적 수익율 계산하여 acc_rtn 컬럼에 대입 \n",
    "    df['acc_rtn'] = df['rtn'].cumprod()\n",
    "    acc_rtn = df.iloc[-1, -1]\n",
    "    # 결과 데이터프레임과 최종 누적수익율을 되돌려준다. \n",
    "    return df, acc_rtn"
   ]
  },
  {
   "cell_type": "code",
   "execution_count": 16,
   "id": "f967ada3",
   "metadata": {},
   "outputs": [],
   "source": [
    "test_df = pd.read_csv(\"../../csv/AAPL.csv\")"
   ]
  },
  {
   "cell_type": "code",
   "execution_count": 17,
   "id": "deaf8e3e",
   "metadata": {},
   "outputs": [
    {
     "data": {
      "text/plain": [
       "(             Adj Close       rtn   acc_rtn\n",
       " Date                                      \n",
       " 2010-01-04   26.782711  1.000000  1.000000\n",
       " 2010-01-05   26.829010  1.001729  1.001729\n",
       " 2010-01-06   26.402260  0.984094  0.985795\n",
       " 2010-01-07   26.353460  0.998152  0.983973\n",
       " 2010-01-08   26.528664  1.006648  0.990515\n",
       " ...                ...       ...       ...\n",
       " 2019-06-18  198.449997  1.023518  7.409631\n",
       " 2019-06-19  197.869995  0.997077  7.387975\n",
       " 2019-06-20  199.460007  1.008036  7.447342\n",
       " 2019-06-21  198.779999  0.996591  7.421952\n",
       " 2019-06-24  199.169998  1.001962  7.436514\n",
       " \n",
       " [2384 rows x 3 columns],\n",
       " 7.436513727083075)"
      ]
     },
     "execution_count": 17,
     "metadata": {},
     "output_type": "execute_result"
    }
   ],
   "source": [
    "bnh(test_df, _start = '2010/01/01')"
   ]
  }
 ],
 "metadata": {
  "kernelspec": {
   "display_name": "Python 3",
   "language": "python",
   "name": "python3"
  },
  "language_info": {
   "codemirror_mode": {
    "name": "ipython",
    "version": 3
   },
   "file_extension": ".py",
   "mimetype": "text/x-python",
   "name": "python",
   "nbconvert_exporter": "python",
   "pygments_lexer": "ipython3",
   "version": "3.11.1"
  }
 },
 "nbformat": 4,
 "nbformat_minor": 5
}
