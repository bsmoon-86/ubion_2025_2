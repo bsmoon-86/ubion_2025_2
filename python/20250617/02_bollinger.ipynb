{
 "cells": [
  {
   "cell_type": "markdown",
   "id": "2dc07a50",
   "metadata": {},
   "source": [
    "### 볼린저밴드 \n",
    "1. 이동평균선 : 데이터 20개의 평균값\n",
    "2. 상단 밴드 : 이동평균선 + (2 * 데이터 20개의 표준편차)\n",
    "3. 하단 밴드 : 이동평균선 - (2 * 데이터 20개의 표준편차)\n",
    "4. 매수의 조건식 : 가격이 하단밴드보다 낮은 경우\n",
    "5. 매도의 조건식 : 가격이 상단밴드보다 높은 경우"
   ]
  },
  {
   "cell_type": "code",
   "execution_count": null,
   "id": "e96cbbb1",
   "metadata": {},
   "outputs": [],
   "source": [
    "import pandas as pd\n",
    "import numpy as np\n",
    "import matplotlib.pyplot as plt\n",
    "from datetime import datetime"
   ]
  },
  {
   "cell_type": "code",
   "execution_count": null,
   "id": "21e84f22",
   "metadata": {},
   "outputs": [],
   "source": [
    "df = pd.read_csv(\"../../csv/AAPL.csv\")"
   ]
  },
  {
   "cell_type": "code",
   "execution_count": null,
   "id": "8812e2da",
   "metadata": {},
   "outputs": [],
   "source": [
    "if 'Date' in df.columns:\n",
    "    df.set_index('Date', inplace=True)"
   ]
  },
  {
   "cell_type": "code",
   "execution_count": null,
   "id": "d282c2aa",
   "metadata": {},
   "outputs": [],
   "source": [
    "# 결측치, 무한대 제거 \n",
    "flag = df.isin([np.nan, np.inf, -np.inf]).any(axis=1)"
   ]
  },
  {
   "cell_type": "code",
   "execution_count": null,
   "id": "8930d44e",
   "metadata": {},
   "outputs": [],
   "source": [
    "df = df.loc[~flag, ['Adj Close']]"
   ]
  },
  {
   "cell_type": "code",
   "execution_count": null,
   "id": "e3b1b30e",
   "metadata": {},
   "outputs": [],
   "source": [
    "df"
   ]
  },
  {
   "cell_type": "code",
   "execution_count": null,
   "id": "f37aad78",
   "metadata": {},
   "outputs": [],
   "source": [
    "# index를 시계열로 변경 \n",
    "df.index = pd.to_datetime(df.index)"
   ]
  },
  {
   "cell_type": "code",
   "execution_count": null,
   "id": "4ed49a4a",
   "metadata": {},
   "outputs": [],
   "source": [
    "# Adj Close의 데이터에서 이동 평균선 구하기 \n",
    "df.iloc[0:20, 0].mean()\n",
    "# df.iloc[19 ]위치에 평균 값을 대입"
   ]
  },
  {
   "cell_type": "code",
   "execution_count": null,
   "id": "7411b041",
   "metadata": {},
   "outputs": [],
   "source": [
    "# 이동평균선 컬럼을 생성하여 결측치를 넣어둔다. \n",
    "df['center'] = np.nan"
   ]
  },
  {
   "cell_type": "code",
   "execution_count": null,
   "id": "1fbfef86",
   "metadata": {},
   "outputs": [],
   "source": [
    "df.iloc[19, 1] = df.iloc[0:20, 0].mean()"
   ]
  },
  {
   "cell_type": "code",
   "execution_count": null,
   "id": "f99df36c",
   "metadata": {},
   "outputs": [],
   "source": [
    "df.iloc[18:22]"
   ]
  },
  {
   "cell_type": "code",
   "execution_count": null,
   "id": "77f2c991",
   "metadata": {},
   "outputs": [],
   "source": [
    "for i in range(20, len(df), 1):\n",
    "    df.iloc[i-1, 1] = df.iloc[ i-20 : i, 0 ].mean()"
   ]
  },
  {
   "cell_type": "code",
   "execution_count": null,
   "id": "e8ce0186",
   "metadata": {},
   "outputs": [],
   "source": [
    "df.iloc[18:22]"
   ]
  },
  {
   "cell_type": "code",
   "execution_count": null,
   "id": "91ee51bb",
   "metadata": {},
   "outputs": [],
   "source": [
    "# rolling(n) : n개의 데이터를 그룹화 \n",
    "df['center2'] = df['Adj Close'].rolling(20).mean() "
   ]
  },
  {
   "cell_type": "code",
   "execution_count": null,
   "id": "d73e7d42",
   "metadata": {},
   "outputs": [],
   "source": [
    "df.iloc[18:25, ]"
   ]
  },
  {
   "cell_type": "code",
   "execution_count": null,
   "id": "01481f4b",
   "metadata": {},
   "outputs": [],
   "source": [
    "# 상단 밴드를 생성 :  이동평균선 + (2 * 20개 데이터의 표준편차)\n",
    "df['ub'] = df['center'] + \\\n",
    "    (2 * df['Adj Close'].rolling(20).std())"
   ]
  },
  {
   "cell_type": "code",
   "execution_count": null,
   "id": "29b583cb",
   "metadata": {},
   "outputs": [],
   "source": [
    "# 하단 밴드를 생성 : 이동평균선 - (2 * 20개 데이터의 표준편차)\n",
    "df['lb'] = df['center'] - \\\n",
    "    (2 * df['Adj Close'].rolling(20).std())"
   ]
  },
  {
   "cell_type": "code",
   "execution_count": null,
   "id": "49b03bb5",
   "metadata": {},
   "outputs": [],
   "source": [
    "plt.figure(figsize=(20, 8))\n",
    "test = df.tail(400)\n",
    "plt.plot(test['ub'], label='UB')\n",
    "plt.plot(test['lb'], label='LB')\n",
    "plt.plot(test['Adj Close'], label='Close')\n",
    "\n",
    "plt.legend()\n",
    "plt.show()"
   ]
  },
  {
   "cell_type": "code",
   "execution_count": null,
   "id": "c6a82b11",
   "metadata": {},
   "outputs": [],
   "source": [
    "# 투자의 시작 시간 설정해서 데이터필터링\n",
    "start = '2010-01-01'"
   ]
  },
  {
   "cell_type": "code",
   "execution_count": null,
   "id": "923ecc7f",
   "metadata": {},
   "outputs": [],
   "source": [
    "price_df = df.loc[start:, ]"
   ]
  },
  {
   "cell_type": "code",
   "execution_count": null,
   "id": "1e0dde3d",
   "metadata": {},
   "outputs": [],
   "source": [
    "# 구매 상태 컬럼을 생성 \n",
    "price_df['trade'] = \"\""
   ]
  },
  {
   "cell_type": "markdown",
   "id": "ef992a24",
   "metadata": {},
   "source": [
    "### 보유 내역 추가 \n",
    "- 조건식\n",
    "    - 상단밴드보다 수정 종가가 높거나 같은 경우\n",
    "        - 현재 보유 상태라면\n",
    "            - 매도 ( trade = \"\" )\n",
    "        - 현재 보유 상태가 아니라면\n",
    "            - 유지 ( trade = \"\" )\n",
    "    - 상단밴드보다는 낮고 하단 밴드보다 수정종가가 높은 경우\n",
    "        - 현재 보유 상태라면\n",
    "            - 유지 ( trade = \"buy\" )\n",
    "        - 현재 보유 상태가 아니라면\n",
    "            - 유지 ( trade = \"\" )\n",
    "    - 하단밴드보다 수정 종가가 낮거나 같은 경우\n",
    "        - 현재 보유 상태라면\n",
    "            - 유지 ( trade = \"buy\" )\n",
    "        - 현재 보유 상태가 아니라면\n",
    "            - 매수 ( trade = \"buy\" )"
   ]
  },
  {
   "cell_type": "code",
   "execution_count": null,
   "id": "1741be2a",
   "metadata": {},
   "outputs": [],
   "source": [
    "for idx in price_df.index:\n",
    "    # idx에 들어오는 데이터는? -> 시계열 데이터\n",
    "    # 수정 종가가 상단의 밴드보다 높거나 같은 경우 \n",
    "    if price_df.loc[idx,'Adj Close'] >= price_df.loc[idx, 'ub']:\n",
    "        # 현재 보유 상태라면? \n",
    "        if price_df.shift().loc[idx, 'trade'] == 'buy':\n",
    "            # 오늘의 trade 매도\n",
    "            price_df.loc[idx, 'trade'] = \"\"\n",
    "        else:\n",
    "            # 오늘의 trade는 유지\n",
    "            price_df.loc[idx, 'trade'] = \"\"\n",
    "    # 수정 종가가 하단의 밴드보다 낮거나 같은 경우 \n",
    "    elif price_df.loc[idx, 'Adj Close'] <= price_df.loc[idx, 'lb']:\n",
    "        # 현재 보유 상태라면\n",
    "        if price_df.shift().loc[idx, 'trade'] == 'buy':\n",
    "            # 오늘의 trade 유지\n",
    "            price_df.loc[idx, 'trade'] = 'buy'\n",
    "        else:\n",
    "            # 오늘의 trade 매수\n",
    "            price_df.loc[idx, 'trade'] = 'buy'\n",
    "    # 수정 종가가 밴드의 사이에 존재하고 있을때\n",
    "    # elif (price_df.loc[idx, 'Adj Close'] < price_df.loc[idx, 'ub']) \\\n",
    "    #     & \\\n",
    "    #         (price_df.loc[idx, 'Adj Close'] > price_df.loc[idx, 'lb'])\n",
    "    else:\n",
    "        # 현재 보유상태라면 \n",
    "        if price_df.shift().loc[idx, 'trade'] == 'buy':\n",
    "            # 오늘의 trade 유지 \n",
    "            price_df.loc[idx, 'trade'] = 'buy'\n",
    "        else:\n",
    "            # 오늘의 trade 유지 \n",
    "            price_df.loc[idx, 'trade'] = \"\""
   ]
  },
  {
   "cell_type": "code",
   "execution_count": null,
   "id": "f8497b5e",
   "metadata": {},
   "outputs": [],
   "source": [
    "price_df['trade'].value_counts()"
   ]
  },
  {
   "cell_type": "markdown",
   "id": "68334dfa",
   "metadata": {},
   "source": [
    "### 수익율 계산\n",
    "- 매수한 날의 수정 종가 \n",
    "    - 전날의 trade가 \"\"이고 오늘의 trade가 'buy'인 날의 수정 종가\n",
    "- 매도한 날의 수정종가 \n",
    "    - 전날의 trade가 \"buy\"이고 오늘의 trade가 \"\"인 날의 수정 종가\n",
    "- 수익율 \n",
    "    - 매도한 날의 수정종가 / 매수한 날의 수정종가"
   ]
  },
  {
   "cell_type": "code",
   "execution_count": null,
   "id": "8e9f24ad",
   "metadata": {},
   "outputs": [],
   "source": [
    "# 수익율 컬럼을 생성 -> 기본값은 1로 대입 \n",
    "price_df['rtn'] = 1\n",
    "\n",
    "for idx in price_df.index:\n",
    "    # 매수가 생성 \n",
    "    if (price_df.shift().loc[idx, 'trade'] == \"\") & \\\n",
    "        (price_df.loc[idx, 'trade'] == \"buy\"):\n",
    "        # 매수가를 변수에 저장 \n",
    "        buy = price_df.loc[idx, 'Adj Close']\n",
    "        print(f\"매수일 : {idx}, 매수가 : {buy}\")\n",
    "    # 매도가 생성\n",
    "    elif (price_df.shift().loc[idx, 'trade'] == \"buy\") & \\\n",
    "        (price_df.loc[idx, 'trade'] == \"\"):\n",
    "        # 매도가를 변수에 저장 \n",
    "        sell = price_df.loc[idx, 'Adj Close']\n",
    "        # 수익율 계산\n",
    "        rtn = sell / buy\n",
    "        price_df.loc[idx, 'rtn'] = rtn\n",
    "        print(f\"매도일  {idx}, 매도가 : {sell}, 수익율 : {rtn}\")\n"
   ]
  },
  {
   "cell_type": "code",
   "execution_count": null,
   "id": "1fbd3cc3",
   "metadata": {},
   "outputs": [],
   "source": [
    "price_df['acc_rtn'] = price_df['rtn'].cumprod()"
   ]
  },
  {
   "cell_type": "code",
   "execution_count": null,
   "id": "dd54568f",
   "metadata": {},
   "outputs": [],
   "source": [
    "price_df.iloc[-1, -1]"
   ]
  },
  {
   "cell_type": "markdown",
   "id": "c6e32d69",
   "metadata": {},
   "source": [
    "- 밴드 생성 함수 (create_band)\n",
    "    - 매개변수 5개\n",
    "        - 데이터프레임 (_df) : 필수\n",
    "        - 투자의 시작시간(_start) : 2010-01-01 기본값\n",
    "        - 투자의 종료시간(_end) : 현재 시간 기본값\n",
    "        - 기준이 되는 컬럼의 이름(_col) : Adj Close 기본값\n",
    "        - 평균선의 일자수(_cnt) : 20 기본값\n",
    "    1. _df의 복사본을 생성 (df 변수 생성)\n",
    "    2. 컬럼에 Date가 존재한다면 Date 컬럼을 인덱스로 변경 \n",
    "    3. 기준이 되는 컬럼을 제외하고 나머지 컬럼은 모두 제거 \n",
    "    4. 결측치, 무한대 데이터를 제거 \n",
    "    5. 이동 평균선, 상단 밴드, 하단 밴드 생성 \n",
    "    6. 시작 시간, 종료시간은 기준으로 데이터 필터링 \n",
    "    7. 변경이 된 데이터프레임을 되돌려준다. "
   ]
  },
  {
   "cell_type": "code",
   "execution_count": null,
   "id": "8f3ce54d",
   "metadata": {},
   "outputs": [],
   "source": [
    "def create_band(\n",
    "    _df, \n",
    "    _start = '2010-01-01', \n",
    "    _end = datetime.now(),\n",
    "    _col = 'Adj Close', \n",
    "    _cnt = 20\n",
    "):\n",
    "    # 복사본을 생성 \n",
    "    df = _df.copy()\n",
    "    # Date 컬럼에 존재하면 인덱스로 변환\n",
    "    if 'Date' in df.columns:\n",
    "        df.set_index('Date', inplace=True)\n",
    "    # 인덱스를 시계열 데이터로 변경 \n",
    "    df.index = pd.to_datetime(df.index)\n",
    "    # 기준이 되는 컬럼을 제외하고 모두 제거 -> 특정 컬럼만 선택\n",
    "    df = df[[_col]]\n",
    "    # 결측치, 무한대 제거 \n",
    "    flag = df.isin([np.nan, np.inf, -np.inf]).any(axis=1)\n",
    "    df = df.loc[~flag, ]\n",
    "    df['center'] = df[_col].rolling(_cnt).mean()\n",
    "    std_data = df[_col].rolling(_cnt).std()\n",
    "    df['ub'] = df['center'] + (2 * std_data)\n",
    "    df['lb'] = df['center'] - (2 * std_data)\n",
    "    # 시작 시간과 종료시간으로 데이터를 필터링\n",
    "    df = df.loc[_start : _end, ]\n",
    "    return df\n"
   ]
  },
  {
   "cell_type": "code",
   "execution_count": null,
   "id": "a1980ffb",
   "metadata": {},
   "outputs": [],
   "source": [
    "df2 = pd.read_csv('../../csv/AMZN.csv')"
   ]
  },
  {
   "cell_type": "code",
   "execution_count": null,
   "id": "a2d9fd92",
   "metadata": {},
   "outputs": [],
   "source": [
    "price_df2 = create_band(df2)"
   ]
  },
  {
   "cell_type": "markdown",
   "id": "77827bee",
   "metadata": {},
   "source": [
    "- 트레이드 컬럼을 생성하는 함수 \n",
    "    - 매개변수 1개 \n",
    "        - create_band() 함수에서 나온 결과 데이터프레임\n",
    "    1. 데이터프레임의 복사본 생성\n",
    "    2. trade 컬럼을 생성하여 \"\"  대입\n",
    "    3. 밴드의 값들과 기준이 되는 컬럼을 가지고 보유 내역을 생성\n",
    "    4. 결과를 되돌려준다. "
   ]
  },
  {
   "cell_type": "code",
   "execution_count": null,
   "id": "fa683e8d",
   "metadata": {},
   "outputs": [],
   "source": [
    "def create_trade(_df):\n",
    "    # 복사본을 생성\n",
    "    df = _df.copy()\n",
    "    # trade 컬럼을 생성\n",
    "    df['trade'] = \"\"\n",
    "    # 기준이 되는 컬럼의 이름을 변수에 저장 \n",
    "    col = df.columns[0]\n",
    "    # 거래 내역 추가하는 반복문을 사용 \n",
    "    for idx in df.index:\n",
    "        # 상단 밴드보다 기준이되는 컬럼의 값이 크거나 같은 경우 \n",
    "        if df.loc[idx, col] >= df.loc[idx, 'ub']:\n",
    "            df.loc[idx, 'trade'] = \"\"\n",
    "        # 하단 밴드보다 기준이 되는 컬럼의 값이 작거나 같은 경우\n",
    "        elif df.loc[idx, col] <= df.loc[idx, 'lb']:\n",
    "            df.loc[idx, 'trade'] = 'buy'\n",
    "        # 밴드 사이에 기준이 되는 컬럼의 값이 존재하는 경우\n",
    "        else:\n",
    "            # 현재 보유중 -> 보유 유지\n",
    "            # 보유 상태가 아니면 -> 유지\n",
    "            # 전날의 trade를 그대로 유지 \n",
    "            df.loc[idx, 'trade'] = df.shift().loc[idx, 'trade']\n",
    "    return df"
   ]
  },
  {
   "cell_type": "code",
   "execution_count": null,
   "id": "aab2e4b0",
   "metadata": {},
   "outputs": [],
   "source": [
    "trade_df = create_trade(price_df2)"
   ]
  },
  {
   "cell_type": "code",
   "execution_count": null,
   "id": "0b95a3be",
   "metadata": {},
   "outputs": [],
   "source": [
    "trade_df['trade'].value_counts()"
   ]
  },
  {
   "cell_type": "markdown",
   "id": "ea5f7f6c",
   "metadata": {},
   "source": [
    "- 수익율 계산 함수 생성 \n",
    "    - 매개변수 1개\n",
    "        - create_trade() 함수의 결과 데이터프레임\n",
    "    1. 데이터프레임 복사본 생성 \n",
    "    2. 기준이 되는 컬럼의 이름을 변수에 저장 \n",
    "    3. rtn 컬럼을 생성해서 1 대입 \n",
    "    4. 반복문을 이용하여 수익율 계산 \n",
    "    5. acc_rtn 컬럼을 생성하여 누적 수익율 계산한 값을 대입 \n",
    "    6. 데이터프레임과 최종 누적 수익율 데이터를 되돌려준다. "
   ]
  },
  {
   "cell_type": "code",
   "execution_count": null,
   "id": "95075b35",
   "metadata": {},
   "outputs": [],
   "source": [
    "def create_rtn(_df):\n",
    "    # 복사본 생성 \n",
    "    df = _df.copy()\n",
    "    # 기준이 되는 컬럼의 이름은 변수에 저장 \n",
    "    col = df.columns[0]\n",
    "\n",
    "    # rtn 컬럼을 생성하여 1을 대입 \n",
    "    df['rtn'] = 1\n",
    "\n",
    "    # 수익율 계산\n",
    "    for idx in df.index:\n",
    "        # 매수 \n",
    "        if (df.shift().loc[idx, 'trade'] == \"\") & \\\n",
    "            (df.loc[idx, 'trade'] == 'buy'):\n",
    "            buy = df.loc[idx, col]\n",
    "            print(f\"매수일 : {idx}, 매수가 : {buy}\")\n",
    "        # 매도\n",
    "        elif (df.shift().loc[idx, 'trade'] == \"buy\") & \\\n",
    "            (df.loc[idx, 'trade'] == \"\"):\n",
    "            sell = df.loc[idx, col]\n",
    "            rtn = sell / buy\n",
    "            df.loc[idx, 'rtn'] = rtn\n",
    "            print(f\"매도일 : {idx}, 매도가 : {sell}, 수익율 : {rtn}\")\n",
    "    # 누적수익율 계산\n",
    "    df['acc_rtn'] = df['rtn'].cumprod()\n",
    "    # 최종 누적 수익율\n",
    "    acc_rtn = df.iloc[-1, -1]\n",
    "    return df, acc_rtn"
   ]
  },
  {
   "cell_type": "code",
   "execution_count": null,
   "id": "a2050856",
   "metadata": {},
   "outputs": [],
   "source": [
    "boll_df, boll_rtn = create_rtn(trade_df)"
   ]
  },
  {
   "cell_type": "code",
   "execution_count": null,
   "id": "2374a687",
   "metadata": {},
   "outputs": [],
   "source": [
    "boll_df"
   ]
  },
  {
   "cell_type": "code",
   "execution_count": 56,
   "id": "418c94e1",
   "metadata": {},
   "outputs": [
    {
     "data": {
      "text/plain": [
       "3.138061358619031"
      ]
     },
     "execution_count": 56,
     "metadata": {},
     "output_type": "execute_result"
    }
   ],
   "source": [
    "boll_rtn"
   ]
  }
 ],
 "metadata": {
  "kernelspec": {
   "display_name": "Python 3",
   "language": "python",
   "name": "python3"
  },
  "language_info": {
   "codemirror_mode": {
    "name": "ipython",
    "version": 3
   },
   "file_extension": ".py",
   "mimetype": "text/x-python",
   "name": "python",
   "nbconvert_exporter": "python",
   "pygments_lexer": "ipython3",
   "version": "3.11.1"
  }
 },
 "nbformat": 4,
 "nbformat_minor": 5
}
