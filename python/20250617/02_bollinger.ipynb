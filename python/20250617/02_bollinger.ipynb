{
 "cells": [
  {
   "cell_type": "markdown",
   "id": "2dc07a50",
   "metadata": {},
   "source": [
    "### 볼린저밴드 \n",
    "1. 이동평균선 : 데이터 20개의 평균값\n",
    "2. 상단 밴드 : 이동평균선 + (2 * 데이터 20개의 표준편차)\n",
    "3. 하단 밴드 : 이동평균선 - (2 * 데이터 20개의 표준편차)\n",
    "4. 매수의 조건식 : 가격이 하단밴드보다 낮은 경우\n",
    "5. 매도의 조건식 : 가격이 상단밴드보다 높은 경우"
   ]
  },
  {
   "cell_type": "code",
   "execution_count": 1,
   "id": "e96cbbb1",
   "metadata": {},
   "outputs": [],
   "source": [
    "import pandas as pd\n",
    "import numpy as np\n",
    "import matplotlib.pyplot as plt\n",
    "from datetime import datetime"
   ]
  },
  {
   "cell_type": "code",
   "execution_count": 11,
   "id": "21e84f22",
   "metadata": {},
   "outputs": [],
   "source": [
    "df = pd.read_csv(\"../../csv/AAPL.csv\")"
   ]
  },
  {
   "cell_type": "code",
   "execution_count": 12,
   "id": "8812e2da",
   "metadata": {},
   "outputs": [],
   "source": [
    "if 'Date' in df.columns:\n",
    "    df.set_index('Date', inplace=True)"
   ]
  },
  {
   "cell_type": "code",
   "execution_count": 13,
   "id": "d282c2aa",
   "metadata": {},
   "outputs": [],
   "source": [
    "# 결측치, 무한대 제거 \n",
    "flag = df.isin([np.nan, np.inf, -np.inf]).any(axis=1)"
   ]
  },
  {
   "cell_type": "code",
   "execution_count": 14,
   "id": "8930d44e",
   "metadata": {},
   "outputs": [],
   "source": [
    "df = df.loc[~flag, ['Adj Close']]"
   ]
  },
  {
   "cell_type": "code",
   "execution_count": null,
   "id": "e3b1b30e",
   "metadata": {},
   "outputs": [],
   "source": [
    "df"
   ]
  },
  {
   "cell_type": "code",
   "execution_count": 16,
   "id": "f37aad78",
   "metadata": {},
   "outputs": [],
   "source": [
    "# index를 시계열로 변경 \n",
    "df.index = pd.to_datetime(df.index)"
   ]
  },
  {
   "cell_type": "code",
   "execution_count": null,
   "id": "4ed49a4a",
   "metadata": {},
   "outputs": [
    {
     "data": {
      "text/plain": [
       "0.4432777"
      ]
     },
     "execution_count": 17,
     "metadata": {},
     "output_type": "execute_result"
    }
   ],
   "source": [
    "# Adj Close의 데이터에서 이동 평균선 구하기 \n",
    "df.iloc[0:20, 0].mean()\n",
    "# df.iloc[19 ]위치에 평균 값을 대입"
   ]
  },
  {
   "cell_type": "code",
   "execution_count": 18,
   "id": "7411b041",
   "metadata": {},
   "outputs": [],
   "source": [
    "# 이동평균선 컬럼을 생성하여 결측치를 넣어둔다. \n",
    "df['center'] = np.nan"
   ]
  },
  {
   "cell_type": "code",
   "execution_count": 19,
   "id": "1fbfef86",
   "metadata": {},
   "outputs": [],
   "source": [
    "df.iloc[19, 1] = df.iloc[0:20, 0].mean()"
   ]
  },
  {
   "cell_type": "code",
   "execution_count": null,
   "id": "f99df36c",
   "metadata": {},
   "outputs": [],
   "source": [
    "df.iloc[18:22]"
   ]
  },
  {
   "cell_type": "code",
   "execution_count": 21,
   "id": "77f2c991",
   "metadata": {},
   "outputs": [],
   "source": [
    "for i in range(20, len(df), 1):\n",
    "    df.iloc[i-1, 1] = df.iloc[ i-20 : i, 0 ].mean()"
   ]
  },
  {
   "cell_type": "code",
   "execution_count": 22,
   "id": "e8ce0186",
   "metadata": {},
   "outputs": [
    {
     "data": {
      "text/html": [
       "<div>\n",
       "<style scoped>\n",
       "    .dataframe tbody tr th:only-of-type {\n",
       "        vertical-align: middle;\n",
       "    }\n",
       "\n",
       "    .dataframe tbody tr th {\n",
       "        vertical-align: top;\n",
       "    }\n",
       "\n",
       "    .dataframe thead th {\n",
       "        text-align: right;\n",
       "    }\n",
       "</style>\n",
       "<table border=\"1\" class=\"dataframe\">\n",
       "  <thead>\n",
       "    <tr style=\"text-align: right;\">\n",
       "      <th></th>\n",
       "      <th>Adj Close</th>\n",
       "      <th>center</th>\n",
       "    </tr>\n",
       "    <tr>\n",
       "      <th>Date</th>\n",
       "      <th></th>\n",
       "      <th></th>\n",
       "    </tr>\n",
       "  </thead>\n",
       "  <tbody>\n",
       "    <tr>\n",
       "      <th>1981-01-09</th>\n",
       "      <td>0.455147</td>\n",
       "      <td>NaN</td>\n",
       "    </tr>\n",
       "    <tr>\n",
       "      <th>1981-01-12</th>\n",
       "      <td>0.451577</td>\n",
       "      <td>0.443278</td>\n",
       "    </tr>\n",
       "    <tr>\n",
       "      <th>1981-01-13</th>\n",
       "      <td>0.435513</td>\n",
       "      <td>0.444527</td>\n",
       "    </tr>\n",
       "    <tr>\n",
       "      <th>1981-01-14</th>\n",
       "      <td>0.437298</td>\n",
       "      <td>0.446937</td>\n",
       "    </tr>\n",
       "  </tbody>\n",
       "</table>\n",
       "</div>"
      ],
      "text/plain": [
       "            Adj Close    center\n",
       "Date                           \n",
       "1981-01-09   0.455147       NaN\n",
       "1981-01-12   0.451577  0.443278\n",
       "1981-01-13   0.435513  0.444527\n",
       "1981-01-14   0.437298  0.446937"
      ]
     },
     "execution_count": 22,
     "metadata": {},
     "output_type": "execute_result"
    }
   ],
   "source": [
    "df.iloc[18:22]"
   ]
  },
  {
   "cell_type": "code",
   "execution_count": null,
   "id": "91ee51bb",
   "metadata": {},
   "outputs": [],
   "source": []
  }
 ],
 "metadata": {
  "kernelspec": {
   "display_name": "Python 3",
   "language": "python",
   "name": "python3"
  },
  "language_info": {
   "codemirror_mode": {
    "name": "ipython",
    "version": 3
   },
   "file_extension": ".py",
   "mimetype": "text/x-python",
   "name": "python",
   "nbconvert_exporter": "python",
   "pygments_lexer": "ipython3",
   "version": "3.11.1"
  }
 },
 "nbformat": 4,
 "nbformat_minor": 5
}
