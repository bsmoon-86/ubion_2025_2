{
 "cells": [
  {
   "cell_type": "markdown",
   "id": "bc7115bc",
   "metadata": {},
   "source": [
    "## 데이터프레임간의 결합 \n",
    "- 유니언 결합 \n",
    "    - 단순하게 행이나 열을 결합하는 형태 \n",
    "    - pandas안에 존재하는 concat() 함수를 사용\n",
    "    - 단순한 결합 형태이기 때문에 결합하려는 데이터프레임의 개수에 제한을 두지 않는다. \n",
    "        - pd.concat( [데이터프레임명, 데이터프레임명, ...] )\n",
    "            - axis 매개변수\n",
    "                - 0(rows) : 행을 결합 (기본값)\n",
    "                - 1(columns) : 열을 결합\n",
    "            - ignore_index 매개변수\n",
    "                - False(기본값) : 결합되는 기준을 보존\n",
    "                - True : 결합되는 기준을 초기화\n",
    "            - axis가 0이고 ignore_index가 True이면 데이터프레임이 행으로 단순 결합이 되고 인덱스의 값이 초기화\n",
    "            - axis가 1이고 ignore_index가 True이면 데이터프레임이 열로 단순 결합이 되고 컬럼의 값들이 초기화\n",
    "- 조인 결합\n",
    "    - 특정한 조건에 맞게 열을 결합하는 형태 \n",
    "    - 데이터프레임과 데이터프레임을 조인결합 -> 특정 컬럼의 데이터들이 같은 값들로 이루어져 있을때만 열을 추가하는 결합 \n",
    "    - pandas, DataFrame 두군데 모두 존재하는 merge() 함수를 이용\n",
    "    - 특정 조건 맞춰서 열을 결합하기 때문에 결합되는 데이터프레임의 개수는 2개\n",
    "    - 3개의 데이터프레임을 결합하려면?\n",
    "        - merge()함수를 2번 호출\n",
    "        - pd.merge(데이터프레임, 데이터프레임2)\n",
    "            - on 매개변수\n",
    "                - 조건식( 두개의 데이터프레임이 공통적으로 가지고 있는 컬럼명 )\n",
    "                - 두개의 데이터프레임에서 컬럼의 이름이 다른경우\n",
    "                    - left_on, right_on 매개변수를 이용하여 각각의 데이터프레임의 컬럼의 이름을 대입\n",
    "            - how 매개변수\n",
    "                - inner : 두개의 데이터프레임이 공통적으로 가지고 있는 데이터들을 기준으로 결합 \n",
    "                - left : 왼쪽의 데이터프레임(첫번째 인자)을 기준으로 결합\n",
    "                - right : 오른쪽의 데이터프레임(두번째 인자)을 기준으로 결합\n",
    "                - outer : 두개의 데이터프레임의 모든 데이터 결합합"
   ]
  },
  {
   "cell_type": "code",
   "execution_count": null,
   "id": "eb715456",
   "metadata": {},
   "outputs": [],
   "source": [
    "import pandas as pd"
   ]
  },
  {
   "cell_type": "code",
   "execution_count": null,
   "id": "3a238927",
   "metadata": {},
   "outputs": [],
   "source": [
    "# dict 안에 list로 이루어진 2차원 데이터 \n",
    "data = {\n",
    "    'id' : ['a', 'b', 'c'], \n",
    "    'password' : ['1111', '2222', '3333']\n",
    "}\n",
    "df1 = pd.DataFrame( data )\n",
    "df1"
   ]
  },
  {
   "cell_type": "code",
   "execution_count": null,
   "id": "b858433c",
   "metadata": {},
   "outputs": [],
   "source": [
    "# list안에 dict형태의 2차원 데이터\n",
    "data2 = [\n",
    "    {\n",
    "        'id' : 'a', \n",
    "        'name' : \"kim\"\n",
    "    }, \n",
    "    {\n",
    "        'id' : 'b', \n",
    "        'name' : 'park'\n",
    "    }, \n",
    "    {\n",
    "        'id' : 'd', \n",
    "        'name' : 'lee'\n",
    "    }\n",
    "]\n",
    "df2 = pd.DataFrame(data2)\n",
    "df2"
   ]
  },
  {
   "cell_type": "code",
   "execution_count": null,
   "id": "8ec791c1",
   "metadata": {},
   "outputs": [],
   "source": [
    "# list안에 list인 2차원 데이터 \n",
    "data3 = [\n",
    "    ['a', '01012345678'], \n",
    "    ['b', '01099998888'], \n",
    "    ['f', '01011112222']\n",
    "]\n",
    "df3 = pd.DataFrame(data3, columns=['user_id', 'phone'])\n",
    "df3"
   ]
  },
  {
   "cell_type": "code",
   "execution_count": null,
   "id": "2a2ebf4d",
   "metadata": {},
   "outputs": [],
   "source": [
    "# 단순 결합 (유니언 결합)\n",
    "# concat() \n",
    "# 단순한 행 결합( 컬럼의 이름이 같은 부분에 행 결합 )\n",
    "pd.concat(\n",
    "    [df1, df2, df3], \n",
    "    axis = 0, \n",
    "    ignore_index=True\n",
    ")"
   ]
  },
  {
   "cell_type": "code",
   "execution_count": null,
   "id": "f911fcff",
   "metadata": {},
   "outputs": [],
   "source": [
    "# 단순한 열 결합 \n",
    "pd.concat(\n",
    "    [df1, df2, df3], \n",
    "    axis = 1\n",
    ")"
   ]
  },
  {
   "cell_type": "code",
   "execution_count": null,
   "id": "9f426b44",
   "metadata": {},
   "outputs": [],
   "source": [
    "# df3의 인덱스 값을 2를 4로 변경 \n",
    "df3.rename(\n",
    "    index={\n",
    "        2 : 4\n",
    "    }, inplace=True\n",
    ")"
   ]
  },
  {
   "cell_type": "code",
   "execution_count": null,
   "id": "218d640b",
   "metadata": {},
   "outputs": [],
   "source": [
    "pd.concat(\n",
    "    [df1, df2, df3], \n",
    "    axis=1, \n",
    "    ignore_index=True\n",
    ")"
   ]
  },
  {
   "cell_type": "code",
   "execution_count": null,
   "id": "eab3c426",
   "metadata": {},
   "outputs": [],
   "source": [
    "# 조인결합 \n",
    "# df1, df2를 조인결합 -> 합집합\n",
    "pd.merge(df1, df2, on = 'id', how='outer')"
   ]
  },
  {
   "cell_type": "code",
   "execution_count": null,
   "id": "89dc7749",
   "metadata": {},
   "outputs": [],
   "source": [
    "pd.merge(df1, df2, on='id', how='left')"
   ]
  },
  {
   "cell_type": "code",
   "execution_count": null,
   "id": "c86a8d3a",
   "metadata": {},
   "outputs": [],
   "source": [
    "pd.merge(df1, df2, on='id', how='right')"
   ]
  },
  {
   "cell_type": "code",
   "execution_count": null,
   "id": "efdfa734",
   "metadata": {},
   "outputs": [],
   "source": [
    "merge_data = pd.merge(df1, df2, on='id', how='inner')"
   ]
  },
  {
   "cell_type": "code",
   "execution_count": null,
   "id": "fe6b7255",
   "metadata": {},
   "outputs": [],
   "source": [
    "# merge() pandas에도 존재 DataFrame에도 존재\n",
    "# on매개변수를 사용하려면 -> 결합되는 데이터프레임이 같은 컬럼의 이름\n",
    "# 두개의 데이터프레임이 컬럼의 이름이 다른 경우\n",
    "merge_data.merge(df3, how = 'outer', left_on='id', right_on='user_id')"
   ]
  },
  {
   "cell_type": "code",
   "execution_count": null,
   "id": "79eb01bc",
   "metadata": {},
   "outputs": [],
   "source": [
    "# df3의 컬럼의 이름을 변경하고 merge()\n",
    "df3.rename(\n",
    "    columns={\n",
    "        'user_id' : 'id'\n",
    "    }, inplace=True\n",
    ")"
   ]
  },
  {
   "cell_type": "code",
   "execution_count": null,
   "id": "c1874096",
   "metadata": {},
   "outputs": [],
   "source": [
    "merge_data.merge(df3, on='id', how='outer')"
   ]
  },
  {
   "cell_type": "code",
   "execution_count": null,
   "id": "b973db33",
   "metadata": {},
   "outputs": [],
   "source": [
    "df1"
   ]
  },
  {
   "cell_type": "code",
   "execution_count": null,
   "id": "335f37e8",
   "metadata": {},
   "outputs": [],
   "source": [
    "df2"
   ]
  },
  {
   "cell_type": "code",
   "execution_count": null,
   "id": "c9dffe3b",
   "metadata": {},
   "outputs": [],
   "source": [
    "# 데이터프레임 인덱스를 변경 \n",
    "df1.set_index('id', inplace=True)"
   ]
  },
  {
   "cell_type": "code",
   "execution_count": null,
   "id": "f10f3224",
   "metadata": {},
   "outputs": [],
   "source": [
    "df2.set_index('name', inplace=True)"
   ]
  },
  {
   "cell_type": "code",
   "execution_count": null,
   "id": "fd75fb84",
   "metadata": {},
   "outputs": [],
   "source": [
    "# 단순 열결합시 인덱스가 서로 다른 데이터라면 인덱스를 초기화하고 결합\n",
    "pd.concat([df1.reset_index() , df2.reset_index()], axis=1)"
   ]
  },
  {
   "cell_type": "markdown",
   "id": "25f7a9a8",
   "metadata": {},
   "source": [
    "### 데이터프레임 결합 예제\n",
    "1. csv 폴더에서 tran_1, tran_2, tran_d_1, tran_d_2 csv파일을 로드 \n",
    "2. tran_1, tran_2는 테이블의 구조가 같기 때문에 단순한 행 결합 \n",
    "3. tran_d_1, tran_d_2도 테이블의 구조가 같기 때문에 단순한 행 결합 \n",
    "4. 2번과정과 3번 과정에서 나온 데이터프레임을 조인 결합 (왼쪽을 기준)"
   ]
  },
  {
   "cell_type": "code",
   "execution_count": null,
   "id": "6de08ce9",
   "metadata": {},
   "outputs": [],
   "source": [
    "# 파일 로드 \n",
    "tran_1 = pd.read_csv(\"../../csv/tran_1.csv\")\n",
    "tran_2 = pd.read_csv(\"../../csv/tran_2.csv\")\n",
    "tran_d_1 = pd.read_csv(\"../../csv/tran_d_1.csv\")\n",
    "tran_d_2 = pd.read_csv(\"../../csv/tran_d_2.csv\")"
   ]
  },
  {
   "cell_type": "code",
   "execution_count": null,
   "id": "1b1a3b75",
   "metadata": {},
   "outputs": [],
   "source": [
    "# tran_1, tran_2 단순 행 결합 -> 구조 파악\n",
    "tran_1.info()"
   ]
  },
  {
   "cell_type": "code",
   "execution_count": null,
   "id": "142b0d48",
   "metadata": {},
   "outputs": [],
   "source": [
    "tran_2.head(3)"
   ]
  },
  {
   "cell_type": "code",
   "execution_count": null,
   "id": "1490e373",
   "metadata": {},
   "outputs": [],
   "source": [
    "tran_2.info()"
   ]
  },
  {
   "cell_type": "code",
   "execution_count": null,
   "id": "12fb1552",
   "metadata": {},
   "outputs": [],
   "source": [
    "tran = pd.concat(\n",
    "    [tran_1, tran_2], \n",
    "    axis=0\n",
    ")"
   ]
  },
  {
   "cell_type": "code",
   "execution_count": null,
   "id": "f9c8885b",
   "metadata": {},
   "outputs": [],
   "source": [
    "tran_d_1.info()"
   ]
  },
  {
   "cell_type": "code",
   "execution_count": null,
   "id": "07b6cd9b",
   "metadata": {},
   "outputs": [],
   "source": [
    "tran_d_2.info()"
   ]
  },
  {
   "cell_type": "code",
   "execution_count": null,
   "id": "4dac138e",
   "metadata": {},
   "outputs": [],
   "source": [
    "tran_d = pd.concat(\n",
    "    [tran_d_1, tran_d_2]\n",
    ")"
   ]
  },
  {
   "cell_type": "code",
   "execution_count": null,
   "id": "a83e0638",
   "metadata": {},
   "outputs": [],
   "source": [
    "tran_d.head()"
   ]
  },
  {
   "cell_type": "code",
   "execution_count": null,
   "id": "336625c5",
   "metadata": {},
   "outputs": [],
   "source": [
    "# detail_id가 고유한 값인가?\n",
    "# detail_id의 유니크 값들의 길이가 데이터프레임의 인덱스 크기와 같다.\n",
    "len(tran_d['detail_id'].unique()) == len(tran_d)"
   ]
  },
  {
   "cell_type": "code",
   "execution_count": null,
   "id": "ff384408",
   "metadata": {},
   "outputs": [],
   "source": [
    "# transaction_id는 고유한 값인가?\n",
    "# value_counts() 함수를 이용하여 데이터의 개수가 모두 1개라면\n",
    "tran_d['transaction_id'].value_counts()"
   ]
  },
  {
   "cell_type": "code",
   "execution_count": null,
   "id": "df157826",
   "metadata": {},
   "outputs": [],
   "source": [
    "# tran의 transaction_id와 tran_d에 있는 transaction_id가 같은 데이터인가?\n",
    "tran_test = tran['transaction_id'].unique() == \\\n",
    "    tran_d['transaction_id'].unique()\n",
    "\n",
    "tran_test.sum()"
   ]
  },
  {
   "cell_type": "code",
   "execution_count": null,
   "id": "e50f181a",
   "metadata": {},
   "outputs": [],
   "source": [
    "# tran, tran_d 조인결합 (왼쪽을 기준으로준으로)\n",
    "df = pd.merge(\n",
    "    tran, \n",
    "    tran_d, \n",
    "    on = 'transaction_id', \n",
    "    how = 'left'\n",
    ")"
   ]
  },
  {
   "cell_type": "code",
   "execution_count": null,
   "id": "958d4b79",
   "metadata": {},
   "outputs": [],
   "source": [
    "tran['transaction_id'].value_counts()"
   ]
  },
  {
   "cell_type": "code",
   "execution_count": null,
   "id": "c2b7c25e",
   "metadata": {},
   "outputs": [],
   "source": [
    "df['transaction_id'].value_counts()"
   ]
  },
  {
   "cell_type": "code",
   "execution_count": null,
   "id": "64412809",
   "metadata": {},
   "outputs": [],
   "source": [
    "# item_master 파일을 로드 \n",
    "item = pd.read_csv(\"../../csv/item_master.csv\")"
   ]
  },
  {
   "cell_type": "code",
   "execution_count": null,
   "id": "7e43d64f",
   "metadata": {},
   "outputs": [],
   "source": [
    "item.head()"
   ]
  },
  {
   "cell_type": "code",
   "execution_count": null,
   "id": "114416d7",
   "metadata": {},
   "outputs": [],
   "source": [
    "item.info()"
   ]
  },
  {
   "cell_type": "code",
   "execution_count": null,
   "id": "11645786",
   "metadata": {},
   "outputs": [],
   "source": [
    "df['item_id'].unique()"
   ]
  },
  {
   "cell_type": "code",
   "execution_count": null,
   "id": "47f39169",
   "metadata": {},
   "outputs": [],
   "source": [
    "total_df = pd.merge(\n",
    "    df, \n",
    "    item, \n",
    "    on = 'item_id', \n",
    "    how = 'left'\n",
    ")"
   ]
  },
  {
   "cell_type": "code",
   "execution_count": null,
   "id": "a09591a1",
   "metadata": {},
   "outputs": [],
   "source": [
    "total_df.info()"
   ]
  },
  {
   "cell_type": "code",
   "execution_count": null,
   "id": "633b0d2b",
   "metadata": {},
   "outputs": [],
   "source": [
    "total_df.head()"
   ]
  },
  {
   "cell_type": "code",
   "execution_count": null,
   "id": "a22f68e8",
   "metadata": {},
   "outputs": [],
   "source": [
    "# transaction_id에서 중복이 존재하는 데이터를 확인 \n",
    "# value_counts()함수를 사용하여 개수가 2개 이상인 id를 찾는다. \n",
    "flag = total_df['transaction_id'].value_counts() >= 2"
   ]
  },
  {
   "cell_type": "code",
   "execution_count": null,
   "id": "46540714",
   "metadata": {},
   "outputs": [],
   "source": [
    "flag"
   ]
  },
  {
   "cell_type": "code",
   "execution_count": null,
   "id": "e1ee66c2",
   "metadata": {},
   "outputs": [],
   "source": [
    "for id in total_df['transaction_id']: \n",
    "    if id in ['T0000000790', 'T0000005598']:\n",
    "        print(id in ['T0000000790', 'T0000005598'])"
   ]
  },
  {
   "cell_type": "code",
   "execution_count": null,
   "id": "37321944",
   "metadata": {},
   "outputs": [],
   "source": [
    "# transaction_id 기준으로 오름차순 정렬 \n",
    "total_df.sort_values('transaction_id', inplace=True)"
   ]
  },
  {
   "cell_type": "code",
   "execution_count": null,
   "id": "ce031703",
   "metadata": {},
   "outputs": [],
   "source": [
    "# transaction_id 데이터가 전행의 데이터와 같거나 다음 행의 데이터와 같다면 -> 중복 데이터\n",
    "flag_1 = total_df['transaction_id'] == total_df['transaction_id'].shift()\n",
    "flag_2 = total_df['transaction_id'] == total_df['transaction_id'].shift(-1)\n",
    "\n",
    "(flag_1 | flag_2).sum()"
   ]
  },
  {
   "cell_type": "code",
   "execution_count": null,
   "id": "e96675e6",
   "metadata": {},
   "outputs": [],
   "source": [
    "total_df.loc[flag_1 | flag_2, ]"
   ]
  },
  {
   "cell_type": "code",
   "execution_count": null,
   "id": "be5cb7cb",
   "metadata": {},
   "outputs": [],
   "source": [
    "# duplicated() : 중복된 데이터를 확인하기 위한 함수 \n",
    "    # keep 매개변수 \n",
    "        # 'first' : 첫번째 데이터를 유지하고 나머지 데이터를 보여준다. \n",
    "        # 'last' : 중복된 데이터중 마지막 데이터만 확인\n",
    "        # False : 중복된 모든 데이터를 보여준다. \n",
    "total_df.loc[\n",
    "    total_df['transaction_id'].duplicated(keep=False), ]"
   ]
  },
  {
   "cell_type": "code",
   "execution_count": null,
   "id": "414eec74",
   "metadata": {},
   "outputs": [],
   "source": [
    "# price 데이터를 합산을 했을때 전체 거래내역의 합산이라 볼수 없다. \n",
    "# 전체 거래내역의 합산을 구하기 위해서 아이템의 개수와 아이템 가격을 곱해서 새로운 변수를 생성\n",
    "total_df['price2'] = total_df['quantity'] * total_df['item_price']"
   ]
  },
  {
   "cell_type": "code",
   "execution_count": null,
   "id": "bcdab605",
   "metadata": {},
   "outputs": [],
   "source": [
    "total_df.loc[\n",
    "    total_df['transaction_id'].duplicated(keep=False), ]"
   ]
  },
  {
   "cell_type": "code",
   "execution_count": null,
   "id": "1edaeee0",
   "metadata": {},
   "outputs": [],
   "source": [
    "total_df.loc[\n",
    "    total_df['quantity'] >= 2, \n",
    "]"
   ]
  },
  {
   "cell_type": "markdown",
   "id": "b399b46d",
   "metadata": {},
   "source": [
    "- 요일별 거래금액이 가장 높은 요일은 언제일까?\n",
    "    1. payment_date컬럼을 시계열 데이터로 변경\n",
    "    2. 변경된 시계열 데이터에서 요일을 추출(축약된 이름)하여 'week' 컬럼을 생성하여 대입 \n",
    "    3. 요일별로 그룹화하여 price2의 그룹화 합산\n",
    "    4. 합산된 데이터를 기준으로 내림차순 정렬\n"
   ]
  },
  {
   "cell_type": "code",
   "execution_count": null,
   "id": "b883fc3e",
   "metadata": {},
   "outputs": [],
   "source": [
    "# 시계열 데이터를 변경 \n",
    "total_df['payment_date'] = pd.to_datetime(total_df['payment_date'])"
   ]
  },
  {
   "cell_type": "code",
   "execution_count": null,
   "id": "5d0bfd25",
   "metadata": {},
   "outputs": [],
   "source": [
    "total_df.info()"
   ]
  },
  {
   "cell_type": "code",
   "execution_count": null,
   "id": "5f48b39b",
   "metadata": {},
   "outputs": [],
   "source": [
    "total_df['week'] = total_df['payment_date'].dt.strftime('%a')"
   ]
  },
  {
   "cell_type": "code",
   "execution_count": null,
   "id": "c3b2b415",
   "metadata": {},
   "outputs": [],
   "source": [
    "group_data = total_df.groupby(['week'])['price2'].sum()"
   ]
  },
  {
   "cell_type": "code",
   "execution_count": null,
   "id": "0d740435",
   "metadata": {},
   "outputs": [],
   "source": [
    "group_data.sort_values(ascending=False)"
   ]
  },
  {
   "cell_type": "code",
   "execution_count": null,
   "id": "1a81a1b4",
   "metadata": {},
   "outputs": [],
   "source": [
    "# 그룹화 연산을 2개 이상\n",
    "total_df.groupby(['week', 'item_name'])['price2'].agg(['sum', 'count']).unstack()"
   ]
  },
  {
   "cell_type": "code",
   "execution_count": null,
   "id": "85465a8a",
   "metadata": {},
   "outputs": [],
   "source": [
    "pd.pivot_table(\n",
    "    total_df, \n",
    "    index = 'week', \n",
    "    values= 'price2', \n",
    "    columns= 'item_name',\n",
    "    aggfunc= ['sum', 'count']\n",
    ")"
   ]
  },
  {
   "cell_type": "code",
   "execution_count": null,
   "id": "da01473e",
   "metadata": {},
   "outputs": [],
   "source": [
    "# map 함수 \n",
    "# 반복문과 흡사\n",
    "_list = [1,2,3,4]\n",
    "\n",
    "res = []\n",
    "for i in _list:\n",
    "    res.append(i**2)\n",
    "\n",
    "res"
   ]
  },
  {
   "cell_type": "code",
   "execution_count": null,
   "id": "99b21e30",
   "metadata": {},
   "outputs": [],
   "source": [
    "# map( 함수명 , 1차원 데이터 ) -> 1차원 데이터의 원소들은 함수에 대입해서 \n",
    "# 결과를 map데이터 반환\n",
    "def func_1(x):\n",
    "    return x ** 2\n",
    "\n",
    "list(\n",
    "    map(\n",
    "        func_1, \n",
    "        _list\n",
    "    )\n",
    ")"
   ]
  },
  {
   "cell_type": "code",
   "execution_count": null,
   "id": "196a7c7b",
   "metadata": {},
   "outputs": [],
   "source": [
    "# map, lambda  함수를 이용\n",
    "# lambda함수는 함수를 생성함과 동시에 호출\n",
    "list(\n",
    "    map(\n",
    "        lambda x : x**2,\n",
    "        _list\n",
    "    )\n",
    ")"
   ]
  },
  {
   "cell_type": "code",
   "execution_count": null,
   "id": "a2f448c0",
   "metadata": {},
   "outputs": [],
   "source": [
    "# Series 데이터를 생성 \n",
    "test_data =pd.Series([10, 20, 30, 40])\n",
    "test_data"
   ]
  },
  {
   "cell_type": "code",
   "execution_count": null,
   "id": "05546a91",
   "metadata": {},
   "outputs": [],
   "source": [
    "# Series  안에 있는 map + lambda함수 \n",
    "test_data.map(\n",
    "    lambda a : a / 10\n",
    ")"
   ]
  },
  {
   "cell_type": "code",
   "execution_count": null,
   "id": "056a4e74",
   "metadata": {},
   "outputs": [],
   "source": [
    "def func_2(a):\n",
    "    return a / 10\n",
    "\n",
    "test_data.map(\n",
    "    func_2\n",
    ")"
   ]
  },
  {
   "cell_type": "code",
   "execution_count": null,
   "id": "36536562",
   "metadata": {},
   "outputs": [],
   "source": [
    "# map 함수를 이용해서 payment_date에서 요일을 출력 \n",
    "# 요일 데이터를 숫자의 형태로 출력 -> 해당 요일의 이름을 변경 \n",
    "# case1 (map + 일반함수)\n",
    "def func_3(x):\n",
    "    # x에 입력이 되는 데이터? -> payment_date의 value가 하나씩 입력\n",
    "    # x의 데이터의 타입? -> Timestamp\n",
    "    # x.strftime()\n",
    "    # print(x)\n",
    "    # print(type(x))\n",
    "    # print(x.strftime('%w'))\n",
    "    week_index = int(x.strftime('%w'))\n",
    "    if week_index == 0:\n",
    "        result = '일요일'\n",
    "    elif week_index == 1:\n",
    "        result = '월요일'\n",
    "    elif week_index == 2:\n",
    "        result = '화요일'\n",
    "    elif week_index == 3:\n",
    "        result = \"수요일\"\n",
    "    elif week_index == 4:\n",
    "        result = '목요일'\n",
    "    elif week_index == 5:\n",
    "        result = \"금요일\"\n",
    "    else:\n",
    "        result = '토요일'\n",
    "    return result\n",
    "\n",
    "total_df.head(3)['payment_date'].map(\n",
    "    func_3\n",
    ")"
   ]
  },
  {
   "cell_type": "code",
   "execution_count": null,
   "id": "649eae0b",
   "metadata": {},
   "outputs": [],
   "source": [
    "# 위의 if문을 효율적으로 코드를 작성한다면 \n",
    "def func_4(x):\n",
    "    week_names = ['일요일', '월요일', '화요일', '수요일', \n",
    "                  '목요일', '금요일', '토요일']\n",
    "    week_index = int(x.strftime('%w'))\n",
    "\n",
    "    return week_names[week_index]\n",
    "\n",
    "total_df['payment_date'].map(\n",
    "    func_4\n",
    ")"
   ]
  },
  {
   "cell_type": "code",
   "execution_count": 137,
   "id": "c44c276c",
   "metadata": {},
   "outputs": [
    {
     "data": {
      "text/plain": [
       "0       금요일\n",
       "1       금요일\n",
       "2       금요일\n",
       "3       금요일\n",
       "4       금요일\n",
       "       ... \n",
       "7139    수요일\n",
       "7140    수요일\n",
       "7141    수요일\n",
       "7142    수요일\n",
       "7143    수요일\n",
       "Name: payment_date, Length: 7144, dtype: object"
      ]
     },
     "execution_count": 137,
     "metadata": {},
     "output_type": "execute_result"
    }
   ],
   "source": [
    "# map + lambda 함수 이용\n",
    "week_names = ['일요일', '월요일', '화요일', '수요일', \n",
    "                  '목요일', '금요일', '토요일']\n",
    "\n",
    "total_df['payment_date'].map(\n",
    "    lambda x : week_names[\n",
    "        int(\n",
    "            x.strftime('%w')\n",
    "        )\n",
    "    ]\n",
    ")"
   ]
  },
  {
   "cell_type": "code",
   "execution_count": 147,
   "id": "72082e4e",
   "metadata": {},
   "outputs": [
    {
     "data": {
      "text/html": [
       "<div>\n",
       "<style scoped>\n",
       "    .dataframe tbody tr th:only-of-type {\n",
       "        vertical-align: middle;\n",
       "    }\n",
       "\n",
       "    .dataframe tbody tr th {\n",
       "        vertical-align: top;\n",
       "    }\n",
       "\n",
       "    .dataframe thead th {\n",
       "        text-align: right;\n",
       "    }\n",
       "</style>\n",
       "<table border=\"1\" class=\"dataframe\">\n",
       "  <thead>\n",
       "    <tr style=\"text-align: right;\">\n",
       "      <th></th>\n",
       "      <th>transaction_id</th>\n",
       "      <th>price</th>\n",
       "      <th>payment_date</th>\n",
       "      <th>customer_id</th>\n",
       "      <th>detail_id</th>\n",
       "      <th>item_id</th>\n",
       "      <th>quantity</th>\n",
       "      <th>item_name</th>\n",
       "      <th>item_price</th>\n",
       "      <th>price2</th>\n",
       "      <th>week</th>\n",
       "    </tr>\n",
       "  </thead>\n",
       "  <tbody>\n",
       "    <tr>\n",
       "      <th>0</th>\n",
       "      <td>T0000000113</td>\n",
       "      <td>210000</td>\n",
       "      <td>2019-02-01 01:36:57</td>\n",
       "      <td>PL563502</td>\n",
       "      <td>0</td>\n",
       "      <td>S005</td>\n",
       "      <td>1</td>\n",
       "      <td>PC-E</td>\n",
       "      <td>210000</td>\n",
       "      <td>210000</td>\n",
       "      <td>Fri</td>\n",
       "    </tr>\n",
       "    <tr>\n",
       "      <th>1</th>\n",
       "      <td>T0000000114</td>\n",
       "      <td>50000</td>\n",
       "      <td>2019-02-01 01:37:23</td>\n",
       "      <td>HD678019</td>\n",
       "      <td>1</td>\n",
       "      <td>S001</td>\n",
       "      <td>1</td>\n",
       "      <td>PC-A</td>\n",
       "      <td>50000</td>\n",
       "      <td>50000</td>\n",
       "      <td>Fri</td>\n",
       "    </tr>\n",
       "  </tbody>\n",
       "</table>\n",
       "</div>"
      ],
      "text/plain": [
       "  transaction_id   price        payment_date customer_id  detail_id item_id  \\\n",
       "0    T0000000113  210000 2019-02-01 01:36:57    PL563502          0    S005   \n",
       "1    T0000000114   50000 2019-02-01 01:37:23    HD678019          1    S001   \n",
       "\n",
       "   quantity item_name  item_price  price2 week  \n",
       "0         1      PC-E      210000  210000  Fri  \n",
       "1         1      PC-A       50000   50000  Fri  "
      ]
     },
     "execution_count": 147,
     "metadata": {},
     "output_type": "execute_result"
    }
   ],
   "source": [
    "# 데이터프레임에서 map함수를 이용하면?\n",
    "total_df.head(2).map(\n",
    "    lambda x : x\n",
    ")"
   ]
  },
  {
   "cell_type": "code",
   "execution_count": 145,
   "id": "29d6b173",
   "metadata": {},
   "outputs": [
    {
     "data": {
      "text/html": [
       "<div>\n",
       "<style scoped>\n",
       "    .dataframe tbody tr th:only-of-type {\n",
       "        vertical-align: middle;\n",
       "    }\n",
       "\n",
       "    .dataframe tbody tr th {\n",
       "        vertical-align: top;\n",
       "    }\n",
       "\n",
       "    .dataframe thead th {\n",
       "        text-align: right;\n",
       "    }\n",
       "</style>\n",
       "<table border=\"1\" class=\"dataframe\">\n",
       "  <thead>\n",
       "    <tr style=\"text-align: right;\">\n",
       "      <th></th>\n",
       "      <th>transaction_id</th>\n",
       "      <th>price</th>\n",
       "      <th>payment_date</th>\n",
       "      <th>customer_id</th>\n",
       "      <th>detail_id</th>\n",
       "      <th>item_id</th>\n",
       "      <th>quantity</th>\n",
       "      <th>item_name</th>\n",
       "      <th>item_price</th>\n",
       "      <th>price2</th>\n",
       "      <th>week</th>\n",
       "    </tr>\n",
       "  </thead>\n",
       "  <tbody>\n",
       "    <tr>\n",
       "      <th>0</th>\n",
       "      <td>T0000000113</td>\n",
       "      <td>210000</td>\n",
       "      <td>2019-02-01 01:36:57</td>\n",
       "      <td>PL563502</td>\n",
       "      <td>0</td>\n",
       "      <td>S005</td>\n",
       "      <td>1</td>\n",
       "      <td>PC-E</td>\n",
       "      <td>210000</td>\n",
       "      <td>210000</td>\n",
       "      <td>Fri</td>\n",
       "    </tr>\n",
       "    <tr>\n",
       "      <th>1</th>\n",
       "      <td>T0000000114</td>\n",
       "      <td>50000</td>\n",
       "      <td>2019-02-01 01:37:23</td>\n",
       "      <td>HD678019</td>\n",
       "      <td>1</td>\n",
       "      <td>S001</td>\n",
       "      <td>1</td>\n",
       "      <td>PC-A</td>\n",
       "      <td>50000</td>\n",
       "      <td>50000</td>\n",
       "      <td>Fri</td>\n",
       "    </tr>\n",
       "  </tbody>\n",
       "</table>\n",
       "</div>"
      ],
      "text/plain": [
       "  transaction_id   price         payment_date customer_id detail_id item_id  \\\n",
       "0    T0000000113  210000  2019-02-01 01:36:57    PL563502         0    S005   \n",
       "1    T0000000114   50000  2019-02-01 01:37:23    HD678019         1    S001   \n",
       "\n",
       "  quantity item_name item_price  price2 week  \n",
       "0        1      PC-E     210000  210000  Fri  \n",
       "1        1      PC-A      50000   50000  Fri  "
      ]
     },
     "execution_count": 145,
     "metadata": {},
     "output_type": "execute_result"
    }
   ],
   "source": [
    "total_df.head(2).apply(\n",
    "    lambda x : x.astype('str')\n",
    ")"
   ]
  }
 ],
 "metadata": {
  "kernelspec": {
   "display_name": "Python 3",
   "language": "python",
   "name": "python3"
  },
  "language_info": {
   "codemirror_mode": {
    "name": "ipython",
    "version": 3
   },
   "file_extension": ".py",
   "mimetype": "text/x-python",
   "name": "python",
   "nbconvert_exporter": "python",
   "pygments_lexer": "ipython3",
   "version": "3.11.1"
  }
 },
 "nbformat": 4,
 "nbformat_minor": 5
}
