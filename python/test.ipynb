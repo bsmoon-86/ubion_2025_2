{
 "cells": [
  {
   "cell_type": "code",
   "execution_count": 1,
   "id": "8d945b13",
   "metadata": {},
   "outputs": [],
   "source": [
    "import pandas as pd \n",
    "from invest import Quant"
   ]
  },
  {
   "cell_type": "code",
   "execution_count": 2,
   "id": "dcc20fd2",
   "metadata": {},
   "outputs": [],
   "source": [
    "df = pd.read_csv(\"../csv/SLV.csv\")"
   ]
  },
  {
   "cell_type": "code",
   "execution_count": 3,
   "id": "a2eb2af1",
   "metadata": {},
   "outputs": [],
   "source": [
    "quant = Quant(df)"
   ]
  },
  {
   "cell_type": "code",
   "execution_count": 4,
   "id": "12afda84",
   "metadata": {},
   "outputs": [
    {
     "name": "stdout",
     "output_type": "stream",
     "text": [
      "바이앤홀드 전략으로 최종 수익율은 0.8376610562971583\n"
     ]
    }
   ],
   "source": [
    "bhn_df, bnh_rtn = quant.buyandhold()"
   ]
  },
  {
   "cell_type": "code",
   "execution_count": 4,
   "id": "8a566acb",
   "metadata": {},
   "outputs": [
    {
     "name": "stdout",
     "output_type": "stream",
     "text": [
      "매수\n",
      "매수일 : 2010-01-21 00:00:00, 매수가 : 17.07\n",
      "매도\n",
      "매도일 : 2010-03-02 00:00:00, 매도가 : 16.559999, 수익율 : 0.970122964264792\n",
      "매수\n",
      "매수일 : 2010-05-05 00:00:00, 매수가 : 17.110001\n",
      "매도\n",
      "매도일 : 2010-06-18 00:00:00, 매도가 : 18.75, 수익율 : 1.095850315847439\n",
      "매수\n",
      "매수일 : 2010-07-01 00:00:00, 매수가 : 17.440001\n",
      "매도\n",
      "매도일 : 2010-08-25 00:00:00, 매도가 : 18.540001, 수익율 : 1.0630733908788195\n",
      "매수\n",
      "매수일 : 2011-01-20 00:00:00, 매수가 : 26.85\n",
      "매도\n",
      "매도일 : 2011-02-18 00:00:00, 매도가 : 31.790001, 수익율 : 1.1839851396648045\n",
      "매수\n",
      "매수일 : 2011-05-04 00:00:00, 매수가 : 38.27\n",
      "매도\n",
      "매도일 : 2011-05-24 00:00:00, 매도가 : 35.77, 수익율 : 0.9346746799059316\n",
      "매수\n",
      "매수일 : 2011-06-27 00:00:00, 매수가 : 32.630001\n",
      "매도\n",
      "매도일 : 2011-08-19 00:00:00, 매도가 : 41.68, 수익율 : 1.2773520907952163\n",
      "매수\n",
      "매수일 : 2011-09-22 00:00:00, 매수가 : 34.919998\n",
      "매도\n",
      "매도일 : 2011-10-27 00:00:00, 매도가 : 34.099998, 수익율 : 0.9765177535233536\n",
      "매수\n",
      "매수일 : 2011-11-17 00:00:00, 매수가 : 30.639999\n",
      "매도\n",
      "매도일 : 2012-01-20 00:00:00, 매도가 : 31.219999, 수익율 : 1.0189295045342528\n",
      "매수\n",
      "매수일 : 2012-04-23 00:00:00, 매수가 : 29.969999\n",
      "매도\n",
      "매도일 : 2012-06-06 00:00:00, 매도가 : 28.51, 수익율 : 0.9512846496925141\n",
      "매수\n",
      "매수일 : 2012-06-20 00:00:00, 매수가 : 27.26\n"
     ]
    },
    {
     "name": "stderr",
     "output_type": "stream",
     "text": [
      "c:\\ubion_2025_2\\python\\invest\\bollinger.py:79: FutureWarning: Setting an item of incompatible dtype is deprecated and will raise in a future error of pandas. Value '0.970122964264792' has dtype incompatible with int64, please explicitly cast to a compatible dtype first.\n",
      "  df.loc[idx, 'rtn'] = rtn\n"
     ]
    },
    {
     "name": "stdout",
     "output_type": "stream",
     "text": [
      "매도\n",
      "매도일 : 2012-07-27 00:00:00, 매도가 : 26.959999, 수익율 : 0.9889948275862068\n",
      "매수\n",
      "매수일 : 2012-10-15 00:00:00, 매수가 : 31.66\n",
      "매도\n",
      "매도일 : 2012-11-23 00:00:00, 매도가 : 32.98, 수익율 : 1.041692987997473\n",
      "매수\n",
      "매수일 : 2012-12-20 00:00:00, 매수가 : 29.0\n",
      "매도\n",
      "매도일 : 2013-08-08 00:00:00, 매도가 : 19.6, 수익율 : 0.6758620689655173\n",
      "매수\n",
      "매수일 : 2013-09-12 00:00:00, 매수가 : 21.059999\n",
      "매도\n",
      "매도일 : 2013-10-07 00:00:00, 매도가 : 21.530001, 수익율 : 1.0223172850103173\n",
      "매수\n",
      "매수일 : 2013-11-13 00:00:00, 매수가 : 19.780001\n",
      "매도\n",
      "매도일 : 2014-02-14 00:00:00, 매도가 : 20.65, 수익율 : 1.0439837692627012\n",
      "매수\n",
      "매수일 : 2014-04-15 00:00:00, 매수가 : 18.879999\n",
      "매도\n",
      "매도일 : 2014-06-12 00:00:00, 매도가 : 18.76, 수익율 : 0.9936441204260658\n",
      "매수\n",
      "매수일 : 2014-08-05 00:00:00, 매수가 : 19.049999\n",
      "매도\n",
      "매도일 : 2014-12-30 00:00:00, 매도가 : 15.58, 수익율 : 0.817847811960515\n",
      "매수\n",
      "매수일 : 2015-03-06 00:00:00, 매수가 : 15.19\n",
      "매도\n",
      "매도일 : 2015-03-20 00:00:00, 매도가 : 16.0, 수익율 : 1.0533245556287032\n",
      "매수\n",
      "매수일 : 2015-04-09 00:00:00, 매수가 : 15.51\n",
      "매도\n",
      "매도일 : 2015-05-13 00:00:00, 매도가 : 16.35, 수익율 : 1.0541586073500968\n",
      "매수\n",
      "매수일 : 2015-06-04 00:00:00, 매수가 : 15.48\n",
      "매도\n",
      "매도일 : 2015-08-10 00:00:00, 매도가 : 14.54, 수익율 : 0.9392764857881136\n",
      "매수\n",
      "매수일 : 2015-08-26 00:00:00, 매수가 : 13.56\n",
      "매도\n",
      "매도일 : 2015-09-17 00:00:00, 매도가 : 14.42, 수익율 : 1.0634218289085546\n",
      "매수\n",
      "매수일 : 2015-10-29 00:00:00, 매수가 : 14.88\n",
      "매도\n",
      "매도일 : 2015-12-04 00:00:00, 매도가 : 13.87, 수익율 : 0.9321236559139784\n",
      "매수\n",
      "매수일 : 2016-02-26 00:00:00, 매수가 : 14.02\n",
      "매도\n",
      "매도일 : 2016-03-17 00:00:00, 매도가 : 15.16, 수익율 : 1.0813124108416547\n",
      "매수\n",
      "매수일 : 2016-05-19 00:00:00, 매수가 : 15.67\n",
      "매도\n",
      "매도일 : 2016-06-08 00:00:00, 매도가 : 16.209999, 수익율 : 1.0344606892150605\n",
      "매수\n",
      "매수일 : 2016-07-20 00:00:00, 매수가 : 18.42\n",
      "매도\n",
      "매도일 : 2016-09-02 00:00:00, 매도가 : 18.440001, 수익율 : 1.0010858306188923\n",
      "매수\n",
      "매수일 : 2016-10-04 00:00:00, 매수가 : 16.940001\n",
      "매도\n",
      "매도일 : 2016-11-01 00:00:00, 매도가 : 17.41, 수익율 : 1.0277449216207248\n",
      "매수\n",
      "매수일 : 2016-11-11 00:00:00, 매수가 : 16.469999\n",
      "매도\n",
      "매도일 : 2016-12-07 00:00:00, 매도가 : 16.23, 수익율 : 0.9854281108335221\n",
      "매수\n",
      "매수일 : 2016-12-15 00:00:00, 매수가 : 15.18\n",
      "매도\n",
      "매도일 : 2017-01-17 00:00:00, 매도가 : 16.280001, 수익율 : 1.0724638339920949\n",
      "매수\n",
      "매수일 : 2017-04-07 00:00:00, 매수가 : 17.030001\n",
      "매도\n",
      "매도일 : 2017-05-16 00:00:00, 매도가 : 15.93, 수익율 : 0.935408048419962\n",
      "매수\n",
      "매수일 : 2017-06-12 00:00:00, 매수가 : 16.040001\n",
      "매도\n",
      "매도일 : 2017-08-28 00:00:00, 매도가 : 16.5, 수익율 : 1.0286782401073415\n",
      "매수\n",
      "매수일 : 2017-09-18 00:00:00, 매수가 : 16.27\n",
      "매도\n",
      "매도일 : 2017-10-10 00:00:00, 매도가 : 16.15, 수익율 : 0.9926244622003687\n",
      "매수\n",
      "매수일 : 2017-11-29 00:00:00, 매수가 : 15.64\n",
      "매도\n",
      "매도일 : 2017-12-27 00:00:00, 매도가 : 15.73, 수익율 : 1.0057544757033248\n",
      "매수\n",
      "매수일 : 2018-02-02 00:00:00, 매수가 : 15.66\n",
      "매도\n",
      "매도일 : 2018-04-18 00:00:00, 매도가 : 16.18, 수익율 : 1.0332056194125159\n",
      "매수\n",
      "매수일 : 2018-08-13 00:00:00, 매수가 : 14.1\n",
      "매도\n",
      "매도일 : 2018-09-25 00:00:00, 매도가 : 13.59, 수익율 : 0.9638297872340426\n",
      "매수\n",
      "매수일 : 2018-10-29 00:00:00, 매수가 : 13.59\n",
      "매도\n",
      "매도일 : 2018-12-26 00:00:00, 매도가 : 14.11, 수익율 : 1.0382634289919057\n",
      "매수\n",
      "매수일 : 2019-01-18 00:00:00, 매수가 : 14.37\n",
      "매도\n",
      "매도일 : 2019-02-19 00:00:00, 매도가 : 15.02, 수익율 : 1.0452331245650661\n",
      "매수\n",
      "매수일 : 2019-03-01 00:00:00, 매수가 : 14.2\n",
      "매도\n",
      "매도일 : 2019-06-03 00:00:00, 매도가 : 13.87, 수익율 : 0.9767605633802817\n",
      "볼린져밴드 전략으로 최종 수익율은 1.1643719667344417\n"
     ]
    }
   ],
   "source": [
    "boll_df, boll_rtn = quant.bollinger(_cnt=10)"
   ]
  },
  {
   "cell_type": "code",
   "execution_count": 7,
   "id": "39ccadcc",
   "metadata": {},
   "outputs": [
    {
     "name": "stdout",
     "output_type": "stream",
     "text": [
      "할로윈 전략으로 최종 수익율은 1.238197821310853\n"
     ]
    },
    {
     "name": "stderr",
     "output_type": "stream",
     "text": [
      "c:\\ubion_2025_2\\python\\invest\\halloween.py:50: FutureWarning: Setting an item of incompatible dtype is deprecated and will raise in a future error of pandas. Value '1.9476527212297465' has dtype incompatible with int64, please explicitly cast to a compatible dtype first.\n",
      "  result.iloc[idx, -1] = rtn\n"
     ]
    }
   ],
   "source": [
    "hall_df, hall_rtn = quant.halloween()"
   ]
  },
  {
   "cell_type": "code",
   "execution_count": 8,
   "id": "e809b599",
   "metadata": {},
   "outputs": [
    {
     "name": "stderr",
     "output_type": "stream",
     "text": [
      "c:\\ubion_2025_2\\python\\invest\\momentum.py:31: SettingWithCopyWarning: \n",
      "A value is trying to be set on a copy of a slice from a DataFrame.\n",
      "Try using .loc[row_indexer,col_indexer] = value instead\n",
      "\n",
      "See the caveats in the documentation: https://pandas.pydata.org/pandas-docs/stable/user_guide/indexing.html#returning-a-view-versus-a-copy\n",
      "  df['BF1'] = df.shift(1)[col].fillna(0)\n",
      "c:\\ubion_2025_2\\python\\invest\\momentum.py:33: SettingWithCopyWarning: \n",
      "A value is trying to be set on a copy of a slice from a DataFrame.\n",
      "Try using .loc[row_indexer,col_indexer] = value instead\n",
      "\n",
      "See the caveats in the documentation: https://pandas.pydata.org/pandas-docs/stable/user_guide/indexing.html#returning-a-view-versus-a-copy\n",
      "  df['BF2'] = df.shift(_momentum)[col].fillna(0)\n"
     ]
    },
    {
     "name": "stdout",
     "output_type": "stream",
     "text": [
      "매수일 : 2010-01-29 00:00:00, 매수가 : 15.9\n"
     ]
    },
    {
     "name": "stderr",
     "output_type": "stream",
     "text": [
      "c:\\ubion_2025_2\\python\\invest\\momentum.py:75: FutureWarning: Setting an item of incompatible dtype is deprecated and will raise in a future error of pandas. Value '2.030188616352201' has dtype incompatible with int64, please explicitly cast to a compatible dtype first.\n",
      "  df.loc[idx, 'rtn'] = rtn\n"
     ]
    },
    {
     "name": "stdout",
     "output_type": "stream",
     "text": [
      "매도일 : 2012-01-31 00:00:00, 매도가 : 32.279999, 수익율 : 2.030188616352201\n",
      "매수일 : 2012-09-28 00:00:00, 매수가 : 33.48\n",
      "매도일 : 2012-11-30 00:00:00, 매도가 : 32.360001, 수익율 : 0.9665472222222222\n",
      "매수일 : 2012-12-31 00:00:00, 매수가 : 29.370001\n",
      "매도일 : 2013-01-31 00:00:00, 매도가 : 30.440001, 수익율 : 1.0364317318205063\n",
      "매수일 : 2014-07-31 00:00:00, 매수가 : 19.58\n",
      "매도일 : 2014-08-29 00:00:00, 매도가 : 18.709999, 수익율 : 0.9555668539325843\n",
      "매수일 : 2016-05-31 00:00:00, 매수가 : 15.19\n",
      "매도일 : 2017-06-30 00:00:00, 매도가 : 15.71, 수익율 : 1.034233048057933\n",
      "매수일 : 2017-11-30 00:00:00, 매수가 : 15.51\n",
      "매도일 : 2018-01-31 00:00:00, 매도가 : 16.35, 수익율 : 1.0541586073500968\n",
      "모멘텀 전략으로 최종 수익율 2.1187787742154325\n"
     ]
    }
   ],
   "source": [
    "mmt_df, mmt_rtn = quant.momentum()"
   ]
  },
  {
   "cell_type": "code",
   "execution_count": null,
   "id": "616f5059",
   "metadata": {},
   "outputs": [],
   "source": []
  }
 ],
 "metadata": {
  "kernelspec": {
   "display_name": "Python 3",
   "language": "python",
   "name": "python3"
  },
  "language_info": {
   "codemirror_mode": {
    "name": "ipython",
    "version": 3
   },
   "file_extension": ".py",
   "mimetype": "text/x-python",
   "name": "python",
   "nbconvert_exporter": "python",
   "pygments_lexer": "ipython3",
   "version": "3.11.1"
  }
 },
 "nbformat": 4,
 "nbformat_minor": 5
}
