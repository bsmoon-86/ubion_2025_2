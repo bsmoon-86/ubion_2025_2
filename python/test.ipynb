{
 "cells": [
  {
   "cell_type": "code",
   "execution_count": 2,
   "id": "381fba3c",
   "metadata": {},
   "outputs": [],
   "source": [
    "import pandas as pd \n",
    "from invest import Quant"
   ]
  },
  {
   "cell_type": "code",
   "execution_count": 3,
   "id": "f30f04f6",
   "metadata": {},
   "outputs": [],
   "source": [
    "# Quant class 생성 \n",
    "df = pd.read_csv(\"../csv/SLV.csv\")"
   ]
  },
  {
   "cell_type": "code",
   "execution_count": 4,
   "id": "f73e5cf2",
   "metadata": {},
   "outputs": [],
   "source": [
    "quant = Quant(df)"
   ]
  },
  {
   "cell_type": "code",
   "execution_count": 6,
   "id": "480e40d5",
   "metadata": {},
   "outputs": [
    {
     "name": "stdout",
     "output_type": "stream",
     "text": [
      "바이앤홀드 전략으로 최종 수익율은 0.8376610562971583\n"
     ]
    },
    {
     "data": {
      "text/plain": [
       "(            Adj Close       rtn   acc_rtn\n",
       " Date                                     \n",
       " 2010-01-04  17.230000  1.000000  1.000000\n",
       " 2010-01-05  17.510000  1.016251  1.016251\n",
       " 2010-01-06  17.860001  1.019989  1.036564\n",
       " 2010-01-07  17.889999  1.001680  1.038305\n",
       " 2010-01-08  18.150000  1.014533  1.053395\n",
       " ...               ...       ...       ...\n",
       " 2019-06-18  14.050000  1.010791  0.815438\n",
       " 2019-06-19  14.170000  1.008541  0.822403\n",
       " 2019-06-20  14.450000  1.019760  0.838654\n",
       " 2019-06-21  14.360000  0.993772  0.833430\n",
       " 2019-06-24  14.432900  1.005077  0.837661\n",
       " \n",
       " [2384 rows x 3 columns],\n",
       " 0.8376610562971583)"
      ]
     },
     "execution_count": 6,
     "metadata": {},
     "output_type": "execute_result"
    }
   ],
   "source": [
    "quant.buyandhold()"
   ]
  },
  {
   "cell_type": "code",
   "execution_count": null,
   "id": "c39be514",
   "metadata": {},
   "outputs": [],
   "source": [
    "quant.bollinger(10)"
   ]
  },
  {
   "cell_type": "code",
   "execution_count": 15,
   "id": "46658dc3",
   "metadata": {},
   "outputs": [
    {
     "name": "stdout",
     "output_type": "stream",
     "text": [
      "할로윈 전략으로 최종 수익율은 0.7044064834033266\n"
     ]
    },
    {
     "name": "stderr",
     "output_type": "stream",
     "text": [
      "c:\\ubion_2025_2\\python\\invest\\halloween.py:50: FutureWarning: Setting an item of incompatible dtype is deprecated and will raise in a future error of pandas. Value '1.3121606948968512' has dtype incompatible with int64, please explicitly cast to a compatible dtype first.\n",
      "  result.iloc[idx, -1] = rtn\n"
     ]
    },
    {
     "data": {
      "text/plain": [
       "(            Adj Close       rtn   acc_rtn\n",
       " Date                                     \n",
       " 2010-05-03  18.420000  1.000000  1.000000\n",
       " 2010-10-29  24.170000  1.312161  1.312161\n",
       " 2011-05-02  42.830002  1.000000  1.312161\n",
       " 2011-10-31  33.439999  0.780761  1.024484\n",
       " 2012-05-01  30.059999  1.000000  1.024484\n",
       " 2012-10-31  31.270000  1.040253  1.065722\n",
       " 2013-05-01  22.860001  1.000000  1.065722\n",
       " 2013-10-31  21.100000  0.923010  0.983672\n",
       " 2014-05-01  18.350000  1.000000  0.983672\n",
       " 2014-10-31  15.500000  0.844687  0.830895\n",
       " 2015-05-01  15.470000  1.000000  0.830895\n",
       " 2015-10-30  14.800000  0.956690  0.794909\n",
       " 2016-05-02  16.639999  1.000000  0.794909\n",
       " 2016-10-31  16.969999  1.019832  0.810673\n",
       " 2017-05-01  15.990000  1.000000  0.810673\n",
       " 2017-10-31  15.790000  0.987492  0.800534\n",
       " 2018-05-01  15.240000  1.000000  0.800534\n",
       " 2018-10-31  13.410000  0.879921  0.704406,\n",
       " 0.7044064834033266)"
      ]
     },
     "execution_count": 15,
     "metadata": {},
     "output_type": "execute_result"
    }
   ],
   "source": [
    "quant.halloween(month = 5)"
   ]
  },
  {
   "cell_type": "code",
   "execution_count": 14,
   "id": "459bf669",
   "metadata": {},
   "outputs": [
    {
     "name": "stderr",
     "output_type": "stream",
     "text": [
      "c:\\ubion_2025_2\\python\\invest\\momentum.py:31: SettingWithCopyWarning: \n",
      "A value is trying to be set on a copy of a slice from a DataFrame.\n",
      "Try using .loc[row_indexer,col_indexer] = value instead\n",
      "\n",
      "See the caveats in the documentation: https://pandas.pydata.org/pandas-docs/stable/user_guide/indexing.html#returning-a-view-versus-a-copy\n",
      "  df['BF1'] = df.shift(1)[col].fillna(0)\n",
      "c:\\ubion_2025_2\\python\\invest\\momentum.py:33: SettingWithCopyWarning: \n",
      "A value is trying to be set on a copy of a slice from a DataFrame.\n",
      "Try using .loc[row_indexer,col_indexer] = value instead\n",
      "\n",
      "See the caveats in the documentation: https://pandas.pydata.org/pandas-docs/stable/user_guide/indexing.html#returning-a-view-versus-a-copy\n",
      "  df['BF2'] = df.shift(_momentum)[col].fillna(0)\n"
     ]
    },
    {
     "name": "stdout",
     "output_type": "stream",
     "text": [
      "매수일 : 2010-01-29 00:00:00, 매수가 : 15.9\n",
      "매도일 : 2011-12-30 00:00:00, 매도가 : 26.940001, 수익율 : 1.6943396855345911\n"
     ]
    },
    {
     "name": "stderr",
     "output_type": "stream",
     "text": [
      "c:\\ubion_2025_2\\python\\invest\\momentum.py:75: FutureWarning: Setting an item of incompatible dtype is deprecated and will raise in a future error of pandas. Value '1.6943396855345911' has dtype incompatible with int64, please explicitly cast to a compatible dtype first.\n",
      "  df.loc[idx, 'rtn'] = rtn\n"
     ]
    },
    {
     "name": "stdout",
     "output_type": "stream",
     "text": [
      "매수일 : 2012-12-31 00:00:00, 매수가 : 29.370001\n",
      "매도일 : 2013-01-31 00:00:00, 매도가 : 30.440001, 수익율 : 1.0364317318205063\n",
      "매수일 : 2016-07-29 00:00:00, 매수가 : 19.35\n",
      "매도일 : 2017-04-28 00:00:00, 매도가 : 16.299999, 수익율 : 0.8423772093023255\n",
      "모멘텀 전략으로 최종 수익율 1.4792711680329242\n"
     ]
    },
    {
     "data": {
      "text/plain": [
       "(            Adj Close   STD-YM trade  rtn   acc_rtn\n",
       " Date                                               \n",
       " 2006-04-28    13.8120  2006-04        1.0  1.000000\n",
       " 2006-05-01    13.8700  2006-05        1.0  1.000000\n",
       " 2006-05-02    14.3650  2006-05        1.0  1.000000\n",
       " 2006-05-03    13.9250  2006-05        1.0  1.000000\n",
       " 2006-05-04    14.0000  2006-05        1.0  1.000000\n",
       " ...               ...      ...   ...  ...       ...\n",
       " 2019-06-18    14.0500  2019-06        1.0  1.479271\n",
       " 2019-06-19    14.1700  2019-06        1.0  1.479271\n",
       " 2019-06-20    14.4500  2019-06        1.0  1.479271\n",
       " 2019-06-21    14.3600  2019-06        1.0  1.479271\n",
       " 2019-06-24    14.4329  2019-06        1.0  1.479271\n",
       " \n",
       " [3311 rows x 5 columns],\n",
       " 1.4792711680329242)"
      ]
     },
     "execution_count": 14,
     "metadata": {},
     "output_type": "execute_result"
    }
   ],
   "source": [
    "quant.momentum(_score = 1.1)"
   ]
  },
  {
   "cell_type": "code",
   "execution_count": null,
   "id": "eb788137",
   "metadata": {},
   "outputs": [],
   "source": []
  }
 ],
 "metadata": {
  "kernelspec": {
   "display_name": "Python 3",
   "language": "python",
   "name": "python3"
  },
  "language_info": {
   "codemirror_mode": {
    "name": "ipython",
    "version": 3
   },
   "file_extension": ".py",
   "mimetype": "text/x-python",
   "name": "python",
   "nbconvert_exporter": "python",
   "pygments_lexer": "ipython3",
   "version": "3.11.1"
  }
 },
 "nbformat": 4,
 "nbformat_minor": 5
}
