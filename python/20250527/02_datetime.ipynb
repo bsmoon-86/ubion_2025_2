{
 "cells": [
  {
   "cell_type": "markdown",
   "id": "c2443901",
   "metadata": {},
   "source": [
    "### 시계열 데이터 \n",
    "- 여러개의 데이터들을 하나로 모아서 시간 데이터 생성\n",
    "\n",
    "- type(format)\n",
    "    - 년도 표시(4자리수) : %Y\n",
    "    - 년도 표시(2자리수) : %y\n",
    "    - 월을 숫자로 표시 : %m\n",
    "    - 월을 이름으로 표시 : %B\n",
    "    - 월의 이름을 축약해서 표시 : %b\n",
    "    - 일을 숫자로 표시 : %d\n",
    "    - 시를 24시 기준으로 표시 : %H\n",
    "    - 시를 12시 기준으로 표시 : %I\n",
    "    - AM/PM 표시 : %p\n",
    "    - 분을 표시 : %M\n",
    "    - 초를 표시 : %S\n",
    "    - 요일을 이름으로 표시 : %A\n",
    "    - 요일을 숫자로 표시 : %w (0: 일, 1: 월, ..., 6: 토)"
   ]
  },
  {
   "cell_type": "code",
   "execution_count": 1,
   "id": "2955e7a9",
   "metadata": {},
   "outputs": [],
   "source": [
    "# 시계열 데이터를 사용할수 있는 라이브러리 호출 \n",
    "from datetime import datetime"
   ]
  },
  {
   "cell_type": "code",
   "execution_count": 2,
   "id": "382b5c12",
   "metadata": {},
   "outputs": [],
   "source": [
    "time_str = \"2025-05-27\""
   ]
  },
  {
   "cell_type": "code",
   "execution_count": 3,
   "id": "b63bc76c",
   "metadata": {},
   "outputs": [
    {
     "data": {
      "text/plain": [
       "str"
      ]
     },
     "execution_count": 3,
     "metadata": {},
     "output_type": "execute_result"
    }
   ],
   "source": [
    "type(time_str)"
   ]
  },
  {
   "cell_type": "code",
   "execution_count": 5,
   "id": "f93138a9",
   "metadata": {},
   "outputs": [],
   "source": [
    "# 문자열 데이터를 시계열데이터로 변환\n",
    "# 라이브러리에서 함수를 호출 \n",
    "# datetime 안에 함수 호출 \n",
    "# strptime() : 문자열 데이터를 시계열 데이터로 변환시키는 함수 \n",
    "    # 필수 인자(입력값) 2개 \n",
    "        # 문자열 데이터 ( 시계열로 변경시킬 데이터 )\n",
    "        # 해당 문자열의 형식(format)\n",
    "time_data = datetime.strptime( time_str, '%Y-%m-%d' )"
   ]
  },
  {
   "cell_type": "code",
   "execution_count": 6,
   "id": "60750b24",
   "metadata": {},
   "outputs": [
    {
     "data": {
      "text/plain": [
       "datetime.datetime(2025, 5, 27, 0, 0)"
      ]
     },
     "execution_count": 6,
     "metadata": {},
     "output_type": "execute_result"
    }
   ],
   "source": [
    "time_data"
   ]
  },
  {
   "cell_type": "code",
   "execution_count": 7,
   "id": "eb0eebf2",
   "metadata": {},
   "outputs": [
    {
     "data": {
      "text/plain": [
       "'Tuesday'"
      ]
     },
     "execution_count": 7,
     "metadata": {},
     "output_type": "execute_result"
    }
   ],
   "source": [
    "time_data.strftime('%A')"
   ]
  },
  {
   "cell_type": "code",
   "execution_count": 11,
   "id": "262f8c9d",
   "metadata": {},
   "outputs": [
    {
     "data": {
      "text/plain": [
       "'05272025'"
      ]
     },
     "execution_count": 11,
     "metadata": {},
     "output_type": "execute_result"
    }
   ],
   "source": [
    "datetime.strftime(time_data,'%m%d%Y')"
   ]
  },
  {
   "cell_type": "code",
   "execution_count": 12,
   "id": "4bf57c0f",
   "metadata": {},
   "outputs": [],
   "source": [
    "import pandas as pd"
   ]
  },
  {
   "cell_type": "code",
   "execution_count": 14,
   "id": "e26162db",
   "metadata": {},
   "outputs": [
    {
     "data": {
      "text/plain": [
       "Timestamp('1970-01-01 00:00:00.001000')"
      ]
     },
     "execution_count": 14,
     "metadata": {},
     "output_type": "execute_result"
    }
   ],
   "source": [
    "# pandas 라이브러리에서 시계열 데이터를 생성 \n",
    "# Timestamp() : 1970-01-01 시작 시간에서 나노초만큼 지난 시간은 생성\n",
    "pd.Timestamp(1000000)"
   ]
  },
  {
   "cell_type": "code",
   "execution_count": 15,
   "id": "00c4072a",
   "metadata": {},
   "outputs": [
    {
     "data": {
      "text/plain": [
       "Timestamp('1970-04-11 00:00:00')"
      ]
     },
     "execution_count": 15,
     "metadata": {},
     "output_type": "execute_result"
    }
   ],
   "source": [
    "pd.Timestamp(100, unit='D')"
   ]
  },
  {
   "cell_type": "code",
   "execution_count": 16,
   "id": "ff86d1a0",
   "metadata": {},
   "outputs": [
    {
     "data": {
      "text/plain": [
       "Timestamp('2025-05-27 00:00:00')"
      ]
     },
     "execution_count": 16,
     "metadata": {},
     "output_type": "execute_result"
    }
   ],
   "source": [
    "pd.Timestamp('2025-05-27')"
   ]
  },
  {
   "cell_type": "code",
   "execution_count": 17,
   "id": "c5eb3066",
   "metadata": {},
   "outputs": [
    {
     "data": {
      "text/plain": [
       "Timestamp('2025-05-27 00:00:00')"
      ]
     },
     "execution_count": 17,
     "metadata": {},
     "output_type": "execute_result"
    }
   ],
   "source": [
    "pd.Timestamp('05-27-2025')"
   ]
  },
  {
   "cell_type": "code",
   "execution_count": 21,
   "id": "9023f51d",
   "metadata": {},
   "outputs": [],
   "source": [
    "now_date = pd.to_datetime('2025년05월27일', format='%Y년%m월%d일')"
   ]
  },
  {
   "cell_type": "code",
   "execution_count": 25,
   "id": "5e0cc741",
   "metadata": {},
   "outputs": [
    {
     "data": {
      "text/plain": [
       "Timestamp('2025-06-11 00:00:00')"
      ]
     },
     "execution_count": 25,
     "metadata": {},
     "output_type": "execute_result"
    }
   ],
   "source": [
    "# 오늘로부터 15일 뒤\n",
    "now_date + pd.Timedelta(15, unit='D')"
   ]
  },
  {
   "cell_type": "code",
   "execution_count": 26,
   "id": "a9b0cae3",
   "metadata": {},
   "outputs": [
    {
     "data": {
      "text/plain": [
       "Timedelta('3 days 00:00:00')"
      ]
     },
     "execution_count": 26,
     "metadata": {},
     "output_type": "execute_result"
    }
   ],
   "source": [
    "pd.Timedelta('3 days')"
   ]
  },
  {
   "cell_type": "code",
   "execution_count": null,
   "id": "e1a0009e",
   "metadata": {},
   "outputs": [],
   "source": [
    "pd.Timedelta()"
   ]
  }
 ],
 "metadata": {
  "kernelspec": {
   "display_name": "Python 3",
   "language": "python",
   "name": "python3"
  },
  "language_info": {
   "codemirror_mode": {
    "name": "ipython",
    "version": 3
   },
   "file_extension": ".py",
   "mimetype": "text/x-python",
   "name": "python",
   "nbconvert_exporter": "python",
   "pygments_lexer": "ipython3",
   "version": "3.11.1"
  }
 },
 "nbformat": 4,
 "nbformat_minor": 5
}
