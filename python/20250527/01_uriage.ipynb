{
 "cells": [
  {
   "cell_type": "code",
   "execution_count": null,
   "id": "0db1c6e6",
   "metadata": {},
   "outputs": [],
   "source": [
    "import pandas as pd"
   ]
  },
  {
   "cell_type": "code",
   "execution_count": null,
   "id": "4c544d20",
   "metadata": {},
   "outputs": [],
   "source": [
    "# csv폴더에 있는 uriage.csv 파일을 로드 \n",
    "uriage = pd.read_csv(\"../../csv/uriage.csv\")"
   ]
  },
  {
   "cell_type": "code",
   "execution_count": null,
   "id": "555c616f",
   "metadata": {},
   "outputs": [],
   "source": [
    "# 데이터프레임의 정보를 확인 \n",
    "uriage.info()"
   ]
  },
  {
   "cell_type": "code",
   "execution_count": null,
   "id": "4eb10bac",
   "metadata": {},
   "outputs": [],
   "source": [
    "# 상위의 데이터 5개\n",
    "uriage.head()"
   ]
  },
  {
   "cell_type": "code",
   "execution_count": null,
   "id": "009460fd",
   "metadata": {},
   "outputs": [],
   "source": [
    "uriage.describe()"
   ]
  },
  {
   "cell_type": "code",
   "execution_count": null,
   "id": "23124e48",
   "metadata": {},
   "outputs": [],
   "source": [
    "# item_name 컬럼의 데이터에서 문제\n",
    "# 1. 대 소문자를 통일 ( upper() | lower() )\n",
    "# 2. 문자열 사이에 있는 공백을 제거  ( replace() )\n",
    "\n",
    "#  uriage 데이터프레임에서 item_name의 데이터를 모두 대문자로 변경\n",
    "# uriage.loc[ : , 'item_name']\n",
    "uriage[ 'item_name' ][2]\n",
    "type(uriage.loc[2, 'item_name'])   # str 출력\n",
    "uriage.loc[2, 'item_name'].upper() "
   ]
  },
  {
   "cell_type": "code",
   "execution_count": null,
   "id": "7b0029e3",
   "metadata": {},
   "outputs": [],
   "source": [
    "# 반복문을 이용해서 item_name 컬럼의 데이터들을 모두 대문자로 변경\n",
    "# 비어있는 리스트를 하나 생성 \n",
    "# 반복실행하면서 대문자로 변환된 값을 비어있는 리스트에 추가 \n",
    "item_names = []\n",
    "# for문 (2999번(데이터프레임의 인덱스의 크기) 반복)\n",
    "for i in range(0, len(uriage), 1):\n",
    "# for i in range(len(uriage))\n",
    "    # i는 0부터 2998까지의 데이터 -> index\n",
    "    # uriage 데이터프레임에서 item_name 컬럼의 데이터들을 하나씩 추출해서 \n",
    "    # 대문자로 변환\n",
    "    item = uriage.loc[i, 'item_name']\n",
    "    item = item.upper()\n",
    "    item_names.append(item)\n",
    "\n",
    "print(len(item_names))\n",
    "print(item_names)"
   ]
  },
  {
   "cell_type": "code",
   "execution_count": null,
   "id": "92c4ee5b",
   "metadata": {},
   "outputs": [],
   "source": [
    "item_names = []\n",
    "# while문\n",
    "# 초기값 (시작값 -> 0)\n",
    "i = 0\n",
    "\n",
    "# while 조건식 (i는 2999(len(uriage))보다 작다)(i는 2998보다 작거나 같다다)\n",
    "while i < len(uriage):\n",
    "    # 반복 실행 코드 \n",
    "    item = uriage.loc[i, 'item_name'].upper()\n",
    "    item_names.append(item)\n",
    "    # i를 증가식 (1씩 증가)\n",
    "    # i = i + 1\n",
    "    i += 1\n",
    "print(len(item_names))\n",
    "print(item_names)\n"
   ]
  },
  {
   "cell_type": "code",
   "execution_count": null,
   "id": "15166f12",
   "metadata": {},
   "outputs": [],
   "source": [
    "# while문 루프를 기본을 무한\n",
    "\n",
    "item_names = []\n",
    "\n",
    "# 시작값 설정\n",
    "i = 0\n",
    "\n",
    "while True:\n",
    "    # 반복문을 강제로 종료하는 break 사용\n",
    "    # index가 i이고 컬럼이 item_name인 데이터를 추출하여 대문자로 변환\n",
    "    item = uriage.loc[i, 'item_name'].upper()\n",
    "    # 위의 결과를 item_names에 추가 \n",
    "    item_names.append(item)\n",
    "    # i의 값이 2998(len(uriage) - 1)이 되는 경우 반복문을 종료\n",
    "    if i == len(uriage) - 1:\n",
    "        break\n",
    "    # i를 1씩 증가\n",
    "    i += 1\n",
    "print(len(item_names))\n",
    "print(item_names)"
   ]
  },
  {
   "cell_type": "code",
   "execution_count": null,
   "id": "d1125973",
   "metadata": {},
   "outputs": [],
   "source": [
    "# 특정 코드를 실행하고 만약에 에러가 발생한다면 예외 처리 \n",
    "# try ~ except\n",
    "item_names = []\n",
    "i = 0\n",
    "\n",
    "while True:\n",
    "    #  코드 실행을 시도한다. \n",
    "    try:\n",
    "        # index가 i이고 column이 item_name인 데이터를 추출하여 대문자로 변환\n",
    "        item = uriage.loc[i, 'item_name'].upper()\n",
    "        item_names.append(item)\n",
    "        # i가 2998까지는 정상 작동\n",
    "        # i가 2999가 되면 에러 발생\n",
    "    except:\n",
    "        # 위의 try code가 에러가 발생했을때 실행되는 부분\n",
    "        break\n",
    "    i += 1\n",
    "print(len(item_names))\n",
    "print(item_names)   \n"
   ]
  },
  {
   "cell_type": "code",
   "execution_count": null,
   "id": "21edcac5",
   "metadata": {},
   "outputs": [],
   "source": [
    "df = uriage.copy()"
   ]
  },
  {
   "cell_type": "code",
   "execution_count": null,
   "id": "56565f4b",
   "metadata": {},
   "outputs": [],
   "source": [
    "# item_names 리스트 데이터를 df의 item_name 컬럼에 대입 \n",
    "df['item_name'] = item_names"
   ]
  },
  {
   "cell_type": "code",
   "execution_count": null,
   "id": "83968d80",
   "metadata": {},
   "outputs": [],
   "source": [
    "df.head()"
   ]
  },
  {
   "cell_type": "code",
   "execution_count": null,
   "id": "da416237",
   "metadata": {},
   "outputs": [],
   "source": [
    "# item_name의 데이터들에서 문자열 사이에 존재하는 공백을 제거 \n",
    "# Series 안에 replace()함수는 검색을 하는 기준이 원소 하나씩을 검색하여 \n",
    "# 같은 데이터를 변환 시켜주는 기능능\n",
    "df['item_name'].replace(\"상품A\", \"A\")"
   ]
  },
  {
   "cell_type": "code",
   "execution_count": null,
   "id": "736c8941",
   "metadata": {},
   "outputs": [],
   "source": [
    "df.loc[1, 'item_name'] =\\\n",
    "      df.loc[1, 'item_name'].replace(\" \", \"\")\n",
    "df.head()"
   ]
  },
  {
   "cell_type": "code",
   "execution_count": null,
   "id": "a2fa0704",
   "metadata": {},
   "outputs": [],
   "source": [
    "for i in range(len(df)):\n",
    "    df.loc[i, 'item_name'] = \\\n",
    "        df.loc[i, 'item_name'].replace(' ', '')"
   ]
  },
  {
   "cell_type": "code",
   "execution_count": null,
   "id": "8a2f199c",
   "metadata": {},
   "outputs": [],
   "source": [
    "# item_name 컬럼의 데이터들의 빈도수를 확인 \n",
    "# 데이터(값) -> value\n",
    "# 갯수 -> count\n",
    "# value_counts()\n",
    "df['item_name'].value_counts()"
   ]
  },
  {
   "cell_type": "code",
   "execution_count": null,
   "id": "5d89e0c6",
   "metadata": {},
   "outputs": [],
   "source": [
    "uriage['item_name'].value_counts()"
   ]
  },
  {
   "cell_type": "code",
   "execution_count": null,
   "id": "27ddfdcf",
   "metadata": {},
   "outputs": [],
   "source": [
    "# 특정 컬럼의 데이터들 중복을 제거하고 출력하는 함수 \n",
    "# 유일하다, 희소성이 있는?\n",
    "# unique()\n",
    "df['item_name'].unique()"
   ]
  },
  {
   "cell_type": "code",
   "execution_count": null,
   "id": "9b02ad3a",
   "metadata": {},
   "outputs": [],
   "source": [
    "uriage['item_name'].unique()"
   ]
  },
  {
   "cell_type": "code",
   "execution_count": null,
   "id": "11f4be56",
   "metadata": {},
   "outputs": [],
   "source": [
    "# 집합 데이터로 변환\n",
    "set(df['item_name'])"
   ]
  },
  {
   "cell_type": "code",
   "execution_count": null,
   "id": "9e1de70d",
   "metadata": {},
   "outputs": [],
   "source": [
    "set(uriage['item_name'])"
   ]
  },
  {
   "cell_type": "code",
   "execution_count": null,
   "id": "fe59cb1d",
   "metadata": {},
   "outputs": [],
   "source": [
    "# Series 데이터에서 str(문자열) 메서드(함수)에 접근하는 방법 \n",
    "uriage['item_name'].str.upper().replace(' ', '')\n",
    "test_series = uriage['item_name'].str.upper()\n",
    "# test_series는 타입이 series\n",
    "# Series 안에 있는 replace()함수를 호출\n",
    "test_series.replace(' ', '')"
   ]
  },
  {
   "cell_type": "code",
   "execution_count": null,
   "id": "25cc18e2",
   "metadata": {},
   "outputs": [],
   "source": [
    "test_series = uriage['item_name'].str.upper()\n",
    "test_series.str.replace(' ', '')\n",
    "\n",
    "uriage['item_name'].str.upper().str.replace(' ', '')"
   ]
  },
  {
   "cell_type": "code",
   "execution_count": 45,
   "id": "c70c9362",
   "metadata": {},
   "outputs": [],
   "source": [
    "uriage['item_name'] = uriage['item_name'].str.upper()\n",
    "uriage['item_name'] = uriage['item_name'].str.replace(' ', '')"
   ]
  },
  {
   "cell_type": "code",
   "execution_count": null,
   "id": "aceb54cc",
   "metadata": {},
   "outputs": [],
   "source": [
    "uriage"
   ]
  },
  {
   "cell_type": "code",
   "execution_count": 55,
   "id": "f3d584ff",
   "metadata": {},
   "outputs": [],
   "source": [
    "# 데이터프레임에서 특정 컬럼의 데이터를 \n",
    "# 대문자로 변환하고 문자열 사이에 존재하는 공백을 모두 제거 해서 \n",
    "# 데이터를 변환 시켜주는 함수를 생성\n",
    "\n",
    "# 매개변수 -> 함수 안에서만 사용 가능한 변수 (입력 데이터)\n",
    "# 2개 -> 데이터프레임, 특정 컬럼\n",
    "def test_func(_df, _col):\n",
    "    # 복사본\n",
    "    df = _df.copy()\n",
    "    # _df : 데이터프레임\n",
    "    # _col : 데이터를 변경할 컬럼의 이름\n",
    "    df[_col] = df[_col].str.lower().str.replace(' ', '')\n",
    "    return df"
   ]
  },
  {
   "cell_type": "code",
   "execution_count": null,
   "id": "b89df776",
   "metadata": {},
   "outputs": [],
   "source": [
    "# 함수 호출할때 복사본\n",
    "test_func(df, 'item_name')\n",
    "\n",
    "# test_func(_df, _col) 호출\n",
    "# _df = df, _col = 'item_name'\n",
    "# _df[_col] = _df[_col].str.lower().str.replace(' ', '')\n",
    "# _df가 수정이 됬다 -> df도 수정이 됬다."
   ]
  },
  {
   "cell_type": "code",
   "execution_count": null,
   "id": "244f3016",
   "metadata": {},
   "outputs": [],
   "source": [
    "df"
   ]
  },
  {
   "cell_type": "code",
   "execution_count": null,
   "id": "5ad95427",
   "metadata": {},
   "outputs": [],
   "source": [
    "test_func( uriage.copy(), 'item_name' )"
   ]
  },
  {
   "cell_type": "code",
   "execution_count": 54,
   "id": "748be597",
   "metadata": {},
   "outputs": [
    {
     "data": {
      "text/html": [
       "<div>\n",
       "<style scoped>\n",
       "    .dataframe tbody tr th:only-of-type {\n",
       "        vertical-align: middle;\n",
       "    }\n",
       "\n",
       "    .dataframe tbody tr th {\n",
       "        vertical-align: top;\n",
       "    }\n",
       "\n",
       "    .dataframe thead th {\n",
       "        text-align: right;\n",
       "    }\n",
       "</style>\n",
       "<table border=\"1\" class=\"dataframe\">\n",
       "  <thead>\n",
       "    <tr style=\"text-align: right;\">\n",
       "      <th></th>\n",
       "      <th>purchase_date</th>\n",
       "      <th>item_name</th>\n",
       "      <th>item_price</th>\n",
       "      <th>customer_name</th>\n",
       "    </tr>\n",
       "  </thead>\n",
       "  <tbody>\n",
       "    <tr>\n",
       "      <th>0</th>\n",
       "      <td>2019-06-13 18:02</td>\n",
       "      <td>상품A</td>\n",
       "      <td>100.0</td>\n",
       "      <td>김가온</td>\n",
       "    </tr>\n",
       "    <tr>\n",
       "      <th>1</th>\n",
       "      <td>2019-07-13 13:05</td>\n",
       "      <td>상품S</td>\n",
       "      <td>NaN</td>\n",
       "      <td>김우찬</td>\n",
       "    </tr>\n",
       "    <tr>\n",
       "      <th>2</th>\n",
       "      <td>2019-05-11 19:42</td>\n",
       "      <td>상품A</td>\n",
       "      <td>NaN</td>\n",
       "      <td>김유찬</td>\n",
       "    </tr>\n",
       "    <tr>\n",
       "      <th>3</th>\n",
       "      <td>2019-02-12 23:40</td>\n",
       "      <td>상품Z</td>\n",
       "      <td>2600.0</td>\n",
       "      <td>김재현</td>\n",
       "    </tr>\n",
       "    <tr>\n",
       "      <th>4</th>\n",
       "      <td>2019-04-22 3:09</td>\n",
       "      <td>상품A</td>\n",
       "      <td>NaN</td>\n",
       "      <td>김강현</td>\n",
       "    </tr>\n",
       "    <tr>\n",
       "      <th>...</th>\n",
       "      <td>...</td>\n",
       "      <td>...</td>\n",
       "      <td>...</td>\n",
       "      <td>...</td>\n",
       "    </tr>\n",
       "    <tr>\n",
       "      <th>2994</th>\n",
       "      <td>2019-02-15 2:56</td>\n",
       "      <td>상품Y</td>\n",
       "      <td>2500.0</td>\n",
       "      <td>김정민</td>\n",
       "    </tr>\n",
       "    <tr>\n",
       "      <th>2995</th>\n",
       "      <td>2019-06-22 4:03</td>\n",
       "      <td>상품M</td>\n",
       "      <td>1300.0</td>\n",
       "      <td>김재원</td>\n",
       "    </tr>\n",
       "    <tr>\n",
       "      <th>2996</th>\n",
       "      <td>2019-03-29 11:14</td>\n",
       "      <td>상품Q</td>\n",
       "      <td>NaN</td>\n",
       "      <td>김지율</td>\n",
       "    </tr>\n",
       "    <tr>\n",
       "      <th>2997</th>\n",
       "      <td>2019-07-14 12:56</td>\n",
       "      <td>상품H</td>\n",
       "      <td>NaN</td>\n",
       "      <td>김승주</td>\n",
       "    </tr>\n",
       "    <tr>\n",
       "      <th>2998</th>\n",
       "      <td>2019-07-21 0:31</td>\n",
       "      <td>상품D</td>\n",
       "      <td>400.0</td>\n",
       "      <td>정준기</td>\n",
       "    </tr>\n",
       "  </tbody>\n",
       "</table>\n",
       "<p>2999 rows × 4 columns</p>\n",
       "</div>"
      ],
      "text/plain": [
       "         purchase_date item_name  item_price customer_name\n",
       "0     2019-06-13 18:02       상품A       100.0           김가온\n",
       "1     2019-07-13 13:05       상품S         NaN           김우찬\n",
       "2     2019-05-11 19:42       상품A         NaN           김유찬\n",
       "3     2019-02-12 23:40       상품Z      2600.0           김재현\n",
       "4      2019-04-22 3:09       상품A         NaN           김강현\n",
       "...                ...       ...         ...           ...\n",
       "2994   2019-02-15 2:56       상품Y      2500.0           김정민\n",
       "2995   2019-06-22 4:03       상품M      1300.0           김재원\n",
       "2996  2019-03-29 11:14       상품Q         NaN           김지율\n",
       "2997  2019-07-14 12:56       상품H         NaN           김승주\n",
       "2998   2019-07-21 0:31       상품D       400.0           정준기\n",
       "\n",
       "[2999 rows x 4 columns]"
      ]
     },
     "execution_count": 54,
     "metadata": {},
     "output_type": "execute_result"
    }
   ],
   "source": [
    "uriage"
   ]
  }
 ],
 "metadata": {
  "kernelspec": {
   "display_name": "Python 3",
   "language": "python",
   "name": "python3"
  },
  "language_info": {
   "codemirror_mode": {
    "name": "ipython",
    "version": 3
   },
   "file_extension": ".py",
   "mimetype": "text/x-python",
   "name": "python",
   "nbconvert_exporter": "python",
   "pygments_lexer": "ipython3",
   "version": "3.11.1"
  }
 },
 "nbformat": 4,
 "nbformat_minor": 5
}
