{
 "cells": [
  {
   "cell_type": "code",
   "execution_count": null,
   "id": "0db1c6e6",
   "metadata": {},
   "outputs": [],
   "source": [
    "import pandas as pd"
   ]
  },
  {
   "cell_type": "code",
   "execution_count": null,
   "id": "4c544d20",
   "metadata": {},
   "outputs": [],
   "source": [
    "# csv폴더에 있는 uriage.csv 파일을 로드 \n",
    "uriage = pd.read_csv(\"../../csv/uriage.csv\")"
   ]
  },
  {
   "cell_type": "code",
   "execution_count": null,
   "id": "555c616f",
   "metadata": {},
   "outputs": [],
   "source": [
    "# 데이터프레임의 정보를 확인 \n",
    "uriage.info()"
   ]
  },
  {
   "cell_type": "code",
   "execution_count": null,
   "id": "4eb10bac",
   "metadata": {},
   "outputs": [],
   "source": [
    "# 상위의 데이터 5개\n",
    "uriage.head()"
   ]
  },
  {
   "cell_type": "code",
   "execution_count": null,
   "id": "009460fd",
   "metadata": {},
   "outputs": [],
   "source": [
    "uriage.describe()"
   ]
  },
  {
   "cell_type": "code",
   "execution_count": null,
   "id": "23124e48",
   "metadata": {},
   "outputs": [],
   "source": [
    "# item_name 컬럼의 데이터에서 문제\n",
    "# 1. 대 소문자를 통일 ( upper() | lower() )\n",
    "# 2. 문자열 사이에 있는 공백을 제거  ( replace() )\n",
    "\n",
    "#  uriage 데이터프레임에서 item_name의 데이터를 모두 대문자로 변경\n",
    "# uriage.loc[ : , 'item_name']\n",
    "uriage[ 'item_name' ][2]\n",
    "type(uriage.loc[2, 'item_name'])   # str 출력\n",
    "uriage.loc[2, 'item_name'].upper() "
   ]
  },
  {
   "cell_type": "code",
   "execution_count": null,
   "id": "7b0029e3",
   "metadata": {},
   "outputs": [],
   "source": [
    "# 반복문을 이용해서 item_name 컬럼의 데이터들을 모두 대문자로 변경\n",
    "# 비어있는 리스트를 하나 생성 \n",
    "# 반복실행하면서 대문자로 변환된 값을 비어있는 리스트에 추가 \n",
    "item_names = []\n",
    "# for문 (2999번(데이터프레임의 인덱스의 크기) 반복)\n",
    "for i in range(0, len(uriage), 1):\n",
    "# for i in range(len(uriage))\n",
    "    # i는 0부터 2998까지의 데이터 -> index\n",
    "    # uriage 데이터프레임에서 item_name 컬럼의 데이터들을 하나씩 추출해서 \n",
    "    # 대문자로 변환\n",
    "    item = uriage.loc[i, 'item_name']\n",
    "    item = item.upper()\n",
    "    item_names.append(item)\n",
    "\n",
    "print(len(item_names))\n",
    "print(item_names)"
   ]
  },
  {
   "cell_type": "code",
   "execution_count": null,
   "id": "92c4ee5b",
   "metadata": {},
   "outputs": [],
   "source": [
    "item_names = []\n",
    "# while문\n",
    "# 초기값 (시작값 -> 0)\n",
    "i = 0\n",
    "\n",
    "# while 조건식 (i는 2999(len(uriage))보다 작다)(i는 2998보다 작거나 같다다)\n",
    "while i < len(uriage):\n",
    "    # 반복 실행 코드 \n",
    "    item = uriage.loc[i, 'item_name'].upper()\n",
    "    item_names.append(item)\n",
    "    # i를 증가식 (1씩 증가)\n",
    "    # i = i + 1\n",
    "    i += 1\n",
    "print(len(item_names))\n",
    "print(item_names)\n"
   ]
  },
  {
   "cell_type": "code",
   "execution_count": null,
   "id": "15166f12",
   "metadata": {},
   "outputs": [],
   "source": [
    "# while문 루프를 기본을 무한\n",
    "\n",
    "item_names = []\n",
    "\n",
    "# 시작값 설정\n",
    "i = 0\n",
    "\n",
    "while True:\n",
    "    # 반복문을 강제로 종료하는 break 사용\n",
    "    # index가 i이고 컬럼이 item_name인 데이터를 추출하여 대문자로 변환\n",
    "    item = uriage.loc[i, 'item_name'].upper()\n",
    "    # 위의 결과를 item_names에 추가 \n",
    "    item_names.append(item)\n",
    "    # i의 값이 2998(len(uriage) - 1)이 되는 경우 반복문을 종료\n",
    "    if i == len(uriage) - 1:\n",
    "        break\n",
    "    # i를 1씩 증가\n",
    "    i += 1\n",
    "print(len(item_names))\n",
    "print(item_names)"
   ]
  },
  {
   "cell_type": "code",
   "execution_count": null,
   "id": "d1125973",
   "metadata": {},
   "outputs": [],
   "source": [
    "# 특정 코드를 실행하고 만약에 에러가 발생한다면 예외 처리 \n",
    "# try ~ except\n",
    "item_names = []\n",
    "i = 0\n",
    "\n",
    "while True:\n",
    "    #  코드 실행을 시도한다. \n",
    "    try:\n",
    "        # index가 i이고 column이 item_name인 데이터를 추출하여 대문자로 변환\n",
    "        item = uriage.loc[i, 'item_name'].upper()\n",
    "        item_names.append(item)\n",
    "        # i가 2998까지는 정상 작동\n",
    "        # i가 2999가 되면 에러 발생\n",
    "    except:\n",
    "        # 위의 try code가 에러가 발생했을때 실행되는 부분\n",
    "        break\n",
    "    i += 1\n",
    "print(len(item_names))\n",
    "print(item_names)   \n"
   ]
  },
  {
   "cell_type": "code",
   "execution_count": null,
   "id": "21edcac5",
   "metadata": {},
   "outputs": [],
   "source": [
    "df = uriage.copy()"
   ]
  },
  {
   "cell_type": "code",
   "execution_count": null,
   "id": "56565f4b",
   "metadata": {},
   "outputs": [],
   "source": [
    "# item_names 리스트 데이터를 df의 item_name 컬럼에 대입 \n",
    "df['item_name'] = item_names"
   ]
  },
  {
   "cell_type": "code",
   "execution_count": null,
   "id": "83968d80",
   "metadata": {},
   "outputs": [],
   "source": [
    "df.head()"
   ]
  },
  {
   "cell_type": "code",
   "execution_count": null,
   "id": "da416237",
   "metadata": {},
   "outputs": [],
   "source": [
    "# item_name의 데이터들에서 문자열 사이에 존재하는 공백을 제거 \n",
    "# Series 안에 replace()함수는 검색을 하는 기준이 원소 하나씩을 검색하여 \n",
    "# 같은 데이터를 변환 시켜주는 기능능\n",
    "df['item_name'].replace(\"상품A\", \"A\")"
   ]
  },
  {
   "cell_type": "code",
   "execution_count": null,
   "id": "736c8941",
   "metadata": {},
   "outputs": [],
   "source": [
    "df.loc[1, 'item_name'] =\\\n",
    "      df.loc[1, 'item_name'].replace(\" \", \"\")\n",
    "df.head()"
   ]
  },
  {
   "cell_type": "code",
   "execution_count": null,
   "id": "a2fa0704",
   "metadata": {},
   "outputs": [],
   "source": [
    "for i in range(len(df)):\n",
    "    df.loc[i, 'item_name'] = \\\n",
    "        df.loc[i, 'item_name'].replace(' ', '')"
   ]
  },
  {
   "cell_type": "code",
   "execution_count": null,
   "id": "8a2f199c",
   "metadata": {},
   "outputs": [],
   "source": [
    "# item_name 컬럼의 데이터들의 빈도수를 확인 \n",
    "# 데이터(값) -> value\n",
    "# 갯수 -> count\n",
    "# value_counts()\n",
    "df['item_name'].value_counts()"
   ]
  },
  {
   "cell_type": "code",
   "execution_count": null,
   "id": "5d89e0c6",
   "metadata": {},
   "outputs": [],
   "source": [
    "uriage['item_name'].value_counts()"
   ]
  },
  {
   "cell_type": "code",
   "execution_count": null,
   "id": "27ddfdcf",
   "metadata": {},
   "outputs": [],
   "source": [
    "# 특정 컬럼의 데이터들 중복을 제거하고 출력하는 함수 \n",
    "# 유일하다, 희소성이 있는?\n",
    "# unique()\n",
    "df['item_name'].unique()"
   ]
  },
  {
   "cell_type": "code",
   "execution_count": null,
   "id": "9b02ad3a",
   "metadata": {},
   "outputs": [],
   "source": [
    "uriage['item_name'].unique()"
   ]
  },
  {
   "cell_type": "code",
   "execution_count": null,
   "id": "11f4be56",
   "metadata": {},
   "outputs": [],
   "source": [
    "# 집합 데이터로 변환\n",
    "set(df['item_name'])"
   ]
  },
  {
   "cell_type": "code",
   "execution_count": null,
   "id": "9e1de70d",
   "metadata": {},
   "outputs": [],
   "source": [
    "set(uriage['item_name'])"
   ]
  },
  {
   "cell_type": "code",
   "execution_count": null,
   "id": "fe59cb1d",
   "metadata": {},
   "outputs": [],
   "source": [
    "# Series 데이터에서 str(문자열) 메서드(함수)에 접근하는 방법 \n",
    "uriage['item_name'].str.upper().replace(' ', '')\n",
    "test_series = uriage['item_name'].str.upper()\n",
    "# test_series는 타입이 series\n",
    "# Series 안에 있는 replace()함수를 호출\n",
    "test_series.replace(' ', '')"
   ]
  },
  {
   "cell_type": "code",
   "execution_count": null,
   "id": "25cc18e2",
   "metadata": {},
   "outputs": [],
   "source": [
    "test_series = uriage['item_name'].str.upper()\n",
    "test_series.str.replace(' ', '')\n",
    "\n",
    "uriage['item_name'].str.upper().str.replace(' ', '')"
   ]
  },
  {
   "cell_type": "code",
   "execution_count": null,
   "id": "c70c9362",
   "metadata": {},
   "outputs": [],
   "source": [
    "uriage['item_name'] = uriage['item_name'].str.upper()\n",
    "uriage['item_name'] = uriage['item_name'].str.replace(' ', '')"
   ]
  },
  {
   "cell_type": "code",
   "execution_count": null,
   "id": "aceb54cc",
   "metadata": {},
   "outputs": [],
   "source": [
    "uriage"
   ]
  },
  {
   "cell_type": "code",
   "execution_count": null,
   "id": "f3d584ff",
   "metadata": {},
   "outputs": [],
   "source": [
    "# 데이터프레임에서 특정 컬럼의 데이터를 \n",
    "# 대문자로 변환하고 문자열 사이에 존재하는 공백을 모두 제거 해서 \n",
    "# 데이터를 변환 시켜주는 함수를 생성\n",
    "\n",
    "# 매개변수 -> 함수 안에서만 사용 가능한 변수 (입력 데이터)\n",
    "# 2개 -> 데이터프레임, 특정 컬럼\n",
    "def test_func(_df, _col):\n",
    "    # 복사본\n",
    "    df = _df.copy()\n",
    "    # _df : 데이터프레임\n",
    "    # _col : 데이터를 변경할 컬럼의 이름\n",
    "    df[_col] = df[_col].str.lower().str.replace(' ', '')\n",
    "    return df"
   ]
  },
  {
   "cell_type": "code",
   "execution_count": null,
   "id": "b89df776",
   "metadata": {},
   "outputs": [],
   "source": [
    "# 함수 호출할때 복사본\n",
    "test_func(df, 'item_name')\n",
    "\n",
    "# test_func(_df, _col) 호출\n",
    "# _df = df, _col = 'item_name'\n",
    "# _df[_col] = _df[_col].str.lower().str.replace(' ', '')\n",
    "# _df가 수정이 됬다 -> df도 수정이 됬다."
   ]
  },
  {
   "cell_type": "code",
   "execution_count": null,
   "id": "244f3016",
   "metadata": {},
   "outputs": [],
   "source": [
    "df"
   ]
  },
  {
   "cell_type": "code",
   "execution_count": null,
   "id": "5ad95427",
   "metadata": {},
   "outputs": [],
   "source": [
    "test_func( uriage.copy(), 'item_name' )"
   ]
  },
  {
   "cell_type": "code",
   "execution_count": null,
   "id": "748be597",
   "metadata": {},
   "outputs": [],
   "source": [
    "uriage"
   ]
  },
  {
   "cell_type": "code",
   "execution_count": null,
   "id": "81cc7ea6",
   "metadata": {},
   "outputs": [],
   "source": [
    "uriage.isna().sum()"
   ]
  },
  {
   "cell_type": "code",
   "execution_count": null,
   "id": "b125fdfb",
   "metadata": {},
   "outputs": [],
   "source": [
    "# uriage 데이터프레임에서 item_name이 '상품A'인 데이터를 확인\n",
    "flag = uriage['item_name'] == '상품C'\n",
    "uriage.loc[ flag ,  ]"
   ]
  },
  {
   "cell_type": "code",
   "execution_count": null,
   "id": "72a9c952",
   "metadata": {},
   "outputs": [],
   "source": [
    "# uriage 데이터프레임에서 item_name이 '상품A' -> flag\n",
    "# 그리고 (and)\n",
    "# item_price가 결측치가 아닌 -> \n",
    "    # 데이터프레임에서 item_price만 추출 uriage['item_price']\n",
    "    # 결측치인가?  .isna() --> 결측치가 True\n",
    "    # 부정 처리 (-, ~)\n",
    "# 데이터를 확인\n",
    "~(uriage['item_price'].isna())\n",
    "# 결측치인 조건식\n",
    "flag_null = uriage['item_price'].isna()\n",
    "\n",
    "uriage.loc[  flag & ~flag_null, 'item_price' ].value_counts()"
   ]
  },
  {
   "cell_type": "code",
   "execution_count": null,
   "id": "dc86e267",
   "metadata": {},
   "outputs": [],
   "source": [
    "df2 = uriage.copy()"
   ]
  },
  {
   "cell_type": "code",
   "execution_count": null,
   "id": "484a43e7",
   "metadata": {},
   "outputs": [],
   "source": [
    "# 반복 실행할 코드를 작성\n",
    "# df2에 item_name이 상품A이고 item_price가 결측치가 아닌 데이터에서 \n",
    "# item_price의 평균값을 구한다. \n",
    "flag_null = df2['item_price'].isna()  # item_price가 결측치인 조건\n",
    "flag = df2['item_name'] == '상품B'  # item_name이 상품A인 조건\n",
    "mean_price = df2.loc[\n",
    "    flag & ~flag_null, \n",
    "    'item_price'\n",
    "].mean()\n",
    "# mean_price를 item_name이 상품A이고 item_price가 결측치인 데이터에서 \n",
    "# item_price에 대입\n",
    "# df2.loc[flag & flag_null, 'item_price'] = \\\n",
    "#     df2.loc[flag & flag_null, 'item_price'].fillna(mean_price)\n",
    "df2.loc[flag & flag_null, 'item_price'] = mean_price"
   ]
  },
  {
   "cell_type": "code",
   "execution_count": null,
   "id": "ed607699",
   "metadata": {},
   "outputs": [],
   "source": [
    "# 결측치가 잘 채워졌는가?\n",
    "# item_name이 상품A 이고 item_price가 결측치인 데이터를 확인 \n",
    "df2.loc[flag & flag_null, ]"
   ]
  },
  {
   "cell_type": "code",
   "execution_count": null,
   "id": "7604bf43",
   "metadata": {},
   "outputs": [],
   "source": [
    "# item_name의 유니크한 데이터의 목록\n",
    "# unique() 함수를 이용\n",
    "df2['item_name'].unique()"
   ]
  },
  {
   "cell_type": "code",
   "execution_count": null,
   "id": "b66c173b",
   "metadata": {},
   "outputs": [],
   "source": [
    "list(\n",
    "    set(\n",
    "        df2['item_name']\n",
    "    )\n",
    ")"
   ]
  },
  {
   "cell_type": "code",
   "execution_count": null,
   "id": "b69dd024",
   "metadata": {},
   "outputs": [],
   "source": [
    "df2['item_name'].value_counts()"
   ]
  },
  {
   "cell_type": "code",
   "execution_count": null,
   "id": "7bd5389b",
   "metadata": {},
   "outputs": [],
   "source": [
    "# item_name데이터를 추출\n",
    "unique_data = []\n",
    "for item in df2['item_name']:\n",
    "    # print(i)\n",
    "    # item이 unique_data에 포함되어있지 않다면\n",
    "    if item not in unique_data:\n",
    "        unique_data.append(item)\n",
    "unique_data"
   ]
  },
  {
   "cell_type": "code",
   "execution_count": null,
   "id": "b29186ad",
   "metadata": {},
   "outputs": [],
   "source": [
    "# 반복문을 이용해서 데이터프레임의 item_price 결측치를 채워준다. \n",
    "# 반복 횟수 : item_name의 유니크 데이터의 개수만큼\n",
    "item_list = df2['item_name'].unique()\n",
    "\n",
    "# item_price가 결측치인 조건 생성 \n",
    "flag_null = df2['item_price'].isna()\n",
    "\n",
    "# item_list를 이용하여 반복문을 실행 \n",
    "for item in item_list:\n",
    "    # item에는 item_list의 원소가 하나씩 대입되어 반복 실행\n",
    "    # print(item) \n",
    "    # 조건식 생성 : df2에서 item_name이 item과 같다.\n",
    "    flag = df2['item_name'] == item\n",
    "    # flag와 flag_null의 부정이 모두 만족하는 경우의 item_price의 평균\n",
    "    mean_price = df2.loc[flag & ~flag_null, 'item_price'].mean()\n",
    "    # flag와 flag_null를 모두 만족하는 경우의 \n",
    "    # item_price에 mean_price를 대입\n",
    "    df2.loc[flag & flag_null, 'item_price'] = mean_price\n"
   ]
  },
  {
   "cell_type": "code",
   "execution_count": null,
   "id": "b378e81c",
   "metadata": {},
   "outputs": [],
   "source": [
    "# 반복문의 결과를 확인 \n",
    "# 결측치의 개수가 0이 되었는가?\n",
    "df2.isna().sum()"
   ]
  },
  {
   "cell_type": "code",
   "execution_count": null,
   "id": "718a3a6e",
   "metadata": {},
   "outputs": [],
   "source": [
    "# item_name을 기준으로 그룹화를 하고 그룹화 연산은 item_price의 평균\n",
    "df2.groupby('item_name')['item_price'].mean()"
   ]
  },
  {
   "cell_type": "code",
   "execution_count": 101,
   "id": "b3b28a6a",
   "metadata": {},
   "outputs": [
    {
     "data": {
      "text/plain": [
       "item_name\n",
       "상품A     100.0\n",
       "상품B     200.0\n",
       "상품C     300.0\n",
       "상품D     400.0\n",
       "상품E     500.0\n",
       "상품F     600.0\n",
       "상품G     700.0\n",
       "상품H     800.0\n",
       "상품I     900.0\n",
       "상품J    1000.0\n",
       "상품K    1100.0\n",
       "상품L    1200.0\n",
       "상품M    1300.0\n",
       "상품N    1400.0\n",
       "상품O    1500.0\n",
       "상품P    1600.0\n",
       "상품Q    1700.0\n",
       "상품R    1800.0\n",
       "상품S    1900.0\n",
       "상품T    2000.0\n",
       "상품U    2100.0\n",
       "상품V    2200.0\n",
       "상품W    2300.0\n",
       "상품X    2400.0\n",
       "상품Y    2500.0\n",
       "상품Z    2600.0\n",
       "Name: item_price, dtype: float64"
      ]
     },
     "execution_count": 101,
     "metadata": {},
     "output_type": "execute_result"
    }
   ],
   "source": [
    "uriage.groupby('item_name')['item_price'].mean()"
   ]
  },
  {
   "cell_type": "code",
   "execution_count": 104,
   "id": "14aac7b6",
   "metadata": {},
   "outputs": [],
   "source": [
    "uriage.sort_values( ['item_name', 'item_price'] , inplace=True)"
   ]
  },
  {
   "cell_type": "code",
   "execution_count": null,
   "id": "967d4d07",
   "metadata": {},
   "outputs": [],
   "source": [
    "uriage.loc[\n",
    "    uriage['item_name'] == '상품B',\n",
    "]"
   ]
  },
  {
   "cell_type": "code",
   "execution_count": 112,
   "id": "c77b05ef",
   "metadata": {},
   "outputs": [
    {
     "name": "stderr",
     "output_type": "stream",
     "text": [
      "C:\\Users\\moons\\AppData\\Local\\Temp\\ipykernel_12420\\1342502391.py:1: FutureWarning: Series.fillna with 'method' is deprecated and will raise in a future version. Use obj.ffill() or obj.bfill() instead.\n",
      "  uriage['item_price'] = uriage['item_price'].fillna(method='ffill')\n"
     ]
    }
   ],
   "source": [
    "uriage['item_price'] = uriage['item_price'].fillna(method='ffill')"
   ]
  },
  {
   "cell_type": "code",
   "execution_count": 113,
   "id": "5994a6d0",
   "metadata": {},
   "outputs": [
    {
     "data": {
      "text/plain": [
       "purchase_date    0\n",
       "item_name        0\n",
       "item_price       0\n",
       "customer_name    0\n",
       "dtype: int64"
      ]
     },
     "execution_count": 113,
     "metadata": {},
     "output_type": "execute_result"
    }
   ],
   "source": [
    "uriage.isna().sum()"
   ]
  },
  {
   "cell_type": "code",
   "execution_count": 114,
   "id": "2b45b3d9",
   "metadata": {},
   "outputs": [
    {
     "data": {
      "text/plain": [
       "item_name\n",
       "상품A     100.0\n",
       "상품B     200.0\n",
       "상품C     300.0\n",
       "상품D     400.0\n",
       "상품E     500.0\n",
       "상품F     600.0\n",
       "상품G     700.0\n",
       "상품H     800.0\n",
       "상품I     900.0\n",
       "상품J    1000.0\n",
       "상품K    1100.0\n",
       "상품L    1200.0\n",
       "상품M    1300.0\n",
       "상품N    1400.0\n",
       "상품O    1500.0\n",
       "상품P    1600.0\n",
       "상품Q    1700.0\n",
       "상품R    1800.0\n",
       "상품S    1900.0\n",
       "상품T    2000.0\n",
       "상품U    2100.0\n",
       "상품V    2200.0\n",
       "상품W    2300.0\n",
       "상품X    2400.0\n",
       "상품Y    2500.0\n",
       "상품Z    2600.0\n",
       "Name: item_price, dtype: float64"
      ]
     },
     "execution_count": 114,
     "metadata": {},
     "output_type": "execute_result"
    }
   ],
   "source": [
    "uriage.groupby('item_name')['item_price'].mean()"
   ]
  }
 ],
 "metadata": {
  "kernelspec": {
   "display_name": "Python 3",
   "language": "python",
   "name": "python3"
  },
  "language_info": {
   "codemirror_mode": {
    "name": "ipython",
    "version": 3
   },
   "file_extension": ".py",
   "mimetype": "text/x-python",
   "name": "python",
   "nbconvert_exporter": "python",
   "pygments_lexer": "ipython3",
   "version": "3.11.1"
  }
 },
 "nbformat": 4,
 "nbformat_minor": 5
}
