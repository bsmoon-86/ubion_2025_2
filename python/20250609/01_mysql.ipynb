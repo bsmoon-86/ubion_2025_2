{
 "cells": [
  {
   "cell_type": "code",
   "execution_count": null,
   "id": "d10bb699",
   "metadata": {},
   "outputs": [],
   "source": [
    "# 라이브러리 설치 \n",
    "# !pip install pymysql"
   ]
  },
  {
   "cell_type": "code",
   "execution_count": 1,
   "id": "40b35329",
   "metadata": {},
   "outputs": [],
   "source": [
    "# 라이브러리 로드 \n",
    "import pymysql"
   ]
  },
  {
   "cell_type": "code",
   "execution_count": 3,
   "id": "0b9bfda3",
   "metadata": {},
   "outputs": [],
   "source": [
    "# DB server와 연결 \n",
    "_db = pymysql.connect(\n",
    "    host = '127.0.0.1', \n",
    "    port = 3306, \n",
    "    user = 'root', \n",
    "    password = '1234', \n",
    "    db = 'ubion'\n",
    ")"
   ]
  },
  {
   "cell_type": "code",
   "execution_count": 4,
   "id": "9ad5887d",
   "metadata": {},
   "outputs": [],
   "source": [
    "# cursor라는 가상 공간을 생성 \n",
    "cursor = _db.cursor()\n",
    "cursor2 = _db.cursor(pymysql.cursors.DictCursor)"
   ]
  },
  {
   "cell_type": "code",
   "execution_count": null,
   "id": "6ffaae21",
   "metadata": {},
   "outputs": [],
   "source": [
    "insert_query = \"\"\"\n",
    "    INSERT INTO \n",
    "    `user_info`\n",
    "    VALUES \n",
    "    ('test10', \n",
    "    '0000', \n",
    "    'lee', \n",
    "    30)\n",
    "\"\"\""
   ]
  },
  {
   "cell_type": "code",
   "execution_count": 6,
   "id": "18aabedc",
   "metadata": {},
   "outputs": [
    {
     "data": {
      "text/plain": [
       "1"
      ]
     },
     "execution_count": 6,
     "metadata": {},
     "output_type": "execute_result"
    }
   ],
   "source": [
    "cursor.execute(insert_query)"
   ]
  },
  {
   "cell_type": "code",
   "execution_count": 5,
   "id": "d4c5025f",
   "metadata": {},
   "outputs": [],
   "source": [
    "select_query = \"\"\"\n",
    "    SELECT * FROM \n",
    "    `user_info`\n",
    "\"\"\""
   ]
  },
  {
   "cell_type": "code",
   "execution_count": 9,
   "id": "249c2b7c",
   "metadata": {},
   "outputs": [
    {
     "data": {
      "text/plain": [
       "4"
      ]
     },
     "execution_count": 9,
     "metadata": {},
     "output_type": "execute_result"
    }
   ],
   "source": [
    "cursor.execute(select_query)"
   ]
  },
  {
   "cell_type": "code",
   "execution_count": 10,
   "id": "80ce3d32",
   "metadata": {},
   "outputs": [
    {
     "data": {
      "text/plain": [
       "(('test', '1234', 'kim', 30),\n",
       " ('test10', '0000', 'lee', 30),\n",
       " ('test2', '0000', 'park', 20),\n",
       " ('test3', '9999', 'lee', 50))"
      ]
     },
     "execution_count": 10,
     "metadata": {},
     "output_type": "execute_result"
    }
   ],
   "source": [
    "cursor.fetchall()"
   ]
  },
  {
   "cell_type": "code",
   "execution_count": 10,
   "id": "4d8a3004",
   "metadata": {},
   "outputs": [],
   "source": [
    "# DB server에 cursor의 내용을 동기화\n",
    "_db.commit()"
   ]
  },
  {
   "cell_type": "code",
   "execution_count": 11,
   "id": "1ee03c24",
   "metadata": {},
   "outputs": [],
   "source": [
    "# DB server와의 연결을 종료 \n",
    "_db.close()"
   ]
  },
  {
   "cell_type": "code",
   "execution_count": null,
   "id": "6ecaa966",
   "metadata": {},
   "outputs": [],
   "source": []
  }
 ],
 "metadata": {
  "kernelspec": {
   "display_name": "Python 3",
   "language": "python",
   "name": "python3"
  },
  "language_info": {
   "codemirror_mode": {
    "name": "ipython",
    "version": 3
   },
   "file_extension": ".py",
   "mimetype": "text/x-python",
   "name": "python",
   "nbconvert_exporter": "python",
   "pygments_lexer": "ipython3",
   "version": "3.11.1"
  }
 },
 "nbformat": 4,
 "nbformat_minor": 5
}
