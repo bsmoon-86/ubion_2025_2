{
 "cells": [
  {
   "cell_type": "markdown",
   "id": "4838d524",
   "metadata": {},
   "source": [
    "# 데이터 스케일링 \n",
    "- 대부분 데이터 분석 알고리즘은 컬럼 간 데이터의 범위가 크게 차이가 나는 경우에는 작동이 잘 되지 않는다. ( 성능 떨어진다. )\n",
    "- 값의 범위가 작은 컬럼에 비해서 값의 범위가 큰 컬럼이 타깃를 예측하는데 큰 영향을 준다. \n",
    "- 스케일링 작업은 모든 컬럼의 값의 범위를 같게 만들어주는 작업 \n",
    "- 스케일링 순서 \n",
    "    - 주의할 점 : train, test 데이터를 스케일링 할때는 같은 Scaler 객체로 스케일링 작업을 한다. \n",
    "    1. Scaler 선택 및 import \n",
    "    2. Scaler class 생성(객체 생성)\n",
    "    3. train 데이터의 분포를 저장 \n",
    "    4. train 데이터를 스케일링\n",
    "    5. test 데이터를 스케일링\n",
    "    6. 스케일링 데이터를 원본 데이터로 복원 "
   ]
  },
  {
   "cell_type": "markdown",
   "id": "b5270f07",
   "metadata": {},
   "source": [
    "1. Standard Scaler \n",
    "    - 표준화 방식으로 컬럼들의 평균이 0 분산이 1인 정규 분포로 스케일링 \n",
    "    - 최소값과 최대값의 크기를 제한하지 않기 때문에 이상치에 민감하여 이상치에 대한 확인 및 정제를 한 뒤 사용 \n",
    "    - 회귀보다는 분류 분석에서 유용"
   ]
  },
  {
   "cell_type": "code",
   "execution_count": null,
   "id": "6cd8b331",
   "metadata": {},
   "outputs": [],
   "source": [
    "from sklearn.datasets import load_iris\n",
    "from sklearn.model_selection import train_test_split\n",
    "import pandas as pd"
   ]
  },
  {
   "cell_type": "code",
   "execution_count": null,
   "id": "0cbb4377",
   "metadata": {},
   "outputs": [],
   "source": [
    "iris_load = load_iris()\n",
    "iris = pd.DataFrame(iris_load['data'], \n",
    "                    columns=iris_load['feature_names'])\n",
    "iris['class'] = iris_load['target']"
   ]
  },
  {
   "cell_type": "code",
   "execution_count": null,
   "id": "f5768cf9",
   "metadata": {},
   "outputs": [],
   "source": [
    "iris.head()"
   ]
  },
  {
   "cell_type": "code",
   "execution_count": null,
   "id": "4c67db15",
   "metadata": {},
   "outputs": [],
   "source": [
    "# train과 test 데이터로 나눠준다 (7:3)\n",
    "x_train, x_test, y_train, y_test = train_test_split(\n",
    "    iris.drop('class', axis=1),\n",
    "    iris['class'], \n",
    "    test_size=0.3, \n",
    "    stratify=iris['class'], \n",
    "    random_state=42 \n",
    ")"
   ]
  },
  {
   "cell_type": "code",
   "execution_count": null,
   "id": "4e01c181",
   "metadata": {},
   "outputs": [],
   "source": [
    "x_test"
   ]
  },
  {
   "cell_type": "code",
   "execution_count": null,
   "id": "8019bc67",
   "metadata": {},
   "outputs": [],
   "source": [
    "# Scaler 선택 및 import \n",
    "from sklearn.preprocessing import StandardScaler"
   ]
  },
  {
   "cell_type": "code",
   "execution_count": null,
   "id": "0899493b",
   "metadata": {},
   "outputs": [],
   "source": [
    "import warnings\n",
    "warnings.filterwarnings('ignore')"
   ]
  },
  {
   "cell_type": "code",
   "execution_count": null,
   "id": "5e274018",
   "metadata": {},
   "outputs": [],
   "source": [
    "# 객체 생성 -> class 생성 \n",
    "StdScaler = StandardScaler()"
   ]
  },
  {
   "cell_type": "code",
   "execution_count": null,
   "id": "83499b78",
   "metadata": {},
   "outputs": [],
   "source": [
    "# 데이터의 분포 저장 -> train 데이터 \n",
    "StdScaler.fit(x_train)"
   ]
  },
  {
   "cell_type": "code",
   "execution_count": null,
   "id": "62df132b",
   "metadata": {},
   "outputs": [],
   "source": [
    "# 스케일링 -> 데이터의 변화 \n",
    "x_train_sc = StdScaler.fit_transform(x_train)\n",
    "x_test_sc = StdScaler.fit_transform(x_test)"
   ]
  },
  {
   "cell_type": "code",
   "execution_count": null,
   "id": "83f705fe",
   "metadata": {},
   "outputs": [],
   "source": [
    "print(\n",
    "    f\"\"\"\n",
    "        x_train \n",
    "        mean : {x_train_sc.mean()}\n",
    "        min : {x_train_sc.min()}\n",
    "        max : {x_train_sc.max()}\n",
    "        std : {x_train_sc.std()}\n",
    "    \"\"\"\n",
    ")"
   ]
  },
  {
   "cell_type": "code",
   "execution_count": null,
   "id": "4bac5771",
   "metadata": {},
   "outputs": [],
   "source": [
    "print(\n",
    "    f\"\"\"\n",
    "        x_test \n",
    "        mean : {x_test_sc.mean()}\n",
    "        min : {x_test_sc.min()}\n",
    "        max : {x_test_sc.max()}\n",
    "        std : {x_test_sc.std()}\n",
    "    \"\"\"\n",
    ")"
   ]
  },
  {
   "cell_type": "code",
   "execution_count": null,
   "id": "7ba51c6c",
   "metadata": {},
   "outputs": [],
   "source": [
    "x_train.head()"
   ]
  },
  {
   "cell_type": "code",
   "execution_count": null,
   "id": "89489bfd",
   "metadata": {},
   "outputs": [],
   "source": [
    "x_train_sc"
   ]
  },
  {
   "cell_type": "markdown",
   "id": "63d5ee8f",
   "metadata": {},
   "source": [
    "2. Min-Max Scaler\n",
    "    - 정규화 방식으로 컬럼들의 데이터를 0과 1사이의 값으로 스케일링 하는 방식 \n",
    "    - 최소값 : 0, 최대값 : 1\n",
    "    - 이상치에 매우 민감함으로 이상치에 대한 정제 필요\n",
    "    - 분류보다는 회귀에서 유용"
   ]
  },
  {
   "cell_type": "code",
   "execution_count": null,
   "id": "969f89f9",
   "metadata": {},
   "outputs": [],
   "source": [
    "from sklearn.preprocessing import MinMaxScaler"
   ]
  },
  {
   "cell_type": "code",
   "execution_count": null,
   "id": "7e0164bc",
   "metadata": {},
   "outputs": [],
   "source": [
    "MmScaler = MinMaxScaler()"
   ]
  },
  {
   "cell_type": "code",
   "execution_count": null,
   "id": "868098b4",
   "metadata": {},
   "outputs": [],
   "source": [
    "MmScaler.fit(x_train)"
   ]
  },
  {
   "cell_type": "code",
   "execution_count": null,
   "id": "25d38a13",
   "metadata": {},
   "outputs": [],
   "source": [
    "x_train_sc = MmScaler.fit_transform(x_train)\n",
    "x_test_sc = MmScaler.fit_transform(x_test)"
   ]
  },
  {
   "cell_type": "code",
   "execution_count": null,
   "id": "8643906d",
   "metadata": {},
   "outputs": [],
   "source": [
    "def sc_print(train_data, test_data):\n",
    "    print(\n",
    "        f\"\"\"\n",
    "            x_train\n",
    "                min : {train_data.min()}\n",
    "                max : {train_data.max()}\n",
    "                mean : {train_data.mean()}\n",
    "                std : {train_data.std()}\n",
    "            x_test\n",
    "                min : {test_data.min()}\n",
    "                max : {test_data.max()}\n",
    "                mean : {test_data.mean()}\n",
    "                std : {test_data.std()}\n",
    "        \"\"\"\n",
    "    )"
   ]
  },
  {
   "cell_type": "code",
   "execution_count": null,
   "id": "2db3e024",
   "metadata": {},
   "outputs": [],
   "source": [
    "sc_print(x_train_sc, x_test_sc)"
   ]
  },
  {
   "cell_type": "markdown",
   "id": "9efb42b0",
   "metadata": {},
   "source": [
    "3. Max Abs Scaler \n",
    "    - 최대절댓값과 0이 각각 1, 0이 되도록 스케일링하는 정규화 방식으로 모든 값은 -1과 1 사이의 값으로 표현 \n",
    "    - 스케일링 대상 데이터가 양수로만 존재하면 MinMaxScaler와 동일\n",
    "    - 이상치에 민감\n",
    "    - 분류보다는 회귀 유용"
   ]
  },
  {
   "cell_type": "code",
   "execution_count": null,
   "id": "3946bb29",
   "metadata": {},
   "outputs": [],
   "source": [
    "from sklearn.preprocessing import MaxAbsScaler\n",
    "MaScaler = MaxAbsScaler()\n",
    "MaScaler.fit(x_train)\n",
    "x_train_sc = MaScaler.fit_transform(x_train)\n",
    "x_test_sc = MaScaler.fit_transform(x_test)\n",
    "sc_print(x_train_sc, x_test_sc)"
   ]
  },
  {
   "cell_type": "markdown",
   "id": "e63c9158",
   "metadata": {},
   "source": [
    "4. Robust Scaler\n",
    "    - 평균과 분산 대신에 중앙값과 사분수위수 활용하는 방식\n",
    "    - 중앙값을 0으로 설정하고 IQR을 사용하여 이상치의 영향을 최소화 하는 방식 \n",
    "    - quantile_range 매개변수(기본값(0.25, 0.75))를 변경하여 더 넓거나 좁은 범위의 값을 이상치로 설정하여 정제 가능"
   ]
  },
  {
   "cell_type": "code",
   "execution_count": null,
   "id": "9ee48455",
   "metadata": {},
   "outputs": [],
   "source": [
    "from sklearn.preprocessing import RobustScaler"
   ]
  },
  {
   "cell_type": "code",
   "execution_count": null,
   "id": "160a3737",
   "metadata": {},
   "outputs": [],
   "source": [
    "RuScaler = RobustScaler()"
   ]
  },
  {
   "cell_type": "code",
   "execution_count": null,
   "id": "4e48c0c9",
   "metadata": {},
   "outputs": [],
   "source": [
    "RuScaler.fit(x_train)"
   ]
  },
  {
   "cell_type": "code",
   "execution_count": null,
   "id": "48c5f83d",
   "metadata": {},
   "outputs": [],
   "source": [
    "x_train_sc = RuScaler.fit_transform(x_train)\n",
    "x_test_sc = RuScaler.fit_transform(x_test)"
   ]
  },
  {
   "cell_type": "code",
   "execution_count": null,
   "id": "1cb37f39",
   "metadata": {},
   "outputs": [],
   "source": [
    "sc_print(x_train_sc, x_test_sc)"
   ]
  },
  {
   "cell_type": "code",
   "execution_count": 49,
   "id": "aeebffc0",
   "metadata": {},
   "outputs": [],
   "source": [
    "import numpy as np"
   ]
  },
  {
   "cell_type": "code",
   "execution_count": 50,
   "id": "0a74c7ee",
   "metadata": {},
   "outputs": [
    {
     "data": {
      "text/plain": [
       "0.0"
      ]
     },
     "execution_count": 50,
     "metadata": {},
     "output_type": "execute_result"
    }
   ],
   "source": [
    "np.median(x_train_sc)"
   ]
  },
  {
   "cell_type": "code",
   "execution_count": 61,
   "id": "e5650ba6",
   "metadata": {},
   "outputs": [],
   "source": [
    "RuScaler2 = RobustScaler(quantile_range=(30, 70))"
   ]
  },
  {
   "cell_type": "code",
   "execution_count": 62,
   "id": "bc795816",
   "metadata": {},
   "outputs": [
    {
     "data": {
      "text/html": [
       "<style>#sk-container-id-8 {color: black;background-color: white;}#sk-container-id-8 pre{padding: 0;}#sk-container-id-8 div.sk-toggleable {background-color: white;}#sk-container-id-8 label.sk-toggleable__label {cursor: pointer;display: block;width: 100%;margin-bottom: 0;padding: 0.3em;box-sizing: border-box;text-align: center;}#sk-container-id-8 label.sk-toggleable__label-arrow:before {content: \"▸\";float: left;margin-right: 0.25em;color: #696969;}#sk-container-id-8 label.sk-toggleable__label-arrow:hover:before {color: black;}#sk-container-id-8 div.sk-estimator:hover label.sk-toggleable__label-arrow:before {color: black;}#sk-container-id-8 div.sk-toggleable__content {max-height: 0;max-width: 0;overflow: hidden;text-align: left;background-color: #f0f8ff;}#sk-container-id-8 div.sk-toggleable__content pre {margin: 0.2em;color: black;border-radius: 0.25em;background-color: #f0f8ff;}#sk-container-id-8 input.sk-toggleable__control:checked~div.sk-toggleable__content {max-height: 200px;max-width: 100%;overflow: auto;}#sk-container-id-8 input.sk-toggleable__control:checked~label.sk-toggleable__label-arrow:before {content: \"▾\";}#sk-container-id-8 div.sk-estimator input.sk-toggleable__control:checked~label.sk-toggleable__label {background-color: #d4ebff;}#sk-container-id-8 div.sk-label input.sk-toggleable__control:checked~label.sk-toggleable__label {background-color: #d4ebff;}#sk-container-id-8 input.sk-hidden--visually {border: 0;clip: rect(1px 1px 1px 1px);clip: rect(1px, 1px, 1px, 1px);height: 1px;margin: -1px;overflow: hidden;padding: 0;position: absolute;width: 1px;}#sk-container-id-8 div.sk-estimator {font-family: monospace;background-color: #f0f8ff;border: 1px dotted black;border-radius: 0.25em;box-sizing: border-box;margin-bottom: 0.5em;}#sk-container-id-8 div.sk-estimator:hover {background-color: #d4ebff;}#sk-container-id-8 div.sk-parallel-item::after {content: \"\";width: 100%;border-bottom: 1px solid gray;flex-grow: 1;}#sk-container-id-8 div.sk-label:hover label.sk-toggleable__label {background-color: #d4ebff;}#sk-container-id-8 div.sk-serial::before {content: \"\";position: absolute;border-left: 1px solid gray;box-sizing: border-box;top: 0;bottom: 0;left: 50%;z-index: 0;}#sk-container-id-8 div.sk-serial {display: flex;flex-direction: column;align-items: center;background-color: white;padding-right: 0.2em;padding-left: 0.2em;position: relative;}#sk-container-id-8 div.sk-item {position: relative;z-index: 1;}#sk-container-id-8 div.sk-parallel {display: flex;align-items: stretch;justify-content: center;background-color: white;position: relative;}#sk-container-id-8 div.sk-item::before, #sk-container-id-8 div.sk-parallel-item::before {content: \"\";position: absolute;border-left: 1px solid gray;box-sizing: border-box;top: 0;bottom: 0;left: 50%;z-index: -1;}#sk-container-id-8 div.sk-parallel-item {display: flex;flex-direction: column;z-index: 1;position: relative;background-color: white;}#sk-container-id-8 div.sk-parallel-item:first-child::after {align-self: flex-end;width: 50%;}#sk-container-id-8 div.sk-parallel-item:last-child::after {align-self: flex-start;width: 50%;}#sk-container-id-8 div.sk-parallel-item:only-child::after {width: 0;}#sk-container-id-8 div.sk-dashed-wrapped {border: 1px dashed gray;margin: 0 0.4em 0.5em 0.4em;box-sizing: border-box;padding-bottom: 0.4em;background-color: white;}#sk-container-id-8 div.sk-label label {font-family: monospace;font-weight: bold;display: inline-block;line-height: 1.2em;}#sk-container-id-8 div.sk-label-container {text-align: center;}#sk-container-id-8 div.sk-container {/* jupyter's `normalize.less` sets `[hidden] { display: none; }` but bootstrap.min.css set `[hidden] { display: none !important; }` so we also need the `!important` here to be able to override the default hidden behavior on the sphinx rendered scikit-learn.org. See: https://github.com/scikit-learn/scikit-learn/issues/21755 */display: inline-block !important;position: relative;}#sk-container-id-8 div.sk-text-repr-fallback {display: none;}</style><div id=\"sk-container-id-8\" class=\"sk-top-container\"><div class=\"sk-text-repr-fallback\"><pre>RobustScaler(quantile_range=(30, 70))</pre><b>In a Jupyter environment, please rerun this cell to show the HTML representation or trust the notebook. <br />On GitHub, the HTML representation is unable to render, please try loading this page with nbviewer.org.</b></div><div class=\"sk-container\" hidden><div class=\"sk-item\"><div class=\"sk-estimator sk-toggleable\"><input class=\"sk-toggleable__control sk-hidden--visually\" id=\"sk-estimator-id-8\" type=\"checkbox\" checked><label for=\"sk-estimator-id-8\" class=\"sk-toggleable__label sk-toggleable__label-arrow\">RobustScaler</label><div class=\"sk-toggleable__content\"><pre>RobustScaler(quantile_range=(30, 70))</pre></div></div></div></div></div>"
      ],
      "text/plain": [
       "RobustScaler(quantile_range=(30, 70))"
      ]
     },
     "execution_count": 62,
     "metadata": {},
     "output_type": "execute_result"
    }
   ],
   "source": [
    "RuScaler2.fit(x_train)"
   ]
  },
  {
   "cell_type": "code",
   "execution_count": 63,
   "id": "f2ece817",
   "metadata": {},
   "outputs": [],
   "source": [
    "x_train_sc2 = RuScaler2.fit_transform(x_train)\n",
    "x_test_sc2 = RuScaler2.fit_transform(x_test)"
   ]
  },
  {
   "cell_type": "code",
   "execution_count": 64,
   "id": "85384efd",
   "metadata": {},
   "outputs": [
    {
     "name": "stdout",
     "output_type": "stream",
     "text": [
      "\n",
      "            x_train\n",
      "                min : -2.0\n",
      "                max : 2.8000000000000007\n",
      "                mean : -0.0026703950811093505\n",
      "                std : 0.6687268311539591\n",
      "            x_test\n",
      "                min : -1.7500000000000009\n",
      "                max : 2.5000000000000004\n",
      "                mean : -0.05925925925925922\n",
      "                std : 0.6610379296415965\n",
      "        \n"
     ]
    }
   ],
   "source": [
    "sc_print(x_train_sc, x_test_sc)"
   ]
  },
  {
   "cell_type": "code",
   "execution_count": 65,
   "id": "71593d3c",
   "metadata": {},
   "outputs": [
    {
     "name": "stdout",
     "output_type": "stream",
     "text": [
      "\n",
      "            x_train\n",
      "                min : -2.499999999999998\n",
      "                max : 3.499999999999998\n",
      "                mean : 0.005681680956406234\n",
      "                std : 0.8197027489285289\n",
      "            x_test\n",
      "                min : -1.8421052631578958\n",
      "                max : 2.6315789473684217\n",
      "                mean : -0.07505206212958837\n",
      "                std : 0.7549928289627681\n",
      "        \n"
     ]
    }
   ],
   "source": [
    "sc_print(x_train_sc2, x_test_sc2)"
   ]
  },
  {
   "cell_type": "code",
   "execution_count": null,
   "id": "b5c4024b",
   "metadata": {},
   "outputs": [],
   "source": []
  }
 ],
 "metadata": {
  "kernelspec": {
   "display_name": "Python 3",
   "language": "python",
   "name": "python3"
  },
  "language_info": {
   "codemirror_mode": {
    "name": "ipython",
    "version": 3
   },
   "file_extension": ".py",
   "mimetype": "text/x-python",
   "name": "python",
   "nbconvert_exporter": "python",
   "pygments_lexer": "ipython3",
   "version": "3.11.1"
  }
 },
 "nbformat": 4,
 "nbformat_minor": 5
}
