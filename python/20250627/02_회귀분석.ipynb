{
 "cells": [
  {
   "cell_type": "markdown",
   "id": "98a937d1",
   "metadata": {},
   "source": [
    "# 회귀분석 \n",
    "    - 회귀분석은 실젯값과 예측값의 차이를 기반으로 한 지표들을 중심으로 성능 평가\n",
    "\n",
    "### MAE \n",
    "    - 실젯값과 예측값의 차이를 절대값으로 변환하여 평균으로 구한 데이터 \n",
    "    - 에러의 크기가 그대로 반영 \n",
    "    - 이상치의 데이터가 존재하면 영향을 크게 받는다. \n",
    "\n",
    "### MSE\n",
    "    - 실젯값과 예측값의 차이를 제곱해서 평균으로 구한 데이터 \n",
    "    - 실젯값과 예측값의 면적의 합을 의미 \n",
    "    - 특이값이 존재하면 수치 증가 \n",
    "\n",
    "### RMSE\n",
    "    - MSE 값에서 루트를 사용한 데이터\n",
    "    - 에러에 제곱을 에러가 클구록 그에 따른 가중치가 높이 반영 \n",
    "    - 손실이 기하급수적으로 증가하는 상황에서 실제 오류 평균보다 값이 더 커지는 것을 상쇄하기 위해서 사용 \n",
    "\n",
    "### MSLE\n",
    "    - MSE값에 로그를 사용한 데이터 \n",
    "    - RMSE와 같이 손실이 기하급수적으로 증가하는 상황에서 상쇄하기 위해서 사용\n",
    "\n",
    "### MAPE \n",
    "    - MAE를 퍼센트로 표시 \n",
    "    - 오타가 예측값에서 차지는 정도를 나타냄"
   ]
  },
  {
   "cell_type": "code",
   "execution_count": null,
   "id": "9624e2ad",
   "metadata": {},
   "outputs": [],
   "source": [
    "from sklearn.datasets import fetch_california_housing\n",
    "import pandas as pd"
   ]
  },
  {
   "cell_type": "code",
   "execution_count": null,
   "id": "5c324a02",
   "metadata": {},
   "outputs": [],
   "source": [
    "california_data = fetch_california_housing()"
   ]
  },
  {
   "cell_type": "code",
   "execution_count": null,
   "id": "e6ebcab8",
   "metadata": {},
   "outputs": [],
   "source": [
    "california_data.keys()"
   ]
  },
  {
   "cell_type": "code",
   "execution_count": null,
   "id": "34b3228a",
   "metadata": {},
   "outputs": [],
   "source": [
    "df = pd.DataFrame(california_data['data'], \n",
    "                  columns=california_data['feature_names'])"
   ]
  },
  {
   "cell_type": "code",
   "execution_count": null,
   "id": "5a83afba",
   "metadata": {},
   "outputs": [],
   "source": [
    "df.head()"
   ]
  },
  {
   "cell_type": "code",
   "execution_count": null,
   "id": "55b00654",
   "metadata": {},
   "outputs": [],
   "source": [
    "california_data['target']"
   ]
  },
  {
   "cell_type": "code",
   "execution_count": null,
   "id": "aa612bf3",
   "metadata": {},
   "outputs": [],
   "source": [
    "california_data['target_names']"
   ]
  },
  {
   "cell_type": "code",
   "execution_count": null,
   "id": "1551d257",
   "metadata": {},
   "outputs": [],
   "source": [
    "df['value'] = california_data['target']"
   ]
  },
  {
   "cell_type": "code",
   "execution_count": null,
   "id": "8a0279cb",
   "metadata": {},
   "outputs": [],
   "source": [
    "# 데이터프레임의 정보를 확인 \n",
    "df.info()"
   ]
  },
  {
   "cell_type": "code",
   "execution_count": null,
   "id": "4f806e0b",
   "metadata": {},
   "outputs": [],
   "source": [
    "# 결측치의 개수를 확인 \n",
    "df.isna().sum()"
   ]
  },
  {
   "cell_type": "code",
   "execution_count": null,
   "id": "647efb56",
   "metadata": {},
   "outputs": [],
   "source": [
    "import matplotlib.pyplot as plt\n",
    "import seaborn as sns"
   ]
  },
  {
   "cell_type": "code",
   "execution_count": null,
   "id": "828bce96",
   "metadata": {},
   "outputs": [],
   "source": [
    "# 그래프 8개 생성 -> 독립변수의 개수\n",
    "fig, axes = plt.subplots( nrows=4, ncols=2, figsize=(30, 20) )\n",
    "\n",
    "for i in range(len(df.columns) - 1):\n",
    "\n",
    "    sns.regplot(x = df.iloc[:, i], y = df['value'], \n",
    "                    ax = axes[i//2][i%2], data=df)\n",
    "\n",
    "plt.show()\n"
   ]
  },
  {
   "cell_type": "code",
   "execution_count": null,
   "id": "11df1908",
   "metadata": {},
   "outputs": [],
   "source": [
    "df.describe()"
   ]
  },
  {
   "cell_type": "markdown",
   "id": "ea0cf0a2",
   "metadata": {},
   "source": [
    "- 연습 \n",
    "    - df를 train과 test로 8:2의 비율로 나눠준다. \n",
    "        - target 데이터는 value 컬럼의 데이터\n",
    "        - random_state는 42\n",
    "    - Max Abs Scaler를 이용하여 데이터 스케일링 \n",
    "    "
   ]
  },
  {
   "cell_type": "code",
   "execution_count": null,
   "id": "e7d488a9",
   "metadata": {},
   "outputs": [],
   "source": [
    "from sklearn.model_selection import train_test_split\n",
    "from sklearn.preprocessing import MaxAbsScaler"
   ]
  },
  {
   "cell_type": "code",
   "execution_count": null,
   "id": "ac728db0",
   "metadata": {},
   "outputs": [],
   "source": [
    "df['value'].value_counts()"
   ]
  },
  {
   "cell_type": "code",
   "execution_count": null,
   "id": "5f2e9245",
   "metadata": {},
   "outputs": [],
   "source": [
    "x_train, x_test, y_train, y_test = train_test_split(\n",
    "    df.drop('value', axis=1), \n",
    "    df['value'], \n",
    "    test_size= 0.2, \n",
    "    random_state=42\n",
    ")"
   ]
  },
  {
   "cell_type": "code",
   "execution_count": null,
   "id": "657a0f81",
   "metadata": {},
   "outputs": [],
   "source": [
    "# class 생성 \n",
    "MaScaler = MaxAbsScaler()"
   ]
  },
  {
   "cell_type": "code",
   "execution_count": null,
   "id": "1446cfab",
   "metadata": {},
   "outputs": [],
   "source": [
    "# 범위 지정 \n",
    "MaScaler.fit(x_train)"
   ]
  },
  {
   "cell_type": "code",
   "execution_count": null,
   "id": "94e419a2",
   "metadata": {},
   "outputs": [],
   "source": [
    "x_train_sc = MaScaler.transform(x_train)\n",
    "x_test_sc = MaScaler.transform(x_test)"
   ]
  },
  {
   "cell_type": "code",
   "execution_count": null,
   "id": "a7783324",
   "metadata": {},
   "outputs": [],
   "source": [
    "np.median(x_train_sc)"
   ]
  },
  {
   "cell_type": "code",
   "execution_count": null,
   "id": "74857f26",
   "metadata": {},
   "outputs": [],
   "source": [
    "np.median(x_test_sc)"
   ]
  },
  {
   "cell_type": "code",
   "execution_count": null,
   "id": "1d56514c",
   "metadata": {},
   "outputs": [],
   "source": [
    "# 모델 선택 : 선형 회귀 모델\n",
    "from sklearn.linear_model import LinearRegression"
   ]
  },
  {
   "cell_type": "code",
   "execution_count": null,
   "id": "8ead29ac",
   "metadata": {},
   "outputs": [],
   "source": [
    "linear = LinearRegression()"
   ]
  },
  {
   "cell_type": "code",
   "execution_count": null,
   "id": "eea0fd8c",
   "metadata": {},
   "outputs": [],
   "source": [
    "# 데이터 학습 -> 스케일링을 한 x_train, y_train\n",
    "linear.fit(x_train_sc, y_train)"
   ]
  },
  {
   "cell_type": "code",
   "execution_count": null,
   "id": "28683e46",
   "metadata": {},
   "outputs": [],
   "source": [
    "# 예측 -> 스케일링이 된 x_test 데이터를 입력\n",
    "pred = linear.predict(x_test_sc)"
   ]
  },
  {
   "cell_type": "code",
   "execution_count": null,
   "id": "b40cb2cc",
   "metadata": {},
   "outputs": [],
   "source": [
    "y_test"
   ]
  },
  {
   "cell_type": "code",
   "execution_count": null,
   "id": "03dd4443",
   "metadata": {},
   "outputs": [],
   "source": [
    "pd.concat(\n",
    "    [y_test.reset_index(drop=True), pd.Series(pred)], \n",
    "    axis=1\n",
    ")"
   ]
  },
  {
   "cell_type": "code",
   "execution_count": null,
   "id": "53e4e050",
   "metadata": {},
   "outputs": [],
   "source": [
    "import numpy as np \n",
    "from sklearn.metrics import mean_absolute_error, mean_squared_error, r2_score, mean_squared_log_error"
   ]
  },
  {
   "cell_type": "code",
   "execution_count": null,
   "id": "6e3775fc",
   "metadata": {},
   "outputs": [],
   "source": [
    "# 두개의 1차원 데이터의 차이를 구해서 절대값을 입히고 평균을 구해서 되돌려준다.\n",
    "mae = mean_absolute_error(y_test, pred)\n",
    "# 두개의 1차원 데이터의 차이를 구해서 제곱한 뒤 평균을 구해서 되돌려준다.\n",
    "mse = mean_squared_error(y_test, pred)\n",
    "# mse 루트를 씌운다.\n",
    "rmse = np.sqrt(mse)\n",
    "# y_test, pred 로그 변환 \n",
    "y_log = np.log1p(y_test) # log(1 + y_test)\n",
    "pred_log = np.log1p(pred) # log(1 + pred)\n",
    "msle = np.mean( (y_log - pred_log) ** 2 )\n",
    "\n",
    "# 결정계수 출력 \n",
    "r2 = r2_score(y_test, pred)"
   ]
  },
  {
   "cell_type": "code",
   "execution_count": 73,
   "id": "7801585a",
   "metadata": {},
   "outputs": [
    {
     "name": "stdout",
     "output_type": "stream",
     "text": [
      "\n",
      "        MAE : 0.5332001304956566, \n",
      "        MSE : 0.555891598695244, \n",
      "        RMSE : 0.7455813830127761, \n",
      "        MSLE : 0.05413126584230567, \n",
      "        R2SCORE : 0.5757877060324511\n",
      "    \n"
     ]
    }
   ],
   "source": [
    "print(\n",
    "    f\"\"\"\n",
    "        MAE : {mae}, \n",
    "        MSE : {mse}, \n",
    "        RMSE : {rmse}, \n",
    "        MSLE : {msle}, \n",
    "        R2SCORE : {r2}\n",
    "    \"\"\"\n",
    ")"
   ]
  }
 ],
 "metadata": {
  "kernelspec": {
   "display_name": "Python 3",
   "language": "python",
   "name": "python3"
  },
  "language_info": {
   "codemirror_mode": {
    "name": "ipython",
    "version": 3
   },
   "file_extension": ".py",
   "mimetype": "text/x-python",
   "name": "python",
   "nbconvert_exporter": "python",
   "pygments_lexer": "ipython3",
   "version": "3.11.1"
  }
 },
 "nbformat": 4,
 "nbformat_minor": 5
}
