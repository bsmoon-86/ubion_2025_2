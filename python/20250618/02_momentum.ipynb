{
 "cells": [
  {
   "cell_type": "markdown",
   "id": "335ca77f",
   "metadata": {},
   "source": [
    "### 절대 모멘텀\n",
    "1. 파생변수 'STD-YM' 생성 -> 인덱스에서 년-월을 추출하여 대입 \n",
    "2. 'STD-YM' 별 마지막날의 데이터들을 month_last_df 추가 (단순 행 결합)\n",
    "3. 전월의 수정 종가 값을 가진 파생변수 생성 \n",
    "4. 전년도의 수정 종가 값을 가진 파생변수 생성 \n",
    "5. 전월의 데이터와 전년도의 데이터를 이용하여 거래 내역 생성 \n",
    "6. 수익율 계산"
   ]
  },
  {
   "cell_type": "code",
   "execution_count": 22,
   "id": "ef1d31c7",
   "metadata": {},
   "outputs": [],
   "source": [
    "import pandas as pd\n",
    "import numpy as np \n",
    "from datetime import datetime\n",
    "import warnings"
   ]
  },
  {
   "cell_type": "code",
   "execution_count": null,
   "id": "792c4602",
   "metadata": {},
   "outputs": [],
   "source": [
    "# 위험 메시지 출력 필터\n",
    "warnings.filterwarnings('ignore')"
   ]
  },
  {
   "cell_type": "code",
   "execution_count": 2,
   "id": "95a0ebf4",
   "metadata": {},
   "outputs": [],
   "source": [
    "df = pd.read_csv(\"../../csv/AMZN.csv\")"
   ]
  },
  {
   "cell_type": "code",
   "execution_count": 3,
   "id": "843a20d6",
   "metadata": {},
   "outputs": [],
   "source": [
    "if 'Date' in df.columns:\n",
    "    df.set_index('Date', inplace=True)"
   ]
  },
  {
   "cell_type": "code",
   "execution_count": 4,
   "id": "ceeae80f",
   "metadata": {},
   "outputs": [],
   "source": [
    "# index를 시계열로 전환\n",
    "df.index = pd.to_datetime(df.index)"
   ]
  },
  {
   "cell_type": "code",
   "execution_count": 11,
   "id": "981aa03d",
   "metadata": {},
   "outputs": [],
   "source": [
    "# df에 STD-YM 컬럼을 생성하여 인덱스에서 년도-월 데이터를 추출하여 대입\n",
    "df['STD-YM'] = df.index.strftime('%Y-%m')"
   ]
  },
  {
   "cell_type": "code",
   "execution_count": null,
   "id": "a1cb3043",
   "metadata": {},
   "outputs": [],
   "source": [
    "# 빈 데이터프레임에 월말의 데이터들을 행결합 \n",
    "# STD-YM에서 다음 행과 현재 행이 다르다면\n",
    "flag = df['STD-YM'] != df['STD-YM'].shift(-1)\n",
    "df.loc[flag, ]"
   ]
  },
  {
   "cell_type": "code",
   "execution_count": null,
   "id": "04d08ed8",
   "metadata": {},
   "outputs": [],
   "source": [
    "# 기준년월의 유니크 값을 따로 생성 \n",
    "month_list = df['STD-YM'].unique()\n",
    "month_list"
   ]
  },
  {
   "cell_type": "code",
   "execution_count": 17,
   "id": "28e81215",
   "metadata": {},
   "outputs": [],
   "source": [
    "month_last_df = pd.DataFrame()\n",
    "\n",
    "for month in month_list:\n",
    "    # flag = df['STD-YM'] == month\n",
    "    # data = df.loc[flag, ].tail(1)\n",
    "    data = df.loc[month, ].tail(1)\n",
    "    month_last_df = pd.concat(\n",
    "        [month_last_df, data], axis=0\n",
    "    )"
   ]
  },
  {
   "cell_type": "code",
   "execution_count": 20,
   "id": "f412c1ef",
   "metadata": {},
   "outputs": [
    {
     "data": {
      "text/html": [
       "<div>\n",
       "<style scoped>\n",
       "    .dataframe tbody tr th:only-of-type {\n",
       "        vertical-align: middle;\n",
       "    }\n",
       "\n",
       "    .dataframe tbody tr th {\n",
       "        vertical-align: top;\n",
       "    }\n",
       "\n",
       "    .dataframe thead th {\n",
       "        text-align: right;\n",
       "    }\n",
       "</style>\n",
       "<table border=\"1\" class=\"dataframe\">\n",
       "  <thead>\n",
       "    <tr style=\"text-align: right;\">\n",
       "      <th></th>\n",
       "      <th>Adj Close</th>\n",
       "      <th>STD-YM</th>\n",
       "    </tr>\n",
       "    <tr>\n",
       "      <th>Date</th>\n",
       "      <th></th>\n",
       "      <th></th>\n",
       "    </tr>\n",
       "  </thead>\n",
       "  <tbody>\n",
       "    <tr>\n",
       "      <th>1997-05-30</th>\n",
       "      <td>1.500000</td>\n",
       "      <td>1997-05</td>\n",
       "    </tr>\n",
       "    <tr>\n",
       "      <th>1997-06-30</th>\n",
       "      <td>1.541667</td>\n",
       "      <td>1997-06</td>\n",
       "    </tr>\n",
       "    <tr>\n",
       "      <th>1997-07-31</th>\n",
       "      <td>2.395833</td>\n",
       "      <td>1997-07</td>\n",
       "    </tr>\n",
       "    <tr>\n",
       "      <th>1997-08-29</th>\n",
       "      <td>2.338542</td>\n",
       "      <td>1997-08</td>\n",
       "    </tr>\n",
       "    <tr>\n",
       "      <th>1997-09-30</th>\n",
       "      <td>4.338542</td>\n",
       "      <td>1997-09</td>\n",
       "    </tr>\n",
       "  </tbody>\n",
       "</table>\n",
       "</div>"
      ],
      "text/plain": [
       "            Adj Close   STD-YM\n",
       "Date                          \n",
       "1997-05-30   1.500000  1997-05\n",
       "1997-06-30   1.541667  1997-06\n",
       "1997-07-31   2.395833  1997-07\n",
       "1997-08-29   2.338542  1997-08\n",
       "1997-09-30   4.338542  1997-09"
      ]
     },
     "execution_count": 20,
     "metadata": {},
     "output_type": "execute_result"
    }
   ],
   "source": [
    "month_last_df = month_last_df[['Adj Close', 'STD-YM']]\n",
    "month_last_df.head()"
   ]
  },
  {
   "cell_type": "code",
   "execution_count": 26,
   "id": "6defa0ae",
   "metadata": {},
   "outputs": [],
   "source": [
    "# 전월의 수정종가 파생변수(BF-1M) 생성\n",
    "month_last_df['BF-1M'] = month_last_df['Adj Close'].shift(1).fillna(0)\n",
    "# 전년도의 수정종가 파생변수(BF-12M) 생성\n",
    "month_last_df['BF-12M'] = month_last_df['Adj Close'].shift(12).fillna(0)"
   ]
  },
  {
   "cell_type": "code",
   "execution_count": 30,
   "id": "e1fea3ed",
   "metadata": {},
   "outputs": [
    {
     "data": {
      "text/html": [
       "<div>\n",
       "<style scoped>\n",
       "    .dataframe tbody tr th:only-of-type {\n",
       "        vertical-align: middle;\n",
       "    }\n",
       "\n",
       "    .dataframe tbody tr th {\n",
       "        vertical-align: top;\n",
       "    }\n",
       "\n",
       "    .dataframe thead th {\n",
       "        text-align: right;\n",
       "    }\n",
       "</style>\n",
       "<table border=\"1\" class=\"dataframe\">\n",
       "  <thead>\n",
       "    <tr style=\"text-align: right;\">\n",
       "      <th></th>\n",
       "      <th>Adj Close</th>\n",
       "      <th>STD-YM</th>\n",
       "      <th>BF-1M</th>\n",
       "      <th>BF-12M</th>\n",
       "    </tr>\n",
       "    <tr>\n",
       "      <th>Date</th>\n",
       "      <th></th>\n",
       "      <th></th>\n",
       "      <th></th>\n",
       "      <th></th>\n",
       "    </tr>\n",
       "  </thead>\n",
       "  <tbody>\n",
       "    <tr>\n",
       "      <th>1997-05-30</th>\n",
       "      <td>1.500000</td>\n",
       "      <td>1997-05</td>\n",
       "      <td>0.000000</td>\n",
       "      <td>0.000000</td>\n",
       "    </tr>\n",
       "    <tr>\n",
       "      <th>1997-06-30</th>\n",
       "      <td>1.541667</td>\n",
       "      <td>1997-06</td>\n",
       "      <td>1.500000</td>\n",
       "      <td>0.000000</td>\n",
       "    </tr>\n",
       "    <tr>\n",
       "      <th>1997-07-31</th>\n",
       "      <td>2.395833</td>\n",
       "      <td>1997-07</td>\n",
       "      <td>1.541667</td>\n",
       "      <td>0.000000</td>\n",
       "    </tr>\n",
       "    <tr>\n",
       "      <th>1997-08-29</th>\n",
       "      <td>2.338542</td>\n",
       "      <td>1997-08</td>\n",
       "      <td>2.395833</td>\n",
       "      <td>0.000000</td>\n",
       "    </tr>\n",
       "    <tr>\n",
       "      <th>1997-09-30</th>\n",
       "      <td>4.338542</td>\n",
       "      <td>1997-09</td>\n",
       "      <td>2.338542</td>\n",
       "      <td>0.000000</td>\n",
       "    </tr>\n",
       "    <tr>\n",
       "      <th>...</th>\n",
       "      <td>...</td>\n",
       "      <td>...</td>\n",
       "      <td>...</td>\n",
       "      <td>...</td>\n",
       "    </tr>\n",
       "    <tr>\n",
       "      <th>2019-02-28</th>\n",
       "      <td>1639.829956</td>\n",
       "      <td>2019-02</td>\n",
       "      <td>1718.729980</td>\n",
       "      <td>1512.449951</td>\n",
       "    </tr>\n",
       "    <tr>\n",
       "      <th>2019-03-29</th>\n",
       "      <td>1780.750000</td>\n",
       "      <td>2019-03</td>\n",
       "      <td>1639.829956</td>\n",
       "      <td>1447.339966</td>\n",
       "    </tr>\n",
       "    <tr>\n",
       "      <th>2019-04-30</th>\n",
       "      <td>1926.520020</td>\n",
       "      <td>2019-04</td>\n",
       "      <td>1780.750000</td>\n",
       "      <td>1566.130005</td>\n",
       "    </tr>\n",
       "    <tr>\n",
       "      <th>2019-05-31</th>\n",
       "      <td>1775.069946</td>\n",
       "      <td>2019-05</td>\n",
       "      <td>1926.520020</td>\n",
       "      <td>1629.619995</td>\n",
       "    </tr>\n",
       "    <tr>\n",
       "      <th>2019-06-24</th>\n",
       "      <td>1907.953857</td>\n",
       "      <td>2019-06</td>\n",
       "      <td>1775.069946</td>\n",
       "      <td>1699.800049</td>\n",
       "    </tr>\n",
       "  </tbody>\n",
       "</table>\n",
       "<p>266 rows × 4 columns</p>\n",
       "</div>"
      ],
      "text/plain": [
       "              Adj Close   STD-YM        BF-1M       BF-12M\n",
       "Date                                                      \n",
       "1997-05-30     1.500000  1997-05     0.000000     0.000000\n",
       "1997-06-30     1.541667  1997-06     1.500000     0.000000\n",
       "1997-07-31     2.395833  1997-07     1.541667     0.000000\n",
       "1997-08-29     2.338542  1997-08     2.395833     0.000000\n",
       "1997-09-30     4.338542  1997-09     2.338542     0.000000\n",
       "...                 ...      ...          ...          ...\n",
       "2019-02-28  1639.829956  2019-02  1718.729980  1512.449951\n",
       "2019-03-29  1780.750000  2019-03  1639.829956  1447.339966\n",
       "2019-04-30  1926.520020  2019-04  1780.750000  1566.130005\n",
       "2019-05-31  1775.069946  2019-05  1926.520020  1629.619995\n",
       "2019-06-24  1907.953857  2019-06  1775.069946  1699.800049\n",
       "\n",
       "[266 rows x 4 columns]"
      ]
     },
     "execution_count": 30,
     "metadata": {},
     "output_type": "execute_result"
    }
   ],
   "source": [
    "month_last_df"
   ]
  },
  {
   "cell_type": "markdown",
   "id": "d39e35ae",
   "metadata": {},
   "source": [
    "- 거래 내역 추가 \n",
    "    - (전월의 수정주가) / (전년도의 수정주가) - 1 값이 0보다 크고 무한대가 아닌 경우가 매수 타이밍\n",
    "    - 모멘텀 인덱스가 위의 조건에 부합할 경우 df의 trade 컬럼에 해당 월에 구매 내역 추가 "
   ]
  },
  {
   "cell_type": "code",
   "execution_count": null,
   "id": "abfb3f62",
   "metadata": {},
   "outputs": [],
   "source": [
    "df['trade'] = \"\"\n",
    "\n",
    "# month_last_df의 인덱스를 기준으로 반복문 실행 \n",
    "for idx in month_last_df.index:\n",
    "    signal = \"\"\n",
    "\n",
    "    # 절대 모멘텀 인덱스를 계산 \n",
    "    momentum_index = (month_last_df.loc[idx, 'BF-1M'] / \n",
    "                    month_last_df.loc[idx, 'BF-12M']) - 1\n",
    "    # print(momentum_index)\n",
    "    # break\n",
    "    # 조건식 : 모멘텀 인덱스가 0보다 크고 무한대가 아닌\n",
    "    # 참인 경우 데이터 if 조건식 else 거짓인 경우 데이터\n",
    "    flag = True if (momentum_index > 0) & (momentum_index != np.inf) \\\n",
    "        else False\n",
    "\n",
    "    if flag:\n",
    "        signal = 'buy'\n",
    "    print(f\"날짜 : {idx}, 모멘텀 인덱스 : {momentum_index}, signal : {signal}\")\n",
    "    df.loc[idx:, 'trade'] = signal"
   ]
  },
  {
   "cell_type": "code",
   "execution_count": 29,
   "id": "e88f3ca8",
   "metadata": {},
   "outputs": [
    {
     "data": {
      "text/plain": [
       "trade\n",
       "buy    4033\n",
       "       1530\n",
       "Name: count, dtype: int64"
      ]
     },
     "execution_count": 29,
     "metadata": {},
     "output_type": "execute_result"
    }
   ],
   "source": [
    "df['trade'].value_counts()"
   ]
  },
  {
   "cell_type": "code",
   "execution_count": null,
   "id": "7d9adb50",
   "metadata": {},
   "outputs": [],
   "source": []
  }
 ],
 "metadata": {
  "kernelspec": {
   "display_name": "Python 3",
   "language": "python",
   "name": "python3"
  },
  "language_info": {
   "codemirror_mode": {
    "name": "ipython",
    "version": 3
   },
   "file_extension": ".py",
   "mimetype": "text/x-python",
   "name": "python",
   "nbconvert_exporter": "python",
   "pygments_lexer": "ipython3",
   "version": "3.11.1"
  }
 },
 "nbformat": 4,
 "nbformat_minor": 5
}
