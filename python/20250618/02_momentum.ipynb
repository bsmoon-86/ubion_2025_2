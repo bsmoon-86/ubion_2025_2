{
 "cells": [
  {
   "cell_type": "markdown",
   "id": "335ca77f",
   "metadata": {},
   "source": [
    "### 절대 모멘텀\n",
    "1. 파생변수 'STD-YM' 생성 -> 인덱스에서 년-월을 추출하여 대입 \n",
    "2. 'STD-YM' 별 마지막날의 데이터들을 month_last_df 추가 (단순 행 결합)\n",
    "3. 전월의 수정 종가 값을 가진 파생변수 생성 \n",
    "4. 전년도의 수정 종가 값을 가진 파생변수 생성 \n",
    "5. 전월의 데이터와 전년도의 데이터를 이용하여 거래 내역 생성 \n",
    "6. 수익율 계산"
   ]
  },
  {
   "cell_type": "code",
   "execution_count": null,
   "id": "ef1d31c7",
   "metadata": {},
   "outputs": [],
   "source": [
    "import pandas as pd\n",
    "import numpy as np \n",
    "from datetime import datetime\n",
    "import warnings"
   ]
  },
  {
   "cell_type": "code",
   "execution_count": null,
   "id": "792c4602",
   "metadata": {},
   "outputs": [],
   "source": [
    "# 위험 메시지 출력 필터\n",
    "warnings.filterwarnings('ignore')"
   ]
  },
  {
   "cell_type": "code",
   "execution_count": null,
   "id": "95a0ebf4",
   "metadata": {},
   "outputs": [],
   "source": [
    "df = pd.read_csv(\"../../csv/AMZN.csv\")"
   ]
  },
  {
   "cell_type": "code",
   "execution_count": null,
   "id": "843a20d6",
   "metadata": {},
   "outputs": [],
   "source": [
    "if 'Date' in df.columns:\n",
    "    df.set_index('Date', inplace=True)"
   ]
  },
  {
   "cell_type": "code",
   "execution_count": null,
   "id": "ceeae80f",
   "metadata": {},
   "outputs": [],
   "source": [
    "# index를 시계열로 전환\n",
    "df.index = pd.to_datetime(df.index)"
   ]
  },
  {
   "cell_type": "code",
   "execution_count": null,
   "id": "981aa03d",
   "metadata": {},
   "outputs": [],
   "source": [
    "# df에 STD-YM 컬럼을 생성하여 인덱스에서 년도-월 데이터를 추출하여 대입\n",
    "df['STD-YM'] = df.index.strftime('%Y-%m')"
   ]
  },
  {
   "cell_type": "code",
   "execution_count": null,
   "id": "a1cb3043",
   "metadata": {},
   "outputs": [],
   "source": [
    "# 빈 데이터프레임에 월말의 데이터들을 행결합 \n",
    "# STD-YM에서 다음 행과 현재 행이 다르다면\n",
    "flag = df['STD-YM'] != df['STD-YM'].shift(-1)\n",
    "df.loc[flag, ]"
   ]
  },
  {
   "cell_type": "code",
   "execution_count": null,
   "id": "04d08ed8",
   "metadata": {},
   "outputs": [],
   "source": [
    "# 기준년월의 유니크 값을 따로 생성 \n",
    "month_list = df['STD-YM'].unique()\n",
    "month_list"
   ]
  },
  {
   "cell_type": "code",
   "execution_count": null,
   "id": "28e81215",
   "metadata": {},
   "outputs": [],
   "source": [
    "month_last_df = pd.DataFrame()\n",
    "\n",
    "for month in month_list:\n",
    "    # flag = df['STD-YM'] == month\n",
    "    # data = df.loc[flag, ].tail(1)\n",
    "    data = df.loc[month, ].tail(1)\n",
    "    month_last_df = pd.concat(\n",
    "        [month_last_df, data], axis=0\n",
    "    )"
   ]
  },
  {
   "cell_type": "code",
   "execution_count": null,
   "id": "f412c1ef",
   "metadata": {},
   "outputs": [],
   "source": [
    "month_last_df = month_last_df[['Adj Close', 'STD-YM']]\n",
    "month_last_df.head()"
   ]
  },
  {
   "cell_type": "code",
   "execution_count": null,
   "id": "6defa0ae",
   "metadata": {},
   "outputs": [],
   "source": [
    "# 전월의 수정종가 파생변수(BF-1M) 생성\n",
    "month_last_df['BF-1M'] = month_last_df['Adj Close'].shift(1).fillna(0)\n",
    "# 전년도의 수정종가 파생변수(BF-12M) 생성\n",
    "month_last_df['BF-12M'] = month_last_df['Adj Close'].shift(12).fillna(0)"
   ]
  },
  {
   "cell_type": "code",
   "execution_count": null,
   "id": "e1fea3ed",
   "metadata": {},
   "outputs": [],
   "source": [
    "month_last_df"
   ]
  },
  {
   "cell_type": "markdown",
   "id": "d39e35ae",
   "metadata": {},
   "source": [
    "- 거래 내역 추가 \n",
    "    - (전월의 수정주가) / (전년도의 수정주가) - 1 값이 0보다 크고 무한대가 아닌 경우가 매수 타이밍\n",
    "    - 모멘텀 인덱스가 위의 조건에 부합할 경우 df의 trade 컬럼에 해당 월에 구매 내역 추가 "
   ]
  },
  {
   "cell_type": "code",
   "execution_count": null,
   "id": "abfb3f62",
   "metadata": {},
   "outputs": [],
   "source": [
    "df['trade'] = \"\"\n",
    "\n",
    "# month_last_df의 인덱스를 기준으로 반복문 실행 \n",
    "for idx in month_last_df.index:\n",
    "    signal = \"\"\n",
    "\n",
    "    # 절대 모멘텀 인덱스를 계산 \n",
    "    momentum_index = (month_last_df.loc[idx, 'BF-1M'] / \n",
    "                    month_last_df.loc[idx, 'BF-12M']) - 1\n",
    "    # print(momentum_index)\n",
    "    # break\n",
    "    # 조건식 : 모멘텀 인덱스가 0보다 크고 무한대가 아닌\n",
    "    # 참인 경우 데이터 if 조건식 else 거짓인 경우 데이터\n",
    "    flag = True if (momentum_index > 0) & (momentum_index != np.inf) \\\n",
    "        else False\n",
    "\n",
    "    if flag:\n",
    "        signal = 'buy'\n",
    "    print(f\"날짜 : {idx}, 모멘텀 인덱스 : {momentum_index}, signal : {signal}\")\n",
    "    df.loc[idx:, 'trade'] = signal"
   ]
  },
  {
   "cell_type": "code",
   "execution_count": null,
   "id": "e88f3ca8",
   "metadata": {},
   "outputs": [],
   "source": [
    "df['trade'].value_counts()"
   ]
  },
  {
   "cell_type": "code",
   "execution_count": null,
   "id": "7d9adb50",
   "metadata": {},
   "outputs": [],
   "source": [
    "# 수익율 계산\n",
    "# 매수 일자 : 전날의 trade가 \"\"이고 오늘의 trade \"buy\"\n",
    "# 매도 일자 : 전날의 trade가 \"buy\"이고 오늘의 trade \"\"\n",
    "\n",
    "df['rtn'] = 1\n",
    "\n",
    "for idx in df.index:\n",
    "    # 매수의 조건식 \n",
    "    if (df.shift().loc[idx, 'trade'] == \"\") & \\\n",
    "        (df.loc[idx, 'trade'] == \"buy\"):\n",
    "        buy = df.loc[idx, 'Adj Close']\n",
    "        print(f\"매수일 : {idx}, 매수가 : {buy}\")\n",
    "    # 매도의 조건식\n",
    "    elif (df.shift().loc[idx, 'trade'] == 'buy') & \\\n",
    "        (df.loc[idx, 'trade'] == \"\"):\n",
    "        sell = df.loc[idx, 'Adj Close']\n",
    "        rtn = sell / buy\n",
    "        df.loc[idx, 'rtn'] = rtn\n",
    "        print(f\"매도일 : {idx}, 매도가 : {sell}, 수익율 : {rtn}\")"
   ]
  },
  {
   "cell_type": "code",
   "execution_count": null,
   "id": "0aeb8b7f",
   "metadata": {},
   "outputs": [],
   "source": [
    "df['acc_rtn'] = df['rtn'].cumprod()"
   ]
  },
  {
   "cell_type": "code",
   "execution_count": null,
   "id": "e8d5da67",
   "metadata": {},
   "outputs": [],
   "source": [
    "acc_rtn = 1\n",
    "for i in df.index:\n",
    "    rtn = df.loc[i, 'rtn']\n",
    "    acc_rtn *= rtn\n",
    "acc_rtn"
   ]
  },
  {
   "cell_type": "code",
   "execution_count": null,
   "id": "c3d4ad6f",
   "metadata": {},
   "outputs": [],
   "source": [
    "df.iloc[-1, ]['Adj Close'] / df.iloc[0, ]['Adj Close']"
   ]
  },
  {
   "cell_type": "code",
   "execution_count": null,
   "id": "735a02a6",
   "metadata": {},
   "outputs": [],
   "source": [
    "df2 = df.drop(\n",
    "    ['trade', 'rtn', 'acc_rtn'], \n",
    "    axis = 1\n",
    ")"
   ]
  },
  {
   "cell_type": "code",
   "execution_count": null,
   "id": "fb632c08",
   "metadata": {},
   "outputs": [],
   "source": [
    "df2['trade'] = \"\"\n",
    "\n",
    "# month_last_df의 인덱스를 기준으로 반복문 실행 \n",
    "for idx in month_last_df.index:\n",
    "    # 절대 모멘텀 인덱스를 계산 \n",
    "    momentum_index = (month_last_df.loc[idx, 'BF-1M'] / \n",
    "                    month_last_df.loc[idx, 'BF-12M']) - 1\n",
    "\n",
    "    flag = True if (momentum_index > 0) & (momentum_index != np.inf) \\\n",
    "        else False\n",
    "\n",
    "    if flag:\n",
    "        # # 모멘텀 인덱스가 구매 신호 주면 해당 월말부터 \n",
    "        # # 마지막 데이터까지 buy 채워준다.\n",
    "        # df2.loc[idx:, 'trade'] = 'buy'\n",
    "        # 모멘텀 인덱스가 구매 신호를 주면 해당 월말 다음 행의 STD-YM 추출하여\n",
    "        # 해당 조건 맞는 인덱스를 필터링 하여 trade에 buy을 대입 \n",
    "        std_ym = df2.shift(-1).loc[idx, 'STD-YM']\n",
    "        df2.loc[std_ym, 'trade'] = 'buy'\n",
    "        print(f\"날짜 : {idx}, 모멘텀 인덱스 : {momentum_index}\")\n",
    "    "
   ]
  },
  {
   "cell_type": "code",
   "execution_count": null,
   "id": "6cd345f4",
   "metadata": {},
   "outputs": [],
   "source": [
    "df2['trade'].value_counts()"
   ]
  },
  {
   "cell_type": "code",
   "execution_count": null,
   "id": "1aa863b0",
   "metadata": {},
   "outputs": [],
   "source": [
    "# 수익율 계산\n",
    "# 매수 일자 : 전날의 trade가 \"\"이고 오늘의 trade \"buy\"\n",
    "# 매도 일자 : 전날의 trade가 \"buy\"이고 오늘의 trade \"\"\n",
    "\n",
    "df2['rtn'] = 1\n",
    "\n",
    "for idx in df2.index:\n",
    "    # 매수의 조건식 \n",
    "    if (df2.shift().loc[idx, 'trade'] == \"\") & \\\n",
    "        (df2.loc[idx, 'trade'] == \"buy\"):\n",
    "        buy = df2.loc[idx, 'Adj Close']\n",
    "        print(f\"매수일 : {idx}, 매수가 : {buy}\")\n",
    "    # 매도의 조건식\n",
    "    elif (df2.shift().loc[idx, 'trade'] == 'buy') & \\\n",
    "        (df2.loc[idx, 'trade'] == \"\"):\n",
    "        sell = df2.loc[idx, 'Adj Close']\n",
    "        rtn = sell / buy\n",
    "        df2.loc[idx, 'rtn'] = rtn\n",
    "        print(f\"매도일 : {idx}, 매도가 : {sell}, 수익율 : {rtn}\")"
   ]
  },
  {
   "cell_type": "code",
   "execution_count": null,
   "id": "2aca6b9f",
   "metadata": {},
   "outputs": [],
   "source": [
    "df2['rtn'].cumprod()"
   ]
  },
  {
   "cell_type": "code",
   "execution_count": null,
   "id": "2a8bd9d1",
   "metadata": {},
   "outputs": [],
   "source": []
  }
 ],
 "metadata": {
  "kernelspec": {
   "display_name": "Python 3",
   "language": "python",
   "name": "python3"
  },
  "language_info": {
   "codemirror_mode": {
    "name": "ipython",
    "version": 3
   },
   "file_extension": ".py",
   "mimetype": "text/x-python",
   "name": "python",
   "nbconvert_exporter": "python",
   "pygments_lexer": "ipython3",
   "version": "3.11.1"
  }
 },
 "nbformat": 4,
 "nbformat_minor": 5
}
