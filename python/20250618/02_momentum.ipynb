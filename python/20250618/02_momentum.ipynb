{
 "cells": [
  {
   "cell_type": "markdown",
   "id": "335ca77f",
   "metadata": {},
   "source": [
    "### 절대 모멘텀\n",
    "1. 파생변수 'STD-YM' 생성 -> 인덱스에서 년-월을 추출하여 대입 \n",
    "2. 'STD-YM' 별 마지막날의 데이터들을 month_last_df 추가 (단순 행 결합)\n",
    "3. 전월의 수정 종가 값을 가진 파생변수 생성 \n",
    "4. 전년도의 수정 종가 값을 가진 파생변수 생성 \n",
    "5. 전월의 데이터와 전년도의 데이터를 이용하여 거래 내역 생성 \n",
    "6. 수익율 계산"
   ]
  },
  {
   "cell_type": "code",
   "execution_count": null,
   "id": "ef1d31c7",
   "metadata": {},
   "outputs": [],
   "source": [
    "import pandas as pd\n",
    "import numpy as np \n",
    "from datetime import datetime\n",
    "import warnings"
   ]
  },
  {
   "cell_type": "code",
   "execution_count": null,
   "id": "792c4602",
   "metadata": {},
   "outputs": [],
   "source": [
    "# 위험 메시지 출력 필터\n",
    "warnings.filterwarnings('ignore')"
   ]
  },
  {
   "cell_type": "code",
   "execution_count": null,
   "id": "95a0ebf4",
   "metadata": {},
   "outputs": [],
   "source": [
    "df = pd.read_csv(\"../../csv/AMZN.csv\")"
   ]
  },
  {
   "cell_type": "code",
   "execution_count": null,
   "id": "843a20d6",
   "metadata": {},
   "outputs": [],
   "source": [
    "if 'Date' in df.columns:\n",
    "    df.set_index('Date', inplace=True)"
   ]
  },
  {
   "cell_type": "code",
   "execution_count": null,
   "id": "ceeae80f",
   "metadata": {},
   "outputs": [],
   "source": [
    "# index를 시계열로 전환\n",
    "df.index = pd.to_datetime(df.index)"
   ]
  },
  {
   "cell_type": "code",
   "execution_count": null,
   "id": "981aa03d",
   "metadata": {},
   "outputs": [],
   "source": [
    "# df에 STD-YM 컬럼을 생성하여 인덱스에서 년도-월 데이터를 추출하여 대입\n",
    "df['STD-YM'] = df.index.strftime('%Y-%m')"
   ]
  },
  {
   "cell_type": "code",
   "execution_count": null,
   "id": "a1cb3043",
   "metadata": {},
   "outputs": [],
   "source": [
    "# 빈 데이터프레임에 월말의 데이터들을 행결합 \n",
    "# STD-YM에서 다음 행과 현재 행이 다르다면\n",
    "flag = df['STD-YM'] != df['STD-YM'].shift(-1)\n",
    "df.loc[flag, ]"
   ]
  },
  {
   "cell_type": "code",
   "execution_count": null,
   "id": "04d08ed8",
   "metadata": {},
   "outputs": [],
   "source": [
    "# 기준년월의 유니크 값을 따로 생성 \n",
    "month_list = df['STD-YM'].unique()\n",
    "month_list"
   ]
  },
  {
   "cell_type": "code",
   "execution_count": null,
   "id": "28e81215",
   "metadata": {},
   "outputs": [],
   "source": [
    "month_last_df = pd.DataFrame()\n",
    "\n",
    "for month in month_list:\n",
    "    # flag = df['STD-YM'] == month\n",
    "    # data = df.loc[flag, ].tail(1)\n",
    "    data = df.loc[month, ].tail(1)\n",
    "    month_last_df = pd.concat(\n",
    "        [month_last_df, data], axis=0\n",
    "    )"
   ]
  },
  {
   "cell_type": "code",
   "execution_count": null,
   "id": "f412c1ef",
   "metadata": {},
   "outputs": [],
   "source": [
    "month_last_df = month_last_df[['Adj Close', 'STD-YM']]\n",
    "month_last_df.head()"
   ]
  },
  {
   "cell_type": "code",
   "execution_count": null,
   "id": "6defa0ae",
   "metadata": {},
   "outputs": [],
   "source": [
    "# 전월의 수정종가 파생변수(BF-1M) 생성\n",
    "month_last_df['BF-1M'] = month_last_df['Adj Close'].shift(1).fillna(0)\n",
    "# 전년도의 수정종가 파생변수(BF-12M) 생성\n",
    "month_last_df['BF-12M'] = month_last_df['Adj Close'].shift(12).fillna(0)"
   ]
  },
  {
   "cell_type": "code",
   "execution_count": null,
   "id": "e1fea3ed",
   "metadata": {},
   "outputs": [],
   "source": [
    "month_last_df"
   ]
  },
  {
   "cell_type": "markdown",
   "id": "d39e35ae",
   "metadata": {},
   "source": [
    "- 거래 내역 추가 \n",
    "    - (전월의 수정주가) / (전년도의 수정주가) - 1 값이 0보다 크고 무한대가 아닌 경우가 매수 타이밍\n",
    "    - 모멘텀 인덱스가 위의 조건에 부합할 경우 df의 trade 컬럼에 해당 월에 구매 내역 추가 "
   ]
  },
  {
   "cell_type": "code",
   "execution_count": null,
   "id": "abfb3f62",
   "metadata": {},
   "outputs": [],
   "source": [
    "df['trade'] = \"\"\n",
    "\n",
    "# month_last_df의 인덱스를 기준으로 반복문 실행 \n",
    "for idx in month_last_df.index:\n",
    "    signal = \"\"\n",
    "\n",
    "    # 절대 모멘텀 인덱스를 계산 \n",
    "    momentum_index = (month_last_df.loc[idx, 'BF-1M'] / \n",
    "                    month_last_df.loc[idx, 'BF-12M']) - 1\n",
    "    # print(momentum_index)\n",
    "    # break\n",
    "    # 조건식 : 모멘텀 인덱스가 0보다 크고 무한대가 아닌\n",
    "    # 참인 경우 데이터 if 조건식 else 거짓인 경우 데이터\n",
    "    flag = True if (momentum_index > 0) & (momentum_index != np.inf) \\\n",
    "        else False\n",
    "\n",
    "    if flag:\n",
    "        signal = 'buy'\n",
    "    print(f\"날짜 : {idx}, 모멘텀 인덱스 : {momentum_index}, signal : {signal}\")\n",
    "    df.loc[idx:, 'trade'] = signal"
   ]
  },
  {
   "cell_type": "code",
   "execution_count": null,
   "id": "e88f3ca8",
   "metadata": {},
   "outputs": [],
   "source": [
    "df['trade'].value_counts()"
   ]
  },
  {
   "cell_type": "code",
   "execution_count": null,
   "id": "7d9adb50",
   "metadata": {},
   "outputs": [],
   "source": [
    "# 수익율 계산\n",
    "# 매수 일자 : 전날의 trade가 \"\"이고 오늘의 trade \"buy\"\n",
    "# 매도 일자 : 전날의 trade가 \"buy\"이고 오늘의 trade \"\"\n",
    "\n",
    "df['rtn'] = 1\n",
    "\n",
    "for idx in df.index:\n",
    "    # 매수의 조건식 \n",
    "    if (df.shift().loc[idx, 'trade'] == \"\") & \\\n",
    "        (df.loc[idx, 'trade'] == \"buy\"):\n",
    "        buy = df.loc[idx, 'Adj Close']\n",
    "        print(f\"매수일 : {idx}, 매수가 : {buy}\")\n",
    "    # 매도의 조건식\n",
    "    elif (df.shift().loc[idx, 'trade'] == 'buy') & \\\n",
    "        (df.loc[idx, 'trade'] == \"\"):\n",
    "        sell = df.loc[idx, 'Adj Close']\n",
    "        rtn = sell / buy\n",
    "        df.loc[idx, 'rtn'] = rtn\n",
    "        print(f\"매도일 : {idx}, 매도가 : {sell}, 수익율 : {rtn}\")"
   ]
  },
  {
   "cell_type": "code",
   "execution_count": null,
   "id": "0aeb8b7f",
   "metadata": {},
   "outputs": [],
   "source": [
    "df['acc_rtn'] = df['rtn'].cumprod()"
   ]
  },
  {
   "cell_type": "code",
   "execution_count": null,
   "id": "e8d5da67",
   "metadata": {},
   "outputs": [],
   "source": [
    "acc_rtn = 1\n",
    "for i in df.index:\n",
    "    rtn = df.loc[i, 'rtn']\n",
    "    acc_rtn *= rtn\n",
    "acc_rtn"
   ]
  },
  {
   "cell_type": "code",
   "execution_count": null,
   "id": "c3d4ad6f",
   "metadata": {},
   "outputs": [],
   "source": [
    "df.iloc[-1, ]['Adj Close'] / df.iloc[0, ]['Adj Close']"
   ]
  },
  {
   "cell_type": "code",
   "execution_count": null,
   "id": "735a02a6",
   "metadata": {},
   "outputs": [],
   "source": [
    "df2 = df.drop(\n",
    "    ['trade', 'rtn', 'acc_rtn'], \n",
    "    axis = 1\n",
    ")"
   ]
  },
  {
   "cell_type": "code",
   "execution_count": null,
   "id": "fb632c08",
   "metadata": {},
   "outputs": [],
   "source": [
    "df2['trade'] = \"\"\n",
    "\n",
    "# month_last_df의 인덱스를 기준으로 반복문 실행 \n",
    "for idx in month_last_df.index:\n",
    "    # 절대 모멘텀 인덱스를 계산 \n",
    "    momentum_index = (month_last_df.loc[idx, 'BF-1M'] / \n",
    "                    month_last_df.loc[idx, 'BF-12M']) - 1\n",
    "\n",
    "    flag = True if (momentum_index > 0) & (momentum_index != np.inf) \\\n",
    "        else False\n",
    "\n",
    "    if flag:\n",
    "        # # 모멘텀 인덱스가 구매 신호 주면 해당 월말부터 \n",
    "        # # 마지막 데이터까지 buy 채워준다.\n",
    "        # df2.loc[idx:, 'trade'] = 'buy'\n",
    "        # 모멘텀 인덱스가 구매 신호를 주면 해당 월말 다음 행의 STD-YM 추출하여\n",
    "        # 해당 조건 맞는 인덱스를 필터링 하여 trade에 buy을 대입 \n",
    "        std_ym = df2.shift(-1).loc[idx, 'STD-YM']\n",
    "        df2.loc[std_ym, 'trade'] = 'buy'\n",
    "        print(f\"날짜 : {idx}, 모멘텀 인덱스 : {momentum_index}\")\n",
    "    "
   ]
  },
  {
   "cell_type": "code",
   "execution_count": null,
   "id": "6cd345f4",
   "metadata": {},
   "outputs": [],
   "source": [
    "df2['trade'].value_counts()"
   ]
  },
  {
   "cell_type": "code",
   "execution_count": null,
   "id": "1aa863b0",
   "metadata": {},
   "outputs": [],
   "source": [
    "# 수익율 계산\n",
    "# 매수 일자 : 전날의 trade가 \"\"이고 오늘의 trade \"buy\"\n",
    "# 매도 일자 : 전날의 trade가 \"buy\"이고 오늘의 trade \"\"\n",
    "\n",
    "df2['rtn'] = 1\n",
    "\n",
    "for idx in df2.index:\n",
    "    # 매수의 조건식 \n",
    "    if (df2.shift().loc[idx, 'trade'] == \"\") & \\\n",
    "        (df2.loc[idx, 'trade'] == \"buy\"):\n",
    "        buy = df2.loc[idx, 'Adj Close']\n",
    "        print(f\"매수일 : {idx}, 매수가 : {buy}\")\n",
    "    # 매도의 조건식\n",
    "    elif (df2.shift().loc[idx, 'trade'] == 'buy') & \\\n",
    "        (df2.loc[idx, 'trade'] == \"\"):\n",
    "        sell = df2.loc[idx, 'Adj Close']\n",
    "        rtn = sell / buy\n",
    "        df2.loc[idx, 'rtn'] = rtn\n",
    "        print(f\"매도일 : {idx}, 매도가 : {sell}, 수익율 : {rtn}\")"
   ]
  },
  {
   "cell_type": "code",
   "execution_count": null,
   "id": "2aca6b9f",
   "metadata": {},
   "outputs": [],
   "source": [
    "df2['rtn'].cumprod()"
   ]
  },
  {
   "cell_type": "markdown",
   "id": "d755d14f",
   "metadata": {},
   "source": [
    "### 절대 모멘텀 함수화\n",
    "1. STD-YM 컬럼을 생성하는 함수 (create_YM)\n",
    "    - 매개변수 2개 \n",
    "        - 데이터프레임 (_df) : 필수 \n",
    "        - 기준이 되는 컬럼 : 'Adj Close' 기본값\n",
    "    1. 데이터프레임 복사본 생성 \n",
    "    2. 컬럼에 Date가 존재하면 index로 변경 \n",
    "    3. index를 시계열로 변경 \n",
    "    4. 결측치나 무한대 값들은 제거 \n",
    "    5. 기준이 되는 컬럼을 제외하고 나머지는 제거 \n",
    "    6. 'STD-YM' 컬럼을 생성하여 인덱스에서 년도-월 데이터를 추출하여 대입\n",
    "    7. 수정이 된 데이터프레임을 되돌려준다. "
   ]
  },
  {
   "cell_type": "code",
   "execution_count": 44,
   "id": "2a8bd9d1",
   "metadata": {},
   "outputs": [],
   "source": [
    "def create_YM(\n",
    "    _df, \n",
    "    _col = 'Adj Close'\n",
    "):\n",
    "    df = _df.copy()\n",
    "    if 'Date' in df.columns:\n",
    "        df.set_index('Date', inplace=True)\n",
    "    df.index = pd.to_datetime(df.index)\n",
    "    flag = df.isin( [np.nan, np.inf, -np.inf] ).any(axis=1)\n",
    "    df = df.loc[~flag, ]\n",
    "    df = df[[_col]]\n",
    "    df['STD-YM'] = df.index.strftime('%Y-%m')\n",
    "    return df"
   ]
  },
  {
   "cell_type": "code",
   "execution_count": 45,
   "id": "c52d8925",
   "metadata": {},
   "outputs": [],
   "source": [
    "df = pd.read_csv(\"../../csv/AAPL.csv\")"
   ]
  },
  {
   "cell_type": "code",
   "execution_count": 47,
   "id": "10e98938",
   "metadata": {},
   "outputs": [],
   "source": [
    "ym_df = create_YM(df)"
   ]
  },
  {
   "cell_type": "code",
   "execution_count": null,
   "id": "a4b6324d",
   "metadata": {},
   "outputs": [],
   "source": [
    "ym_df"
   ]
  },
  {
   "cell_type": "markdown",
   "id": "23e60bd9",
   "metadata": {},
   "source": [
    "- 월말의 데이터프레임을 생성하는 함수 (create_last_month)\n",
    "    - 매개변수 \n",
    "        - STD-YM 컬럼이 생성된 데이터프레임 (_df) : 필수\n",
    "        - 투자 시작시간 : 2010-01-01 기본값\n",
    "        - 투자 종료시간 : 현재 시간 기본값\n",
    "        - 모멘텀 기간 : 12 기본값\n",
    "            - 6으로 지정한다면 전월과 6개월 전 데이터를 이용\n",
    "    - 월말의 데이터만 모아서 새로운 데이터프레임을 생성 \n",
    "    - 전월의 기준이되는 컬럼의 데이터를 BF1 컬럼에 대입 \n",
    "    - BF2 컬럼을 생성하여 모멘텀기간만큼 전의 데이터를 대입 \n",
    "    - 결측치는 0으로 대체\n",
    "    - 투자의 시작 시간과 종료 시간으로 필터링 \n",
    "    - 수정된 데이터프레임을 되돌려준다. "
   ]
  },
  {
   "cell_type": "code",
   "execution_count": 49,
   "id": "4a547b99",
   "metadata": {},
   "outputs": [],
   "source": [
    "def create_last_month(\n",
    "    _df, \n",
    "    _start = '2010-01-01', \n",
    "    _end = datetime.now(), \n",
    "    _momentum = 12\n",
    "):\n",
    "    # 기준이 되는 컬럼의 이름을 변수에 저장 \n",
    "    col = _df.columns[0]\n",
    "    # 월말의 기준 : STD-YM이 현재와 다음행의 데이터가 다른경우\n",
    "    flag = _df['STD-YM'] != _df.shift(-1)['STD-YM']\n",
    "    df = _df.loc[flag, ]\n",
    "    # 전월의 데이터를 생성 \n",
    "    df['BF1'] = df.shift(1)[col].fillna(0)\n",
    "    # _momentum의 개월 전의 데이터를 생성 \n",
    "    df['BF2'] = df.shift(_momentum)[col].fillna(0)\n",
    "    # 시작 시간과 종료 시간을 기준으로 필터링 \n",
    "    df = df.loc[_start : _end, ]\n",
    "    return df"
   ]
  },
  {
   "cell_type": "code",
   "execution_count": 52,
   "id": "5e5353dd",
   "metadata": {},
   "outputs": [],
   "source": [
    "month_df = create_last_month(ym_df)"
   ]
  },
  {
   "cell_type": "markdown",
   "id": "4bf00f35",
   "metadata": {},
   "source": [
    "- 거래 내역을 추가하는 함수 (create_rtn)\n",
    "    - 매개변수 \n",
    "        - create_YM() 함수의 결과 (_df1) : 필수\n",
    "        - create_last_month() 함수의 결과 (_df2) : 필수\n",
    "        - momentum 스코어 : 1 기본값\n",
    "    1. _df1의 복사본 생성 (df 생성)\n",
    "    2. df에 trade 컬럼을 생성해서 \"\" 대입\n",
    "    3. _df2의 데이터를 이용해서 momentum_index를 생성 \n",
    "    4. momentum_index 값에 따라 df 거래 내역을 추가 \n",
    "    5. df에 rtn 컬럼을 생성해서 1을 대입\n",
    "    6. df의 trade를 기준으로 수익율을 계산해서 rtn 컬럼에 대입 \n",
    "    7. 누적 수익율을 계산하여 acc_rtn에 대입\n",
    "    7. df와 최종 수익율을 되돌려준다. "
   ]
  },
  {
   "cell_type": "code",
   "execution_count": 51,
   "id": "9bde767b",
   "metadata": {},
   "outputs": [],
   "source": [
    "def create_rtn(\n",
    "    _df1, _df2, \n",
    "    _score = 1\n",
    "):\n",
    "    df = _df1.copy()\n",
    "    # trade, rtn 컬럼을 생성\n",
    "    df['trade'] = \"\"\n",
    "    df['rtn'] = 1\n",
    "\n",
    "    # _df2를 이용해서 momentum_index를 구한다. \n",
    "    for idx in _df2.index:\n",
    "        signal = \"\"\n",
    "\n",
    "        # 모멘텀 인덱스를 계산 \n",
    "        momentum_index = \\\n",
    "            _df2.loc[idx, 'BF1'] / _df2.loc[idx, 'BF2'] - _score\n",
    "        \n",
    "        flag = (momentum_index > 0) & (momentum_index != np.inf)\n",
    "\n",
    "        if flag : \n",
    "            signal = 'buy'\n",
    "        # df에 구매내역 추가\n",
    "        df.loc[idx: , 'trade'] = signal\n",
    "    # 기준이 되는 컬럼의 이름 변수에 저장 \n",
    "    col = df.columns[0]\n",
    "\n",
    "    for idx in df.index:\n",
    "        # 매수 조건 \n",
    "        if (df.shift().loc[idx, 'trade'] == \"\") & \\\n",
    "            (df.loc[idx, 'trade'] == \"buy\"):\n",
    "            buy = df.loc[idx, col]\n",
    "            print(f\"매수일 : {idx}, 매수가 : {buy}\")\n",
    "        # 매도 조건\n",
    "        elif (df.shift().loc[idx, 'trade'] == 'buy') & \\\n",
    "            (df.loc[idx, 'trade'] == \"\"):\n",
    "            sell = df.loc[idx, col]\n",
    "            rtn = sell / buy\n",
    "            df.loc[idx, 'rtn'] = rtn\n",
    "            print(f\"매도일 : {idx}, 매도가 : {sell}, 수익율 : {rtn}\")\n",
    "    #  누적수익율 계산\n",
    "    df['acc_rtn'] = df['rtn'].cumprod()\n",
    "    acc_rtn = df.iloc[-1, -1]\n",
    "    return df, acc_rtn\n"
   ]
  },
  {
   "cell_type": "code",
   "execution_count": 54,
   "id": "e71be3c9",
   "metadata": {},
   "outputs": [
    {
     "name": "stdout",
     "output_type": "stream",
     "text": [
      "매수일 : 2010-01-29 00:00:00, 매수가 : 24.035734\n",
      "매도일 : 2013-02-28 00:00:00, 매도가 : 56.055256, 수익율 : 2.3321632699047177\n",
      "매수일 : 2014-01-31 00:00:00, 매수가 : 64.792686\n",
      "매도일 : 2015-10-30 00:00:00, 매도가 : 111.95108, 수익율 : 1.7278351448495282\n",
      "매수일 : 2017-01-31 00:00:00, 매수가 : 116.711029\n",
      "매도일 : 2018-05-31 00:00:00, 매도가 : 184.068115, 수익율 : 1.5771269997113984\n",
      "매수일 : 2018-06-29 00:00:00, 매수가 : 182.334488\n",
      "매도일 : 2018-12-31 00:00:00, 매도가 : 156.463837, 수익율 : 0.858114329967022\n",
      "매수일 : 2019-04-30 00:00:00, 매수가 : 199.900192\n",
      "매도일 : 2019-05-31 00:00:00, 매도가 : 175.070007, 수익율 : 0.8757870877882898\n"
     ]
    },
    {
     "data": {
      "text/plain": [
       "(             Adj Close   STD-YM trade  rtn  acc_rtn\n",
       " Date                                               \n",
       " 1980-12-12    0.410525  1980-12        1.0  1.00000\n",
       " 1980-12-15    0.389106  1980-12        1.0  1.00000\n",
       " 1980-12-16    0.360548  1980-12        1.0  1.00000\n",
       " 1980-12-17    0.369472  1980-12        1.0  1.00000\n",
       " 1980-12-18    0.380182  1980-12        1.0  1.00000\n",
       " ...                ...      ...   ...  ...      ...\n",
       " 2019-06-18  198.449997  2019-06        1.0  4.77608\n",
       " 2019-06-19  197.869995  2019-06        1.0  4.77608\n",
       " 2019-06-20  199.460007  2019-06        1.0  4.77608\n",
       " 2019-06-21  198.779999  2019-06        1.0  4.77608\n",
       " 2019-06-24  199.169998  2019-06        1.0  4.77608\n",
       " \n",
       " [9713 rows x 5 columns],\n",
       " 4.776080231784856)"
      ]
     },
     "execution_count": 54,
     "metadata": {},
     "output_type": "execute_result"
    }
   ],
   "source": [
    "create_rtn(ym_df, month_df, 1.1)"
   ]
  }
 ],
 "metadata": {
  "kernelspec": {
   "display_name": "Python 3",
   "language": "python",
   "name": "python3"
  },
  "language_info": {
   "codemirror_mode": {
    "name": "ipython",
    "version": 3
   },
   "file_extension": ".py",
   "mimetype": "text/x-python",
   "name": "python",
   "nbconvert_exporter": "python",
   "pygments_lexer": "ipython3",
   "version": "3.11.1"
  }
 },
 "nbformat": 4,
 "nbformat_minor": 5
}
