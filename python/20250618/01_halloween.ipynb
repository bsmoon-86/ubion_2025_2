{
 "cells": [
  {
   "cell_type": "markdown",
   "id": "fd23d3c6",
   "metadata": {},
   "source": [
    "### 할로윈 전략\n",
    "1. 11월 첫날에 매수 -> 4월 말일에 매도\n",
    "2. 11월 첫날의 시가를 매수 가격\n",
    "3. 4월 말일의 종가를 매도 가격\n",
    "4. 수익율 : 4월 말일의 종가 / 11월 첫날의 시가\n",
    "5. 누적 수익율 계산"
   ]
  },
  {
   "cell_type": "code",
   "execution_count": null,
   "id": "ae0590f8",
   "metadata": {},
   "outputs": [],
   "source": [
    "from datetime import datetime\n",
    "import pandas as pd\n",
    "import numpy as np\n",
    "from dateutil.relativedelta import relativedelta"
   ]
  },
  {
   "cell_type": "code",
   "execution_count": null,
   "id": "44e8c9ff",
   "metadata": {},
   "outputs": [],
   "source": [
    "# 데이터 로드 \n",
    "df = pd.read_csv(\"../../csv/AAPL.csv\")"
   ]
  },
  {
   "cell_type": "code",
   "execution_count": null,
   "id": "4940318a",
   "metadata": {},
   "outputs": [],
   "source": [
    "# 컬럼에 Date 존재하면 Date를 인덱스로 설정 \n",
    "if 'Date' in df.columns:\n",
    "    df.set_index('Date', inplace=True)"
   ]
  },
  {
   "cell_type": "code",
   "execution_count": null,
   "id": "b9400582",
   "metadata": {},
   "outputs": [],
   "source": [
    "# index를 시계열 데이터로 변경 \n",
    "df.index = pd.to_datetime(df.index)"
   ]
  },
  {
   "cell_type": "code",
   "execution_count": null,
   "id": "3d496d84",
   "metadata": {},
   "outputs": [],
   "source": [
    "# 2010년 11월 첫날의 시가의 데이터\n",
    "df.loc['2010-11-01' : '2010-12-01', 'Open' ][0]"
   ]
  },
  {
   "cell_type": "code",
   "execution_count": null,
   "id": "6b9ea5e9",
   "metadata": {},
   "outputs": [],
   "source": [
    "df.loc['2010-11-01': , 'Open'][0]"
   ]
  },
  {
   "cell_type": "code",
   "execution_count": null,
   "id": "a7d77a83",
   "metadata": {},
   "outputs": [],
   "source": [
    "df.loc['2010-11', 'Open'][0]"
   ]
  },
  {
   "cell_type": "code",
   "execution_count": null,
   "id": "26f8a55d",
   "metadata": {},
   "outputs": [],
   "source": [
    "# 2011년 4월의 말일의 종가\n",
    "df.loc['2011-04', 'Close'][-1]"
   ]
  },
  {
   "cell_type": "code",
   "execution_count": null,
   "id": "37c84d6a",
   "metadata": {},
   "outputs": [],
   "source": [
    "# 2000년부터 2010년까지 할로윈 전략으로 수익율 계산\n",
    "\n",
    "price_df = pd.DataFrame()\n",
    "\n",
    "for year in range(2000, 2010, 1):\n",
    "    # 매수 year-11\n",
    "    buy_mon = f\"{year}-11\"\n",
    "    # 매도 (year+1)-04\n",
    "    sell_mon = f\"{year+1}-04\"\n",
    "    buy = df.loc[buy_mon, ].head(1)\n",
    "    sell = df.loc[sell_mon, ].tail(1)\n",
    "\n",
    "    price_df = pd.concat(\n",
    "        [price_df, buy, sell], axis=0\n",
    "    )"
   ]
  },
  {
   "cell_type": "code",
   "execution_count": null,
   "id": "407e2cfc",
   "metadata": {},
   "outputs": [],
   "source": [
    "price_df = price_df[ ['Open', 'Close'] ]"
   ]
  },
  {
   "cell_type": "code",
   "execution_count": null,
   "id": "b8761237",
   "metadata": {},
   "outputs": [],
   "source": [
    "# price_df.loc[ : , ['Open', 'Close'] ]"
   ]
  },
  {
   "cell_type": "code",
   "execution_count": null,
   "id": "9319614b",
   "metadata": {},
   "outputs": [],
   "source": [
    "# 수익율 컬럼을 생성 1을 대입 \n",
    "price_df['rtn'] = 1"
   ]
  },
  {
   "cell_type": "code",
   "execution_count": null,
   "id": "ffb2efd2",
   "metadata": {},
   "outputs": [],
   "source": [
    "price_df.head(1)"
   ]
  },
  {
   "cell_type": "code",
   "execution_count": null,
   "id": "ac0ad1ee",
   "metadata": {},
   "outputs": [],
   "source": [
    "# 인덱스 위치의 값이 홀수인 경우 수익율 발생 \n",
    "# for idx in range(len(price_df)):\n",
    "#     if idx % 2 == 1:\n",
    "        # 홀수인 경우\n",
    "for idx in range(1, len(price_df), 2):\n",
    "    sell = price_df.iloc[idx, 1]\n",
    "    # buy = price_df.iloc[idx-1, 0]\n",
    "    buy = price_df.shift().iloc[idx, 0]\n",
    "    rtn = sell / buy\n",
    "    price_df.iloc[idx, -1] = rtn"
   ]
  },
  {
   "cell_type": "code",
   "execution_count": null,
   "id": "36c15c1f",
   "metadata": {},
   "outputs": [],
   "source": [
    "price_df['acc_rtn'] = price_df['rtn'].cumprod()"
   ]
  },
  {
   "cell_type": "code",
   "execution_count": 31,
   "id": "20fb7a0f",
   "metadata": {},
   "outputs": [
    {
     "data": {
      "text/plain": [
       "True"
      ]
     },
     "execution_count": 31,
     "metadata": {},
     "output_type": "execute_result"
    }
   ],
   "source": [
    "# 수익율 발생하는 조건 -> 4월 -> 시계열 데이터에서 월만 추출하면 확인 가능\n",
    "price_df.index[1].strftime('%m') == '04'"
   ]
  },
  {
   "cell_type": "code",
   "execution_count": 34,
   "id": "305e919d",
   "metadata": {},
   "outputs": [
    {
     "data": {
      "text/plain": [
       "True"
      ]
     },
     "execution_count": 34,
     "metadata": {},
     "output_type": "execute_result"
    }
   ],
   "source": [
    "price_df.index[1].month == 4"
   ]
  },
  {
   "cell_type": "code",
   "execution_count": null,
   "id": "57695cd7",
   "metadata": {},
   "outputs": [],
   "source": [
    "price_df['rtn2'] = 1\n",
    "for idx in price_df.index:\n",
    "    # idx의 월 데이터가 4인 경우\n",
    "    # if idx.strftime('%m') == '04':\n",
    "    if idx.month == 4:\n",
    "        rtn = price_df.loc[idx, 'Close'] / \\\n",
    "            price_df.shift().loc[idx, 'Open']\n",
    "        price_df.loc[idx, 'rtn2'] = rtn"
   ]
  },
  {
   "cell_type": "code",
   "execution_count": 36,
   "id": "31885dd4",
   "metadata": {},
   "outputs": [
    {
     "data": {
      "text/html": [
       "<div>\n",
       "<style scoped>\n",
       "    .dataframe tbody tr th:only-of-type {\n",
       "        vertical-align: middle;\n",
       "    }\n",
       "\n",
       "    .dataframe tbody tr th {\n",
       "        vertical-align: top;\n",
       "    }\n",
       "\n",
       "    .dataframe thead th {\n",
       "        text-align: right;\n",
       "    }\n",
       "</style>\n",
       "<table border=\"1\" class=\"dataframe\">\n",
       "  <thead>\n",
       "    <tr style=\"text-align: right;\">\n",
       "      <th></th>\n",
       "      <th>rtn</th>\n",
       "      <th>rtn2</th>\n",
       "    </tr>\n",
       "    <tr>\n",
       "      <th>Date</th>\n",
       "      <th></th>\n",
       "      <th></th>\n",
       "    </tr>\n",
       "  </thead>\n",
       "  <tbody>\n",
       "    <tr>\n",
       "      <th>2000-11-01</th>\n",
       "      <td>1.000000</td>\n",
       "      <td>1.000000</td>\n",
       "    </tr>\n",
       "    <tr>\n",
       "      <th>2001-04-30</th>\n",
       "      <td>1.311382</td>\n",
       "      <td>1.311382</td>\n",
       "    </tr>\n",
       "    <tr>\n",
       "      <th>2001-11-01</th>\n",
       "      <td>1.000000</td>\n",
       "      <td>1.000000</td>\n",
       "    </tr>\n",
       "    <tr>\n",
       "      <th>2002-04-30</th>\n",
       "      <td>1.375071</td>\n",
       "      <td>1.375071</td>\n",
       "    </tr>\n",
       "    <tr>\n",
       "      <th>2002-11-01</th>\n",
       "      <td>1.000000</td>\n",
       "      <td>1.000000</td>\n",
       "    </tr>\n",
       "    <tr>\n",
       "      <th>2003-04-30</th>\n",
       "      <td>0.892095</td>\n",
       "      <td>0.892095</td>\n",
       "    </tr>\n",
       "    <tr>\n",
       "      <th>2003-11-03</th>\n",
       "      <td>1.000000</td>\n",
       "      <td>1.000000</td>\n",
       "    </tr>\n",
       "    <tr>\n",
       "      <th>2004-04-30</th>\n",
       "      <td>1.129216</td>\n",
       "      <td>1.129216</td>\n",
       "    </tr>\n",
       "    <tr>\n",
       "      <th>2004-11-01</th>\n",
       "      <td>1.000000</td>\n",
       "      <td>1.000000</td>\n",
       "    </tr>\n",
       "    <tr>\n",
       "      <th>2005-04-29</th>\n",
       "      <td>1.373714</td>\n",
       "      <td>1.373714</td>\n",
       "    </tr>\n",
       "    <tr>\n",
       "      <th>2005-11-01</th>\n",
       "      <td>1.000000</td>\n",
       "      <td>1.000000</td>\n",
       "    </tr>\n",
       "    <tr>\n",
       "      <th>2006-04-28</th>\n",
       "      <td>1.229735</td>\n",
       "      <td>1.229735</td>\n",
       "    </tr>\n",
       "    <tr>\n",
       "      <th>2006-11-01</th>\n",
       "      <td>1.000000</td>\n",
       "      <td>1.000000</td>\n",
       "    </tr>\n",
       "    <tr>\n",
       "      <th>2007-04-30</th>\n",
       "      <td>1.230580</td>\n",
       "      <td>1.230580</td>\n",
       "    </tr>\n",
       "    <tr>\n",
       "      <th>2007-11-01</th>\n",
       "      <td>1.000000</td>\n",
       "      <td>1.000000</td>\n",
       "    </tr>\n",
       "    <tr>\n",
       "      <th>2008-04-30</th>\n",
       "      <td>0.922322</td>\n",
       "      <td>0.922322</td>\n",
       "    </tr>\n",
       "    <tr>\n",
       "      <th>2008-11-03</th>\n",
       "      <td>1.000000</td>\n",
       "      <td>1.000000</td>\n",
       "    </tr>\n",
       "    <tr>\n",
       "      <th>2009-04-30</th>\n",
       "      <td>1.187860</td>\n",
       "      <td>1.187860</td>\n",
       "    </tr>\n",
       "    <tr>\n",
       "      <th>2009-11-02</th>\n",
       "      <td>1.000000</td>\n",
       "      <td>1.000000</td>\n",
       "    </tr>\n",
       "    <tr>\n",
       "      <th>2010-04-30</th>\n",
       "      <td>1.375606</td>\n",
       "      <td>1.375606</td>\n",
       "    </tr>\n",
       "  </tbody>\n",
       "</table>\n",
       "</div>"
      ],
      "text/plain": [
       "                 rtn      rtn2\n",
       "Date                          \n",
       "2000-11-01  1.000000  1.000000\n",
       "2001-04-30  1.311382  1.311382\n",
       "2001-11-01  1.000000  1.000000\n",
       "2002-04-30  1.375071  1.375071\n",
       "2002-11-01  1.000000  1.000000\n",
       "2003-04-30  0.892095  0.892095\n",
       "2003-11-03  1.000000  1.000000\n",
       "2004-04-30  1.129216  1.129216\n",
       "2004-11-01  1.000000  1.000000\n",
       "2005-04-29  1.373714  1.373714\n",
       "2005-11-01  1.000000  1.000000\n",
       "2006-04-28  1.229735  1.229735\n",
       "2006-11-01  1.000000  1.000000\n",
       "2007-04-30  1.230580  1.230580\n",
       "2007-11-01  1.000000  1.000000\n",
       "2008-04-30  0.922322  0.922322\n",
       "2008-11-03  1.000000  1.000000\n",
       "2009-04-30  1.187860  1.187860\n",
       "2009-11-02  1.000000  1.000000\n",
       "2010-04-30  1.375606  1.375606"
      ]
     },
     "execution_count": 36,
     "metadata": {},
     "output_type": "execute_result"
    }
   ],
   "source": [
    "price_df[['rtn', 'rtn2']]"
   ]
  },
  {
   "cell_type": "code",
   "execution_count": 50,
   "id": "1d68dc20",
   "metadata": {},
   "outputs": [],
   "source": [
    "# 투자의 시작시간  -> 년도 -> 문자를 시계열로 변환 -> 시계열에서 년도만 특정 월\n",
    "start = '2000-01-01'\n",
    "# 시계열 데이터로 변환 \n",
    "t_s = pd.to_datetime(start)\n",
    "# t_s의 년도를 추출 \n",
    "t_s2 = t_s.replace(month=11)"
   ]
  },
  {
   "cell_type": "code",
   "execution_count": 51,
   "id": "17b2482f",
   "metadata": {},
   "outputs": [
    {
     "data": {
      "text/plain": [
       "Timestamp('2001-04-01 00:00:00')"
      ]
     },
     "execution_count": 51,
     "metadata": {},
     "output_type": "execute_result"
    }
   ],
   "source": [
    "# 시작일로 부터 5개월 뒤\n",
    "t_s2 + relativedelta(months=5)"
   ]
  },
  {
   "cell_type": "markdown",
   "id": "284b554f",
   "metadata": {},
   "source": [
    "### 할로윈 투자 전략 함수화\n",
    "- 매개변수 5개 \n",
    "    - 데이터프레임 : 필수\n",
    "    - 시작시간 : 2010-01-01 기본값\n",
    "    - 종료시간 : 현재 시간 기본값\n",
    "    - 기준이 되는 컬럼 : 'Adj Close' 기본값\n",
    "    - 투자의 시작 월 : 11 기본값"
   ]
  },
  {
   "cell_type": "code",
   "execution_count": 57,
   "id": "7fc9a37d",
   "metadata": {},
   "outputs": [],
   "source": [
    "def six_month(\n",
    "        _df, \n",
    "        _start = '2010-01-01', \n",
    "        _end = datetime.now(), \n",
    "        _col = 'Adj Close', \n",
    "        _month = 11\n",
    "):\n",
    "    # 복사본 생성 \n",
    "    df = _df.copy()\n",
    "    # Date 컬럼이 존재하는가?\n",
    "    if 'Date' in df.columns:\n",
    "        df.set_index('Date', inplace=True)\n",
    "    # 인덱스를 시계열로 변환\n",
    "    df.index = pd.to_datetime(df.index)\n",
    "    # 시작 시간을 시계열 변경 \n",
    "    start = pd.to_datetime(_start)\n",
    "    # 종료 시간은 타입이 문자라면 \n",
    "    if type(_end) == str:\n",
    "        end = pd.to_datetime(_end)\n",
    "    else:\n",
    "        end = _end\n",
    "    # 빈 데이터 프레임을 생성 \n",
    "    result = pd.DataFrame()\n",
    "\n",
    "    for year in range(start.year, end.year):\n",
    "        # 매수 시간\n",
    "        buy = datetime(year=year, month=_month, day = 1 )\n",
    "        # 매도 (매수의 5개월 뒤)\n",
    "        sell = buy + relativedelta(months=5)\n",
    "\n",
    "        buy_mon = buy.strftime('%Y-%m')\n",
    "        sell_mon = sell.strftime('%Y-%m')\n",
    "        try : \n",
    "            start_df = df.loc[buy_mon, [_col]].head(1)\n",
    "            end_df = df.loc[sell_mon, [_col]].tail(1)\n",
    "            result = pd.concat(\n",
    "                [result, start_df, end_df], axis=0\n",
    "            )\n",
    "        except:\n",
    "            break\n",
    "    # result를 이용하여 수익율 계산\n",
    "    result['rtn'] = 1\n",
    "    for idx in range(1, len(result), 2):\n",
    "        rtn = result.iloc[idx, ][_col] / \\\n",
    "                result.iloc[idx-1, ][_col]\n",
    "        result.iloc[idx, -1] = rtn\n",
    "    # 누적 수익율 계산\n",
    "    result['acc_rtn'] = result['rtn'].cumprod()\n",
    "    acc_rtn = result.iloc[-1, -1]\n",
    "\n",
    "    return result, acc_rtn\n",
    "\n",
    "    "
   ]
  },
  {
   "cell_type": "code",
   "execution_count": 58,
   "id": "46c63162",
   "metadata": {},
   "outputs": [],
   "source": [
    "df2 = pd.read_csv(\"../../csv/MSFT.csv\")"
   ]
  },
  {
   "cell_type": "code",
   "execution_count": 59,
   "id": "0fc2a6ea",
   "metadata": {},
   "outputs": [
    {
     "name": "stderr",
     "output_type": "stream",
     "text": [
      "C:\\Users\\moons\\AppData\\Local\\Temp\\ipykernel_16844\\688789519.py:46: FutureWarning: Setting an item of incompatible dtype is deprecated and will raise in a future error of pandas. Value '0.9734104243660585' has dtype incompatible with int64, please explicitly cast to a compatible dtype first.\n",
      "  result.iloc[idx, -1] = rtn\n"
     ]
    },
    {
     "data": {
      "text/plain": [
       "(             Adj Close       rtn   acc_rtn\n",
       " Date                                      \n",
       " 2010-11-01   21.667025  1.000000  1.000000\n",
       " 2011-04-29   21.090908  0.973410  0.973410\n",
       " 2011-11-01   21.420837  1.000000  0.973410\n",
       " 2012-04-30   26.764505  1.249461  1.216239\n",
       " 2012-11-01   25.001280  1.000000  1.216239\n",
       " 2013-04-30   28.497641  1.139847  1.386326\n",
       " 2013-11-01   31.021326  1.000000  1.386326\n",
       " 2014-04-30   35.807358  1.154282  1.600211\n",
       " 2014-11-03   42.608147  1.000000  1.600211\n",
       " 2015-04-30   44.274323  1.039105  1.662787\n",
       " 2015-11-02   49.098042  1.000000  1.662787\n",
       " 2016-04-29   46.632641  0.949786  1.579292\n",
       " 2016-11-01   56.660099  1.000000  1.579292\n",
       " 2017-04-28   65.699493  1.159537  1.831248\n",
       " 2017-11-01   80.711250  1.000000  1.831248\n",
       " 2018-04-30   91.628487  1.135263  2.078948\n",
       " 2018-11-01  104.628593  1.000000  2.078948\n",
       " 2019-04-30  130.118362  1.243621  2.585424,\n",
       " 2.585424226050299)"
      ]
     },
     "execution_count": 59,
     "metadata": {},
     "output_type": "execute_result"
    }
   ],
   "source": [
    "six_month(df2)"
   ]
  }
 ],
 "metadata": {
  "kernelspec": {
   "display_name": "Python 3",
   "language": "python",
   "name": "python3"
  },
  "language_info": {
   "codemirror_mode": {
    "name": "ipython",
    "version": 3
   },
   "file_extension": ".py",
   "mimetype": "text/x-python",
   "name": "python",
   "nbconvert_exporter": "python",
   "pygments_lexer": "ipython3",
   "version": "3.11.1"
  }
 },
 "nbformat": 4,
 "nbformat_minor": 5
}
