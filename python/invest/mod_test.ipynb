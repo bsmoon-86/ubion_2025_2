{
 "cells": [
  {
   "cell_type": "code",
   "execution_count": 1,
   "id": "a8726cc6",
   "metadata": {},
   "outputs": [],
   "source": [
    "import buyandhold as bnh\n",
    "import bollinger as boll\n",
    "import halloween as hal\n",
    "import momentum as mm"
   ]
  },
  {
   "cell_type": "code",
   "execution_count": 2,
   "id": "1bf4c35d",
   "metadata": {},
   "outputs": [],
   "source": [
    "import pandas as pd"
   ]
  },
  {
   "cell_type": "code",
   "execution_count": 17,
   "id": "b86f6e07",
   "metadata": {},
   "outputs": [],
   "source": [
    "df = pd.read_csv(\"../../csv/GDX.csv\")"
   ]
  },
  {
   "cell_type": "code",
   "execution_count": 18,
   "id": "dde28ea2",
   "metadata": {},
   "outputs": [],
   "source": [
    "# 바이앤홀드로 수익율 확인 \n",
    "bnh_df, bnh_rtn = bnh.bnh(df, _start = '2015-01-01')"
   ]
  },
  {
   "cell_type": "code",
   "execution_count": 19,
   "id": "50cc167d",
   "metadata": {},
   "outputs": [
    {
     "data": {
      "text/plain": [
       "1.3910953448653682"
      ]
     },
     "execution_count": 19,
     "metadata": {},
     "output_type": "execute_result"
    }
   ],
   "source": [
    "bnh_rtn"
   ]
  },
  {
   "cell_type": "code",
   "execution_count": 20,
   "id": "cb4b0da8",
   "metadata": {},
   "outputs": [],
   "source": [
    "# 볼린져밴드로 수익율 확인 \n",
    "band_df = boll.create_band(df, _start = '2015-01-01')"
   ]
  },
  {
   "cell_type": "code",
   "execution_count": 21,
   "id": "d1e3dc43",
   "metadata": {},
   "outputs": [],
   "source": [
    "trade_df = boll.create_trade(band_df)"
   ]
  },
  {
   "cell_type": "code",
   "execution_count": 22,
   "id": "0accbe9f",
   "metadata": {},
   "outputs": [
    {
     "name": "stdout",
     "output_type": "stream",
     "text": [
      "매수일 : 2015-03-06 00:00:00, 매수가 : 18.125961\n",
      "매도일 : 2015-04-28 00:00:00, 매도가 : 20.028311, 수익율 : 1.1049516767690275\n",
      "매수일 : 2015-05-26 00:00:00, 매수가 : 18.779589\n",
      "매도일 : 2015-08-20 00:00:00, 매도가 : 15.423653, 수익율 : 0.8212987515328476\n",
      "매수일 : 2015-11-05 00:00:00, 매수가 : 13.735929\n",
      "매도일 : 2015-12-04 00:00:00, 매도가 : 14.467601, 수익율 : 1.0532670196533485\n",
      "매수일 : 2016-01-19 00:00:00, 매수가 : 12.269618\n",
      "매도일 : 2016-02-03 00:00:00, 매도가 : 15.103338, 수익율 : 1.2309542155265145\n",
      "매수일 : 2016-05-24 00:00:00, 매수가 : 22.108927\n",
      "매도일 : 2016-06-30 00:00:00, 매도가 : 27.264723, 수익율 : 1.233199738729971\n",
      "매수일 : 2016-08-23 00:00:00, 매수가 : 28.553675\n",
      "매도일 : 2017-01-05 00:00:00, 매도가 : 22.893188, 수익율 : 0.8017597734792457\n",
      "매수일 : 2017-02-27 00:00:00, 매수가 : 22.537949\n",
      "매도일 : 2017-04-11 00:00:00, 매도가 : 24.037848, 수익율 : 1.0665499331815862\n",
      "매수일 : 2017-04-27 00:00:00, 매수가 : 21.521568\n",
      "매도일 : 2017-06-06 00:00:00, 매도가 : 23.485252, 수익율 : 1.0912426083452655\n",
      "매수일 : 2017-10-26 00:00:00, 매수가 : 22.133371\n",
      "매도일 : 2017-11-27 00:00:00, 매도가 : 22.745171, 수익율 : 1.027641519224523\n",
      "매수일 : 2017-12-04 00:00:00, 매수가 : 21.906412\n",
      "매도일 : 2017-12-26 00:00:00, 매도가 : 23.077896, 수익율 : 1.0534767628765496\n",
      "매수일 : 2018-02-06 00:00:00, 매수가 : 21.993633\n",
      "매도일 : 2018-03-26 00:00:00, 매도가 : 22.321896, 수익율 : 1.014925364990859\n",
      "매수일 : 2018-06-20 00:00:00, 매수가 : 21.804632\n",
      "매도일 : 2018-10-11 00:00:00, 매도가 : 19.765423, 수익율 : 0.9064781739953234\n",
      "매수일 : 2018-11-13 00:00:00, 매수가 : 18.323053\n",
      "매도일 : 2018-12-07 00:00:00, 매도가 : 20.093685, 수익율 : 1.0966341144131384\n",
      "매수일 : 2019-04-18 00:00:00, 매수가 : 21.34\n",
      "매도일 : 2019-05-31 00:00:00, 매도가 : 21.59, 수익율 : 1.0117150890346767\n"
     ]
    },
    {
     "name": "stderr",
     "output_type": "stream",
     "text": [
      "c:\\ubion_2025_2\\python\\invest\\bollinger.py:76: FutureWarning: Setting an item of incompatible dtype is deprecated and will raise in a future error of pandas. Value '1.1049516767690275' has dtype incompatible with int64, please explicitly cast to a compatible dtype first.\n",
      "  df.loc[idx, 'rtn'] = rtn\n"
     ]
    }
   ],
   "source": [
    "boll_df, boll_rtn = boll.create_rtn(trade_df)"
   ]
  },
  {
   "cell_type": "code",
   "execution_count": 23,
   "id": "88b48b4e",
   "metadata": {},
   "outputs": [
    {
     "data": {
      "text/plain": [
       "1.496177324646528"
      ]
     },
     "execution_count": 23,
     "metadata": {},
     "output_type": "execute_result"
    }
   ],
   "source": [
    "boll_rtn"
   ]
  },
  {
   "cell_type": "code",
   "execution_count": 24,
   "id": "e1e3f462",
   "metadata": {},
   "outputs": [
    {
     "name": "stderr",
     "output_type": "stream",
     "text": [
      "c:\\ubion_2025_2\\python\\invest\\halloween.py:50: FutureWarning: Setting an item of incompatible dtype is deprecated and will raise in a future error of pandas. Value '1.7344575750507167' has dtype incompatible with int64, please explicitly cast to a compatible dtype first.\n",
      "  result.iloc[idx, -1] = rtn\n"
     ]
    }
   ],
   "source": [
    "hal_df, hal_rtn = hal.six_month(df, _start = '2015-01-01')"
   ]
  },
  {
   "cell_type": "code",
   "execution_count": 25,
   "id": "8ac689fa",
   "metadata": {},
   "outputs": [
    {
     "data": {
      "text/plain": [
       "1.6497288733525004"
      ]
     },
     "execution_count": 25,
     "metadata": {},
     "output_type": "execute_result"
    }
   ],
   "source": [
    "hal_rtn"
   ]
  },
  {
   "cell_type": "code",
   "execution_count": 26,
   "id": "da8aa709",
   "metadata": {},
   "outputs": [],
   "source": [
    "ym_df = mm.create_YM(df)"
   ]
  },
  {
   "cell_type": "code",
   "execution_count": 27,
   "id": "47bb34df",
   "metadata": {},
   "outputs": [
    {
     "name": "stderr",
     "output_type": "stream",
     "text": [
      "c:\\ubion_2025_2\\python\\invest\\momentum.py:31: SettingWithCopyWarning: \n",
      "A value is trying to be set on a copy of a slice from a DataFrame.\n",
      "Try using .loc[row_indexer,col_indexer] = value instead\n",
      "\n",
      "See the caveats in the documentation: https://pandas.pydata.org/pandas-docs/stable/user_guide/indexing.html#returning-a-view-versus-a-copy\n",
      "  df['BF1'] = df.shift(1)[col].fillna(0)\n",
      "c:\\ubion_2025_2\\python\\invest\\momentum.py:33: SettingWithCopyWarning: \n",
      "A value is trying to be set on a copy of a slice from a DataFrame.\n",
      "Try using .loc[row_indexer,col_indexer] = value instead\n",
      "\n",
      "See the caveats in the documentation: https://pandas.pydata.org/pandas-docs/stable/user_guide/indexing.html#returning-a-view-versus-a-copy\n",
      "  df['BF2'] = df.shift(_momentum)[col].fillna(0)\n"
     ]
    }
   ],
   "source": [
    "month_df = mm.create_last_month(ym_df)"
   ]
  },
  {
   "cell_type": "code",
   "execution_count": 28,
   "id": "f821d8e7",
   "metadata": {},
   "outputs": [
    {
     "name": "stdout",
     "output_type": "stream",
     "text": [
      "매수일 : 2010-01-29 00:00:00, 매수가 : 38.329189\n",
      "매도일 : 2011-10-31 00:00:00, 매도가 : 55.749481, 수익율 : 1.4544915364632423\n"
     ]
    },
    {
     "name": "stderr",
     "output_type": "stream",
     "text": [
      "c:\\ubion_2025_2\\python\\invest\\momentum.py:75: FutureWarning: Setting an item of incompatible dtype is deprecated and will raise in a future error of pandas. Value '1.4544915364632423' has dtype incompatible with int64, please explicitly cast to a compatible dtype first.\n",
      "  df.loc[idx, 'rtn'] = rtn\n"
     ]
    },
    {
     "name": "stdout",
     "output_type": "stream",
     "text": [
      "매수일 : 2014-09-30 00:00:00, 매수가 : 20.70196\n",
      "매도일 : 2014-10-31 00:00:00, 매도가 : 16.679804, 수익율 : 0.805711343273777\n",
      "매수일 : 2016-03-31 00:00:00, 매수가 : 19.649097\n",
      "매도일 : 2017-04-28 00:00:00, 매도가 : 21.936014, 수익율 : 1.1163878930415987\n",
      "매수일 : 2017-11-30 00:00:00, 매수가 : 22.17284\n",
      "매도일 : 2018-01-31 00:00:00, 매도가 : 23.625, 수익율 : 1.0654927379622998\n",
      "매수일 : 2018-02-28 00:00:00, 매수가 : 21.237633\n",
      "매도일 : 2018-03-29 00:00:00, 매도가 : 21.864315, 수익율 : 1.029508090661516\n",
      "매수일 : 2018-06-29 00:00:00, 매수가 : 22.192579\n",
      "매도일 : 2018-07-31 00:00:00, 매도가 : 21.168001, 수익율 : 0.9538324049674444\n",
      "매수일 : 2019-02-28 00:00:00, 매수가 : 22.24\n",
      "매도일 : 2019-05-31 00:00:00, 매도가 : 21.59, 수익율 : 0.970773381294964\n"
     ]
    }
   ],
   "source": [
    "mm_df, mm_rtn  = mm.create_rtn(ym_df, month_df)"
   ]
  },
  {
   "cell_type": "code",
   "execution_count": 29,
   "id": "bcd2d2d3",
   "metadata": {},
   "outputs": [
    {
     "data": {
      "text/plain": [
       "1.3288500733963993"
      ]
     },
     "execution_count": 29,
     "metadata": {},
     "output_type": "execute_result"
    }
   ],
   "source": [
    "mm_rtn"
   ]
  }
 ],
 "metadata": {
  "kernelspec": {
   "display_name": "Python 3",
   "language": "python",
   "name": "python3"
  },
  "language_info": {
   "codemirror_mode": {
    "name": "ipython",
    "version": 3
   },
   "file_extension": ".py",
   "mimetype": "text/x-python",
   "name": "python",
   "nbconvert_exporter": "python",
   "pygments_lexer": "ipython3",
   "version": "3.11.1"
  }
 },
 "nbformat": 4,
 "nbformat_minor": 5
}
