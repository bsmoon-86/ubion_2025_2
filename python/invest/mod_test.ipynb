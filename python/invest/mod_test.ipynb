{
 "cells": [
  {
   "cell_type": "code",
   "execution_count": null,
   "id": "a8726cc6",
   "metadata": {},
   "outputs": [],
   "source": [
    "import buyandhold\n",
    "import bollinger"
   ]
  },
  {
   "cell_type": "code",
   "execution_count": null,
   "id": "1bf4c35d",
   "metadata": {},
   "outputs": [],
   "source": [
    "import pandas as pd"
   ]
  },
  {
   "cell_type": "code",
   "execution_count": null,
   "id": "b86f6e07",
   "metadata": {},
   "outputs": [],
   "source": [
    "df = pd.read_csv(\"../../csv/GM.csv\")"
   ]
  },
  {
   "cell_type": "code",
   "execution_count": null,
   "id": "dde28ea2",
   "metadata": {},
   "outputs": [],
   "source": [
    "# 바이앤홀드로 수익율 확인 \n",
    "bnh_df, bnh_rtn = buyandhold.bnh(df, _start = '2015-01-01')"
   ]
  },
  {
   "cell_type": "code",
   "execution_count": 11,
   "id": "50cc167d",
   "metadata": {},
   "outputs": [
    {
     "data": {
      "text/plain": [
       "1.291093673328708"
      ]
     },
     "execution_count": 11,
     "metadata": {},
     "output_type": "execute_result"
    }
   ],
   "source": [
    "bnh_rtn"
   ]
  },
  {
   "cell_type": "code",
   "execution_count": null,
   "id": "cb4b0da8",
   "metadata": {},
   "outputs": [],
   "source": [
    "# 볼린져밴드로 수익율 확인 \n",
    "band_df = bollinger.create_band(df, _start = '2015-01-01')"
   ]
  },
  {
   "cell_type": "code",
   "execution_count": null,
   "id": "d1e3dc43",
   "metadata": {},
   "outputs": [],
   "source": [
    "trade_df = bollinger.create_trade(band_df)"
   ]
  },
  {
   "cell_type": "code",
   "execution_count": null,
   "id": "0accbe9f",
   "metadata": {},
   "outputs": [],
   "source": [
    "boll_df, boll_rtn = bollinger.create_rtn(trade_df)"
   ]
  },
  {
   "cell_type": "code",
   "execution_count": 10,
   "id": "88b48b4e",
   "metadata": {},
   "outputs": [
    {
     "data": {
      "text/plain": [
       "1.3408820430735293"
      ]
     },
     "execution_count": 10,
     "metadata": {},
     "output_type": "execute_result"
    }
   ],
   "source": [
    "boll_rtn"
   ]
  },
  {
   "cell_type": "code",
   "execution_count": null,
   "id": "e1e3f462",
   "metadata": {},
   "outputs": [],
   "source": []
  }
 ],
 "metadata": {
  "kernelspec": {
   "display_name": "Python 3",
   "language": "python",
   "name": "python3"
  },
  "language_info": {
   "codemirror_mode": {
    "name": "ipython",
    "version": 3
   },
   "file_extension": ".py",
   "mimetype": "text/x-python",
   "name": "python",
   "nbconvert_exporter": "python",
   "pygments_lexer": "ipython3",
   "version": "3.11.1"
  }
 },
 "nbformat": 4,
 "nbformat_minor": 5
}
