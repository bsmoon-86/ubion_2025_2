{
 "cells": [
  {
   "cell_type": "code",
   "execution_count": null,
   "id": "3c69ec1f",
   "metadata": {},
   "outputs": [],
   "source": [
    "import os \n",
    "from glob import glob\n",
    "import pandas as pd"
   ]
  },
  {
   "cell_type": "code",
   "execution_count": null,
   "id": "e118b254",
   "metadata": {},
   "outputs": [],
   "source": [
    "# glob 함수를 이용하여  파일의 목록을 가지고 온다. \n",
    "print(os.listdir('../../csv/2021/'))\n",
    "# glob의 path는 경로와 어떠한 파일들을 가지고올것인가를 같이 작성\n",
    "print(glob(\"../../csv/2021/202101_expense_list.*\"))"
   ]
  },
  {
   "cell_type": "code",
   "execution_count": null,
   "id": "1bd01e44",
   "metadata": {},
   "outputs": [],
   "source": [
    "# glob 라이브러리를 이용하여 특정 경로에 있는 파일을 모두 로드 \n",
    "# 로드 한 파일들을 각각 변수에 대입 \n",
    "file_path = \"../../csv/num_3/\"\n",
    "\n",
    "# glob를 이용하여 파일의 목록을 불러온다. \n",
    "file_list = glob(file_path+'*.*')\n",
    "\n",
    "file_list"
   ]
  },
  {
   "cell_type": "code",
   "execution_count": null,
   "id": "21b983fa",
   "metadata": {},
   "outputs": [],
   "source": [
    "# file_list에서 파일 로드 \n",
    "# 확장자에 따라서 read_함수를 다르게 사용\n",
    "# 경로와 파일의 이름을 나눠주는 함수를 사용\n",
    "file = file_list[1]\n",
    "# os.path.split() 함수의 결과가 2개의 데이터를 되돌려주고\n",
    "# path라는 변수와 name이라는 변수에 데이터를 하나씩 대입\n",
    "path, name = os.path.split(file)\n",
    "# print(path)\n",
    "# print(name)\n",
    "# 파일의 풀네임에서 파일명과 확장자를 나눠주는 함수를 이용\n",
    "head, tail = os.path.splitext(name)"
   ]
  },
  {
   "cell_type": "code",
   "execution_count": null,
   "id": "2cbe419f",
   "metadata": {},
   "outputs": [],
   "source": [
    "if tail == '.csv':\n",
    "    df = pd.read_csv(file)\n",
    "elif tail == '.tsv':\n",
    "    df = pd.read_csv(file, sep='\\t')\n",
    "else:\n",
    "    print('지원하지 확장자')"
   ]
  },
  {
   "cell_type": "code",
   "execution_count": null,
   "id": "73d941d7",
   "metadata": {},
   "outputs": [],
   "source": [
    "df"
   ]
  },
  {
   "cell_type": "code",
   "execution_count": null,
   "id": "0d82c896",
   "metadata": {},
   "outputs": [],
   "source": [
    "# file_list 목록의 모든 파일을 로드해서 각각 전역변수에 대입\n",
    "# 비어있는 리스트를 생성해서 데이터프레임을 추가 -> 전역변수 하나 생성\n",
    "dfs = []\n",
    "for file in file_list:\n",
    "    # file을 경로와 이름으로 나눠준다. \n",
    "    path, name = os.path.split(file)\n",
    "    # name에서 파일의 이름과 확장자로 나눠준다. \n",
    "    head, tail = os.path.splitext(name)\n",
    "    # tail에 따라서 read_함수를 지정한다. \n",
    "    if tail == '.csv':\n",
    "        df = pd.read_csv(file)\n",
    "    elif tail == '.tsv':\n",
    "        df = pd.read_csv(file, sep='\\t')\n",
    "    elif tail == '.json':\n",
    "        df = pd.read_json(file)\n",
    "    elif tail == '.xml':\n",
    "        df = pd.read_xml(file)\n",
    "    elif tail in ['.xlsx', '.xls']:\n",
    "        df = pd.read_excel(file)\n",
    "    else:\n",
    "        print('지원하지 않는 확장자')\n",
    "        df = pd.DataFrame()\n",
    "    if len(df) > 0:\n",
    "        dfs.append(df)\n",
    "\n",
    "dfs"
   ]
  },
  {
   "cell_type": "code",
   "execution_count": null,
   "id": "2ba5e2d9",
   "metadata": {},
   "outputs": [],
   "source": [
    "dfs[4]"
   ]
  },
  {
   "cell_type": "code",
   "execution_count": null,
   "id": "6d13bcff",
   "metadata": {},
   "outputs": [],
   "source": [
    "# globals()에 key:value의 방법으로 전역변수를 추가 \n",
    "for file in file_list:\n",
    "    path, name = os.path.split(file)\n",
    "    head, tail = os.path.splitext(name)\n",
    "    # head의 값을 변수의 이름으로 사용용\n",
    "    if tail == '.csv':\n",
    "        df = pd.read_csv(file)\n",
    "    elif tail == '.tsv':\n",
    "        df = pd.read_csv(file, sep='\\t')\n",
    "    elif tail == '.json':\n",
    "        df = pd.read_json(file)\n",
    "    elif tail == '.xml':\n",
    "        df = pd.read_xml(file)\n",
    "    elif tail in ['.xlsx', '.xls']:\n",
    "        df = pd.read_excel(file)\n",
    "    else:\n",
    "        print('지원하지 않는 확장자')\n",
    "    # df의 복사본을 head 파일의 이름 변수에 대입 \n",
    "    # df가 존재하지 않는 else 구문이 존재 \n",
    "    # 시도를 하고 에러가 발생한다면? -> 예외처리\n",
    "    try:\n",
    "        globals()[head] = df.copy()\n",
    "    except:\n",
    "        print('df가 존재하지 않음')"
   ]
  },
  {
   "cell_type": "code",
   "execution_count": null,
   "id": "d62a309e",
   "metadata": {},
   "outputs": [],
   "source": [
    "class_master"
   ]
  },
  {
   "cell_type": "code",
   "execution_count": null,
   "id": "14ae754d",
   "metadata": {},
   "outputs": [],
   "source": [
    "campaign_master"
   ]
  },
  {
   "cell_type": "code",
   "execution_count": null,
   "id": "8fa516ad",
   "metadata": {},
   "outputs": [],
   "source": [
    "chipotle"
   ]
  },
  {
   "cell_type": "markdown",
   "id": "e2b87ff4",
   "metadata": {},
   "source": [
    "### 함수화 \n",
    "1. 함수의 이름 dir_load\n",
    "    - 매개변수 \n",
    "        - file_path -> 필수 항목(기본값이 X)\n",
    "        - file_tail -> 기본값(*.*)\n",
    "        - engine -> 기본값(utf-8)\n",
    "2. file_path와 file_tail를 이용하여 파일의 목록(file_list) 생성 \n",
    "3. 반복문을 이용하여 file_list를 반복한다. \n",
    "    - file의 경로와 파일 이름을 나눠준다. \n",
    "    - 파일의 이름에서 확장자 부분을 나눠준다. \n",
    "    - 확장자에 따라서 read_함수를 지정한다.\n",
    "    - read_함수의 결과를 파일의 이름을 가지고 전역변수로 생성 \n",
    "    - print()함수를 이용해서 만들어진 전역 변수가 무엇인지 출력해준다\n",
    "4. 리턴 데이터는 만들어진 전역변수의 개수를 되돌려준다. "
   ]
  },
  {
   "cell_type": "code",
   "execution_count": 32,
   "id": "188390db",
   "metadata": {},
   "outputs": [],
   "source": [
    "def dir_load( file_path, file_tail = '*.*', engine = 'cp949'):\n",
    "    # file_path와 file_tail 입력이 되는 \n",
    "    # 인자값을 이용하여 파일의 목록을 생성\n",
    "    # file_path = \"../../csv/num_3/*.*\"\n",
    "    # file_path 매개변수 -> ../../csv/num_3, ../../csv/num_3/\n",
    "    # file_tail -> csv -> \"*.\" + file_tail -> *.csv\n",
    "    # 만약에 file_tail이 *.*이 아니라면(같지 않다)?\n",
    "    if file_tail != '*.*':\n",
    "        file_tail = \"*.\" + file_tail\n",
    "    # glob()를 이용하여 파일의 목록을 로드 \n",
    "    file_list = glob(file_path + '/' + file_tail)\n",
    "\n",
    "    # 반복문이 몇번 반복했는가를 알기 위해 숫자 0을 변수에 저장\n",
    "    cnt = 0\n",
    "    for file in file_list:\n",
    "        # file를 경로와 파일의 이름으로 나눠준다. \n",
    "        path, name = os.path.split(file)\n",
    "        # name = os.path.split(file)[1]\n",
    "        # name에서 이름과 확장자로 나눠준다. \n",
    "        head, tail = os.path.splitext(name)\n",
    "        # head -> 전역변수의 이름 \n",
    "        # tail -> 확장자로 read함수를 지정하기 위해 사용\n",
    "        if tail == '.csv':\n",
    "            # globals()[head] = pd.read_csv(file, encoding = engine)\n",
    "            try:\n",
    "                df = pd.read_csv(file, encoding='utf-8')\n",
    "            except:\n",
    "                df = pd.read_csv(file, encoding=engine)\n",
    "        elif tail == '.tsv':\n",
    "            try:\n",
    "                df = pd.read_csv(file, sep='\\t')\n",
    "            except:\n",
    "                df = pd.read_csv(file, sep='\\t', encoding=engine)\n",
    "        elif tail == '.json':\n",
    "            try:\n",
    "                df = pd.read_json(file)\n",
    "            except:\n",
    "                df = pd.read_json(file, encoding=engine)\n",
    "        elif tail == '.xml':\n",
    "            try:\n",
    "                df = pd.read_xml(file)\n",
    "            except:\n",
    "                df = pd.read_xml(file, encoding=engine)\n",
    "        elif tail in ['.xlsx', '.xls']:\n",
    "            df = pd.read_excel(file)\n",
    "        try : \n",
    "            # head를 이용하여 전역변수를 생성하고 df의 복사본을 대입\n",
    "            globals()[head] = df.copy()\n",
    "            # 전역변수가 생성이 되었기 때문에 cnt를 1 증가시킨다. \n",
    "            cnt += 1\n",
    "            # 전역변수가 생성되었다는것을 print()를 이용하여 출력 \n",
    "            print(f\"{cnt}번째 전역 변수가 생성 : {head}\")\n",
    "        except:\n",
    "            print(f\"{tail} 확장자는 지원하기 않은 확장자입니다.\")\n",
    "    # 함수를 종료하기 위해 전역변수가 생성된 횟수인 cnt 되돌려준다. \n",
    "    return cnt\n",
    "    "
   ]
  },
  {
   "cell_type": "code",
   "execution_count": 33,
   "id": "13cf96d4",
   "metadata": {},
   "outputs": [
    {
     "name": "stdout",
     "output_type": "stream",
     "text": [
      "1번째 전역 변수가 생성 : campaign_master\n",
      "2번째 전역 변수가 생성 : chipotle\n",
      "3번째 전역 변수가 생성 : class_master\n",
      "4번째 전역 변수가 생성 : customer_master\n",
      "5번째 전역 변수가 생성 : use_log\n"
     ]
    },
    {
     "data": {
      "text/plain": [
       "5"
      ]
     },
     "execution_count": 33,
     "metadata": {},
     "output_type": "execute_result"
    }
   ],
   "source": [
    "# \"../../csv/num_3\"를 인자로 사용하여 함수를 테스트\n",
    "dir_load('../../csv/num_3')"
   ]
  },
  {
   "cell_type": "code",
   "execution_count": 34,
   "id": "e9d1ca47",
   "metadata": {},
   "outputs": [
    {
     "name": "stdout",
     "output_type": "stream",
     "text": [
      "1번째 전역 변수가 생성 : 2014\n",
      "2번째 전역 변수가 생성 : AAPL\n",
      "3번째 전역 변수가 생성 : AMZN\n",
      "4번째 전역 변수가 생성 : BND\n",
      "5번째 전역 변수가 생성 : campaign_master\n",
      "6번째 전역 변수가 생성 : class_master\n",
      "7번째 전역 변수가 생성 : corona\n",
      "8번째 전역 변수가 생성 : csv_exam\n",
      "9번째 전역 변수가 생성 : customer_master\n",
      "10번째 전역 변수가 생성 : dept\n",
      "11번째 전역 변수가 생성 : drinks\n",
      "12번째 전역 변수가 생성 : emp\n",
      "13번째 전역 변수가 생성 : example\n",
      "14번째 전역 변수가 생성 : GDX\n",
      "15번째 전역 변수가 생성 : GLD\n",
      "16번째 전역 변수가 생성 : GM\n",
      "17번째 전역 변수가 생성 : item_master\n",
      "18번째 전역 변수가 생성 : Koweps\n",
      "19번째 전역 변수가 생성 : Koweps_Codebook\n",
      "20번째 전역 변수가 생성 : Koweps_hpc10_2015_beta1\n",
      "21번째 전역 변수가 생성 : MSFT\n",
      "22번째 전역 변수가 생성 : Sales Records\n",
      "23번째 전역 변수가 생성 : SLV\n",
      "24번째 전역 변수가 생성 : SPY\n",
      "25번째 전역 변수가 생성 : tran_1\n",
      "26번째 전역 변수가 생성 : tran_2\n",
      "27번째 전역 변수가 생성 : tran_d_1\n",
      "28번째 전역 변수가 생성 : tran_d_2\n",
      "29번째 전역 변수가 생성 : uriage\n",
      "30번째 전역 변수가 생성 : use_log\n",
      "31번째 전역 변수가 생성 : USM\n",
      "32번째 전역 변수가 생성 : 주민등록\n"
     ]
    },
    {
     "data": {
      "text/plain": [
       "32"
      ]
     },
     "execution_count": 34,
     "metadata": {},
     "output_type": "execute_result"
    }
   ],
   "source": [
    "dir_load('../../csv')"
   ]
  },
  {
   "cell_type": "code",
   "execution_count": null,
   "id": "c061684b",
   "metadata": {},
   "outputs": [],
   "source": [
    "AAPL"
   ]
  },
  {
   "cell_type": "code",
   "execution_count": 37,
   "id": "8ca4528f",
   "metadata": {},
   "outputs": [
    {
     "data": {
      "text/html": [
       "<div>\n",
       "<style scoped>\n",
       "    .dataframe tbody tr th:only-of-type {\n",
       "        vertical-align: middle;\n",
       "    }\n",
       "\n",
       "    .dataframe tbody tr th {\n",
       "        vertical-align: top;\n",
       "    }\n",
       "\n",
       "    .dataframe thead th {\n",
       "        text-align: right;\n",
       "    }\n",
       "</style>\n",
       "<table border=\"1\" class=\"dataframe\">\n",
       "  <thead>\n",
       "    <tr style=\"text-align: right;\">\n",
       "      <th></th>\n",
       "      <th>구분</th>\n",
       "      <th>사고(건)</th>\n",
       "      <th>사망(명)</th>\n",
       "      <th>부상(명)</th>\n",
       "    </tr>\n",
       "  </thead>\n",
       "  <tbody>\n",
       "    <tr>\n",
       "      <th>0</th>\n",
       "      <td>2014년1월</td>\n",
       "      <td>169</td>\n",
       "      <td>7</td>\n",
       "      <td>347</td>\n",
       "    </tr>\n",
       "    <tr>\n",
       "      <th>1</th>\n",
       "      <td>2014년2월</td>\n",
       "      <td>145</td>\n",
       "      <td>3</td>\n",
       "      <td>268</td>\n",
       "    </tr>\n",
       "    <tr>\n",
       "      <th>2</th>\n",
       "      <td>2014년3월</td>\n",
       "      <td>206</td>\n",
       "      <td>12</td>\n",
       "      <td>358</td>\n",
       "    </tr>\n",
       "    <tr>\n",
       "      <th>3</th>\n",
       "      <td>2014년4월</td>\n",
       "      <td>182</td>\n",
       "      <td>4</td>\n",
       "      <td>360</td>\n",
       "    </tr>\n",
       "    <tr>\n",
       "      <th>4</th>\n",
       "      <td>2014년5월</td>\n",
       "      <td>218</td>\n",
       "      <td>17</td>\n",
       "      <td>474</td>\n",
       "    </tr>\n",
       "    <tr>\n",
       "      <th>5</th>\n",
       "      <td>2014년6월</td>\n",
       "      <td>233</td>\n",
       "      <td>13</td>\n",
       "      <td>457</td>\n",
       "    </tr>\n",
       "    <tr>\n",
       "      <th>6</th>\n",
       "      <td>2014년7월</td>\n",
       "      <td>229</td>\n",
       "      <td>14</td>\n",
       "      <td>431</td>\n",
       "    </tr>\n",
       "    <tr>\n",
       "      <th>7</th>\n",
       "      <td>2014년8월</td>\n",
       "      <td>222</td>\n",
       "      <td>9</td>\n",
       "      <td>447</td>\n",
       "    </tr>\n",
       "    <tr>\n",
       "      <th>8</th>\n",
       "      <td>2014년9월</td>\n",
       "      <td>225</td>\n",
       "      <td>15</td>\n",
       "      <td>430</td>\n",
       "    </tr>\n",
       "    <tr>\n",
       "      <th>9</th>\n",
       "      <td>2014년10월</td>\n",
       "      <td>210</td>\n",
       "      <td>14</td>\n",
       "      <td>392</td>\n",
       "    </tr>\n",
       "    <tr>\n",
       "      <th>10</th>\n",
       "      <td>2014년11월</td>\n",
       "      <td>209</td>\n",
       "      <td>10</td>\n",
       "      <td>386</td>\n",
       "    </tr>\n",
       "    <tr>\n",
       "      <th>11</th>\n",
       "      <td>2014년12월</td>\n",
       "      <td>178</td>\n",
       "      <td>12</td>\n",
       "      <td>329</td>\n",
       "    </tr>\n",
       "  </tbody>\n",
       "</table>\n",
       "</div>"
      ],
      "text/plain": [
       "          구분  사고(건)  사망(명)  부상(명)\n",
       "0    2014년1월    169      7    347\n",
       "1    2014년2월    145      3    268\n",
       "2    2014년3월    206     12    358\n",
       "3    2014년4월    182      4    360\n",
       "4    2014년5월    218     17    474\n",
       "5    2014년6월    233     13    457\n",
       "6    2014년7월    229     14    431\n",
       "7    2014년8월    222      9    447\n",
       "8    2014년9월    225     15    430\n",
       "9   2014년10월    210     14    392\n",
       "10  2014년11월    209     10    386\n",
       "11  2014년12월    178     12    329"
      ]
     },
     "execution_count": 37,
     "metadata": {},
     "output_type": "execute_result"
    }
   ],
   "source": [
    "globals()['2014']"
   ]
  },
  {
   "cell_type": "code",
   "execution_count": null,
   "id": "0fbe3342",
   "metadata": {},
   "outputs": [],
   "source": []
  }
 ],
 "metadata": {
  "kernelspec": {
   "display_name": "Python 3",
   "language": "python",
   "name": "python3"
  },
  "language_info": {
   "codemirror_mode": {
    "name": "ipython",
    "version": 3
   },
   "file_extension": ".py",
   "mimetype": "text/x-python",
   "name": "python",
   "nbconvert_exporter": "python",
   "pygments_lexer": "ipython3",
   "version": "3.11.1"
  }
 },
 "nbformat": 4,
 "nbformat_minor": 5
}
