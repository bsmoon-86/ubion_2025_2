{
 "cells": [
  {
   "cell_type": "code",
   "execution_count": null,
   "id": "3c69ec1f",
   "metadata": {},
   "outputs": [],
   "source": [
    "import os \n",
    "from glob import glob\n",
    "import pandas as pd"
   ]
  },
  {
   "cell_type": "code",
   "execution_count": null,
   "id": "e118b254",
   "metadata": {},
   "outputs": [],
   "source": [
    "# glob 함수를 이용하여  파일의 목록을 가지고 온다. \n",
    "print(os.listdir('../../csv/2021/'))\n",
    "# glob의 path는 경로와 어떠한 파일들을 가지고올것인가를 같이 작성\n",
    "print(glob(\"../../csv/2021/202101_expense_list.*\"))"
   ]
  },
  {
   "cell_type": "code",
   "execution_count": null,
   "id": "1bd01e44",
   "metadata": {},
   "outputs": [],
   "source": [
    "# glob 라이브러리를 이용하여 특정 경로에 있는 파일을 모두 로드 \n",
    "# 로드 한 파일들을 각각 변수에 대입 \n",
    "file_path = \"../../csv/num_3/\"\n",
    "\n",
    "# glob를 이용하여 파일의 목록을 불러온다. \n",
    "file_list = glob(file_path+'*.*')\n",
    "\n",
    "file_list"
   ]
  },
  {
   "cell_type": "code",
   "execution_count": null,
   "id": "21b983fa",
   "metadata": {},
   "outputs": [],
   "source": [
    "# file_list에서 파일 로드 \n",
    "# 확장자에 따라서 read_함수를 다르게 사용\n",
    "# 경로와 파일의 이름을 나눠주는 함수를 사용\n",
    "file = file_list[1]\n",
    "# os.path.split() 함수의 결과가 2개의 데이터를 되돌려주고\n",
    "# path라는 변수와 name이라는 변수에 데이터를 하나씩 대입\n",
    "path, name = os.path.split(file)\n",
    "# print(path)\n",
    "# print(name)\n",
    "# 파일의 풀네임에서 파일명과 확장자를 나눠주는 함수를 이용\n",
    "head, tail = os.path.splitext(name)"
   ]
  },
  {
   "cell_type": "code",
   "execution_count": null,
   "id": "2cbe419f",
   "metadata": {},
   "outputs": [],
   "source": [
    "if tail == '.csv':\n",
    "    df = pd.read_csv(file)\n",
    "elif tail == '.tsv':\n",
    "    df = pd.read_csv(file, sep='\\t')\n",
    "else:\n",
    "    print('지원하지 확장자')"
   ]
  },
  {
   "cell_type": "code",
   "execution_count": null,
   "id": "73d941d7",
   "metadata": {},
   "outputs": [],
   "source": [
    "df"
   ]
  },
  {
   "cell_type": "code",
   "execution_count": null,
   "id": "0d82c896",
   "metadata": {},
   "outputs": [],
   "source": [
    "# file_list 목록의 모든 파일을 로드해서 각각 전역변수에 대입\n",
    "# 비어있는 리스트를 생성해서 데이터프레임을 추가 -> 전역변수 하나 생성\n",
    "dfs = []\n",
    "for file in file_list:\n",
    "    # file을 경로와 이름으로 나눠준다. \n",
    "    path, name = os.path.split(file)\n",
    "    # name에서 파일의 이름과 확장자로 나눠준다. \n",
    "    head, tail = os.path.splitext(name)\n",
    "    # tail에 따라서 read_함수를 지정한다. \n",
    "    if tail == '.csv':\n",
    "        df = pd.read_csv(file)\n",
    "    elif tail == '.tsv':\n",
    "        df = pd.read_csv(file, sep='\\t')\n",
    "    elif tail == '.json':\n",
    "        df = pd.read_json(file)\n",
    "    elif tail == '.xml':\n",
    "        df = pd.read_xml(file)\n",
    "    elif tail in ['.xlsx', '.xls']:\n",
    "        df = pd.read_excel(file)\n",
    "    else:\n",
    "        print('지원하지 않는 확장자')\n",
    "        df = pd.DataFrame()\n",
    "    if len(df) > 0:\n",
    "        dfs.append(df)\n",
    "\n",
    "dfs"
   ]
  },
  {
   "cell_type": "code",
   "execution_count": null,
   "id": "2ba5e2d9",
   "metadata": {},
   "outputs": [],
   "source": [
    "dfs[4]"
   ]
  },
  {
   "cell_type": "code",
   "execution_count": null,
   "id": "6d13bcff",
   "metadata": {},
   "outputs": [],
   "source": [
    "# globals()에 key:value의 방법으로 전역변수를 추가 \n",
    "for file in file_list:\n",
    "    path, name = os.path.split(file)\n",
    "    head, tail = os.path.splitext(name)\n",
    "    # head의 값을 변수의 이름으로 사용용\n",
    "    if tail == '.csv':\n",
    "        df = pd.read_csv(file)\n",
    "    elif tail == '.tsv':\n",
    "        df = pd.read_csv(file, sep='\\t')\n",
    "    elif tail == '.json':\n",
    "        df = pd.read_json(file)\n",
    "    elif tail == '.xml':\n",
    "        df = pd.read_xml(file)\n",
    "    elif tail in ['.xlsx', '.xls']:\n",
    "        df = pd.read_excel(file)\n",
    "    else:\n",
    "        print('지원하지 않는 확장자')\n",
    "    # df의 복사본을 head 파일의 이름 변수에 대입 \n",
    "    # df가 존재하지 않는 else 구문이 존재 \n",
    "    # 시도를 하고 에러가 발생한다면? -> 예외처리\n",
    "    try:\n",
    "        globals()[head] = df.copy()\n",
    "    except:\n",
    "        print('df가 존재하지 않음')"
   ]
  },
  {
   "cell_type": "code",
   "execution_count": null,
   "id": "d62a309e",
   "metadata": {},
   "outputs": [],
   "source": [
    "class_master"
   ]
  },
  {
   "cell_type": "code",
   "execution_count": null,
   "id": "14ae754d",
   "metadata": {},
   "outputs": [],
   "source": [
    "campaign_master"
   ]
  },
  {
   "cell_type": "code",
   "execution_count": null,
   "id": "8fa516ad",
   "metadata": {},
   "outputs": [],
   "source": [
    "chipotle"
   ]
  },
  {
   "cell_type": "markdown",
   "id": "e2b87ff4",
   "metadata": {},
   "source": [
    "### 함수화 \n",
    "1. 함수의 이름 dir_load\n",
    "    - 매개변수 \n",
    "        - file_path -> 필수 항목(기본값이 X)\n",
    "        - file_tail -> 기본값(*.*)\n",
    "        - engign -> 기본값(utf-8)\n",
    "2. file_path와 file_tail를 이용하여 파일의 목록(file_list) 생성 \n",
    "3. 반복문을 이용하여 file_list를 반복한다. \n",
    "    - file의 경로와 파일 이름을 나눠준다. \n",
    "    - 파일의 이름에서 확장자 부분을 나눠준다. \n",
    "    - 확장자에 따라서 read_함수를 지정한다.\n",
    "    - read_함수의 결과를 파일의 이름을 가지고 전역변수로 생성 \n",
    "    - print()함수를 이용해서 만들어진 전역 변수가 무엇인지 출력해준다\n",
    "4. 리턴 데이터는 만들어진 전역변수의 개수를 되돌려준다. "
   ]
  }
 ],
 "metadata": {
  "kernelspec": {
   "display_name": "Python 3",
   "language": "python",
   "name": "python3"
  },
  "language_info": {
   "codemirror_mode": {
    "name": "ipython",
    "version": 3
   },
   "file_extension": ".py",
   "mimetype": "text/x-python",
   "name": "python",
   "nbconvert_exporter": "python",
   "pygments_lexer": "ipython3",
   "version": "3.11.1"
  }
 },
 "nbformat": 4,
 "nbformat_minor": 5
}
