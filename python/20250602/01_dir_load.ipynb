{
 "cells": [
  {
   "cell_type": "code",
   "execution_count": null,
   "id": "3c69ec1f",
   "metadata": {},
   "outputs": [],
   "source": [
    "import os \n",
    "from glob import glob\n",
    "import pandas as pd"
   ]
  },
  {
   "cell_type": "code",
   "execution_count": null,
   "id": "e118b254",
   "metadata": {},
   "outputs": [],
   "source": [
    "# glob 함수를 이용하여  파일의 목록을 가지고 온다. \n",
    "print(os.listdir('../../csv/2021/'))\n",
    "# glob의 path는 경로와 어떠한 파일들을 가지고올것인가를 같이 작성\n",
    "print(glob(\"../../csv/2021/202101_expense_list.*\"))"
   ]
  },
  {
   "cell_type": "code",
   "execution_count": null,
   "id": "1bd01e44",
   "metadata": {},
   "outputs": [],
   "source": [
    "# glob 라이브러리를 이용하여 특정 경로에 있는 파일을 모두 로드 \n",
    "# 로드 한 파일들을 각각 변수에 대입 \n",
    "file_path = \"../../csv/num_3/\"\n",
    "\n",
    "# glob를 이용하여 파일의 목록을 불러온다. \n",
    "file_list = glob(file_path+'*.*')\n",
    "\n",
    "file_list"
   ]
  },
  {
   "cell_type": "code",
   "execution_count": null,
   "id": "21b983fa",
   "metadata": {},
   "outputs": [],
   "source": [
    "# file_list에서 파일 로드 \n",
    "# 확장자에 따라서 read_함수를 다르게 사용\n",
    "# 경로와 파일의 이름을 나눠주는 함수를 사용\n",
    "file = file_list[1]\n",
    "# os.path.split() 함수의 결과가 2개의 데이터를 되돌려주고\n",
    "# path라는 변수와 name이라는 변수에 데이터를 하나씩 대입\n",
    "path, name = os.path.split(file)\n",
    "# print(path)\n",
    "# print(name)\n",
    "# 파일의 풀네임에서 파일명과 확장자를 나눠주는 함수를 이용\n",
    "head, tail = os.path.splitext(name)"
   ]
  },
  {
   "cell_type": "code",
   "execution_count": null,
   "id": "2cbe419f",
   "metadata": {},
   "outputs": [],
   "source": [
    "if tail == '.csv':\n",
    "    df = pd.read_csv(file)\n",
    "elif tail == '.tsv':\n",
    "    df = pd.read_csv(file, sep='\\t')\n",
    "else:\n",
    "    print('지원하지 확장자')"
   ]
  },
  {
   "cell_type": "code",
   "execution_count": null,
   "id": "73d941d7",
   "metadata": {},
   "outputs": [],
   "source": [
    "df"
   ]
  },
  {
   "cell_type": "code",
   "execution_count": null,
   "id": "0d82c896",
   "metadata": {},
   "outputs": [],
   "source": [
    "# file_list 목록의 모든 파일을 로드해서 각각 전역변수에 대입\n",
    "# 비어있는 리스트를 생성해서 데이터프레임을 추가 -> 전역변수 하나 생성\n",
    "dfs = []\n",
    "for file in file_list:\n",
    "    # file을 경로와 이름으로 나눠준다. \n",
    "    path, name = os.path.split(file)\n",
    "    # name에서 파일의 이름과 확장자로 나눠준다. \n",
    "    head, tail = os.path.splitext(name)\n",
    "    # tail에 따라서 read_함수를 지정한다. \n",
    "    if tail == '.csv':\n",
    "        df = pd.read_csv(file)\n",
    "    elif tail == '.tsv':\n",
    "        df = pd.read_csv(file, sep='\\t')\n",
    "    elif tail == '.json':\n",
    "        df = pd.read_json(file)\n",
    "    elif tail == '.xml':\n",
    "        df = pd.read_xml(file)\n",
    "    elif tail in ['.xlsx', '.xls']:\n",
    "        df = pd.read_excel(file)\n",
    "    else:\n",
    "        print('지원하지 않는 확장자')\n",
    "        df = pd.DataFrame()\n",
    "    if len(df) > 0:\n",
    "        dfs.append(df)\n",
    "\n",
    "dfs"
   ]
  },
  {
   "cell_type": "code",
   "execution_count": null,
   "id": "2ba5e2d9",
   "metadata": {},
   "outputs": [],
   "source": [
    "dfs[4]"
   ]
  },
  {
   "cell_type": "code",
   "execution_count": null,
   "id": "6d13bcff",
   "metadata": {},
   "outputs": [],
   "source": [
    "# globals()에 key:value의 방법으로 전역변수를 추가 \n",
    "for file in file_list:\n",
    "    path, name = os.path.split(file)\n",
    "    head, tail = os.path.splitext(name)\n",
    "    # head의 값을 변수의 이름으로 사용용\n",
    "    if tail == '.csv':\n",
    "        df = pd.read_csv(file)\n",
    "    elif tail == '.tsv':\n",
    "        df = pd.read_csv(file, sep='\\t')\n",
    "    elif tail == '.json':\n",
    "        df = pd.read_json(file)\n",
    "    elif tail == '.xml':\n",
    "        df = pd.read_xml(file)\n",
    "    elif tail in ['.xlsx', '.xls']:\n",
    "        df = pd.read_excel(file)\n",
    "    else:\n",
    "        print('지원하지 않는 확장자')\n",
    "    # df의 복사본을 head 파일의 이름 변수에 대입 \n",
    "    # df가 존재하지 않는 else 구문이 존재 \n",
    "    # 시도를 하고 에러가 발생한다면? -> 예외처리\n",
    "    try:\n",
    "        globals()[head] = df.copy()\n",
    "    except:\n",
    "        print('df가 존재하지 않음')"
   ]
  },
  {
   "cell_type": "code",
   "execution_count": null,
   "id": "d62a309e",
   "metadata": {},
   "outputs": [],
   "source": [
    "class_master"
   ]
  },
  {
   "cell_type": "code",
   "execution_count": null,
   "id": "14ae754d",
   "metadata": {},
   "outputs": [],
   "source": [
    "campaign_master"
   ]
  },
  {
   "cell_type": "code",
   "execution_count": null,
   "id": "8fa516ad",
   "metadata": {},
   "outputs": [],
   "source": [
    "chipotle"
   ]
  },
  {
   "cell_type": "markdown",
   "id": "e2b87ff4",
   "metadata": {},
   "source": [
    "### 함수화 \n",
    "1. 함수의 이름 dir_load\n",
    "    - 매개변수 \n",
    "        - file_path -> 필수 항목(기본값이 X)\n",
    "        - file_tail -> 기본값(*.*)\n",
    "        - engine -> 기본값(utf-8)\n",
    "2. file_path와 file_tail를 이용하여 파일의 목록(file_list) 생성 \n",
    "3. 반복문을 이용하여 file_list를 반복한다. \n",
    "    - file의 경로와 파일 이름을 나눠준다. \n",
    "    - 파일의 이름에서 확장자 부분을 나눠준다. \n",
    "    - 확장자에 따라서 read_함수를 지정한다.\n",
    "    - read_함수의 결과를 파일의 이름을 가지고 전역변수로 생성 \n",
    "    - print()함수를 이용해서 만들어진 전역 변수가 무엇인지 출력해준다\n",
    "4. 리턴 데이터는 만들어진 전역변수의 개수를 되돌려준다. "
   ]
  },
  {
   "cell_type": "code",
   "execution_count": null,
   "id": "188390db",
   "metadata": {},
   "outputs": [],
   "source": [
    "def dir_load( file_path, file_tail = '*.*', engine = 'cp949'):\n",
    "    # file_path와 file_tail 입력이 되는 \n",
    "    # 인자값을 이용하여 파일의 목록을 생성\n",
    "    # file_path = \"../../csv/num_3/*.*\"\n",
    "    # file_path 매개변수 -> ../../csv/num_3, ../../csv/num_3/\n",
    "    # file_tail -> csv -> \"*.\" + file_tail -> *.csv\n",
    "    # 만약에 file_tail이 *.*이 아니라면(같지 않다)?\n",
    "    if file_tail != '*.*':\n",
    "        file_tail = \"*.\" + file_tail\n",
    "    # glob()를 이용하여 파일의 목록을 로드 \n",
    "    file_list = glob(file_path + '/' + file_tail)\n",
    "\n",
    "    # 반복문이 몇번 반복했는가를 알기 위해 숫자 0을 변수에 저장\n",
    "    cnt = 0\n",
    "    for file in file_list:\n",
    "        # file를 경로와 파일의 이름으로 나눠준다. \n",
    "        path, name = os.path.split(file)\n",
    "        # name = os.path.split(file)[1]\n",
    "        # name에서 이름과 확장자로 나눠준다. \n",
    "        head, tail = os.path.splitext(name)\n",
    "        # head -> 전역변수의 이름 \n",
    "        # tail -> 확장자로 read함수를 지정하기 위해 사용\n",
    "        if tail == '.csv':\n",
    "            # globals()[head] = pd.read_csv(file, encoding = engine)\n",
    "            try:\n",
    "                df = pd.read_csv(file, encoding='utf-8')\n",
    "            except:\n",
    "                df = pd.read_csv(file, encoding=engine)\n",
    "        elif tail == '.tsv':\n",
    "            try:\n",
    "                df = pd.read_csv(file, sep='\\t')\n",
    "            except:\n",
    "                df = pd.read_csv(file, sep='\\t', encoding=engine)\n",
    "        elif tail == '.json':\n",
    "            try:\n",
    "                df = pd.read_json(file)\n",
    "            except:\n",
    "                df = pd.read_json(file, encoding=engine)\n",
    "        elif tail == '.xml':\n",
    "            try:\n",
    "                df = pd.read_xml(file)\n",
    "            except:\n",
    "                df = pd.read_xml(file, encoding=engine)\n",
    "        elif tail in ['.xlsx', '.xls']:\n",
    "            df = pd.read_excel(file)\n",
    "        try : \n",
    "            # head를 이용하여 전역변수를 생성하고 df의 복사본을 대입\n",
    "            globals()[head] = df.copy()\n",
    "            # 전역변수가 생성이 되었기 때문에 cnt를 1 증가시킨다. \n",
    "            cnt += 1\n",
    "            # 전역변수가 생성되었다는것을 print()를 이용하여 출력 \n",
    "            print(f\"{cnt}번째 전역 변수가 생성 : {head}\")\n",
    "        except:\n",
    "            print(f\"{tail} 확장자는 지원하기 않은 확장자입니다.\")\n",
    "    # 함수를 종료하기 위해 전역변수가 생성된 횟수인 cnt 되돌려준다. \n",
    "    return cnt\n",
    "    "
   ]
  },
  {
   "cell_type": "code",
   "execution_count": null,
   "id": "13cf96d4",
   "metadata": {},
   "outputs": [],
   "source": [
    "# \"../../csv/num_3\"를 인자로 사용하여 함수를 테스트\n",
    "dir_load('../../csv/num_3')"
   ]
  },
  {
   "cell_type": "code",
   "execution_count": null,
   "id": "e9d1ca47",
   "metadata": {},
   "outputs": [],
   "source": [
    "dir_load('../../csv')"
   ]
  },
  {
   "cell_type": "code",
   "execution_count": null,
   "id": "c061684b",
   "metadata": {},
   "outputs": [],
   "source": [
    "AAPL"
   ]
  },
  {
   "cell_type": "code",
   "execution_count": null,
   "id": "8ca4528f",
   "metadata": {},
   "outputs": [],
   "source": [
    "globals()['2014']"
   ]
  },
  {
   "cell_type": "code",
   "execution_count": null,
   "id": "0fbe3342",
   "metadata": {},
   "outputs": [],
   "source": [
    "# 모듈 로드 \n",
    "import data_load"
   ]
  },
  {
   "cell_type": "code",
   "execution_count": null,
   "id": "bb3f6db5",
   "metadata": {},
   "outputs": [],
   "source": [
    "# data_load라는 모듈에는 3개의 함수가 존재 \n",
    "# dir_load()함수를 호출하여 확인 \n",
    "data_load.dir_load(\"../../csv/num_3\")\n",
    "# num_3 폴더에 있는 파일을 모두 로드해서 전역변수로 생성"
   ]
  },
  {
   "cell_type": "code",
   "execution_count": null,
   "id": "08c1fb84",
   "metadata": {},
   "outputs": [],
   "source": [
    "data_load.dir_load(\"../../csv/2021\", file_tail='csv', selected=1)\n",
    "# 2021폴더에서  csv 확장자만 따로 뽑아서 로드한 뒤 하나의 데이터프레임으로 결합"
   ]
  },
  {
   "cell_type": "code",
   "execution_count": null,
   "id": "3f1e58dc",
   "metadata": {},
   "outputs": [],
   "source": [
    "!pip install flask"
   ]
  }
 ],
 "metadata": {
  "kernelspec": {
   "display_name": "Python 3",
   "language": "python",
   "name": "python3"
  },
  "language_info": {
   "codemirror_mode": {
    "name": "ipython",
    "version": 3
   },
   "file_extension": ".py",
   "mimetype": "text/x-python",
   "name": "python",
   "nbconvert_exporter": "python",
   "pygments_lexer": "ipython3",
   "version": "3.11.1"
  }
 },
 "nbformat": 4,
 "nbformat_minor": 5
}
