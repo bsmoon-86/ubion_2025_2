{
 "cells": [
  {
   "cell_type": "markdown",
   "id": "e2d4a4df",
   "metadata": {},
   "source": [
    "# 변수 \n",
    "- 데이터를 저장하는 공간의 이름 (라벨링)\n",
    "    - 데이터의 타입\n",
    "        - 단일 데이터의 타입 \n",
    "            - 문자형\n",
    "            - 숫자형\n",
    "            - bool형\n",
    "        - n차원 데이터 \n",
    "            - 튜플 \n",
    "            - 리스트\n",
    "            - 딕셔너리 \n",
    "- 변수의 종류\n",
    "    - 전역 변수 \n",
    "        - 어디서든 사용이 가능한 변수 \n",
    "    - 지역 변수 \n",
    "        - 특정 영역에서만 사용이 가능한 변수 \n",
    "        - 함수 내부에서 생성된 변수, 매개변수\n",
    "    - 매개 변수 \n",
    "        - 함수를 생성할때 입력 값(인자)를 받아오기 위해서 미리 만들어두는 공간의 이름 \n",
    "        - 기본 값을 지정 하면 인자를 따로 받지 않더라도 실행이 가능\n",
    "        - 인자의 개수가 가변인 경우에는 매개변수명 앞에 *를 붙여서 변수를 생성 \n",
    "        - 함수를 호출 할때 리스트의 형태의 데이터를 가변의 인자로 변경 할때 데이터 앞에 *을 붙이면 인자가 가변인 형태로 함수 실행\n",
    "    - self 변수 \n",
    "        - 클래스 내부에서 사용이 가능한 변수(독립적인 변수)\n",
    "            -  독립적인 변수의 의미는?\n",
    "                - 같은 클래스를 여러 군데에서 사용을 하더라고 각각의 독립적인 데이터를 가진다.\n",
    "        - 클래스 내부에서 self.변수명을 이용해서 생성\n",
    "    - 클래스 변수 \n",
    "        - 동일한 클래스를 생성했을 때 공유가 가능한 변수 \n",
    "        - 클래스 내부에서 self. 붙이지 않은 변수 \n",
    "        - 클래스 변수의 데이터를 변경하려면 class명.변수명으로 변수를 선택하여 데이터를 변경 \n",
    "        \n"
   ]
  },
  {
   "cell_type": "code",
   "execution_count": null,
   "id": "a05644fe",
   "metadata": {},
   "outputs": [],
   "source": [
    "# 전역 변수 생성 \n",
    "var_1 = 'test'\n",
    "print(var_1)"
   ]
  },
  {
   "cell_type": "code",
   "execution_count": null,
   "id": "e54141e1",
   "metadata": {},
   "outputs": [],
   "source": [
    "# 지역 변수 생성 \n",
    "def func_1():\n",
    "    var_2 = 1234\n",
    "    # 지역 변수를 함수 내부에서 호출\n",
    "    print(var_2)"
   ]
  },
  {
   "cell_type": "code",
   "execution_count": null,
   "id": "3181539e",
   "metadata": {},
   "outputs": [],
   "source": [
    "func_1()"
   ]
  },
  {
   "cell_type": "code",
   "execution_count": null,
   "id": "ed85d80a",
   "metadata": {},
   "outputs": [],
   "source": [
    "# 지역변수를 함수 외부에서 호출 -> 에러가 발생 -> \n",
    "# 지역 변수는 해당 함수의 호출이 끝나면 메모리에서 제거\n",
    "# 이유는? -> 메모리를 효율적으로 사용하기 위함\n",
    "# print(var_2)"
   ]
  },
  {
   "cell_type": "code",
   "execution_count": null,
   "id": "11dbbb0d",
   "metadata": {},
   "outputs": [],
   "source": [
    "# 함수의 매개변수 생성 \n",
    "def func_2(_x, _y):\n",
    "    # 매개변수 2개 -> 함수를 호출할때 입력 값을 받아서 결과를 생성하기 위함\n",
    "    result = _x + _y \n",
    "    # result -> 함수에서 생성한 변수 : 지역변수\n",
    "    return result\n",
    "# return의 역할은? -> 데이터의 되돌려주는 기능 \n",
    "# 함수의 결과를 저장하기 위함"
   ]
  },
  {
   "cell_type": "code",
   "execution_count": null,
   "id": "119df743",
   "metadata": {},
   "outputs": [],
   "source": [
    "# 함수 호출시 매개변수의 개수와 인자의 개수를 일치 : 일반적인 경우\n",
    "func_2(10, 5)"
   ]
  },
  {
   "cell_type": "code",
   "execution_count": null,
   "id": "7f93a68b",
   "metadata": {},
   "outputs": [],
   "source": [
    "# return 이 있는 함수와 없는 함수의 차이 \n",
    "func_1_result = func_1()\n",
    "func_2_result = func_2(1, 3)"
   ]
  },
  {
   "cell_type": "code",
   "execution_count": null,
   "id": "1f176189",
   "metadata": {},
   "outputs": [],
   "source": [
    "print(func_1_result)    \n",
    "# return 데이터가 존재하지 않는 함수를 호출했기 때문에 변수에 \n",
    "# 저장되는 데이터가 없다\n",
    "print(func_2_result)\n",
    "# return 데이터가 존재한다면 변수에 해당 데이터가 저장 "
   ]
  },
  {
   "cell_type": "code",
   "execution_count": null,
   "id": "8e7d9276",
   "metadata": {},
   "outputs": [],
   "source": [
    "# 전역 변수 생성 방법 -> globals()를 이용해서 전역 변수 생성 \n",
    "# 이 방법은 반복문을 이용해서 반복 실행이 될때 마다 전역 변수를 생성할때 사용\n",
    "# globals() -> 데이터의 타입은 dict\n",
    "    # 특정 변수 이름을 추가할때는 dict에 key:value를 추가하는것과 같이 사용\n",
    "for i in range(5):\n",
    "    # 전역 변수를 생성하여 i의 값을 전역변수에 대입 \n",
    "    globals()[f\"for_var_{i}\"] = i"
   ]
  },
  {
   "cell_type": "code",
   "execution_count": null,
   "id": "644ffde9",
   "metadata": {},
   "outputs": [],
   "source": [
    "for_var_0"
   ]
  },
  {
   "cell_type": "code",
   "execution_count": null,
   "id": "de8d8daf",
   "metadata": {},
   "outputs": [],
   "source": [
    "for_var_3"
   ]
  },
  {
   "cell_type": "markdown",
   "id": "26e5bc4e",
   "metadata": {},
   "source": [
    "# 제어문 \n",
    "    - 조건문 \n",
    "        - if ~ else문\n",
    "            - if 조건식: 참인 경우 코드\n",
    "            - else : 거짓인 경우 코드\n",
    "    - 반복문 \n",
    "        - for문 \n",
    "            - for 변수명 in range(시작값, 종료값, 증감값)\n",
    "            - for 변수명 in n차원 데이터명\n",
    "        - while문 \n",
    "            - while 조건식 : 반복실행한 코드 \\n 증감식\n",
    "        - continue  \n",
    "            - 반복문으로 되돌아간다. \n",
    "            - continue  밑의 코드들을 무시\n",
    "        - break\n",
    "            - 반복문을 강제로 종료"
   ]
  },
  {
   "cell_type": "markdown",
   "id": "0175fe82",
   "metadata": {},
   "source": [
    "# 경로 \n",
    "- 절대 경로\n",
    "    - 절대적인 주소 값\n",
    "    - 환경이 변하더라도 같은 위치를 의미\n",
    "        - ex)\n",
    "            - window : c:/users/admin/document/a.txt\n",
    "            - mac : ~/user/user_name/Desktop/a.txt\n",
    "            - web : https://www.google.com\n",
    "- 상대 경로\n",
    "    - 상대적인 주소 값 \n",
    "    - 환경이 변할때 위치도 변한다. \n",
    "        - ./ : 현재 작업중인 공간\n",
    "        - ../ : 상위 디렉토리 이동\n",
    "        - 폴더명/ : 하위 디렉토리 이동"
   ]
  },
  {
   "cell_type": "code",
   "execution_count": 5,
   "id": "6ed2526e",
   "metadata": {},
   "outputs": [
    {
     "ename": "ModuleNotFoundError",
     "evalue": "No module named 'pandas'",
     "output_type": "error",
     "traceback": [
      "\u001b[31m---------------------------------------------------------------------------\u001b[39m",
      "\u001b[31mModuleNotFoundError\u001b[39m                       Traceback (most recent call last)",
      "\u001b[36mCell\u001b[39m\u001b[36m \u001b[39m\u001b[32mIn[5]\u001b[39m\u001b[32m, line 1\u001b[39m\n\u001b[32m----> \u001b[39m\u001b[32m1\u001b[39m \u001b[38;5;28;01mimport\u001b[39;00m\u001b[38;5;250m \u001b[39m\u001b[34;01mpandas\u001b[39;00m\u001b[38;5;250m \u001b[39m\u001b[38;5;28;01mas\u001b[39;00m\u001b[38;5;250m \u001b[39m\u001b[34;01mpd\u001b[39;00m\n",
      "\u001b[31mModuleNotFoundError\u001b[39m: No module named 'pandas'"
     ]
    }
   ],
   "source": [
    "import pandas as pd"
   ]
  },
  {
   "cell_type": "code",
   "execution_count": null,
   "id": "95989f82",
   "metadata": {},
   "outputs": [],
   "source": [
    "# 절대 경로를 이용해서 파일 로드 \n",
    "df = pd.read_csv(r\"C:\\ubion_2025_2\\csv\\AAPL.csv\")"
   ]
  },
  {
   "cell_type": "code",
   "execution_count": null,
   "id": "b600f806",
   "metadata": {},
   "outputs": [],
   "source": [
    "# 상대 경로 이용해서 파일 로드 \n",
    "df2 = pd.read_csv(\"../../csv/AAPL.csv\")"
   ]
  },
  {
   "cell_type": "markdown",
   "id": "a0c585ba",
   "metadata": {},
   "source": [
    "# 함수\n",
    "- 행동 -> 음식 레시피\n",
    "- 반복적으로 사용하는 코드를 하나로 묶어서 함수로 표현 \n",
    "- 코드 라인의 수를 줄이고 가독성이 올라가고 오류가 발생할 확률을 줄인다. \n",
    "- def 키워드를 이용해서 함수를 생성 "
   ]
  },
  {
   "cell_type": "markdown",
   "id": "472a1bd6",
   "metadata": {},
   "source": [
    "# class \n",
    "- 변수 + 함수의 모음 \n",
    "- 독립적인 데이터(self 변수)들을 미리 변수에 저장하고 해당하는 데이터를 함수를 이용해서 데이터의 변경을 시켜주는 작업 \n",
    "- 상속이라는 개념이 존재\n",
    "    - 다른 class의 기능들을 해당 class에서 가지고 와서 사용하기 위함\n",
    "- class의 이름은 일반적으로 단어의 첫글자를 대문자로 생성"
   ]
  },
  {
   "cell_type": "code",
   "execution_count": 2,
   "id": "9dc75142",
   "metadata": {},
   "outputs": [],
   "source": [
    "class Test_Class:\n",
    "    # 생성자 함수 : class가 생성될때 최초로 한번 호출이 되는 함수 \n",
    "    def __init__(self, _x, _y):\n",
    "        # 독립 변수들을 생성할때 주로 사용\n",
    "        # self의 의미는? -> 자기 자신 -> class가 생성된 위치를 의미\n",
    "        self.x = _x\n",
    "        self.y = _y\n",
    "    def add(self):\n",
    "        result = self.x + self.y\n",
    "        return result\n",
    "    def sub(self):\n",
    "        result = self.x - self.y\n",
    "        return result"
   ]
  },
  {
   "cell_type": "code",
   "execution_count": 3,
   "id": "98cc9db6",
   "metadata": {},
   "outputs": [],
   "source": [
    "class_1 = Test_Class(10, 5)\n",
    "class_2 = Test_Class(20, 9)"
   ]
  },
  {
   "cell_type": "code",
   "execution_count": 4,
   "id": "b661bb2e",
   "metadata": {},
   "outputs": [
    {
     "data": {
      "text/plain": [
       "15"
      ]
     },
     "execution_count": 4,
     "metadata": {},
     "output_type": "execute_result"
    }
   ],
   "source": [
    "class_1.add()"
   ]
  },
  {
   "cell_type": "code",
   "execution_count": null,
   "id": "230cfd42",
   "metadata": {},
   "outputs": [],
   "source": [
    "class_2.add()"
   ]
  },
  {
   "cell_type": "code",
   "execution_count": null,
   "id": "567d0e2d",
   "metadata": {},
   "outputs": [],
   "source": [
    "class_1.sub()"
   ]
  },
  {
   "cell_type": "code",
   "execution_count": null,
   "id": "7ea4ea70",
   "metadata": {},
   "outputs": [],
   "source": [
    "class_2.sub()"
   ]
  },
  {
   "cell_type": "markdown",
   "id": "aa364faa",
   "metadata": {},
   "source": [
    "# pandas\n",
    "- 외부의 데이터를 로드 함수\n",
    "    - read_xxxx(경로, encoding = 'utf-8', index_col = 인덱스로 사용할 컬럼)\n",
    "        - encoding : 데이터에서 한글이 존재하는 경우 종종 utf-8로 로드가 불가능할때 'cp949', 'euc-kr'로 변경해서 로드 \n",
    "        - 파일의 경로 : 절대 경로(read_html 함수 이용시)나 상대 경로 사용 가능\n",
    "- Series class\n",
    "    - 1차원 데이터의 형태 \n",
    "    - Series에는 적어도 2개 변수가 존재 (index, values)\n",
    "- DataFrame class\n",
    "    - 2차원 데이터의 형태 \n",
    "    - DataFrame에는 적어도 3개의 변수가 존재 (index, columns, values)\n",
    "    - Series 데이터들이 모인 2차원 데이터의 형태 \n",
    "- info()\n",
    "    - DataFrame의 정보를 출력하는 함수\n",
    "    - 데이터의 크기를 확인하고 결측치의 존재 유무를 판단하고 컬럼들이 어떻게 구성되어있는가\n",
    "- describe()\n",
    "    - 통계요약정보를 출력하는 함수 \n",
    "    - 각 컬럼별 수치형 데이터에서 통계량을 출력해주는 함수 \n",
    "    - 이상치의 존재 유무를 간단하게 파악\n",
    "- rename()\n",
    "    - 이름을 재지정하는 함수 \n",
    "    - 인덱스의 값을 변경하거나 컬럼의 값을 변경하는 함수 \n",
    "    - 일반적으로 특정 컬럼의 이름을 변경할때 사용 \n",
    "    - 전체 컬럼의 이름을 변경할때는 rename()함수를 이용해도 되지만 DataFrame의 columns 변수의 데이터를 변경 \n",
    "- shift(n)\n",
    "    - 인덱스를 n만큼 이동시켜주는 함수 \n",
    "    - 전날의 데이터를 확인하거나 전월의 데이터를 확인하여 비교\n",
    "- diff(n)\n",
    "    - 인덱스를 n만큼 이동한 데이터와의 차이를 구하는 함수 \n",
    "- isna()\n",
    "    - 데이터프레임에서 결측치의 존재 유무를 판단하는 함수 \n",
    "    - 결과 값의 타입이 bool\n",
    "- isin(1차원데이터)\n",
    "    - 1차원 데이터의 포함 여부를 판단하는 함수 \n",
    "    - 결과 값의 타입이 bool\n",
    "- fillna()\n",
    "    - 결측치를 다른 값으로 대체하는 함수 \n",
    "    - 특정 데이터를 인자로 사용하면 해당 데이터로 결측치가 대체\n",
    "    - method 매개변수를 이용해서 ffill은 전 행의 데이터로 대체하고  bfill 후 행의 데이터로 대체\n",
    "- groupby()\n",
    "    - 특정 컬럼의 데이터들을 같은 값들끼리 그룹화하여 나눠주는 함수 \n",
    "    - 연산 함수를 추가하여 그룹화 된 데이터프레임들을 결합하여 보여줄수 있다. \n",
    "    - set_group()함수를 이용하여 그룹화된 특정 데이터프레임을 호출 가능\n",
    "- pivot_table()\n",
    "    - 테이블을 재구조화 하는 함수 \n",
    "    - 데이터프레임에서 인덱스, 컬럼, value, 연산식을 지정하여 테이블의 구조를 변경하는 함수 \n",
    "- select_dtype()\n",
    "    - 컬럼들의 목록중에서는 특정 dtype의 컬럼들의 데이터를 추출하기 위한 함수\n",
    "- 데이터프레임 결합 함수 \n",
    "    - 유니언 결합(단순한 결합)\n",
    "        - concat()\n",
    "            - 첫번째 인자 : 1차원 형태의 데이터(Series이거나 DataFrame)들의 목록\n",
    "            - axis : 행으로 결합할것인가 열로 결합할것인가\n",
    "            - ignore_index : 결합되는 기준을 초기화 시킬것인가?\n",
    "            - pandas에 내장된 함수\n",
    "    - 조인 결합 (조건에 맞춰서 열을 결합)\n",
    "        - merge()\n",
    "            - 특정한 조건에 맞게 열을 결합해주는 함수 \n",
    "                - 2개의 데이터프레임이 결합\n",
    "            - on : 조건 (컬럼의 이름)\n",
    "                - left_on, right_on을 이용해서 두개의 데이터프레임에서 컬럼이 이름이 다른 경우 사용\n",
    "            - how : 조인 결합의 방식 (inner, left, right, outer)\n",
    "            - 3개 이상의 데이터프레임을 조인 결합 하려면?\n",
    "                - merge()함수를 중복해서 사용"
   ]
  },
  {
   "cell_type": "code",
   "execution_count": 1,
   "id": "502d7f85",
   "metadata": {},
   "outputs": [
    {
     "name": "stdout",
     "output_type": "stream",
     "text": [
      "Package                 Version\n",
      "----------------------- -----------\n",
      "asttokens               3.0.0\n",
      "colorama                0.4.6\n",
      "comm                    0.2.2\n",
      "debugpy                 1.8.14\n",
      "decorator               5.2.1\n",
      "executing               2.2.0\n",
      "ipykernel               6.29.5\n",
      "ipython                 9.3.0\n",
      "ipython_pygments_lexers 1.1.1\n",
      "jedi                    0.19.2\n",
      "jupyter_client          8.6.3\n",
      "jupyter_core            5.8.1\n",
      "matplotlib-inline       0.1.7\n",
      "nest-asyncio            1.6.0\n",
      "packaging               25.0\n",
      "parso                   0.8.4\n",
      "pip                     25.1.1\n",
      "platformdirs            4.3.8\n",
      "prompt_toolkit          3.0.51\n",
      "psutil                  7.0.0\n",
      "pure_eval               0.2.3\n",
      "Pygments                2.19.2\n",
      "python-dateutil         2.9.0.post0\n",
      "pywin32                 310\n",
      "pyzmq                   27.0.0\n",
      "setuptools              65.5.0\n",
      "six                     1.17.0\n",
      "stack-data              0.6.3\n",
      "tornado                 6.5.1\n",
      "traitlets               5.14.3\n",
      "typing_extensions       4.14.0\n",
      "wcwidth                 0.2.13\n",
      "Note: you may need to restart the kernel to use updated packages.\n"
     ]
    }
   ],
   "source": [
    "pip list"
   ]
  },
  {
   "cell_type": "code",
   "execution_count": null,
   "id": "cdbd7474",
   "metadata": {},
   "outputs": [],
   "source": []
  }
 ],
 "metadata": {
  "kernelspec": {
   "display_name": ".venv",
   "language": "python",
   "name": "python3"
  },
  "language_info": {
   "codemirror_mode": {
    "name": "ipython",
    "version": 3
   },
   "file_extension": ".py",
   "mimetype": "text/x-python",
   "name": "python",
   "nbconvert_exporter": "python",
   "pygments_lexer": "ipython3",
   "version": "3.11.1"
  }
 },
 "nbformat": 4,
 "nbformat_minor": 5
}
