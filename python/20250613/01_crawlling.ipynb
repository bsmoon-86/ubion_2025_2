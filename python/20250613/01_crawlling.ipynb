{
 "cells": [
  {
   "cell_type": "code",
   "execution_count": null,
   "id": "5f2c002d",
   "metadata": {},
   "outputs": [],
   "source": [
    "import pandas as pd \n",
    "from bs4 import BeautifulSoup as bs\n",
    "from selenium import webdriver\n",
    "from selenium.webdriver.common.by import By\n",
    "from selenium.webdriver.common.keys import Keys"
   ]
  },
  {
   "cell_type": "markdown",
   "id": "2a520d5d",
   "metadata": {},
   "source": [
    "1. webdriver를 오픈해서 'https://dart.fss.or.kr/' 요청을 보낸다. \n",
    "2. id가 'textCrpNm2' 태그를 선택 \n",
    "3. 특정 입력값을 보낸다 (send_key()) -> ENTER 이벤트 발생\n",
    "4. 해당 페이지는 table태그가 1개 존재 \n",
    "    - 해당 페이지의 html 소스코드를 문자화\n",
    "    - pandas 에 있는 read_html() 함수에 인자로 사용\n",
    "    - read_html() 결과에서 첫번째 데이터프레임을 변수에 저장\n",
    "5. 페이지 소스 코드를 BeautifulSoup으로 파싱\n",
    "6. tbody 태그 중 id가 'tbody'인 태그를 선택 \n",
    "7. tr 태그 들을 모두 검색한다. \n",
    "8. 각각 tr 태그에서 a태그를 모두 검색하고 두번째 a태그의 href 속성의 값을 추출\n",
    "9. base_url과 href 속성의 값을 더해서 새로운 리스트에 추가 \n",
    "10. read_html() 함수를 사용해서 나온 데이터프레임에 열 결합"
   ]
  },
  {
   "cell_type": "code",
   "execution_count": null,
   "id": "f386c47a",
   "metadata": {},
   "outputs": [],
   "source": [
    "# 기본 주소를 변수에 대입\n",
    "base_url = 'https://dart.fss.or.kr'"
   ]
  },
  {
   "cell_type": "code",
   "execution_count": null,
   "id": "34de15c9",
   "metadata": {},
   "outputs": [],
   "source": [
    "# 웹 브라우저 오픈\n",
    "driver = webdriver.Chrome()"
   ]
  },
  {
   "cell_type": "code",
   "execution_count": null,
   "id": "a6c22b4b",
   "metadata": {},
   "outputs": [],
   "source": [
    "# 웹 브라우저에 특정 주소를 입력\n",
    "driver.get(base_url)"
   ]
  },
  {
   "cell_type": "code",
   "execution_count": null,
   "id": "de88d1e2",
   "metadata": {},
   "outputs": [],
   "source": [
    "# id가 textCrpNm2 인 태그를 선택 \n",
    "input_tag = driver.find_element( By.ID, 'textCrpNm2' )"
   ]
  },
  {
   "cell_type": "code",
   "execution_count": null,
   "id": "bc6c4b32",
   "metadata": {},
   "outputs": [],
   "source": [
    "# input_tag에 특정 데이터를 입력 \n",
    "input_tag.send_keys('삼성전자')"
   ]
  },
  {
   "cell_type": "code",
   "execution_count": null,
   "id": "3ec00f0b",
   "metadata": {},
   "outputs": [],
   "source": [
    "# input_tag ENTER 이벤트 발생\n",
    "input_tag.send_keys(Keys.ENTER)"
   ]
  },
  {
   "cell_type": "code",
   "execution_count": null,
   "id": "8516b5b2",
   "metadata": {},
   "outputs": [],
   "source": [
    "# 해당 페이지의 페이지소스를 이용해서 데이터프레임 생성\n",
    "# 페이지소스를 문자화\n",
    "html_data = str(driver.page_source)\n",
    "# 문자화된 페이지 소스를 read_html() 인자로 사용\n",
    "# 결과의 첫번째 데이터프레임을 변수에 대입\n",
    "df = pd.read_html(html_data)[0]"
   ]
  },
  {
   "cell_type": "code",
   "execution_count": null,
   "id": "ffb2467b",
   "metadata": {},
   "outputs": [],
   "source": [
    "df.head()"
   ]
  },
  {
   "cell_type": "code",
   "execution_count": null,
   "id": "1a6b31f6",
   "metadata": {},
   "outputs": [],
   "source": [
    "# 해당 페이지소스를 BeautifulSoup으로 파싱 \n",
    "soup = bs(driver.page_source, 'html.parser')"
   ]
  },
  {
   "cell_type": "code",
   "execution_count": null,
   "id": "c8b3bcd0",
   "metadata": {},
   "outputs": [],
   "source": [
    "# soup에서 tbody 태그 중 id가 tbody인 태그를 선택 \n",
    "tbody_data = soup.find(\n",
    "    'tbody', attrs={\n",
    "        'id' : 'tbody'\n",
    "    }\n",
    ")"
   ]
  },
  {
   "cell_type": "code",
   "execution_count": null,
   "id": "7ef04438",
   "metadata": {},
   "outputs": [],
   "source": [
    "tr_list = tbody_data.find_all('tr')"
   ]
  },
  {
   "cell_type": "code",
   "execution_count": null,
   "id": "079fbbc2",
   "metadata": {},
   "outputs": [],
   "source": [
    "# tr_list의 첫번째 데이터를 이용해서 반복 실행하는 구문을 테스트\n",
    "base_url + tr_list[0].find_all('a')[1]['href']"
   ]
  },
  {
   "cell_type": "code",
   "execution_count": null,
   "id": "2a195525",
   "metadata": {},
   "outputs": [],
   "source": [
    "url_list = []\n",
    "for tr_data in tr_list:\n",
    "    url = base_url + tr_data.find_all('a')[1]['href']\n",
    "    url_list.append(url)"
   ]
  },
  {
   "cell_type": "code",
   "execution_count": null,
   "id": "f83b08c6",
   "metadata": {},
   "outputs": [],
   "source": [
    "url_list"
   ]
  },
  {
   "cell_type": "code",
   "execution_count": null,
   "id": "342c7120",
   "metadata": {},
   "outputs": [],
   "source": [
    "# df에 url_list 새로운 컬럼(url)에 대입 \n",
    "df['url'] = url_list"
   ]
  },
  {
   "cell_type": "code",
   "execution_count": null,
   "id": "cc3b2f69",
   "metadata": {},
   "outputs": [],
   "source": [
    "df.head()"
   ]
  },
  {
   "cell_type": "code",
   "execution_count": null,
   "id": "a39a38ac",
   "metadata": {},
   "outputs": [],
   "source": [
    "# df를 csv로 저장 \n",
    "df.to_csv('삼성전자.csv', index=False)"
   ]
  },
  {
   "cell_type": "markdown",
   "id": "340fc8d0",
   "metadata": {},
   "source": [
    "- 위의 코드들을 함수화\n",
    "    - 첫번째 함수 \n",
    "        - 매개변수 1개\n",
    "            - driver : 웹 브라우져\n",
    "        - table 태그를 찾아서 데이터프레임화\n",
    "        - url 찾아서 데이터프레임에 대입 \n",
    "        - 데이터프레임을 리턴"
   ]
  },
  {
   "cell_type": "code",
   "execution_count": null,
   "id": "17c4ec58",
   "metadata": {},
   "outputs": [],
   "source": [
    "def create_df(web):\n",
    "    # 해당 페이지의 페이지소스를 이용해서 데이터프레임 생성\n",
    "    # 페이지소스를 문자화\n",
    "    html_data = str(web.page_source)\n",
    "    # 문자화된 페이지 소스를 read_html() 인자로 사용\n",
    "    # 결과의 첫번째 데이터프레임을 변수에 대입\n",
    "    df = pd.read_html(html_data)[0]\n",
    "    # 해당 페이지소스를 BeautifulSoup으로 파싱 \n",
    "    soup = bs(web.page_source, 'html.parser')\n",
    "    # soup에서 tbody 태그 중 id가 tbody인 태그를 선택 \n",
    "    tbody_data = soup.find(\n",
    "        'tbody', attrs={\n",
    "            'id' : 'tbody'\n",
    "        }\n",
    "    )\n",
    "    tr_list = tbody_data.find_all('tr')\n",
    "    url_list = []\n",
    "    for tr_data in tr_list:\n",
    "        url = base_url + tr_data.find_all('a')[1]['href']\n",
    "        url_list.append(url)\n",
    "    # df에 url_list 새로운 컬럼(url)에 대입 \n",
    "    df['url'] = url_list\n",
    "    # 데이터프레임을 리턴\n",
    "    return df\n",
    "    "
   ]
  },
  {
   "cell_type": "code",
   "execution_count": null,
   "id": "4a08978d",
   "metadata": {},
   "outputs": [],
   "source": [
    "create_df(driver)"
   ]
  },
  {
   "cell_type": "markdown",
   "id": "9a3030fa",
   "metadata": {},
   "source": [
    "- 두번째 함수 \n",
    "    - 매개변수 1개 \n",
    "        - 종목의 이름을 입력하는 공간 \n",
    "    - 웹브라우져 오픈 \n",
    "    - 다트에 접속\n",
    "    - 종목을 입력하고 검색\n",
    "    - create_df()함수 호출 \n",
    "    - 함수의 결과를 저장 \n",
    "    - 파일의 이름을 print() 출력"
   ]
  },
  {
   "cell_type": "code",
   "execution_count": null,
   "id": "610f7fd8",
   "metadata": {},
   "outputs": [],
   "source": [
    "import time"
   ]
  },
  {
   "cell_type": "code",
   "execution_count": null,
   "id": "f1c6a210",
   "metadata": {},
   "outputs": [],
   "source": [
    "def dart_save(_name, _cnt = 1):\n",
    "    # 기본 주소를 변수에 대입\n",
    "    base_url = 'https://dart.fss.or.kr'\n",
    "    driver = webdriver.Chrome()\n",
    "    driver.get(base_url)\n",
    "    time.sleep(1)\n",
    "    input_tag = driver.find_element(By.ID , 'textCrpNm2')\n",
    "    input_tag.send_keys(_name)\n",
    "    input_tag.send_keys(Keys.ENTER)\n",
    "    time.sleep(1)\n",
    "\n",
    "    # 비어있는 데이터프레임을 생성 \n",
    "    result = pd.DataFrame()\n",
    "    for idx in range(_cnt):\n",
    "        # class가 pageSkip 태그를 선택 \n",
    "        skip_tag = driver.find_element(By.CLASS_NAME, 'pageSkip')\n",
    "        # skip_tag에서 li 모두 찾아서 3번째부터 마지막 2번째 전까지 \n",
    "        li_list = skip_tag.find_elements(By.TAG_NAME, 'a')[2:-2]\n",
    "        li_list[idx+1].click()\n",
    "        df = create_df(driver)\n",
    "        # result와 df를 단순 행 결합 \n",
    "        result = pd.concat( [result, df], axis=0 )\n",
    "        time.sleep(1)\n",
    "    result.to_csv(f\"{_name}.csv\", index=False)\n",
    "    print(f\"{_name}.csv 파일 생성 완료\")\n",
    "    driver.close()"
   ]
  },
  {
   "cell_type": "code",
   "execution_count": null,
   "id": "c9f4963d",
   "metadata": {},
   "outputs": [],
   "source": [
    "dart_save('SK하이닉스', 3)"
   ]
  },
  {
   "cell_type": "markdown",
   "id": "618d3713",
   "metadata": {},
   "source": [
    "1. driver에서 class가 pageSkip 태그를 선택\n",
    "2. li 태그들을 모두 찾는다. -> 3번째 부터 마지막에서 2번째 전까지데이터를 저장 \n",
    "3. 함수에서 몇번 페이지를 이동할것인가 매개변수로 받아온다. \n",
    "4. 해당 변수의 값에 따라서 페이지를 이동 -> 해당 페이지의 데이터프레임을 불러온다. \n",
    "    - 각각 불러온 데이터프레임을 단순한 행 결합\n"
   ]
  },
  {
   "cell_type": "code",
   "execution_count": null,
   "id": "c96485ea",
   "metadata": {},
   "outputs": [],
   "source": [
    "# class가 pageSkip 태그를 선택 \n",
    "skip_tag = driver.find_element(By.CLASS_NAME, 'pageSkip')\n",
    "# skip_tag에서 li 모두 찾아서 3번째부터 마지막 2번째 전까지 \n",
    "li_list = skip_tag.find_elements(By.TAG_NAME, 'a')[2:-2]"
   ]
  },
  {
   "cell_type": "code",
   "execution_count": null,
   "id": "9e1cc28e",
   "metadata": {},
   "outputs": [],
   "source": [
    "li_list[3].click()"
   ]
  },
  {
   "cell_type": "code",
   "execution_count": null,
   "id": "30713a20",
   "metadata": {},
   "outputs": [],
   "source": [
    "# SK하이닉스.csv 로드 \n",
    "df = pd.read_csv(\"SK하이닉스.csv\")"
   ]
  },
  {
   "cell_type": "code",
   "execution_count": null,
   "id": "a7eee26c",
   "metadata": {},
   "outputs": [],
   "source": [
    "df.head()"
   ]
  },
  {
   "cell_type": "code",
   "execution_count": null,
   "id": "2140a04e",
   "metadata": {},
   "outputs": [],
   "source": [
    "# df 에서 보고서명 컬럼의 데이터가 '기업지배구조보고서공시' 인 \n",
    "# 데이터만 필터링\n",
    "\n",
    "# 조건식\n",
    "flag = df['보고서명'] == '기업지배구조보고서공시'\n",
    "\n",
    "url = df.loc[flag, 'url'][0]"
   ]
  },
  {
   "cell_type": "code",
   "execution_count": null,
   "id": "38e7f220",
   "metadata": {},
   "outputs": [],
   "source": [
    "import requests"
   ]
  },
  {
   "cell_type": "code",
   "execution_count": null,
   "id": "35f539d7",
   "metadata": {},
   "outputs": [],
   "source": [
    "res = requests.get(url)"
   ]
  },
  {
   "cell_type": "code",
   "execution_count": null,
   "id": "54d337f9",
   "metadata": {},
   "outputs": [],
   "source": [
    "soup2 = bs(res.text, 'html.parser')"
   ]
  },
  {
   "cell_type": "code",
   "execution_count": null,
   "id": "f58b5654",
   "metadata": {},
   "outputs": [],
   "source": [
    "soup2.find('iframe')"
   ]
  },
  {
   "cell_type": "code",
   "execution_count": null,
   "id": "0a0f219c",
   "metadata": {},
   "outputs": [],
   "source": [
    "driver = webdriver.Chrome()"
   ]
  },
  {
   "cell_type": "code",
   "execution_count": null,
   "id": "d13c0e80",
   "metadata": {},
   "outputs": [],
   "source": [
    "url"
   ]
  },
  {
   "cell_type": "code",
   "execution_count": null,
   "id": "8e8186f5",
   "metadata": {},
   "outputs": [],
   "source": [
    "driver.get(url)"
   ]
  },
  {
   "cell_type": "code",
   "execution_count": null,
   "id": "a759ea63",
   "metadata": {},
   "outputs": [],
   "source": [
    "soup3 = bs(driver.page_source, 'html.parser')"
   ]
  },
  {
   "cell_type": "code",
   "execution_count": null,
   "id": "2d7fd659",
   "metadata": {},
   "outputs": [],
   "source": [
    "rep_url = base_url + soup3.iframe['src']"
   ]
  },
  {
   "cell_type": "code",
   "execution_count": null,
   "id": "820ec3bd",
   "metadata": {},
   "outputs": [],
   "source": [
    "rep_res = requests.get(rep_url)"
   ]
  },
  {
   "cell_type": "code",
   "execution_count": null,
   "id": "284c2f67",
   "metadata": {},
   "outputs": [],
   "source": [
    "rep_soup = bs(rep_res.text, 'html.parser')"
   ]
  },
  {
   "cell_type": "code",
   "execution_count": null,
   "id": "f60083a5",
   "metadata": {},
   "outputs": [],
   "source": [
    "len(\n",
    "    rep_soup.find_all('table')\n",
    ")"
   ]
  },
  {
   "cell_type": "code",
   "execution_count": null,
   "id": "9eed7a12",
   "metadata": {},
   "outputs": [],
   "source": [
    "[1,2].extend(   ['a', 'b'] )"
   ]
  },
  {
   "cell_type": "code",
   "execution_count": null,
   "id": "ed38055c",
   "metadata": {},
   "outputs": [],
   "source": [
    "rep_soup.find('table')"
   ]
  },
  {
   "cell_type": "code",
   "execution_count": null,
   "id": "d517820f",
   "metadata": {},
   "outputs": [],
   "source": [
    "# 해당 보고서 중 테이블 태그에 데이터가 없는 경우가 존재 \n",
    "# 데이터가 없는 테이블은 예외 처리 \n",
    "# 데이터가 있는 테이블만 리스트에 추가 \n",
    "table_list = rep_soup.find_all('table')\n",
    "\n",
    "tables =[]\n",
    "cnt = 0\n",
    "for table_data in table_list:\n",
    "    try:\n",
    "        dfs = pd.read_html( str(table_data) )\n",
    "    except:\n",
    "        cnt+=1\n",
    "        continue\n",
    "    tables += dfs"
   ]
  },
  {
   "cell_type": "code",
   "execution_count": null,
   "id": "1fcbc1f4",
   "metadata": {},
   "outputs": [],
   "source": [
    "cnt"
   ]
  },
  {
   "cell_type": "code",
   "execution_count": null,
   "id": "dd772a99",
   "metadata": {},
   "outputs": [],
   "source": [
    "len(tables)"
   ]
  },
  {
   "cell_type": "code",
   "execution_count": 121,
   "id": "8735302f",
   "metadata": {},
   "outputs": [
    {
     "data": {
      "text/plain": [
       "4"
      ]
     },
     "execution_count": 121,
     "metadata": {},
     "output_type": "execute_result"
    }
   ],
   "source": [
    "len(tables[5].columns)"
   ]
  },
  {
   "cell_type": "code",
   "execution_count": null,
   "id": "a68ec029",
   "metadata": {},
   "outputs": [],
   "source": [
    "print(rep_soup.find('body').get_text())"
   ]
  },
  {
   "cell_type": "code",
   "execution_count": 122,
   "id": "65e4dd87",
   "metadata": {},
   "outputs": [],
   "source": [
    "# tables에서 컬럼의 길이가 1인 데이터는 제외\n",
    "table_df = []\n",
    "for table in tables:\n",
    "    if len(table.columns) > 1:\n",
    "        table_df.append(table)"
   ]
  },
  {
   "cell_type": "code",
   "execution_count": 123,
   "id": "4d17b042",
   "metadata": {},
   "outputs": [
    {
     "data": {
      "text/plain": [
       "89"
      ]
     },
     "execution_count": 123,
     "metadata": {},
     "output_type": "execute_result"
    }
   ],
   "source": [
    "len(table_df)"
   ]
  },
  {
   "cell_type": "code",
   "execution_count": 126,
   "id": "a93b7b80",
   "metadata": {},
   "outputs": [
    {
     "data": {
      "text/html": [
       "<div>\n",
       "<style scoped>\n",
       "    .dataframe tbody tr th:only-of-type {\n",
       "        vertical-align: middle;\n",
       "    }\n",
       "\n",
       "    .dataframe tbody tr th {\n",
       "        vertical-align: top;\n",
       "    }\n",
       "\n",
       "    .dataframe thead th {\n",
       "        text-align: right;\n",
       "    }\n",
       "</style>\n",
       "<table border=\"1\" class=\"dataframe\">\n",
       "  <thead>\n",
       "    <tr style=\"text-align: right;\">\n",
       "      <th></th>\n",
       "      <th>0</th>\n",
       "      <th>1</th>\n",
       "      <th>2</th>\n",
       "      <th>3</th>\n",
       "    </tr>\n",
       "  </thead>\n",
       "  <tbody>\n",
       "    <tr>\n",
       "      <th>0</th>\n",
       "      <td>최대주주 등</td>\n",
       "      <td>SK스퀘어(주) 외 특수관계인 9명</td>\n",
       "      <td>최대주주등의 지분율(%)</td>\n",
       "      <td>20.07</td>\n",
       "    </tr>\n",
       "    <tr>\n",
       "      <th>1</th>\n",
       "      <td>최대주주 등</td>\n",
       "      <td>SK스퀘어(주) 외 특수관계인 9명</td>\n",
       "      <td>소액주주 지분율(%)</td>\n",
       "      <td>62.74</td>\n",
       "    </tr>\n",
       "    <tr>\n",
       "      <th>2</th>\n",
       "      <td>업종</td>\n",
       "      <td>비금융(Non-financial)</td>\n",
       "      <td>주요 제품</td>\n",
       "      <td>DRAM, NAND, MCP(Multi-Chip Package) 등 메모리 반도체 ...</td>\n",
       "    </tr>\n",
       "    <tr>\n",
       "      <th>3</th>\n",
       "      <td>공정거래법상 기업집단 해당 여부</td>\n",
       "      <td>O</td>\n",
       "      <td>공공기관운영법 적용대상 여부</td>\n",
       "      <td>X</td>\n",
       "    </tr>\n",
       "    <tr>\n",
       "      <th>4</th>\n",
       "      <td>기업집단명</td>\n",
       "      <td>SK</td>\n",
       "      <td>공공기관운영법 적용대상 여부</td>\n",
       "      <td>X</td>\n",
       "    </tr>\n",
       "    <tr>\n",
       "      <th>5</th>\n",
       "      <td>요약 재무현황 (단위 : 백만원)</td>\n",
       "      <td>요약 재무현황 (단위 : 백만원)</td>\n",
       "      <td>요약 재무현황 (단위 : 백만원)</td>\n",
       "      <td>요약 재무현황 (단위 : 백만원)</td>\n",
       "    </tr>\n",
       "    <tr>\n",
       "      <th>6</th>\n",
       "      <td>구분</td>\n",
       "      <td>당기</td>\n",
       "      <td>전기</td>\n",
       "      <td>전전기</td>\n",
       "    </tr>\n",
       "    <tr>\n",
       "      <th>7</th>\n",
       "      <td>(연결) 매출액</td>\n",
       "      <td>66192960</td>\n",
       "      <td>32765719</td>\n",
       "      <td>44621568</td>\n",
       "    </tr>\n",
       "    <tr>\n",
       "      <th>8</th>\n",
       "      <td>(연결) 영업이익</td>\n",
       "      <td>23467319</td>\n",
       "      <td>-7730313</td>\n",
       "      <td>6809417</td>\n",
       "    </tr>\n",
       "    <tr>\n",
       "      <th>9</th>\n",
       "      <td>(연결) 당기순이익</td>\n",
       "      <td>19796902</td>\n",
       "      <td>-9137547</td>\n",
       "      <td>2241669</td>\n",
       "    </tr>\n",
       "    <tr>\n",
       "      <th>10</th>\n",
       "      <td>(연결) 자산총액</td>\n",
       "      <td>119855209</td>\n",
       "      <td>100330165</td>\n",
       "      <td>103871512</td>\n",
       "    </tr>\n",
       "    <tr>\n",
       "      <th>11</th>\n",
       "      <td>별도 자산총액</td>\n",
       "      <td>112412580</td>\n",
       "      <td>92949387</td>\n",
       "      <td>91800233</td>\n",
       "    </tr>\n",
       "  </tbody>\n",
       "</table>\n",
       "</div>"
      ],
      "text/plain": [
       "                     0                    1                   2  \\\n",
       "0               최대주주 등  SK스퀘어(주) 외 특수관계인 9명       최대주주등의 지분율(%)   \n",
       "1               최대주주 등  SK스퀘어(주) 외 특수관계인 9명         소액주주 지분율(%)   \n",
       "2                   업종   비금융(Non-financial)               주요 제품   \n",
       "3    공정거래법상 기업집단 해당 여부                    O     공공기관운영법 적용대상 여부   \n",
       "4                기업집단명                   SK     공공기관운영법 적용대상 여부   \n",
       "5   요약 재무현황 (단위 : 백만원)   요약 재무현황 (단위 : 백만원)  요약 재무현황 (단위 : 백만원)   \n",
       "6                   구분                   당기                  전기   \n",
       "7             (연결) 매출액             66192960            32765719   \n",
       "8            (연결) 영업이익             23467319            -7730313   \n",
       "9           (연결) 당기순이익             19796902            -9137547   \n",
       "10           (연결) 자산총액            119855209           100330165   \n",
       "11             별도 자산총액            112412580            92949387   \n",
       "\n",
       "                                                    3  \n",
       "0                                               20.07  \n",
       "1                                               62.74  \n",
       "2   DRAM, NAND, MCP(Multi-Chip Package) 등 메모리 반도체 ...  \n",
       "3                                                   X  \n",
       "4                                                   X  \n",
       "5                                  요약 재무현황 (단위 : 백만원)  \n",
       "6                                                 전전기  \n",
       "7                                            44621568  \n",
       "8                                             6809417  \n",
       "9                                             2241669  \n",
       "10                                          103871512  \n",
       "11                                           91800233  "
      ]
     },
     "execution_count": 126,
     "metadata": {},
     "output_type": "execute_result"
    }
   ],
   "source": [
    "table_df[2]"
   ]
  },
  {
   "cell_type": "markdown",
   "id": "23ccfbf1",
   "metadata": {},
   "source": [
    "- 보고서 url로 접속\n",
    "- 다운로드 버튼은 찾는다. \n",
    "- 다운로드 버튼 클릭"
   ]
  },
  {
   "cell_type": "code",
   "execution_count": 127,
   "id": "97c291f9",
   "metadata": {},
   "outputs": [],
   "source": [
    "df = pd.read_csv(\"SK하이닉스.csv\")"
   ]
  },
  {
   "cell_type": "code",
   "execution_count": 129,
   "id": "7b56b13e",
   "metadata": {},
   "outputs": [],
   "source": [
    "rep_url = df.iloc[0, -1]"
   ]
  },
  {
   "cell_type": "code",
   "execution_count": 130,
   "id": "5cc1ff52",
   "metadata": {},
   "outputs": [],
   "source": [
    "driver = webdriver.Chrome()"
   ]
  },
  {
   "cell_type": "code",
   "execution_count": 131,
   "id": "54ab7763",
   "metadata": {},
   "outputs": [],
   "source": [
    "driver.get(rep_url)"
   ]
  },
  {
   "cell_type": "code",
   "execution_count": null,
   "id": "02d6e293",
   "metadata": {},
   "outputs": [],
   "source": [
    "# class가 rightWrap 태그를 선택\n",
    "div_tag = driver.find_element(\n",
    "    By.CLASS_NAME, 'rightWrap')"
   ]
  },
  {
   "cell_type": "code",
   "execution_count": null,
   "id": "70e3e3c5",
   "metadata": {},
   "outputs": [],
   "source": [
    "# button 태그들을 모두 찾아서 2번째 버튼 태그를 선택 \n",
    "button_tag = div_tag.find_elements(\n",
    "    By.TAG_NAME, 'button')[-3]"
   ]
  },
  {
   "cell_type": "code",
   "execution_count": 134,
   "id": "7e9a4c00",
   "metadata": {},
   "outputs": [],
   "source": [
    "button_tag.click()"
   ]
  },
  {
   "cell_type": "code",
   "execution_count": null,
   "id": "ec57687a",
   "metadata": {},
   "outputs": [
    {
     "data": {
      "text/plain": [
       "['ADFBA98965102E96182D25B04EE062B8', '784A086948CA43B45794540AAFD8C745']"
      ]
     },
     "execution_count": 135,
     "metadata": {},
     "output_type": "execute_result"
    }
   ],
   "source": [
    "# 열려있는 창들의 주소값\n",
    "driver.window_handles"
   ]
  },
  {
   "cell_type": "code",
   "execution_count": 136,
   "id": "a9f25b5b",
   "metadata": {},
   "outputs": [],
   "source": [
    "#  driver의 창을 이동 \n",
    "driver.switch_to.window(\n",
    "    driver.window_handles[1]\n",
    ")"
   ]
  },
  {
   "cell_type": "code",
   "execution_count": 137,
   "id": "038465cb",
   "metadata": {},
   "outputs": [],
   "source": [
    "# class가 'btnFile'인 태그를 모두 찾는다. \n",
    "btn_tags = driver.find_elements(\n",
    "    By.CLASS_NAME, 'btnFile')"
   ]
  },
  {
   "cell_type": "code",
   "execution_count": 138,
   "id": "6cc7fa87",
   "metadata": {},
   "outputs": [],
   "source": [
    "for btn in btn_tags:\n",
    "    btn.click()\n",
    "    time.sleep(1)"
   ]
  },
  {
   "cell_type": "code",
   "execution_count": 141,
   "id": "343cca55",
   "metadata": {},
   "outputs": [],
   "source": [
    "driver.quit()"
   ]
  },
  {
   "cell_type": "code",
   "execution_count": 145,
   "id": "74aca4da",
   "metadata": {},
   "outputs": [],
   "source": [
    "df = pd.read_csv('삼성전자.csv').head(3)"
   ]
  },
  {
   "cell_type": "code",
   "execution_count": 146,
   "id": "875b92cd",
   "metadata": {},
   "outputs": [
    {
     "name": "stdout",
     "output_type": "stream",
     "text": [
      "https://dart.fss.or.kr//dsaf001/main.do?rcpNo=20250604800428\n",
      "https://dart.fss.or.kr//dsaf001/main.do?rcpNo=20250602000137\n",
      "https://dart.fss.or.kr//dsaf001/main.do?rcpNo=20250602000112\n"
     ]
    }
   ],
   "source": [
    "for idx in range(len(df)):\n",
    "    # print(idx)\n",
    "    rep_url = df.iloc[idx, -1]\n",
    "    try:\n",
    "        driver = webdriver.Chrome()\n",
    "        driver.get(rep_url)\n",
    "        time.sleep(1)\n",
    "        # class가 rightWrap 태그를 선택\n",
    "        div_tag = driver.find_element(\n",
    "            By.CLASS_NAME, 'rightWrap')\n",
    "        # button 태그들을 모두 찾아서 2번째 버튼 태그를 선택 \n",
    "        button_tag = div_tag.find_elements(\n",
    "            By.TAG_NAME, 'button')[-3]\n",
    "        button_tag.click()\n",
    "        #  driver의 창을 이동 \n",
    "        driver.switch_to.window(\n",
    "            driver.window_handles[1]\n",
    "        )\n",
    "        # class가 'btnFile'인 태그를 모두 찾는다. \n",
    "        btn_tags = driver.find_elements(\n",
    "            By.CLASS_NAME, 'btnFile')\n",
    "        for btn in btn_tags:\n",
    "            btn.click()\n",
    "            time.sleep(1)\n",
    "        print(f\"{idx+1}번째 파일의 저장 성공\")\n",
    "    except:\n",
    "        print(rep_url)\n",
    "    driver.quit()\n",
    "    \n",
    "    "
   ]
  },
  {
   "cell_type": "code",
   "execution_count": null,
   "id": "276ebda8",
   "metadata": {},
   "outputs": [],
   "source": []
  }
 ],
 "metadata": {
  "kernelspec": {
   "display_name": "Python 3",
   "language": "python",
   "name": "python3"
  },
  "language_info": {
   "codemirror_mode": {
    "name": "ipython",
    "version": 3
   },
   "file_extension": ".py",
   "mimetype": "text/x-python",
   "name": "python",
   "nbconvert_exporter": "python",
   "pygments_lexer": "ipython3",
   "version": "3.11.1"
  }
 },
 "nbformat": 4,
 "nbformat_minor": 5
}
