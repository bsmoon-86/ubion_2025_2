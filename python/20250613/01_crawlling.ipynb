{
 "cells": [
  {
   "cell_type": "code",
   "execution_count": 1,
   "id": "5f2c002d",
   "metadata": {},
   "outputs": [],
   "source": [
    "import pandas as pd \n",
    "from bs4 import BeautifulSoup as bs\n",
    "from selenium import webdriver\n",
    "from selenium.webdriver.common.by import By\n",
    "from selenium.webdriver.common.keys import Keys"
   ]
  },
  {
   "cell_type": "markdown",
   "id": "2a520d5d",
   "metadata": {},
   "source": [
    "1. webdriver를 오픈해서 'https://dart.fss.or.kr/' 요청을 보낸다. \n",
    "2. id가 'textCrpNm2' 태그를 선택 \n",
    "3. 특정 입력값을 보낸다 (send_key()) -> ENTER 이벤트 발생\n",
    "4. 해당 페이지는 table태그가 1개 존재 \n",
    "    - 해당 페이지의 html 소스코드를 문자화\n",
    "    - pandas 에 있는 read_html() 함수에 인자로 사용\n",
    "    - read_html() 결과에서 첫번째 데이터프레임을 변수에 저장\n",
    "5. 페이지 소스 코드를 BeautifulSoup으로 파싱\n",
    "6. tbody 태그 중 id가 'tbody'인 태그를 선택 \n",
    "7. tr 태그 들을 모두 검색한다. \n",
    "8. 각각 tr 태그에서 a태그를 모두 검색하고 두번째 a태그의 href 속성의 값을 추출\n",
    "9. base_url과 href 속성의 값을 더해서 새로운 리스트에 추가 \n",
    "10. read_html() 함수를 사용해서 나온 데이터프레임에 열 결합"
   ]
  },
  {
   "cell_type": "code",
   "execution_count": 2,
   "id": "f386c47a",
   "metadata": {},
   "outputs": [],
   "source": [
    "# 기본 주소를 변수에 대입\n",
    "base_url = 'https://dart.fss.or.kr/'"
   ]
  },
  {
   "cell_type": "code",
   "execution_count": null,
   "id": "34de15c9",
   "metadata": {},
   "outputs": [],
   "source": [
    "# 웹 브라우저 오픈\n",
    "driver = webdriver.Chrome()"
   ]
  },
  {
   "cell_type": "code",
   "execution_count": 4,
   "id": "a6c22b4b",
   "metadata": {},
   "outputs": [],
   "source": [
    "# 웹 브라우저에 특정 주소를 입력\n",
    "driver.get(base_url)"
   ]
  },
  {
   "cell_type": "code",
   "execution_count": 5,
   "id": "de88d1e2",
   "metadata": {},
   "outputs": [],
   "source": [
    "# id가 textCrpNm2 인 태그를 선택 \n",
    "input_tag = driver.find_element( By.ID, 'textCrpNm2' )"
   ]
  },
  {
   "cell_type": "code",
   "execution_count": 6,
   "id": "bc6c4b32",
   "metadata": {},
   "outputs": [],
   "source": [
    "# input_tag에 특정 데이터를 입력 \n",
    "input_tag.send_keys('삼성전자')"
   ]
  },
  {
   "cell_type": "code",
   "execution_count": 7,
   "id": "3ec00f0b",
   "metadata": {},
   "outputs": [],
   "source": [
    "# input_tag ENTER 이벤트 발생\n",
    "input_tag.send_keys(Keys.ENTER)"
   ]
  },
  {
   "cell_type": "code",
   "execution_count": 8,
   "id": "8516b5b2",
   "metadata": {},
   "outputs": [
    {
     "name": "stderr",
     "output_type": "stream",
     "text": [
      "C:\\Users\\moons\\AppData\\Local\\Temp\\ipykernel_20672\\3305765445.py:6: FutureWarning: Passing literal html to 'read_html' is deprecated and will be removed in a future version. To read from a literal string, wrap it in a 'StringIO' object.\n",
      "  df = pd.read_html(html_data)[0]\n"
     ]
    }
   ],
   "source": [
    "# 해당 페이지의 페이지소스를 이용해서 데이터프레임 생성\n",
    "# 페이지소스를 문자화\n",
    "html_data = str(driver.page_source)\n",
    "# 문자화된 페이지 소스를 read_html() 인자로 사용\n",
    "# 결과의 첫번째 데이터프레임을 변수에 대입\n",
    "df = pd.read_html(html_data)[0]"
   ]
  },
  {
   "cell_type": "code",
   "execution_count": null,
   "id": "ffb2467b",
   "metadata": {},
   "outputs": [],
   "source": [
    "df.head()"
   ]
  },
  {
   "cell_type": "code",
   "execution_count": 10,
   "id": "1a6b31f6",
   "metadata": {},
   "outputs": [],
   "source": [
    "# 해당 페이지소스를 BeautifulSoup으로 파싱 \n",
    "soup = bs(driver.page_source, 'html.parser')"
   ]
  },
  {
   "cell_type": "code",
   "execution_count": 12,
   "id": "c8b3bcd0",
   "metadata": {},
   "outputs": [],
   "source": [
    "# soup에서 tbody 태그 중 id가 tbody인 태그를 선택 \n",
    "tbody_data = soup.find(\n",
    "    'tbody', attrs={\n",
    "        'id' : 'tbody'\n",
    "    }\n",
    ")"
   ]
  },
  {
   "cell_type": "code",
   "execution_count": 14,
   "id": "7ef04438",
   "metadata": {},
   "outputs": [],
   "source": [
    "tr_list = tbody_data.find_all('tr')"
   ]
  },
  {
   "cell_type": "code",
   "execution_count": 19,
   "id": "079fbbc2",
   "metadata": {},
   "outputs": [
    {
     "data": {
      "text/plain": [
       "'https://dart.fss.or.kr//dsaf001/main.do?rcpNo=20250604800428'"
      ]
     },
     "execution_count": 19,
     "metadata": {},
     "output_type": "execute_result"
    }
   ],
   "source": [
    "# tr_list의 첫번째 데이터를 이용해서 반복 실행하는 구문을 테스트\n",
    "base_url + tr_list[0].find_all('a')[1]['href']"
   ]
  },
  {
   "cell_type": "code",
   "execution_count": 20,
   "id": "2a195525",
   "metadata": {},
   "outputs": [],
   "source": [
    "url_list = []\n",
    "for tr_data in tr_list:\n",
    "    url = base_url + tr_data.find_all('a')[1]['href']\n",
    "    url_list.append(url)"
   ]
  },
  {
   "cell_type": "code",
   "execution_count": null,
   "id": "f83b08c6",
   "metadata": {},
   "outputs": [],
   "source": [
    "url_list"
   ]
  },
  {
   "cell_type": "code",
   "execution_count": 23,
   "id": "342c7120",
   "metadata": {},
   "outputs": [],
   "source": [
    "# df에 url_list 새로운 컬럼(url)에 대입 \n",
    "df['url'] = url_list"
   ]
  },
  {
   "cell_type": "code",
   "execution_count": null,
   "id": "cc3b2f69",
   "metadata": {},
   "outputs": [],
   "source": [
    "df.head()"
   ]
  },
  {
   "cell_type": "code",
   "execution_count": 25,
   "id": "a39a38ac",
   "metadata": {},
   "outputs": [],
   "source": [
    "# df를 csv로 저장 \n",
    "df.to_csv('삼성전자.csv', index=False)"
   ]
  },
  {
   "cell_type": "markdown",
   "id": "340fc8d0",
   "metadata": {},
   "source": [
    "- 위의 코드들을 함수화\n",
    "    - 첫번째 함수 \n",
    "        - 매개변수 1개\n",
    "            - driver : 웹 브라우져\n",
    "        - table 태그를 찾아서 데이터프레임화\n",
    "        - url 찾아서 데이터프레임에 대입 \n",
    "        - 데이터프레임을 리턴"
   ]
  },
  {
   "cell_type": "code",
   "execution_count": 26,
   "id": "17c4ec58",
   "metadata": {},
   "outputs": [],
   "source": [
    "def create_df(web):\n",
    "    # 해당 페이지의 페이지소스를 이용해서 데이터프레임 생성\n",
    "    # 페이지소스를 문자화\n",
    "    html_data = str(web.page_source)\n",
    "    # 문자화된 페이지 소스를 read_html() 인자로 사용\n",
    "    # 결과의 첫번째 데이터프레임을 변수에 대입\n",
    "    df = pd.read_html(html_data)[0]\n",
    "    # 해당 페이지소스를 BeautifulSoup으로 파싱 \n",
    "    soup = bs(driver.page_source, 'html.parser')\n",
    "    # soup에서 tbody 태그 중 id가 tbody인 태그를 선택 \n",
    "    tbody_data = soup.find(\n",
    "        'tbody', attrs={\n",
    "            'id' : 'tbody'\n",
    "        }\n",
    "    )\n",
    "    tr_list = tbody_data.find_all('tr')\n",
    "    url_list = []\n",
    "    for tr_data in tr_list:\n",
    "        url = base_url + tr_data.find_all('a')[1]['href']\n",
    "        url_list.append(url)\n",
    "    # df에 url_list 새로운 컬럼(url)에 대입 \n",
    "    df['url'] = url_list\n",
    "    # 데이터프레임을 리턴\n",
    "    return df\n",
    "    "
   ]
  },
  {
   "cell_type": "code",
   "execution_count": null,
   "id": "4a08978d",
   "metadata": {},
   "outputs": [],
   "source": [
    "create_df(driver)"
   ]
  },
  {
   "cell_type": "markdown",
   "id": "9a3030fa",
   "metadata": {},
   "source": [
    "- 두번째 함수 \n",
    "    - 매개변수 1개 \n",
    "        - 종목의 이름을 입력하는 공간 \n",
    "    - 웹브라우져 오픈 \n",
    "    - 다트에 접속\n",
    "    - 종목을 입력하고 검색\n",
    "    - create_df()함수 호출 \n",
    "    - 함수의 결과를 저장 \n",
    "    - 파일의 이름을 print() 출력"
   ]
  },
  {
   "cell_type": "code",
   "execution_count": null,
   "id": "f1c6a210",
   "metadata": {},
   "outputs": [],
   "source": [
    "def dart_save(_name):\n",
    "    # 기본 주소를 변수에 대입\n",
    "    base_url = 'https://dart.fss.or.kr/'\n",
    "    driver = webdriver.Chrome()\n",
    "    driver.get(base_url)\n",
    "    input_tag = driver.find_element(By.ID , 'textCrpNm2')\n",
    "    input_tag.send_keys(_name)\n",
    "    input_tag.send_keys(Keys.ENTER)\n",
    "    result = create_df(driver)\n",
    "    result.to_csv(f\"{_name}.csv\", index=False)\n",
    "    print(f\"{_name}.csv 파일 생성 완료\")\n",
    "    driver.close()"
   ]
  },
  {
   "cell_type": "code",
   "execution_count": 29,
   "id": "c9f4963d",
   "metadata": {},
   "outputs": [
    {
     "name": "stderr",
     "output_type": "stream",
     "text": [
      "C:\\Users\\moons\\AppData\\Local\\Temp\\ipykernel_20672\\2203559859.py:7: FutureWarning: Passing literal html to 'read_html' is deprecated and will be removed in a future version. To read from a literal string, wrap it in a 'StringIO' object.\n",
      "  df = pd.read_html(html_data)[0]\n"
     ]
    },
    {
     "ename": "InvalidSessionIdException",
     "evalue": "Message: invalid session id: session deleted as the browser has closed the connection\nfrom disconnected: not connected to DevTools\n  (Session info: chrome=137.0.7151.104)\nStacktrace:\n\tGetHandleVerifier [0x0x7ff6b1effe75+79173]\n\tGetHandleVerifier [0x0x7ff6b1effed0+79264]\n\t(No symbol) [0x0x7ff6b1cb9e5a]\n\t(No symbol) [0x0x7ff6b1ca5c25]\n\t(No symbol) [0x0x7ff6b1ccac44]\n\t(No symbol) [0x0x7ff6b1d403c5]\n\t(No symbol) [0x0x7ff6b1d60922]\n\t(No symbol) [0x0x7ff6b1d38743]\n\t(No symbol) [0x0x7ff6b1d014c1]\n\t(No symbol) [0x0x7ff6b1d02253]\n\tGetHandleVerifier [0x0x7ff6b21ca2ad+3004797]\n\tGetHandleVerifier [0x0x7ff6b21c46fd+2981325]\n\tGetHandleVerifier [0x0x7ff6b21e3350+3107360]\n\tGetHandleVerifier [0x0x7ff6b1f1a9fe+188622]\n\tGetHandleVerifier [0x0x7ff6b1f2228f+219487]\n\tGetHandleVerifier [0x0x7ff6b1f08dc4+115860]\n\tGetHandleVerifier [0x0x7ff6b1f08f79+116297]\n\tGetHandleVerifier [0x0x7ff6b1eef528+11256]\n\tBaseThreadInitThunk [0x0x7ffd1ae4e8d7+23]\n\tRtlUserThreadStart [0x0x7ffd1c2bc34c+44]\n",
     "output_type": "error",
     "traceback": [
      "\u001b[1;31m---------------------------------------------------------------------------\u001b[0m",
      "\u001b[1;31mInvalidSessionIdException\u001b[0m                 Traceback (most recent call last)",
      "Cell \u001b[1;32mIn[29], line 1\u001b[0m\n\u001b[1;32m----> 1\u001b[0m \u001b[43mdart_save\u001b[49m\u001b[43m(\u001b[49m\u001b[38;5;124;43m'\u001b[39;49m\u001b[38;5;124;43mSK하이닉스\u001b[39;49m\u001b[38;5;124;43m'\u001b[39;49m\u001b[43m)\u001b[49m\n",
      "Cell \u001b[1;32mIn[28], line 9\u001b[0m, in \u001b[0;36mdart_save\u001b[1;34m(_name)\u001b[0m\n\u001b[0;32m      7\u001b[0m input_tag\u001b[38;5;241m.\u001b[39msend_keys(_name)\n\u001b[0;32m      8\u001b[0m input_tag\u001b[38;5;241m.\u001b[39msend_keys(Keys\u001b[38;5;241m.\u001b[39mENTER)\n\u001b[1;32m----> 9\u001b[0m result \u001b[38;5;241m=\u001b[39m \u001b[43mcreate_df\u001b[49m\u001b[43m(\u001b[49m\u001b[43mdriver\u001b[49m\u001b[43m)\u001b[49m\n\u001b[0;32m     10\u001b[0m result\u001b[38;5;241m.\u001b[39mto_csv(\u001b[38;5;124mf\u001b[39m\u001b[38;5;124m\"\u001b[39m\u001b[38;5;132;01m{\u001b[39;00m_name\u001b[38;5;132;01m}\u001b[39;00m\u001b[38;5;124m.csv\u001b[39m\u001b[38;5;124m\"\u001b[39m, index\u001b[38;5;241m=\u001b[39m\u001b[38;5;28;01mFalse\u001b[39;00m)\n\u001b[0;32m     11\u001b[0m \u001b[38;5;28mprint\u001b[39m(\u001b[38;5;124mf\u001b[39m\u001b[38;5;124m\"\u001b[39m\u001b[38;5;132;01m{\u001b[39;00m_name\u001b[38;5;132;01m}\u001b[39;00m\u001b[38;5;124m.csv 파일 생성 완료\u001b[39m\u001b[38;5;124m\"\u001b[39m)\n",
      "Cell \u001b[1;32mIn[26], line 9\u001b[0m, in \u001b[0;36mcreate_df\u001b[1;34m(web)\u001b[0m\n\u001b[0;32m      7\u001b[0m df \u001b[38;5;241m=\u001b[39m pd\u001b[38;5;241m.\u001b[39mread_html(html_data)[\u001b[38;5;241m0\u001b[39m]\n\u001b[0;32m      8\u001b[0m \u001b[38;5;66;03m# 해당 페이지소스를 BeautifulSoup으로 파싱 \u001b[39;00m\n\u001b[1;32m----> 9\u001b[0m soup \u001b[38;5;241m=\u001b[39m bs(\u001b[43mdriver\u001b[49m\u001b[38;5;241;43m.\u001b[39;49m\u001b[43mpage_source\u001b[49m, \u001b[38;5;124m'\u001b[39m\u001b[38;5;124mhtml.parser\u001b[39m\u001b[38;5;124m'\u001b[39m)\n\u001b[0;32m     10\u001b[0m \u001b[38;5;66;03m# soup에서 tbody 태그 중 id가 tbody인 태그를 선택 \u001b[39;00m\n\u001b[0;32m     11\u001b[0m tbody_data \u001b[38;5;241m=\u001b[39m soup\u001b[38;5;241m.\u001b[39mfind(\n\u001b[0;32m     12\u001b[0m     \u001b[38;5;124m'\u001b[39m\u001b[38;5;124mtbody\u001b[39m\u001b[38;5;124m'\u001b[39m, attrs\u001b[38;5;241m=\u001b[39m{\n\u001b[0;32m     13\u001b[0m         \u001b[38;5;124m'\u001b[39m\u001b[38;5;124mid\u001b[39m\u001b[38;5;124m'\u001b[39m : \u001b[38;5;124m'\u001b[39m\u001b[38;5;124mtbody\u001b[39m\u001b[38;5;124m'\u001b[39m\n\u001b[0;32m     14\u001b[0m     }\n\u001b[0;32m     15\u001b[0m )\n",
      "File \u001b[1;32mc:\\Users\\moons\\AppData\\Local\\Programs\\Python\\Python311\\Lib\\site-packages\\selenium\\webdriver\\remote\\webdriver.py:446\u001b[0m, in \u001b[0;36mWebDriver.page_source\u001b[1;34m(self)\u001b[0m\n\u001b[0;32m    437\u001b[0m \u001b[38;5;129m@property\u001b[39m\n\u001b[0;32m    438\u001b[0m \u001b[38;5;28;01mdef\u001b[39;00m \u001b[38;5;21mpage_source\u001b[39m(\u001b[38;5;28mself\u001b[39m) \u001b[38;5;241m-\u001b[39m\u001b[38;5;241m>\u001b[39m \u001b[38;5;28mstr\u001b[39m:\n\u001b[0;32m    439\u001b[0m     \u001b[38;5;124;03m\"\"\"Gets the source of the current page.\u001b[39;00m\n\u001b[0;32m    440\u001b[0m \n\u001b[0;32m    441\u001b[0m \u001b[38;5;124;03m    :Usage:\u001b[39;00m\n\u001b[1;32m   (...)\u001b[0m\n\u001b[0;32m    444\u001b[0m \u001b[38;5;124;03m            driver.page_source\u001b[39;00m\n\u001b[0;32m    445\u001b[0m \u001b[38;5;124;03m    \"\"\"\u001b[39;00m\n\u001b[1;32m--> 446\u001b[0m     \u001b[38;5;28;01mreturn\u001b[39;00m \u001b[38;5;28;43mself\u001b[39;49m\u001b[38;5;241;43m.\u001b[39;49m\u001b[43mexecute\u001b[49m\u001b[43m(\u001b[49m\u001b[43mCommand\u001b[49m\u001b[38;5;241;43m.\u001b[39;49m\u001b[43mGET_PAGE_SOURCE\u001b[49m\u001b[43m)\u001b[49m[\u001b[38;5;124m\"\u001b[39m\u001b[38;5;124mvalue\u001b[39m\u001b[38;5;124m\"\u001b[39m]\n",
      "File \u001b[1;32mc:\\Users\\moons\\AppData\\Local\\Programs\\Python\\Python311\\Lib\\site-packages\\selenium\\webdriver\\remote\\webdriver.py:345\u001b[0m, in \u001b[0;36mWebDriver.execute\u001b[1;34m(self, driver_command, params)\u001b[0m\n\u001b[0;32m    343\u001b[0m response \u001b[38;5;241m=\u001b[39m \u001b[38;5;28mself\u001b[39m\u001b[38;5;241m.\u001b[39mcommand_executor\u001b[38;5;241m.\u001b[39mexecute(driver_command, params)\n\u001b[0;32m    344\u001b[0m \u001b[38;5;28;01mif\u001b[39;00m response:\n\u001b[1;32m--> 345\u001b[0m     \u001b[38;5;28;43mself\u001b[39;49m\u001b[38;5;241;43m.\u001b[39;49m\u001b[43merror_handler\u001b[49m\u001b[38;5;241;43m.\u001b[39;49m\u001b[43mcheck_response\u001b[49m\u001b[43m(\u001b[49m\u001b[43mresponse\u001b[49m\u001b[43m)\u001b[49m\n\u001b[0;32m    346\u001b[0m     response[\u001b[38;5;124m\"\u001b[39m\u001b[38;5;124mvalue\u001b[39m\u001b[38;5;124m\"\u001b[39m] \u001b[38;5;241m=\u001b[39m \u001b[38;5;28mself\u001b[39m\u001b[38;5;241m.\u001b[39m_unwrap_value(response\u001b[38;5;241m.\u001b[39mget(\u001b[38;5;124m\"\u001b[39m\u001b[38;5;124mvalue\u001b[39m\u001b[38;5;124m\"\u001b[39m, \u001b[38;5;28;01mNone\u001b[39;00m))\n\u001b[0;32m    347\u001b[0m     \u001b[38;5;28;01mreturn\u001b[39;00m response\n",
      "File \u001b[1;32mc:\\Users\\moons\\AppData\\Local\\Programs\\Python\\Python311\\Lib\\site-packages\\selenium\\webdriver\\remote\\errorhandler.py:229\u001b[0m, in \u001b[0;36mErrorHandler.check_response\u001b[1;34m(self, response)\u001b[0m\n\u001b[0;32m    227\u001b[0m         alert_text \u001b[38;5;241m=\u001b[39m value[\u001b[38;5;124m\"\u001b[39m\u001b[38;5;124malert\u001b[39m\u001b[38;5;124m\"\u001b[39m]\u001b[38;5;241m.\u001b[39mget(\u001b[38;5;124m\"\u001b[39m\u001b[38;5;124mtext\u001b[39m\u001b[38;5;124m\"\u001b[39m)\n\u001b[0;32m    228\u001b[0m     \u001b[38;5;28;01mraise\u001b[39;00m exception_class(message, screen, stacktrace, alert_text)  \u001b[38;5;66;03m# type: ignore[call-arg]  # mypy is not smart enough here\u001b[39;00m\n\u001b[1;32m--> 229\u001b[0m \u001b[38;5;28;01mraise\u001b[39;00m exception_class(message, screen, stacktrace)\n",
      "\u001b[1;31mInvalidSessionIdException\u001b[0m: Message: invalid session id: session deleted as the browser has closed the connection\nfrom disconnected: not connected to DevTools\n  (Session info: chrome=137.0.7151.104)\nStacktrace:\n\tGetHandleVerifier [0x0x7ff6b1effe75+79173]\n\tGetHandleVerifier [0x0x7ff6b1effed0+79264]\n\t(No symbol) [0x0x7ff6b1cb9e5a]\n\t(No symbol) [0x0x7ff6b1ca5c25]\n\t(No symbol) [0x0x7ff6b1ccac44]\n\t(No symbol) [0x0x7ff6b1d403c5]\n\t(No symbol) [0x0x7ff6b1d60922]\n\t(No symbol) [0x0x7ff6b1d38743]\n\t(No symbol) [0x0x7ff6b1d014c1]\n\t(No symbol) [0x0x7ff6b1d02253]\n\tGetHandleVerifier [0x0x7ff6b21ca2ad+3004797]\n\tGetHandleVerifier [0x0x7ff6b21c46fd+2981325]\n\tGetHandleVerifier [0x0x7ff6b21e3350+3107360]\n\tGetHandleVerifier [0x0x7ff6b1f1a9fe+188622]\n\tGetHandleVerifier [0x0x7ff6b1f2228f+219487]\n\tGetHandleVerifier [0x0x7ff6b1f08dc4+115860]\n\tGetHandleVerifier [0x0x7ff6b1f08f79+116297]\n\tGetHandleVerifier [0x0x7ff6b1eef528+11256]\n\tBaseThreadInitThunk [0x0x7ffd1ae4e8d7+23]\n\tRtlUserThreadStart [0x0x7ffd1c2bc34c+44]\n"
     ]
    }
   ],
   "source": [
    "dart_save('SK하이닉스')"
   ]
  }
 ],
 "metadata": {
  "kernelspec": {
   "display_name": "Python 3",
   "language": "python",
   "name": "python3"
  },
  "language_info": {
   "codemirror_mode": {
    "name": "ipython",
    "version": 3
   },
   "file_extension": ".py",
   "mimetype": "text/x-python",
   "name": "python",
   "nbconvert_exporter": "python",
   "pygments_lexer": "ipython3",
   "version": "3.11.1"
  }
 },
 "nbformat": 4,
 "nbformat_minor": 5
}
