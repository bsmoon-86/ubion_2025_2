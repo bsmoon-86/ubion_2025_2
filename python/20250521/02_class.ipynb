{
 "cells": [
  {
   "cell_type": "markdown",
   "id": "b23167da",
   "metadata": {},
   "source": [
    "### class 선언\n",
    "- class 라는 키워드를 이용하여 선언\n",
    "- class 의 이름은 일반적으로 단어의 앞글자는 대문자로 표기\n",
    "\n",
    "### class 생성 \n",
    "- 선언이 된 class를 변수에 저장하는 과정\n",
    "- 선언디 된 class를 여러개의 변수에서 저장하여 따로 관리 가능\n",
    "\n",
    "### class 내부의 변수, 함수를 호출\n",
    "- 생성이 된 class(변수) 안에(.) 변수와 함수를 호출"
   ]
  },
  {
   "cell_type": "code",
   "execution_count": null,
   "id": "e41db5a6",
   "metadata": {},
   "outputs": [],
   "source": [
    "# 가장 기본적인 class을 선언 \n",
    "class Test:\n",
    "\n",
    "    # 생성자 함수(초기화 함수) : 매개변수 self는 필수로 입력\n",
    "    # class가 생성이 될때 최초로 한번만 실행이 되는 함수를 의미 \n",
    "    # 따로 호출할 필요는 없다.\n",
    "    def __init__(self, input_a, input_b):\n",
    "        # 총 매개변수는 3개\n",
    "        # class를 생성할때 인자 값은 2개\n",
    "        # self -> class 가 생성이 되는 위치가 자동으로 입력\n",
    "        # class 내부에서 사용할 변수를 생성하는 함수 \n",
    "        # class가 생성된 위치(self) 안에(.) 변수(a)를 생성\n",
    "        self.a = input_a\n",
    "        self.b = input_b\n",
    "    \n",
    "    # class 내부에서 생성이되는 함수는 일반적으로는 self 매개변수 이용\n",
    "    def add_value(self):\n",
    "        result = self.a + self.b\n",
    "        return result"
   ]
  },
  {
   "cell_type": "code",
   "execution_count": null,
   "id": "4efd17df",
   "metadata": {},
   "outputs": [],
   "source": [
    "# class 생성\n",
    "class_1 = Test('팥', '붕어빵')"
   ]
  },
  {
   "cell_type": "code",
   "execution_count": null,
   "id": "7d7aaaec",
   "metadata": {},
   "outputs": [],
   "source": [
    "class_2 = Test('슈크림', '붕어빵')"
   ]
  },
  {
   "cell_type": "code",
   "execution_count": null,
   "id": "9d00efcd",
   "metadata": {},
   "outputs": [],
   "source": [
    "# class 안에 존재하는 변수를 호출 \n",
    "\n",
    "# class_1 안에(.) a를 호출\n",
    "print(class_1.a)\n",
    "# class_2 안에(.) a를 호출\n",
    "print(class_2.a)"
   ]
  },
  {
   "cell_type": "code",
   "execution_count": null,
   "id": "39886691",
   "metadata": {},
   "outputs": [],
   "source": [
    "print(class_1)"
   ]
  },
  {
   "cell_type": "code",
   "execution_count": null,
   "id": "22045784",
   "metadata": {},
   "outputs": [],
   "source": [
    "print(class_2)"
   ]
  },
  {
   "cell_type": "code",
   "execution_count": null,
   "id": "f7276cfa",
   "metadata": {},
   "outputs": [],
   "source": [
    "print(class_1.add_value())\n",
    "print(class_2.add_value())"
   ]
  },
  {
   "cell_type": "code",
   "execution_count": null,
   "id": "5c0f513c",
   "metadata": {},
   "outputs": [],
   "source": [
    "class_1.add_value()"
   ]
  },
  {
   "cell_type": "code",
   "execution_count": null,
   "id": "826685e5",
   "metadata": {},
   "outputs": [],
   "source": [
    "# 계산기 class\n",
    "class Calcurate:\n",
    "    # 생성자 함수에서 데이터를 2개를 생성 \n",
    "    def __init__(self, input_a, input_b):\n",
    "        self.a = input_a\n",
    "        self.b = input_b\n",
    "\n",
    "    # self.a와 self.b를 더해주는 함수 생성 \n",
    "    def add(self):\n",
    "        result = self.a + self.b\n",
    "        # self.a와 self.b 데이터의 변화는 없다\n",
    "        return result\n",
    "    \n",
    "    # self.a와 self.b를 빼주는 함수 생성\n",
    "    def sub(self):\n",
    "        result = self.a -self.b\n",
    "        return result\n",
    "\n",
    "    def multi(self):\n",
    "        result = self.a * self.b\n",
    "        return result\n",
    "    \n",
    "    def dev(self):\n",
    "        result = self.a / self.b\n",
    "        return result"
   ]
  },
  {
   "cell_type": "code",
   "execution_count": null,
   "id": "d5675b4a",
   "metadata": {},
   "outputs": [],
   "source": [
    "cal_1 = Calcurate(20, 4)\n",
    "cal_2 = Calcurate(40, 5)"
   ]
  },
  {
   "cell_type": "code",
   "execution_count": null,
   "id": "25ae908a",
   "metadata": {},
   "outputs": [],
   "source": [
    "# cal_1에는 a변수와 b변수 4개의 함수가 존재\n",
    "print(cal_1.add())\n",
    "print(cal_2.add())"
   ]
  },
  {
   "cell_type": "code",
   "execution_count": null,
   "id": "7df90d82",
   "metadata": {},
   "outputs": [],
   "source": [
    "print(cal_1.sub())\n",
    "print(cal_2.sub())"
   ]
  },
  {
   "cell_type": "code",
   "execution_count": null,
   "id": "dd6c9b81",
   "metadata": {},
   "outputs": [],
   "source": [
    "print(cal_1.multi())\n",
    "print(cal_2.multi())"
   ]
  },
  {
   "cell_type": "code",
   "execution_count": null,
   "id": "a75b11a3",
   "metadata": {},
   "outputs": [],
   "source": [
    "print(cal_1.dev())\n",
    "print(cal_2.dev())"
   ]
  },
  {
   "cell_type": "code",
   "execution_count": 40,
   "id": "7a66f4e5",
   "metadata": {},
   "outputs": [],
   "source": [
    "# 클래스 변수가 존재하는 클래스를 선언 \n",
    "# 클래스 변수 : 같은 클래스끼리 서로 공유하는 변수\n",
    "class Test2:\n",
    "    cnt = 0\n",
    "    user_list = []\n",
    "    def __init__(self, _name):\n",
    "        # 생성자 함수 \n",
    "        self.name = _name\n",
    "        # 클래스 변수인 cnt에 1을 증가시킨다. \n",
    "        Test2.cnt += 1\n",
    "        Test2.user_list.append(_name)"
   ]
  },
  {
   "cell_type": "code",
   "execution_count": 41,
   "id": "4b19171c",
   "metadata": {},
   "outputs": [],
   "source": [
    "user_1 = Test2('kim')"
   ]
  },
  {
   "cell_type": "code",
   "execution_count": 42,
   "id": "b28479f4",
   "metadata": {},
   "outputs": [
    {
     "data": {
      "text/plain": [
       "1"
      ]
     },
     "execution_count": 42,
     "metadata": {},
     "output_type": "execute_result"
    }
   ],
   "source": [
    "user_1.cnt"
   ]
  },
  {
   "cell_type": "code",
   "execution_count": 43,
   "id": "95311429",
   "metadata": {},
   "outputs": [
    {
     "data": {
      "text/plain": [
       "['kim']"
      ]
     },
     "execution_count": 43,
     "metadata": {},
     "output_type": "execute_result"
    }
   ],
   "source": [
    "user_1.user_list"
   ]
  },
  {
   "cell_type": "code",
   "execution_count": 44,
   "id": "5a1c58e5",
   "metadata": {},
   "outputs": [],
   "source": [
    "user_2 = Test2('park')"
   ]
  },
  {
   "cell_type": "code",
   "execution_count": 45,
   "id": "b6f95636",
   "metadata": {},
   "outputs": [
    {
     "data": {
      "text/plain": [
       "2"
      ]
     },
     "execution_count": 45,
     "metadata": {},
     "output_type": "execute_result"
    }
   ],
   "source": [
    "user_2.cnt"
   ]
  },
  {
   "cell_type": "code",
   "execution_count": 46,
   "id": "72110b4a",
   "metadata": {},
   "outputs": [
    {
     "data": {
      "text/plain": [
       "['kim', 'park']"
      ]
     },
     "execution_count": 46,
     "metadata": {},
     "output_type": "execute_result"
    }
   ],
   "source": [
    "user_2.user_list"
   ]
  },
  {
   "cell_type": "code",
   "execution_count": 47,
   "id": "72d50798",
   "metadata": {},
   "outputs": [
    {
     "data": {
      "text/plain": [
       "2"
      ]
     },
     "execution_count": 47,
     "metadata": {},
     "output_type": "execute_result"
    }
   ],
   "source": [
    "user_1.cnt"
   ]
  },
  {
   "cell_type": "markdown",
   "id": "3970fc5a",
   "metadata": {},
   "source": [
    "### 은행 계좌 class 생성\n",
    "- 클래스 변수 생성 \n",
    "    - total_cost = 0, user_cnt = 0\n",
    "\n",
    "- 생성자 함수 (생성된 class에서 독립적으로 가지고 있는 변수 생성) \n",
    "    - name [str]\n",
    "    - birth [str]\n",
    "    - cost [int] -> 기본값을 0\n",
    "    - log [list] -> 매개변수로 생성하지 않고 변수로 생성 하여 빈 리스트로 대입\n",
    "\n",
    "- 함수 생성 \n",
    "    - 입/출금\n",
    "        - 매개변수 2개\n",
    "            - _type -> 입금(1)인가 출금(2)인가?\n",
    "            - _cost\n",
    "        - _type이 1이라면 self.cost를 _cost만큼 증가 시키고 total_cost도 _cost만큼 증가\n",
    "        - _type이 2라면 self.cost를 _cost만큼 감소 시키고 total_cost도 _cost만큼 감소\n",
    "        - log에 [_type, _cost, self.cost] 추가\n",
    "    - 로그를 출력하는 함수 \n",
    "        - 매개변수 X \n",
    "        - self.log를 출력"
   ]
  },
  {
   "cell_type": "code",
   "execution_count": 49,
   "id": "017eb5f8",
   "metadata": {},
   "outputs": [],
   "source": [
    "class Bank:\n",
    "    # 클래스 변수 \n",
    "    total_cost = 0\n",
    "    user_cnt = 0\n",
    "\n",
    "    # 생성자 함수 \n",
    "    def __init__(self, _name, _birth, _cost = 0):\n",
    "        self.name = _name\n",
    "        self.birth = _birth\n",
    "        self.cost = _cost\n",
    "        self.log = []\n",
    "        Bank.user_cnt += 1\n",
    "    \n",
    "    # 입출금 함수 \n",
    "    def change_cost(self, _type, _cost):\n",
    "        # _type이 1인 경우 2인 경우 \n",
    "        if _type == 1:\n",
    "            # self.cost를 _cost만큼 증가시킨다. \n",
    "            # self.cost = self.cost + _cost\n",
    "            self.cost += _cost\n",
    "            # total_cost 증가 \n",
    "            Bank.total_cost += _cost\n",
    "        elif _type == 2:\n",
    "            self.cost -= _cost\n",
    "            Bank.total_cost -= _cost\n",
    "        else:\n",
    "            return \"_type의 값이 잘못되었습니다.\"\n",
    "        # log에 1차원 데이터를 추가 \n",
    "        self.log.append( [_type, _cost, self.cost] )\n",
    "        return f\"현재 잔액은 {self.cost}원 입니다.\"\n",
    "    # log를 출력하는 함수\n",
    "    def view_log(self):\n",
    "        # print(self.log)\n",
    "        for i in self.log:\n",
    "            print(i)"
   ]
  },
  {
   "cell_type": "code",
   "execution_count": 50,
   "id": "29c2c812",
   "metadata": {},
   "outputs": [],
   "source": [
    "bank1 = Bank('kim', '950101')"
   ]
  },
  {
   "cell_type": "code",
   "execution_count": 51,
   "id": "ce9c6a0f",
   "metadata": {},
   "outputs": [],
   "source": [
    "bank2 = Bank('park', '901010', 100000)"
   ]
  },
  {
   "cell_type": "code",
   "execution_count": 52,
   "id": "0a317938",
   "metadata": {},
   "outputs": [
    {
     "data": {
      "text/plain": [
       "'현재 잔액은 10000원 입니다.'"
      ]
     },
     "execution_count": 52,
     "metadata": {},
     "output_type": "execute_result"
    }
   ],
   "source": [
    "# 입금\n",
    "bank1.change_cost(1, 10000)"
   ]
  },
  {
   "cell_type": "code",
   "execution_count": 53,
   "id": "d8b123e2",
   "metadata": {},
   "outputs": [
    {
     "data": {
      "text/plain": [
       "'현재 잔액은 5000원 입니다.'"
      ]
     },
     "execution_count": 53,
     "metadata": {},
     "output_type": "execute_result"
    }
   ],
   "source": [
    "bank1.change_cost(2, 5000)"
   ]
  },
  {
   "cell_type": "code",
   "execution_count": 54,
   "id": "293d919b",
   "metadata": {},
   "outputs": [
    {
     "data": {
      "text/plain": [
       "'현재 잔액은 150000원 입니다.'"
      ]
     },
     "execution_count": 54,
     "metadata": {},
     "output_type": "execute_result"
    }
   ],
   "source": [
    "bank2.change_cost(1, 50000)"
   ]
  },
  {
   "cell_type": "code",
   "execution_count": 55,
   "id": "c8f29b98",
   "metadata": {},
   "outputs": [
    {
     "name": "stdout",
     "output_type": "stream",
     "text": [
      "[1, 10000, 10000]\n",
      "[2, 5000, 5000]\n"
     ]
    }
   ],
   "source": [
    "bank1.view_log()"
   ]
  },
  {
   "cell_type": "code",
   "execution_count": 56,
   "id": "ec054977",
   "metadata": {},
   "outputs": [
    {
     "name": "stdout",
     "output_type": "stream",
     "text": [
      "[1, 50000, 150000]\n"
     ]
    }
   ],
   "source": [
    "bank2.view_log()"
   ]
  },
  {
   "cell_type": "code",
   "execution_count": null,
   "id": "97aa98ce",
   "metadata": {},
   "outputs": [],
   "source": []
  }
 ],
 "metadata": {
  "kernelspec": {
   "display_name": "Python 3",
   "language": "python",
   "name": "python3"
  },
  "language_info": {
   "codemirror_mode": {
    "name": "ipython",
    "version": 3
   },
   "file_extension": ".py",
   "mimetype": "text/x-python",
   "name": "python",
   "nbconvert_exporter": "python",
   "pygments_lexer": "ipython3",
   "version": "3.11.1"
  }
 },
 "nbformat": 4,
 "nbformat_minor": 5
}
