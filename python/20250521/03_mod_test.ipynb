{
 "cells": [
  {
   "cell_type": "code",
   "execution_count": 1,
   "id": "726e344f",
   "metadata": {},
   "outputs": [
    {
     "ename": "ModuleNotFoundError",
     "evalue": "No module named 'mod'",
     "output_type": "error",
     "traceback": [
      "\u001b[1;31m---------------------------------------------------------------------------\u001b[0m",
      "\u001b[1;31mModuleNotFoundError\u001b[0m                       Traceback (most recent call last)",
      "Cell \u001b[1;32mIn[1], line 7\u001b[0m\n\u001b[0;32m      1\u001b[0m \u001b[38;5;66;03m# 외부의 py 파일을 로드 \u001b[39;00m\n\u001b[0;32m      2\u001b[0m \u001b[38;5;66;03m# import 모듈명\u001b[39;00m\n\u001b[0;32m      3\u001b[0m \u001b[38;5;66;03m# from 모듈명 import (변수, 함수, 클래스, 모듈듈)\u001b[39;00m\n\u001b[0;32m      4\u001b[0m \u001b[38;5;66;03m# import matplotlib.pyplot \u001b[39;00m\n\u001b[0;32m      5\u001b[0m \u001b[38;5;66;03m# from matplotlib import pyplot\u001b[39;00m\n\u001b[1;32m----> 7\u001b[0m \u001b[38;5;28;01mimport\u001b[39;00m \u001b[38;5;21;01mmod\u001b[39;00m\n",
      "\u001b[1;31mModuleNotFoundError\u001b[0m: No module named 'mod'"
     ]
    }
   ],
   "source": [
    "# 외부의 py 파일을 로드 \n",
    "# import 모듈명\n",
    "# from 모듈명 import (변수, 함수, 클래스, 모듈듈)\n",
    "# import matplotlib.pyplot \n",
    "# from matplotlib import pyplot\n",
    "\n",
    "import mod"
   ]
  },
  {
   "cell_type": "code",
   "execution_count": 2,
   "id": "c6cebe7c",
   "metadata": {},
   "outputs": [],
   "source": [
    "# 특정한 모듈을 강제적으로 리로드\n",
    "import importlib"
   ]
  },
  {
   "cell_type": "code",
   "execution_count": null,
   "id": "2097f022",
   "metadata": {},
   "outputs": [],
   "source": [
    "importlib.reload(mod)"
   ]
  },
  {
   "cell_type": "code",
   "execution_count": null,
   "id": "2560226e",
   "metadata": {},
   "outputs": [],
   "source": [
    "# mod 모듈에서 변수를 호출 \n",
    "mod.test_data"
   ]
  },
  {
   "cell_type": "code",
   "execution_count": null,
   "id": "d24e04ee",
   "metadata": {},
   "outputs": [],
   "source": [
    "# mod 모듈에서 custom_sum() 함수를 호출 \n",
    "# 해당 함수는 매개변수 2개\n",
    "mod.custom_sum(1, 10)"
   ]
  },
  {
   "cell_type": "code",
   "execution_count": null,
   "id": "e3f0c55b",
   "metadata": {},
   "outputs": [],
   "source": [
    "mod.custom_sum(10, 1)"
   ]
  },
  {
   "cell_type": "code",
   "execution_count": null,
   "id": "2a537a7b",
   "metadata": {},
   "outputs": [],
   "source": [
    "cal_1 = mod.Calcurate(10, 4)"
   ]
  },
  {
   "cell_type": "code",
   "execution_count": null,
   "id": "87817f9c",
   "metadata": {},
   "outputs": [],
   "source": [
    "cal_1.add()"
   ]
  },
  {
   "cell_type": "code",
   "execution_count": null,
   "id": "cad5827a",
   "metadata": {},
   "outputs": [],
   "source": [
    "cal_1.sub()"
   ]
  },
  {
   "cell_type": "code",
   "execution_count": null,
   "id": "115e88ad",
   "metadata": {},
   "outputs": [],
   "source": [
    "cal_1.multi()"
   ]
  },
  {
   "cell_type": "code",
   "execution_count": null,
   "id": "8b3b1915",
   "metadata": {},
   "outputs": [],
   "source": [
    "cal_1.dev()"
   ]
  },
  {
   "cell_type": "code",
   "execution_count": 3,
   "id": "4ef674d7",
   "metadata": {},
   "outputs": [],
   "source": [
    "# python 환경변수를 확인\n",
    "import sys"
   ]
  },
  {
   "cell_type": "code",
   "execution_count": 5,
   "id": "ac29db0b",
   "metadata": {},
   "outputs": [
    {
     "data": {
      "text/plain": [
       "['c:\\\\ubion_2025_2\\\\python\\\\20250521',\n",
       " 'C:\\\\pyCode\\\\packages',\n",
       " 'C:\\\\pyCode\\\\modules',\n",
       " 'c:\\\\Users\\\\moons\\\\AppData\\\\Local\\\\Programs\\\\Python\\\\Python311\\\\python311.zip',\n",
       " 'c:\\\\Users\\\\moons\\\\AppData\\\\Local\\\\Programs\\\\Python\\\\Python311\\\\Lib',\n",
       " 'c:\\\\Users\\\\moons\\\\AppData\\\\Local\\\\Programs\\\\Python\\\\Python311\\\\DLLs',\n",
       " '',\n",
       " 'C:\\\\Users\\\\moons\\\\AppData\\\\Roaming\\\\Python\\\\Python311\\\\site-packages',\n",
       " 'C:\\\\Users\\\\moons\\\\AppData\\\\Roaming\\\\Python\\\\Python311\\\\site-packages\\\\win32',\n",
       " 'C:\\\\Users\\\\moons\\\\AppData\\\\Roaming\\\\Python\\\\Python311\\\\site-packages\\\\win32\\\\lib',\n",
       " 'C:\\\\Users\\\\moons\\\\AppData\\\\Roaming\\\\Python\\\\Python311\\\\site-packages\\\\Pythonwin',\n",
       " 'c:\\\\Users\\\\moons\\\\AppData\\\\Local\\\\Programs\\\\Python\\\\Python311',\n",
       " 'c:\\\\Users\\\\moons\\\\AppData\\\\Local\\\\Programs\\\\Python\\\\Python311\\\\Lib\\\\site-packages']"
      ]
     },
     "execution_count": 5,
     "metadata": {},
     "output_type": "execute_result"
    }
   ],
   "source": [
    "sys.path"
   ]
  },
  {
   "cell_type": "code",
   "execution_count": null,
   "id": "0916d0eb",
   "metadata": {},
   "outputs": [],
   "source": []
  }
 ],
 "metadata": {
  "kernelspec": {
   "display_name": "Python 3",
   "language": "python",
   "name": "python3"
  },
  "language_info": {
   "codemirror_mode": {
    "name": "ipython",
    "version": 3
   },
   "file_extension": ".py",
   "mimetype": "text/x-python",
   "name": "python",
   "nbconvert_exporter": "python",
   "pygments_lexer": "ipython3",
   "version": "3.11.1"
  }
 },
 "nbformat": 4,
 "nbformat_minor": 5
}
