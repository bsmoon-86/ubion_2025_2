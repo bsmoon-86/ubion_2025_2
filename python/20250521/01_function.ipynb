{
 "cells": [
  {
   "cell_type": "code",
   "execution_count": 1,
   "id": "900f4014",
   "metadata": {},
   "outputs": [],
   "source": [
    "# 함수 \n",
    "# 특정한 행동(기능)\n",
    "# python에서는 함수는 def 키워드를 이용해서 생성\n",
    "def func_1():\n",
    "    # 매개변수가 존재하지 않는 함수 \n",
    "    # 함수가 하는 기능이 제한적\n",
    "    print('Hello')\n",
    "    # func_1함수는 Hello 출력해준다.\n",
    "\n",
    "def func_2():\n",
    "    return \"Hello\"\n",
    "    # func_2함수는 Hello를 되돌려준다. "
   ]
  },
  {
   "cell_type": "code",
   "execution_count": 2,
   "id": "88edd02e",
   "metadata": {},
   "outputs": [
    {
     "name": "stdout",
     "output_type": "stream",
     "text": [
      "Hello\n"
     ]
    }
   ],
   "source": [
    "# func_1, func_2 호출\n",
    "func_1()"
   ]
  },
  {
   "cell_type": "code",
   "execution_count": 3,
   "id": "0d5e60a8",
   "metadata": {},
   "outputs": [
    {
     "data": {
      "text/plain": [
       "'Hello'"
      ]
     },
     "execution_count": 3,
     "metadata": {},
     "output_type": "execute_result"
    }
   ],
   "source": [
    "func_2()"
   ]
  },
  {
   "cell_type": "code",
   "execution_count": 4,
   "id": "b6d5cefb",
   "metadata": {},
   "outputs": [
    {
     "name": "stdout",
     "output_type": "stream",
     "text": [
      "Hello\n"
     ]
    }
   ],
   "source": [
    "# func_1, func_2 함수를 호출한 결과를 변수에 대입 \n",
    "a = func_1()\n",
    "b = func_2()"
   ]
  },
  {
   "cell_type": "code",
   "execution_count": 5,
   "id": "7afa62e9",
   "metadata": {},
   "outputs": [
    {
     "name": "stdout",
     "output_type": "stream",
     "text": [
      "None\n",
      "Hello\n"
     ]
    }
   ],
   "source": [
    "print(a)\n",
    "print(b)"
   ]
  },
  {
   "cell_type": "code",
   "execution_count": 6,
   "id": "82ab17ea",
   "metadata": {},
   "outputs": [],
   "source": [
    "# 매개변수가 존재하는 함수 생성 \n",
    "def func_3(x, y):\n",
    "    # result 변수 생성하여 x + y 더한 데이터를 대입 \n",
    "    result = x + y\n",
    "    # result를 되돌려준다. \n",
    "    return result"
   ]
  },
  {
   "cell_type": "code",
   "execution_count": null,
   "id": "5c2e1b57",
   "metadata": {},
   "outputs": [],
   "source": [
    "func_3_res = func_3(10, 3)\n",
    "# func_3함수를 호출하는 과정 \n",
    "    # x 매개변수에는 10을 대입\n",
    "    # y 매개변수에는 3을 대입 \n",
    "    # result 변수를 생성하여 10 + 3 데이터를 대입\n",
    "    # result를 되돌려준다. \n",
    "# func_3_res에는 result의 데이터가 대입"
   ]
  },
  {
   "cell_type": "code",
   "execution_count": 8,
   "id": "44719466",
   "metadata": {},
   "outputs": [
    {
     "name": "stdout",
     "output_type": "stream",
     "text": [
      "13\n"
     ]
    }
   ],
   "source": [
    "print(func_3_res)"
   ]
  },
  {
   "cell_type": "markdown",
   "id": "d6807fc1",
   "metadata": {},
   "source": [
    "### 변수 \n",
    "- 메모리상에 데이터가 저장되는 공간에 이름 \n",
    "\n",
    "    - 전역 변수\n",
    "        - 전역의 의미는? -> 모든 공간 \n",
    "        - 해당하는 파일 어느서든 사용이 가능한 변수\n",
    "        - globals() 함수를 호출하면 전역변수를 확인 가능 \n",
    "    - 지역 변수\n",
    "        - 지역의 의미는? -> 특정한 공간\n",
    "        - 함수나 클래스 안에서만 사용이 가능한 변수 \n",
    "        - 함수에서 값을 되돌려준다(함수가 종료)되면 해당 변수들은 삭제\n",
    "        - 휘발성 변수"
   ]
  },
  {
   "cell_type": "code",
   "execution_count": 12,
   "id": "e8426c12",
   "metadata": {},
   "outputs": [],
   "source": [
    "# 함수 내부에서 생성된 지역 변수를 호출하면 해당하는 변수를 찾을수 없다\n",
    "# print(result)"
   ]
  },
  {
   "cell_type": "code",
   "execution_count": 13,
   "id": "901d5ae1",
   "metadata": {},
   "outputs": [
    {
     "name": "stdout",
     "output_type": "stream",
     "text": [
      "10\n",
      "10\n",
      "10\n"
     ]
    }
   ],
   "source": [
    "# 변수 생성 \n",
    "a = b = c = 10\n",
    "print(a)\n",
    "print(b)\n",
    "print(c)"
   ]
  },
  {
   "cell_type": "code",
   "execution_count": 14,
   "id": "b2ae8a2c",
   "metadata": {},
   "outputs": [
    {
     "name": "stdout",
     "output_type": "stream",
     "text": [
      "10\n",
      "A\n",
      "True\n"
     ]
    }
   ],
   "source": [
    "# 여러개의 변수에 여러데이터 데이터를 하나씩 대입\n",
    "x, y, z = 10, 'A', True\n",
    "print(x)\n",
    "print(y)\n",
    "print(z)"
   ]
  },
  {
   "cell_type": "code",
   "execution_count": 15,
   "id": "c32c5db0",
   "metadata": {},
   "outputs": [],
   "source": [
    "# 함수에서 되돌려주는 데이터가 2개 이상인 경우 \n",
    "def func_4(x, y):\n",
    "    # 지역변수 result, result2 생성 \n",
    "    result = x + y\n",
    "    result2 = x - y \n",
    "    return result, result2"
   ]
  },
  {
   "cell_type": "code",
   "execution_count": null,
   "id": "1ac3afd4",
   "metadata": {},
   "outputs": [],
   "source": [
    "# 함수에서 되돌려주는 데이터가 2개 이상이라면 하나의 변수에 데이터를 대입할때\n",
    "# 해당하는 타입은 tuple형태로 저장\n",
    "func_4_res = func_4(5, 2)"
   ]
  },
  {
   "cell_type": "code",
   "execution_count": 17,
   "id": "118b7f65",
   "metadata": {},
   "outputs": [
    {
     "name": "stdout",
     "output_type": "stream",
     "text": [
      "(7, 3)\n"
     ]
    }
   ],
   "source": [
    "print(func_4_res)"
   ]
  },
  {
   "cell_type": "code",
   "execution_count": 18,
   "id": "5c56702d",
   "metadata": {},
   "outputs": [
    {
     "name": "stdout",
     "output_type": "stream",
     "text": [
      "4\n",
      "2\n"
     ]
    }
   ],
   "source": [
    "# 함수에서 되돌려주는 데이터가 2개 이상일때 각각의 변수에 데이터를 저장하려면\n",
    "# 변수를 2개 생성하여 데이터를 대입 \n",
    "res1, res2 = func_4(3, 1)\n",
    "    # func_4 안에 매개변수 x에는 3을 대입\n",
    "    # 매개변수 y에는 1을 대입\n",
    "    # 지역 변수  result 는 3+1\n",
    "    # 지역 변수 result2 는 3-1\n",
    "    # 4, 2를 되돌려준다.\n",
    "# res1, res2 = 4, 2\n",
    "print(res1)\n",
    "print(res2)"
   ]
  },
  {
   "cell_type": "code",
   "execution_count": 19,
   "id": "3356cf19",
   "metadata": {},
   "outputs": [],
   "source": [
    "# 함수를 생성하고 호출하는 경우 \n",
    "# 매개변수의 개수와 인자 개수를 동일해야한다. \n",
    "def func_5(x):\n",
    "    result = x * 2\n",
    "    return result"
   ]
  },
  {
   "cell_type": "code",
   "execution_count": 21,
   "id": "927270e5",
   "metadata": {},
   "outputs": [],
   "source": [
    "# 매개변수가 1개인 함수에서 인자의 개수를 0개로 호출한다면\n",
    "\n",
    "# func_5()\n",
    "\n",
    "# 해당하는 함수에는 x라는 공간이 존재하고 데이터가 1개가 필요하다 \n",
    "# 에러 메시지 발생"
   ]
  },
  {
   "cell_type": "code",
   "execution_count": 23,
   "id": "82e5837a",
   "metadata": {},
   "outputs": [],
   "source": [
    "# 매개변수가 1개인 함수에서 인자의 개수를 2개로 호출한다면\n",
    "\n",
    "# func_5(1, 3)\n",
    "\n",
    "# 해당하는 함수에는 인자가 저장되는 공간이 1개밖에 없는데 2개의 데이터를 입력하였다. \n",
    "# 에러 메시지 발생"
   ]
  },
  {
   "cell_type": "code",
   "execution_count": 29,
   "id": "b64622cd",
   "metadata": {},
   "outputs": [
    {
     "name": "stdout",
     "output_type": "stream",
     "text": [
      "Hello world abc\t12345\n"
     ]
    }
   ],
   "source": [
    "# print() 함수\n",
    "# print() 함수에는 end 매개변수가 존재 -> 기본값은 줄바꿈(\\n)\n",
    "print('Hello', 'world', 'abc', end= '\\t')\n",
    "print(12345)"
   ]
  },
  {
   "cell_type": "code",
   "execution_count": 30,
   "id": "68a19d31",
   "metadata": {},
   "outputs": [],
   "source": [
    "# 인자의 개수가 가변인 함수를 생성 \n",
    "# 매개변수명 앞에  *추가 \n",
    "def func_6(*args):\n",
    "    # args 변수는 여러개의 인자를 저장할수는 형태로 존재\n",
    "    print(args)\n",
    "    print(type(args))"
   ]
  },
  {
   "cell_type": "code",
   "execution_count": 31,
   "id": "1d1d6931",
   "metadata": {},
   "outputs": [
    {
     "name": "stdout",
     "output_type": "stream",
     "text": [
      "(1, 2, 3, 4, 5)\n",
      "<class 'tuple'>\n"
     ]
    }
   ],
   "source": [
    "func_6(1,2,3,4,5)"
   ]
  },
  {
   "cell_type": "code",
   "execution_count": 32,
   "id": "7cf0c404",
   "metadata": {},
   "outputs": [],
   "source": [
    "# 함수에서 매개변수에 기본값을 설정 \n",
    "def func_7(x, y = 2):\n",
    "    result = x ** y\n",
    "    return result"
   ]
  },
  {
   "cell_type": "code",
   "execution_count": 33,
   "id": "5b877c36",
   "metadata": {},
   "outputs": [
    {
     "name": "stdout",
     "output_type": "stream",
     "text": [
      "100\n",
      "125\n"
     ]
    }
   ],
   "source": [
    "# func_7에는 매개변수 중 y는 기본값이 설정되어있음으로 x의 인자만 대입하여 실행 가능\n",
    "print(func_7(10))\n",
    "print(func_7(5, 3))"
   ]
  },
  {
   "cell_type": "code",
   "execution_count": 35,
   "id": "a63730ad",
   "metadata": {},
   "outputs": [],
   "source": [
    "# 함수 생성시 매개변수에 기본값을 설정하는데 첫번째 매개변수에만 기본값을 설정\n",
    "# def func_8(x = 1, y):\n",
    "#     return x + y\n",
    "# 매개변수에 기본값을 설정하는 경우는 마지막부터 채워서 설정"
   ]
  },
  {
   "cell_type": "code",
   "execution_count": 36,
   "id": "e5301cb8",
   "metadata": {},
   "outputs": [],
   "source": [
    "# 인자의 개수가 가변인 매개변수와 데이터를 하나 저장할수 있는 매개변수를 생성 \n",
    "def func_9(*args, data):\n",
    "    print(args)\n",
    "    print(data)"
   ]
  },
  {
   "cell_type": "code",
   "execution_count": 38,
   "id": "33182cf3",
   "metadata": {},
   "outputs": [
    {
     "name": "stdout",
     "output_type": "stream",
     "text": [
      "(1, 2, 3, 4, 5)\n",
      "10\n"
     ]
    }
   ],
   "source": [
    "func_9(1,2,3,4,5, data=10)"
   ]
  },
  {
   "cell_type": "code",
   "execution_count": 39,
   "id": "b811262d",
   "metadata": {},
   "outputs": [],
   "source": [
    "def func_10(data, *args):\n",
    "    print(data)\n",
    "    print(args)"
   ]
  },
  {
   "cell_type": "code",
   "execution_count": 40,
   "id": "7138839a",
   "metadata": {},
   "outputs": [
    {
     "name": "stdout",
     "output_type": "stream",
     "text": [
      "1\n",
      "(2, 3, 4, 5)\n"
     ]
    }
   ],
   "source": [
    "func_10(1,2,3,4,5)"
   ]
  },
  {
   "cell_type": "code",
   "execution_count": 46,
   "id": "58b3b878",
   "metadata": {},
   "outputs": [],
   "source": [
    "# 함수를 생성\n",
    "# 매개변수가 인자의 개수가 가변인 형태 매개변수 1개 \n",
    "# 두번째 매개변수 첫번째 매개변수에 데이터들 중 \n",
    "# 최대값, 최소값, 평균을 보여줄지 지정하는 변수 (기본값은 max)\n",
    "\n",
    "def func_11( *_datas, _type = 'max' ):\n",
    "    # _type이 max인 경우 \n",
    "    if _type == 'max':\n",
    "        # _datas에서 가장 큰 값을 저장 \n",
    "        result = _datas[0]\n",
    "        # _datas의 2번째 데이터부터 마지막 데이터까지 result와 비교하여\n",
    "        # 큰 데이터를 result에 대입\n",
    "        for i in range(1, len(_datas), 1):\n",
    "            if result < _datas[i]:\n",
    "                result = _datas[i]\n",
    "    # _type이 min인 경우\n",
    "    elif _type == 'min':\n",
    "        result = _datas[0]\n",
    "        for i in range(1, len(_datas), 1):\n",
    "            if result > _datas[i]:\n",
    "                result = _datas[i]\n",
    "    # _type이 mean인 경우\n",
    "    elif _type == 'mean':\n",
    "        # _datas의 누적합\n",
    "        result = 0\n",
    "        # range()를 이용한 for문\n",
    "        # for i in range(0, len(_datas), 1):\n",
    "        #     result += _datas[i]\n",
    "        for i in _datas:\n",
    "            result += i\n",
    "        # 누적합 / 데이터의 개수\n",
    "        result /= len(_datas)\n",
    "    else:\n",
    "        print('_type 매개변수에는 max, min, mean만 가능합니다.')\n",
    "    \n",
    "    return result"
   ]
  },
  {
   "cell_type": "code",
   "execution_count": 47,
   "id": "ec6efbab",
   "metadata": {},
   "outputs": [
    {
     "data": {
      "text/plain": [
       "5"
      ]
     },
     "execution_count": 47,
     "metadata": {},
     "output_type": "execute_result"
    }
   ],
   "source": [
    "func_11(1,2,3,4,5)"
   ]
  },
  {
   "cell_type": "code",
   "execution_count": 48,
   "id": "cf3f7b65",
   "metadata": {},
   "outputs": [
    {
     "data": {
      "text/plain": [
       "1"
      ]
     },
     "execution_count": 48,
     "metadata": {},
     "output_type": "execute_result"
    }
   ],
   "source": [
    "func_11(1,2,3,4,5, _type='min')"
   ]
  },
  {
   "cell_type": "code",
   "execution_count": 49,
   "id": "7999ee7c",
   "metadata": {},
   "outputs": [
    {
     "data": {
      "text/plain": [
       "3.0"
      ]
     },
     "execution_count": 49,
     "metadata": {},
     "output_type": "execute_result"
    }
   ],
   "source": [
    "func_11(1,2,3,4,5, _type='mean')"
   ]
  },
  {
   "cell_type": "code",
   "execution_count": 50,
   "id": "ec27ac77",
   "metadata": {},
   "outputs": [
    {
     "name": "stdout",
     "output_type": "stream",
     "text": [
      "_type 매개변수에는 max, min, mean만 가능합니다.\n"
     ]
    },
    {
     "ename": "UnboundLocalError",
     "evalue": "cannot access local variable 'result' where it is not associated with a value",
     "output_type": "error",
     "traceback": [
      "\u001b[1;31m---------------------------------------------------------------------------\u001b[0m",
      "\u001b[1;31mUnboundLocalError\u001b[0m                         Traceback (most recent call last)",
      "Cell \u001b[1;32mIn[50], line 1\u001b[0m\n\u001b[1;32m----> 1\u001b[0m \u001b[43mfunc_11\u001b[49m\u001b[43m(\u001b[49m\u001b[38;5;241;43m1\u001b[39;49m\u001b[43m,\u001b[49m\u001b[38;5;241;43m2\u001b[39;49m\u001b[43m,\u001b[49m\u001b[38;5;241;43m3\u001b[39;49m\u001b[43m,\u001b[49m\u001b[38;5;241;43m4\u001b[39;49m\u001b[43m,\u001b[49m\u001b[38;5;241;43m5\u001b[39;49m\u001b[43m,\u001b[49m\u001b[43m \u001b[49m\u001b[43m_type\u001b[49m\u001b[38;5;241;43m=\u001b[39;49m\u001b[38;5;124;43m'\u001b[39;49m\u001b[38;5;124;43msum\u001b[39;49m\u001b[38;5;124;43m'\u001b[39;49m\u001b[43m)\u001b[49m\n",
      "Cell \u001b[1;32mIn[46], line 36\u001b[0m, in \u001b[0;36mfunc_11\u001b[1;34m(_type, *_datas)\u001b[0m\n\u001b[0;32m     33\u001b[0m \u001b[38;5;28;01melse\u001b[39;00m:\n\u001b[0;32m     34\u001b[0m     \u001b[38;5;28mprint\u001b[39m(\u001b[38;5;124m'\u001b[39m\u001b[38;5;124m_type 매개변수에는 max, min, mean만 가능합니다.\u001b[39m\u001b[38;5;124m'\u001b[39m)\n\u001b[1;32m---> 36\u001b[0m \u001b[38;5;28;01mreturn\u001b[39;00m \u001b[43mresult\u001b[49m\n",
      "\u001b[1;31mUnboundLocalError\u001b[0m: cannot access local variable 'result' where it is not associated with a value"
     ]
    }
   ],
   "source": [
    "func_11(1,2,3,4,5, _type='sum')"
   ]
  }
 ],
 "metadata": {
  "kernelspec": {
   "display_name": "Python 3",
   "language": "python",
   "name": "python3"
  },
  "language_info": {
   "codemirror_mode": {
    "name": "ipython",
    "version": 3
   },
   "file_extension": ".py",
   "mimetype": "text/x-python",
   "name": "python",
   "nbconvert_exporter": "python",
   "pygments_lexer": "ipython3",
   "version": "3.11.1"
  }
 },
 "nbformat": 4,
 "nbformat_minor": 5
}
