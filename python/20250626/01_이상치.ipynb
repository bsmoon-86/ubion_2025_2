{
 "cells": [
  {
   "cell_type": "markdown",
   "id": "96875a77",
   "metadata": {},
   "source": [
    "# 이상치\n",
    "- 결측치, 범위에서 크게 벗어나는 데이터\n",
    "- 분석 모델의 성능을 떨어뜨리거나 결과에 악영향을 미치는 경우 발생\n",
    "- 이상치를 발견하면 확인 작업 후 특정한 값을 대체, 삭제\n",
    "- 극단치 -> IQR 방식 \n",
    "    - matplotlib에서  boxplot 함수를 이용하여 극단치를 확인\n",
    "    - Q3(3사분위수)와 Q1(1사분위수)를 이용하여 범위 지정 \n",
    "    - IQR = Q3 - Q1\n",
    "    - 극단치의 경계 (Q3 + 1.5 * IQR), (Q1 - 1.5 * IQR)\n",
    "    - 해당 경계값을 loc를 이용하여 확인 \n",
    "    - 1.5 값을 조절하여 극단치의 범위를 변경"
   ]
  },
  {
   "cell_type": "code",
   "execution_count": null,
   "id": "6c33d46f",
   "metadata": {},
   "outputs": [],
   "source": [
    "# 사이킷런 설치 \n",
    "# !pip install scikit-learn"
   ]
  },
  {
   "cell_type": "code",
   "execution_count": 3,
   "id": "bd844e2a",
   "metadata": {},
   "outputs": [],
   "source": [
    "import pandas as pd\n",
    "import numpy as np\n",
    "import matplotlib.pyplot as plt\n",
    "from sklearn.datasets import load_wine"
   ]
  },
  {
   "cell_type": "code",
   "execution_count": 4,
   "id": "2883138d",
   "metadata": {},
   "outputs": [],
   "source": [
    "# 데이터셋 로드 \n",
    "wine_load = load_wine()"
   ]
  },
  {
   "cell_type": "code",
   "execution_count": null,
   "id": "c1314004",
   "metadata": {},
   "outputs": [
    {
     "data": {
      "text/plain": [
       "dict_keys(['data', 'target', 'frame', 'target_names', 'DESCR', 'feature_names'])"
      ]
     },
     "execution_count": 6,
     "metadata": {},
     "output_type": "execute_result"
    }
   ],
   "source": [
    "wine_load.keys()                                                                                                                                                                                                                                                                                                                                                                                                                                                                                                                                                                                                                                                                                                                                                                                                                                                                                                                                                                                                                                                                                                                                                                                                                                                                                                                                                                                            "
   ]
  },
  {
   "cell_type": "code",
   "execution_count": null,
   "id": "df7c0379",
   "metadata": {},
   "outputs": [],
   "source": [
    "# data, feature_names를 이용해서 데이터프레임 생성 \n",
    "wine = pd.DataFrame( wine_load['data'], \n",
    "                    columns=wine_load['feature_names'] )"
   ]
  },
  {
   "cell_type": "code",
   "execution_count": 9,
   "id": "1f67498d",
   "metadata": {},
   "outputs": [
    {
     "data": {
      "text/html": [
       "<div>\n",
       "<style scoped>\n",
       "    .dataframe tbody tr th:only-of-type {\n",
       "        vertical-align: middle;\n",
       "    }\n",
       "\n",
       "    .dataframe tbody tr th {\n",
       "        vertical-align: top;\n",
       "    }\n",
       "\n",
       "    .dataframe thead th {\n",
       "        text-align: right;\n",
       "    }\n",
       "</style>\n",
       "<table border=\"1\" class=\"dataframe\">\n",
       "  <thead>\n",
       "    <tr style=\"text-align: right;\">\n",
       "      <th></th>\n",
       "      <th>alcohol</th>\n",
       "      <th>malic_acid</th>\n",
       "      <th>ash</th>\n",
       "      <th>alcalinity_of_ash</th>\n",
       "      <th>magnesium</th>\n",
       "      <th>total_phenols</th>\n",
       "      <th>flavanoids</th>\n",
       "      <th>nonflavanoid_phenols</th>\n",
       "      <th>proanthocyanins</th>\n",
       "      <th>color_intensity</th>\n",
       "      <th>hue</th>\n",
       "      <th>od280/od315_of_diluted_wines</th>\n",
       "      <th>proline</th>\n",
       "    </tr>\n",
       "  </thead>\n",
       "  <tbody>\n",
       "    <tr>\n",
       "      <th>0</th>\n",
       "      <td>14.23</td>\n",
       "      <td>1.71</td>\n",
       "      <td>2.43</td>\n",
       "      <td>15.6</td>\n",
       "      <td>127.0</td>\n",
       "      <td>2.80</td>\n",
       "      <td>3.06</td>\n",
       "      <td>0.28</td>\n",
       "      <td>2.29</td>\n",
       "      <td>5.64</td>\n",
       "      <td>1.04</td>\n",
       "      <td>3.92</td>\n",
       "      <td>1065.0</td>\n",
       "    </tr>\n",
       "    <tr>\n",
       "      <th>1</th>\n",
       "      <td>13.20</td>\n",
       "      <td>1.78</td>\n",
       "      <td>2.14</td>\n",
       "      <td>11.2</td>\n",
       "      <td>100.0</td>\n",
       "      <td>2.65</td>\n",
       "      <td>2.76</td>\n",
       "      <td>0.26</td>\n",
       "      <td>1.28</td>\n",
       "      <td>4.38</td>\n",
       "      <td>1.05</td>\n",
       "      <td>3.40</td>\n",
       "      <td>1050.0</td>\n",
       "    </tr>\n",
       "    <tr>\n",
       "      <th>2</th>\n",
       "      <td>13.16</td>\n",
       "      <td>2.36</td>\n",
       "      <td>2.67</td>\n",
       "      <td>18.6</td>\n",
       "      <td>101.0</td>\n",
       "      <td>2.80</td>\n",
       "      <td>3.24</td>\n",
       "      <td>0.30</td>\n",
       "      <td>2.81</td>\n",
       "      <td>5.68</td>\n",
       "      <td>1.03</td>\n",
       "      <td>3.17</td>\n",
       "      <td>1185.0</td>\n",
       "    </tr>\n",
       "    <tr>\n",
       "      <th>3</th>\n",
       "      <td>14.37</td>\n",
       "      <td>1.95</td>\n",
       "      <td>2.50</td>\n",
       "      <td>16.8</td>\n",
       "      <td>113.0</td>\n",
       "      <td>3.85</td>\n",
       "      <td>3.49</td>\n",
       "      <td>0.24</td>\n",
       "      <td>2.18</td>\n",
       "      <td>7.80</td>\n",
       "      <td>0.86</td>\n",
       "      <td>3.45</td>\n",
       "      <td>1480.0</td>\n",
       "    </tr>\n",
       "    <tr>\n",
       "      <th>4</th>\n",
       "      <td>13.24</td>\n",
       "      <td>2.59</td>\n",
       "      <td>2.87</td>\n",
       "      <td>21.0</td>\n",
       "      <td>118.0</td>\n",
       "      <td>2.80</td>\n",
       "      <td>2.69</td>\n",
       "      <td>0.39</td>\n",
       "      <td>1.82</td>\n",
       "      <td>4.32</td>\n",
       "      <td>1.04</td>\n",
       "      <td>2.93</td>\n",
       "      <td>735.0</td>\n",
       "    </tr>\n",
       "  </tbody>\n",
       "</table>\n",
       "</div>"
      ],
      "text/plain": [
       "   alcohol  malic_acid   ash  alcalinity_of_ash  magnesium  total_phenols  \\\n",
       "0    14.23        1.71  2.43               15.6      127.0           2.80   \n",
       "1    13.20        1.78  2.14               11.2      100.0           2.65   \n",
       "2    13.16        2.36  2.67               18.6      101.0           2.80   \n",
       "3    14.37        1.95  2.50               16.8      113.0           3.85   \n",
       "4    13.24        2.59  2.87               21.0      118.0           2.80   \n",
       "\n",
       "   flavanoids  nonflavanoid_phenols  proanthocyanins  color_intensity   hue  \\\n",
       "0        3.06                  0.28             2.29             5.64  1.04   \n",
       "1        2.76                  0.26             1.28             4.38  1.05   \n",
       "2        3.24                  0.30             2.81             5.68  1.03   \n",
       "3        3.49                  0.24             2.18             7.80  0.86   \n",
       "4        2.69                  0.39             1.82             4.32  1.04   \n",
       "\n",
       "   od280/od315_of_diluted_wines  proline  \n",
       "0                          3.92   1065.0  \n",
       "1                          3.40   1050.0  \n",
       "2                          3.17   1185.0  \n",
       "3                          3.45   1480.0  \n",
       "4                          2.93    735.0  "
      ]
     },
     "execution_count": 9,
     "metadata": {},
     "output_type": "execute_result"
    }
   ],
   "source": [
    "wine.head()"
   ]
  },
  {
   "cell_type": "code",
   "execution_count": 11,
   "id": "4e56a9dc",
   "metadata": {},
   "outputs": [],
   "source": [
    "# 종복변수인 target 데이터를 wine에 열 추가 \n",
    "wine['class'] = wine_load['target']"
   ]
  },
  {
   "cell_type": "code",
   "execution_count": 13,
   "id": "8e5c0cc0",
   "metadata": {},
   "outputs": [
    {
     "data": {
      "text/plain": [
       "array(['class_0', 'class_1', 'class_2'], dtype='<U7')"
      ]
     },
     "execution_count": 13,
     "metadata": {},
     "output_type": "execute_result"
    }
   ],
   "source": [
    "wine_load['target_names']"
   ]
  },
  {
   "cell_type": "code",
   "execution_count": 14,
   "id": "67860d2d",
   "metadata": {},
   "outputs": [],
   "source": [
    "wine_load['frame']"
   ]
  },
  {
   "cell_type": "code",
   "execution_count": 15,
   "id": "d8ccc56c",
   "metadata": {},
   "outputs": [
    {
     "data": {
      "text/html": [
       "<div>\n",
       "<style scoped>\n",
       "    .dataframe tbody tr th:only-of-type {\n",
       "        vertical-align: middle;\n",
       "    }\n",
       "\n",
       "    .dataframe tbody tr th {\n",
       "        vertical-align: top;\n",
       "    }\n",
       "\n",
       "    .dataframe thead th {\n",
       "        text-align: right;\n",
       "    }\n",
       "</style>\n",
       "<table border=\"1\" class=\"dataframe\">\n",
       "  <thead>\n",
       "    <tr style=\"text-align: right;\">\n",
       "      <th></th>\n",
       "      <th>alcohol</th>\n",
       "      <th>malic_acid</th>\n",
       "      <th>ash</th>\n",
       "      <th>alcalinity_of_ash</th>\n",
       "      <th>magnesium</th>\n",
       "      <th>total_phenols</th>\n",
       "      <th>flavanoids</th>\n",
       "      <th>nonflavanoid_phenols</th>\n",
       "      <th>proanthocyanins</th>\n",
       "      <th>color_intensity</th>\n",
       "      <th>hue</th>\n",
       "      <th>od280/od315_of_diluted_wines</th>\n",
       "      <th>proline</th>\n",
       "      <th>class</th>\n",
       "    </tr>\n",
       "  </thead>\n",
       "  <tbody>\n",
       "    <tr>\n",
       "      <th>0</th>\n",
       "      <td>14.23</td>\n",
       "      <td>1.71</td>\n",
       "      <td>2.43</td>\n",
       "      <td>15.6</td>\n",
       "      <td>127.0</td>\n",
       "      <td>2.80</td>\n",
       "      <td>3.06</td>\n",
       "      <td>0.28</td>\n",
       "      <td>2.29</td>\n",
       "      <td>5.64</td>\n",
       "      <td>1.04</td>\n",
       "      <td>3.92</td>\n",
       "      <td>1065.0</td>\n",
       "      <td>0</td>\n",
       "    </tr>\n",
       "    <tr>\n",
       "      <th>1</th>\n",
       "      <td>13.20</td>\n",
       "      <td>1.78</td>\n",
       "      <td>2.14</td>\n",
       "      <td>11.2</td>\n",
       "      <td>100.0</td>\n",
       "      <td>2.65</td>\n",
       "      <td>2.76</td>\n",
       "      <td>0.26</td>\n",
       "      <td>1.28</td>\n",
       "      <td>4.38</td>\n",
       "      <td>1.05</td>\n",
       "      <td>3.40</td>\n",
       "      <td>1050.0</td>\n",
       "      <td>0</td>\n",
       "    </tr>\n",
       "    <tr>\n",
       "      <th>2</th>\n",
       "      <td>13.16</td>\n",
       "      <td>2.36</td>\n",
       "      <td>2.67</td>\n",
       "      <td>18.6</td>\n",
       "      <td>101.0</td>\n",
       "      <td>2.80</td>\n",
       "      <td>3.24</td>\n",
       "      <td>0.30</td>\n",
       "      <td>2.81</td>\n",
       "      <td>5.68</td>\n",
       "      <td>1.03</td>\n",
       "      <td>3.17</td>\n",
       "      <td>1185.0</td>\n",
       "      <td>0</td>\n",
       "    </tr>\n",
       "    <tr>\n",
       "      <th>3</th>\n",
       "      <td>14.37</td>\n",
       "      <td>1.95</td>\n",
       "      <td>2.50</td>\n",
       "      <td>16.8</td>\n",
       "      <td>113.0</td>\n",
       "      <td>3.85</td>\n",
       "      <td>3.49</td>\n",
       "      <td>0.24</td>\n",
       "      <td>2.18</td>\n",
       "      <td>7.80</td>\n",
       "      <td>0.86</td>\n",
       "      <td>3.45</td>\n",
       "      <td>1480.0</td>\n",
       "      <td>0</td>\n",
       "    </tr>\n",
       "    <tr>\n",
       "      <th>4</th>\n",
       "      <td>13.24</td>\n",
       "      <td>2.59</td>\n",
       "      <td>2.87</td>\n",
       "      <td>21.0</td>\n",
       "      <td>118.0</td>\n",
       "      <td>2.80</td>\n",
       "      <td>2.69</td>\n",
       "      <td>0.39</td>\n",
       "      <td>1.82</td>\n",
       "      <td>4.32</td>\n",
       "      <td>1.04</td>\n",
       "      <td>2.93</td>\n",
       "      <td>735.0</td>\n",
       "      <td>0</td>\n",
       "    </tr>\n",
       "  </tbody>\n",
       "</table>\n",
       "</div>"
      ],
      "text/plain": [
       "   alcohol  malic_acid   ash  alcalinity_of_ash  magnesium  total_phenols  \\\n",
       "0    14.23        1.71  2.43               15.6      127.0           2.80   \n",
       "1    13.20        1.78  2.14               11.2      100.0           2.65   \n",
       "2    13.16        2.36  2.67               18.6      101.0           2.80   \n",
       "3    14.37        1.95  2.50               16.8      113.0           3.85   \n",
       "4    13.24        2.59  2.87               21.0      118.0           2.80   \n",
       "\n",
       "   flavanoids  nonflavanoid_phenols  proanthocyanins  color_intensity   hue  \\\n",
       "0        3.06                  0.28             2.29             5.64  1.04   \n",
       "1        2.76                  0.26             1.28             4.38  1.05   \n",
       "2        3.24                  0.30             2.81             5.68  1.03   \n",
       "3        3.49                  0.24             2.18             7.80  0.86   \n",
       "4        2.69                  0.39             1.82             4.32  1.04   \n",
       "\n",
       "   od280/od315_of_diluted_wines  proline  class  \n",
       "0                          3.92   1065.0      0  \n",
       "1                          3.40   1050.0      0  \n",
       "2                          3.17   1185.0      0  \n",
       "3                          3.45   1480.0      0  \n",
       "4                          2.93    735.0      0  "
      ]
     },
     "execution_count": 15,
     "metadata": {},
     "output_type": "execute_result"
    }
   ],
   "source": [
    "wine.head()"
   ]
  },
  {
   "cell_type": "code",
   "execution_count": 16,
   "id": "bbd8ac54",
   "metadata": {},
   "outputs": [
    {
     "data": {
      "image/png": "[encoded data removed]",
      "text/plain": [
       "<Figure size 640x480 with 1 Axes>"
      ]
     },
     "metadata": {},
     "output_type": "display_data"
    }
   ],
   "source": [
    "# color_intensity 데이터에서 극단치가 존재하는가?\n",
    "# boxplot을 이용해서 확인 \n",
    "plt.boxplot(wine['color_intensity'])\n",
    "plt.show()"
   ]
  },
  {
   "cell_type": "code",
   "execution_count": 21,
   "id": "496fc88a",
   "metadata": {},
   "outputs": [
    {
     "data": {
      "text/plain": [
       "3.2199999999999998"
      ]
     },
     "execution_count": 21,
     "metadata": {},
     "output_type": "execute_result"
    }
   ],
   "source": [
    "wine['color_intensity'].describe()['25%']"
   ]
  },
  {
   "cell_type": "code",
   "execution_count": 24,
   "id": "0cd67888",
   "metadata": {},
   "outputs": [],
   "source": [
    "# numpy 라이브러리를 이용해서 1사분위, 3사분위 수를 출력 \n",
    "q_1, q_3 = np.percentile(wine['color_intensity'], [25, 75])"
   ]
  },
  {
   "cell_type": "code",
   "execution_count": 26,
   "id": "97ecbd9a",
   "metadata": {},
   "outputs": [
    {
     "data": {
      "text/plain": [
       "6.2"
      ]
     },
     "execution_count": 26,
     "metadata": {},
     "output_type": "execute_result"
    }
   ],
   "source": [
    "q_3"
   ]
  },
  {
   "cell_type": "code",
   "execution_count": 27,
   "id": "a334cbd4",
   "metadata": {},
   "outputs": [
    {
     "name": "stdout",
     "output_type": "stream",
     "text": [
      "10.670000000000002 -1.2500000000000009\n"
     ]
    }
   ],
   "source": [
    "iqr = q_3 - q_1\n",
    "upper_whis = q_3 + ( 1.5 * iqr )\n",
    "lower_whis = q_1 - ( 1.5 * iqr )\n",
    "print(upper_whis, lower_whis)"
   ]
  },
  {
   "cell_type": "code",
   "execution_count": null,
   "id": "4cdb8a6b",
   "metadata": {},
   "outputs": [],
   "source": [
    "flag = (wine['color_intensity'] > upper_whis) | \\\n",
    "    (wine['color_intensity'] < lower_whis)\n",
    "flag"
   ]
  },
  {
   "cell_type": "code",
   "execution_count": 31,
   "id": "1f78380b",
   "metadata": {},
   "outputs": [
    {
     "data": {
      "text/html": [
       "<div>\n",
       "<style scoped>\n",
       "    .dataframe tbody tr th:only-of-type {\n",
       "        vertical-align: middle;\n",
       "    }\n",
       "\n",
       "    .dataframe tbody tr th {\n",
       "        vertical-align: top;\n",
       "    }\n",
       "\n",
       "    .dataframe thead th {\n",
       "        text-align: right;\n",
       "    }\n",
       "</style>\n",
       "<table border=\"1\" class=\"dataframe\">\n",
       "  <thead>\n",
       "    <tr style=\"text-align: right;\">\n",
       "      <th></th>\n",
       "      <th>alcohol</th>\n",
       "      <th>malic_acid</th>\n",
       "      <th>ash</th>\n",
       "      <th>alcalinity_of_ash</th>\n",
       "      <th>magnesium</th>\n",
       "      <th>total_phenols</th>\n",
       "      <th>flavanoids</th>\n",
       "      <th>nonflavanoid_phenols</th>\n",
       "      <th>proanthocyanins</th>\n",
       "      <th>color_intensity</th>\n",
       "      <th>hue</th>\n",
       "      <th>od280/od315_of_diluted_wines</th>\n",
       "      <th>proline</th>\n",
       "      <th>class</th>\n",
       "    </tr>\n",
       "  </thead>\n",
       "  <tbody>\n",
       "    <tr>\n",
       "      <th>151</th>\n",
       "      <td>12.79</td>\n",
       "      <td>2.67</td>\n",
       "      <td>2.48</td>\n",
       "      <td>22.0</td>\n",
       "      <td>112.0</td>\n",
       "      <td>1.48</td>\n",
       "      <td>1.36</td>\n",
       "      <td>0.24</td>\n",
       "      <td>1.26</td>\n",
       "      <td>10.80</td>\n",
       "      <td>0.48</td>\n",
       "      <td>1.47</td>\n",
       "      <td>480.0</td>\n",
       "      <td>2</td>\n",
       "    </tr>\n",
       "    <tr>\n",
       "      <th>158</th>\n",
       "      <td>14.34</td>\n",
       "      <td>1.68</td>\n",
       "      <td>2.70</td>\n",
       "      <td>25.0</td>\n",
       "      <td>98.0</td>\n",
       "      <td>2.80</td>\n",
       "      <td>1.31</td>\n",
       "      <td>0.53</td>\n",
       "      <td>2.70</td>\n",
       "      <td>13.00</td>\n",
       "      <td>0.57</td>\n",
       "      <td>1.96</td>\n",
       "      <td>660.0</td>\n",
       "      <td>2</td>\n",
       "    </tr>\n",
       "    <tr>\n",
       "      <th>159</th>\n",
       "      <td>13.48</td>\n",
       "      <td>1.67</td>\n",
       "      <td>2.64</td>\n",
       "      <td>22.5</td>\n",
       "      <td>89.0</td>\n",
       "      <td>2.60</td>\n",
       "      <td>1.10</td>\n",
       "      <td>0.52</td>\n",
       "      <td>2.29</td>\n",
       "      <td>11.75</td>\n",
       "      <td>0.57</td>\n",
       "      <td>1.78</td>\n",
       "      <td>620.0</td>\n",
       "      <td>2</td>\n",
       "    </tr>\n",
       "    <tr>\n",
       "      <th>166</th>\n",
       "      <td>13.45</td>\n",
       "      <td>3.70</td>\n",
       "      <td>2.60</td>\n",
       "      <td>23.0</td>\n",
       "      <td>111.0</td>\n",
       "      <td>1.70</td>\n",
       "      <td>0.92</td>\n",
       "      <td>0.43</td>\n",
       "      <td>1.46</td>\n",
       "      <td>10.68</td>\n",
       "      <td>0.85</td>\n",
       "      <td>1.56</td>\n",
       "      <td>695.0</td>\n",
       "      <td>2</td>\n",
       "    </tr>\n",
       "  </tbody>\n",
       "</table>\n",
       "</div>"
      ],
      "text/plain": [
       "     alcohol  malic_acid   ash  alcalinity_of_ash  magnesium  total_phenols  \\\n",
       "151    12.79        2.67  2.48               22.0      112.0           1.48   \n",
       "158    14.34        1.68  2.70               25.0       98.0           2.80   \n",
       "159    13.48        1.67  2.64               22.5       89.0           2.60   \n",
       "166    13.45        3.70  2.60               23.0      111.0           1.70   \n",
       "\n",
       "     flavanoids  nonflavanoid_phenols  proanthocyanins  color_intensity   hue  \\\n",
       "151        1.36                  0.24             1.26            10.80  0.48   \n",
       "158        1.31                  0.53             2.70            13.00  0.57   \n",
       "159        1.10                  0.52             2.29            11.75  0.57   \n",
       "166        0.92                  0.43             1.46            10.68  0.85   \n",
       "\n",
       "     od280/od315_of_diluted_wines  proline  class  \n",
       "151                          1.47    480.0      2  \n",
       "158                          1.96    660.0      2  \n",
       "159                          1.78    620.0      2  \n",
       "166                          1.56    695.0      2  "
      ]
     },
     "execution_count": 31,
     "metadata": {},
     "output_type": "execute_result"
    }
   ],
   "source": [
    "wine.loc[flag]"
   ]
  },
  {
   "cell_type": "code",
   "execution_count": 33,
   "id": "ab5dbdb2",
   "metadata": {},
   "outputs": [
    {
     "data": {
      "text/plain": [
       "0.02247191011235955"
      ]
     },
     "execution_count": 33,
     "metadata": {},
     "output_type": "execute_result"
    }
   ],
   "source": [
    "4 / len(wine)"
   ]
  },
  {
   "cell_type": "markdown",
   "id": "2d86e27a",
   "metadata": {},
   "source": [
    "### iqr을 이용하여 극단치 판단하는 함수 \n",
    "- 매개변수 3개 \n",
    "    - _df : 데이터프레임 \n",
    "    - _cols : 극단치를 판단하려고 하는 컬럼의 이름 (가변)\n",
    "        - _cols의 타입은 tuple\n",
    "    - _num : 신뢰구간 범위를 지정하는 수 기본값은 1.5\n",
    "- 빈 딕셔너리를 생성\n",
    "- _cols의 개수만큼 반복 실행 \n",
    "    - 컬럼의 데이터를 기준으로 1사분위수, 3사분위수를 생성 \n",
    "    - 1사분위수와 3사분위수를 이용하여 iqr 생성\n",
    "    - 1사분위수, 3사분위수, iqr를 이용하여 극단치의 경계를 생성\n",
    "    - 데이터프레임에서 극단치의 경계를 이용하여 극단치 데이터를 확인\n",
    "    - 해당 데이터프레임 비어있는 딕셔너리에 key값은 컬럼의 이름으로 value는 데이터프레임으로 추가 \n",
    "- 딕셔너리를 되돌려준다."
   ]
  },
  {
   "cell_type": "code",
   "execution_count": 34,
   "id": "3f48786d",
   "metadata": {},
   "outputs": [],
   "source": [
    "def outliers_iqr(\n",
    "        _df, *_cols, _num = 1.5\n",
    "):\n",
    "    # 빈 딕셔너리를 생성 -> 함수의 결과 값\n",
    "    result = dict()\n",
    "    # _cols를 기준으로 반복 실행 \n",
    "    for col in _cols:\n",
    "        # col의 데이터에서 1사분위, 3사분위 수 변수에 저장 \n",
    "        q_1, q_3 = np.percentile(_df[col], [25, 75])\n",
    "        # iqr 생성 \n",
    "        iqr = q_3 - q_1\n",
    "        # 상단 경계, 하단 경계 생성 \n",
    "        upper_whis = q_3 + ( _num * iqr )\n",
    "        lower_whis = q_1 - ( _num * iqr )\n",
    "        print(f\"\"\"\n",
    "                {col} 컬럼의 데이터에서 \n",
    "                상단의 극단치 경계 값은 {upper_whis}이고\n",
    "                하단의 극단치 경계 값은 {lower_whis}입니다. \n",
    "              \"\"\")\n",
    "        # 조건식 생성 \n",
    "        flag = (_df[col] > upper_whis) | \\\n",
    "                (_df[col] < lower_whis)\n",
    "        outlier = _df.loc[flag, ]\n",
    "        result[col] = outlier\n",
    "    return result"
   ]
  },
  {
   "cell_type": "code",
   "execution_count": 39,
   "id": "f2ff7439",
   "metadata": {},
   "outputs": [],
   "source": [
    "cols = list(wine.columns[:3])"
   ]
  },
  {
   "cell_type": "code",
   "execution_count": 45,
   "id": "d55bd6b5",
   "metadata": {},
   "outputs": [
    {
     "name": "stdout",
     "output_type": "stream",
     "text": [
      "\n",
      "                alcohol 컬럼의 데이터에서 \n",
      "                상단의 극단치 경계 값은 15.650000000000002이고\n",
      "                하단의 극단치 경계 값은 10.389999999999997입니다. \n",
      "              \n",
      "\n",
      "                malic_acid 컬럼의 데이터에서 \n",
      "                상단의 극단치 경계 값은 5.3025이고\n",
      "                하단의 극단치 경계 값은 -0.6174999999999997입니다. \n",
      "              \n",
      "\n",
      "                ash 컬럼의 데이터에서 \n",
      "                상단의 극단치 경계 값은 3.0787500000000003이고\n",
      "                하단의 극단치 경계 값은 1.6887499999999998입니다. \n",
      "              \n"
     ]
    }
   ],
   "source": [
    "# wine과 cols을 이용해서 함수에 입력값으로 대입 \n",
    "# cols가 리스트형태 -> 가변 매개변수인 _cols에 대입하려면?\n",
    "outliers = outliers_iqr(wine, *cols)"
   ]
  },
  {
   "cell_type": "code",
   "execution_count": 46,
   "id": "f8b3e163",
   "metadata": {},
   "outputs": [
    {
     "data": {
      "text/html": [
       "<div>\n",
       "<style scoped>\n",
       "    .dataframe tbody tr th:only-of-type {\n",
       "        vertical-align: middle;\n",
       "    }\n",
       "\n",
       "    .dataframe tbody tr th {\n",
       "        vertical-align: top;\n",
       "    }\n",
       "\n",
       "    .dataframe thead th {\n",
       "        text-align: right;\n",
       "    }\n",
       "</style>\n",
       "<table border=\"1\" class=\"dataframe\">\n",
       "  <thead>\n",
       "    <tr style=\"text-align: right;\">\n",
       "      <th></th>\n",
       "      <th>alcohol</th>\n",
       "      <th>malic_acid</th>\n",
       "      <th>ash</th>\n",
       "      <th>alcalinity_of_ash</th>\n",
       "      <th>magnesium</th>\n",
       "      <th>total_phenols</th>\n",
       "      <th>flavanoids</th>\n",
       "      <th>nonflavanoid_phenols</th>\n",
       "      <th>proanthocyanins</th>\n",
       "      <th>color_intensity</th>\n",
       "      <th>hue</th>\n",
       "      <th>od280/od315_of_diluted_wines</th>\n",
       "      <th>proline</th>\n",
       "      <th>class</th>\n",
       "    </tr>\n",
       "  </thead>\n",
       "  <tbody>\n",
       "  </tbody>\n",
       "</table>\n",
       "</div>"
      ],
      "text/plain": [
       "Empty DataFrame\n",
       "Columns: [alcohol, malic_acid, ash, alcalinity_of_ash, magnesium, total_phenols, flavanoids, nonflavanoid_phenols, proanthocyanins, color_intensity, hue, od280/od315_of_diluted_wines, proline, class]\n",
       "Index: []"
      ]
     },
     "execution_count": 46,
     "metadata": {},
     "output_type": "execute_result"
    }
   ],
   "source": [
    "outliers['alcohol']"
   ]
  },
  {
   "cell_type": "code",
   "execution_count": 47,
   "id": "6280b0d7",
   "metadata": {},
   "outputs": [
    {
     "data": {
      "text/html": [
       "<div>\n",
       "<style scoped>\n",
       "    .dataframe tbody tr th:only-of-type {\n",
       "        vertical-align: middle;\n",
       "    }\n",
       "\n",
       "    .dataframe tbody tr th {\n",
       "        vertical-align: top;\n",
       "    }\n",
       "\n",
       "    .dataframe thead th {\n",
       "        text-align: right;\n",
       "    }\n",
       "</style>\n",
       "<table border=\"1\" class=\"dataframe\">\n",
       "  <thead>\n",
       "    <tr style=\"text-align: right;\">\n",
       "      <th></th>\n",
       "      <th>alcohol</th>\n",
       "      <th>malic_acid</th>\n",
       "      <th>ash</th>\n",
       "      <th>alcalinity_of_ash</th>\n",
       "      <th>magnesium</th>\n",
       "      <th>total_phenols</th>\n",
       "      <th>flavanoids</th>\n",
       "      <th>nonflavanoid_phenols</th>\n",
       "      <th>proanthocyanins</th>\n",
       "      <th>color_intensity</th>\n",
       "      <th>hue</th>\n",
       "      <th>od280/od315_of_diluted_wines</th>\n",
       "      <th>proline</th>\n",
       "      <th>class</th>\n",
       "    </tr>\n",
       "  </thead>\n",
       "  <tbody>\n",
       "    <tr>\n",
       "      <th>123</th>\n",
       "      <td>13.05</td>\n",
       "      <td>5.80</td>\n",
       "      <td>2.13</td>\n",
       "      <td>21.5</td>\n",
       "      <td>86.0</td>\n",
       "      <td>2.62</td>\n",
       "      <td>2.65</td>\n",
       "      <td>0.30</td>\n",
       "      <td>2.01</td>\n",
       "      <td>2.6</td>\n",
       "      <td>0.73</td>\n",
       "      <td>3.10</td>\n",
       "      <td>380.0</td>\n",
       "      <td>1</td>\n",
       "    </tr>\n",
       "    <tr>\n",
       "      <th>137</th>\n",
       "      <td>12.53</td>\n",
       "      <td>5.51</td>\n",
       "      <td>2.64</td>\n",
       "      <td>25.0</td>\n",
       "      <td>96.0</td>\n",
       "      <td>1.79</td>\n",
       "      <td>0.60</td>\n",
       "      <td>0.63</td>\n",
       "      <td>1.10</td>\n",
       "      <td>5.0</td>\n",
       "      <td>0.82</td>\n",
       "      <td>1.69</td>\n",
       "      <td>515.0</td>\n",
       "      <td>2</td>\n",
       "    </tr>\n",
       "    <tr>\n",
       "      <th>173</th>\n",
       "      <td>13.71</td>\n",
       "      <td>5.65</td>\n",
       "      <td>2.45</td>\n",
       "      <td>20.5</td>\n",
       "      <td>95.0</td>\n",
       "      <td>1.68</td>\n",
       "      <td>0.61</td>\n",
       "      <td>0.52</td>\n",
       "      <td>1.06</td>\n",
       "      <td>7.7</td>\n",
       "      <td>0.64</td>\n",
       "      <td>1.74</td>\n",
       "      <td>740.0</td>\n",
       "      <td>2</td>\n",
       "    </tr>\n",
       "  </tbody>\n",
       "</table>\n",
       "</div>"
      ],
      "text/plain": [
       "     alcohol  malic_acid   ash  alcalinity_of_ash  magnesium  total_phenols  \\\n",
       "123    13.05        5.80  2.13               21.5       86.0           2.62   \n",
       "137    12.53        5.51  2.64               25.0       96.0           1.79   \n",
       "173    13.71        5.65  2.45               20.5       95.0           1.68   \n",
       "\n",
       "     flavanoids  nonflavanoid_phenols  proanthocyanins  color_intensity   hue  \\\n",
       "123        2.65                  0.30             2.01              2.6  0.73   \n",
       "137        0.60                  0.63             1.10              5.0  0.82   \n",
       "173        0.61                  0.52             1.06              7.7  0.64   \n",
       "\n",
       "     od280/od315_of_diluted_wines  proline  class  \n",
       "123                          3.10    380.0      1  \n",
       "137                          1.69    515.0      2  \n",
       "173                          1.74    740.0      2  "
      ]
     },
     "execution_count": 47,
     "metadata": {},
     "output_type": "execute_result"
    }
   ],
   "source": [
    "outliers['malic_acid']"
   ]
  },
  {
   "cell_type": "code",
   "execution_count": 48,
   "id": "48775eb4",
   "metadata": {},
   "outputs": [
    {
     "data": {
      "text/html": [
       "<div>\n",
       "<style scoped>\n",
       "    .dataframe tbody tr th:only-of-type {\n",
       "        vertical-align: middle;\n",
       "    }\n",
       "\n",
       "    .dataframe tbody tr th {\n",
       "        vertical-align: top;\n",
       "    }\n",
       "\n",
       "    .dataframe thead th {\n",
       "        text-align: right;\n",
       "    }\n",
       "</style>\n",
       "<table border=\"1\" class=\"dataframe\">\n",
       "  <thead>\n",
       "    <tr style=\"text-align: right;\">\n",
       "      <th></th>\n",
       "      <th>alcohol</th>\n",
       "      <th>malic_acid</th>\n",
       "      <th>ash</th>\n",
       "      <th>alcalinity_of_ash</th>\n",
       "      <th>magnesium</th>\n",
       "      <th>total_phenols</th>\n",
       "      <th>flavanoids</th>\n",
       "      <th>nonflavanoid_phenols</th>\n",
       "      <th>proanthocyanins</th>\n",
       "      <th>color_intensity</th>\n",
       "      <th>hue</th>\n",
       "      <th>od280/od315_of_diluted_wines</th>\n",
       "      <th>proline</th>\n",
       "      <th>class</th>\n",
       "    </tr>\n",
       "  </thead>\n",
       "  <tbody>\n",
       "    <tr>\n",
       "      <th>25</th>\n",
       "      <td>13.05</td>\n",
       "      <td>2.05</td>\n",
       "      <td>3.22</td>\n",
       "      <td>25.0</td>\n",
       "      <td>124.0</td>\n",
       "      <td>2.63</td>\n",
       "      <td>2.68</td>\n",
       "      <td>0.47</td>\n",
       "      <td>1.92</td>\n",
       "      <td>3.58</td>\n",
       "      <td>1.13</td>\n",
       "      <td>3.20</td>\n",
       "      <td>830.0</td>\n",
       "      <td>0</td>\n",
       "    </tr>\n",
       "    <tr>\n",
       "      <th>59</th>\n",
       "      <td>12.37</td>\n",
       "      <td>0.94</td>\n",
       "      <td>1.36</td>\n",
       "      <td>10.6</td>\n",
       "      <td>88.0</td>\n",
       "      <td>1.98</td>\n",
       "      <td>0.57</td>\n",
       "      <td>0.28</td>\n",
       "      <td>0.42</td>\n",
       "      <td>1.95</td>\n",
       "      <td>1.05</td>\n",
       "      <td>1.82</td>\n",
       "      <td>520.0</td>\n",
       "      <td>1</td>\n",
       "    </tr>\n",
       "    <tr>\n",
       "      <th>121</th>\n",
       "      <td>11.56</td>\n",
       "      <td>2.05</td>\n",
       "      <td>3.23</td>\n",
       "      <td>28.5</td>\n",
       "      <td>119.0</td>\n",
       "      <td>3.18</td>\n",
       "      <td>5.08</td>\n",
       "      <td>0.47</td>\n",
       "      <td>1.87</td>\n",
       "      <td>6.00</td>\n",
       "      <td>0.93</td>\n",
       "      <td>3.69</td>\n",
       "      <td>465.0</td>\n",
       "      <td>1</td>\n",
       "    </tr>\n",
       "  </tbody>\n",
       "</table>\n",
       "</div>"
      ],
      "text/plain": [
       "     alcohol  malic_acid   ash  alcalinity_of_ash  magnesium  total_phenols  \\\n",
       "25     13.05        2.05  3.22               25.0      124.0           2.63   \n",
       "59     12.37        0.94  1.36               10.6       88.0           1.98   \n",
       "121    11.56        2.05  3.23               28.5      119.0           3.18   \n",
       "\n",
       "     flavanoids  nonflavanoid_phenols  proanthocyanins  color_intensity   hue  \\\n",
       "25         2.68                  0.47             1.92             3.58  1.13   \n",
       "59         0.57                  0.28             0.42             1.95  1.05   \n",
       "121        5.08                  0.47             1.87             6.00  0.93   \n",
       "\n",
       "     od280/od315_of_diluted_wines  proline  class  \n",
       "25                           3.20    830.0      0  \n",
       "59                           1.82    520.0      1  \n",
       "121                          3.69    465.0      1  "
      ]
     },
     "execution_count": 48,
     "metadata": {},
     "output_type": "execute_result"
    }
   ],
   "source": [
    "outliers['ash']"
   ]
  },
  {
   "cell_type": "markdown",
   "id": "8555d728",
   "metadata": {},
   "source": [
    "### 극단치의 정제 \n",
    "1. 극단치를 제거 \n",
    "    - 데이터의 개수가 매우 많고 극단치가 존재하는 데이터의 개수가 전체 데이터의 비해서 매우 작은 경우에는 제거 \n",
    "    - 극단치 제거 -> 데이터의 개수가 감소\n",
    "2. 극단치를 특정 데이터로 대체\n",
    "    - 극단치의 값들을 다른 값으로 대체하는 경우는 데이터 분석가에 따라서 값들은 차이 발생"
   ]
  },
  {
   "cell_type": "code",
   "execution_count": 49,
   "id": "70d29bb9",
   "metadata": {},
   "outputs": [],
   "source": [
    "df = wine.copy()"
   ]
  },
  {
   "cell_type": "code",
   "execution_count": 51,
   "id": "904db5cf",
   "metadata": {},
   "outputs": [],
   "source": [
    "# 극단치를 제거 -> ash 컬럼에서 극단치 제거 \n",
    "# drop() -> 조건에 따라 행을 제거할것인가 열을 제거할것인가\n",
    "    # 조건 -> outliers['ash']의 인덱스의 값\n",
    "    # 행을 제거 -> axis = 0\n",
    "df.drop(outliers['ash'].index, axis=0, inplace=True)"
   ]
  },
  {
   "cell_type": "code",
   "execution_count": 52,
   "id": "8093ac20",
   "metadata": {},
   "outputs": [
    {
     "name": "stdout",
     "output_type": "stream",
     "text": [
      "원본 데이터의 개수 : 178\n",
      "극단치가 제거된 데이터의 개수 : 175\n"
     ]
    }
   ],
   "source": [
    "print(f\"원본 데이터의 개수 : {len(wine)}\")\n",
    "print(f\"극단치가 제거된 데이터의 개수 : {len(df)}\")"
   ]
  },
  {
   "cell_type": "code",
   "execution_count": 53,
   "id": "ea5917e3",
   "metadata": {},
   "outputs": [],
   "source": [
    "# 상단경계보다 높은 극단치의 데이터를 극단치를 제외한 max 값으로 대체\n",
    "# 하단경계보다 낮은 극단치의 데이터를 극단치를 제외한 min 값으로 대체\n",
    "max_value = df['ash'].max()\n",
    "min_value = df['ash'].min()"
   ]
  },
  {
   "cell_type": "code",
   "execution_count": 54,
   "id": "cf66bbf7",
   "metadata": {},
   "outputs": [
    {
     "name": "stdout",
     "output_type": "stream",
     "text": [
      "2.92 1.7\n"
     ]
    }
   ],
   "source": [
    "print(max_value, min_value)"
   ]
  },
  {
   "cell_type": "code",
   "execution_count": 55,
   "id": "730c7bab",
   "metadata": {},
   "outputs": [],
   "source": [
    "center_value = np.percentile(df['ash'], 50)"
   ]
  },
  {
   "cell_type": "code",
   "execution_count": 58,
   "id": "f1929b96",
   "metadata": {},
   "outputs": [],
   "source": [
    "df2 = wine.copy()"
   ]
  },
  {
   "cell_type": "code",
   "execution_count": null,
   "id": "17cdb20a",
   "metadata": {},
   "outputs": [
    {
     "data": {
      "text/plain": [
       "Index([25, 59, 121], dtype='int64')"
      ]
     },
     "execution_count": 65,
     "metadata": {},
     "output_type": "execute_result"
    }
   ],
   "source": [
    "# 상단경계보다 높은 극단치의 데이터를 극단치를 제외한 max 값으로 대체\n",
    "# 조건 -> outliers['ash']에서 center_value보다 큰 데이터의 index\n",
    "flag = outliers['ash']['ash'] > center_value\n"
   ]
  },
  {
   "cell_type": "code",
   "execution_count": 71,
   "id": "ed4d0763",
   "metadata": {},
   "outputs": [],
   "source": [
    "flag_index= []\n",
    "for i in flag.index:\n",
    "    # print(flag[i])\n",
    "    if flag[i]:\n",
    "        # print(i)\n",
    "        flag_index.append(i)"
   ]
  },
  {
   "cell_type": "code",
   "execution_count": 74,
   "id": "f3f95a93",
   "metadata": {},
   "outputs": [],
   "source": [
    "df2.loc[flag_index, 'ash'] = max_value"
   ]
  },
  {
   "cell_type": "code",
   "execution_count": 75,
   "id": "0a249935",
   "metadata": {},
   "outputs": [],
   "source": [
    "flag_index= []\n",
    "for i in flag.index:\n",
    "    # print(flag[i])\n",
    "    if not(flag[i]):\n",
    "        # print(i)\n",
    "        flag_index.append(i)"
   ]
  },
  {
   "cell_type": "code",
   "execution_count": 77,
   "id": "f4fef8eb",
   "metadata": {},
   "outputs": [
    {
     "data": {
      "text/plain": [
       "[59]"
      ]
     },
     "execution_count": 77,
     "metadata": {},
     "output_type": "execute_result"
    }
   ],
   "source": [
    "flag_index"
   ]
  },
  {
   "cell_type": "code",
   "execution_count": 78,
   "id": "f8b64d97",
   "metadata": {},
   "outputs": [],
   "source": [
    "df2.loc[flag_index, 'ash'] = min_value"
   ]
  },
  {
   "cell_type": "code",
   "execution_count": 80,
   "id": "5370e9b9",
   "metadata": {},
   "outputs": [
    {
     "data": {
      "text/plain": [
       "count    178.000000\n",
       "mean       2.365000\n",
       "std        0.259195\n",
       "min        1.700000\n",
       "25%        2.210000\n",
       "50%        2.360000\n",
       "75%        2.557500\n",
       "max        2.920000\n",
       "Name: ash, dtype: float64"
      ]
     },
     "execution_count": 80,
     "metadata": {},
     "output_type": "execute_result"
    }
   ],
   "source": [
    "df2['ash'].describe()"
   ]
  },
  {
   "cell_type": "code",
   "execution_count": 79,
   "id": "c1208e60",
   "metadata": {},
   "outputs": [],
   "source": [
    "df3 = wine.copy()"
   ]
  },
  {
   "cell_type": "code",
   "execution_count": 81,
   "id": "3f5d050e",
   "metadata": {},
   "outputs": [
    {
     "data": {
      "text/plain": [
       "count    178.000000\n",
       "mean       2.366517\n",
       "std        0.274344\n",
       "min        1.360000\n",
       "25%        2.210000\n",
       "50%        2.360000\n",
       "75%        2.557500\n",
       "max        3.230000\n",
       "Name: ash, dtype: float64"
      ]
     },
     "execution_count": 81,
     "metadata": {},
     "output_type": "execute_result"
    }
   ],
   "source": [
    "df3['ash'].describe()"
   ]
  },
  {
   "cell_type": "code",
   "execution_count": 83,
   "id": "6aa14574",
   "metadata": {},
   "outputs": [],
   "source": [
    "# max_value보다 크다면 -> 상단 극단치 경계보다 높은 데이터 \n",
    "flag = df3['ash'] > max_value\n",
    "\n",
    "df3.loc[flag, 'ash'] = max_value"
   ]
  },
  {
   "cell_type": "code",
   "execution_count": 85,
   "id": "c1bab4f8",
   "metadata": {},
   "outputs": [],
   "source": [
    "flag = df3['ash'] < min_value\n",
    "df3.loc[flag, 'ash'] = min_value"
   ]
  },
  {
   "cell_type": "code",
   "execution_count": 86,
   "id": "5bc11023",
   "metadata": {},
   "outputs": [
    {
     "data": {
      "text/plain": [
       "count    178.000000\n",
       "mean       2.365000\n",
       "std        0.259195\n",
       "min        1.700000\n",
       "25%        2.210000\n",
       "50%        2.360000\n",
       "75%        2.557500\n",
       "max        2.920000\n",
       "Name: ash, dtype: float64"
      ]
     },
     "execution_count": 86,
     "metadata": {},
     "output_type": "execute_result"
    }
   ],
   "source": [
    "df3['ash'].describe()"
   ]
  },
  {
   "cell_type": "code",
   "execution_count": null,
   "id": "acb7046a",
   "metadata": {},
   "outputs": [],
   "source": []
  }
 ],
 "metadata": {
  "kernelspec": {
   "display_name": "Python 3",
   "language": "python",
   "name": "python3"
  },
  "language_info": {
   "codemirror_mode": {
    "name": "ipython",
    "version": 3
   },
   "file_extension": ".py",
   "mimetype": "text/x-python",
   "name": "python",
   "nbconvert_exporter": "python",
   "pygments_lexer": "ipython3",
   "version": "3.11.1"
  }
 },
 "nbformat": 4,
 "nbformat_minor": 5
}
