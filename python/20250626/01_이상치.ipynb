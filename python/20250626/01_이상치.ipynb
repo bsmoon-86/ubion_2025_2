{
 "cells": [
  {
   "cell_type": "markdown",
   "id": "96875a77",
   "metadata": {},
   "source": [
    "# 이상치\n",
    "- 결측치, 범위에서 크게 벗어나는 데이터\n",
    "- 분석 모델의 성능을 떨어뜨리거나 결과에 악영향을 미치는 경우 발생\n",
    "- 이상치를 발견하면 확인 작업 후 특정한 값을 대체, 삭제\n",
    "- 극단치 -> IQR 방식 \n",
    "    - matplotlib에서  boxplot 함수를 이용하여 극단치를 확인\n",
    "    - Q3(3사분위수)와 Q1(1사분위수)를 이용하여 범위 지정 \n",
    "    - IQR = Q3 - Q1\n",
    "    - 극단치의 경계 (Q3 + 1.5 * IQR), (Q1 - 1.5 * IQR)\n",
    "    - 해당 경계값을 loc를 이용하여 확인 \n",
    "    - 1.5 값을 조절하여 극단치의 범위를 변경"
   ]
  },
  {
   "cell_type": "code",
   "execution_count": null,
   "id": "6c33d46f",
   "metadata": {},
   "outputs": [],
   "source": [
    "# 사이킷런 설치 \n",
    "# !pip install scikit-learn"
   ]
  },
  {
   "cell_type": "code",
   "execution_count": null,
   "id": "bd844e2a",
   "metadata": {},
   "outputs": [],
   "source": [
    "import pandas as pd\n",
    "import numpy as np\n",
    "import matplotlib.pyplot as plt\n",
    "from sklearn.datasets import load_wine"
   ]
  },
  {
   "cell_type": "code",
   "execution_count": null,
   "id": "2883138d",
   "metadata": {},
   "outputs": [],
   "source": [
    "# 데이터셋 로드 \n",
    "wine_load = load_wine()"
   ]
  },
  {
   "cell_type": "code",
   "execution_count": null,
   "id": "c1314004",
   "metadata": {},
   "outputs": [],
   "source": [
    "wine_load.keys()                                                                                                                                                                                                                                                                                                                                                                                                                                                                                                                                                                                                                                                                                                                                                                                                                                                                                                                                                                                                                                                                                                                                                                                                                                                                                                                                                                                            "
   ]
  },
  {
   "cell_type": "code",
   "execution_count": null,
   "id": "df7c0379",
   "metadata": {},
   "outputs": [],
   "source": [
    "# data, feature_names를 이용해서 데이터프레임 생성 \n",
    "wine = pd.DataFrame( wine_load['data'], \n",
    "                    columns=wine_load['feature_names'] )"
   ]
  },
  {
   "cell_type": "code",
   "execution_count": null,
   "id": "1f67498d",
   "metadata": {},
   "outputs": [],
   "source": [
    "wine.head()"
   ]
  },
  {
   "cell_type": "code",
   "execution_count": null,
   "id": "4e56a9dc",
   "metadata": {},
   "outputs": [],
   "source": [
    "# 종복변수인 target 데이터를 wine에 열 추가 \n",
    "wine['class'] = wine_load['target']"
   ]
  },
  {
   "cell_type": "code",
   "execution_count": null,
   "id": "8e5c0cc0",
   "metadata": {},
   "outputs": [],
   "source": [
    "wine_load['target_names']"
   ]
  },
  {
   "cell_type": "code",
   "execution_count": null,
   "id": "67860d2d",
   "metadata": {},
   "outputs": [],
   "source": [
    "wine_load['frame']"
   ]
  },
  {
   "cell_type": "code",
   "execution_count": null,
   "id": "d8ccc56c",
   "metadata": {},
   "outputs": [],
   "source": [
    "wine.head()"
   ]
  },
  {
   "cell_type": "code",
   "execution_count": null,
   "id": "bbd8ac54",
   "metadata": {},
   "outputs": [],
   "source": [
    "# color_intensity 데이터에서 극단치가 존재하는가?\n",
    "# boxplot을 이용해서 확인 \n",
    "plt.boxplot(wine['color_intensity'])\n",
    "plt.show()"
   ]
  },
  {
   "cell_type": "code",
   "execution_count": null,
   "id": "496fc88a",
   "metadata": {},
   "outputs": [],
   "source": [
    "wine['color_intensity'].describe()['25%']"
   ]
  },
  {
   "cell_type": "code",
   "execution_count": null,
   "id": "0cd67888",
   "metadata": {},
   "outputs": [],
   "source": [
    "# numpy 라이브러리를 이용해서 1사분위, 3사분위 수를 출력 \n",
    "q_1, q_3 = np.percentile(wine['color_intensity'], [25, 75])"
   ]
  },
  {
   "cell_type": "code",
   "execution_count": null,
   "id": "97ecbd9a",
   "metadata": {},
   "outputs": [],
   "source": [
    "q_3"
   ]
  },
  {
   "cell_type": "code",
   "execution_count": null,
   "id": "a334cbd4",
   "metadata": {},
   "outputs": [],
   "source": [
    "iqr = q_3 - q_1\n",
    "upper_whis = q_3 + ( 1.5 * iqr )\n",
    "lower_whis = q_1 - ( 1.5 * iqr )\n",
    "print(upper_whis, lower_whis)"
   ]
  },
  {
   "cell_type": "code",
   "execution_count": null,
   "id": "4cdb8a6b",
   "metadata": {},
   "outputs": [],
   "source": [
    "flag = (wine['color_intensity'] > upper_whis) | \\\n",
    "    (wine['color_intensity'] < lower_whis)\n",
    "flag"
   ]
  },
  {
   "cell_type": "code",
   "execution_count": null,
   "id": "1f78380b",
   "metadata": {},
   "outputs": [],
   "source": [
    "wine.loc[flag]"
   ]
  },
  {
   "cell_type": "code",
   "execution_count": null,
   "id": "ab5dbdb2",
   "metadata": {},
   "outputs": [],
   "source": [
    "4 / len(wine)"
   ]
  },
  {
   "cell_type": "markdown",
   "id": "2d86e27a",
   "metadata": {},
   "source": [
    "### iqr을 이용하여 극단치 판단하는 함수 \n",
    "- 매개변수 3개 \n",
    "    - _df : 데이터프레임 \n",
    "    - _cols : 극단치를 판단하려고 하는 컬럼의 이름 (가변)\n",
    "        - _cols의 타입은 tuple\n",
    "    - _num : 신뢰구간 범위를 지정하는 수 기본값은 1.5\n",
    "- 빈 딕셔너리를 생성\n",
    "- _cols의 개수만큼 반복 실행 \n",
    "    - 컬럼의 데이터를 기준으로 1사분위수, 3사분위수를 생성 \n",
    "    - 1사분위수와 3사분위수를 이용하여 iqr 생성\n",
    "    - 1사분위수, 3사분위수, iqr를 이용하여 극단치의 경계를 생성\n",
    "    - 데이터프레임에서 극단치의 경계를 이용하여 극단치 데이터를 확인\n",
    "    - 해당 데이터프레임 비어있는 딕셔너리에 key값은 컬럼의 이름으로 value는 데이터프레임으로 추가 \n",
    "- 딕셔너리를 되돌려준다."
   ]
  },
  {
   "cell_type": "code",
   "execution_count": null,
   "id": "3f48786d",
   "metadata": {},
   "outputs": [],
   "source": [
    "def outliers_iqr(\n",
    "        _df, *_cols, _num = 1.5\n",
    "):\n",
    "    # 빈 딕셔너리를 생성 -> 함수의 결과 값\n",
    "    result = dict()\n",
    "    # _cols를 기준으로 반복 실행 \n",
    "    for col in _cols:\n",
    "        # col의 데이터에서 1사분위, 3사분위 수 변수에 저장 \n",
    "        q_1, q_3 = np.percentile(_df[col], [25, 75])\n",
    "        # iqr 생성 \n",
    "        iqr = q_3 - q_1\n",
    "        # 상단 경계, 하단 경계 생성 \n",
    "        upper_whis = q_3 + ( _num * iqr )\n",
    "        lower_whis = q_1 - ( _num * iqr )\n",
    "        print(f\"\"\"\n",
    "                {col} 컬럼의 데이터에서 \n",
    "                상단의 극단치 경계 값은 {upper_whis}이고\n",
    "                하단의 극단치 경계 값은 {lower_whis}입니다. \n",
    "              \"\"\")\n",
    "        # 조건식 생성 \n",
    "        flag = (_df[col] > upper_whis) | \\\n",
    "                (_df[col] < lower_whis)\n",
    "        outlier = _df.loc[flag, ]\n",
    "        result[col] = outlier\n",
    "    return result"
   ]
  },
  {
   "cell_type": "code",
   "execution_count": null,
   "id": "f2ff7439",
   "metadata": {},
   "outputs": [],
   "source": [
    "cols = list(wine.columns[:3])"
   ]
  },
  {
   "cell_type": "code",
   "execution_count": null,
   "id": "d55bd6b5",
   "metadata": {},
   "outputs": [],
   "source": [
    "# wine과 cols을 이용해서 함수에 입력값으로 대입 \n",
    "# cols가 리스트형태 -> 가변 매개변수인 _cols에 대입하려면?\n",
    "outliers = outliers_iqr(wine, *cols)"
   ]
  },
  {
   "cell_type": "code",
   "execution_count": null,
   "id": "f8b3e163",
   "metadata": {},
   "outputs": [],
   "source": [
    "outliers['alcohol']"
   ]
  },
  {
   "cell_type": "code",
   "execution_count": null,
   "id": "6280b0d7",
   "metadata": {},
   "outputs": [],
   "source": [
    "outliers['malic_acid']"
   ]
  },
  {
   "cell_type": "code",
   "execution_count": null,
   "id": "48775eb4",
   "metadata": {},
   "outputs": [],
   "source": [
    "outliers['ash']"
   ]
  },
  {
   "cell_type": "markdown",
   "id": "8555d728",
   "metadata": {},
   "source": [
    "### 극단치의 정제 \n",
    "1. 극단치를 제거 \n",
    "    - 데이터의 개수가 매우 많고 극단치가 존재하는 데이터의 개수가 전체 데이터의 비해서 매우 작은 경우에는 제거 \n",
    "    - 극단치 제거 -> 데이터의 개수가 감소\n",
    "2. 극단치를 특정 데이터로 대체\n",
    "    - 극단치의 값들을 다른 값으로 대체하는 경우는 데이터 분석가에 따라서 값들은 차이 발생"
   ]
  },
  {
   "cell_type": "code",
   "execution_count": null,
   "id": "70d29bb9",
   "metadata": {},
   "outputs": [],
   "source": [
    "df = wine.copy()"
   ]
  },
  {
   "cell_type": "code",
   "execution_count": null,
   "id": "904db5cf",
   "metadata": {},
   "outputs": [],
   "source": [
    "# 극단치를 제거 -> ash 컬럼에서 극단치 제거 \n",
    "# drop() -> 조건에 따라 행을 제거할것인가 열을 제거할것인가\n",
    "    # 조건 -> outliers['ash']의 인덱스의 값\n",
    "    # 행을 제거 -> axis = 0\n",
    "df.drop(outliers['ash'].index, axis=0, inplace=True)"
   ]
  },
  {
   "cell_type": "code",
   "execution_count": null,
   "id": "8093ac20",
   "metadata": {},
   "outputs": [],
   "source": [
    "print(f\"원본 데이터의 개수 : {len(wine)}\")\n",
    "print(f\"극단치가 제거된 데이터의 개수 : {len(df)}\")"
   ]
  },
  {
   "cell_type": "code",
   "execution_count": null,
   "id": "ea5917e3",
   "metadata": {},
   "outputs": [],
   "source": [
    "# 상단경계보다 높은 극단치의 데이터를 극단치를 제외한 max 값으로 대체\n",
    "# 하단경계보다 낮은 극단치의 데이터를 극단치를 제외한 min 값으로 대체\n",
    "max_value = df['ash'].max()\n",
    "min_value = df['ash'].min()"
   ]
  },
  {
   "cell_type": "code",
   "execution_count": null,
   "id": "cf66bbf7",
   "metadata": {},
   "outputs": [],
   "source": [
    "print(max_value, min_value)"
   ]
  },
  {
   "cell_type": "code",
   "execution_count": null,
   "id": "730c7bab",
   "metadata": {},
   "outputs": [],
   "source": [
    "center_value = np.percentile(df['ash'], 50)"
   ]
  },
  {
   "cell_type": "code",
   "execution_count": null,
   "id": "f1929b96",
   "metadata": {},
   "outputs": [],
   "source": [
    "df2 = wine.copy()"
   ]
  },
  {
   "cell_type": "code",
   "execution_count": null,
   "id": "17cdb20a",
   "metadata": {},
   "outputs": [],
   "source": [
    "# 상단경계보다 높은 극단치의 데이터를 극단치를 제외한 max 값으로 대체\n",
    "# 조건 -> outliers['ash']에서 center_value보다 큰 데이터의 index\n",
    "flag = outliers['ash']['ash'] > center_value\n"
   ]
  },
  {
   "cell_type": "code",
   "execution_count": null,
   "id": "ed4d0763",
   "metadata": {},
   "outputs": [],
   "source": [
    "flag_index= []\n",
    "for i in flag.index:\n",
    "    # print(flag[i])\n",
    "    if flag[i]:\n",
    "        # print(i)\n",
    "        flag_index.append(i)"
   ]
  },
  {
   "cell_type": "code",
   "execution_count": null,
   "id": "f3f95a93",
   "metadata": {},
   "outputs": [],
   "source": [
    "df2.loc[flag_index, 'ash'] = max_value"
   ]
  },
  {
   "cell_type": "code",
   "execution_count": null,
   "id": "0a249935",
   "metadata": {},
   "outputs": [],
   "source": [
    "flag_index= []\n",
    "for i in flag.index:\n",
    "    # print(flag[i])\n",
    "    if not(flag[i]):\n",
    "        # print(i)\n",
    "        flag_index.append(i)"
   ]
  },
  {
   "cell_type": "code",
   "execution_count": null,
   "id": "f4fef8eb",
   "metadata": {},
   "outputs": [],
   "source": [
    "flag_index"
   ]
  },
  {
   "cell_type": "code",
   "execution_count": null,
   "id": "f8b64d97",
   "metadata": {},
   "outputs": [],
   "source": [
    "df2.loc[flag_index, 'ash'] = min_value"
   ]
  },
  {
   "cell_type": "code",
   "execution_count": null,
   "id": "5370e9b9",
   "metadata": {},
   "outputs": [],
   "source": [
    "df2['ash'].describe()"
   ]
  },
  {
   "cell_type": "code",
   "execution_count": null,
   "id": "c1208e60",
   "metadata": {},
   "outputs": [],
   "source": [
    "df3 = wine.copy()"
   ]
  },
  {
   "cell_type": "code",
   "execution_count": null,
   "id": "3f5d050e",
   "metadata": {},
   "outputs": [],
   "source": [
    "df3['ash'].describe()"
   ]
  },
  {
   "cell_type": "code",
   "execution_count": null,
   "id": "6aa14574",
   "metadata": {},
   "outputs": [],
   "source": [
    "# max_value보다 크다면 -> 상단 극단치 경계보다 높은 데이터 \n",
    "flag = df3['ash'] > max_value\n",
    "\n",
    "df3.loc[flag, 'ash'] = max_value"
   ]
  },
  {
   "cell_type": "code",
   "execution_count": null,
   "id": "c1bab4f8",
   "metadata": {},
   "outputs": [],
   "source": [
    "flag = df3['ash'] < min_value\n",
    "df3.loc[flag, 'ash'] = min_value"
   ]
  },
  {
   "cell_type": "code",
   "execution_count": null,
   "id": "5bc11023",
   "metadata": {},
   "outputs": [],
   "source": [
    "df3['ash'].describe()"
   ]
  },
  {
   "cell_type": "code",
   "execution_count": null,
   "id": "acb7046a",
   "metadata": {},
   "outputs": [],
   "source": [
    "# replace 함수를 이용\n",
    "flag = outliers['ash']['ash'] > center_value"
   ]
  },
  {
   "cell_type": "code",
   "execution_count": null,
   "id": "539bee41",
   "metadata": {},
   "outputs": [],
   "source": [
    "upper_data = outliers['ash'].loc[flag, 'ash']"
   ]
  },
  {
   "cell_type": "code",
   "execution_count": null,
   "id": "ccf222e1",
   "metadata": {},
   "outputs": [],
   "source": [
    "df4 = wine.copy()"
   ]
  },
  {
   "cell_type": "code",
   "execution_count": null,
   "id": "de542b67",
   "metadata": {},
   "outputs": [],
   "source": [
    "for i in upper_data:\n",
    "    # print(i)\n",
    "    df4['ash'].replace(i, max_value, inplace=True)"
   ]
  },
  {
   "cell_type": "code",
   "execution_count": null,
   "id": "1ec93205",
   "metadata": {},
   "outputs": [],
   "source": [
    "lower_data = outliers['ash'].loc[~flag, 'ash']"
   ]
  },
  {
   "cell_type": "code",
   "execution_count": null,
   "id": "bd613910",
   "metadata": {},
   "outputs": [],
   "source": [
    "for i in lower_data:\n",
    "    df4['ash'].replace(i, min_value, inplace=True)"
   ]
  },
  {
   "cell_type": "code",
   "execution_count": null,
   "id": "d4c65b0b",
   "metadata": {},
   "outputs": [],
   "source": [
    "df4['ash'].describe()"
   ]
  },
  {
   "cell_type": "markdown",
   "id": "cb9b0894",
   "metadata": {},
   "source": [
    "### 범주형 변수 처리 \n",
    "- 수학적 연산으로 예측을 하는 모델이 대부분이기 때문에 범주형 변수를 직접적으로 사용하기가 어렵다. \n",
    "    - 더미 변수를 생성해서 모델에 학습\n",
    "    - 범주형 데이터들을 컬럼으로 생성하여 0과 1로 데이터를 대입해서 포함 여부를 만들어준다. "
   ]
  },
  {
   "cell_type": "code",
   "execution_count": null,
   "id": "9737d11e",
   "metadata": {},
   "outputs": [],
   "source": [
    "# wine 데이터프레임에서 class 컬럼의 데이터들을 target_names로 변경 \n",
    "wine_load['target_names']"
   ]
  },
  {
   "cell_type": "code",
   "execution_count": null,
   "id": "f13f9097",
   "metadata": {},
   "outputs": [],
   "source": [
    "flag = wine['class'] == 0\n",
    "wine.loc[flag, 'class'] = 'class_0'"
   ]
  },
  {
   "cell_type": "code",
   "execution_count": null,
   "id": "2deb84a4",
   "metadata": {},
   "outputs": [],
   "source": [
    "wine['class'].value_counts()"
   ]
  },
  {
   "cell_type": "code",
   "execution_count": null,
   "id": "62d8279d",
   "metadata": {},
   "outputs": [],
   "source": [
    "# map() 함수 이용 -> \n",
    "wine['class'].map(\n",
    "    {\n",
    "        'class_0' : 'class_0', \n",
    "        1 : 'class_1', \n",
    "        2 : 'class_2'\n",
    "    }\n",
    ")"
   ]
  },
  {
   "cell_type": "code",
   "execution_count": null,
   "id": "004a912a",
   "metadata": {},
   "outputs": [],
   "source": [
    "# if문 한줄로 표현 : '참인경우데이터' if 조건식 else '거짓인경우 데이터'\n",
    "wine['class'] = wine['class'].map(\n",
    "    lambda x : 'class_1' if x == 1 else (\n",
    "        'class_2' if x == 2 else 'class_0'\n",
    "    )\n",
    ")"
   ]
  },
  {
   "cell_type": "code",
   "execution_count": null,
   "id": "9b7880da",
   "metadata": {},
   "outputs": [],
   "source": [
    "wine['class'].value_counts()"
   ]
  },
  {
   "cell_type": "code",
   "execution_count": null,
   "id": "792c92cd",
   "metadata": {},
   "outputs": [],
   "source": [
    "len(wine.columns)"
   ]
  },
  {
   "cell_type": "code",
   "execution_count": null,
   "id": "6abcf9b4",
   "metadata": {},
   "outputs": [],
   "source": [
    "# 범주형 데이터를 더미변수로 생성 \n",
    "# get_dummies() 함수 이용 -> 판다스에 존재하는 함수 \n",
    "wine_dummy = pd.get_dummies(\n",
    "    wine, \n",
    "    columns= ['class']\n",
    ")"
   ]
  },
  {
   "cell_type": "code",
   "execution_count": null,
   "id": "a2992143",
   "metadata": {},
   "outputs": [],
   "source": [
    "len(wine_dummy.columns)"
   ]
  },
  {
   "cell_type": "code",
   "execution_count": null,
   "id": "8d85732a",
   "metadata": {},
   "outputs": [],
   "source": [
    "wine_dummy['class_class_1'].sum()"
   ]
  },
  {
   "cell_type": "markdown",
   "id": "31db2f19",
   "metadata": {},
   "source": [
    "### 데이터의 분할\n",
    "- 분석 모델을 학습하고 성과를 확인하기 위해서 데이터를 train, test 데이터로 나누고 독립변수, 종속변수로 분리하는 작업 \n",
    "- train, test 나눠줄때는 비율은 일반적으로 70 : 30으로 나눠준다.\n",
    "- sklearn 라이브러리에서 train_test_split() 함수를 이용\n",
    "    - train_test_split(X, Y, test_size = None, random_state = None, shuffle = True, stratify = None)\n",
    "        - X : 독립 변수 데이터\n",
    "        - Y : 종속 변수 데이터 \n",
    "        - test_size : test 데이터의 비율(0 ~ 1)\n",
    "        - random_state : 임의의 번호를 지정. 같은 데이터에서 같은 번호를 입력하면 같은 데이터를 확인 \n",
    "        - shuffle : True라면 데이터를 나누기 전에 섞어준다. \n",
    "        - stratify : None이 아닌 경우 데이터는 지정한 변수(컬럼의 데이터)를 기준으로 계층화되어 해당 변수의 비율을 유지하도록 추출"
   ]
  },
  {
   "cell_type": "code",
   "execution_count": null,
   "id": "c6948316",
   "metadata": {},
   "outputs": [],
   "source": [
    "from sklearn.datasets import load_iris\n",
    "from sklearn.model_selection import train_test_split"
   ]
  },
  {
   "cell_type": "code",
   "execution_count": null,
   "id": "8f53ea5e",
   "metadata": {},
   "outputs": [],
   "source": [
    "iris_load = load_iris()"
   ]
  },
  {
   "cell_type": "code",
   "execution_count": null,
   "id": "cf61bc79",
   "metadata": {},
   "outputs": [],
   "source": [
    "iris_load['frame']"
   ]
  },
  {
   "cell_type": "code",
   "execution_count": null,
   "id": "77907e3e",
   "metadata": {},
   "outputs": [],
   "source": [
    "iris = pd.DataFrame(iris_load['data'], \n",
    "                    columns=iris_load['feature_names'])"
   ]
  },
  {
   "cell_type": "code",
   "execution_count": null,
   "id": "05ed881a",
   "metadata": {},
   "outputs": [],
   "source": [
    "iris.head()"
   ]
  },
  {
   "cell_type": "code",
   "execution_count": null,
   "id": "7311a131",
   "metadata": {},
   "outputs": [],
   "source": [
    "iris_load['target']"
   ]
  },
  {
   "cell_type": "code",
   "execution_count": null,
   "id": "d20a9adf",
   "metadata": {},
   "outputs": [],
   "source": [
    "iris_load['target_names']"
   ]
  },
  {
   "cell_type": "code",
   "execution_count": null,
   "id": "5a872005",
   "metadata": {},
   "outputs": [],
   "source": [
    "iris['class'] = iris_load['target']"
   ]
  },
  {
   "cell_type": "code",
   "execution_count": null,
   "id": "92858e3d",
   "metadata": {},
   "outputs": [],
   "source": [
    "iris['class'] = iris['class'].map(\n",
    "    {\n",
    "        0 : 'setosa', \n",
    "        1 : 'versicolor', \n",
    "        2 : 'vurginica'\n",
    "    }\n",
    ")"
   ]
  },
  {
   "cell_type": "code",
   "execution_count": null,
   "id": "2cbf02ef",
   "metadata": {},
   "outputs": [],
   "source": [
    "iris['class'].value_counts()"
   ]
  },
  {
   "cell_type": "code",
   "execution_count": null,
   "id": "a192e631",
   "metadata": {},
   "outputs": [],
   "source": [
    "# train, test로 데이터를 나눠준다. \n",
    "x_train, x_test, y_train, y_test = train_test_split(\n",
    "    iris.drop('class', axis=1), \n",
    "    iris['class'], \n",
    "    test_size= 0.3, \n",
    "    random_state= 42\n",
    ")"
   ]
  },
  {
   "cell_type": "code",
   "execution_count": null,
   "id": "c5b3f06b",
   "metadata": {},
   "outputs": [],
   "source": [
    "print(f\"학습 데이터의 수 : {len(x_train)}, 테스트 데이터의 수 : {len(x_test)}\")"
   ]
  },
  {
   "cell_type": "code",
   "execution_count": null,
   "id": "6c6a1127",
   "metadata": {},
   "outputs": [],
   "source": [
    "x_test"
   ]
  },
  {
   "cell_type": "code",
   "execution_count": null,
   "id": "ca149b90",
   "metadata": {},
   "outputs": [],
   "source": [
    "y_train.value_counts()"
   ]
  },
  {
   "cell_type": "code",
   "execution_count": null,
   "id": "822a858d",
   "metadata": {},
   "outputs": [],
   "source": [
    "# iris 데이터에서 class 값들의 비율은 동일하게 데이터를 나눠준다. \n",
    "x_train, x_test, y_train, y_test = train_test_split(\n",
    "    iris.drop('class', axis=1), \n",
    "    iris['class'], \n",
    "    test_size=0.3, \n",
    "    random_state=42, \n",
    "    stratify=iris['class'], \n",
    "    shuffle = True\n",
    ")"
   ]
  },
  {
   "cell_type": "code",
   "execution_count": null,
   "id": "3c1c718a",
   "metadata": {},
   "outputs": [],
   "source": [
    "y_train.value_counts()"
   ]
  },
  {
   "cell_type": "code",
   "execution_count": null,
   "id": "54b6d153",
   "metadata": {},
   "outputs": [],
   "source": [
    "x_test"
   ]
  },
  {
   "cell_type": "markdown",
   "id": "d009970b",
   "metadata": {},
   "source": [
    "### 데이터의 불균형 문제 처리 \n",
    "- 정상을 정확하게 분류하는 것과 이상을 정확하게 분류하는 것 중 일반적으로 이상을 정확하게 분류하는 것이 중요\n",
    "- 보통 이상 데이터가 target으로 사용하는 경우가 많다. \n",
    "- 데이터가 불균형할때는 분류의 성능과 target 데이터를 정확하게 분류해내는 목표가 일치하지 않은 경우 많다. \n",
    "- 분석 결과 해석뿐이 아니라 머신러닝 모델에서 문제 발생 \n",
    "- 소수의 데이터인 target의 중요를 낮게 판단해서 궁금으로 분석가능 모델이 생성 X\n",
    "- 소수의 데이터를 늘려주는 방법 오버 샘플링, 상대적으로 많은 데이터에서 일부만 사용하는 방법이 언더 샘플링"
   ]
  },
  {
   "cell_type": "code",
   "execution_count": null,
   "id": "20150762",
   "metadata": {},
   "outputs": [],
   "source": [
    "# 라이브러리 설치 \n",
    "# !pip install imbalanced-learn"
   ]
  },
  {
   "cell_type": "markdown",
   "id": "8d891fc2",
   "metadata": {},
   "source": [
    "### 언더샘플링\n",
    "- 다수의 라벨을 가진 데이터를 샘플링하여 소수의 데이터 셋의 라벨의 수 수준으로 감소시키는 방법 \n",
    "- 이 기법은 데이터 불균형 문제의 해결이 가능하지만 데이터의 개수가 줄어들어서 학습 성능이 떨어질수 있다"
   ]
  },
  {
   "cell_type": "code",
   "execution_count": null,
   "id": "7e0bafee",
   "metadata": {},
   "outputs": [],
   "source": [
    "from sklearn.datasets import make_classification\n",
    "from collections import Counter\n",
    "from imblearn.under_sampling import RandomUnderSampler"
   ]
  },
  {
   "cell_type": "code",
   "execution_count": null,
   "id": "a82ccbb8",
   "metadata": {},
   "outputs": [],
   "source": [
    "# 랜덤 데이터셋 생성 \n",
    "# 90 : 10 비율 데이터 생성\n",
    "x, y = make_classification(\n",
    "    n_samples=2000, \n",
    "    n_features=5, \n",
    "    weights=[0.9], \n",
    "    flip_y=0\n",
    ")"
   ]
  },
  {
   "cell_type": "code",
   "execution_count": null,
   "id": "047d306c",
   "metadata": {},
   "outputs": [],
   "source": [
    "x"
   ]
  },
  {
   "cell_type": "code",
   "execution_count": 160,
   "id": "750562f2",
   "metadata": {},
   "outputs": [
    {
     "data": {
      "text/plain": [
       "Counter({0: 1801, 1: 199})"
      ]
     },
     "execution_count": 160,
     "metadata": {},
     "output_type": "execute_result"
    }
   ],
   "source": [
    "Counter(y)"
   ]
  },
  {
   "cell_type": "code",
   "execution_count": null,
   "id": "2bce1d9a",
   "metadata": {},
   "outputs": [],
   "source": [
    "# 랜덤 언더 샘플링이라는 class 생성 -> 기본값 사용 -> 데이터의 개수를 동일하게 맞춰준다.\n",
    "undersample = RandomUnderSampler()"
   ]
  },
  {
   "cell_type": "code",
   "execution_count": 162,
   "id": "7eb83a22",
   "metadata": {},
   "outputs": [],
   "source": [
    "# fit_resample()\n",
    "x_under, y_under = undersample.fit_resample(x, y)"
   ]
  },
  {
   "cell_type": "code",
   "execution_count": 163,
   "id": "e838c996",
   "metadata": {},
   "outputs": [
    {
     "data": {
      "text/plain": [
       "Counter({0: 199, 1: 199})"
      ]
     },
     "execution_count": 163,
     "metadata": {},
     "output_type": "execute_result"
    }
   ],
   "source": [
    "Counter(y_under)"
   ]
  },
  {
   "cell_type": "code",
   "execution_count": 166,
   "id": "476e8bee",
   "metadata": {},
   "outputs": [],
   "source": [
    "# class생성시 인자의 값을 대입 \n",
    "# sampling_strategy : 소수의 데이터의 비율을 지정하여 다수의 데이터의 개수를 정해준다. \n",
    "undersample2 =RandomUnderSampler(\n",
    "    sampling_strategy= 0.5\n",
    ")"
   ]
  },
  {
   "cell_type": "code",
   "execution_count": 167,
   "id": "b03071af",
   "metadata": {},
   "outputs": [],
   "source": [
    "x_under2, y_under2 = undersample2.fit_resample(x, y)"
   ]
  },
  {
   "cell_type": "code",
   "execution_count": 168,
   "id": "2eef7e26",
   "metadata": {},
   "outputs": [
    {
     "data": {
      "text/plain": [
       "Counter({0: 398, 1: 199})"
      ]
     },
     "execution_count": 168,
     "metadata": {},
     "output_type": "execute_result"
    }
   ],
   "source": [
    "Counter(y_under2)"
   ]
  },
  {
   "cell_type": "markdown",
   "id": "119441bc",
   "metadata": {},
   "source": [
    "### 오버 샘플링 \n",
    "- 소수의 데이터를 다수의 데이터의 개수만큼 증식시켜 학습에 사용하기 위한 방법 \n",
    "- 데이터의 손실이 없기 때문에 일반적으로는 언더샘플링에 비해 유리해서 사용\n",
    "\n",
    "#### 랜덤 오버 샘플링 \n",
    "- 소수의 데이터를 단순 복제하여 다수의 데이터의 개수와 비율을 맞춰준다. \n",
    "- 단순 복제이기 때문에 데이터의 분포는 유지 \n",
    "- 수가 증가 증가해서 가중치 발생\n",
    "- 오버피팅의 위험성은 존재하지만 불균형 문제는 해결"
   ]
  },
  {
   "cell_type": "code",
   "execution_count": 169,
   "id": "dfe1efd0",
   "metadata": {},
   "outputs": [],
   "source": [
    "from imblearn.over_sampling import RandomOverSampler"
   ]
  },
  {
   "cell_type": "code",
   "execution_count": 170,
   "id": "6adb6c55",
   "metadata": {},
   "outputs": [],
   "source": [
    "oversample = RandomOverSampler()"
   ]
  },
  {
   "cell_type": "code",
   "execution_count": 171,
   "id": "f80c370e",
   "metadata": {},
   "outputs": [],
   "source": [
    "x_over , y_over = oversample.fit_resample(x, y)"
   ]
  },
  {
   "cell_type": "code",
   "execution_count": 172,
   "id": "d985b99a",
   "metadata": {},
   "outputs": [
    {
     "data": {
      "text/plain": [
       "Counter({0: 1801, 1: 1801})"
      ]
     },
     "execution_count": 172,
     "metadata": {},
     "output_type": "execute_result"
    }
   ],
   "source": [
    "Counter(y_over)"
   ]
  },
  {
   "cell_type": "code",
   "execution_count": 173,
   "id": "dfa91731",
   "metadata": {},
   "outputs": [],
   "source": [
    "oversample2 = RandomOverSampler(\n",
    "    sampling_strategy=0.5\n",
    ")"
   ]
  },
  {
   "cell_type": "code",
   "execution_count": 174,
   "id": "52b9fa95",
   "metadata": {},
   "outputs": [],
   "source": [
    "x_over2, y_over2 = oversample2.fit_resample(x, y)"
   ]
  },
  {
   "cell_type": "code",
   "execution_count": 175,
   "id": "120d224f",
   "metadata": {},
   "outputs": [
    {
     "data": {
      "text/plain": [
       "Counter({0: 1801, 1: 900})"
      ]
     },
     "execution_count": 175,
     "metadata": {},
     "output_type": "execute_result"
    }
   ],
   "source": [
    "Counter(y_over2)"
   ]
  },
  {
   "cell_type": "markdown",
   "id": "f7939b5f",
   "metadata": {},
   "source": [
    "#### SMOTE\n",
    "- 소수의 데이터의 관측 값에 대한 K개의 최근접 이웃을 찾고 관측 값과 이웃으로 선택된 값 사이에 임의의 데이터를 생성하는 방법 "
   ]
  },
  {
   "cell_type": "code",
   "execution_count": 176,
   "id": "25a445d7",
   "metadata": {},
   "outputs": [],
   "source": [
    "from imblearn.over_sampling import SMOTE"
   ]
  },
  {
   "cell_type": "code",
   "execution_count": 177,
   "id": "3204c1cb",
   "metadata": {},
   "outputs": [],
   "source": [
    "smote_sample = SMOTE()"
   ]
  },
  {
   "cell_type": "code",
   "execution_count": 178,
   "id": "d4ee0b78",
   "metadata": {},
   "outputs": [],
   "source": [
    "x_sm , y_sm = smote_sample.fit_resample(x, y)"
   ]
  },
  {
   "cell_type": "code",
   "execution_count": 179,
   "id": "739406f1",
   "metadata": {},
   "outputs": [
    {
     "data": {
      "text/plain": [
       "Counter({0: 1801, 1: 1801})"
      ]
     },
     "execution_count": 179,
     "metadata": {},
     "output_type": "execute_result"
    }
   ],
   "source": [
    "Counter(y_sm)"
   ]
  },
  {
   "cell_type": "code",
   "execution_count": null,
   "id": "0af34dad",
   "metadata": {},
   "outputs": [],
   "source": []
  }
 ],
 "metadata": {
  "kernelspec": {
   "display_name": "Python 3",
   "language": "python",
   "name": "python3"
  },
  "language_info": {
   "codemirror_mode": {
    "name": "ipython",
    "version": 3
   },
   "file_extension": ".py",
   "mimetype": "text/x-python",
   "name": "python",
   "nbconvert_exporter": "python",
   "pygments_lexer": "ipython3",
   "version": "3.11.1"
  }
 },
 "nbformat": 4,
 "nbformat_minor": 5
}
