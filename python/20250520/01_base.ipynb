{
 "cells": [
  {
   "cell_type": "code",
   "execution_count": null,
   "id": "b4912438",
   "metadata": {},
   "outputs": [],
   "source": [
    "# 변수 생성\n",
    "# 변수명 = 데이터\n",
    "a = \"test\"\n",
    "# a 변수를 출력\n",
    "print(a)\n",
    "# a의 데이터의 타입을 출력\n",
    "print(type(a))"
   ]
  },
  {
   "cell_type": "code",
   "execution_count": null,
   "id": "00525472",
   "metadata": {},
   "outputs": [],
   "source": [
    "# 산술연산자\n",
    "x = 10\n",
    "y = 3\n",
    "\n",
    "# 사칙연산\n",
    "print(x + y)\n",
    "print(x - y)\n",
    "print(x * y)\n",
    "print(x / y)\n",
    "# 나눈 값의 몫\n",
    "print(x // y)\n",
    "# 나눈 값의 나머지 \n",
    "print(x % y)\n",
    "# 지수 승\n",
    "print(x ** y)"
   ]
  },
  {
   "cell_type": "code",
   "execution_count": null,
   "id": "8de035b3",
   "metadata": {},
   "outputs": [],
   "source": [
    "# 대입 연산자\n",
    "a = 10\n",
    "\n",
    "a += 1  # a = a + 1\n",
    "# a는 11\n",
    "print(a)"
   ]
  },
  {
   "cell_type": "code",
   "execution_count": null,
   "id": "f6ebec8c",
   "metadata": {},
   "outputs": [],
   "source": [
    "a *= 2  # a = a * 2\n",
    "\n",
    "print(a)"
   ]
  },
  {
   "cell_type": "code",
   "execution_count": null,
   "id": "3c0622af",
   "metadata": {},
   "outputs": [],
   "source": [
    "# 비교 연산자 -> 결과 비교하여 결과는 True // False\n",
    "data_1 = 'A'\n",
    "data_2 = 'a'\n",
    "\n",
    "print(data_1 == data_2)\n",
    "print(data_1 != data_2)"
   ]
  },
  {
   "cell_type": "markdown",
   "id": "57421560",
   "metadata": {},
   "source": [
    "# 제목1\n",
    "## 제목2\n",
    "### 제목3\n",
    "#### 제목4"
   ]
  },
  {
   "cell_type": "markdown",
   "id": "c47fad1f",
   "metadata": {},
   "source": [
    "## 리스트 형태 데이터 \n",
    "### 순서형 리스트 \n",
    "1. list1\n",
    "2. list2\n",
    "3. list3\n",
    "3. list4\n",
    "### 비순서형 리스트 \n",
    "- list1\n",
    "- list2\n",
    "- list3\n",
    "#### 리스트 안에 리스트를 생성\n",
    "1. list1\n",
    "    1. sub_list1\n",
    "    2. sub_list2"
   ]
  },
  {
   "cell_type": "markdown",
   "id": "9171ec35",
   "metadata": {},
   "source": [
    "### 자료형 데이터 \n",
    "- 여러개의 데이터를 하나의 변수에 저장시키는 형태\n",
    "- R에서는 벡터데이터와 리스트 데이터 \n",
    "\n",
    "- tuple\n",
    "    - 자료형 데이터에서 가장 기본적인 형태 \n",
    "    - ()를 이용해서 데이터를 생성\n",
    "    - 한번 생성이 되면 수정이 불가능\n",
    "- list\n",
    "    - []를 이용해서 데이터를 생성 \n",
    "    - tuple과는 다르게 각 원소들을 수정하거나 추가, 삭제가 가능\n",
    "    - 위의 작업들은 list 안에 내장된 함수를 이용\n",
    "    - 원소의 개수가 0개부터 생성 가능\n",
    "- dict \n",
    "    - {}를 이용해서 데이터를 생성\n",
    "    - key : value의 형태로 데이터의 구조가 생성\n",
    "    - tuple, list는 위치를 기준으로 데이터를 추출한다면 dict는 key를 기준으로 데이터를 추출\n",
    "    - 원소의 개수는 0개부터 생성 가능\n"
   ]
  },
  {
   "cell_type": "code",
   "execution_count": null,
   "id": "8909b964",
   "metadata": {},
   "outputs": [],
   "source": [
    "# tuple 데이터 생성\n",
    "# 원소 타입이 달라도 생성 가능\n",
    "tuple_a = (1, 'Hello')\n",
    "tuple_b = (3, 3.14)\n",
    "print(tuple_a)\n",
    "print(tuple_b)\n",
    "print(type(tuple_a))\n",
    "print(type(tuple_b))"
   ]
  },
  {
   "cell_type": "code",
   "execution_count": null,
   "id": "e96883e0",
   "metadata": {},
   "outputs": [],
   "source": [
    "# tuple에서 위치를 기준으로 데이터를 추출\n",
    "# python에서는 위치가 0부터 시작\n",
    "print(tuple_a[0])\n",
    "print(tuple_b[1])"
   ]
  },
  {
   "cell_type": "code",
   "execution_count": null,
   "id": "08859209",
   "metadata": {},
   "outputs": [],
   "source": [
    "# tuple 끼리의 합\n",
    "print(tuple_a + tuple_b)"
   ]
  },
  {
   "cell_type": "code",
   "execution_count": null,
   "id": "e9e46bff",
   "metadata": {},
   "outputs": [],
   "source": [
    "# list 형태 데이터 생성 \n",
    "list_a = [20, 10, 30, 40]\n",
    "list_b = ['abc', 'fi', 'be']\n",
    "print(list_a)\n",
    "print(list_b)\n",
    "print(type(list_a))\n",
    "print(type(list_b))"
   ]
  },
  {
   "cell_type": "code",
   "execution_count": null,
   "id": "ce80dd19",
   "metadata": {},
   "outputs": [],
   "source": [
    "# list의 내장함수 \n",
    "# 정렬을 변경 -> sort() -> 기본적으로 오름차순 정렬 변경\n",
    "# list(list_a) 안에(.) 있는 sort() 함수 호출\n",
    "list_a.sort()"
   ]
  },
  {
   "cell_type": "code",
   "execution_count": null,
   "id": "a202dc47",
   "metadata": {},
   "outputs": [],
   "source": [
    "list_a"
   ]
  },
  {
   "cell_type": "code",
   "execution_count": null,
   "id": "33d0a624",
   "metadata": {},
   "outputs": [],
   "source": [
    "# 내림차순 정렬 \n",
    "# sort() 함수에는 매개변수 reverse 매개변수가 존재 \n",
    "list_b.sort(reverse=True)"
   ]
  },
  {
   "cell_type": "code",
   "execution_count": null,
   "id": "cdad252e",
   "metadata": {},
   "outputs": [],
   "source": [
    "list_b"
   ]
  },
  {
   "cell_type": "code",
   "execution_count": null,
   "id": "eba422bd",
   "metadata": {},
   "outputs": [],
   "source": [
    "# 순서를 역순으로 변경하는 함수 \n",
    "# reverse()\n",
    "list_a.reverse()"
   ]
  },
  {
   "cell_type": "code",
   "execution_count": null,
   "id": "54fb2411",
   "metadata": {},
   "outputs": [],
   "source": [
    "list_a"
   ]
  },
  {
   "cell_type": "code",
   "execution_count": null,
   "id": "2fd277cf",
   "metadata": {},
   "outputs": [],
   "source": [
    "# 리스트에 원소를 추가하는 방법 \n",
    "# 가장 마지막에 원소를 추가  -> append(data)\n",
    "list_a.append(33)\n",
    "# 특정 위치에 데이터를 추가 -> insert(index, data)\n",
    "list_a.insert(2, 15)"
   ]
  },
  {
   "cell_type": "code",
   "execution_count": null,
   "id": "c7d70b15",
   "metadata": {},
   "outputs": [],
   "source": [
    "list_a"
   ]
  },
  {
   "cell_type": "code",
   "execution_count": null,
   "id": "de9616bd",
   "metadata": {},
   "outputs": [],
   "source": [
    "# 리스트에서 원소를 제거하는 방법 \n",
    "# 가장 마지막 원소를 제거 -> pop()\n",
    "list_a.pop()"
   ]
  },
  {
   "cell_type": "code",
   "execution_count": null,
   "id": "80ad8b56",
   "metadata": {},
   "outputs": [],
   "source": [
    "list_a"
   ]
  },
  {
   "cell_type": "code",
   "execution_count": null,
   "id": "b5d6fe89",
   "metadata": {},
   "outputs": [],
   "source": [
    "# 리스트에서 특정한 값을 제거 -> remove(data)\n",
    "list_a.remove(20)"
   ]
  },
  {
   "cell_type": "code",
   "execution_count": null,
   "id": "93740493",
   "metadata": {},
   "outputs": [],
   "source": [
    "list_a"
   ]
  },
  {
   "cell_type": "code",
   "execution_count": null,
   "id": "431f054f",
   "metadata": {},
   "outputs": [],
   "source": [
    "list_a.append(40)\n",
    "list_a"
   ]
  },
  {
   "cell_type": "code",
   "execution_count": null,
   "id": "1e37579b",
   "metadata": {},
   "outputs": [],
   "source": [
    "# remove를 이용해서 데이터를 제거하는데 해당 데이터가 여러개인 경우\n",
    "# 해당하는 값중 첫번째 데이터를 제거\n",
    "list_a.remove(40)"
   ]
  },
  {
   "cell_type": "code",
   "execution_count": null,
   "id": "1ad7020c",
   "metadata": {},
   "outputs": [],
   "source": [
    "list_a"
   ]
  },
  {
   "cell_type": "code",
   "execution_count": null,
   "id": "29bb24b5",
   "metadata": {},
   "outputs": [],
   "source": [
    "# 특정 위치의 데이터를 제거 \n",
    "del list_a[2]\n",
    "list_a"
   ]
  },
  {
   "cell_type": "code",
   "execution_count": null,
   "id": "d6a4f79a",
   "metadata": {},
   "outputs": [],
   "source": [
    "# copy() -> 복사\n",
    "list_a_clone = list_a"
   ]
  },
  {
   "cell_type": "code",
   "execution_count": null,
   "id": "bf9145b0",
   "metadata": {},
   "outputs": [],
   "source": [
    "list_a"
   ]
  },
  {
   "cell_type": "code",
   "execution_count": null,
   "id": "10751b08",
   "metadata": {},
   "outputs": [],
   "source": [
    "list_a_clone"
   ]
  },
  {
   "cell_type": "code",
   "execution_count": null,
   "id": "704de5a6",
   "metadata": {},
   "outputs": [],
   "source": [
    "list_a_clone.append(55)"
   ]
  },
  {
   "cell_type": "code",
   "execution_count": null,
   "id": "0cd91101",
   "metadata": {},
   "outputs": [],
   "source": [
    "list_a_clone"
   ]
  },
  {
   "cell_type": "code",
   "execution_count": null,
   "id": "495722a6",
   "metadata": {},
   "outputs": [],
   "source": [
    "list_a"
   ]
  },
  {
   "cell_type": "code",
   "execution_count": null,
   "id": "0976953e",
   "metadata": {},
   "outputs": [],
   "source": [
    "list_a_copy = list_a.copy()"
   ]
  },
  {
   "cell_type": "code",
   "execution_count": null,
   "id": "5e7c83ee",
   "metadata": {},
   "outputs": [],
   "source": [
    "list_a_copy"
   ]
  },
  {
   "cell_type": "code",
   "execution_count": null,
   "id": "449d1653",
   "metadata": {},
   "outputs": [],
   "source": [
    "list_a_clone"
   ]
  },
  {
   "cell_type": "code",
   "execution_count": null,
   "id": "07109794",
   "metadata": {},
   "outputs": [],
   "source": [
    "list_a"
   ]
  },
  {
   "cell_type": "code",
   "execution_count": null,
   "id": "30b337f7",
   "metadata": {},
   "outputs": [],
   "source": [
    "# copy 데이터를 수정 \n",
    "list_a_copy.pop()"
   ]
  },
  {
   "cell_type": "code",
   "execution_count": null,
   "id": "47eac1a1",
   "metadata": {},
   "outputs": [],
   "source": [
    "list_a_copy"
   ]
  },
  {
   "cell_type": "code",
   "execution_count": null,
   "id": "3039a2d4",
   "metadata": {},
   "outputs": [],
   "source": [
    "list_a_clone"
   ]
  },
  {
   "cell_type": "code",
   "execution_count": null,
   "id": "519c2e13",
   "metadata": {},
   "outputs": [],
   "source": [
    "list_a"
   ]
  },
  {
   "cell_type": "code",
   "execution_count": null,
   "id": "3f39c362",
   "metadata": {},
   "outputs": [],
   "source": [
    "# 특정 데이터의 위치를 출력하는 함수 \n",
    "# index(data)\n",
    "# 해당 데이터가 존재하지 않으면 에러 발생생\n",
    "list_a.index(15)"
   ]
  },
  {
   "cell_type": "code",
   "execution_count": null,
   "id": "ccd97f22",
   "metadata": {},
   "outputs": [],
   "source": [
    "text_a = 'abcd'"
   ]
  },
  {
   "cell_type": "code",
   "execution_count": null,
   "id": "a2fe5eff",
   "metadata": {},
   "outputs": [],
   "source": [
    "text_a.find('e')"
   ]
  },
  {
   "cell_type": "code",
   "execution_count": null,
   "id": "9bdeeedd",
   "metadata": {},
   "outputs": [],
   "source": [
    "# sort() -> 정렬을 오름차순으로 변경하고 데이터를 저장\n",
    "    # list에 내장된 함수\n",
    "# list_a.sort()\n",
    "# sorted() -> 리스트의 데이터를 오름차순으로 변경\n",
    "    # python base에서 제공하는 함수\n",
    "sorted(list_a)"
   ]
  },
  {
   "cell_type": "code",
   "execution_count": null,
   "id": "389c99ba",
   "metadata": {},
   "outputs": [],
   "source": [
    "# dict 데이터 생성\n",
    "# key : value 형태의 구조\n",
    "dict_a = {\n",
    "    'id' : 'test', \n",
    "    'age' : 20, \n",
    "    'phone' : '01012345678'\n",
    "}"
   ]
  },
  {
   "cell_type": "code",
   "execution_count": null,
   "id": "a15e8bf4",
   "metadata": {},
   "outputs": [],
   "source": [
    "dict_a"
   ]
  },
  {
   "cell_type": "code",
   "execution_count": null,
   "id": "43622fc9",
   "metadata": {},
   "outputs": [],
   "source": [
    "# dict_a 데이터에서 20이라는 데이터를 추출하려면?\n",
    "dict_a['age']"
   ]
  },
  {
   "cell_type": "code",
   "execution_count": null,
   "id": "ba2e9034",
   "metadata": {},
   "outputs": [],
   "source": [
    "# dict 데이터는 위치 대신 key값을 기준으로 데이터를 추출하기 때문에\n",
    "# 에러 발생 (1이라는 key가 존재하지 않는다.)\n",
    "# dict_a[1]"
   ]
  },
  {
   "cell_type": "code",
   "execution_count": null,
   "id": "852fe868",
   "metadata": {},
   "outputs": [],
   "source": [
    "# dict에 새로운 데이터를 추가하려면? -> key:value 형태로 추가 \n",
    "dict_a['loc'] = 'seoul'"
   ]
  },
  {
   "cell_type": "code",
   "execution_count": null,
   "id": "f15edb91",
   "metadata": {},
   "outputs": [],
   "source": [
    "dict_a"
   ]
  },
  {
   "cell_type": "code",
   "execution_count": null,
   "id": "ab4cc990",
   "metadata": {},
   "outputs": [],
   "source": [
    "del dict_a['phone']"
   ]
  },
  {
   "cell_type": "code",
   "execution_count": null,
   "id": "8220145b",
   "metadata": {},
   "outputs": [],
   "source": [
    "dict_a"
   ]
  },
  {
   "cell_type": "code",
   "execution_count": null,
   "id": "43c14f5b",
   "metadata": {},
   "outputs": [],
   "source": [
    "# 일반적인 open api에서 데이터를 받아올때\n",
    "# DB에서 데이터를 가져올때\n",
    "sample_data = {\n",
    "    'id' : ['test', 'test2', 'test3', 'test4'], \n",
    "    'password' : ['1111', '2222', '3333', '4444'], \n",
    "    'name' : ['Kim', 'Park', 'Lee', 'Choi']\n",
    "}\n",
    "print(sample_data)"
   ]
  },
  {
   "cell_type": "code",
   "execution_count": null,
   "id": "16ad6ac8",
   "metadata": {},
   "outputs": [],
   "source": [
    "# sample_data는 type은 dict -> key값을 이용하여 추출\n",
    "# 'Lee'은 name key값에 존재\n",
    "print(sample_data['name'])\n",
    "# sample_data['name']의 데이터의 타입은  list -> index를 이용하여 추출\n",
    "# 'Lee' 문자열은 3번째 위치에 존재(index -> 2)\n",
    "print(sample_data['name'][2])"
   ]
  },
  {
   "cell_type": "code",
   "execution_count": null,
   "id": "ab393c12",
   "metadata": {},
   "outputs": [],
   "source": [
    "sample_data2 = [\n",
    "    {\n",
    "        'id' : 'test', 'password' : '1111', 'name' : 'Kim'\n",
    "    }, \n",
    "    {\n",
    "        'id' : 'test2', 'password' : '2222', 'name' : 'Park'\n",
    "    }, \n",
    "    {\n",
    "        'id' : 'test3', 'password' : '3333', 'name' : 'Lee'\n",
    "    }\n",
    "]"
   ]
  },
  {
   "cell_type": "code",
   "execution_count": null,
   "id": "9ac9e16e",
   "metadata": {},
   "outputs": [],
   "source": [
    "# sample_data2에서 test2를 추출하려면?\n",
    "# test2는 sample_data2에서 index 1에 위치\n",
    "print(sample_data2[1])\n",
    "print(sample_data2[1]['id'])"
   ]
  },
  {
   "cell_type": "code",
   "execution_count": null,
   "id": "1aac1a9d",
   "metadata": {},
   "outputs": [],
   "source": [
    "# dict 데이터에서 key 값들만 확인 \n",
    "sample_data.keys()"
   ]
  },
  {
   "cell_type": "code",
   "execution_count": null,
   "id": "c9e40c15",
   "metadata": {},
   "outputs": [],
   "source": [
    "# dict 데이터에서 value 값들만 확인\n",
    "sample_data.values()"
   ]
  },
  {
   "cell_type": "code",
   "execution_count": null,
   "id": "bf28b6ba",
   "metadata": {},
   "outputs": [],
   "source": [
    "# dict 데이터에서 (key, value)형태로 데이터를 출력력\n",
    "sample_data.items()"
   ]
  },
  {
   "cell_type": "code",
   "execution_count": null,
   "id": "4bfe8133",
   "metadata": {},
   "outputs": [],
   "source": [
    "# 조건문 \n",
    "# 조건식이 참인 경우 실행할 코드와 거짓인 경우 실행할 코드를 나눠서 작성 \n",
    "# if ~ else문\n",
    "a = 10\n",
    "if (a > 5):\n",
    "    # a보다 5보다 큰 경우에 실행할 코드 \n",
    "    print('a는 5보다 크다')\n",
    "else:\n",
    "    # a가 5보다 작거나 같은 경우에 실행할 코드 \n",
    "    print('a는 5보다 작거나 같다')\n",
    "\n",
    "print('프로그램 종료')"
   ]
  },
  {
   "cell_type": "code",
   "execution_count": null,
   "id": "f481909a",
   "metadata": {},
   "outputs": [],
   "source": [
    "# 다중 조건문 \n",
    "# if ~ elif ~ else\n",
    "# int() -> 데이터를 숫자로 변경\n",
    "# input() -> 데이터를 입력하는 공간을 생성하여 입력한 값을 문자로 되돌려준다.\n",
    "score = int( input('점수를 입력하시오') )\n",
    "print(score)\n",
    "\n",
    "if (score >= 90):\n",
    "    print('A')\n",
    "elif (score >= 80):\n",
    "    print('B')\n",
    "elif (score >= 70):\n",
    "    print('C')\n",
    "else:\n",
    "    print('F')\n"
   ]
  },
  {
   "cell_type": "code",
   "execution_count": null,
   "id": "d61e1f93",
   "metadata": {},
   "outputs": [],
   "source": [
    "# 반복문 \n",
    "# for문 \n",
    "# for문의 기본형태 -> for i in range(시작값, 종료값, 증가값):\n",
    "# range() 함수 \n",
    "# 시작값은 0이 기본값\n",
    "# 증가값은 1이 기본값값\n",
    "print(\n",
    "    list(\n",
    "        range(1, 10, 2)\n",
    "        )\n",
    "    )"
   ]
  },
  {
   "cell_type": "code",
   "execution_count": null,
   "id": "ff2e5e33",
   "metadata": {},
   "outputs": [],
   "source": [
    "for i in range(1, 5, 1):\n",
    "    # 몇번 반복? -> 1, 2, 3, 4\n",
    "    print(i)"
   ]
  },
  {
   "cell_type": "code",
   "execution_count": null,
   "id": "36c3552f",
   "metadata": {},
   "outputs": [],
   "source": [
    "for i in range(5):\n",
    "    # 몇번 반복? -> 0, 1, 2, 3, 4\n",
    "    print('반복')"
   ]
  },
  {
   "cell_type": "code",
   "execution_count": null,
   "id": "45219e7d",
   "metadata": {},
   "outputs": [],
   "source": [
    "tuple_data = (3, 6, 1)\n",
    "list_data = [8, 5, 1]\n",
    "dict_data = {\n",
    "    'id' : 'test', 'password' : '1111' \n",
    "}"
   ]
  },
  {
   "cell_type": "code",
   "execution_count": null,
   "id": "fb4dc5a7",
   "metadata": {},
   "outputs": [],
   "source": [
    "for i in tuple_data:\n",
    "    print(i)"
   ]
  },
  {
   "cell_type": "code",
   "execution_count": null,
   "id": "e52ca209",
   "metadata": {},
   "outputs": [],
   "source": [
    "for i in list_data:\n",
    "    print(i)"
   ]
  },
  {
   "cell_type": "code",
   "execution_count": 89,
   "id": "dbedc926",
   "metadata": {},
   "outputs": [
    {
     "name": "stdout",
     "output_type": "stream",
     "text": [
      "8\n",
      "5\n",
      "1\n"
     ]
    }
   ],
   "source": [
    "# len함수를 이용해서 list_data의 값들을 하나씩 출력 \n",
    "for i in range( len(list_data) ):\n",
    "    # i에는 0, 1, 2 --> list_data의 index 값\n",
    "    print(list_data[i])"
   ]
  },
  {
   "cell_type": "code",
   "execution_count": 87,
   "id": "98e211a5",
   "metadata": {},
   "outputs": [
    {
     "name": "stdout",
     "output_type": "stream",
     "text": [
      "test\n",
      "1111\n"
     ]
    }
   ],
   "source": [
    "for i in dict_data:\n",
    "    # i에는 dcit_data의 key값들이 대입\n",
    "    print(dict_data[i])"
   ]
  },
  {
   "cell_type": "code",
   "execution_count": null,
   "id": "d1b2af5d",
   "metadata": {},
   "outputs": [],
   "source": [
    "# while문\n",
    "# 조건식이 거짓이 될때까지 반복 실행하는 구문 \n",
    "\n",
    "# 초기값 지정 \n",
    "i = 0\n",
    "\n",
    "while i < 10:\n",
    "    print(i)\n",
    "    # i = i + 1\n",
    "    i += 1\n"
   ]
  },
  {
   "cell_type": "code",
   "execution_count": 91,
   "id": "e9eba479",
   "metadata": {},
   "outputs": [
    {
     "name": "stdout",
     "output_type": "stream",
     "text": [
      "1\n",
      "2\n",
      "3\n",
      "4\n"
     ]
    }
   ],
   "source": [
    "# 반복문을 강제로 종료 -> break\n",
    "for i in range(1, 100, 1):\n",
    "    # i에는 1부터 99까지 1씩 증가시켜 값이 대입 \n",
    "    if i == 5:\n",
    "        break\n",
    "    print(i)"
   ]
  },
  {
   "cell_type": "code",
   "execution_count": 93,
   "id": "e8e16d48",
   "metadata": {},
   "outputs": [
    {
     "name": "stdout",
     "output_type": "stream",
     "text": [
      "[3, 6, 9, 12, 15, 18, 21, 24, 27, 30, 33, 36, 39, 42, 45, 48, 51, 54, 57, 60, 63, 66, 69, 72, 75, 78, 81, 84, 87, 90, 93, 96, 99]\n"
     ]
    }
   ],
   "source": [
    "# 리스트 데이터는 원소의 개수가 0개부터 생성이 가능\n",
    "# 1부터 100까지(range(1, 101, 1))의 숫자 중 3의 배수(3으로 나누었을때 나머지가 0인 경우)를 \n",
    "# 하나의 리스트로 생성\n",
    "list_data = []\n",
    "\n",
    "for i in range(1, 101, 1):\n",
    "    # 3의 배수 조건식 \n",
    "    if i % 3 == 0:\n",
    "        # 조건식이 참이면 -> list에 i를 추가(append)\n",
    "        list_data.append(i)\n",
    "\n",
    "print(list_data)\n"
   ]
  },
  {
   "cell_type": "code",
   "execution_count": 94,
   "id": "e3d6459d",
   "metadata": {},
   "outputs": [
    {
     "name": "stdout",
     "output_type": "stream",
     "text": [
      "55\n"
     ]
    }
   ],
   "source": [
    "# 1부터 10까지의 합계\n",
    "\n",
    "# 누적합을 할수 있는 공간\n",
    "result = 0\n",
    "\n",
    "for i in range(1, 11, 1):\n",
    "    # result에 i을 더하고 result에 대입 \n",
    "    # result = result + i\n",
    "    result += i\n",
    "print(result)"
   ]
  },
  {
   "cell_type": "code",
   "execution_count": 95,
   "id": "f5672f12",
   "metadata": {},
   "outputs": [
    {
     "name": "stdout",
     "output_type": "stream",
     "text": [
      "55\n"
     ]
    }
   ],
   "source": [
    "# 1부터 10까지의 합계 while문\n",
    "# 누적합 -> 0\n",
    "result = 0\n",
    "# 초기 값 1\n",
    "i = 1\n",
    "\n",
    "# while i <= 10:\n",
    "while i < 11:\n",
    "    # result 에 i를 더하고 result에 대입\n",
    "    result += i\n",
    "    # 증가값\n",
    "    i += 1\n",
    "print(result)\n"
   ]
  },
  {
   "cell_type": "code",
   "execution_count": 97,
   "id": "8e54a7ba",
   "metadata": {},
   "outputs": [
    {
     "name": "stdout",
     "output_type": "stream",
     "text": [
      "5\n",
      "6\n",
      "7\n",
      "8\n",
      "9\n"
     ]
    }
   ],
   "source": [
    "# continue -> 반복문으로 되돌아간다. \n",
    "for i in range(1, 10, 1):\n",
    "    # i 는 1, 2, 3, 4, 5, 6, 7, 8, 9 대입\n",
    "    if i < 5 :\n",
    "        # i가 5보다 작은 경우 continue 실행\n",
    "        continue\n",
    "    print(i)"
   ]
  },
  {
   "cell_type": "code",
   "execution_count": null,
   "id": "fdd96ef5",
   "metadata": {},
   "outputs": [],
   "source": [
    "# continue를 이용하여 1부터 100까지의 숫자 중 3의 배수만 리스트로 생성\n",
    "list_data = []\n",
    "\n",
    "for i in range(1, 101, 1):\n",
    "    if i % 3 != 0:\n",
    "        continue\n",
    "    list_data.append(i)\n",
    "\n",
    "list_data"
   ]
  },
  {
   "cell_type": "code",
   "execution_count": 99,
   "id": "6f459249",
   "metadata": {},
   "outputs": [],
   "source": [
    "# 2차원 리스트 데이터를 반복문을 이용해서 원소를 출력하기 \n",
    "list_data2 = [\n",
    "    [10, 20, 30, 40], \n",
    "    [15, 25, 35, 45], \n",
    "    [100, 200, 300, 400]\n",
    "]"
   ]
  },
  {
   "cell_type": "code",
   "execution_count": null,
   "id": "40f793d9",
   "metadata": {},
   "outputs": [
    {
     "name": "stdout",
     "output_type": "stream",
     "text": [
      "10\n",
      "20\n",
      "30\n",
      "40\n",
      "15\n",
      "25\n",
      "35\n",
      "45\n",
      "100\n",
      "200\n",
      "300\n",
      "400\n"
     ]
    }
   ],
   "source": [
    "for i in list_data2:\n",
    "    # i에 대입되는 값? -> list_data2의 첫번째, 두번째, 세번째\n",
    "    # i는 데이터의 타입? -> list\n",
    "    # print(i)\n",
    "    for j in i:\n",
    "        # j에 대입되는 값은? -> i의 첫번째, ... 마지막 대입 \n",
    "        print(j)\n",
    "# for문 \n",
    "    # 첫번째 반복 : i = [10, 20, 30, 40]\n",
    "        # 두번째 반복문 for j in [10, 20, 30, 40]\n",
    "            # 첫번째 반복 : i = [10, 20, 30, 40], j = 10\n",
    "            # 두번째 반복 : i = [10, 20, 30, 40], j = 20\n",
    "            # 세번째 반복 : j = 30\n",
    "            # 네번째 반복 : j = 40 -> 반복문이 종료\n",
    "    # 두번째 반복 : i = [15, 25, 35, 45]\n",
    "        #두번째 반복문 for j in [15, 25, 35, 45]\n",
    "            # 첫번째 반복 : j = 15"
   ]
  },
  {
   "cell_type": "code",
   "execution_count": 102,
   "id": "673b21e3",
   "metadata": {},
   "outputs": [
    {
     "name": "stdout",
     "output_type": "stream",
     "text": [
      "10\n"
     ]
    }
   ],
   "source": [
    "list_data = [30, 40, 20, 10]\n",
    "# 반복문을 이용해서 sort() 기능 구현\n",
    "\n",
    "# 첫번째 원소(index가 0)와 두번째 원소를 비교 -> 세번째 비교 -> 네번째 비교\n",
    "min_data = list_data[0]\n",
    "# min_data -> 30\n",
    "if min_data > list_data[1]:\n",
    "    # 30 > 40\n",
    "    # min_data가 list_data[1]보다 크다면? list_data[1] 더 작다는 의미\n",
    "    min_data = list_data[1]\n",
    "# min_data -> 30\n",
    "if min_data > list_data[2]:\n",
    "    # 30 > 20 --> 참\n",
    "    min_data = list_data[2]\n",
    "# min_data -> 20\n",
    "if min_data > list_data[3]:\n",
    "    # 20 > 10 --> 참\n",
    "    min_data = list_data[3]\n",
    "# min_data -> 10\n",
    "print(min_data)"
   ]
  },
  {
   "cell_type": "code",
   "execution_count": 108,
   "id": "e6f6a361",
   "metadata": {},
   "outputs": [
    {
     "name": "stdout",
     "output_type": "stream",
     "text": [
      "[10]\n",
      "[30, 40, 20]\n",
      "[10, 20]\n",
      "[30, 40]\n",
      "[10, 20, 30]\n",
      "[40]\n",
      "[10, 20, 30, 40]\n",
      "[]\n"
     ]
    }
   ],
   "source": [
    "list_data = [30, 40, 20, 10]\n",
    "sort_data = []\n",
    "for c in range(len(list_data)):\n",
    "    min_data = list_data[0]\n",
    "    for i in range(1, len(list_data), 1):\n",
    "        # print(i)\n",
    "        if min_data > list_data[i]:\n",
    "            min_data = list_data[i]\n",
    "    # print(min_data)\n",
    "    # list_data에서 가장 작은 값을 sort_data에 추가 \n",
    "    sort_data.append(min_data)\n",
    "    # list_data에서 가장 작은 값을 제거 \n",
    "    list_data.remove(min_data)\n",
    "    print(sort_data)\n",
    "    print(list_data)"
   ]
  },
  {
   "cell_type": "code",
   "execution_count": 109,
   "id": "eb0ab171",
   "metadata": {},
   "outputs": [
    {
     "data": {
      "text/plain": [
       "' Hello world '"
      ]
     },
     "execution_count": 109,
     "metadata": {},
     "output_type": "execute_result"
    }
   ],
   "source": [
    "# 문자열 내장 함수 \n",
    "str_data = \" Hello world \"\n",
    "str_data"
   ]
  },
  {
   "cell_type": "code",
   "execution_count": 110,
   "id": "b19a655a",
   "metadata": {},
   "outputs": [
    {
     "data": {
      "text/plain": [
       "' HELLO WORLD '"
      ]
     },
     "execution_count": 110,
     "metadata": {},
     "output_type": "execute_result"
    }
   ],
   "source": [
    "# 문자를 모두 대문자로 변경 upper()\n",
    "str_data.upper()"
   ]
  },
  {
   "cell_type": "code",
   "execution_count": 113,
   "id": "0b71f1fa",
   "metadata": {},
   "outputs": [
    {
     "data": {
      "text/plain": [
       "' hello world '"
      ]
     },
     "execution_count": 113,
     "metadata": {},
     "output_type": "execute_result"
    }
   ],
   "source": [
    "# 문자를 모두 소문자로 변경 lower()\n",
    "str_data.lower()"
   ]
  },
  {
   "cell_type": "code",
   "execution_count": 114,
   "id": "ddd9e541",
   "metadata": {},
   "outputs": [
    {
     "data": {
      "text/plain": [
       "' hELLO WORLD '"
      ]
     },
     "execution_count": 114,
     "metadata": {},
     "output_type": "execute_result"
    }
   ],
   "source": [
    "# 대문자를 소문자로 소문자를 대문자로 변경 swapcase()\n",
    "str_data.swapcase()"
   ]
  },
  {
   "cell_type": "code",
   "execution_count": 115,
   "id": "fd935bde",
   "metadata": {},
   "outputs": [
    {
     "data": {
      "text/plain": [
       "' Hello World '"
      ]
     },
     "execution_count": 115,
     "metadata": {},
     "output_type": "execute_result"
    }
   ],
   "source": [
    "# 단어의 첫글자를 대문자로 변경 title()\n",
    "str_data.title()"
   ]
  },
  {
   "cell_type": "code",
   "execution_count": 117,
   "id": "3ac3c83c",
   "metadata": {},
   "outputs": [
    {
     "data": {
      "text/plain": [
       "True"
      ]
     },
     "execution_count": 117,
     "metadata": {},
     "output_type": "execute_result"
    }
   ],
   "source": [
    "'Hello' == 'hello'.title()"
   ]
  },
  {
   "cell_type": "code",
   "execution_count": 118,
   "id": "41d2f7e7",
   "metadata": {},
   "outputs": [
    {
     "data": {
      "text/plain": [
       "'Hello world'"
      ]
     },
     "execution_count": 118,
     "metadata": {},
     "output_type": "execute_result"
    }
   ],
   "source": [
    "# strip() -> 문자열에서 시작과 끝에 공백이 존재한다면서 공백을 제거 \n",
    "# lstrip() -> 문자열의 왼쪽(시작)의 공백을 제거 \n",
    "# rstrip() -> 문자열의 오른쪽(끝)의 공백을 제거 \n",
    "str_data.strip()"
   ]
  },
  {
   "cell_type": "code",
   "execution_count": 119,
   "id": "570ad00b",
   "metadata": {},
   "outputs": [
    {
     "data": {
      "text/plain": [
       "'Hello world '"
      ]
     },
     "execution_count": 119,
     "metadata": {},
     "output_type": "execute_result"
    }
   ],
   "source": [
    "str_data.lstrip()"
   ]
  },
  {
   "cell_type": "code",
   "execution_count": 120,
   "id": "274f4500",
   "metadata": {},
   "outputs": [
    {
     "data": {
      "text/plain": [
       "' Hello world'"
      ]
     },
     "execution_count": 120,
     "metadata": {},
     "output_type": "execute_result"
    }
   ],
   "source": [
    "str_data.rstrip()"
   ]
  },
  {
   "cell_type": "code",
   "execution_count": 121,
   "id": "904d5065",
   "metadata": {},
   "outputs": [
    {
     "name": "stdout",
     "output_type": "stream",
     "text": [
      " Hello world \n"
     ]
    }
   ],
   "source": [
    "print(str_data)"
   ]
  },
  {
   "cell_type": "code",
   "execution_count": 123,
   "id": "733516f0",
   "metadata": {},
   "outputs": [
    {
     "name": "stdout",
     "output_type": "stream",
     "text": [
      "10$20$\n"
     ]
    }
   ],
   "source": [
    "# strip() 함수에 인자를 대입하면 해당 문자를 제거 \n",
    "price1 = '10$'\n",
    "price2 = '20$'\n",
    "\n",
    "print(price1 + price2)"
   ]
  },
  {
   "cell_type": "code",
   "execution_count": 126,
   "id": "c161ef8b",
   "metadata": {},
   "outputs": [
    {
     "data": {
      "text/plain": [
       "30"
      ]
     },
     "execution_count": 126,
     "metadata": {},
     "output_type": "execute_result"
    }
   ],
   "source": [
    "# price1를 숫자형 데이터로 변환 int()\n",
    "int( price1.rstrip('$') ) + int( price2.rstrip('$') )"
   ]
  },
  {
   "cell_type": "code",
   "execution_count": 131,
   "id": "512c994d",
   "metadata": {},
   "outputs": [
    {
     "data": {
      "text/plain": [
       "10000"
      ]
     },
     "execution_count": 131,
     "metadata": {},
     "output_type": "execute_result"
    }
   ],
   "source": [
    "price = '10,000원'\n",
    "# int(price.rstrip('원'))\n",
    "# strip() 함수는 문자열 중간에 있는 데이터를 변경이 불가능\n",
    "# 문자을 찾아서 특정 문자를 다른 문자로 대체 replace(특정문자, 대체할문자)\n",
    "price = price.rstrip('원')\n",
    "int( price.replace( ',', '' ) )"
   ]
  },
  {
   "cell_type": "code",
   "execution_count": 133,
   "id": "917d1ee3",
   "metadata": {},
   "outputs": [],
   "source": [
    "item_1 = '상품A'\n",
    "item_2 = '상 품 A'\n",
    "item_3 = '상 품 a'"
   ]
  },
  {
   "cell_type": "code",
   "execution_count": 135,
   "id": "9386a4be",
   "metadata": {},
   "outputs": [],
   "source": [
    "# item_1과 item_2 그리고 item_3를 같다라는 비교연산자를 사용할때 True 나오게 하려면?\n",
    "# 모든 문자는 대문자로 변경 \n",
    "# 문자열 사이에 있는 공백을 모두 제거 \n",
    "item_3 = item_3.upper()\n",
    "item_2 = item_2.replace(' ', '')\n",
    "item_3 = item_3.replace(' ', '')"
   ]
  },
  {
   "cell_type": "code",
   "execution_count": 136,
   "id": "bdb2ddc8",
   "metadata": {},
   "outputs": [
    {
     "name": "stdout",
     "output_type": "stream",
     "text": [
      "True\n",
      "True\n"
     ]
    }
   ],
   "source": [
    "print(item_1 == item_2)\n",
    "print(item_1 == item_3)"
   ]
  },
  {
   "cell_type": "code",
   "execution_count": 138,
   "id": "8407685f",
   "metadata": {},
   "outputs": [
    {
     "data": {
      "text/plain": [
       "['Hello', 'World']"
      ]
     },
     "execution_count": 138,
     "metadata": {},
     "output_type": "execute_result"
    }
   ],
   "source": [
    "# 문자열을 나눠주는 함수 split()\n",
    "# 기본적으로는 문자의 공백으로 기준으로 문자를 나눠준다. -> 결과는 list\n",
    "str_data = 'Hello World'\n",
    "str_data.split()"
   ]
  },
  {
   "cell_type": "code",
   "execution_count": 139,
   "id": "64cb8649",
   "metadata": {},
   "outputs": [
    {
     "data": {
      "text/plain": [
       "['a', 'b', 'c', 'd']"
      ]
     },
     "execution_count": 139,
     "metadata": {},
     "output_type": "execute_result"
    }
   ],
   "source": [
    "str_data2 = 'ammbmmcmmd'\n",
    "str_data2.split('mm')"
   ]
  },
  {
   "cell_type": "code",
   "execution_count": 144,
   "id": "e04fae17",
   "metadata": {},
   "outputs": [],
   "source": [
    "sql_data = 'select * from table'\n",
    "sql_data2 = 'SELECT * FROM table'\n",
    "# sql_data가 select로 시작하는가?\n",
    "data = 'select'"
   ]
  },
  {
   "cell_type": "code",
   "execution_count": 146,
   "id": "396c2bdb",
   "metadata": {},
   "outputs": [
    {
     "data": {
      "text/plain": [
       "True"
      ]
     },
     "execution_count": 146,
     "metadata": {},
     "output_type": "execute_result"
    }
   ],
   "source": [
    "# sql_data에서 첫번째 문자(index 0)부터 6번째문자까지(7번째 전까지(index 6)) 출력\n",
    "sql_data[0:len(data)] == data"
   ]
  },
  {
   "cell_type": "code",
   "execution_count": 148,
   "id": "123576af",
   "metadata": {},
   "outputs": [
    {
     "data": {
      "text/plain": [
       "True"
      ]
     },
     "execution_count": 148,
     "metadata": {},
     "output_type": "execute_result"
    }
   ],
   "source": [
    "sql_data2[:len(data)].lower() == data"
   ]
  },
  {
   "cell_type": "code",
   "execution_count": 151,
   "id": "d3b88c34",
   "metadata": {},
   "outputs": [
    {
     "data": {
      "text/plain": [
       "True"
      ]
     },
     "execution_count": 151,
     "metadata": {},
     "output_type": "execute_result"
    }
   ],
   "source": [
    "sql_data.split()[0] == data"
   ]
  },
  {
   "cell_type": "code",
   "execution_count": 153,
   "id": "b74017f6",
   "metadata": {},
   "outputs": [
    {
     "data": {
      "text/plain": [
       "True"
      ]
     },
     "execution_count": 153,
     "metadata": {},
     "output_type": "execute_result"
    }
   ],
   "source": [
    "# 문자의 시작이 특정 문자와 같은가? -> startswith()\n",
    "sql_data.startswith('select')"
   ]
  },
  {
   "cell_type": "code",
   "execution_count": null,
   "id": "58f60d8d",
   "metadata": {},
   "outputs": [
    {
     "data": {
      "text/plain": [
       "True"
      ]
     },
     "execution_count": 154,
     "metadata": {},
     "output_type": "execute_result"
    }
   ],
   "source": [
    "# 문자의 마지막이 특정 문자와 같은가? endswith()\n",
    "sql_data.endswith('table')"
   ]
  },
  {
   "cell_type": "code",
   "execution_count": 155,
   "id": "d77bd027",
   "metadata": {},
   "outputs": [],
   "source": [
    "file_list = [\n",
    "    '/csv/a.csv', \n",
    "    '/csv/b.csv', \n",
    "    '/csv/c.xlsx', \n",
    "    '/csv/d.json'\n",
    "]"
   ]
  },
  {
   "cell_type": "code",
   "execution_count": 157,
   "id": "909b5944",
   "metadata": {},
   "outputs": [
    {
     "name": "stdout",
     "output_type": "stream",
     "text": [
      "/csv/a.csv\n",
      "/csv/b.csv\n"
     ]
    }
   ],
   "source": [
    "# file_list에서 확장자가 csv인 파일만 출력하려면?\n",
    "for i in file_list:\n",
    "    if i.endswith('csv'):\n",
    "        print(i)"
   ]
  }
 ],
 "metadata": {
  "kernelspec": {
   "display_name": "Python 3",
   "language": "python",
   "name": "python3"
  },
  "language_info": {
   "codemirror_mode": {
    "name": "ipython",
    "version": 3
   },
   "file_extension": ".py",
   "mimetype": "text/x-python",
   "name": "python",
   "nbconvert_exporter": "python",
   "pygments_lexer": "ipython3",
   "version": "3.11.1"
  }
 },
 "nbformat": 4,
 "nbformat_minor": 5
}
