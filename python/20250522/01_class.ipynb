{
 "cells": [
  {
   "cell_type": "code",
   "execution_count": null,
   "id": "3fb0f2fd",
   "metadata": {},
   "outputs": [],
   "source": [
    "# class를 생성하여 class 안에 존재하는 변수를 변경할것인가?\n",
    "# 변경하지 않고 되돌려줄것인가?\n",
    "\n",
    "x = 10\n",
    "# return이 존재하는 함수 \n",
    "def case1(_val):\n",
    "    result = x + _val\n",
    "    return result\n",
    "\n",
    "\n",
    "print(case1(5))\n",
    "print(x)"
   ]
  },
  {
   "cell_type": "code",
   "execution_count": null,
   "id": "bd874216",
   "metadata": {},
   "outputs": [],
   "source": [
    "def case2(_val):\n",
    "    globals()['x'] = x + _val\n",
    "case2(5)"
   ]
  },
  {
   "cell_type": "code",
   "execution_count": null,
   "id": "3a2847d0",
   "metadata": {},
   "outputs": [],
   "source": [
    "x"
   ]
  },
  {
   "cell_type": "code",
   "execution_count": null,
   "id": "bb6b2809",
   "metadata": {},
   "outputs": [],
   "source": [
    "x = 10\n",
    "\n",
    "def case3(_val, inplace = False):\n",
    "    if inplace:\n",
    "        # 원본의 데이터를 수정한다. \n",
    "        globals()['x'] = x + _val\n",
    "    else:\n",
    "        result = x + _val\n",
    "        return result\n",
    "\n",
    "# case3 호출하면서 원본데이터 수정X\n",
    "print(case3(5))\n",
    "print(x)\n",
    "print(case3(5, inplace=True))\n",
    "print(x)"
   ]
  },
  {
   "cell_type": "code",
   "execution_count": null,
   "id": "f8754e22",
   "metadata": {},
   "outputs": [],
   "source": [
    "class InplaceTest:\n",
    "    def __init__(self, _data):\n",
    "        self.data = _data\n",
    "\n",
    "    def add(self, _val, inplace = False):\n",
    "        if inplace:\n",
    "            # self.data를 변경 \n",
    "            self.data += _val\n",
    "        else:\n",
    "            result = self.data + _val\n",
    "            return result"
   ]
  },
  {
   "cell_type": "code",
   "execution_count": null,
   "id": "c5c0f833",
   "metadata": {},
   "outputs": [],
   "source": [
    "inplace_1 = InplaceTest(10)"
   ]
  },
  {
   "cell_type": "code",
   "execution_count": null,
   "id": "6312aba5",
   "metadata": {},
   "outputs": [],
   "source": [
    "# InplaceTest class 안에 있는 add()함수를 호출\n",
    "print(inplace_1.add(5))"
   ]
  },
  {
   "cell_type": "code",
   "execution_count": null,
   "id": "faadb2c3",
   "metadata": {},
   "outputs": [],
   "source": [
    "inplace_1.data = inplace_1.add(5)"
   ]
  },
  {
   "cell_type": "code",
   "execution_count": null,
   "id": "6a79be19",
   "metadata": {},
   "outputs": [],
   "source": [
    "inplace_1.data"
   ]
  },
  {
   "cell_type": "code",
   "execution_count": null,
   "id": "b7bc3213",
   "metadata": {},
   "outputs": [],
   "source": [
    "inplace_1.add(5, inplace=True)"
   ]
  },
  {
   "cell_type": "code",
   "execution_count": null,
   "id": "b8a6f398",
   "metadata": {},
   "outputs": [],
   "source": [
    "inplace_1.data = inplace_1.add(5, inplace=True)"
   ]
  },
  {
   "cell_type": "code",
   "execution_count": null,
   "id": "ffb2950f",
   "metadata": {},
   "outputs": [],
   "source": [
    "inplace_1.data"
   ]
  },
  {
   "cell_type": "markdown",
   "id": "a6e4aacc",
   "metadata": {},
   "source": [
    "### class의 상속\n",
    "- 상속? -> 물려받다. \n",
    "    - python class에서는 class 내부의 변수와 함수를 물려받아서 사용\n",
    "    - 부모 클래스가 존재, 자식 클래스 가 존재\n",
    "    - 부모 클래스에 존재하는 기능은 그대로 유지한 채 자식클래스에서는 부모 클래스의 기능을 그대로 사용하거나 변경해서 사용이 가능"
   ]
  },
  {
   "cell_type": "code",
   "execution_count": null,
   "id": "8ba06b10",
   "metadata": {},
   "outputs": [],
   "source": [
    "# 부모 클래스를 선언\n",
    "class A:\n",
    "    def __init__(self, _name, _birth):\n",
    "        self.name = _name\n",
    "        self.birth = _birth\n",
    "    def view_info(self):\n",
    "        print(f\"등록된 이름은 {self.name}이고 생년월일은 {self.birth}입니다\")"
   ]
  },
  {
   "cell_type": "code",
   "execution_count": null,
   "id": "e4227a1a",
   "metadata": {},
   "outputs": [],
   "source": [
    "test_1 = A('kim', '000105')"
   ]
  },
  {
   "cell_type": "code",
   "execution_count": null,
   "id": "64423dbd",
   "metadata": {},
   "outputs": [],
   "source": [
    "test_1.view_info()"
   ]
  },
  {
   "cell_type": "code",
   "execution_count": null,
   "id": "6a8ce7a5",
   "metadata": {},
   "outputs": [],
   "source": [
    "# B 클래스를 선언하여 A클래스를 상속받는다. \n",
    "class B(A):\n",
    "    def __init__(self, _name, _birth, _loc, _phone):\n",
    "        # A클래스(부모클래스)에 생성자 함수를 호출\n",
    "        # 부모클래스 -> super()\n",
    "        super().__init__(_name, _birth)\n",
    "        self.loc = _loc\n",
    "        self.phone = _phone\n",
    "    def view_info(self):\n",
    "        print(f\"\"\"이름은 {self.name}\n",
    "        생년월일은 {self.birth}\n",
    "        지역은 {self.loc}\n",
    "        휴대폰 번호는 {self.phone}\"\"\")"
   ]
  },
  {
   "cell_type": "code",
   "execution_count": null,
   "id": "45d3088a",
   "metadata": {},
   "outputs": [],
   "source": [
    "test_2 = B('park', '010502', 'seoul', '01012345678')"
   ]
  },
  {
   "cell_type": "code",
   "execution_count": null,
   "id": "5e27d3a5",
   "metadata": {},
   "outputs": [],
   "source": [
    "# B 클래스를 생성한 test_2에는 변수가 4개 존재 함수는 2개 존재\n",
    "test_2.user_info()"
   ]
  },
  {
   "cell_type": "code",
   "execution_count": null,
   "id": "81817f3d",
   "metadata": {},
   "outputs": [],
   "source": [
    "test_2.view_info()"
   ]
  },
  {
   "cell_type": "code",
   "execution_count": null,
   "id": "1e2bc582",
   "metadata": {},
   "outputs": [],
   "source": [
    "test_3 = A('lee', '900101')"
   ]
  },
  {
   "cell_type": "code",
   "execution_count": null,
   "id": "7d542cf7",
   "metadata": {},
   "outputs": [],
   "source": [
    "test_3.view_info()"
   ]
  },
  {
   "cell_type": "markdown",
   "id": "06be697e",
   "metadata": {},
   "source": [
    "### class 선언\n",
    "- class 유저의 정보를 저장하는 클래스\n",
    "    - 이름은 User\n",
    "    - 유저의 정보를 저장하고 해당하는 정보를 출력하는 class\n",
    "    - 매개변수 3개 \n",
    "        - 유저의 이름 (name)\n",
    "        - 유저의 생년월일 (birth)\n",
    "        - 유저의 거주지역 (addr)\n",
    "    - 함수는 유저의 정보를 출력하는 함수 \n",
    "        - print()를 이용하여 유저의 정보를 출력하는 기능\n",
    "- class 지갑 클래스 (User 상속)\n",
    "    - Wallet\n",
    "        - 매개변수 4개 \n",
    "            - 유저의 이름 (name)\n",
    "            - 유저의 생년월일 (birth)\n",
    "            - 유저의 거주지역 (addr)\n",
    "            - 지갑의 잔액 (balance)\n",
    "        - 생성자 함수\n",
    "            - 부모클래스의 생성자 함수를 호출\n",
    "            - self변수 생성 (item_list)하여 빈 리스트를 대입\n",
    "        - work() 함수를 생성\n",
    "            - 매개변수 1개 \n",
    "                - type \n",
    "            - type이 만약에 'serving'이라면 현재 지갑의 잔액(balance) 50000 증가\n",
    "            - 'teaching' 이라면 100000 증가\n",
    "            - 'hard_work' 이라면 150000 증가\n",
    "            - 그 외의 경우에는 type이 잘못되었습니다라는 문자를 출력\n",
    "        - buy() 함수를 생성\n",
    "            - 매개변수 1개\n",
    "                - item_name\n",
    "            - item_name이 \"맥스튜디오\" 8000000이 차감\n",
    "            - \"디카\"  1500000 차감\n",
    "            - \"스탠바이미\" 1000000 차감\n",
    "            - 그 외의 경우에는 item_name이 잘못되었습니다. 출력\n",
    "            - 구매하려는 물건의 가격이 현재의 잔액보다 크다면 구매 실패\n",
    "            - 아니라면 잔액은 차감하고 item_list에 해당 물건을 추가 \n",
    "        - 정보를 출력하는 함수 \n",
    "            - 유저의 이름과 잔액 그리고 구매한 물건의 목록을 출력하는 기능"
   ]
  },
  {
   "cell_type": "code",
   "execution_count": null,
   "id": "e2f73a07",
   "metadata": {},
   "outputs": [],
   "source": [
    "class User:\n",
    "    def __init__(self, name, birth, loc):\n",
    "        self.name = name\n",
    "        self.birth = birth\n",
    "        self.loc = loc\n",
    "    def view_info(self):\n",
    "        print(f\"\"\"\n",
    "            이름 : {self.name}\n",
    "            생년월일 : {self.birth}\n",
    "            거주지 : {self.loc}\n",
    "        \"\"\")"
   ]
  },
  {
   "cell_type": "code",
   "execution_count": null,
   "id": "b8d7a56c",
   "metadata": {},
   "outputs": [],
   "source": [
    "user1 = User('kim', '000101', 'seoul')"
   ]
  },
  {
   "cell_type": "code",
   "execution_count": null,
   "id": "41de5aac",
   "metadata": {},
   "outputs": [],
   "source": [
    "user1.view_info()"
   ]
  },
  {
   "cell_type": "code",
   "execution_count": null,
   "id": "75afda10",
   "metadata": {},
   "outputs": [],
   "source": [
    "# Wallet class 선언 (User 상속)\n",
    "class Wallet(User):\n",
    "\n",
    "    # 생성자 함수 매개변수 4개 -> 3개는 부모클래스의 생성자 함수의 인자 값\n",
    "    # 1개 지갑의 잔액\n",
    "    def __init__(self, name, birth, loc, balance = 0):\n",
    "        # 부모클래스의 생성자 함수를 호출  -> 3개의 self변수를 생성\n",
    "        super().__init__(name, birth, loc)\n",
    "        self.balance = balance\n",
    "        # 구매한 아이템의 목록을 저장하는 변수 생성\n",
    "        self.item_list = []\n",
    "\n",
    "    # 지갑의 잔액을 증가시키는 함수 \n",
    "    def work(self, type):\n",
    "        if type == 'serving':\n",
    "            price = 50000\n",
    "        elif type == 'teaching':\n",
    "            price = 100000\n",
    "        elif type == 'hard_work':\n",
    "            price = 150000\n",
    "        else:\n",
    "            print(\"등록된 일의 종류가 아닙니다.\")\n",
    "            return \"Type Error\"\n",
    "        # 지갑의 잔액을 price만큼 증가 시킨다. \n",
    "        self.balance += price\n",
    "        print(f\"{type}일을 성공. 현재 잔액은 {self.balance}\")\n",
    "\n",
    "    def buy(self, item_name):\n",
    "        if item_name == '맥스튜디오':\n",
    "            price = 8000000\n",
    "        elif item_name == '디카':\n",
    "            price = 1500000\n",
    "        elif item_name == '스탠바이미':\n",
    "            price = 1000000\n",
    "        else:\n",
    "            print('등록이 아이템이 아닙니다.')\n",
    "            return \"Item_name Error\"\n",
    "        # price와 self.balance를 비교한다. \n",
    "        # 구매가 성공하는 조건 ? self.balance가 price보다 크거나 같다면\n",
    "        if self.balance >= price:\n",
    "            # 지갑의 잔액을 price만큼 차감 \n",
    "            self.balance -= price\n",
    "            # item_list에 item_name을 추가\n",
    "            self.item_list.append(item_name)\n",
    "            # 구매 성공 메시지를 출력\n",
    "            print(f\"{item_name} 물건 구매 성공. 현재 잔액은 {self.balance}\")\n",
    "        else:\n",
    "            print(f\"{item_name} 물건 구매 실패. 필요한 금액은 {price - self.balance}\")"
   ]
  },
  {
   "cell_type": "code",
   "execution_count": null,
   "id": "d3811deb",
   "metadata": {},
   "outputs": [],
   "source": [
    "wallet1 = Wallet('kim', '000101', 'seoul')\n",
    "wallet2 = Wallet('park', '050101', 'busan', 100000)"
   ]
  },
  {
   "cell_type": "code",
   "execution_count": null,
   "id": "9ae5c281",
   "metadata": {},
   "outputs": [],
   "source": [
    "# wallet1 일을합니다. \n",
    "wallet1.work('serving')"
   ]
  },
  {
   "cell_type": "code",
   "execution_count": null,
   "id": "dde839e2",
   "metadata": {},
   "outputs": [],
   "source": [
    "wallet1.work('teaching')"
   ]
  },
  {
   "cell_type": "code",
   "execution_count": null,
   "id": "75ecbfdd",
   "metadata": {},
   "outputs": [],
   "source": [
    "wallet2.work('hard_work')"
   ]
  },
  {
   "cell_type": "code",
   "execution_count": null,
   "id": "225c2b92",
   "metadata": {},
   "outputs": [],
   "source": [
    "wallet2.work('alba')"
   ]
  },
  {
   "cell_type": "code",
   "execution_count": null,
   "id": "98c0a4c9",
   "metadata": {},
   "outputs": [],
   "source": [
    "wallet2.buy('맥스튜디오')"
   ]
  },
  {
   "cell_type": "code",
   "execution_count": null,
   "id": "6f639239",
   "metadata": {},
   "outputs": [],
   "source": [
    "wallet2.buy('디카')"
   ]
  },
  {
   "cell_type": "code",
   "execution_count": null,
   "id": "52cf6064",
   "metadata": {},
   "outputs": [],
   "source": [
    "wallet2.buy('스탠바이미')"
   ]
  },
  {
   "cell_type": "code",
   "execution_count": null,
   "id": "2c5eaf13",
   "metadata": {},
   "outputs": [],
   "source": [
    "wallet2.item_list"
   ]
  },
  {
   "cell_type": "code",
   "execution_count": null,
   "id": "acf71b1c",
   "metadata": {},
   "outputs": [],
   "source": [
    "wallet2.buy('노트북')"
   ]
  },
  {
   "cell_type": "code",
   "execution_count": 127,
   "id": "43d37767",
   "metadata": {},
   "outputs": [],
   "source": [
    "# Wallet class 선언 (User 상속)\n",
    "class Wallet(User):\n",
    "\n",
    "    # 일의 종류를 리스트로 생성 \n",
    "    type_names = ['serving', 'teaching', 'hard_work']\n",
    "    # 일에 따른 변화하는 금액의 값 리스트로 생성\n",
    "    type_price = [50000, 100000, 150000]\n",
    "    # 구매하는 아이템들의 목록 \n",
    "    item_info = {\n",
    "        '맥스튜디오' : 8000000, \n",
    "        '디카' : 1500000, \n",
    "        '스탠바이미' : 1000000\n",
    "    }\n",
    "\n",
    "\n",
    "    # 생성자 함수 매개변수 4개 -> 3개는 부모클래스의 생성자 함수의 인자 값\n",
    "    # 1개 지갑의 잔액\n",
    "    def __init__(self, name, birth, loc, balance = 0):\n",
    "        # 부모클래스의 생성자 함수를 호출  -> 3개의 self변수를 생성\n",
    "        super().__init__(name, birth, loc)\n",
    "        self.balance = balance\n",
    "        # 구매한 아이템의 목록을 저장하는 변수 생성\n",
    "        self.item_list = []\n",
    "\n",
    "    # 지갑의 잔액을 증가시키는 함수 \n",
    "    def work(self, type):\n",
    "        if type in Wallet.type_names:\n",
    "            # type이 Wallet_type_names에서 쳣번째 위치하는가?\n",
    "            idx = Wallet.type_names.index(type)\n",
    "            price = Wallet.type_price[idx]\n",
    "        else:\n",
    "            print(\"등록되지 않은 일 입니다. \")\n",
    "            return 'type error'\n",
    "        # 지갑의 잔액을 price만큼 증가 시킨다. \n",
    "        self.balance += price\n",
    "        print(f\"{type}일을 성공. 현재 잔액은 {self.balance}\")\n",
    "\n",
    "    def buy(self, item_name):\n",
    "        try:\n",
    "            # 코드의 실행을 시도한다. \n",
    "            price = Wallet.item_info[item_name]\n",
    "        except:\n",
    "            # try 구문 안에 있는 코드를 실행하고 예외(에러)발쌩했을때 실행\n",
    "            print('등록되지 않은 아이템의 이름입니다.')\n",
    "            return 'item_name error'\n",
    "        # price와 self.balance를 비교한다. \n",
    "        # 구매가 성공하는 조건 ? self.balance가 price보다 크거나 같다면\n",
    "        if self.balance >= price:\n",
    "            # 지갑의 잔액을 price만큼 차감 \n",
    "            self.balance -= price\n",
    "            # item_list에 item_name을 추가\n",
    "            self.item_list.append(item_name)\n",
    "            # 구매 성공 메시지를 출력\n",
    "            print(f\"{item_name} 물건 구매 성공. 현재 잔액은 {self.balance}\")\n",
    "        else:\n",
    "            print(f\"{item_name} 물건 구매 실패. 필요한 금액은 {price - self.balance}\")\n",
    "\n",
    "    # 일의 타입과 금액, 아이템의 이름과 금액을 추가하는 함수를 생성\n",
    "    # 매개변수 3개\n",
    "    def append(self, cate, name, price):\n",
    "        # cate가 'work' 라면\n",
    "        if cate == 'work':\n",
    "            # Wallet.type_names에 name이 포함되지 않는 경우\n",
    "            if name not in Wallet.type_names:\n",
    "                # Wallet.type_names, Wallet.type_price에 name과 price를 추가 \n",
    "                Wallet.type_names.append(name)\n",
    "                Wallet.type_price.append(price)\n",
    "        # cate가 'item' 이라면\n",
    "        if cate == 'item':\n",
    "            # Wallet.item_info의 값들 중 key에 name이 존재하지 않는다면\n",
    "            if name not in Wallet.item_info.keys():\n",
    "                # Wallet.item_info에 name : price를 추가\n",
    "                Wallet.item_info[name] = price"
   ]
  },
  {
   "cell_type": "code",
   "execution_count": 128,
   "id": "a44e9d47",
   "metadata": {},
   "outputs": [],
   "source": [
    "wallet1 = Wallet('kim', '000101', 'seoul')\n",
    "wallet2 = Wallet('park', '050101', 'busan', 100000)"
   ]
  },
  {
   "cell_type": "code",
   "execution_count": null,
   "id": "95b75bf7",
   "metadata": {},
   "outputs": [],
   "source": [
    "wallet1.work('serving')"
   ]
  },
  {
   "cell_type": "code",
   "execution_count": null,
   "id": "ccde2acd",
   "metadata": {},
   "outputs": [],
   "source": [
    "wallet1.work('hard_work')"
   ]
  },
  {
   "cell_type": "code",
   "execution_count": null,
   "id": "8f757d0e",
   "metadata": {},
   "outputs": [],
   "source": [
    "wallet1.work('alba')"
   ]
  },
  {
   "cell_type": "code",
   "execution_count": 73,
   "id": "907c3f44",
   "metadata": {},
   "outputs": [],
   "source": [
    "# wallet2에서 type_names에 alba 추가\n",
    "# wallet2에서 type_price에 30000 추가\n",
    "wallet2.type_names.append('alba')\n",
    "wallet2.type_price.append(30000)"
   ]
  },
  {
   "cell_type": "code",
   "execution_count": 121,
   "id": "64dd5792",
   "metadata": {},
   "outputs": [
    {
     "name": "stdout",
     "output_type": "stream",
     "text": [
      "alba일을 성공. 현재 잔액은 1640000\n"
     ]
    }
   ],
   "source": [
    "wallet1.work('alba')"
   ]
  },
  {
   "cell_type": "code",
   "execution_count": 122,
   "id": "d1e82c46",
   "metadata": {},
   "outputs": [
    {
     "name": "stdout",
     "output_type": "stream",
     "text": [
      "맥스튜디오 물건 구매 실패. 필요한 금액은 6360000\n"
     ]
    }
   ],
   "source": [
    "wallet1.buy('맥스튜디오')"
   ]
  },
  {
   "cell_type": "code",
   "execution_count": 123,
   "id": "ce24739b",
   "metadata": {},
   "outputs": [
    {
     "name": "stdout",
     "output_type": "stream",
     "text": [
      "스탠바이미 물건 구매 성공. 현재 잔액은 640000\n"
     ]
    }
   ],
   "source": [
    "wallet1.buy('스탠바이미')"
   ]
  },
  {
   "cell_type": "code",
   "execution_count": 124,
   "id": "8e44664a",
   "metadata": {},
   "outputs": [
    {
     "name": "stdout",
     "output_type": "stream",
     "text": [
      "등록되지 않은 아이템의 이름입니다.\n"
     ]
    },
    {
     "data": {
      "text/plain": [
       "'item_name error'"
      ]
     },
     "execution_count": 124,
     "metadata": {},
     "output_type": "execute_result"
    }
   ],
   "source": [
    "wallet1.buy('노트북')"
   ]
  },
  {
   "cell_type": "code",
   "execution_count": 125,
   "id": "4922def5",
   "metadata": {},
   "outputs": [],
   "source": [
    "# Wallet class 안에 있는 item_info에 데이터를 추가 \n",
    "wallet2.item_info['노트북'] = 500000"
   ]
  },
  {
   "cell_type": "code",
   "execution_count": 126,
   "id": "f56dfe35",
   "metadata": {},
   "outputs": [
    {
     "name": "stdout",
     "output_type": "stream",
     "text": [
      "노트북 물건 구매 성공. 현재 잔액은 140000\n"
     ]
    }
   ],
   "source": [
    "wallet1.buy('노트북')"
   ]
  },
  {
   "cell_type": "code",
   "execution_count": 138,
   "id": "8743fa95",
   "metadata": {},
   "outputs": [],
   "source": [
    "wallet1.append('work', 'alba', 50000)"
   ]
  },
  {
   "cell_type": "code",
   "execution_count": 136,
   "id": "c8f2a02d",
   "metadata": {},
   "outputs": [
    {
     "name": "stdout",
     "output_type": "stream",
     "text": [
      "alba일을 성공. 현재 잔액은 60000\n"
     ]
    }
   ],
   "source": [
    "wallet1.work('alba')"
   ]
  },
  {
   "cell_type": "code",
   "execution_count": 140,
   "id": "ff40a50a",
   "metadata": {},
   "outputs": [
    {
     "data": {
      "text/plain": [
       "[50000, 100000, 150000, 30000]"
      ]
     },
     "execution_count": 140,
     "metadata": {},
     "output_type": "execute_result"
    }
   ],
   "source": [
    "wallet1.type_price"
   ]
  },
  {
   "cell_type": "code",
   "execution_count": 133,
   "id": "e2a37246",
   "metadata": {},
   "outputs": [],
   "source": [
    "wallet1.append('item', '노트북', 5000000)"
   ]
  },
  {
   "cell_type": "code",
   "execution_count": 134,
   "id": "db67cce9",
   "metadata": {},
   "outputs": [
    {
     "data": {
      "text/plain": [
       "{'맥스튜디오': 8000000, '디카': 1500000, '스탠바이미': 1000000, '노트북': 500000}"
      ]
     },
     "execution_count": 134,
     "metadata": {},
     "output_type": "execute_result"
    }
   ],
   "source": [
    "wallet1.item_info"
   ]
  },
  {
   "cell_type": "code",
   "execution_count": null,
   "id": "44a05581",
   "metadata": {},
   "outputs": [],
   "source": []
  }
 ],
 "metadata": {
  "kernelspec": {
   "display_name": "Python 3",
   "language": "python",
   "name": "python3"
  },
  "language_info": {
   "codemirror_mode": {
    "name": "ipython",
    "version": 3
   },
   "file_extension": ".py",
   "mimetype": "text/x-python",
   "name": "python",
   "nbconvert_exporter": "python",
   "pygments_lexer": "ipython3",
   "version": "3.11.1"
  }
 },
 "nbformat": 4,
 "nbformat_minor": 5
}
