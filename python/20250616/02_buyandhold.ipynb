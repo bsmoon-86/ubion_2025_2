{
 "cells": [
  {
   "cell_type": "markdown",
   "id": "c6c53c6b",
   "metadata": {},
   "source": [
    "### Buy And Hold\n",
    "- 매수 후 일정 기간 동안 유지하고 매도"
   ]
  },
  {
   "cell_type": "code",
   "execution_count": 1,
   "id": "7fec9ff8",
   "metadata": {},
   "outputs": [],
   "source": [
    "import pandas as pd"
   ]
  },
  {
   "cell_type": "code",
   "execution_count": 2,
   "id": "f810beba",
   "metadata": {},
   "outputs": [],
   "source": [
    "# 데이터 로드 \n",
    "df = pd.read_csv(\"../../csv/AAPL.csv\")"
   ]
  },
  {
   "cell_type": "code",
   "execution_count": null,
   "id": "20ca0c95",
   "metadata": {},
   "outputs": [],
   "source": [
    "df.head()"
   ]
  },
  {
   "cell_type": "code",
   "execution_count": null,
   "id": "0f555a22",
   "metadata": {},
   "outputs": [],
   "source": [
    "df.set_index('Date')"
   ]
  },
  {
   "cell_type": "code",
   "execution_count": 5,
   "id": "eb4417ac",
   "metadata": {},
   "outputs": [],
   "source": [
    "df2 = pd.read_csv('../../csv/AAPL.csv', index_col=0)"
   ]
  },
  {
   "cell_type": "code",
   "execution_count": 6,
   "id": "91bf1c70",
   "metadata": {},
   "outputs": [
    {
     "data": {
      "text/html": [
       "<div>\n",
       "<style scoped>\n",
       "    .dataframe tbody tr th:only-of-type {\n",
       "        vertical-align: middle;\n",
       "    }\n",
       "\n",
       "    .dataframe tbody tr th {\n",
       "        vertical-align: top;\n",
       "    }\n",
       "\n",
       "    .dataframe thead th {\n",
       "        text-align: right;\n",
       "    }\n",
       "</style>\n",
       "<table border=\"1\" class=\"dataframe\">\n",
       "  <thead>\n",
       "    <tr style=\"text-align: right;\">\n",
       "      <th></th>\n",
       "      <th>Open</th>\n",
       "      <th>High</th>\n",
       "      <th>Low</th>\n",
       "      <th>Close</th>\n",
       "      <th>Adj Close</th>\n",
       "      <th>Volume</th>\n",
       "    </tr>\n",
       "    <tr>\n",
       "      <th>Date</th>\n",
       "      <th></th>\n",
       "      <th></th>\n",
       "      <th></th>\n",
       "      <th></th>\n",
       "      <th></th>\n",
       "      <th></th>\n",
       "    </tr>\n",
       "  </thead>\n",
       "  <tbody>\n",
       "    <tr>\n",
       "      <th>1980-12-12</th>\n",
       "      <td>0.513393</td>\n",
       "      <td>0.515625</td>\n",
       "      <td>0.513393</td>\n",
       "      <td>0.513393</td>\n",
       "      <td>0.410525</td>\n",
       "      <td>117258400.0</td>\n",
       "    </tr>\n",
       "    <tr>\n",
       "      <th>1980-12-15</th>\n",
       "      <td>0.488839</td>\n",
       "      <td>0.488839</td>\n",
       "      <td>0.486607</td>\n",
       "      <td>0.486607</td>\n",
       "      <td>0.389106</td>\n",
       "      <td>43971200.0</td>\n",
       "    </tr>\n",
       "    <tr>\n",
       "      <th>1980-12-16</th>\n",
       "      <td>0.453125</td>\n",
       "      <td>0.453125</td>\n",
       "      <td>0.450893</td>\n",
       "      <td>0.450893</td>\n",
       "      <td>0.360548</td>\n",
       "      <td>26432000.0</td>\n",
       "    </tr>\n",
       "    <tr>\n",
       "      <th>1980-12-17</th>\n",
       "      <td>0.462054</td>\n",
       "      <td>0.464286</td>\n",
       "      <td>0.462054</td>\n",
       "      <td>0.462054</td>\n",
       "      <td>0.369472</td>\n",
       "      <td>21610400.0</td>\n",
       "    </tr>\n",
       "    <tr>\n",
       "      <th>1980-12-18</th>\n",
       "      <td>0.475446</td>\n",
       "      <td>0.477679</td>\n",
       "      <td>0.475446</td>\n",
       "      <td>0.475446</td>\n",
       "      <td>0.380182</td>\n",
       "      <td>18362400.0</td>\n",
       "    </tr>\n",
       "  </tbody>\n",
       "</table>\n",
       "</div>"
      ],
      "text/plain": [
       "                Open      High       Low     Close  Adj Close       Volume\n",
       "Date                                                                      \n",
       "1980-12-12  0.513393  0.515625  0.513393  0.513393   0.410525  117258400.0\n",
       "1980-12-15  0.488839  0.488839  0.486607  0.486607   0.389106   43971200.0\n",
       "1980-12-16  0.453125  0.453125  0.450893  0.450893   0.360548   26432000.0\n",
       "1980-12-17  0.462054  0.464286  0.462054  0.462054   0.369472   21610400.0\n",
       "1980-12-18  0.475446  0.477679  0.475446  0.475446   0.380182   18362400.0"
      ]
     },
     "execution_count": 6,
     "metadata": {},
     "output_type": "execute_result"
    }
   ],
   "source": [
    "df2.head()"
   ]
  },
  {
   "cell_type": "code",
   "execution_count": 7,
   "id": "c018678c",
   "metadata": {},
   "outputs": [
    {
     "name": "stdout",
     "output_type": "stream",
     "text": [
      "<class 'pandas.core.frame.DataFrame'>\n",
      "Index: 9715 entries, 1980-12-12 to 2019-06-24\n",
      "Data columns (total 6 columns):\n",
      " #   Column     Non-Null Count  Dtype  \n",
      "---  ------     --------------  -----  \n",
      " 0   Open       9714 non-null   float64\n",
      " 1   High       9714 non-null   float64\n",
      " 2   Low        9714 non-null   float64\n",
      " 3   Close      9714 non-null   float64\n",
      " 4   Adj Close  9714 non-null   float64\n",
      " 5   Volume     9713 non-null   float64\n",
      "dtypes: float64(6)\n",
      "memory usage: 531.3+ KB\n"
     ]
    }
   ],
   "source": [
    "df2.info()"
   ]
  },
  {
   "cell_type": "code",
   "execution_count": 8,
   "id": "a0ac8ffe",
   "metadata": {},
   "outputs": [
    {
     "data": {
      "text/html": [
       "<div>\n",
       "<style scoped>\n",
       "    .dataframe tbody tr th:only-of-type {\n",
       "        vertical-align: middle;\n",
       "    }\n",
       "\n",
       "    .dataframe tbody tr th {\n",
       "        vertical-align: top;\n",
       "    }\n",
       "\n",
       "    .dataframe thead th {\n",
       "        text-align: right;\n",
       "    }\n",
       "</style>\n",
       "<table border=\"1\" class=\"dataframe\">\n",
       "  <thead>\n",
       "    <tr style=\"text-align: right;\">\n",
       "      <th></th>\n",
       "      <th>Open</th>\n",
       "      <th>High</th>\n",
       "      <th>Low</th>\n",
       "      <th>Close</th>\n",
       "      <th>Adj Close</th>\n",
       "      <th>Volume</th>\n",
       "    </tr>\n",
       "    <tr>\n",
       "      <th>Date</th>\n",
       "      <th></th>\n",
       "      <th></th>\n",
       "      <th></th>\n",
       "      <th></th>\n",
       "      <th></th>\n",
       "      <th></th>\n",
       "    </tr>\n",
       "  </thead>\n",
       "  <tbody>\n",
       "    <tr>\n",
       "      <th>1981-08-10</th>\n",
       "      <td>NaN</td>\n",
       "      <td>NaN</td>\n",
       "      <td>NaN</td>\n",
       "      <td>NaN</td>\n",
       "      <td>NaN</td>\n",
       "      <td>NaN</td>\n",
       "    </tr>\n",
       "    <tr>\n",
       "      <th>1981-08-21</th>\n",
       "      <td>0.363839</td>\n",
       "      <td>0.363839</td>\n",
       "      <td>0.359375</td>\n",
       "      <td>0.359375</td>\n",
       "      <td>0.287367</td>\n",
       "      <td>NaN</td>\n",
       "    </tr>\n",
       "  </tbody>\n",
       "</table>\n",
       "</div>"
      ],
      "text/plain": [
       "                Open      High       Low     Close  Adj Close  Volume\n",
       "Date                                                                 \n",
       "1981-08-10       NaN       NaN       NaN       NaN        NaN     NaN\n",
       "1981-08-21  0.363839  0.363839  0.359375  0.359375   0.287367     NaN"
      ]
     },
     "execution_count": 8,
     "metadata": {},
     "output_type": "execute_result"
    }
   ],
   "source": [
    "# 결측치가 보인다? -> 결측치인 데이터를 확인 \n",
    "# 결측치가 가장 많은 컬럼의 데이터를 기준으로 확인 \n",
    "flag = df2['Volume'].isna()\n",
    "\n",
    "df2.loc[flag, ]"
   ]
  },
  {
   "cell_type": "code",
   "execution_count": 9,
   "id": "f60d73a0",
   "metadata": {},
   "outputs": [],
   "source": [
    "# 결측치를 제외한 데이터를 가지고 BuyandHold의 백테스팅\n",
    "df = df2.loc[~flag,]"
   ]
  },
  {
   "cell_type": "code",
   "execution_count": null,
   "id": "75435744",
   "metadata": {},
   "outputs": [],
   "source": [
    "df.info()"
   ]
  },
  {
   "cell_type": "code",
   "execution_count": 11,
   "id": "1d883981",
   "metadata": {},
   "outputs": [
    {
     "data": {
      "text/html": [
       "<div>\n",
       "<style scoped>\n",
       "    .dataframe tbody tr th:only-of-type {\n",
       "        vertical-align: middle;\n",
       "    }\n",
       "\n",
       "    .dataframe tbody tr th {\n",
       "        vertical-align: top;\n",
       "    }\n",
       "\n",
       "    .dataframe thead th {\n",
       "        text-align: right;\n",
       "    }\n",
       "</style>\n",
       "<table border=\"1\" class=\"dataframe\">\n",
       "  <thead>\n",
       "    <tr style=\"text-align: right;\">\n",
       "      <th></th>\n",
       "      <th>Open</th>\n",
       "      <th>High</th>\n",
       "      <th>Low</th>\n",
       "      <th>Close</th>\n",
       "      <th>Adj Close</th>\n",
       "      <th>Volume</th>\n",
       "    </tr>\n",
       "  </thead>\n",
       "  <tbody>\n",
       "    <tr>\n",
       "      <th>count</th>\n",
       "      <td>9713.000000</td>\n",
       "      <td>9713.000000</td>\n",
       "      <td>9713.000000</td>\n",
       "      <td>9713.000000</td>\n",
       "      <td>9713.000000</td>\n",
       "      <td>9.713000e+03</td>\n",
       "    </tr>\n",
       "    <tr>\n",
       "      <th>mean</th>\n",
       "      <td>28.217776</td>\n",
       "      <td>28.490616</td>\n",
       "      <td>27.932493</td>\n",
       "      <td>28.218617</td>\n",
       "      <td>26.394897</td>\n",
       "      <td>8.688370e+07</td>\n",
       "    </tr>\n",
       "    <tr>\n",
       "      <th>std</th>\n",
       "      <td>49.684194</td>\n",
       "      <td>50.120923</td>\n",
       "      <td>49.248888</td>\n",
       "      <td>49.697758</td>\n",
       "      <td>47.936067</td>\n",
       "      <td>8.646964e+07</td>\n",
       "    </tr>\n",
       "    <tr>\n",
       "      <th>min</th>\n",
       "      <td>0.198661</td>\n",
       "      <td>0.198661</td>\n",
       "      <td>0.196429</td>\n",
       "      <td>0.196429</td>\n",
       "      <td>0.157070</td>\n",
       "      <td>3.472000e+05</td>\n",
       "    </tr>\n",
       "    <tr>\n",
       "      <th>25%</th>\n",
       "      <td>1.058036</td>\n",
       "      <td>1.080000</td>\n",
       "      <td>1.036429</td>\n",
       "      <td>1.060268</td>\n",
       "      <td>0.914825</td>\n",
       "      <td>3.362830e+07</td>\n",
       "    </tr>\n",
       "    <tr>\n",
       "      <th>50%</th>\n",
       "      <td>1.686429</td>\n",
       "      <td>1.723214</td>\n",
       "      <td>1.651786</td>\n",
       "      <td>1.687500</td>\n",
       "      <td>1.446356</td>\n",
       "      <td>5.871600e+07</td>\n",
       "    </tr>\n",
       "    <tr>\n",
       "      <th>75%</th>\n",
       "      <td>27.857143</td>\n",
       "      <td>28.114286</td>\n",
       "      <td>27.402857</td>\n",
       "      <td>27.757143</td>\n",
       "      <td>24.316063</td>\n",
       "      <td>1.083768e+08</td>\n",
       "    </tr>\n",
       "    <tr>\n",
       "      <th>max</th>\n",
       "      <td>230.779999</td>\n",
       "      <td>233.470001</td>\n",
       "      <td>229.779999</td>\n",
       "      <td>232.070007</td>\n",
       "      <td>229.392090</td>\n",
       "      <td>1.855410e+09</td>\n",
       "    </tr>\n",
       "  </tbody>\n",
       "</table>\n",
       "</div>"
      ],
      "text/plain": [
       "              Open         High          Low        Close    Adj Close  \\\n",
       "count  9713.000000  9713.000000  9713.000000  9713.000000  9713.000000   \n",
       "mean     28.217776    28.490616    27.932493    28.218617    26.394897   \n",
       "std      49.684194    50.120923    49.248888    49.697758    47.936067   \n",
       "min       0.198661     0.198661     0.196429     0.196429     0.157070   \n",
       "25%       1.058036     1.080000     1.036429     1.060268     0.914825   \n",
       "50%       1.686429     1.723214     1.651786     1.687500     1.446356   \n",
       "75%      27.857143    28.114286    27.402857    27.757143    24.316063   \n",
       "max     230.779999   233.470001   229.779999   232.070007   229.392090   \n",
       "\n",
       "             Volume  \n",
       "count  9.713000e+03  \n",
       "mean   8.688370e+07  \n",
       "std    8.646964e+07  \n",
       "min    3.472000e+05  \n",
       "25%    3.362830e+07  \n",
       "50%    5.871600e+07  \n",
       "75%    1.083768e+08  \n",
       "max    1.855410e+09  "
      ]
     },
     "execution_count": 11,
     "metadata": {},
     "output_type": "execute_result"
    }
   ],
   "source": [
    "df.describe()"
   ]
  },
  {
   "cell_type": "code",
   "execution_count": 12,
   "id": "4162dbb8",
   "metadata": {},
   "outputs": [],
   "source": [
    "import numpy as np"
   ]
  },
  {
   "cell_type": "code",
   "execution_count": 16,
   "id": "79985800",
   "metadata": {},
   "outputs": [],
   "source": [
    "# 결측치나 양의 무한대, 음의 무한대가 포함되어있는 데이터를 확인 \n",
    "flag = df.isin(\n",
    "    [np.nan, np.inf, -np.inf]\n",
    ").any(axis=1)"
   ]
  },
  {
   "cell_type": "code",
   "execution_count": 18,
   "id": "b5549787",
   "metadata": {},
   "outputs": [],
   "source": [
    "# 결측치나 양의 무한대 음의 무한대를 제거 \n",
    "df = df.loc[~flag, ]"
   ]
  },
  {
   "cell_type": "code",
   "execution_count": 19,
   "id": "065ddabc",
   "metadata": {},
   "outputs": [],
   "source": [
    "# 수정종가 데이터만 두고 모두 제거 -> 수정종가만 따로 추출해서 데이터프레임\n",
    "price_df = df[ ['Adj Close'] ]"
   ]
  },
  {
   "cell_type": "code",
   "execution_count": 24,
   "id": "7d62175d",
   "metadata": {},
   "outputs": [
    {
     "name": "stderr",
     "output_type": "stream",
     "text": [
      "C:\\Users\\moons\\AppData\\Local\\Temp\\ipykernel_20288\\1627393438.py:3: SettingWithCopyWarning: \n",
      "A value is trying to be set on a copy of a slice from a DataFrame.\n",
      "Try using .loc[row_indexer,col_indexer] = value instead\n",
      "\n",
      "See the caveats in the documentation: https://pandas.pydata.org/pandas-docs/stable/user_guide/indexing.html#returning-a-view-versus-a-copy\n",
      "  price_df['daily_rtn'] = (\n"
     ]
    }
   ],
   "source": [
    "# 새로운 파생변수 일별 수익율\n",
    "# 오늘의 수정종가 / 전 행의 수정종가 shift(1)\n",
    "price_df['daily_rtn'] = (\n",
    "    price_df['Adj Close'] / price_df['Adj Close'].shift()\n",
    ").fillna(1)"
   ]
  },
  {
   "cell_type": "code",
   "execution_count": 25,
   "id": "3a774a23",
   "metadata": {},
   "outputs": [],
   "source": [
    "# 수익율 계산 \n",
    "# 투자 매수 일 -> 다음날 부터 일별 수익율을 누적곱을 해서 \n",
    "# 매도일까지 결과를 누적수익율이라 계산\n",
    "rtn = 1\n",
    "\n",
    "for idx in range(1, len(price_df)):\n",
    "    rtn *= price_df.iloc[idx, -1]"
   ]
  },
  {
   "cell_type": "code",
   "execution_count": 26,
   "id": "305c87bb",
   "metadata": {},
   "outputs": [
    {
     "data": {
      "text/plain": [
       "485.1592424334637"
      ]
     },
     "execution_count": 26,
     "metadata": {},
     "output_type": "execute_result"
    }
   ],
   "source": [
    "rtn"
   ]
  },
  {
   "cell_type": "code",
   "execution_count": null,
   "id": "c35cbec3",
   "metadata": {},
   "outputs": [],
   "source": []
  }
 ],
 "metadata": {
  "kernelspec": {
   "display_name": "Python 3",
   "language": "python",
   "name": "python3"
  },
  "language_info": {
   "codemirror_mode": {
    "name": "ipython",
    "version": 3
   },
   "file_extension": ".py",
   "mimetype": "text/x-python",
   "name": "python",
   "nbconvert_exporter": "python",
   "pygments_lexer": "ipython3",
   "version": "3.11.1"
  }
 },
 "nbformat": 4,
 "nbformat_minor": 5
}
