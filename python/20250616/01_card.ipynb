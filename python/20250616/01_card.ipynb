{
 "cells": [
  {
   "cell_type": "markdown",
   "id": "81865f9c",
   "metadata": {},
   "source": [
    "### 예제\n",
    "1. csv 폴더에서 test_csv 폴더의 '오프라인.csv' 파일을 로드 \n",
    "2. 컬럼의 이름을 변경 -> [기준년월, '업종', 성별, 연령대, 총이용건수, 총이용금액]\n",
    "3. 결측치가 존재하는가?\n",
    "    - 결측치의 대한 체크\n",
    "    - 성별 컬럼에서 '-' 데이터가 존재하는가?\n",
    "4. 기준년월 컬럼의 데이터 타입을 시계열 변경 \n",
    "5. 성별을 기준으로 연도별 건당 이용금액의 평균이 어떻게 되는가?\n",
    "    - 기준년 컬럼을 생성하여 기준년월에서 년도만 추출하여 대입\n",
    "    - 건당이용금액 컬럼을 생성하여 총이용금액 / 총이용건수 의 결과를 대입\n",
    "    - 기준년과 성별을 기준으로 그룹화를 하고 그룹화 연산으로는 건당이용금액의 평균을 구한다. "
   ]
  },
  {
   "cell_type": "code",
   "execution_count": null,
   "id": "7e7a4dbb",
   "metadata": {},
   "outputs": [],
   "source": [
    "import pandas as pd\n",
    "from datetime import datetime"
   ]
  },
  {
   "cell_type": "code",
   "execution_count": null,
   "id": "bf348dad",
   "metadata": {},
   "outputs": [],
   "source": [
    "# 파일을 로드 \n",
    "offline = pd.read_csv('../../csv/test_csv/오프라인.csv', \n",
    "    encoding='cp949')"
   ]
  },
  {
   "cell_type": "code",
   "execution_count": null,
   "id": "bd7c4388",
   "metadata": {},
   "outputs": [],
   "source": [
    "offline.head()"
   ]
  },
  {
   "cell_type": "code",
   "execution_count": null,
   "id": "daf67b83",
   "metadata": {},
   "outputs": [],
   "source": [
    "# 컬럼의 이름을 변경\n",
    "# case1 : rename() -> 특정 컬럼이나 인덱스를 변경할때 사용\n",
    "# columns 변수를 변경하는것과의 차이점은 rename() 변경하기 전 확인이 가능\n",
    "offline.rename(\n",
    "    columns = {\n",
    "        'crym' : '기준년월', \n",
    "        'tco_btc_nm' : '업종', \n",
    "        'ma_fem_dc' : '성별', \n",
    "        'agegrp_dc' : '연령대', \n",
    "        'tco_btc_u_ct' : '총이용건수', \n",
    "        'tco_btc_u_am' : '총이용금액'\n",
    "    }\n",
    ")"
   ]
  },
  {
   "cell_type": "code",
   "execution_count": null,
   "id": "f1554602",
   "metadata": {},
   "outputs": [],
   "source": [
    "# case2 : DataFrame안에 존재하는 columns 변수에 데이터를 변경 \n",
    "offline.columns = ['기준년월', '업종', '성별', '연령대', \n",
    "                    '총이용건수', '총이용금액']"
   ]
  },
  {
   "cell_type": "code",
   "execution_count": null,
   "id": "438a4745",
   "metadata": {},
   "outputs": [],
   "source": [
    "offline.head()"
   ]
  },
  {
   "cell_type": "code",
   "execution_count": null,
   "id": "5548ca90",
   "metadata": {},
   "outputs": [],
   "source": [
    "# 결측치의 개수를 확인 -> 결측치인가? -> 합\n",
    "offline.isna().sum()"
   ]
  },
  {
   "cell_type": "code",
   "execution_count": null,
   "id": "93936ebb",
   "metadata": {},
   "outputs": [],
   "source": [
    "offline.info()"
   ]
  },
  {
   "cell_type": "code",
   "execution_count": null,
   "id": "383e47b9",
   "metadata": {},
   "outputs": [],
   "source": [
    "offline.describe()"
   ]
  },
  {
   "cell_type": "code",
   "execution_count": null,
   "id": "0a0c7748",
   "metadata": {},
   "outputs": [],
   "source": [
    "# 항목정의서에서 확인했을때 성별 컬럼의 결측치는 -\n",
    "# - 의 개수도 확인 \n",
    "(offline['성별'] == '-').sum()"
   ]
  },
  {
   "cell_type": "code",
   "execution_count": null,
   "id": "e18a562b",
   "metadata": {},
   "outputs": [],
   "source": [
    "offline['성별'].isin(['-', '9']).sum()"
   ]
  },
  {
   "cell_type": "code",
   "execution_count": null,
   "id": "1eb50948",
   "metadata": {},
   "outputs": [],
   "source": [
    "pd.to_datetime(offline['기준년월'] , format='%Y%m')"
   ]
  },
  {
   "cell_type": "code",
   "execution_count": null,
   "id": "d6199416",
   "metadata": {},
   "outputs": [],
   "source": [
    "# datetime 라이브러리 안에 존재하는 시계열로 변환하는 함수 \n",
    "datetime.strptime(str(offline['기준년월'][0]), '%Y%m')"
   ]
  },
  {
   "cell_type": "code",
   "execution_count": null,
   "id": "d0adecdb",
   "metadata": {},
   "outputs": [],
   "source": [
    "offline['기준년월'] = offline['기준년월'].map(\n",
    "    lambda x : datetime.strptime( str(x), '%Y%m' )\n",
    ")"
   ]
  },
  {
   "cell_type": "code",
   "execution_count": null,
   "id": "a76372ac",
   "metadata": {},
   "outputs": [],
   "source": [
    "# 기준년 컬럼을 생성하여 기준년월에서 년도만 추출하여 대입 \n",
    "# case1 : map 함수를 이용\n",
    "offline['기준년월'].map(\n",
    "    lambda x : x.strftime('%Y')\n",
    ")"
   ]
  },
  {
   "cell_type": "code",
   "execution_count": null,
   "id": "25e7b94b",
   "metadata": {},
   "outputs": [],
   "source": [
    "# case2 : Series에서 datetime 내장함수를 이용\n",
    "offline['기준년월'].dt.strftime('%Y')"
   ]
  },
  {
   "cell_type": "code",
   "execution_count": null,
   "id": "aa727d7a",
   "metadata": {},
   "outputs": [],
   "source": [
    "# case3 : Series에서 dateitme 변수를 이용\n",
    "offline['기준년'] = offline['기준년월'].dt.year"
   ]
  },
  {
   "cell_type": "code",
   "execution_count": null,
   "id": "81a198e4",
   "metadata": {},
   "outputs": [],
   "source": [
    "# 건당이용금액 컬럼을 생성하여 총이용금액 / 총이용건수의 값을 대입 \n",
    "offline['건당이용금액'] = \\\n",
    "     offline['총이용금액'] / offline['총이용건수']"
   ]
  },
  {
   "cell_type": "code",
   "execution_count": null,
   "id": "33a930f1",
   "metadata": {},
   "outputs": [],
   "source": [
    "# 기준년, 성별을 기준으로 그룹화 -> 건당 이용금액의 평균\n",
    "offline.groupby(['기준년', '성별'])[['건당이용금액']].mean()"
   ]
  },
  {
   "cell_type": "code",
   "execution_count": null,
   "id": "9c1267fa",
   "metadata": {},
   "outputs": [],
   "source": [
    "# 데이터프레임 데이터의 구조를 재 구조화 한다. \n",
    "# pivot_table() -> pandas 안에 존재, DataFrame 안에 존재 \n",
    "pd.pivot_table(\n",
    "    offline, \n",
    "    index = ['기준년', '성별'], \n",
    "    values = '건당이용금액', \n",
    "    aggfunc = 'mean'\n",
    ")"
   ]
  },
  {
   "cell_type": "code",
   "execution_count": null,
   "id": "18ee3fe5",
   "metadata": {},
   "outputs": [],
   "source": [
    "offline.pivot_table(\n",
    "    index = ['기준년', '성별'], \n",
    "    values = '총이용건수', \n",
    "    aggfunc = 'sum'\n",
    ")"
   ]
  },
  {
   "cell_type": "code",
   "execution_count": null,
   "id": "e3af3fca",
   "metadata": {},
   "outputs": [],
   "source": [
    "# 기준년월, 업종별 총 이용금액의 합계를 확인\n",
    "group_data = \\\n",
    "     offline.groupby([ '기준년월', '업종' ])[['총이용금액']].sum()"
   ]
  },
  {
   "cell_type": "code",
   "execution_count": null,
   "id": "e1b31039",
   "metadata": {},
   "outputs": [],
   "source": [
    "import matplotlib.pyplot as plt\n",
    "import platform"
   ]
  },
  {
   "cell_type": "code",
   "execution_count": null,
   "id": "a7b562cb",
   "metadata": {},
   "outputs": [],
   "source": [
    "if platform.system() == 'Darwin':\n",
    "    plt.rc('font', family='AppleGothic')\n",
    "else:\n",
    "    plt.rc('font', family='Malgun Gothic')"
   ]
  },
  {
   "cell_type": "code",
   "execution_count": null,
   "id": "88dabe74",
   "metadata": {},
   "outputs": [],
   "source": [
    "group_data = group_data.unstack()"
   ]
  },
  {
   "cell_type": "code",
   "execution_count": null,
   "id": "8b929adf",
   "metadata": {},
   "outputs": [],
   "source": [
    "group_data.columns"
   ]
  },
  {
   "cell_type": "code",
   "execution_count": null,
   "id": "27abae2f",
   "metadata": {},
   "outputs": [],
   "source": [
    "# 그래프에서 지수표현식을 제거 \n",
    "plt.ticklabel_format(axis='y', style='plain', useMathText=True)\n",
    "x = group_data.index\n",
    "y1 = group_data[('총이용금액',  '백화점')]\n",
    "y2 = group_data[('총이용금액',  '슈퍼마켓')]\n",
    "\n",
    "plt.plot(x, y1, label='백화점')\n",
    "plt.plot(x, y2, label='슈퍼마켓')\n",
    "plt.legend()\n",
    "plt.show()\n",
    "# group_data.unstack().plot()"
   ]
  },
  {
   "cell_type": "markdown",
   "id": "9eac987a",
   "metadata": {},
   "source": [
    "- 온라인, 오프라인 카드 사용 내역 데이터를 확인 \n",
    "    1. csv 폴더 안에 test_csv에서 온라인, 오프라인 데이터를 로드\n",
    "    2. 두개의 데이터프레임의 구조를 확인\n",
    "    3. 두개의 데이터프레임을 결합 \n",
    "        - 조인결합? -> 조건에 맞게 열을 결합 \n",
    "            - 두개의 데이터프레임이 같은 열의 데이터가 1개 이상 \n",
    "            - 다른 열의 데이터가 다수가 존재 \n",
    "        - 유니언결합 -> 단순한 행이나 열의 결합\n",
    "            - 컬럼의 구조가 같다면 -> 단순한 행 결합 \n",
    "            - 인덱스의 구조가 같다면 ->단순한 열 결합\n",
    "    4. 기준년월 컬럼의 데이터를 시계열 변경 \n",
    "    5. 기준년월, 업종을 기준으로 하여 총이용금액의 합산을 시각화 해서 표시 "
   ]
  },
  {
   "cell_type": "code",
   "execution_count": null,
   "id": "4b4b9e8a",
   "metadata": {},
   "outputs": [],
   "source": [
    "offline = pd.read_csv('../../csv/test_csv/오프라인.csv', \n",
    "                      encoding='cp949')"
   ]
  },
  {
   "cell_type": "code",
   "execution_count": null,
   "id": "d2f63c25",
   "metadata": {},
   "outputs": [],
   "source": [
    "online = pd.read_csv(\"../../csv/test_csv/온라인.csv\")"
   ]
  },
  {
   "cell_type": "code",
   "execution_count": null,
   "id": "3552f998",
   "metadata": {},
   "outputs": [],
   "source": [
    "# 데이터의 구조를 파악 \n",
    "offline.info()"
   ]
  },
  {
   "cell_type": "code",
   "execution_count": null,
   "id": "97b541ef",
   "metadata": {},
   "outputs": [],
   "source": [
    "online.info()"
   ]
  },
  {
   "cell_type": "code",
   "execution_count": null,
   "id": "9f86d618",
   "metadata": {},
   "outputs": [],
   "source": [
    "# 2개의 데이터프레임은 업종이라는 부분을 제외한 나머지의 구조가 \n",
    "# 같은 형태 ->  online 데이터에서 업종을 추가하고 결합 \n",
    "# 단순한 결합 -> 업종 부분에 결측치를 온라인으로 채워준다. \n",
    "\n",
    "# 단순한 행 결합 \n",
    "# concat() -> pandas에 존재 -> 단순 결합의 형태이기 때문에\n",
    "# 결합이 되는 데이터프레임의 개수의 제한 없음 -> \n",
    "# 여러개의 데이터프레임을 리스트의 형태로 입력\n",
    "# 행으로 결합할것인가? 열로 결합할것인가?  지정 -> axis\n",
    "# 결합이되는 기준을 초기화할것인가? ignore_index\n",
    "\n",
    "df = pd.concat( [offline, online], axis=0 )"
   ]
  },
  {
   "cell_type": "code",
   "execution_count": null,
   "id": "e9f12384",
   "metadata": {},
   "outputs": [],
   "source": [
    "# 결측치의 개수를 확인 \n",
    "df.isna().sum()"
   ]
  },
  {
   "cell_type": "code",
   "execution_count": null,
   "id": "585f01d2",
   "metadata": {},
   "outputs": [],
   "source": [
    "# fillna() : 결측치를 특정 데이터로 채워준다. \n",
    "#     method \n",
    "        # ffill : 전 행의 데이터가 존재한다면 \n",
    "        #           해당 데이터로 결측치를 채운다.\n",
    "        # bfill : 후 행의 데이터가 존재한다면\n",
    "        #           해당 데이터로 결측치를 채운다.\n",
    "    # inplace = True는 스리즈 데이터가 전체일때만 가능\n",
    "df['tco_btc_nm'].fillna('온라인', inplace=True)"
   ]
  },
  {
   "cell_type": "code",
   "execution_count": null,
   "id": "7d25ce16",
   "metadata": {},
   "outputs": [],
   "source": [
    "df.isna().sum()"
   ]
  },
  {
   "cell_type": "code",
   "execution_count": null,
   "id": "9ccb9a49",
   "metadata": {},
   "outputs": [],
   "source": [
    "# 같은 데이터의 구조지만 컬럼의 이름이 다른 경우\n",
    "# offline과 online 컬럼의 이름을 변경하고 \n",
    "# online에 업종 컬럼을 추가해서 '온라인' 대입 \n",
    "# 단순한 행 결합 \n",
    "offline.columns = ['기준년월', '업종', '성별', '연령대', \n",
    "                   '총이용건수', '총이용금액']"
   ]
  },
  {
   "cell_type": "code",
   "execution_count": null,
   "id": "fbce674c",
   "metadata": {},
   "outputs": [],
   "source": [
    "online.columns = ['기준년월', '성별', '연령대', \n",
    "                  '총이용건수', '총이용금액']"
   ]
  },
  {
   "cell_type": "code",
   "execution_count": null,
   "id": "fa5b26a5",
   "metadata": {},
   "outputs": [],
   "source": [
    "online['업종'] = \"온라인\""
   ]
  },
  {
   "cell_type": "code",
   "execution_count": null,
   "id": "46f27439",
   "metadata": {},
   "outputs": [],
   "source": [
    "online.head()"
   ]
  },
  {
   "cell_type": "code",
   "execution_count": null,
   "id": "d017a388",
   "metadata": {},
   "outputs": [],
   "source": [
    "offline.head()"
   ]
  },
  {
   "cell_type": "code",
   "execution_count": null,
   "id": "56404183",
   "metadata": {},
   "outputs": [],
   "source": [
    "card_df = pd.concat(\n",
    "    [offline, online],\n",
    "    axis=0, \n",
    "    ignore_index=True\n",
    ")"
   ]
  },
  {
   "cell_type": "code",
   "execution_count": null,
   "id": "098fb2d1",
   "metadata": {},
   "outputs": [],
   "source": [
    "# 성별 컬럼의 데이터중 9와 -가 존재하는가?\n",
    "((card_df['성별'] == '-') \n",
    " | (card_df['성별'] == '9')).sum()"
   ]
  },
  {
   "cell_type": "code",
   "execution_count": null,
   "id": "066722dd",
   "metadata": {},
   "outputs": [],
   "source": [
    "(\n",
    "    card_df['성별'].isin(['-', '9'])\n",
    ").sum()"
   ]
  },
  {
   "cell_type": "code",
   "execution_count": null,
   "id": "98aa0513",
   "metadata": {},
   "outputs": [],
   "source": [
    "card_df['성별'].value_counts()"
   ]
  },
  {
   "cell_type": "code",
   "execution_count": null,
   "id": "5900ac93",
   "metadata": {},
   "outputs": [],
   "source": [
    "card_df['성별'].unique()"
   ]
  },
  {
   "cell_type": "code",
   "execution_count": null,
   "id": "37c23aed",
   "metadata": {},
   "outputs": [],
   "source": [
    "# 성별 컬럼의 데이터를 1이면 남자 2이면 여자로 변경 \n",
    "# case1 : 인덱스의 조건을 성별이 1이라면 컬럼의 조건은 성별\n",
    "# 안의 values를 남자\n",
    "df2 = card_df.copy()"
   ]
  },
  {
   "cell_type": "code",
   "execution_count": null,
   "id": "9d82f1ca",
   "metadata": {},
   "outputs": [],
   "source": [
    "flag_idx = df2['성별'] == 1\n",
    "flag_idx2 = df2['성별'] == 2\n",
    "\n",
    "df2.loc[flag_idx, '성별'] = '남자'\n",
    "df2.loc[flag_idx2, '성별'] = '여자'"
   ]
  },
  {
   "cell_type": "code",
   "execution_count": null,
   "id": "ba47635c",
   "metadata": {},
   "outputs": [],
   "source": [
    "df2['성별'].value_counts()"
   ]
  },
  {
   "cell_type": "code",
   "execution_count": null,
   "id": "bf73df2c",
   "metadata": {},
   "outputs": [],
   "source": [
    "# map 함수를 이용해서 남 여 변경 \n",
    "df3 = card_df.copy()"
   ]
  },
  {
   "cell_type": "code",
   "execution_count": null,
   "id": "8292082c",
   "metadata": {},
   "outputs": [],
   "source": [
    "# map + 일반 함수\n",
    "def change(x):\n",
    "    if x == 1:\n",
    "        result = '남자'\n",
    "    elif x == 2:\n",
    "        result = '여자'\n",
    "    elif x == 9:\n",
    "        result = '무관'\n",
    "    else:\n",
    "        result = '결측'\n",
    "    return result\n",
    "\n",
    "df3['성별'].map(\n",
    "    change\n",
    ")"
   ]
  },
  {
   "cell_type": "code",
   "execution_count": null,
   "id": "e7dc14ab",
   "metadata": {},
   "outputs": [],
   "source": [
    "# map + lambda\n",
    "# 한줄로 표현하는 if 조건식\n",
    "# \"조건식이 참인경우의 데이터\" if 조건식 else (거짓인 경우 데이터)\n",
    "df3['성별'].map(\n",
    "    lambda x : '남자' if (x == 1) else '여자'\n",
    ")"
   ]
  },
  {
   "cell_type": "code",
   "execution_count": null,
   "id": "cd279999",
   "metadata": {},
   "outputs": [],
   "source": [
    "_dict = {1: '남자', 2 : '여자'}\n",
    "df3['성별'].map(\n",
    "    lambda x : _dict[x]\n",
    ")"
   ]
  },
  {
   "cell_type": "code",
   "execution_count": null,
   "id": "8da53229",
   "metadata": {},
   "outputs": [],
   "source": [
    "# replace( '찾는 문자열', '치환될 문자열' )\n",
    "# replace( { '찾는문자열' : '치환될 문자열', ... } )\n",
    "df3['성별'].replace(_dict)"
   ]
  },
  {
   "cell_type": "code",
   "execution_count": null,
   "id": "e6452e81",
   "metadata": {},
   "outputs": [],
   "source": [
    "_list = []\n",
    "\n",
    "for idx in range(0, len(df3), 1):\n",
    "    # print(df3.loc[idx, '성별'])\n",
    "    # break\n",
    "    if df3.loc[idx, '성별'] == 1:\n",
    "        _list.append('남자')\n",
    "    else:\n",
    "        _list.append('여자')"
   ]
  },
  {
   "cell_type": "code",
   "execution_count": null,
   "id": "a1f9abb0",
   "metadata": {},
   "outputs": [],
   "source": [
    "_list"
   ]
  },
  {
   "cell_type": "code",
   "execution_count": null,
   "id": "51d0eb77",
   "metadata": {},
   "outputs": [],
   "source": [
    "for idx in range(len(df3)):\n",
    "    if df3.loc[idx, '성별'] == 1:\n",
    "        df3.loc[idx, '성별'] = '남자'\n",
    "    else:\n",
    "        df3.loc[idx, '성별'] = '여자'"
   ]
  },
  {
   "cell_type": "code",
   "execution_count": null,
   "id": "81c40fe9",
   "metadata": {},
   "outputs": [],
   "source": [
    "df3['성별'].value_counts()"
   ]
  },
  {
   "cell_type": "code",
   "execution_count": null,
   "id": "50423418",
   "metadata": {},
   "outputs": [],
   "source": [
    "card_df['기준년월'] = pd.to_datetime(\n",
    "    card_df['기준년월'], format='%Y%m'\n",
    ")"
   ]
  },
  {
   "cell_type": "code",
   "execution_count": null,
   "id": "e99fb9e8",
   "metadata": {},
   "outputs": [],
   "source": [
    "card_df.info()"
   ]
  },
  {
   "cell_type": "code",
   "execution_count": null,
   "id": "9f2d4dc4",
   "metadata": {},
   "outputs": [],
   "source": [
    "group_data = card_df.groupby(\n",
    "    ['기준년월', '업종']\n",
    ")['총이용금액'].sum()"
   ]
  },
  {
   "cell_type": "code",
   "execution_count": null,
   "id": "77e307be",
   "metadata": {},
   "outputs": [],
   "source": [
    "group_data2 = group_data.unstack()"
   ]
  },
  {
   "cell_type": "code",
   "execution_count": null,
   "id": "7c1a1c30",
   "metadata": {},
   "outputs": [],
   "source": [
    "x = group_data2.index\n",
    "\n",
    "y1 = group_data2['백화점']\n",
    "y2 = group_data2['슈퍼마켓']\n",
    "y3 = group_data2['온라인']\n",
    "y4 = group_data2['편의점']\n",
    "y5 = group_data2['할인점']\n",
    "\n",
    "# 그래프의 사이즈를 변경 \n",
    "plt.figure(figsize=(20, 8))\n",
    "# 그래프에서 지수표현식을 제거 \n",
    "plt.ticklabel_format(axis='y', style='plain', useMathText=True)\n",
    "# y축에 그리드 선을 추가 \n",
    "plt.grid(True, axis='y')\n",
    "plt.plot(x, y1, label='백화점')\n",
    "plt.plot(x, y2, label='슈퍼마켓')\n",
    "plt.plot(x, y3, label='온라인')\n",
    "plt.plot(x, y4, label='편의점')\n",
    "plt.plot(x, y5, label='할인점')\n",
    "\n",
    "# 그래프의 범례 추가 \n",
    "plt.legend()\n",
    "plt.show()"
   ]
  },
  {
   "cell_type": "code",
   "execution_count": null,
   "id": "6c76a043",
   "metadata": {},
   "outputs": [],
   "source": [
    "# 그래프의 사이즈를 변경 \n",
    "plt.figure(figsize=(20, 8))\n",
    "# 그래프에서 지수표현식을 제거 \n",
    "plt.ticklabel_format(axis='y', style='plain', useMathText=True)\n",
    "# y축에 그리드 선을 추가 \n",
    "plt.grid(True, axis='y')\n",
    "\n",
    "for col in group_data2.columns:\n",
    "    # print(col)\n",
    "    plt.plot(group_data2[col], label = col)\n",
    "plt.legend()\n",
    "plt.show()"
   ]
  },
  {
   "cell_type": "code",
   "execution_count": null,
   "id": "c211fe20",
   "metadata": {},
   "outputs": [],
   "source": [
    "group_data2['오프라인'] = group_data2.drop('온라인', axis=1).sum(axis=1)"
   ]
  },
  {
   "cell_type": "code",
   "execution_count": null,
   "id": "27dc1807",
   "metadata": {},
   "outputs": [],
   "source": [
    "group_data2.head()"
   ]
  },
  {
   "cell_type": "code",
   "execution_count": null,
   "id": "1bb578eb",
   "metadata": {},
   "outputs": [],
   "source": [
    "pivot_data = pd.pivot_table(\n",
    "    card_df, \n",
    "    index = '기준년월', \n",
    "    columns = '업종', \n",
    "    values = '총이용금액', \n",
    "    aggfunc= 'sum', \n",
    "    margins= True\n",
    ")"
   ]
  },
  {
   "cell_type": "code",
   "execution_count": null,
   "id": "a276c080",
   "metadata": {},
   "outputs": [],
   "source": [
    "pivot_data['오프라인'] = pivot_data['All'] - pivot_data['온라인']"
   ]
  },
  {
   "cell_type": "code",
   "execution_count": null,
   "id": "d17f6b91",
   "metadata": {},
   "outputs": [],
   "source": [
    "# 그래프의 사이즈를 변경 \n",
    "plt.figure(figsize=(20, 8))\n",
    "# 그래프에서 지수표현식을 제거 \n",
    "plt.ticklabel_format(axis='y', style='plain', useMathText=True)\n",
    "# y축에 그리드 선을 추가 \n",
    "plt.grid(True, axis='y')\n",
    "\n",
    "plt.plot(group_data2['오프라인'], label='오프라인')\n",
    "plt.plot(group_data2['온라인'], label='온라인')\n",
    "plt.legend()\n",
    "plt.show()"
   ]
  },
  {
   "cell_type": "code",
   "execution_count": 96,
   "id": "ffd0aa4c",
   "metadata": {},
   "outputs": [
    {
     "data": {
      "image/png": "[encoded data removed]",
      "text/plain": [
       "<Figure size 2000x800 with 1 Axes>"
      ]
     },
     "metadata": {},
     "output_type": "display_data"
    }
   ],
   "source": [
    "# 그래프의 사이즈를 변경 \n",
    "plt.figure(figsize=(20, 8))\n",
    "# 그래프에서 지수표현식을 제거 \n",
    "plt.ticklabel_format(axis='y', style='plain', useMathText=True)\n",
    "# y축에 그리드 선을 추가 \n",
    "plt.grid(True, axis='y')\n",
    "\n",
    "plt.plot(pivot_data.iloc[:-1, -1], label='오프라인')\n",
    "plt.plot(pivot_data.iloc[:-1, 2], label='온라인')\n",
    "plt.legend()\n",
    "plt.show()"
   ]
  },
  {
   "cell_type": "code",
   "execution_count": 97,
   "id": "0129c81e",
   "metadata": {},
   "outputs": [
    {
     "data": {
      "text/plain": [
       "연령대\n",
       "10    330\n",
       "20    330\n",
       "30    330\n",
       "40    330\n",
       "50    330\n",
       "60    330\n",
       "70    330\n",
       "80    330\n",
       "90    330\n",
       "0     284\n",
       "1      45\n",
       "Name: count, dtype: int64"
      ]
     },
     "execution_count": 97,
     "metadata": {},
     "output_type": "execute_result"
    }
   ],
   "source": [
    "# 연령대의 빈도수를 확인 \n",
    "card_df['연령대'].value_counts()"
   ]
  },
  {
   "cell_type": "code",
   "execution_count": 102,
   "id": "30da85da",
   "metadata": {},
   "outputs": [
    {
     "data": {
      "text/plain": [
       "업종\n",
       "편의점     60\n",
       "슈퍼마켓    59\n",
       "백화점     57\n",
       "할인점     57\n",
       "온라인     51\n",
       "Name: count, dtype: int64"
      ]
     },
     "execution_count": 102,
     "metadata": {},
     "output_type": "execute_result"
    }
   ],
   "source": [
    "card_df.loc[\n",
    "    card_df['연령대'] == 0, '업종'\n",
    "].value_counts()"
   ]
  },
  {
   "cell_type": "code",
   "execution_count": 101,
   "id": "b8ac769a",
   "metadata": {},
   "outputs": [
    {
     "data": {
      "text/plain": [
       "3299"
      ]
     },
     "execution_count": 101,
     "metadata": {},
     "output_type": "execute_result"
    }
   ],
   "source": [
    "len(card_df)"
   ]
  },
  {
   "cell_type": "code",
   "execution_count": 103,
   "id": "b8685b24",
   "metadata": {},
   "outputs": [],
   "source": [
    "card_df2 = card_df.loc[\n",
    "    card_df['연령대'] != 0,\n",
    "]"
   ]
  },
  {
   "cell_type": "code",
   "execution_count": 104,
   "id": "6b3be1a2",
   "metadata": {},
   "outputs": [
    {
     "data": {
      "text/plain": [
       "3015"
      ]
     },
     "execution_count": 104,
     "metadata": {},
     "output_type": "execute_result"
    }
   ],
   "source": [
    "len(card_df2)"
   ]
  },
  {
   "cell_type": "code",
   "execution_count": 105,
   "id": "d0aceb39",
   "metadata": {},
   "outputs": [],
   "source": [
    "pivot_data2 = pd.pivot_table(\n",
    "    card_df2, \n",
    "    index = '기준년월', \n",
    "    columns= '업종', \n",
    "    values = '총이용금액', \n",
    "    aggfunc= 'sum', \n",
    "    margins= True\n",
    ")"
   ]
  },
  {
   "cell_type": "code",
   "execution_count": 107,
   "id": "4e7c003b",
   "metadata": {},
   "outputs": [],
   "source": [
    "pivot_data2.drop('All', inplace=True)"
   ]
  },
  {
   "cell_type": "code",
   "execution_count": 108,
   "id": "84e80724",
   "metadata": {},
   "outputs": [],
   "source": [
    "pivot_data2['오프라인'] = pivot_data2['All'] - pivot_data2['온라인']"
   ]
  },
  {
   "cell_type": "code",
   "execution_count": 109,
   "id": "c8110b9a",
   "metadata": {},
   "outputs": [
    {
     "data": {
      "image/png": "[encoded data removed]",
      "text/plain": [
       "<Figure size 2000x800 with 1 Axes>"
      ]
     },
     "metadata": {},
     "output_type": "display_data"
    }
   ],
   "source": [
    "# 그래프의 사이즈를 변경 \n",
    "plt.figure(figsize=(20, 8))\n",
    "# 그래프에서 지수표현식을 제거 \n",
    "plt.ticklabel_format(axis='y', style='plain', useMathText=True)\n",
    "# y축에 그리드 선을 추가 \n",
    "plt.grid(True, axis='y')\n",
    "\n",
    "plt.plot(pivot_data2['온라인'], label='온라인')\n",
    "plt.plot(pivot_data2['오프라인'], label='오프라인')\n",
    "plt.legend()\n",
    "plt.show()"
   ]
  }
 ],
 "metadata": {
  "kernelspec": {
   "display_name": "Python 3",
   "language": "python",
   "name": "python3"
  },
  "language_info": {
   "codemirror_mode": {
    "name": "ipython",
    "version": 3
   },
   "file_extension": ".py",
   "mimetype": "text/x-python",
   "name": "python",
   "nbconvert_exporter": "python",
   "pygments_lexer": "ipython3",
   "version": "3.11.1"
  }
 },
 "nbformat": 4,
 "nbformat_minor": 5
}
