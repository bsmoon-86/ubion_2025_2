{
 "cells": [
  {
   "cell_type": "markdown",
   "id": "81865f9c",
   "metadata": {},
   "source": [
    "### 예제\n",
    "1. csv 폴더에서 test_csv 폴더의 '오프라인.csv' 파일을 로드 \n",
    "2. 컬럼의 이름을 변경 -> [기준년월, '업종', 성별, 연령대, 총이용건수, 총이용금액]\n",
    "3. 결측치가 존재하는가?\n",
    "    - 결측치의 대한 체크\n",
    "    - 성별 컬럼에서 '-' 데이터가 존재하는가?\n",
    "4. 기준년월 컬럼의 데이터 타입을 시계열 변경 \n",
    "5. 성별을 기준으로 연도별 건당 이용금액의 평균이 어떻게 되는가?\n",
    "    - 기준년 컬럼을 생성하여 기준년월에서 년도만 추출하여 대입\n",
    "    - 건당이용금액 컬럼을 생성하여 총이용금액 / 총이용건수 의 결과를 대입\n",
    "    - 기준년과 성별을 기준으로 그룹화를 하고 그룹화 연산으로는 건당이용금액의 평균을 구한다. "
   ]
  },
  {
   "cell_type": "code",
   "execution_count": null,
   "id": "7e7a4dbb",
   "metadata": {},
   "outputs": [],
   "source": [
    "import pandas as pd\n",
    "from datetime import datetime"
   ]
  },
  {
   "cell_type": "code",
   "execution_count": null,
   "id": "bf348dad",
   "metadata": {},
   "outputs": [],
   "source": [
    "# 파일을 로드 \n",
    "offline = pd.read_csv('../../csv/test_csv/오프라인.csv', \n",
    "    encoding='cp949')"
   ]
  },
  {
   "cell_type": "code",
   "execution_count": null,
   "id": "bd7c4388",
   "metadata": {},
   "outputs": [],
   "source": [
    "offline.head()"
   ]
  },
  {
   "cell_type": "code",
   "execution_count": null,
   "id": "daf67b83",
   "metadata": {},
   "outputs": [],
   "source": [
    "# 컬럼의 이름을 변경\n",
    "# case1 : rename() -> 특정 컬럼이나 인덱스를 변경할때 사용\n",
    "# columns 변수를 변경하는것과의 차이점은 rename() 변경하기 전 확인이 가능\n",
    "offline.rename(\n",
    "    columns = {\n",
    "        'crym' : '기준년월', \n",
    "        'tco_btc_nm' : '업종', \n",
    "        'ma_fem_dc' : '성별', \n",
    "        'agegrp_dc' : '연령대', \n",
    "        'tco_btc_u_ct' : '총이용건수', \n",
    "        'tco_btc_u_am' : '총이용금액'\n",
    "    }\n",
    ")"
   ]
  },
  {
   "cell_type": "code",
   "execution_count": null,
   "id": "f1554602",
   "metadata": {},
   "outputs": [],
   "source": [
    "# case2 : DataFrame안에 존재하는 columns 변수에 데이터를 변경 \n",
    "offline.columns = ['기준년월', '업종', '성별', '연령대', \n",
    "                    '총이용건수', '총이용금액']"
   ]
  },
  {
   "cell_type": "code",
   "execution_count": null,
   "id": "438a4745",
   "metadata": {},
   "outputs": [],
   "source": [
    "offline.head()"
   ]
  },
  {
   "cell_type": "code",
   "execution_count": null,
   "id": "5548ca90",
   "metadata": {},
   "outputs": [],
   "source": [
    "# 결측치의 개수를 확인 -> 결측치인가? -> 합\n",
    "offline.isna().sum()"
   ]
  },
  {
   "cell_type": "code",
   "execution_count": null,
   "id": "93936ebb",
   "metadata": {},
   "outputs": [],
   "source": [
    "offline.info()"
   ]
  },
  {
   "cell_type": "code",
   "execution_count": null,
   "id": "383e47b9",
   "metadata": {},
   "outputs": [],
   "source": [
    "offline.describe()"
   ]
  },
  {
   "cell_type": "code",
   "execution_count": null,
   "id": "0a0c7748",
   "metadata": {},
   "outputs": [],
   "source": [
    "# 항목정의서에서 확인했을때 성별 컬럼의 결측치는 -\n",
    "# - 의 개수도 확인 \n",
    "(offline['성별'] == '-').sum()"
   ]
  },
  {
   "cell_type": "code",
   "execution_count": null,
   "id": "e18a562b",
   "metadata": {},
   "outputs": [],
   "source": [
    "offline['성별'].isin(['-', '9']).sum()"
   ]
  },
  {
   "cell_type": "code",
   "execution_count": null,
   "id": "1eb50948",
   "metadata": {},
   "outputs": [],
   "source": [
    "pd.to_datetime(offline['기준년월'] , format='%Y%m')"
   ]
  },
  {
   "cell_type": "code",
   "execution_count": null,
   "id": "d6199416",
   "metadata": {},
   "outputs": [],
   "source": [
    "# datetime 라이브러리 안에 존재하는 시계열로 변환하는 함수 \n",
    "datetime.strptime(str(offline['기준년월'][0]), '%Y%m')"
   ]
  },
  {
   "cell_type": "code",
   "execution_count": null,
   "id": "d0adecdb",
   "metadata": {},
   "outputs": [],
   "source": [
    "offline['기준년월'] = offline['기준년월'].map(\n",
    "    lambda x : datetime.strptime( str(x), '%Y%m' )\n",
    ")"
   ]
  },
  {
   "cell_type": "code",
   "execution_count": null,
   "id": "a76372ac",
   "metadata": {},
   "outputs": [],
   "source": [
    "# 기준년 컬럼을 생성하여 기준년월에서 년도만 추출하여 대입 \n",
    "# case1 : map 함수를 이용\n",
    "offline['기준년월'].map(\n",
    "    lambda x : x.strftime('%Y')\n",
    ")"
   ]
  },
  {
   "cell_type": "code",
   "execution_count": null,
   "id": "25e7b94b",
   "metadata": {},
   "outputs": [],
   "source": [
    "# case2 : Series에서 datetime 내장함수를 이용\n",
    "offline['기준년월'].dt.strftime('%Y')"
   ]
  },
  {
   "cell_type": "code",
   "execution_count": null,
   "id": "aa727d7a",
   "metadata": {},
   "outputs": [],
   "source": [
    "# case3 : Series에서 dateitme 변수를 이용\n",
    "offline['기준년'] = offline['기준년월'].dt.year"
   ]
  },
  {
   "cell_type": "code",
   "execution_count": null,
   "id": "81a198e4",
   "metadata": {},
   "outputs": [],
   "source": [
    "# 건당이용금액 컬럼을 생성하여 총이용금액 / 총이용건수의 값을 대입 \n",
    "offline['건당이용금액'] = \\\n",
    "     offline['총이용금액'] / offline['총이용건수']"
   ]
  },
  {
   "cell_type": "code",
   "execution_count": null,
   "id": "33a930f1",
   "metadata": {},
   "outputs": [],
   "source": [
    "# 기준년, 성별을 기준으로 그룹화 -> 건당 이용금액의 평균\n",
    "offline.groupby(['기준년', '성별'])[['건당이용금액']].mean()"
   ]
  },
  {
   "cell_type": "code",
   "execution_count": null,
   "id": "9c1267fa",
   "metadata": {},
   "outputs": [],
   "source": [
    "# 데이터프레임 데이터의 구조를 재 구조화 한다. \n",
    "# pivot_table() -> pandas 안에 존재, DataFrame 안에 존재 \n",
    "pd.pivot_table(\n",
    "    offline, \n",
    "    index = ['기준년', '성별'], \n",
    "    values = '건당이용금액', \n",
    "    aggfunc = 'mean'\n",
    ")"
   ]
  },
  {
   "cell_type": "code",
   "execution_count": null,
   "id": "18ee3fe5",
   "metadata": {},
   "outputs": [],
   "source": [
    "offline.pivot_table(\n",
    "    index = ['기준년', '성별'], \n",
    "    values = '총이용건수', \n",
    "    aggfunc = 'sum'\n",
    ")"
   ]
  },
  {
   "cell_type": "code",
   "execution_count": null,
   "id": "e3af3fca",
   "metadata": {},
   "outputs": [],
   "source": [
    "# 기준년월, 업종별 총 이용금액의 합계를 확인\n",
    "group_data = \\\n",
    "     offline.groupby([ '기준년월', '업종' ])[['총이용금액']].sum()"
   ]
  },
  {
   "cell_type": "code",
   "execution_count": 60,
   "id": "e1b31039",
   "metadata": {},
   "outputs": [],
   "source": [
    "import matplotlib.pyplot as plt\n",
    "import platform"
   ]
  },
  {
   "cell_type": "code",
   "execution_count": 63,
   "id": "a7b562cb",
   "metadata": {},
   "outputs": [],
   "source": [
    "if platform.system() == 'Darwin':\n",
    "    plt.rc('font', family='AppleGothic')\n",
    "else:\n",
    "    plt.rc('font', family='Malgun Gothic')"
   ]
  },
  {
   "cell_type": "code",
   "execution_count": 71,
   "id": "88dabe74",
   "metadata": {},
   "outputs": [],
   "source": [
    "group_data = group_data.unstack()"
   ]
  },
  {
   "cell_type": "code",
   "execution_count": 72,
   "id": "8b929adf",
   "metadata": {},
   "outputs": [
    {
     "data": {
      "text/plain": [
       "MultiIndex([('총이용금액',  '백화점'),\n",
       "            ('총이용금액', '슈퍼마켓'),\n",
       "            ('총이용금액',  '편의점'),\n",
       "            ('총이용금액',  '할인점')],\n",
       "           names=[None, '업종'])"
      ]
     },
     "execution_count": 72,
     "metadata": {},
     "output_type": "execute_result"
    }
   ],
   "source": [
    "group_data.columns"
   ]
  },
  {
   "cell_type": "code",
   "execution_count": 73,
   "id": "27abae2f",
   "metadata": {},
   "outputs": [
    {
     "data": {
      "image/png": "[encoded data removed]",
      "text/plain": [
       "<Figure size 640x480 with 1 Axes>"
      ]
     },
     "metadata": {},
     "output_type": "display_data"
    }
   ],
   "source": [
    "# 그래프에서 지수표현식을 제거 \n",
    "plt.ticklabel_format(axis='y', style='plain', useMathText=True)\n",
    "x = group_data.index\n",
    "y1 = group_data[('총이용금액',  '백화점')]\n",
    "y2 = group_data[('총이용금액',  '슈퍼마켓')]\n",
    "\n",
    "plt.plot(x, y1, label='백화점')\n",
    "plt.plot(x, y2, label='슈퍼마켓')\n",
    "plt.legend()\n",
    "plt.show()\n",
    "# group_data.unstack().plot()"
   ]
  },
  {
   "cell_type": "code",
   "execution_count": null,
   "id": "4b4b9e8a",
   "metadata": {},
   "outputs": [],
   "source": []
  }
 ],
 "metadata": {
  "kernelspec": {
   "display_name": "Python 3",
   "language": "python",
   "name": "python3"
  },
  "language_info": {
   "codemirror_mode": {
    "name": "ipython",
    "version": 3
   },
   "file_extension": ".py",
   "mimetype": "text/x-python",
   "name": "python",
   "nbconvert_exporter": "python",
   "pygments_lexer": "ipython3",
   "version": "3.11.1"
  }
 },
 "nbformat": 4,
 "nbformat_minor": 5
}
