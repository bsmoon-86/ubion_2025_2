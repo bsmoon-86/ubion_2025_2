{
 "cells": [
  {
   "cell_type": "markdown",
   "id": "81865f9c",
   "metadata": {},
   "source": [
    "### 예제\n",
    "1. csv 폴더에서 test_csv 폴더의 '오프라인.csv' 파일을 로드 \n",
    "2. 컬럼의 이름을 변경 -> [기준년월, '업종', 성별, 연령대, 총이용건수, 총이용금액]\n",
    "3. 결측치가 존재하는가?\n",
    "    - 결측치의 대한 체크\n",
    "    - 성별 컬럼에서 '-' 데이터가 존재하는가?\n",
    "4. 기준년월 컬럼의 데이터 타입을 시계열 변경 \n",
    "5. 성별을 기준으로 연도별 건당 이용금액의 평균이 어떻게 되는가?\n",
    "    - 기준년 컬럼을 생성하여 기준년월에서 년도만 추출하여 대입\n",
    "    - 건당이용금액 컬럼을 생성하여 총이용금액 / 총이용건수 의 결과를 대입\n",
    "    - 기준년과 성별을 기준으로 그룹화를 하고 그룹화 연산으로는 건당이용금액의 평균을 구한다. "
   ]
  },
  {
   "cell_type": "code",
   "execution_count": null,
   "id": "7e7a4dbb",
   "metadata": {},
   "outputs": [],
   "source": [
    "import pandas as pd\n",
    "from datetime import datetime"
   ]
  },
  {
   "cell_type": "code",
   "execution_count": null,
   "id": "bf348dad",
   "metadata": {},
   "outputs": [],
   "source": [
    "# 파일을 로드 \n",
    "offline = pd.read_csv('../../csv/test_csv/오프라인.csv', \n",
    "    encoding='cp949')"
   ]
  },
  {
   "cell_type": "code",
   "execution_count": null,
   "id": "bd7c4388",
   "metadata": {},
   "outputs": [],
   "source": [
    "offline.head()"
   ]
  },
  {
   "cell_type": "code",
   "execution_count": null,
   "id": "daf67b83",
   "metadata": {},
   "outputs": [],
   "source": [
    "# 컬럼의 이름을 변경\n",
    "# case1 : rename() -> 특정 컬럼이나 인덱스를 변경할때 사용\n",
    "# columns 변수를 변경하는것과의 차이점은 rename() 변경하기 전 확인이 가능\n",
    "offline.rename(\n",
    "    columns = {\n",
    "        'crym' : '기준년월', \n",
    "        'tco_btc_nm' : '업종', \n",
    "        'ma_fem_dc' : '성별', \n",
    "        'agegrp_dc' : '연령대', \n",
    "        'tco_btc_u_ct' : '총이용건수', \n",
    "        'tco_btc_u_am' : '총이용금액'\n",
    "    }\n",
    ")"
   ]
  },
  {
   "cell_type": "code",
   "execution_count": null,
   "id": "f1554602",
   "metadata": {},
   "outputs": [],
   "source": [
    "# case2 : DataFrame안에 존재하는 columns 변수에 데이터를 변경 \n",
    "offline.columns = ['기준년월', '업종', '성별', '연령대', \n",
    "                    '총이용건수', '총이용금액']"
   ]
  },
  {
   "cell_type": "code",
   "execution_count": null,
   "id": "438a4745",
   "metadata": {},
   "outputs": [],
   "source": [
    "offline.head()"
   ]
  },
  {
   "cell_type": "code",
   "execution_count": null,
   "id": "5548ca90",
   "metadata": {},
   "outputs": [],
   "source": [
    "# 결측치의 개수를 확인 -> 결측치인가? -> 합\n",
    "offline.isna().sum()"
   ]
  },
  {
   "cell_type": "code",
   "execution_count": null,
   "id": "93936ebb",
   "metadata": {},
   "outputs": [],
   "source": [
    "offline.info()"
   ]
  },
  {
   "cell_type": "code",
   "execution_count": null,
   "id": "383e47b9",
   "metadata": {},
   "outputs": [],
   "source": [
    "offline.describe()"
   ]
  },
  {
   "cell_type": "code",
   "execution_count": null,
   "id": "0a0c7748",
   "metadata": {},
   "outputs": [
    {
     "data": {
      "text/plain": [
       "0"
      ]
     },
     "execution_count": 17,
     "metadata": {},
     "output_type": "execute_result"
    }
   ],
   "source": [
    "# 항목정의서에서 확인했을때 성별 컬럼의 결측치는 -\n",
    "# - 의 개수도 확인 \n",
    "(offline['성별'] == '-').sum()"
   ]
  },
  {
   "cell_type": "code",
   "execution_count": 21,
   "id": "e18a562b",
   "metadata": {},
   "outputs": [
    {
     "data": {
      "text/plain": [
       "0"
      ]
     },
     "execution_count": 21,
     "metadata": {},
     "output_type": "execute_result"
    }
   ],
   "source": [
    "offline['성별'].isin(['-', '9']).sum()"
   ]
  },
  {
   "cell_type": "code",
   "execution_count": 23,
   "id": "1eb50948",
   "metadata": {},
   "outputs": [
    {
     "data": {
      "text/plain": [
       "0      2019-01-01\n",
       "1      2019-01-01\n",
       "2      2019-01-01\n",
       "3      2019-01-01\n",
       "4      2019-01-01\n",
       "          ...    \n",
       "2643   2021-09-01\n",
       "2644   2021-09-01\n",
       "2645   2021-09-01\n",
       "2646   2021-09-01\n",
       "2647   2021-09-01\n",
       "Name: 기준년월, Length: 2648, dtype: datetime64[ns]"
      ]
     },
     "execution_count": 23,
     "metadata": {},
     "output_type": "execute_result"
    }
   ],
   "source": [
    "pd.to_datetime(offline['기준년월'] , format='%Y%m')"
   ]
  }
 ],
 "metadata": {
  "kernelspec": {
   "display_name": "Python 3",
   "language": "python",
   "name": "python3"
  },
  "language_info": {
   "codemirror_mode": {
    "name": "ipython",
    "version": 3
   },
   "file_extension": ".py",
   "mimetype": "text/x-python",
   "name": "python",
   "nbconvert_exporter": "python",
   "pygments_lexer": "ipython3",
   "version": "3.11.1"
  }
 },
 "nbformat": 4,
 "nbformat_minor": 5
}
