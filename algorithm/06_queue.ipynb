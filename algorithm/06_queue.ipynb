{
 "cells": [
  {
   "cell_type": "markdown",
   "id": "1aeeb669",
   "metadata": {},
   "source": [
    "# 큐\n",
    "- 스택과 같이 데이터를 임시 저장하는 자료 구조\n",
    "- 가장 먼저 넣은 데이터를 가장 먼저 꺼내는 구조\n",
    "    - 예) TM에서 차례를 기다리는 구조와 같다 \n",
    "- 인큐(inque)\n",
    "    - 데이터를 추가하는 작업\n",
    "- 디큐(deque)\n",
    "    - 데이터를 꺼내는 작업 \n",
    "- 프론트(front)\n",
    "    - 데이터를 꺼내는 쪽의 위치\n",
    "- 리어(rear)\n",
    "    - 데이터를 삽입하는 쪽의 위치"
   ]
  },
  {
   "cell_type": "code",
   "execution_count": 1,
   "id": "4b0c6b9f",
   "metadata": {},
   "outputs": [],
   "source": [
    "from typing import Any"
   ]
  },
  {
   "cell_type": "code",
   "execution_count": 3,
   "id": "2c6e7877",
   "metadata": {},
   "outputs": [],
   "source": [
    "# 배열 안에 원소를 옮기지 않고 작업하는 링 버퍼를 이용\n",
    "# 링 버퍼는 배열의 맨 마지막 원소 뒤에 배열의 처음 원소가 연결되어있는 자료 구조\n",
    "\n",
    "class FixedQueue:\n",
    "\n",
    "    class Empty(Exception):\n",
    "        pass\n",
    "    class Full(Exception):\n",
    "        pass\n",
    "\n",
    "    def __init__(self, capacity : int = 256) -> None:\n",
    "        # 현재 데이터의 개수 \n",
    "        self.no = 0\n",
    "        # 맨 앞 원소의 위치 (커서)\n",
    "        self.front = 0\n",
    "        # 맨 뒤 원소의 위치 (커서)\n",
    "        self.rear = 0\n",
    "        # 큐의 크기 \n",
    "        self.capacity = capacity\n",
    "        # 큐배열을 생성 \n",
    "        self.que = [None] * self.capacity\n",
    "\n",
    "    def __len__(self) -> int:\n",
    "        # 데이터의 길이를 출력 -> no\n",
    "        return self.no\n",
    "\n",
    "    # 데이터가 비어있는가? no가 0보다 작거나 같은 경우 \n",
    "    def is_empty(self) -> bool:\n",
    "        return self.no <= 0\n",
    "\n",
    "    # 큐에 데이터가 가득차있는가?\n",
    "    def is_full(self) -> bool:\n",
    "        return self.no >= self.capacity\n",
    "\n",
    "    # 데이터를 대입하는 함수 \n",
    "    def enque(self, value : Any) -> None:\n",
    "        # 데이터를 대입하는 경우 가득차있다면?\n",
    "        if self.is_full():\n",
    "            raise FixedQueue.Full\n",
    "        # 데이터를 대입하는 커서는 rear를 이용\n",
    "        self.que[self.rear] = value\n",
    "        # rear을 1 증가\n",
    "        self.rear += 1\n",
    "        # no도 1 증가\n",
    "        self.no += 1\n",
    "        # rear의 값이 capacity와 같다면 0으로 돌아간다. \n",
    "        if self.rear == self.capacity:\n",
    "            self.rear = 0\n",
    "    \n",
    "    # 데이터를 추출하는 함수 \n",
    "    def deque(self) -> Any:\n",
    "        if self.is_empty():\n",
    "            raise FixedQueue.Empty\n",
    "        \n",
    "        # 데이터를 추출하는 부분의 위치는 front를 이용\n",
    "        value = self.que[self.front]\n",
    "        # front를 1 증가시킨다. \n",
    "        self.front += 1\n",
    "        # no는 1 감소시킨다. \n",
    "        self.no -= 1\n",
    "        # front의 값이 capacity와 같다지면 0을 대입 \n",
    "        if self.front == self.capacity:\n",
    "            self.front = 0\n",
    "        return value\n",
    "    \n",
    "    # front 위치의 데이터를 확인 peek()\n",
    "    def peek(self) -> Any:\n",
    "        if self.is_empty():\n",
    "            raise FixedQueue.Empty\n",
    "        return self.que[self.front]\n",
    "\n",
    "    # 데이터를 찾는 find()함수\n",
    "    def find(self, value : Any) -> int:\n",
    "        # 데이터의 개수 no 만큼 반복 실행\n",
    "        for i in range(self.no):\n",
    "            # 인덱스 값을 지정\n",
    "            idx = (i + self.front) % self.capacity\n",
    "            if self.que[idx] == value:\n",
    "                return idx\n",
    "        return -1\n",
    "\n",
    "    # 데이터의 개수를 확인하는 함수 \n",
    "    def count(self, value : Any) -> int:\n",
    "        cnt = 0\n",
    "        for i in range(self.no):\n",
    "            idx = (i + self.front) % self.capacity\n",
    "            if self.que[idx] == value:\n",
    "                cnt += 1\n",
    "        return cnt\n",
    "    \n",
    "    def __contains__(self, value : Any) -> int:\n",
    "        return self.count(value)\n",
    "    \n",
    "    # 큐를 초기화 하는 함수 \n",
    "    def clear(self) -> None:\n",
    "        # no, front, rear 값을 모두 0으로 변경\n",
    "        self.no = self.front = self.rear = 0\n",
    "\n",
    "    def dump(self) -> None:\n",
    "        if self.is_empty():\n",
    "            raise FixedQueue.Empty\n",
    "        else:\n",
    "            for i in range(self.no):\n",
    "                idx = (i + self.front) % self.capacity\n",
    "                print(self.que[idx], end = ' ')\n",
    "            print()"
   ]
  },
  {
   "cell_type": "code",
   "execution_count": 4,
   "id": "1bf4fa7c",
   "metadata": {},
   "outputs": [],
   "source": [
    "que = FixedQueue(5)"
   ]
  },
  {
   "cell_type": "code",
   "execution_count": 5,
   "id": "5b24481a",
   "metadata": {},
   "outputs": [],
   "source": [
    "# enque() 함수를 실행 -> front가 0이고 rear도 0 -> index 0에 10이 대입\n",
    "que.enque(10)"
   ]
  },
  {
   "cell_type": "code",
   "execution_count": 6,
   "id": "62590ae7",
   "metadata": {},
   "outputs": [
    {
     "name": "stdout",
     "output_type": "stream",
     "text": [
      "10 \n"
     ]
    }
   ],
   "source": [
    "que.dump()"
   ]
  },
  {
   "cell_type": "code",
   "execution_count": 7,
   "id": "db35d45e",
   "metadata": {},
   "outputs": [
    {
     "data": {
      "text/plain": [
       "[10, None, None, None, None]"
      ]
     },
     "execution_count": 7,
     "metadata": {},
     "output_type": "execute_result"
    }
   ],
   "source": [
    "que.que"
   ]
  },
  {
   "cell_type": "code",
   "execution_count": 8,
   "id": "8d880ca9",
   "metadata": {},
   "outputs": [],
   "source": [
    "que.enque(20)\n",
    "que.enque(25)\n",
    "que.enque(35)"
   ]
  },
  {
   "cell_type": "code",
   "execution_count": 9,
   "id": "34abcd2f",
   "metadata": {},
   "outputs": [
    {
     "name": "stdout",
     "output_type": "stream",
     "text": [
      "10 20 25 35 \n"
     ]
    }
   ],
   "source": [
    "que.dump()"
   ]
  },
  {
   "cell_type": "code",
   "execution_count": 10,
   "id": "6cc476f4",
   "metadata": {},
   "outputs": [
    {
     "data": {
      "text/plain": [
       "[10, 20, 25, 35, None]"
      ]
     },
     "execution_count": 10,
     "metadata": {},
     "output_type": "execute_result"
    }
   ],
   "source": [
    "que.que"
   ]
  },
  {
   "cell_type": "code",
   "execution_count": 11,
   "id": "687b2d40",
   "metadata": {},
   "outputs": [
    {
     "data": {
      "text/plain": [
       "10"
      ]
     },
     "execution_count": 11,
     "metadata": {},
     "output_type": "execute_result"
    }
   ],
   "source": [
    "# deque() 데이터를 추출하는 작업\n",
    "# front 0 -> 10을 추출 \n",
    "# front는 1\n",
    "que.deque()"
   ]
  },
  {
   "cell_type": "code",
   "execution_count": 12,
   "id": "e36cdb8d",
   "metadata": {},
   "outputs": [
    {
     "name": "stdout",
     "output_type": "stream",
     "text": [
      "20 25 35 \n"
     ]
    }
   ],
   "source": [
    "que.dump()"
   ]
  },
  {
   "cell_type": "code",
   "execution_count": 13,
   "id": "e61cb75a",
   "metadata": {},
   "outputs": [
    {
     "data": {
      "text/plain": [
       "[10, 20, 25, 35, None]"
      ]
     },
     "execution_count": 13,
     "metadata": {},
     "output_type": "execute_result"
    }
   ],
   "source": [
    "que.que"
   ]
  },
  {
   "cell_type": "code",
   "execution_count": null,
   "id": "4ad4e2d8",
   "metadata": {},
   "outputs": [],
   "source": [
    "que.enque(50) # rear가 4에서 +1이 되면서 5 -> 5는 capacity와 같은 값 -> rear는 0이 된다."
   ]
  },
  {
   "cell_type": "code",
   "execution_count": 15,
   "id": "8d90d4ef",
   "metadata": {},
   "outputs": [
    {
     "name": "stdout",
     "output_type": "stream",
     "text": [
      "20 25 35 50 \n"
     ]
    }
   ],
   "source": [
    "que.dump()"
   ]
  },
  {
   "cell_type": "code",
   "execution_count": 16,
   "id": "5de9626b",
   "metadata": {},
   "outputs": [
    {
     "data": {
      "text/plain": [
       "[10, 20, 25, 35, 50]"
      ]
     },
     "execution_count": 16,
     "metadata": {},
     "output_type": "execute_result"
    }
   ],
   "source": [
    "que.que"
   ]
  },
  {
   "cell_type": "code",
   "execution_count": null,
   "id": "a7e6da7a",
   "metadata": {},
   "outputs": [],
   "source": [
    "que.deque() # front는 2\n",
    "que.enque(55) # 55라는 데이터는 que.que에서는 인덱스 0에 대입입"
   ]
  },
  {
   "cell_type": "code",
   "execution_count": null,
   "id": "40449da7",
   "metadata": {},
   "outputs": [
    {
     "name": "stdout",
     "output_type": "stream",
     "text": [
      "25 35 50 55 \n"
     ]
    }
   ],
   "source": [
    "# front는 2 capacity는 5 no는 4\n",
    "# dump()는 4번 반복을 하는 반복문 실행 \n",
    "# idx = (i + front) % capacity\n",
    "# 첫번째 반복 : i = 0, front = 2, capacity = 5 -> (0 + 2) % 5 -> 2\n",
    "# 두번째 반복 : i = 1 ,front = 2, capacity = 5 -> (1 + 2 ) % 5 -> 3\n",
    "# 세번째 반복 : i = 2 -> (2 + 2) % 5 -> 4\n",
    "# 네번째 반복 : i = 3 -> (3 + 2) % 5 -> 0\n",
    "que.dump()"
   ]
  },
  {
   "cell_type": "code",
   "execution_count": 19,
   "id": "f13aa6d5",
   "metadata": {},
   "outputs": [
    {
     "data": {
      "text/plain": [
       "[55, 20, 25, 35, 50]"
      ]
     },
     "execution_count": 19,
     "metadata": {},
     "output_type": "execute_result"
    }
   ],
   "source": [
    "que.que"
   ]
  },
  {
   "cell_type": "code",
   "execution_count": null,
   "id": "85dfa0eb",
   "metadata": {},
   "outputs": [],
   "source": []
  }
 ],
 "metadata": {
  "kernelspec": {
   "display_name": "Python 3",
   "language": "python",
   "name": "python3"
  },
  "language_info": {
   "codemirror_mode": {
    "name": "ipython",
    "version": 3
   },
   "file_extension": ".py",
   "mimetype": "text/x-python",
   "name": "python",
   "nbconvert_exporter": "python",
   "pygments_lexer": "ipython3",
   "version": "3.11.1"
  }
 },
 "nbformat": 4,
 "nbformat_minor": 5
}
