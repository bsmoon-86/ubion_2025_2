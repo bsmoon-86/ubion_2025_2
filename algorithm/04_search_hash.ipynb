{
 "cells": [
  {
   "cell_type": "markdown",
   "id": "c6cbf078",
   "metadata": {},
   "source": [
    "# 해시법\n",
    "- 데이터를 저장할 위치 = 인덱스를 간단한 연산으로 구하는것 \n",
    "- 원소의 검색 뿐 만이 아니라 추가, 삭제도 효율적으로 작업이 가능 \n",
    "- 특정한 규칙을 이용하여 인덱스의 값을 설정하는 것을 해시값\n",
    "    - 예시) 길이가 13인 배열을 생성하는 경우 키 값과 13을 나눈 나머지의 값을 해시값으로 지정하고 인덱스를 해시값으로 지정\n",
    "- 같은 인덱스에 데이터를 대입(추가)를 하는 경우에 충돌이 발생 이러한 상황을 해시충돌\n",
    "- 해치 충돌을 대체하는 방법 \n",
    "    - 체인법 \n",
    "        - 해시값이 같은 원소를 연결 리스트로 관리 \n",
    "    - 오픈 주소법\n",
    "        - 빈 버킷을 찾을때까지 해시를 반복\n",
    "        - 빈 버킷이 존재하지 않으면 데이터를 대입하지 않는다. "
   ]
  },
  {
   "cell_type": "code",
   "execution_count": null,
   "id": "3ac55566",
   "metadata": {},
   "outputs": [],
   "source": [
    "# 연결 리스트를 생성하는 Class를 선언\n",
    "from typing import Any\n",
    "import hashlib"
   ]
  },
  {
   "cell_type": "code",
   "execution_count": null,
   "id": "ae087aa9",
   "metadata": {},
   "outputs": [],
   "source": [
    "class Node:\n",
    "    # 생성자 함수 : 초기화 함수라고도 부르고 class가 생성될때 단한번만 실행이 되는 함수 \n",
    "    def __init__(self, key : Any, value : Any, next : \"Node\") -> None:\n",
    "        # 데이터의 키값\n",
    "        self.key = key\n",
    "        # 데이터의 벨류값\n",
    "        self.value = value\n",
    "        # 데이터의 뒤쪽 노드 \n",
    "        self.next = next"
   ]
  },
  {
   "cell_type": "code",
   "execution_count": null,
   "id": "6d8b5416",
   "metadata": {},
   "outputs": [],
   "source": [
    "# 체인 생성 샘플 확인\n",
    "n3 = Node('A', 100, next = None)\n",
    "n2 = Node('B', 200, next = n3)\n",
    "n1 = Node('C', 300, next = n2)\n",
    "# n1 class 뒤에는 n2 class가 그 뒤에는 n3 class가 존재한다. \n",
    "n0 = Node('D', 400, next = None)\n",
    "# n0 class 뒤에는 아무런 데이터가 존재하지 않는다. \n",
    "p = n1\n",
    "print('n1 class의 연결 리스트는')\n",
    "while p:\n",
    "    print(f\"{p.key} : {p.value}\")\n",
    "    p = p.next\n",
    "print()\n",
    "p0 = n0\n",
    "print('n0 class의 연결 리스트는')\n",
    "while p0:\n",
    "    print(f'{p0.key} : {p0.value}')\n",
    "    p0 = p0.next"
   ]
  },
  {
   "cell_type": "code",
   "execution_count": null,
   "id": "4c37ba39",
   "metadata": {},
   "outputs": [],
   "source": [
    "# 체인 해시 클래스를 선언\n",
    "class ChainHash:\n",
    "\n",
    "    # 생성자 함수 \n",
    "    def __init__(self, capacity : int) -> None:\n",
    "        # 해시 테이블의 크기를 지정 \n",
    "        self.capacity = capacity\n",
    "        # 해시 테이블의 크기만큼의 길이가 고정된 리스트 데이터를 생성 \n",
    "        self.table = [None] * self.capacity\n",
    "\n",
    "    # 해시값을 생성하는 함수\n",
    "    def hash_value(self, key : Any) -> int:\n",
    "        # key 값으로 들어오는 데이터가 숫자의 형태라면\n",
    "        if isinstance(key, int):\n",
    "        # if type(key) == 'int'\n",
    "            return key % self.capacity\n",
    "        # key가 숫자가 아니라면\n",
    "        return(\n",
    "            int(\n",
    "                hashlib.sha256(str(key).encode()).hexdigest()  # sha256은 문자 데이터를 16진수 형태의 데이터로 변환\n",
    "                , 16    # 16진수 데이터를 10진수 데이터로 변환\n",
    "            ) % self.capacity\n",
    "        )\n",
    "    # table에서 데이터를 검색하는 함수\n",
    "    def search(self, key : Any) -> Any:\n",
    "        # key 값을 hash 데이터로 변경 \n",
    "        hash = self.hash_value(key)\n",
    "        # 체인으로 연결되어있는 Node\n",
    "        p = self.table[hash]\n",
    "\n",
    "        while p:\n",
    "            if p.key == key:\n",
    "                # 검색을 성공했을때 해당하는 Node의 value를 출력력\n",
    "                return p.value\n",
    "            # 검색이 실패하는 경우에는 다음 Node로 이동\n",
    "            p = p.next\n",
    "        # 해당 인덱스에서 key가 존재하지 않는다면 \n",
    "        return None\n",
    "    \n",
    "    # 데이터를 추가하는 함수 \n",
    "    def add(self, key : Any, value : Any) -> bool:\n",
    "        # key값을 hash로 변경 \n",
    "        hash = self.hash_value(key)\n",
    "        p = self.table[hash]\n",
    "\n",
    "        while p is not None:\n",
    "            if p.key == key:\n",
    "                # 해당하는 키값에 데이터가 존재한다면 추가가 안되는 형태로 구현 \n",
    "                return False\n",
    "            p = p.next\n",
    "        \n",
    "        # 위의 반복문이 종료할때까지 False 데이터를 되돌려주지 않는다면 Node를 생성\n",
    "        temp = Node(key, value, self.table[hash])\n",
    "        # Node를 table의 특정 인덱스에 대입 \n",
    "        self.table[hash] = temp\n",
    "        return True\n",
    "\n",
    "    # 데이터를 삭제하는 함수 \n",
    "    def remove(self, key : Any) -> bool:\n",
    "        hash = self.hash_value(key)\n",
    "        # 주목하고 있는 노드 \n",
    "        p = self.table[hash]\n",
    "        # 주목 노드의 바로 앞의 노드  \n",
    "        pp = None\n",
    "\n",
    "        while p is not None:\n",
    "            if p.key == key:\n",
    "                if pp is None:\n",
    "                    self.table[hash] = p.next\n",
    "                else:\n",
    "                    pp.next = p.next\n",
    "                return True\n",
    "            pp = p\n",
    "            p = p.next\n",
    "        return False\n",
    "    # 전체 데이터를 확인하는 함수\n",
    "    def dump(self) -> None:\n",
    "        for i in range(self.capacity):\n",
    "            p = self.table[i]\n",
    "            print(i, end = ' ')\n",
    "            while p is not None:\n",
    "                # 해시 테이블에 존재하는 노드의 key와 value를 출력\n",
    "                print(f\" -> {p.key} : {p.value}\", end= '')\n",
    "                p = p.next\n",
    "            print()\n"
   ]
  },
  {
   "cell_type": "code",
   "execution_count": null,
   "id": "9353ed13",
   "metadata": {},
   "outputs": [],
   "source": [
    "# 특정 길이의 해시 테이블을 생성 -> Class 생성\n",
    "hash = ChainHash(13)"
   ]
  },
  {
   "cell_type": "code",
   "execution_count": null,
   "id": "f171ca0e",
   "metadata": {},
   "outputs": [],
   "source": [
    "# 데이터를 확인 \n",
    "hash.dump()"
   ]
  },
  {
   "cell_type": "code",
   "execution_count": null,
   "id": "b7c52c5f",
   "metadata": {},
   "outputs": [],
   "source": [
    "# 데이터를 추가 (hash는 key값에 13으로 나눈 나머지 값 -> 1이라는 인덱스에 데이터가 대입 )\n",
    "hash.add(1, 'A')"
   ]
  },
  {
   "cell_type": "code",
   "execution_count": null,
   "id": "80053555",
   "metadata": {},
   "outputs": [],
   "source": [
    "hash.dump()"
   ]
  },
  {
   "cell_type": "code",
   "execution_count": null,
   "id": "7997418c",
   "metadata": {},
   "outputs": [],
   "source": [
    "# 해시값이 1이 되는 key값을 사용\n",
    "hash.add(14, 'D')"
   ]
  },
  {
   "cell_type": "code",
   "execution_count": null,
   "id": "910c9a7d",
   "metadata": {},
   "outputs": [],
   "source": [
    "hash.dump()"
   ]
  },
  {
   "cell_type": "code",
   "execution_count": null,
   "id": "14980aa4",
   "metadata": {},
   "outputs": [],
   "source": [
    "# 데이터를 검색 \n",
    "hash.search(1)"
   ]
  },
  {
   "cell_type": "code",
   "execution_count": null,
   "id": "c1e2cf54",
   "metadata": {},
   "outputs": [],
   "source": [
    "# 데이터를 제거 \n",
    "hash.remove(1)"
   ]
  },
  {
   "cell_type": "code",
   "execution_count": null,
   "id": "5bfa8c56",
   "metadata": {},
   "outputs": [],
   "source": [
    "hash.dump()"
   ]
  },
  {
   "cell_type": "code",
   "execution_count": null,
   "id": "4b992896",
   "metadata": {},
   "outputs": [],
   "source": [
    "hash2 = ChainHash(10)"
   ]
  },
  {
   "cell_type": "code",
   "execution_count": null,
   "id": "5390b180",
   "metadata": {},
   "outputs": [],
   "source": [
    "from random import randint"
   ]
  },
  {
   "cell_type": "code",
   "execution_count": null,
   "id": "b908d171",
   "metadata": {},
   "outputs": [],
   "source": [
    "for i in range(50):\n",
    "    hash2.add(i, randint(1, 500))"
   ]
  },
  {
   "cell_type": "code",
   "execution_count": null,
   "id": "369094bb",
   "metadata": {},
   "outputs": [],
   "source": [
    "hash2.dump()"
   ]
  },
  {
   "cell_type": "code",
   "execution_count": null,
   "id": "cd62c820",
   "metadata": {},
   "outputs": [],
   "source": [
    "# key 값이 문제형 데이터인 경우 \n",
    "hash2.add('a', 'test_data')"
   ]
  },
  {
   "cell_type": "code",
   "execution_count": null,
   "id": "916d8081",
   "metadata": {},
   "outputs": [],
   "source": [
    "hash2.dump()"
   ]
  },
  {
   "cell_type": "code",
   "execution_count": null,
   "id": "e493bc01",
   "metadata": {},
   "outputs": [],
   "source": [
    "hash2.search('b')"
   ]
  },
  {
   "cell_type": "markdown",
   "id": "7082e439",
   "metadata": {},
   "source": [
    "### 오픈 주소법"
   ]
  },
  {
   "cell_type": "code",
   "execution_count": null,
   "id": "2f63bc00",
   "metadata": {},
   "outputs": [],
   "source": [
    "from enum import Enum\n",
    "# 의미가 있는 상수 집합을 정의할 때 사용\n",
    "Menu = Enum('Menu', ['추가', '삭제', '검색', '덤프'])"
   ]
  },
  {
   "cell_type": "code",
   "execution_count": null,
   "id": "446cb53e",
   "metadata": {},
   "outputs": [],
   "source": [
    "Menu(1) == Menu.삭제"
   ]
  },
  {
   "cell_type": "code",
   "execution_count": null,
   "id": "6145a544",
   "metadata": {},
   "outputs": [],
   "source": [
    "# 상속? -> 부모 클래스에 있는 기능(함수, 변수)을 자식 클래스에서 사용하도록 하는 기능\n",
    "# 상태를 나타내는 클래스\n",
    "class Status(Enum):\n",
    "    OCCUPIED = 0\n",
    "    EMPTY = 1\n",
    "    DELETED = 2\n",
    "\n",
    "class Bucket:\n",
    "\n",
    "    def __init__(self, key : Any = None, value : Any = None, stat : \"Status\" = Status.EMPTY):\n",
    "        self.key = key\n",
    "        self.value = value\n",
    "        self.stat = stat\n",
    "    \n",
    "    # 필드에 데이터를 대입\n",
    "    def set(self, key : Any, value : Any, stat : \"Status\"):\n",
    "        self.key = key\n",
    "        self.value = value\n",
    "        self.stat = stat\n",
    "\n",
    "    # 버킷의 상태를 변경하는 함수 \n",
    "    def set_status(self, stat : \"Status\"):\n",
    "        self.stat = stat\n",
    "# 오픈 주소법 class 선언\n",
    "class OpenHash : \n",
    "    def __init__(self, capacity : int) -> None:\n",
    "        self.capacity = capacity\n",
    "        # Bucket의 생성자 함수는 key, value는 None stat는 Status.EMPTY로 지정하여 크기만큼 배열을 생성\n",
    "        self.table = [Bucket()] * self.capacity\n",
    "\n",
    "    def hash_value(self, key : Any) -> int:\n",
    "        if isinstance(key, int):\n",
    "            return key % self.capacity\n",
    "        return(\n",
    "            int(\n",
    "                hashlib.sha256( str(key).encode() ).hexdigest(), 16\n",
    "            ) % self.capacity\n",
    "        )\n",
    "    # 재해시값을 생성하는 함수 : hash 데이터에 + 1\n",
    "    def refresh_hash(self, key : Any) -> int:\n",
    "        return( self.hash_value(key) + 1 )\n",
    "\n",
    "    def search_node(self, key : Any) -> Any:\n",
    "        hash = self.hash_value(key)\n",
    "        p = self.table[hash]\n",
    "        \n",
    "        for i in range(self.capacity):\n",
    "            if p.stat == Status.EMPTY:\n",
    "                break\n",
    "            elif p.stat == Status.OCCUPIED and p.key == key:\n",
    "                return p\n",
    "            # 해시를 재지정\n",
    "            hash = self.refresh_hash(hash) # hash에 + 1을 한다. \n",
    "            p = self.table[hash]\n",
    "        return None\n",
    "    \n",
    "    def search(self, key : Any) -> Any:\n",
    "        p = self.search_node(key)\n",
    "        if p is not None:\n",
    "            # 검색이 성공했을때\n",
    "            return p.value\n",
    "        else:\n",
    "            return None\n",
    "    \n",
    "    # 데이터를 추가하는 함수\n",
    "    def add(self, key : Any, value : Any) -> bool:\n",
    "        # key가 등록되어있는가? 확인\n",
    "        if self.search(key) is not None:\n",
    "            # 해당하는 key가 존재한다 -> 데이터를 대입하지 않는다.\n",
    "            return False\n",
    "\n",
    "        hash = self.hash_value(key)\n",
    "        p = self.table[hash]\n",
    "        for i in range(self.capacity):\n",
    "            if p.stat == Status.EMPTY or p.stat == Status.DELETED:\n",
    "                # 버킷의 상태가 비어있거나 삭제가 된 경우\n",
    "                # 데이터를 대입 (Bucket의 형태로)\n",
    "                self.table[hash] = Bucket(key, value, Status.OCCUPIED)\n",
    "                return True\n",
    "            hash = self.refresh_hash(hash)\n",
    "            p = self.table[hash]\n",
    "        return False\n",
    "    # 데이터를 제거하는 함수 \n",
    "    def remove(self, key : Any) -> bool:\n",
    "        # key 값의 데이터를 검색\n",
    "        p = self.search_node(key)\n",
    "        if p is None:\n",
    "            # 해당하는 key가 존재하지 않는다면\n",
    "            return False\n",
    "        # 해당 버킷의 상태만 삭제로 변경\n",
    "        # search_node 함수에서 데이터의 상태가 존재한다고 이고 key값이 동일해야만 존재이기 때문에\n",
    "        # 상태만 변경해도 데이터 조회는 불가능\n",
    "        p.set_status(Status.DELETED)\n",
    "    \n",
    "    # 전체 데이터를 확인하는 함수 \n",
    "    def dump(self) -> None:\n",
    "        for i in range(self.capacity):\n",
    "            print(f\"{i : 2}\", end=' ')\n",
    "            if self.table[i].stat == Status.OCCUPIED:\n",
    "                print(f\"{self.table[i].key} : {self.table[i].value}\")\n",
    "            elif self.table[i].stat == Status.EMPTY:\n",
    "                print(\" --비어있음--\")\n",
    "            elif self.table[i].stat == Status.DELETED:\n",
    "                print(\" --삭제 완료--\")\n",
    "\n",
    "\n"
   ]
  },
  {
   "cell_type": "code",
   "execution_count": null,
   "id": "21927ce7",
   "metadata": {},
   "outputs": [],
   "source": [
    "hash = OpenHash(13)"
   ]
  },
  {
   "cell_type": "code",
   "execution_count": null,
   "id": "1cc59edd",
   "metadata": {},
   "outputs": [],
   "source": [
    "hash.dump()"
   ]
  },
  {
   "cell_type": "code",
   "execution_count": null,
   "id": "00e94e28",
   "metadata": {},
   "outputs": [],
   "source": [
    "hash.add(3, 'C')"
   ]
  },
  {
   "cell_type": "code",
   "execution_count": null,
   "id": "a898874f",
   "metadata": {},
   "outputs": [],
   "source": [
    "hash.dump()"
   ]
  },
  {
   "cell_type": "code",
   "execution_count": null,
   "id": "8a5c31a4",
   "metadata": {},
   "outputs": [],
   "source": [
    "# hash가 3인 key값을 다시 대입 \n",
    "# 인덱스 3에 데이터가 존재하기 때문에 재해시를 하여 4번 인덱스에 데이터가 대입 \n",
    "hash.add(16, 'e')"
   ]
  },
  {
   "cell_type": "code",
   "execution_count": null,
   "id": "f8a232a5",
   "metadata": {},
   "outputs": [],
   "source": [
    "hash.dump()"
   ]
  },
  {
   "cell_type": "code",
   "execution_count": null,
   "id": "5af1be1c",
   "metadata": {},
   "outputs": [],
   "source": [
    "hash.add(10, 'ASD')"
   ]
  },
  {
   "cell_type": "code",
   "execution_count": null,
   "id": "53fe751c",
   "metadata": {},
   "outputs": [],
   "source": [
    "hash.dump()"
   ]
  },
  {
   "cell_type": "code",
   "execution_count": null,
   "id": "417efa85",
   "metadata": {},
   "outputs": [],
   "source": [
    "# key값이 10인 데이터를 제거 \n",
    "hash.remove(10)\n",
    "# Bucket의 10인덱스의 key와 value는 그대로 유지 stat만 Status.DELETED로 변경"
   ]
  },
  {
   "cell_type": "code",
   "execution_count": null,
   "id": "2224d70f",
   "metadata": {},
   "outputs": [],
   "source": [
    "hash.dump()"
   ]
  },
  {
   "cell_type": "code",
   "execution_count": 58,
   "id": "7c807029",
   "metadata": {},
   "outputs": [
    {
     "data": {
      "text/plain": [
       "True"
      ]
     },
     "execution_count": 58,
     "metadata": {},
     "output_type": "execute_result"
    }
   ],
   "source": [
    "hash.add(23, 'QWE')\n",
    "# Bucket의 key는 23으로 value는 'QWE\"로 변경 stat는 Status.OCCUPIED"
   ]
  },
  {
   "cell_type": "code",
   "execution_count": 59,
   "id": "55cd5c02",
   "metadata": {},
   "outputs": [
    {
     "name": "stdout",
     "output_type": "stream",
     "text": [
      " 0  --비어있음--\n",
      " 1  --비어있음--\n",
      " 2  --비어있음--\n",
      " 3 3 : C\n",
      " 4 16 : e\n",
      " 5  --비어있음--\n",
      " 6  --비어있음--\n",
      " 7  --비어있음--\n",
      " 8  --비어있음--\n",
      " 9  --비어있음--\n",
      " 10 23 : QWE\n",
      " 11  --비어있음--\n",
      " 12  --비어있음--\n"
     ]
    }
   ],
   "source": [
    "hash.dump()"
   ]
  },
  {
   "cell_type": "code",
   "execution_count": null,
   "id": "a20382a9",
   "metadata": {},
   "outputs": [],
   "source": []
  }
 ],
 "metadata": {
  "kernelspec": {
   "display_name": "Python 3",
   "language": "python",
   "name": "python3"
  },
  "language_info": {
   "codemirror_mode": {
    "name": "ipython",
    "version": 3
   },
   "file_extension": ".py",
   "mimetype": "text/x-python",
   "name": "python",
   "nbconvert_exporter": "python",
   "pygments_lexer": "ipython3",
   "version": "3.11.1"
  }
 },
 "nbformat": 4,
 "nbformat_minor": 5
}
