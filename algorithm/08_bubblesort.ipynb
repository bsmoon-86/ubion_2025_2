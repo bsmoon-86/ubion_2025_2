{
 "cells": [
  {
   "cell_type": "markdown",
   "id": "b7201f11",
   "metadata": {},
   "source": [
    "# 버블 정렬\n",
    "- 이웃한 두 원수의 대소 관계를 비교하여 필요에 따라 교환을 반복하는 알고리즘으로 단순 교환 정렬이라고도 한다. "
   ]
  },
  {
   "cell_type": "code",
   "execution_count": null,
   "id": "3975ee91",
   "metadata": {},
   "outputs": [
    {
     "name": "stdout",
     "output_type": "stream",
     "text": [
      "버블 정렬을 수행합니다.\n",
      "비교를 21번 했습니다.\n",
      "교환을 6번 했습니다.\n",
      "오름차순으로 정렬했습니다.\n",
      "x[0] = 1\n",
      "x[1] = 3\n",
      "x[2] = 4\n",
      "x[3] = 6\n",
      "x[4] = 7\n",
      "x[5] = 8\n",
      "x[6] = 9\n"
     ]
    }
   ],
   "source": [
    "from typing import MutableSequence\n",
    "\n",
    "def bubble_sort(a: MutableSequence) -> None:\n",
    "    \"\"\"버블 정렬\"\"\"\n",
    "    ccnt = 0  # 비교 횟수\n",
    "    scnt = 0  # 교환 횟수\n",
    "    n = len(a)\n",
    "    for i in range(n - 1):\n",
    "        for j in range(n - 1, i, -1):\n",
    "            # 조건식의 부등호를 반대로 하면 오름차순, 내림차순 정렬로 변경 가능\n",
    "            ccnt += 1\n",
    "            if a[j - 1] > a[j]:\n",
    "                scnt += 1\n",
    "                a[j - 1], a[j] = a[j], a[j - 1]\n",
    "    print(f\"비교를 {ccnt}번 했습니다.\")\n",
    "    print(f\"교환을 {scnt}번 했습니다.\")\n",
    "\n",
    "\n",
    "\n",
    "print('버블 정렬을 수행합니다.')\n",
    "x = [1,3,9,4,7,8,6]\n",
    "\n",
    "bubble_sort(x)  # 배열 x를 버블 정렬\n",
    "\n",
    "print('오름차순으로 정렬했습니다.')\n",
    "for i in range(len(x)):\n",
    "    print(f'x[{i}] = {x[i]}')"
   ]
  },
  {
   "cell_type": "code",
   "execution_count": null,
   "id": "2ed541b3",
   "metadata": {},
   "outputs": [
    {
     "name": "stdout",
     "output_type": "stream",
     "text": [
      "버블 정렬을 수행합니다.\n",
      "비교를 20번 했습니다.\n",
      "교환을 6번 했습니다.\n",
      "오름차순으로 정렬했습니다.\n",
      "x[0] = 1\n",
      "x[1] = 3\n",
      "x[2] = 4\n",
      "x[3] = 6\n",
      "x[4] = 7\n",
      "x[5] = 8\n",
      "x[6] = 9\n"
     ]
    }
   ],
   "source": [
    "# 알고리즘 개선1 (교환 횟수가 0이라면 정렬이 완료가 된 부분이므로 이후의 작업은 불필요)\n",
    "\n",
    "from typing import MutableSequence\n",
    "\n",
    "def bubble_sort(a: MutableSequence) -> None:\n",
    "    \"\"\"버블 정렬(교환 횟수에 따른 중단)\"\"\"\n",
    "    ccnt = 0  # 비교 횟수\n",
    "    scnt = 0  # 교환 횟수\n",
    "    n = len(a)\n",
    "    for i in range(n - 1):\n",
    "        exchng = 0  # 패스에서 교환 횟수\n",
    "        for j in range(n - 1, i, -1):\n",
    "            ccnt += 1\n",
    "            if a[j - 1] > a[j]:\n",
    "                scnt += 1\n",
    "                a[j - 1], a[j] = a[j], a[j - 1]\n",
    "                exchng += 1\n",
    "        if exchng == 0:\n",
    "            break\n",
    "    print(f\"비교를 {ccnt}번 했습니다.\")\n",
    "    print(f\"교환을 {scnt}번 했습니다.\")\n",
    "\n",
    "print('버블 정렬을 수행합니다.')\n",
    "x = [1,3,9,4,7,8,6]\n",
    "\n",
    "bubble_sort(x)  # 배열 x를 버블 정렬\n",
    "\n",
    "print('오름차순으로 정렬했습니다.')\n",
    "for i in range(len(x)):\n",
    "    print(f'x[{i}] = {x[i]}')"
   ]
  },
  {
   "cell_type": "code",
   "execution_count": null,
   "id": "8685b121",
   "metadata": {},
   "outputs": [
    {
     "name": "stdout",
     "output_type": "stream",
     "text": [
      "버블 정렬을 수행합니다.\n",
      "비교를 12번 했습니다.\n",
      "교환을 6번 했습니다.\n",
      "오름차순으로 정렬했습니다.\n",
      "x[0] = 1\n",
      "x[1] = 3\n",
      "x[2] = 4\n",
      "x[3] = 6\n",
      "x[4] = 7\n",
      "x[5] = 8\n",
      "x[6] = 9\n"
     ]
    }
   ],
   "source": [
    "# 알고리즘 개선2 (마지막 교환 위치를 지정하여 교환 범위를 줄여준다.)\n",
    "\n",
    "from typing import MutableSequence\n",
    "\n",
    "def bubble_sort(a: MutableSequence) -> None:\n",
    "    \"\"\"버블 정렬(스캔 범위를 제한)\"\"\"\n",
    "    ccnt = 0  # 비교 횟수\n",
    "    scnt = 0  # 교환 횟수\n",
    "    n = len(a)\n",
    "    k = 0\n",
    "    while k < n - 1:\n",
    "        last = n - 1\n",
    "        for j in range(n - 1, k, -1):\n",
    "            ccnt += 1\n",
    "            if a[j - 1] > a[j]:\n",
    "                scnt += 1\n",
    "                a[j - 1], a[j] = a[j], a[j - 1]\n",
    "                last = j\n",
    "        # 마지막 교환 지점을 k에 대입하여 for문에서 범위를 좁혀준다.\n",
    "        k = last\n",
    "    print(f\"비교를 {ccnt}번 했습니다.\")\n",
    "    print(f\"교환을 {scnt}번 했습니다.\")\n",
    "\n",
    "print('버블 정렬을 수행합니다.')\n",
    "x = [1,3,9,4,7,8,6]\n",
    "\n",
    "bubble_sort(x)  # 배열 x를 버블 정렬\n",
    "\n",
    "print('오름차순으로 정렬했습니다.')\n",
    "for i in range(len(x)):\n",
    "    print(f'x[{i}] = {x[i]}')"
   ]
  }
 ],
 "metadata": {
  "kernelspec": {
   "display_name": "Python 3",
   "language": "python",
   "name": "python3"
  },
  "language_info": {
   "codemirror_mode": {
    "name": "ipython",
    "version": 3
   },
   "file_extension": ".py",
   "mimetype": "text/x-python",
   "name": "python",
   "nbconvert_exporter": "python",
   "pygments_lexer": "ipython3",
   "version": "3.13.2"
  }
 },
 "nbformat": 4,
 "nbformat_minor": 5
}
