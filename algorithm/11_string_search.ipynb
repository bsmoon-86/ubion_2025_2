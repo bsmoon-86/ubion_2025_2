{
 "cells": [
  {
   "cell_type": "markdown",
   "id": "858a92a7",
   "metadata": {},
   "source": [
    "# 브투르 포스법\n",
    "- 선형 검색을 단순하게 확장한 알고리즘\n"
   ]
  },
  {
   "cell_type": "code",
   "execution_count": null,
   "id": "7e08555c",
   "metadata": {},
   "outputs": [
    {
     "name": "stdout",
     "output_type": "stream",
     "text": [
      "8번째 문자에서 일치합니다.\n"
     ]
    }
   ],
   "source": [
    "def bf_match(txt: str, pat: str) -> int:\n",
    "    \"\"\"브루트 포스법으로 문자열 검색\"\"\"\n",
    "    pt = 0  # txt(텍스트)를 따라가는 커서\n",
    "    pp = 0  # pat(패턴)를 따라가는 커서\n",
    "\n",
    "    while pt != len(txt) and pp != len(pat):\n",
    "        if txt[pt] == pat[pp]:\n",
    "            # 커서의 위치를 둘다 1씩 증가\n",
    "            pt += 1\n",
    "            pp += 1\n",
    "        else:\n",
    "            # 텍스트 커서의 위치를 패턴 커서 만큼 빼고 +1을 해서 커서의 위치를 지정\n",
    "            pt = pt - pp + 1\n",
    "            # 패턴 커서는 초기화\n",
    "            pp = 0\n",
    "\n",
    "    return pt - pp if pp == len(pat) else -1\n",
    "\n",
    "\n",
    "# s1 = input('텍스트를 입력하세요.: ')  # 텍스트용 문자열\n",
    "# s2 = input('패턴을 입력하세요.: ')    # 패턴용 문자열\n",
    "\n",
    "s1 = 'Hello World'\n",
    "s2 = 'orl'\n",
    "\n",
    "idx = bf_match(s1, s2)  # 문자열 s1~s2를 브루트 포스법으로 검색\n",
    "\n",
    "if idx == -1:\n",
    "    print('텍스트 안에 패턴이 존재하지 않습니다.')\n",
    "else:\n",
    "    print(f'{(idx + 1)}번째 문자에서 일치합니다.')"
   ]
  },
  {
   "cell_type": "markdown",
   "id": "3a099f98",
   "metadata": {},
   "source": [
    "# KMP법\n",
    "- 브루트 포스법은 일치하지 않은 문자를 만나면 다시 첫 문자부터 검사를 수행하지만 KMP법은 검사한 결과를 효율적으로 사용하는 알고리즘"
   ]
  },
  {
   "cell_type": "code",
   "execution_count": 10,
   "id": "af59a1f8",
   "metadata": {},
   "outputs": [
    {
     "name": "stdout",
     "output_type": "stream",
     "text": [
      "[0, 0, 0, 1, 2, 3, 4]\n",
      "0 0\n",
      "A A\n",
      "1 1\n",
      "B B\n",
      "2 2\n",
      "A A\n",
      "3 3\n",
      "B B\n",
      "4 4\n",
      "A A\n",
      "5 5\n",
      "C B\n",
      "5 3\n",
      "C B\n",
      "5 1\n",
      "C B\n",
      "5 0\n",
      "C A\n",
      "6 0\n",
      "A A\n",
      "7 1\n",
      "B B\n",
      "8 2\n",
      "A A\n",
      "9 3\n",
      "B B\n",
      "10 4\n",
      "A A\n",
      "11 5\n",
      "B B\n",
      "7번째 문자에서 일치합니다.\n"
     ]
    }
   ],
   "source": [
    "def kmp_match(txt: str, pat: str) -> int:\n",
    "    \"\"\"KMP법에 의한 문자열 검색\"\"\"\n",
    "    pt = 1  # txt를 따라가는 커서\n",
    "    pp = 0  # pat를 따라가는 커서\n",
    "    skip = [0] * (len(pat) + 1)  # 건너뛰기 표\n",
    "\n",
    "    # 건너뛰기 표 만들기\n",
    "    skip[pt] = 0\n",
    "    while pt != len(pat):\n",
    "        if pat[pt] == pat[pp]:\n",
    "            pt += 1\n",
    "            pp += 1\n",
    "            skip[pt] = pp\n",
    "        elif pp == 0:\n",
    "            pt += 1\n",
    "            skip[pt] = pp\n",
    "        else:\n",
    "            pp = skip[pp]\n",
    "    print(skip)\n",
    "\n",
    "    # 검색하기\n",
    "    pt = pp = 0\n",
    "    while pt != len(txt) and pp != len(pat):\n",
    "        print(pt, pp)\n",
    "        print(txt[pt], pat[pp])\n",
    "        if txt[pt] == pat[pp]:\n",
    "            pt += 1\n",
    "            pp += 1\n",
    "        elif pp == 0:\n",
    "            pt += 1\n",
    "        else:\n",
    "            pp = skip[pp]\n",
    "\n",
    "    return pt - pp if pp == len(pat) else -1\n",
    "\n",
    "\n",
    "s1 = 'ABABACABABABA'\n",
    "s2 = 'ABABAB'\n",
    "\n",
    "idx = kmp_match(s1, s2) \n",
    "\n",
    "if idx == -1:\n",
    "    print('텍스트 안에 패턴이 존재하지 않습니다.')\n",
    "else:\n",
    "    print(f'{(idx + 1)}번째 문자에서 일치합니다.')"
   ]
  }
 ],
 "metadata": {
  "kernelspec": {
   "display_name": "Python 3",
   "language": "python",
   "name": "python3"
  },
  "language_info": {
   "codemirror_mode": {
    "name": "ipython",
    "version": 3
   },
   "file_extension": ".py",
   "mimetype": "text/x-python",
   "name": "python",
   "nbconvert_exporter": "python",
   "pygments_lexer": "ipython3",
   "version": "3.13.2"
  }
 },
 "nbformat": 4,
 "nbformat_minor": 5
}
