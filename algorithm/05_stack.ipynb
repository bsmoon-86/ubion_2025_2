{
 "cells": [
  {
   "cell_type": "markdown",
   "id": "8b430697",
   "metadata": {},
   "source": [
    "# 스택 \n",
    "- 데이터를 임시 저장하는 기본 자료 구조\n",
    "- 데이터의 입력과 출력 순서는 후입선출(LIFO) 방식을 사용\n",
    "    - LIFO\n",
    "        - 가장 나중에 넣은 데이터를 가장 먼저 꺼내는 방식\n",
    "        - 데이터를 1, 2, 3를 순서로 넣어준다면 꺼낼때는 3, 2, 1 순서로 데이터를 출력\n",
    "    - 푸시(push)\n",
    "        - 스택에 데이터를 대입하는 작업\n",
    "    - 팝(pop)\n",
    "        - 스택에서 데이터를 꺼내는 작업"
   ]
  },
  {
   "cell_type": "code",
   "execution_count": 1,
   "id": "79d95ddd",
   "metadata": {},
   "outputs": [],
   "source": [
    "from typing import Any"
   ]
  },
  {
   "cell_type": "code",
   "execution_count": 15,
   "id": "59d3312b",
   "metadata": {},
   "outputs": [],
   "source": [
    "class FixedStack:\n",
    "    # 고정길이의 스택을 생성\n",
    "\n",
    "    class Empty(Exception):\n",
    "        # 비어있는 스택에서 데이터를 꺼내거나 데이터를 조회할때 호출하는 예외 처리 \n",
    "        pass\n",
    "    \n",
    "    class Full(Exception):\n",
    "        # 가득 찬 스택에 데이터를 추가하는 경우 호출하는 예외 처리 \n",
    "        pass\n",
    "\n",
    "    # 생성자 함수\n",
    "    def __init__(self, capacity : int = 256) -> None:\n",
    "        # 스택의 크기\n",
    "        self.capacity = capacity\n",
    "        # 스택의 배열 데이터\n",
    "        self.stk = [None] * self.capacity\n",
    "        # 스택의 포인터\n",
    "        self.ptr = 0\n",
    "    \n",
    "    # 스택의 길이를 출력하는 함수 \n",
    "    def __len__(self) -> int:\n",
    "        return self.ptr\n",
    "\n",
    "    # 스택에 데이터가 비어있는가? 함수 생성\n",
    "    def is_empty(self) -> bool:\n",
    "        # 데이터가 비어있는 조건은 포인터가 0인 경우\n",
    "        return self.ptr <= 0\n",
    "    \n",
    "    # 스택에 데이터가 가득 차있는가? 함수 생성\n",
    "    def is_full(self) -> bool:\n",
    "        # 데이터가 가득찬 조건 포인터가 스택의 크기와 같은 경우\n",
    "        return self.ptr >= self.capacity\n",
    "\n",
    "    # 데이터를 대입하는 함수를 생성\n",
    "    def push(self, value : Any) -> None:\n",
    "        # 스택에 데이터가 가득 차있는가?\n",
    "        if self.is_full():\n",
    "            # raise는 예외 처리\n",
    "            raise FixedStack.Full\n",
    "        # 가득 차지 않은 경우\n",
    "        self.stk[self.ptr] = value\n",
    "        # 대입이 완료한 뒤 포인터를 1 증가 시킨다\n",
    "        self.ptr += 1\n",
    "    \n",
    "    # 데이터를 추출하는 함수 생성\n",
    "    def pop(self) -> Any:\n",
    "        # 데이터를 추출할때 데이터가 비어있다면 예외\n",
    "        if self.is_empty():\n",
    "            raise FixedStack.Empty\n",
    "        # 포인터를 1 감소시킨다. \n",
    "        self.ptr -= 1\n",
    "        return self.stk[self.ptr]\n",
    "        # self.stk의 배열 안에 원소를 None으로 변경하지 않는다. \n",
    "        # 포인터의 값을 기준으로 데이터를 확인하기때문에 배열 안에 원소를 변경할 필요가 없다.\n",
    "        \n",
    "    # 스택의 전체 데이터를 확인하는 함수\n",
    "    def dump(self) -> None:\n",
    "        # 스택에서 바닥부터 꼭대기까지의 데이터를 모두 확인하는 함수 \n",
    "        if self.is_empty():\n",
    "            print('스택이 비어있습니다.')\n",
    "        else:\n",
    "            print(self.stk[ : self.ptr])\n",
    "    \n",
    "    # 스택에 있는 마지막 데이터를 확인 하는 함수 \n",
    "    def peek(self) -> Any:\n",
    "        if self.is_empty():\n",
    "            raise FixedStack.Empty\n",
    "        # 데이터를 제거하는 부분이 아니기 때문에 포인터의 변경은 없다. \n",
    "        return self.stk[self.ptr - 1]\n",
    "\n",
    "    # 스택을 초기화 하는 함수 \n",
    "    def clear(self) -> None:\n",
    "        # 포인터를 기준으로 스택의 데이터를 확인하기 때문에 포인터를 0으로 변경하면 초기화\n",
    "        self.ptr = 0\n",
    "    \n",
    "    # value의 위치를 출력하는 함수 \n",
    "    def find(self, value : Any) -> int:\n",
    "        # 스택에서 해당하는 value의 위치를 출력\n",
    "        # 포인터를 기준으로 역순으로 데이터를 확인 \n",
    "        for i in range(self.ptr - 1 , -1, -1):\n",
    "            if self.stk[i] == value:\n",
    "                # 검색에 성공한다면 인덱스의 값을 출력\n",
    "                return i\n",
    "        return -1\n",
    "    \n",
    "    # value의 개수를 출력하는 함수 생성\n",
    "    def count(self, value : Any) -> int:\n",
    "        cnt = 0\n",
    "        for i in range(self.ptr):\n",
    "            if self.stk[i] == value:\n",
    "                # 데이터가 존재한다면 cnt를 1 증가시킨다. \n",
    "                cnt += 1\n",
    "        return cnt\n",
    "    \n",
    "    # in이라는 연산자를 사용하기 위해서 함수 생성 \n",
    "    def __contains__(self, value : Any) -> int:\n",
    "        return self.count(value)\n",
    "        \n",
    "\n"
   ]
  },
  {
   "cell_type": "code",
   "execution_count": 16,
   "id": "749058df",
   "metadata": {},
   "outputs": [],
   "source": [
    "# stack class를 생성 \n",
    "test_stack = FixedStack(20)"
   ]
  },
  {
   "cell_type": "code",
   "execution_count": 17,
   "id": "21103fe3",
   "metadata": {},
   "outputs": [
    {
     "ename": "Empty",
     "evalue": "",
     "output_type": "error",
     "traceback": [
      "\u001b[1;31m---------------------------------------------------------------------------\u001b[0m",
      "\u001b[1;31mEmpty\u001b[0m                                     Traceback (most recent call last)",
      "Cell \u001b[1;32mIn[17], line 2\u001b[0m\n\u001b[0;32m      1\u001b[0m \u001b[38;5;66;03m# 비어있는 스택에서 pop을 사용\u001b[39;00m\n\u001b[1;32m----> 2\u001b[0m \u001b[43mtest_stack\u001b[49m\u001b[38;5;241;43m.\u001b[39;49m\u001b[43mpop\u001b[49m\u001b[43m(\u001b[49m\u001b[43m)\u001b[49m\n",
      "Cell \u001b[1;32mIn[15], line 50\u001b[0m, in \u001b[0;36mFixedStack.pop\u001b[1;34m(self)\u001b[0m\n\u001b[0;32m     47\u001b[0m \u001b[38;5;28;01mdef\u001b[39;00m \u001b[38;5;21mpop\u001b[39m(\u001b[38;5;28mself\u001b[39m) \u001b[38;5;241m-\u001b[39m\u001b[38;5;241m>\u001b[39m Any:\n\u001b[0;32m     48\u001b[0m     \u001b[38;5;66;03m# 데이터를 추출할때 데이터가 비어있다면 예외\u001b[39;00m\n\u001b[0;32m     49\u001b[0m     \u001b[38;5;28;01mif\u001b[39;00m \u001b[38;5;28mself\u001b[39m\u001b[38;5;241m.\u001b[39mis_empty():\n\u001b[1;32m---> 50\u001b[0m         \u001b[38;5;28;01mraise\u001b[39;00m FixedStack\u001b[38;5;241m.\u001b[39mEmpty\n\u001b[0;32m     51\u001b[0m     \u001b[38;5;66;03m# 포인터를 1 감소시킨다. \u001b[39;00m\n\u001b[0;32m     52\u001b[0m     \u001b[38;5;28mself\u001b[39m\u001b[38;5;241m.\u001b[39mptr \u001b[38;5;241m-\u001b[39m\u001b[38;5;241m=\u001b[39m \u001b[38;5;241m1\u001b[39m\n",
      "\u001b[1;31mEmpty\u001b[0m: "
     ]
    }
   ],
   "source": [
    "# 비어있는 스택에서 pop을 사용\n",
    "test_stack.pop()"
   ]
  },
  {
   "cell_type": "code",
   "execution_count": 18,
   "id": "803c21fc",
   "metadata": {},
   "outputs": [],
   "source": [
    "test_stack.push(10)"
   ]
  },
  {
   "cell_type": "code",
   "execution_count": 19,
   "id": "df4c7025",
   "metadata": {},
   "outputs": [],
   "source": [
    "test_stack.push(20)"
   ]
  },
  {
   "cell_type": "code",
   "execution_count": 20,
   "id": "e2e64ca9",
   "metadata": {},
   "outputs": [
    {
     "name": "stdout",
     "output_type": "stream",
     "text": [
      "[10, 20]\n"
     ]
    }
   ],
   "source": [
    "test_stack.dump()"
   ]
  },
  {
   "cell_type": "code",
   "execution_count": 21,
   "id": "c9fdd126",
   "metadata": {},
   "outputs": [
    {
     "data": {
      "text/plain": [
       "20"
      ]
     },
     "execution_count": 21,
     "metadata": {},
     "output_type": "execute_result"
    }
   ],
   "source": [
    "test_stack.pop()"
   ]
  },
  {
   "cell_type": "code",
   "execution_count": 22,
   "id": "18d2f505",
   "metadata": {},
   "outputs": [
    {
     "name": "stdout",
     "output_type": "stream",
     "text": [
      "[10]\n"
     ]
    }
   ],
   "source": [
    "test_stack.dump()"
   ]
  },
  {
   "cell_type": "code",
   "execution_count": 23,
   "id": "9ae23643",
   "metadata": {},
   "outputs": [
    {
     "data": {
      "text/plain": [
       "[10,\n",
       " 20,\n",
       " None,\n",
       " None,\n",
       " None,\n",
       " None,\n",
       " None,\n",
       " None,\n",
       " None,\n",
       " None,\n",
       " None,\n",
       " None,\n",
       " None,\n",
       " None,\n",
       " None,\n",
       " None,\n",
       " None,\n",
       " None,\n",
       " None,\n",
       " None]"
      ]
     },
     "execution_count": 23,
     "metadata": {},
     "output_type": "execute_result"
    }
   ],
   "source": [
    "test_stack.stk"
   ]
  },
  {
   "cell_type": "code",
   "execution_count": 24,
   "id": "cb8b5235",
   "metadata": {},
   "outputs": [
    {
     "data": {
      "text/plain": [
       "1"
      ]
     },
     "execution_count": 24,
     "metadata": {},
     "output_type": "execute_result"
    }
   ],
   "source": [
    "test_stack.ptr"
   ]
  },
  {
   "cell_type": "code",
   "execution_count": null,
   "id": "9420b491",
   "metadata": {},
   "outputs": [
    {
     "data": {
      "text/plain": [
       "10"
      ]
     },
     "execution_count": 25,
     "metadata": {},
     "output_type": "execute_result"
    }
   ],
   "source": [
    "# peek() 함수를 가장 마지막의 데이터를 조회 -> 포인터의 변화 X -> 스택은 그대로 유지지\n",
    "test_stack.peek()"
   ]
  },
  {
   "cell_type": "code",
   "execution_count": 26,
   "id": "1cd8cf93",
   "metadata": {},
   "outputs": [
    {
     "name": "stdout",
     "output_type": "stream",
     "text": [
      "[10]\n"
     ]
    }
   ],
   "source": [
    "test_stack.dump()"
   ]
  },
  {
   "cell_type": "code",
   "execution_count": 27,
   "id": "decb5b33",
   "metadata": {},
   "outputs": [],
   "source": [
    "test_stack.push(30)"
   ]
  },
  {
   "cell_type": "code",
   "execution_count": 28,
   "id": "4e034fc5",
   "metadata": {},
   "outputs": [
    {
     "name": "stdout",
     "output_type": "stream",
     "text": [
      "[10, 30]\n"
     ]
    }
   ],
   "source": [
    "test_stack.dump()"
   ]
  },
  {
   "cell_type": "code",
   "execution_count": 29,
   "id": "624217ca",
   "metadata": {},
   "outputs": [],
   "source": [
    "# clear() 함수를 사용\n",
    "test_stack.clear()"
   ]
  },
  {
   "cell_type": "code",
   "execution_count": 30,
   "id": "457797f0",
   "metadata": {},
   "outputs": [
    {
     "name": "stdout",
     "output_type": "stream",
     "text": [
      "스택이 비어있습니다.\n"
     ]
    }
   ],
   "source": [
    "test_stack.dump()"
   ]
  },
  {
   "cell_type": "code",
   "execution_count": 31,
   "id": "eb4a83ed",
   "metadata": {},
   "outputs": [],
   "source": [
    "from random import randint "
   ]
  },
  {
   "cell_type": "code",
   "execution_count": 32,
   "id": "eb470c28",
   "metadata": {},
   "outputs": [],
   "source": [
    "for i in range(10):\n",
    "    test_stack.push(randint(1, 100))"
   ]
  },
  {
   "cell_type": "code",
   "execution_count": 33,
   "id": "befa5cff",
   "metadata": {},
   "outputs": [
    {
     "name": "stdout",
     "output_type": "stream",
     "text": [
      "[64, 50, 69, 83, 72, 2, 87, 63, 32, 46]\n"
     ]
    }
   ],
   "source": [
    "test_stack.dump()"
   ]
  },
  {
   "cell_type": "code",
   "execution_count": 34,
   "id": "fec60be8",
   "metadata": {},
   "outputs": [],
   "source": [
    "# 중복된 데이터를 대입 \n",
    "test_stack.push(50)"
   ]
  },
  {
   "cell_type": "code",
   "execution_count": null,
   "id": "9f4f4445",
   "metadata": {},
   "outputs": [
    {
     "data": {
      "text/plain": [
       "9"
      ]
     },
     "execution_count": 36,
     "metadata": {},
     "output_type": "execute_result"
    }
   ],
   "source": [
    "# find() 함수는 인덱스는 역순으로 조회하여 처음 조건식에 맞는 인덱스를 출력 \n",
    "test_stack.find(46)"
   ]
  },
  {
   "cell_type": "code",
   "execution_count": null,
   "id": "89743050",
   "metadata": {},
   "outputs": [
    {
     "data": {
      "text/plain": [
       "11"
      ]
     },
     "execution_count": 37,
     "metadata": {},
     "output_type": "execute_result"
    }
   ],
   "source": [
    "# class에서 __len__() 함수를 생성하였기 때문\n",
    "len(test_stack)"
   ]
  },
  {
   "cell_type": "code",
   "execution_count": 41,
   "id": "2c34b4f5",
   "metadata": {},
   "outputs": [
    {
     "data": {
      "text/plain": [
       "0"
      ]
     },
     "execution_count": 41,
     "metadata": {},
     "output_type": "execute_result"
    }
   ],
   "source": [
    "# count() 함수를 확인 \n",
    "test_stack.count(1)"
   ]
  },
  {
   "cell_type": "code",
   "execution_count": 40,
   "id": "4689f8ba",
   "metadata": {},
   "outputs": [
    {
     "data": {
      "text/plain": [
       "False"
      ]
     },
     "execution_count": 40,
     "metadata": {},
     "output_type": "execute_result"
    }
   ],
   "source": [
    "# __contains__() 함수의 결과를 bool의 형태로 보여준다. \n",
    "1 in test_stack"
   ]
  },
  {
   "cell_type": "code",
   "execution_count": null,
   "id": "52035d08",
   "metadata": {},
   "outputs": [],
   "source": []
  }
 ],
 "metadata": {
  "kernelspec": {
   "display_name": "Python 3",
   "language": "python",
   "name": "python3"
  },
  "language_info": {
   "codemirror_mode": {
    "name": "ipython",
    "version": 3
   },
   "file_extension": ".py",
   "mimetype": "text/x-python",
   "name": "python",
   "nbconvert_exporter": "python",
   "pygments_lexer": "ipython3",
   "version": "3.11.1"
  }
 },
 "nbformat": 4,
 "nbformat_minor": 5
}
