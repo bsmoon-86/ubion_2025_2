{
 "cells": [
  {
   "cell_type": "markdown",
   "id": "ab895406",
   "metadata": {},
   "source": [
    "# 퀵정렬\n",
    "- 일반적으로 가장 빠른 정렬 방식\n",
    "- 배열에서 가운데 위치의 원소(피벗)를 기준으로 피벗 이하인 데이터와 이상인 그룹으로 나눠준다. \n",
    "- 다시 각 그룹에서 피벗을 지정하여 나누기를 반복하며 각 그룹에 1개의 원소만 남으면 정렬이 완료"
   ]
  },
  {
   "cell_type": "code",
   "execution_count": null,
   "id": "b8520881",
   "metadata": {},
   "outputs": [
    {
     "name": "stdout",
     "output_type": "stream",
     "text": [
      "배열을 나눕니다.\n",
      "피벗은 6입니다.\n",
      "피벗 이하인 그룹입니다.\n",
      "5 3 1 4 2\n",
      "피벗 이상인 그룹입니다.\n",
      "6 7 9 8\n"
     ]
    }
   ],
   "source": [
    "# 배열을 두개의 그룹으로 나누기\n",
    "\n",
    "from typing import MutableSequence\n",
    "\n",
    "def partition(a: MutableSequence) -> None:\n",
    "    \"\"\"배열을 분할하여 출력\"\"\"\n",
    "    n = len(a)\n",
    "    pl = 0         # 왼쪽 커서\n",
    "    pr = n - 1     # 오른쪽 커서\n",
    "    x = a[n // 2]  # 피벗(가운데 원소)\n",
    "\n",
    "    while pl <= pr:\n",
    "        while a[pl] < x: pl += 1\n",
    "        while a[pr] > x: pr -= 1\n",
    "        if pl <= pr:\n",
    "            a[pl], a[pr] = a[pr], a[pl]\n",
    "            pl += 1\n",
    "            pr -= 1\n",
    "\n",
    "    print(f'피벗은 {x}입니다.')\n",
    "\n",
    "    print('피벗 이하인 그룹입니다.')\n",
    "    print(*a[0 : pl])           # a[0] ~ a[pl - 1]\n",
    "\n",
    "    print('피벗 이상인 그룹입니다.')\n",
    "    print(*a[pr + 1 : n])       # a[pr + 1] ~ a[n - 1]\n",
    "\n",
    "\n",
    "print('배열을 나눕니다.')\n",
    "# num = int(input('원소 수를 입력하세요.: '))\n",
    "# x = [None] * num    # 원소 수가 num인 배열을 생성\n",
    "\n",
    "# for i in range(num):\n",
    "#     x[i] = int(input(f'x[{i}]: '))\n",
    "x = [5, 7, 1, 4, 6, 2, 3, 9, 8]\n",
    "\n",
    "partition(x)         # 배열 x를 나누어서 출력"
   ]
  },
  {
   "cell_type": "code",
   "execution_count": 16,
   "id": "694d9347",
   "metadata": {},
   "outputs": [
    {
     "name": "stdout",
     "output_type": "stream",
     "text": [
      "피벗은 5입니다.\n",
      "피벗 이하인 그룹입니다.\n",
      "1 2 5 4\n",
      "피벗 이상인 그룹입니다.\n",
      "7 8 6 8 9\n"
     ]
    }
   ],
   "source": [
    "x = [1, 8, 7, 4, 5, 2, 6, 8, 9]\n",
    "partition(x)"
   ]
  },
  {
   "cell_type": "code",
   "execution_count": 9,
   "id": "5e24d263",
   "metadata": {},
   "outputs": [
    {
     "name": "stdout",
     "output_type": "stream",
     "text": [
      "퀵 정렬을 수행합니다.\n",
      "오름차순으로 정렬했습니다.\n",
      "x[0] = 1\n",
      "x[1] = 2\n",
      "x[2] = 3\n",
      "x[3] = 4\n",
      "x[4] = 5\n",
      "x[5] = 6\n",
      "x[6] = 7\n",
      "x[7] = 8\n",
      "x[8] = 9\n"
     ]
    }
   ],
   "source": [
    "# 퀵 정렬 알고리즘 구현\n",
    "\n",
    "from typing import MutableSequence\n",
    "\n",
    "def qsort(a: MutableSequence, left: int, right: int) -> None:\n",
    "    \"\"\"a[left] ~ a[right]를 퀵 정렬\"\"\"\n",
    "    pl = left                   # 왼쪽 커서\n",
    "    pr = right                  # 오른쪽 커서\n",
    "    x = a[(left + right) // 2]  # 피벗(가운데 요소)\n",
    "\n",
    "    while pl <= pr:    # 실습 6-10과 같은 while 문\n",
    "        while a[pl] < x: pl += 1\n",
    "        while a[pr] > x: pr -= 1\n",
    "        if pl <= pr:\n",
    "            a[pl], a[pr] = a[pr], a[pl]\n",
    "            pl += 1\n",
    "            pr -= 1\n",
    "\n",
    "    if left < pr: qsort(a, left, pr)\n",
    "    if pl < right: qsort(a, pl, right)\n",
    "\n",
    "def quick_sort(a: MutableSequence) -> None:\n",
    "    \"\"\"퀵 정렬\"\"\"\n",
    "    qsort(a, 0, len(a) - 1)\n",
    "\n",
    "\n",
    "print('퀵 정렬을 수행합니다.')\n",
    "# num = int(input('원소 수를 입력하세요.: '))\n",
    "# x = [None] * num   # 원소 수가 num인 배열을 생성\n",
    "\n",
    "# for i in range(num):\n",
    "#     x[i] = int(input(f'x[{i}]: '))\n",
    "x = [5, 7, 1, 4, 6, 2, 3, 9, 8]\n",
    "\n",
    "quick_sort(x)      # 배열 x를 퀵 정렬\n",
    "\n",
    "print('오름차순으로 정렬했습니다.')\n",
    "for i in range(len(x)):\n",
    "    print(f'x[{i}] = {x[i]}')"
   ]
  },
  {
   "cell_type": "code",
   "execution_count": 27,
   "id": "015aa114",
   "metadata": {},
   "outputs": [
    {
     "name": "stdout",
     "output_type": "stream",
     "text": [
      "퀵 정렬을 합니다(원소 수가 9개 미만이면 단순 삽입 정렬).\n",
      "오름차순으로 정렬했습니다.\n",
      "x[0] = 1\n",
      "x[1] = 2\n",
      "x[2] = 3\n",
      "x[3] = 4\n",
      "x[4] = 5\n",
      "x[5] = 6\n",
      "x[6] = 7\n",
      "x[7] = 8\n",
      "x[8] = 9\n"
     ]
    }
   ],
   "source": [
    "# 퀵 정렬 알고리즘 개선\n",
    "# 원소의 개수가 작다면 퀵 알고리즘이 그다지 빠르지 않기 때문에 길이가 9 미만인 경우 단순 삽입 정렬 사용\n",
    "# 그룹의 맨 처음 값과 중앙의 값과 마지막 값을 오름차순 정렬하여 피벗 값을 지정 추가  \n",
    "\n",
    "from typing import MutableSequence\n",
    "\n",
    "def sort3(a: MutableSequence, idx1: int, idx2: int, idx3: int):\n",
    "    \"\"\"a[idx1], a[idx2], a[idx3]을 오름차순으로 정렬하고 가운데 값의 인덱스를 반환\"\"\"\n",
    "    if a[idx2] < a[idx1]: a[idx2], a[idx1] = a[idx1], a[idx2]\n",
    "    if a[idx3] < a[idx2]: a[idx3], a[idx2] = a[idx2], a[idx3]\n",
    "    if a[idx2] < a[idx1]: a[idx2], a[idx1] = a[idx1], a[idx2]\n",
    "    return idx2\n",
    "\n",
    "def insertion_sort(a: MutableSequence, left: int, right: int) -> None:\n",
    "    \"\"\"a[left] ~ a[right]를 단순 삽입 정렬\"\"\"\n",
    "    for i in range(left + 1, right + 1):\n",
    "        j = i\n",
    "        tmp = a[i]\n",
    "        while j > 0 and a[j - 1] > tmp:\n",
    "            a[j] = a[j - 1]\n",
    "            j -= 1\n",
    "        a[j] = tmp\n",
    "\n",
    "def qsort2(a: MutableSequence, left: int, right: int) -> None:\n",
    "    \"\"\"a[left] ~ a[right]를 퀵 정렬\"\"\"\n",
    "    if right - left < 9:            # 원소 수가 9개 미만이면 단순 삽입 정렬을 호출\n",
    "        insertion_sort(a, left, right)\n",
    "    else:                           # 원소 수가 9개 이상이면 퀵 정렬을 수행\n",
    "        pl = left                   # 왼쪽 커서\n",
    "        pr = right                  # 오른쪽 커서\n",
    "        m = sort3(a, pl, (pl + pr) // 2, pr)\n",
    "        x = a[m]\n",
    "\n",
    "        a[m], a[pr - 1] = a[pr - 1], a[m]\n",
    "        pl += 1\n",
    "        pr -= 2\n",
    "        while pl <= pr:\n",
    "            while a[pl] < x: pl += 1\n",
    "            while a[pr] > x: pr -= 1\n",
    "            if pl <= pr:\n",
    "                a[pl], a[pr] = a[pr], a[pl]\n",
    "                pl += 1\n",
    "                pr -= 1\n",
    "\n",
    "        if left < pr: qsort2(a, left, pr)\n",
    "        if pl < right: qsort2(a, pl, right)\n",
    "\n",
    "def quick_sort2(a: MutableSequence) -> None:\n",
    "    \"\"\"퀵 정렬\"\"\"\n",
    "    qsort2(a, 0, len(a) - 1)\n",
    "\n",
    "\n",
    "print('퀵 정렬을 합니다(원소 수가 9개 미만이면 단순 삽입 정렬).')\n",
    "# num = int(input('원소 수를 입력하세요.: '))\n",
    "# x = [None] * num   # 원소 수가 num인 배열을 생성\n",
    "\n",
    "# for i in range(num):\n",
    "#     x[i] = int(input(f'x[{i}]: '))\n",
    "x = [5, 7, 1, 4, 6, 2, 3, 9, 8]\n",
    "\n",
    "quick_sort2(x)      # 배열 x를 퀵 정렬\n",
    "\n",
    "print('오름차순으로 정렬했습니다.')\n",
    "for i in range(len(x)):\n",
    "    print(f'x[{i}] = {x[i]}')"
   ]
  },
  {
   "cell_type": "code",
   "execution_count": 42,
   "id": "e560b516",
   "metadata": {},
   "outputs": [],
   "source": [
    "from random import randint\n",
    "import copy\n",
    "\n",
    "x = []\n",
    "\n",
    "for i in range(10000):\n",
    "    x.append(randint(1, 1000000000))"
   ]
  },
  {
   "cell_type": "code",
   "execution_count": 43,
   "id": "2b86b568",
   "metadata": {},
   "outputs": [],
   "source": [
    "x2 = copy.deepcopy(x)\n",
    "quick_sort(x2)"
   ]
  },
  {
   "cell_type": "code",
   "execution_count": 44,
   "id": "8730cd9a",
   "metadata": {},
   "outputs": [],
   "source": [
    "x2 = copy.deepcopy(x)\n",
    "quick_sort2(x2)"
   ]
  }
 ],
 "metadata": {
  "kernelspec": {
   "display_name": "Python 3",
   "language": "python",
   "name": "python3"
  },
  "language_info": {
   "codemirror_mode": {
    "name": "ipython",
    "version": 3
   },
   "file_extension": ".py",
   "mimetype": "text/x-python",
   "name": "python",
   "nbconvert_exporter": "python",
   "pygments_lexer": "ipython3",
   "version": "3.13.2"
  }
 },
 "nbformat": 4,
 "nbformat_minor": 5
}
