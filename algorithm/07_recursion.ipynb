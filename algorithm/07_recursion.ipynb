{
 "cells": [
  {
   "cell_type": "markdown",
   "id": "1358f3b2",
   "metadata": {},
   "source": [
    "# 재귀\n",
    "- 어떤 이벤트에서 자기 자신을 포함하고 다시 자기 자신을 사용하여 정의되는 경우를 의미\n",
    "- 재귀를 효과적으로 사용하면 프로그램을 간결하고 효율성이 좋게 작성이 가능"
   ]
  },
  {
   "cell_type": "code",
   "execution_count": 1,
   "id": "c719e72e",
   "metadata": {},
   "outputs": [
    {
     "data": {
      "text/plain": [
       "120"
      ]
     },
     "execution_count": 1,
     "metadata": {},
     "output_type": "execute_result"
    }
   ],
   "source": [
    "# 재귀 함수 -> 팩토리얼 함수 \n",
    "# 재귀 함수를 사용하지 않는 경우\n",
    "def fectorial(n : int) -> int:\n",
    "    result = n\n",
    "    for i in range(n-1, 0, -1):\n",
    "        result *= i\n",
    "    return result\n",
    "\n",
    "fectorial(5)\n",
    "    "
   ]
  },
  {
   "cell_type": "code",
   "execution_count": null,
   "id": "85f2109e",
   "metadata": {},
   "outputs": [
    {
     "data": {
      "text/plain": [
       "6"
      ]
     },
     "execution_count": 3,
     "metadata": {},
     "output_type": "execute_result"
    }
   ],
   "source": [
    "def fectorial2(n : int) -> int:\n",
    "    if n > 0:\n",
    "        return n * fectorial2(n - 1)\n",
    "    else:\n",
    "        return 1\n",
    "\n",
    "fectorial2(3)\n",
    "# n은 3 -> if조건식이 참 -> return 3 * fectorial2(2)\n",
    "    # n은 2 -> if 조건식 참 -> return 2 * fectorial2(1)\n",
    "        # n은 1 -> if 조건식 참 -> return 1 * fectorial2(0)\n",
    "            # n은 0 -> 조건식 거짓  -> return 1"
   ]
  },
  {
   "cell_type": "code",
   "execution_count": null,
   "id": "3f6d7ecb",
   "metadata": {},
   "outputs": [
    {
     "name": "stdout",
     "output_type": "stream",
     "text": [
      "1\n",
      "2\n",
      "3\n",
      "1\n"
     ]
    }
   ],
   "source": [
    "def recur(n : int) -> int:\n",
    "    if n > 0 :\n",
    "        recur(n-1)\n",
    "        print(n)\n",
    "        recur(n-2)\n",
    "\n",
    "recur(3)\n",
    "# n = 3 -> 조건식은 참 ->  recur(2) 호출 \n",
    "    # -> n = 2 -> 조건식은 참 -> recur(1) 호출\n",
    "        # -> n = 1 -> 조건식은 참 -> recur(0) 호출 \n",
    "            # -> n=0 조건식이 거짓 -> recur(0)종료\n",
    "        # print(n) -> 1이 출력 -> recur(-1) 호출\n",
    "            #  -> n = -1 -> 조건식 거짓 -> recur(-1)종료\n",
    "    # -> print(n) -> 2가 출력 -> recur(0) 호출 \n",
    "        # -> n = 0 조건식 거짓 함수 종료\n",
    "# -> print(n) -> 3이 출력 -> recur(1) 호출 \n",
    "    # -> n = 1 -> 조건식은 참 -> recur(0) 호출 \n",
    "        # -> n=0 조건식이 거짓 -> recur(0)종료\n",
    "    # print(n) -> 1이 출력 -> recur(-1) 호출\n",
    "        #  -> n = -1 -> 조건식 거짓 -> recur(-1)종"
   ]
  },
  {
   "cell_type": "code",
   "execution_count": 5,
   "id": "4a706400",
   "metadata": {},
   "outputs": [
    {
     "name": "stdout",
     "output_type": "stream",
     "text": [
      "1\n",
      "2\n",
      "3\n",
      "1\n"
     ]
    }
   ],
   "source": [
    "# stack을 이용해서 재귀함수와 같은 결과를 출력 \n",
    "from modules.stack import FixedStack as Stack\n",
    "# modules 안에 stack이라는 모듈을 선택하여 그 안에 FixedStack 기능을 로드 \n",
    "\n",
    "def recur_stack(n : int) -> int:\n",
    "    s = Stack(n)\n",
    "\n",
    "    while True:\n",
    "        if n > 0 :\n",
    "            s.push(n)   # n값을 푸시 \n",
    "            n -= 1\n",
    "            continue\n",
    "        if not s.is_empty():\n",
    "            # 스택이 비어있지 않다면 \n",
    "            n = s.pop()\n",
    "            print(n)\n",
    "            n -= 2\n",
    "            continue\n",
    "        # 위의 두개의 조건식이 모두 거짓이라면 반복문을 종료\n",
    "        break\n",
    "\n",
    "recur_stack(3)"
   ]
  },
  {
   "cell_type": "code",
   "execution_count": 8,
   "id": "f48fb4c6",
   "metadata": {},
   "outputs": [
    {
     "name": "stdout",
     "output_type": "stream",
     "text": [
      "두 정수값의 최대 공약수는 3 입니다. \n"
     ]
    }
   ],
   "source": [
    "# 유클리드 호제법\n",
    "# 두 수 a와 b의 최대공약수는 b와 a%b의 최대공약수와 같다. \n",
    "# 이 과정을 나머지가 0이 될때까지 반복하면 마지막에 나온 b의 값이 최대공약수가 된다. \n",
    "def gcd(x : int, y: int) -> int:\n",
    "    if y == 0:\n",
    "        return x\n",
    "    else:\n",
    "        return gcd(y, x % y)\n",
    "\n",
    "x = int(input(\"첫번째 정수의 값을 입력하시오\"))\n",
    "y = int(input(\"두번째 정수의 값을 입력하시오\"))\n",
    "\n",
    "print(f\"두 정수값의 최대 공약수는 {gcd(x, y)} 입니다. \")\n",
    "    "
   ]
  },
  {
   "cell_type": "code",
   "execution_count": null,
   "id": "75828431",
   "metadata": {},
   "outputs": [],
   "source": [
    "# 8퀸 문제 \n",
    "# 8개의 퀸이 서로 공격하여 잡을수 없도록 8 x 8 체스판에 배치\n",
    "# 8 x 8 에 8개의 퀸을 배치하는 경우의 수는 178,462,987,647,760(약 178조의 경우의 수)\n",
    "# 조건1 : 하나의 열에 하나의 퀸을 배치하는 경우의 수는 13,777,216 (약 1370만의 경우의 수)\n",
    "\n",
    "# 체스판의 배열 수 \n",
    "num = int(input(\"체스판의 행 열의 수를 입력하시오 : \"))\n",
    "\n",
    "pos = [0] * num  # 각 열에서 퀸의 위치를 출력\n",
    "\n",
    "def put() -> None:\n",
    "    \"\"\"각 열에 배치한 퀸의 위치를 출력\"\"\"\n",
    "    for j in range(num):\n",
    "        for i in range(num):\n",
    "            print('o' if pos[i] == j else 'x', end=' ')\n",
    "        print()\n",
    "    print()\n",
    "\n",
    "def set(i: int) -> None:\n",
    "    \"\"\"i 열에 퀸을 배치\"\"\"\n",
    "    for j in range(num):\n",
    "        pos[i] = j   # 퀸을 j행에 배치\n",
    "        if i == num-1 :  # 모든 열에 배치를 종료\n",
    "            put()\n",
    "        else:\n",
    "            set(i + 1)  # 다음 열에 퀸을 배치\n",
    "\n",
    "set(0)  # 0 열에 퀸을 배치"
   ]
  },
  {
   "cell_type": "code",
   "execution_count": null,
   "id": "5042932e",
   "metadata": {},
   "outputs": [],
   "source": [
    "# 조건2 : 각 행에 퀸을 1개만 배치하는 조합을 재귀적으로 나열하기\n",
    "# 체스판의 배열 수 \n",
    "num = int(input(\"체스판의 행 열의 수를 입력하시오 : \"))\n",
    "\n",
    "pos = [0] * num       # 각 열에서 퀸의 위치\n",
    "flag = [False] * num  # 각 행에 퀸을 배치했는지 체크\n",
    "\n",
    "def put() -> None:\n",
    "    \"\"\"각 열에 배치한 퀸의 위치를 출력\"\"\"\n",
    "    for j in range(num):\n",
    "        for i in range(num):\n",
    "            print('o' if pos[i] == j else 'x', end=' ')\n",
    "        print()\n",
    "    print()\n",
    "\n",
    "def set(i: int) -> None:\n",
    "    \"\"\"i 열의 알맞은 위치에 퀸을 배치\"\"\"\n",
    "    for j in range(num):\n",
    "        if not flag[j]:  # j 행에 퀸을 배치하지 않았으면\n",
    "            pos[i] = j   # 퀸을 j 행에 배치\n",
    "            if i == num-1:   # 모든 열에 퀸을 배치를 완료\n",
    "                put()\n",
    "            else:\n",
    "                flag[j] = True  # 해당 열에 퀸이 배치\n",
    "                set(i + 1)  # 다음 열에 퀸을 배치\n",
    "                # set(i + 1) 재귀가 끝나면 퀸을 j행에서 제거 해야되기때문에 False로 변환\n",
    "                # 이러한 필요하지 않은 분기를 없애서 불필요한 조합을 열거하지 않는 방법을 한정 작업이라 한다. \n",
    "                flag[j] = False \n",
    "\n",
    "set(0)  # 0열에 퀸을 배치"
   ]
  }
 ],
 "metadata": {
  "kernelspec": {
   "display_name": "Python 3",
   "language": "python",
   "name": "python3"
  },
  "language_info": {
   "codemirror_mode": {
    "name": "ipython",
    "version": 3
   },
   "file_extension": ".py",
   "mimetype": "text/x-python",
   "name": "python",
   "nbconvert_exporter": "python",
   "pygments_lexer": "ipython3",
   "version": "3.11.1"
  }
 },
 "nbformat": 4,
 "nbformat_minor": 5
}
