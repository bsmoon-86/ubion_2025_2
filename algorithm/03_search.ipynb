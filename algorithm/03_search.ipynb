{
 "cells": [
  {
   "cell_type": "markdown",
   "id": "34617f20",
   "metadata": {},
   "source": [
    "# 검색 알고리즘 \n",
    "- 데이터의 집합에서 원하는 값을 가진 원소를 찾는 방법\n",
    "\n",
    "### 선형 검색\n",
    "- 무작위로 늘어놓은 데이터를 데이터 집합에서 검색을 수행하는 방법 \n",
    "- 가장 기본적인 검색 방법"
   ]
  },
  {
   "cell_type": "code",
   "execution_count": 1,
   "id": "84efbd6a",
   "metadata": {},
   "outputs": [],
   "source": [
    "from typing import Any, Sequence"
   ]
  },
  {
   "cell_type": "code",
   "execution_count": null,
   "id": "badf2d95",
   "metadata": {},
   "outputs": [],
   "source": [
    "def seq_search(_list : Sequence, key : Any) -> int:\n",
    "    # _list 배열에서 key 데이터가 어느 위치에 존재하는가? 존재하지 않는다면 -1을 되돌려준다.\n",
    "    # while구문을 이용 -> _list의 길이가 가변 \n",
    "    i = 0\n",
    "    # 무한 반복 -> i의 값이 _list의 길이와 같다면 반복을 종료 -> _list의 길이의 +1만큼 반복 실행행\n",
    "    while True: # 무한 반복\n",
    "        if i == len(_list):\n",
    "            # i의 값이 _list 원소의 개수가 같아졌을때 -> key값이 _list에 존재하지 않는 경우\n",
    "            # return -> 되돌려준다(함수를 종료)\n",
    "            return -1\n",
    "        if _list[i] == key:\n",
    "            # 검색에 성공\n",
    "            return i\n",
    "        i += 1"
   ]
  },
  {
   "cell_type": "code",
   "execution_count": 4,
   "id": "6955406c",
   "metadata": {},
   "outputs": [
    {
     "name": "stdout",
     "output_type": "stream",
     "text": [
      "검색하려는 데이터가 존재하지 않습니다.\n"
     ]
    }
   ],
   "source": [
    "test_data = [10, 20, 30, 40]\n",
    "# input()함수 -> 입력한 데이터를 str의 형태로 되돌려주는 함수 \n",
    "test_key = int(input(\"test_data에서 찾으려는 값을 입력하시오\"))\n",
    "\n",
    "idx = seq_search(test_data, test_key)\n",
    "\n",
    "if idx == -1:\n",
    "    print(\"검색하려는 데이터가 존재하지 않습니다.\")\n",
    "else:\n",
    "    print(f\"검색 값은 {test_key}이고 위치는 {idx}입니다.\")\n"
   ]
  },
  {
   "cell_type": "code",
   "execution_count": null,
   "id": "01d2dfd0",
   "metadata": {},
   "outputs": [],
   "source": [
    "def seq_search2(_list : Sequence, key : Any) -> int:\n",
    "    # _list의 길이만큼 반복 실행 : 길이가 4라면 4번 반복\n",
    "    for i in range(0, len(_list)):\n",
    "        if _list[i] == key:\n",
    "            return i\n",
    "    return -1\n"
   ]
  },
  {
   "cell_type": "code",
   "execution_count": 6,
   "id": "cbb25cf3",
   "metadata": {},
   "outputs": [
    {
     "name": "stdout",
     "output_type": "stream",
     "text": [
      "검색 값은 30이고 위치는 2입니다.\n"
     ]
    }
   ],
   "source": [
    "test_data = [10, 20, 30, 40]\n",
    "# input()함수 -> 입력한 데이터를 str의 형태로 되돌려주는 함수 \n",
    "test_key = int(input(\"test_data에서 찾으려는 값을 입력하시오\"))\n",
    "\n",
    "idx = seq_search2(test_data, test_key)\n",
    "\n",
    "if idx == -1:\n",
    "    print(\"검색하려는 데이터가 존재하지 않습니다.\")\n",
    "else:\n",
    "    print(f\"검색 값은 {test_key}이고 위치는 {idx}입니다.\")"
   ]
  },
  {
   "cell_type": "markdown",
   "id": "c137753a",
   "metadata": {},
   "source": [
    "# 보초법\n",
    "- 검색하려는 배열에 마지막에 key값을 추가 -> 이 값을 보초값(sentinel)\n",
    "- 보초값까지 스캔을 하면 검색을 종료 "
   ]
  },
  {
   "cell_type": "code",
   "execution_count": 7,
   "id": "b2c5eac9",
   "metadata": {},
   "outputs": [
    {
     "name": "stdout",
     "output_type": "stream",
     "text": [
      "[[1, 2], [3, 4]]\n",
      "[[1, 2], [3, 4]]\n",
      "[[1, 2], [3, 4]]\n"
     ]
    }
   ],
   "source": [
    "# 얕은 복사 / 깊은 복사 \n",
    "# 데이터프레임.copy()  -> \n",
    "# df1 = df //  df2 = df.copy()  -> df1은 df가 변경되면 df1도 같이 변경이 되지만 df2는 변경되지 않는다. \n",
    "\n",
    "# list에서도 copy() 함수가 존재 -> 얕은 복사 (데이터가 같이 변경)\n",
    "# 깉은 복사를 하기 위해서는 copy 라이브러리를 호출\n",
    "import copy\n",
    "\n",
    "original = [ [1,2], [3,4] ]\n",
    "\n",
    "# 얕은 복사 \n",
    "copy_data = original.copy()\n",
    "\n",
    "# 깉은 복사 \n",
    "deep_copy_data = copy.deepcopy(original)\n",
    "\n",
    "print(original)\n",
    "print(copy_data)\n",
    "print(deep_copy_data)"
   ]
  },
  {
   "cell_type": "code",
   "execution_count": 10,
   "id": "cb8dd229",
   "metadata": {},
   "outputs": [
    {
     "name": "stdout",
     "output_type": "stream",
     "text": [
      "[[100, 2], [3, 999]]\n",
      "[[100, 2], [3, 999]]\n",
      "[[1, 0], [3, 4]]\n"
     ]
    }
   ],
   "source": [
    "# original를 변경 \n",
    "original[0][0] = 100\n",
    "# copy_data를 변경\n",
    "copy_data[1][1] = 999\n",
    "# deep_copy_data를 변경\n",
    "deep_copy_data[0][1] = 0\n",
    "\n",
    "print(original)\n",
    "print(copy_data)\n",
    "print(deep_copy_data)"
   ]
  },
  {
   "cell_type": "code",
   "execution_count": null,
   "id": "117e51a9",
   "metadata": {},
   "outputs": [],
   "source": [
    "from typing import Sequence, Any\n",
    "from copy import deepcopy\n",
    "\n",
    "def seq_search3(_list : Sequence, key: Any) -> int:\n",
    "    # _list에는 [10, 20, 30, 40] 대입\n",
    "    # key가 60이라 가정\n",
    "    # 원본 데이터를 변경하지 않기 위해서 깊은 복사\n",
    "    a = deepcopy(_list)\n",
    "    # a는 [10, 20, 30, 40] 깊은 복사\n",
    "    # 보초값을 대입 \n",
    "    a.append(key)\n",
    "    # a는 [10, 20, 30, 40, 60]\n",
    "\n",
    "    # 반복문에서 사용하는 조건식이 줄어들었기 때문에 cpu의 효율을 늘릴수 있다\n",
    "    # python과 같은 인터프리터 언어에서는 성능이 좋지 않다.\n",
    "\n",
    "    i = 0 \n",
    "    while True:\n",
    "        # i 가 0일때 -> if a[0] == 60 조건식은 거짓 -> 반복 유지\n",
    "        # i 가 1일때 -> if a[1] == 60 조건식은 거짓 -> 반복 유지  \n",
    "        # ....\n",
    "        # i 가 4일때 -> if a[4] == 60 조건식은 참 -> 반복이 종료\n",
    "        if a[i] == key:\n",
    "            break\n",
    "        i += 1\n",
    "    # if else 구문 한줄로 표기 -> \"참인경우결과\" if  조건식 else \"거짓인경우결과\"\n",
    "    # i는 4 len(_list)는 4 -> 조건식이 참 -> -1을 되돌려준다.\n",
    "    return -1 if i == len(_list) else i"
   ]
  },
  {
   "cell_type": "code",
   "execution_count": 12,
   "id": "40e25aa3",
   "metadata": {},
   "outputs": [
    {
     "name": "stdout",
     "output_type": "stream",
     "text": [
      "검색 값은 30이고 위치는 2입니다.\n"
     ]
    }
   ],
   "source": [
    "test_data = [10, 20, 30, 40]\n",
    "# input()함수 -> 입력한 데이터를 str의 형태로 되돌려주는 함수 \n",
    "test_key = int(input(\"test_data에서 찾으려는 값을 입력하시오\"))\n",
    "\n",
    "idx = seq_search3(test_data, test_key)\n",
    "\n",
    "if idx == -1:\n",
    "    print(\"검색하려는 데이터가 존재하지 않습니다.\")\n",
    "else:\n",
    "    print(f\"검색 값은 {test_key}이고 위치는 {idx}입니다.\")"
   ]
  },
  {
   "cell_type": "code",
   "execution_count": null,
   "id": "657976d1",
   "metadata": {},
   "outputs": [
    {
     "name": "stdout",
     "output_type": "stream",
     "text": [
      "일반 검색 : 9.830325599992648\n",
      "보초 검색 : 27.496187500015367\n"
     ]
    }
   ],
   "source": [
    "# 보초법이 python 에서의 효율이 좋은가?\n",
    "import timeit \n",
    "\n",
    "setup = \"\"\"\n",
    "\n",
    "from typing import Sequence, Any\n",
    "from copy import deepcopy\n",
    "\n",
    "def seq_search(_list : Sequence, key : Any) -> int:\n",
    "    i = 0\n",
    "    while True: # 무한 반복\n",
    "        if i == len(_list):\n",
    "            return -1\n",
    "        if _list[i] == key:\n",
    "            return i\n",
    "        i += 1\n",
    "\n",
    "def seq_search3(_list : Sequence, key: Any) -> int:\n",
    "    a = deepcopy(_list)\n",
    "    a.append(key)\n",
    "\n",
    "\n",
    "    i = 0 \n",
    "    while True:\n",
    "        if a[i] == key:\n",
    "            break\n",
    "        i += 1\n",
    "    return -1 if i == len(_list) else i\n",
    "\n",
    "a = list(range(10000))\n",
    "key = 9999\n",
    "\n",
    "\"\"\"\n",
    "\n",
    "# 테스트를 돌려서 실행 시간을 확인 \n",
    "normal_time = timeit.timeit(\"seq_search(a, key)\", setup=setup, number=1000)\n",
    "sentinel_time = timeit.timeit('seq_search3(a, key)', setup=setup, number=1000)\n",
    "\n",
    "print(f\"일반 검색 : {normal_time}\")\n",
    "print(f\"보초 검색 : {sentinel_time}\")\n",
    "\n",
    "# 보초 검색이 효율적이지 않은 이유\n",
    "# deepcopy() 함수와 append()함수를 이용하면서 성능이 떨어지게 된다. "
   ]
  },
  {
   "cell_type": "markdown",
   "id": "2425e770",
   "metadata": {},
   "source": [
    "# 이진 검색\n",
    "- 배열의 원소가 오름차순 정렬이거나 내림차순 정렬로 이루어진 경우 선형 검색보다 빠르게 검색이 가능\n",
    "- 배열에서 중앙의 원소를 기준으로 검색 대상의 범위를 변경하여 검색"
   ]
  },
  {
   "cell_type": "code",
   "execution_count": 22,
   "id": "7a8037cc",
   "metadata": {},
   "outputs": [],
   "source": [
    "from typing import Sequence, Any\n",
    "\n",
    "# 반복횟수를 확인\n",
    "# 전역 변수 counter 생성 \n",
    "counter = 0\n",
    "\n",
    "def bin_search(_list : Sequence, key : Any) -> int:\n",
    "    # 검색범위 처음 인덱스 \n",
    "    pl = 0\n",
    "    # 검색범위의 마지막 인덱스\n",
    "    pr = len(_list) - 1\n",
    "    # 전역 변수 counter를 사용하겠다. 지정\n",
    "    global counter\n",
    "\n",
    "    print('   |', end='')\n",
    "    for i in range(len(_list)):\n",
    "        print(f\"{i : 4}\", end='')\n",
    "    print()\n",
    "    print('---+' + (4 * len(_list) + 2) * '-')\n",
    "\n",
    "    while True:\n",
    "        # 반복 실행이 될때마다 counter를 1씩 증가\n",
    "        counter += 1\n",
    "        # 중앙 원소의 인덱스 \n",
    "        pc = (pl + pr) // 2\n",
    "        print('   |', end='')\n",
    "\n",
    "        if pl != pc :\n",
    "            print( (pl * 4 + 1) * ' ' + '<-' + ((pc-pl) * 4) * ' ' + '+', end='' )\n",
    "        else:\n",
    "            print( (pc * 4 + 1) * ' ' + '<+', end = '' )\n",
    "        if pc != pr:\n",
    "            print( ((pr - pc) * 4 - 2) * ' ' + '->')\n",
    "        else:\n",
    "            print('->')\n",
    "        print(f'{pc:3}|', end='')\n",
    "        for i in range(len(_list)):\n",
    "            print(f\"{_list[i] : 4}\", end= '')\n",
    "        print('\\n    |')\n",
    "\n",
    "        # 조건식 중앙원소의 값과 key값이 같은 경우 \n",
    "        if _list[pc] == key:\n",
    "            # 검색이 성공하는 경우우\n",
    "            return pc\n",
    "        # 중앙 원소보다 key가 크다면 \n",
    "        elif _list[pc] < key:\n",
    "            # 검색의 범위를 뒤쪽의 절반으로 좁혀준다. \n",
    "            pl = pc + 1\n",
    "        # 중앙 원소보다 key가 작다면\n",
    "        else:\n",
    "            # 검색의 범위를 앞쪽의 절반으로 좁혀준다. \n",
    "            pr = pc - 1\n",
    "        # 검색이 실패하는 경우\n",
    "        if pl > pr:\n",
    "            break\n",
    "    return -1"
   ]
  },
  {
   "cell_type": "code",
   "execution_count": 25,
   "id": "db536981",
   "metadata": {},
   "outputs": [
    {
     "name": "stdout",
     "output_type": "stream",
     "text": [
      "   |   0   1   2   3   4   5   6   7   8   9  10\n",
      "---+----------------------------------------------\n",
      "   | <-                    +                  ->\n",
      "  5|   1   3   5   7   9  11  13  15  17  19  21\n",
      "    |\n",
      "   |                         <-        +      ->\n",
      "  8|   1   3   5   7   9  11  13  15  17  19  21\n",
      "    |\n",
      "검색하려는 값 17는 test_data에 인덱스 8에 존재\n",
      "총 반복 횟수는 2 이다\n"
     ]
    }
   ],
   "source": [
    "counter = 0\n",
    "test_data = list(range(1, 22, 2))\n",
    "key = int(input('검색하려는 값을 입력하시오'))\n",
    "\n",
    "idx = bin_search(test_data, key)\n",
    "\n",
    "if idx == -1:\n",
    "    print(\"검색하려는 값이 존재하지 않습니다.\")\n",
    "else:\n",
    "    print(f\"검색하려는 값 {key}는 test_data에 인덱스 {idx}에 존재\")\n",
    "\n",
    "print(f\"총 반복 횟수는 {counter} 이다\")"
   ]
  }
 ],
 "metadata": {
  "kernelspec": {
   "display_name": "Python 3",
   "language": "python",
   "name": "python3"
  },
  "language_info": {
   "codemirror_mode": {
    "name": "ipython",
    "version": 3
   },
   "file_extension": ".py",
   "mimetype": "text/x-python",
   "name": "python",
   "nbconvert_exporter": "python",
   "pygments_lexer": "ipython3",
   "version": "3.11.1"
  }
 },
 "nbformat": 4,
 "nbformat_minor": 5
}
