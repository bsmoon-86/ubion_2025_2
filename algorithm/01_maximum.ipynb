{
 "cells": [
  {
   "cell_type": "markdown",
   "id": "82ccf550",
   "metadata": {},
   "source": [
    "# max 함수\n",
    "- 특정 배열에서 최댓값을 출력하는 함수\n",
    "- 배열에 있는 원소들을 하나씩 확인하여 최댓값을 찾는다."
   ]
  },
  {
   "cell_type": "code",
   "execution_count": 2,
   "id": "1a6ab7d4",
   "metadata": {},
   "outputs": [],
   "source": [
    "from typing import Sequence, Any\n",
    "# 라이브러리 함수에서 매개변수에 힌트"
   ]
  },
  {
   "cell_type": "code",
   "execution_count": 3,
   "id": "04b8c81b",
   "metadata": {},
   "outputs": [],
   "source": [
    "def max_of(_list : Sequence) -> Any:\n",
    "    # _list는 Sequence타입을 넣어주면 된다. 힌트 제공\n",
    "    # Sequence는 list, tuple, btyes형 데이터를 의미\n",
    "    # Any는 제약이 없는 데이터형\n",
    "\n",
    "    # 여러개의 원소중에 첫번째 원소와 두번째 원소를 비교하여 큰 값을 최댓값으로 지정 \n",
    "    # 해당하는 작업을 반복하여 마지막 원소까지 \n",
    "\n",
    "    # 첫번째 원소를 최댓값에 대입 \n",
    "    result = _list[0]\n",
    "\n",
    "    # 두번째 원소부터 마지막 원소까지 반복 실행\n",
    "    for i in range(1, len(_list)):\n",
    "        # 조건식 : 최댓값과 원소의 값을 비교\n",
    "        if _list[i] > result:\n",
    "            # 최댓값을 변경 \n",
    "            result = _list[i]\n",
    "    # 반복문이 종료 한 뒤 결과값을 되돌려준다. \n",
    "    return result"
   ]
  },
  {
   "cell_type": "code",
   "execution_count": 4,
   "id": "aefef6f3",
   "metadata": {},
   "outputs": [
    {
     "name": "stdout",
     "output_type": "stream",
     "text": [
      "test_data의 최댓값은 50\n"
     ]
    }
   ],
   "source": [
    "test_data = [10, 50, 30, 20]\n",
    "\n",
    "print(f\"test_data의 최댓값은 {max_of(test_data)}\")"
   ]
  },
  {
   "cell_type": "code",
   "execution_count": 5,
   "id": "58cbd2c2",
   "metadata": {},
   "outputs": [
    {
     "name": "stdout",
     "output_type": "stream",
     "text": [
      "test_data2의 최댓값은 Y\n"
     ]
    }
   ],
   "source": [
    "test_data2 = ['A', 'F', 'D', 'Y']\n",
    "\n",
    "print(f\"test_data2의 최댓값은 {max_of(test_data2)}\")"
   ]
  },
  {
   "cell_type": "code",
   "execution_count": 6,
   "id": "101c9227",
   "metadata": {},
   "outputs": [],
   "source": [
    "from random import randint "
   ]
  },
  {
   "cell_type": "code",
   "execution_count": 8,
   "id": "0d28d000",
   "metadata": {},
   "outputs": [
    {
     "name": "stdout",
     "output_type": "stream",
     "text": [
      "random_data는 [796, 776, 647, 856, 817, 582, 736, 468, 815, 315, 901, 275, 390, 504, 69, 542, 692, 980, 888, 911, 969, 184, 48, 779, 888, 953, 4, 762, 57, 901]\n",
      "random_data에서 최댓값은 980\n"
     ]
    }
   ],
   "source": [
    "random_data = []\n",
    "\n",
    "for i in range(30):\n",
    "    random_data.append(randint(1, 1000))\n",
    "\n",
    "print(f\"random_data는 {random_data}\")\n",
    "print(f\"random_data에서 최댓값은 {max_of(random_data)}\")"
   ]
  },
  {
   "cell_type": "code",
   "execution_count": null,
   "id": "ab2bb70d",
   "metadata": {},
   "outputs": [],
   "source": []
  }
 ],
 "metadata": {
  "kernelspec": {
   "display_name": "Python 3",
   "language": "python",
   "name": "python3"
  },
  "language_info": {
   "codemirror_mode": {
    "name": "ipython",
    "version": 3
   },
   "file_extension": ".py",
   "mimetype": "text/x-python",
   "name": "python",
   "nbconvert_exporter": "python",
   "pygments_lexer": "ipython3",
   "version": "3.11.1"
  }
 },
 "nbformat": 4,
 "nbformat_minor": 5
}
